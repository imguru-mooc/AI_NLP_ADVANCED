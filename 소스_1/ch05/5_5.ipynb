{
 "cells": [
  {
   "cell_type": "markdown",
   "metadata": {},
   "source": [
    "### RNNLM 구현"
   ]
  },
  {
   "cell_type": "code",
   "execution_count": 13,
   "metadata": {},
   "outputs": [
    {
     "name": "stdout",
     "output_type": "stream",
     "text": [
      "(1, 3)\n",
      "[1]\n",
      "(1,)\n",
      "[0 1 2 3]\n",
      "[[0 1 2 3]]\n"
     ]
    }
   ],
   "source": [
    "import numpy as np\n",
    "xs = np.array([[1,2,3]])\n",
    "print(xs.shape)\n",
    "print(xs[:,0])\n",
    "print(xs[:,0].shape)\n",
    "W = np.arange(28).reshape(7,4)\n",
    "print(W[0])\n",
    "print(W[[0]])"
   ]
  },
  {
   "cell_type": "code",
   "execution_count": 17,
   "metadata": {},
   "outputs": [
    {
     "name": "stdout",
     "output_type": "stream",
     "text": [
      "[[1]\n",
      " [2]\n",
      " [3]]\n"
     ]
    }
   ],
   "source": [
    "a = np.array([1,2,3])\n",
    "a = a.reshape(-1,1)\n",
    "print(a)"
   ]
  },
  {
   "cell_type": "code",
   "execution_count": 18,
   "metadata": {},
   "outputs": [
    {
     "name": "stdout",
     "output_type": "stream",
     "text": [
      "[[1]\n",
      " [2]\n",
      " [3]]\n"
     ]
    }
   ],
   "source": [
    "a = np.array([1,2,3])\n",
    "a = a[:, np.newaxis]\n",
    "print(a)"
   ]
  },
  {
   "cell_type": "code",
   "execution_count": 19,
   "metadata": {},
   "outputs": [
    {
     "name": "stdout",
     "output_type": "stream",
     "text": [
      "[[1 2 3]]\n"
     ]
    }
   ],
   "source": [
    "a = np.array([1,2,3])\n",
    "a = a[np.newaxis, :]\n",
    "print(a)"
   ]
  },
  {
   "cell_type": "code",
   "execution_count": 16,
   "metadata": {},
   "outputs": [
    {
     "data": {
      "text/plain": [
       "array([[3, 4, 5],\n",
       "       [5, 6, 7]])"
      ]
     },
     "execution_count": 16,
     "metadata": {},
     "output_type": "execute_result"
    }
   ],
   "source": [
    "a = np.array([[1,2],\n",
    "              [3,4]])\n",
    "# b = 3\n",
    "# b = np.array([2,2])\n",
    "b = np.array([[2],[2]])\n",
    "a+b   # (2,2) + (2,1) => (2,2) + (2,2)"
   ]
  },
  {
   "cell_type": "code",
   "execution_count": 10,
   "metadata": {},
   "outputs": [
    {
     "name": "stdout",
     "output_type": "stream",
     "text": [
      "[1. 1. 1.]\n",
      "(3,)\n",
      "(3, 1)\n",
      "(3, 1)\n"
     ]
    }
   ],
   "source": [
    "import numpy as np\n",
    "dx = np.arange(21).reshape(3,7)\n",
    "mask = np.ones((3,))\n",
    "print(mask)\n",
    "print(mask.shape)\n",
    "print(mask.reshape(3,1).shape)\n",
    "print(mask[:, np.newaxis].shape)\n",
    "\n",
    "dx * mask[:, np.newaxis]  # (3,7)*(3,1) => (3,7)*(3,7)"
   ]
  },
  {
   "cell_type": "code",
   "execution_count": 20,
   "metadata": {},
   "outputs": [],
   "source": [
    "import sys\n",
    "sys.path.append('..')\n",
    "import numpy as np\n",
    "from common.time_layers import *\n",
    "\n",
    "\n",
    "class SimpleRnnlm:\n",
    "    def __init__(self, vocab_size, wordvec_size, hidden_size):\n",
    "        V, D, H = vocab_size, wordvec_size, hidden_size\n",
    "        rn = np.random.randn\n",
    "\n",
    "        # 가중치 초기화\n",
    "        embed_W = (rn(V, D) / 100).astype('f')\n",
    "        rnn_Wx = (rn(D, H) / np.sqrt(D)).astype('f')\n",
    "        rnn_Wh = (rn(H, H) / np.sqrt(H)).astype('f')\n",
    "        rnn_b = np.zeros(H).astype('f')\n",
    "        affine_W = (rn(H, V) / np.sqrt(H)).astype('f')\n",
    "        affine_b = np.zeros(V).astype('f')\n",
    "\n",
    "        # 계층 생성\n",
    "        self.layers = [\n",
    "            TimeEmbedding(embed_W),\n",
    "            TimeRNN(rnn_Wx, rnn_Wh, rnn_b, stateful=True),\n",
    "            TimeAffine(affine_W, affine_b)\n",
    "        ]\n",
    "        self.loss_layer = TimeSoftmaxWithLoss()\n",
    "        self.rnn_layer = self.layers[1]\n",
    "\n",
    "        # 모든 가중치와 기울기를 리스트에 모은다.\n",
    "        self.params, self.grads = [], []\n",
    "        for layer in self.layers:\n",
    "            self.params += layer.params\n",
    "            self.grads += layer.grads\n",
    "\n",
    "    def forward(self, xs, ts):\n",
    "        for layer in self.layers:\n",
    "            xs = layer.forward(xs)\n",
    "        loss = self.loss_layer.forward(xs, ts)\n",
    "        return loss\n",
    "\n",
    "    def backward(self, dout=1):\n",
    "        dout = self.loss_layer.backward(dout)\n",
    "        for layer in reversed(self.layers):\n",
    "            dout = layer.backward(dout)\n",
    "        return dout\n",
    "\n",
    "    def reset_state(self):\n",
    "        self.rnn_layer.reset_state()"
   ]
  },
  {
   "cell_type": "markdown",
   "metadata": {},
   "source": [
    "### RNNLM의 학습 코드"
   ]
  },
  {
   "cell_type": "code",
   "execution_count": 21,
   "metadata": {},
   "outputs": [
    {
     "name": "stdout",
     "output_type": "stream",
     "text": [
      "(929589,)\n",
      "[ 0  1  2  3  4  5  6  7  8  9 10 11 12 13 14 15 16 17 18 19 20 21 22 23\n",
      " 24 25 26 27 28 29 30 31 32 33 34 35 36 37 38 27 24 39 26 40 41 42 26 43\n",
      " 32 44 45 46 24 47 26 27 28 29 48 49 41 42 50 51 52 53 54 55 35 36 37 42\n",
      " 56 57 58 59 24 35 60 42 61 62 63 64 65 66 67 68 69 70 35 71 72 42 73 74\n",
      " 75 35 46 42]\n",
      "<class 'dict'>\n",
      "pierre\n",
      "aer banknote berlitz calloway centrust cluett fromstein gitano guterman hydro-quebec ipo kia memotec mlx nahb punts rake regatta rubens sim snack-food ssangyong swapo wachter <eos> pierre <unk> N years old will join the board as a nonexecutive director nov. N <eos> mr. <unk> is chairman of <unk> n.v. the dutch publishing group <eos> rudolph <unk> N years old and former chairman of consolidated gold fields plc was named a nonexecutive director of this british industrial conglomerate <eos> a form of asbestos once used to make kent cigarette filters has caused a high percentage of cancer deaths among a group of \n",
      "4\n",
      "말뭉치 크기: 929589, 어휘 수: 10000\n",
      "10000\n"
     ]
    }
   ],
   "source": [
    "import sys\n",
    "sys.path.append('..')\n",
    "import matplotlib.pyplot as plt\n",
    "import numpy as np\n",
    "from common.optimizer import SGD\n",
    "from dataset import ptb\n",
    "from simple_rnnlm import SimpleRnnlm\n",
    "\n",
    "corpus, word_to_id, id_to_word = ptb.load_data('train')\n",
    "print(corpus.shape)\n",
    "print(corpus[:100])\n",
    "print(type(word_to_id))\n",
    "print(id_to_word[25])\n",
    "\n",
    "for i in range(100):\n",
    "    print(id_to_word[corpus[i]], end=' ')\n",
    "print()\n",
    "\n",
    "print(word_to_id['centrust'])\n",
    "\n",
    "vocab_size = int(max(corpus) + 1)\n",
    "print('말뭉치 크기: %d, 어휘 수: %d' % (len(corpus), vocab_size))\n",
    "print(len(word_to_id))"
   ]
  },
  {
   "cell_type": "code",
   "execution_count": 22,
   "metadata": {},
   "outputs": [
    {
     "name": "stdout",
     "output_type": "stream",
     "text": [
      "말뭉치 크기: 1000, 어휘 수: 418\n",
      "| 에폭 1 | 퍼플렉서티 401.80\n",
      "| 에폭 2 | 퍼플렉서티 292.92\n",
      "| 에폭 3 | 퍼플렉서티 228.45\n",
      "| 에폭 4 | 퍼플렉서티 217.49\n",
      "| 에폭 5 | 퍼플렉서티 205.79\n",
      "| 에폭 6 | 퍼플렉서티 202.63\n",
      "| 에폭 7 | 퍼플렉서티 199.69\n",
      "| 에폭 8 | 퍼플렉서티 197.52\n",
      "| 에폭 9 | 퍼플렉서티 191.85\n",
      "| 에폭 10 | 퍼플렉서티 193.71\n",
      "| 에폭 11 | 퍼플렉서티 189.95\n",
      "| 에폭 12 | 퍼플렉서티 192.96\n",
      "| 에폭 13 | 퍼플렉서티 190.57\n",
      "| 에폭 14 | 퍼플렉서티 190.77\n",
      "| 에폭 15 | 퍼플렉서티 190.24\n",
      "| 에폭 16 | 퍼플렉서티 186.88\n",
      "| 에폭 17 | 퍼플렉서티 184.53\n",
      "| 에폭 18 | 퍼플렉서티 181.07\n",
      "| 에폭 19 | 퍼플렉서티 183.38\n",
      "| 에폭 20 | 퍼플렉서티 184.93\n",
      "| 에폭 21 | 퍼플렉서티 181.99\n",
      "| 에폭 22 | 퍼플렉서티 178.65\n",
      "| 에폭 23 | 퍼플렉서티 177.81\n",
      "| 에폭 24 | 퍼플렉서티 177.55\n",
      "| 에폭 25 | 퍼플렉서티 178.13\n",
      "| 에폭 26 | 퍼플렉서티 176.56\n",
      "| 에폭 27 | 퍼플렉서티 172.04\n",
      "| 에폭 28 | 퍼플렉서티 170.76\n",
      "| 에폭 29 | 퍼플렉서티 165.85\n",
      "| 에폭 30 | 퍼플렉서티 165.68\n",
      "| 에폭 31 | 퍼플렉서티 165.49\n",
      "| 에폭 32 | 퍼플렉서티 160.93\n",
      "| 에폭 33 | 퍼플렉서티 158.58\n",
      "| 에폭 34 | 퍼플렉서티 157.82\n",
      "| 에폭 35 | 퍼플렉서티 153.75\n",
      "| 에폭 36 | 퍼플렉서티 148.90\n",
      "| 에폭 37 | 퍼플렉서티 148.60\n",
      "| 에폭 38 | 퍼플렉서티 140.20\n",
      "| 에폭 39 | 퍼플렉서티 136.11\n",
      "| 에폭 40 | 퍼플렉서티 133.51\n",
      "| 에폭 41 | 퍼플렉서티 133.70\n",
      "| 에폭 42 | 퍼플렉서티 127.74\n",
      "| 에폭 43 | 퍼플렉서티 121.03\n",
      "| 에폭 44 | 퍼플렉서티 117.69\n",
      "| 에폭 45 | 퍼플렉서티 115.11\n",
      "| 에폭 46 | 퍼플렉서티 112.15\n",
      "| 에폭 47 | 퍼플렉서티 105.54\n",
      "| 에폭 48 | 퍼플렉서티 100.84\n",
      "| 에폭 49 | 퍼플렉서티 99.19\n",
      "| 에폭 50 | 퍼플렉서티 94.58\n",
      "| 에폭 51 | 퍼플렉서티 89.79\n",
      "| 에폭 52 | 퍼플렉서티 86.80\n",
      "| 에폭 53 | 퍼플렉서티 80.09\n",
      "| 에폭 54 | 퍼플렉서티 78.57\n",
      "| 에폭 55 | 퍼플렉서티 74.72\n",
      "| 에폭 56 | 퍼플렉서티 70.98\n",
      "| 에폭 57 | 퍼플렉서티 67.81\n",
      "| 에폭 58 | 퍼플렉서티 64.71\n",
      "| 에폭 59 | 퍼플렉서티 61.92\n",
      "| 에폭 60 | 퍼플렉서티 58.06\n",
      "| 에폭 61 | 퍼플렉서티 55.00\n",
      "| 에폭 62 | 퍼플렉서티 51.70\n",
      "| 에폭 63 | 퍼플렉서티 47.74\n",
      "| 에폭 64 | 퍼플렉서티 47.20\n",
      "| 에폭 65 | 퍼플렉서티 44.55\n",
      "| 에폭 66 | 퍼플렉서티 42.01\n",
      "| 에폭 67 | 퍼플렉서티 39.68\n",
      "| 에폭 68 | 퍼플렉서티 36.59\n",
      "| 에폭 69 | 퍼플렉서티 34.61\n",
      "| 에폭 70 | 퍼플렉서티 32.85\n",
      "| 에폭 71 | 퍼플렉서티 31.23\n",
      "| 에폭 72 | 퍼플렉서티 29.17\n",
      "| 에폭 73 | 퍼플렉서티 28.30\n",
      "| 에폭 74 | 퍼플렉서티 25.48\n",
      "| 에폭 75 | 퍼플렉서티 24.95\n",
      "| 에폭 76 | 퍼플렉서티 23.15\n",
      "| 에폭 77 | 퍼플렉서티 22.34\n",
      "| 에폭 78 | 퍼플렉서티 20.65\n",
      "| 에폭 79 | 퍼플렉서티 19.23\n",
      "| 에폭 80 | 퍼플렉서티 18.40\n",
      "| 에폭 81 | 퍼플렉서티 17.76\n",
      "| 에폭 82 | 퍼플렉서티 16.89\n",
      "| 에폭 83 | 퍼플렉서티 15.86\n",
      "| 에폭 84 | 퍼플렉서티 14.92\n",
      "| 에폭 85 | 퍼플렉서티 14.18\n",
      "| 에폭 86 | 퍼플렉서티 13.63\n",
      "| 에폭 87 | 퍼플렉서티 12.73\n",
      "| 에폭 88 | 퍼플렉서티 12.38\n",
      "| 에폭 89 | 퍼플렉서티 12.10\n",
      "| 에폭 90 | 퍼플렉서티 11.00\n",
      "| 에폭 91 | 퍼플렉서티 10.62\n",
      "| 에폭 92 | 퍼플렉서티 10.04\n",
      "| 에폭 93 | 퍼플렉서티 9.60\n",
      "| 에폭 94 | 퍼플렉서티 9.35\n",
      "| 에폭 95 | 퍼플렉서티 8.97\n",
      "| 에폭 96 | 퍼플렉서티 8.33\n",
      "| 에폭 97 | 퍼플렉서티 8.10\n",
      "| 에폭 98 | 퍼플렉서티 7.65\n",
      "| 에폭 99 | 퍼플렉서티 7.04\n",
      "| 에폭 100 | 퍼플렉서티 6.88\n"
     ]
    },
    {
     "data": {
      "image/png": "[encoded data removed]",
      "text/plain": [
       "<Figure size 432x288 with 1 Axes>"
      ]
     },
     "metadata": {
      "needs_background": "light"
     },
     "output_type": "display_data"
    }
   ],
   "source": [
    "import sys\n",
    "sys.path.append('..')\n",
    "import matplotlib.pyplot as plt\n",
    "import numpy as np\n",
    "from common.optimizer import SGD\n",
    "from dataset import ptb\n",
    "from simple_rnnlm import SimpleRnnlm\n",
    "\n",
    "\n",
    "# 하이퍼파라미터 설정\n",
    "batch_size = 10\n",
    "wordvec_size = 100\n",
    "hidden_size = 100 # RNN의 은닉 상태 벡터의 원소 수\n",
    "time_size = 5     # Truncated BPTT가 한 번에 펼치는 시간 크기\n",
    "lr = 0.1\n",
    "max_epoch = 100\n",
    "\n",
    "# 학습 데이터 읽기(전체 중 1000개만)\n",
    "corpus, word_to_id, id_to_word = ptb.load_data('train')\n",
    "# print('말뭉치 크기: %d, 어휘 수: %d' % (corpus_size, vocab_size))\n",
    "corpus_size = 1000\n",
    "corpus = corpus[:corpus_size]\n",
    "vocab_size = int(max(corpus) + 1)\n",
    "\n",
    "xs = corpus[:-1]  # 입력\n",
    "ts = corpus[1:]   # 출력(정답 레이블)\n",
    "data_size = len(xs)\n",
    "print('말뭉치 크기: %d, 어휘 수: %d' % (corpus_size, vocab_size))\n",
    "\n",
    "# 학습 시 사용하는 변수\n",
    "max_iters = data_size // (batch_size * time_size)\n",
    "time_idx = 0\n",
    "total_loss = 0\n",
    "loss_count = 0\n",
    "ppl_list = []\n",
    "\n",
    "# 모델 생성\n",
    "model = SimpleRnnlm(vocab_size, wordvec_size, hidden_size)\n",
    "optimizer = SGD(lr)\n",
    "\n",
    "# 미니배치의 각 샘플의 읽기 시작 위치를 계산\n",
    "jump = (corpus_size - 1) // batch_size\n",
    "offsets = [i * jump for i in range(batch_size)]\n",
    "\n",
    "for epoch in range(max_epoch):\n",
    "    for iter in range(max_iters):\n",
    "        # 미니배치 취득\n",
    "        batch_x = np.empty((batch_size, time_size), dtype='i')\n",
    "        batch_t = np.empty((batch_size, time_size), dtype='i')\n",
    "        for t in range(time_size):\n",
    "            for i, offset in enumerate(offsets):\n",
    "                batch_x[i, t] = xs[(offset + time_idx) % data_size]\n",
    "                batch_t[i, t] = ts[(offset + time_idx) % data_size]\n",
    "            time_idx += 1\n",
    "\n",
    "        # 기울기를 구하여 매개변수 갱신\n",
    "        loss = model.forward(batch_x, batch_t)\n",
    "        model.backward()\n",
    "        optimizer.update(model.params, model.grads)\n",
    "        total_loss += loss\n",
    "        loss_count += 1\n",
    "\n",
    "    # 에폭마다 퍼플렉서티 평가\n",
    "    ppl = np.exp(total_loss / loss_count)\n",
    "    print('| 에폭 %d | 퍼플렉서티 %.2f'\n",
    "          % (epoch+1, ppl))\n",
    "    ppl_list.append(float(ppl))\n",
    "    total_loss, loss_count = 0, 0\n",
    "\n",
    "# 그래프 그리기\n",
    "x = np.arange(len(ppl_list))\n",
    "plt.plot(x, ppl_list, label='train')\n",
    "plt.xlabel('epochs')\n",
    "plt.ylabel('perplexity')\n",
    "plt.show()\n"
   ]
  },
  {
   "cell_type": "code",
   "execution_count": 23,
   "metadata": {},
   "outputs": [
    {
     "data": {
      "text/plain": [
       "array([-4.81262570e-04,  3.02396659e-02,  1.52453380e-02,  1.00252675e-02,\n",
       "        4.04203460e-02, -5.27097331e-03,  1.03128012e-02,  4.70167259e-04,\n",
       "        2.60652956e-02, -5.68745285e-03, -8.33731756e-05,  1.08723417e-02,\n",
       "        4.29834798e-02, -5.63965645e-03,  1.77494921e-02, -6.63868152e-03,\n",
       "       -5.62104350e-03, -1.33662503e-02, -1.46371238e-02, -4.60795462e-02,\n",
       "        1.53867714e-02, -5.43097919e-03, -3.75013016e-02,  1.95409488e-02,\n",
       "        5.71980095e-03, -5.48739545e-03,  2.16728672e-02, -2.79114698e-03,\n",
       "       -2.61404905e-02,  4.22959402e-02,  4.25251527e-03,  1.13041932e-02,\n",
       "        2.05904506e-02, -2.48622559e-02,  4.73129563e-02, -1.55052980e-02,\n",
       "        2.25556185e-04, -1.00465082e-02, -9.60528944e-03,  3.06100585e-02,\n",
       "       -3.44741307e-02,  2.03754138e-02,  2.43513286e-03, -4.75874171e-02,\n",
       "       -3.32227200e-02, -3.56742889e-02, -1.56985484e-02,  2.77729165e-02,\n",
       "       -2.21836660e-02, -4.29016277e-02,  3.25590037e-02, -1.34887537e-02,\n",
       "       -3.17368167e-03, -2.38902811e-02, -2.43819375e-02, -2.54906472e-02,\n",
       "       -4.85262722e-02, -5.69221657e-03,  8.13951530e-03, -6.02918095e-04,\n",
       "       -1.50835477e-02, -2.99321604e-04, -2.05091611e-02, -8.15689389e-04,\n",
       "        2.18546949e-02, -7.28223026e-02,  1.98768806e-02, -6.15568040e-03,\n",
       "        8.76082294e-03,  2.16837171e-02, -2.97665428e-02,  5.08348970e-03,\n",
       "       -9.81416740e-03,  3.11959581e-03, -6.41584471e-02, -1.97218806e-02,\n",
       "       -2.85596643e-02, -5.61461691e-03, -3.50726508e-02, -3.05924881e-02,\n",
       "        5.35086505e-02, -1.05156405e-02,  1.97180966e-03,  1.18876183e-02,\n",
       "       -1.65321808e-02, -2.42968928e-02, -4.10591364e-02, -3.10021965e-03,\n",
       "        2.61625112e-03,  1.34159159e-02,  5.85437417e-02,  8.56719387e-04,\n",
       "        1.28383730e-02,  1.54933752e-02,  8.43817182e-03, -2.66979057e-02,\n",
       "       -9.39129665e-03,  1.15329726e-02, -2.28133649e-02, -7.42072389e-02],\n",
       "      dtype=float32)"
      ]
     },
     "execution_count": 23,
     "metadata": {},
     "output_type": "execute_result"
    }
   ],
   "source": [
    "model.layers[0].W[1]"
   ]
  },
  {
   "cell_type": "markdown",
   "metadata": {},
   "source": [
    "### RNNLM의 Trainer 클래스"
   ]
  },
  {
   "cell_type": "code",
   "execution_count": null,
   "metadata": {},
   "outputs": [],
   "source": [
    "import sys\n",
    "sys.path.append('..')\n",
    "from common.optimizer import SGD\n",
    "from common.trainer import RnnlmTrainer\n",
    "from dataset import ptb\n",
    "from simple_rnnlm import SimpleRnnlm\n",
    "import matplotlib.pyplot as plt\n",
    "plt.rc('font', family='Malgun Gothic')\n",
    "\n",
    "# 하이퍼파라미터 설정\n",
    "batch_size = 10\n",
    "wordvec_size = 100\n",
    "hidden_size = 100  # RNN의 은닉 상태 벡터의 원소 수\n",
    "time_size = 5  # RNN을 펼치는 크기\n",
    "lr = 0.1\n",
    "max_epoch = 100\n",
    "\n",
    "# 학습 데이터 읽기\n",
    "corpus, word_to_id, id_to_word = ptb.load_data('train')\n",
    "corpus_size = 1000  # 테스트 데이터셋을 작게 설정\n",
    "corpus = corpus[:corpus_size]\n",
    "vocab_size = int(max(corpus) + 1)\n",
    "xs = corpus[:-1]  # 입력\n",
    "ts = corpus[1:]  # 출력（정답 레이블）\n",
    "\n",
    "# 모델 생성\n",
    "model = SimpleRnnlm(vocab_size, wordvec_size, hidden_size)\n",
    "optimizer = SGD(lr)\n",
    "trainer = RnnlmTrainer(model, optimizer)\n",
    "\n",
    "trainer.fit(xs, ts, max_epoch, batch_size, time_size)\n",
    "trainer.plot()\n"
   ]
  },
  {
   "cell_type": "code",
   "execution_count": null,
   "metadata": {},
   "outputs": [],
   "source": [
    "import numpy as np\n",
    "\n",
    "out = np.zeros((2,3,4))\n",
    "embed_W = np.arange(28).reshape(7,4)\n",
    "\n",
    "idx = [0,3]\n",
    "out[:,0,:] = embed_W[idx]\n",
    "idx = [1,4]\n",
    "out[:,1,:] = embed_W[idx]\n",
    "idx = [2,1]\n",
    "out[:,2,:] = embed_W[idx]\n",
    "\n",
    "out\n",
    "\n"
   ]
  },
  {
   "cell_type": "code",
   "execution_count": null,
   "metadata": {},
   "outputs": [],
   "source": [
    "import numpy as np\n",
    "\n",
    "xs = np.arange(18).reshape(2,3,3)\n",
    "print(xs)\n",
    "rx  = xs.reshape(2*3,-1)\n",
    "print(rx)"
   ]
  }
 ],
 "metadata": {
  "kernelspec": {
   "display_name": "Python 3 (ipykernel)",
   "language": "python",
   "name": "python3"
  },
  "language_info": {
   "codemirror_mode": {
    "name": "ipython",
    "version": 3
   },
   "file_extension": ".py",
   "mimetype": "text/x-python",
   "name": "python",
   "nbconvert_exporter": "python",
   "pygments_lexer": "ipython3",
   "version": "3.9.7"
  }
 },
 "nbformat": 4,
 "nbformat_minor": 4
}
