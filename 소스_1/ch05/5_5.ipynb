{
 "cells": [
  {
   "cell_type": "markdown",
   "metadata": {},
   "source": [
    "### RNNLM 구현"
   ]
  },
  {
   "cell_type": "code",
   "execution_count": 2,
   "metadata": {},
   "outputs": [
    {
     "name": "stdout",
     "output_type": "stream",
     "text": [
      "(1, 3)\n",
      "[1]\n",
      "(1,)\n",
      "[0 1 2 3]\n",
      "[[0 1 2 3]]\n"
     ]
    }
   ],
   "source": [
    "import numpy as np\n",
    "xs = np.array([[1,2,3]])\n",
    "print(xs.shape)\n",
    "print(xs[:,0])\n",
    "print(xs[:,0].shape)\n",
    "W = np.arange(28).reshape(7,4)\n",
    "print(W[0])\n",
    "print(W[[0]])"
   ]
  },
  {
   "cell_type": "code",
   "execution_count": null,
   "metadata": {},
   "outputs": [],
   "source": [
    "a = np.array([1,2,3])\n",
    "a = a.reshape(-1,1)\n",
    "print(a)"
   ]
  },
  {
   "cell_type": "code",
   "execution_count": 5,
   "metadata": {},
   "outputs": [
    {
     "name": "stdout",
     "output_type": "stream",
     "text": [
      "(3,)\n",
      "(3, 1)\n",
      "[[1]\n",
      " [1]\n",
      " [1]]\n"
     ]
    }
   ],
   "source": [
    "a = np.array([1,1,1])\n",
    "print(a.shape)\n",
    "a = a[:, np.newaxis]\n",
    "print(a.shape)\n",
    "print(a)"
   ]
  },
  {
   "cell_type": "code",
   "execution_count": 7,
   "metadata": {},
   "outputs": [
    {
     "name": "stdout",
     "output_type": "stream",
     "text": [
      "(3,)\n",
      "[[1 2 3]]\n",
      "(1, 3)\n"
     ]
    }
   ],
   "source": [
    "a = np.array([1,2,3])\n",
    "print(a.shape)\n",
    "a = a[np.newaxis, :]\n",
    "print(a)\n",
    "print(a.shape)"
   ]
  },
  {
   "cell_type": "code",
   "execution_count": null,
   "metadata": {},
   "outputs": [],
   "source": [
    "a = np.array([[1,2],\n",
    "              [3,4]])\n",
    "# b = 3\n",
    "# b = np.array([2,2])\n",
    "b = np.array([[2],[2]])\n",
    "a+b   # (2,2) + (2,1) => (2,2) + (2,2)"
   ]
  },
  {
   "cell_type": "code",
   "execution_count": 13,
   "metadata": {},
   "outputs": [
    {
     "name": "stdout",
     "output_type": "stream",
     "text": [
      "[1. 1. 0.]\n",
      "(3,)\n",
      "(3, 1)\n",
      "(3, 1)\n"
     ]
    },
    {
     "data": {
      "text/plain": [
       "array([[ 0.,  1.,  2.,  3.,  4.,  5.,  6.],\n",
       "       [ 7.,  8.,  9., 10., 11., 12., 13.],\n",
       "       [ 0.,  0.,  0.,  0.,  0.,  0.,  0.]])"
      ]
     },
     "execution_count": 13,
     "metadata": {},
     "output_type": "execute_result"
    }
   ],
   "source": [
    "import numpy as np\n",
    "dx = np.arange(21).reshape(3,7)\n",
    "mask = np.ones((3,))\n",
    "mask[2] = 0\n",
    "print(mask)\n",
    "print(mask.shape)\n",
    "print(mask.reshape(3,1).shape)\n",
    "print(mask[:, np.newaxis].shape)\n",
    "\n",
    "dx * mask[:, np.newaxis]  # (3,7)*(3,1) => (3,7)*(3,7)"
   ]
  },
  {
   "cell_type": "code",
   "execution_count": 14,
   "metadata": {},
   "outputs": [
    {
     "name": "stdout",
     "output_type": "stream",
     "text": [
      "[[ 0  1  2]\n",
      " [ 3  4  5]\n",
      " [ 6  7  8]\n",
      " [ 9 10 11]]\n",
      "[[0 1 2]\n",
      " [3 4 5]\n",
      " [6 7 8]]\n",
      "[0 1 2]\n"
     ]
    }
   ],
   "source": [
    "import sys\n",
    "sys.path.append('..')\n",
    "import numpy as np\n",
    "from common.time_layers import *\n",
    "\n",
    "D=4\n",
    "H=3\n",
    "rnn_Wx = np.arange(D*H).reshape(D,H)\n",
    "rnn_Wh = np.arange(H*H).reshape(H,H)\n",
    "rnn_b = np.arange(H)\n",
    "\n",
    "rnn = RNN(rnn_Wx, rnn_Wh, rnn_b)\n",
    "print(rnn.params[0])\n",
    "print(rnn.params[1])\n",
    "print(rnn.params[2])"
   ]
  },
  {
   "cell_type": "code",
   "execution_count": 25,
   "metadata": {},
   "outputs": [
    {
     "name": "stdout",
     "output_type": "stream",
     "text": [
      "<class 'tuple'>\n",
      "<class 'tuple'>\n",
      "<class 'int'>\n",
      "1 2\n",
      "1 2\n",
      "(3, 4)\n",
      "[[ 0  1  2  3]\n",
      " [ 4  5  6  7]\n",
      " [ 8  9 10 11]]\n",
      "[[0.45369879 0.47279946 0.85569916 0.46495293]\n",
      " [0.23725553 0.41315591 0.44251139 0.49639759]\n",
      " [0.47449955 0.75562638 0.11056381 0.33305221]]\n"
     ]
    }
   ],
   "source": [
    "a = (1,2)\n",
    "print(type(a))\n",
    "b = 1,2\n",
    "print(type(b))\n",
    "a,b = (1,2)\n",
    "print(type(a))\n",
    "\n",
    "def foo():\n",
    "    return 1,2\n",
    "\n",
    "a,b = foo()\n",
    "print(a,b)\n",
    "\n",
    "def foo(a,b):\n",
    "    print(a,b)\n",
    "    \n",
    "# foo((1,2))\n",
    "foo(*(1,2))\n",
    "\n",
    "\n",
    "a = np.arange(3*4).reshape(3,4)\n",
    "print(a.shape)\n",
    "b = np.random.rand(*a.shape) # 명시적인 튜플 언패킹\n",
    "print(a)\n",
    "print(b)"
   ]
  },
  {
   "cell_type": "code",
   "execution_count": 26,
   "metadata": {},
   "outputs": [
    {
     "name": "stdout",
     "output_type": "stream",
     "text": [
      "__init__() <__main__.AAA object at 0x000002A6A9635670>\n",
      "<__main__.AAA object at 0x000002A6A9635670>\n",
      "10\n"
     ]
    }
   ],
   "source": [
    "class AAA:\n",
    "    def __init__(self):\n",
    "        self.x = 10\n",
    "        y = 20\n",
    "        print('__init__()', self)\n",
    "        \n",
    "    def foo(self):\n",
    "        print(self.x)\n",
    "#         print(y)\n",
    "        \n",
    "a = AAA()\n",
    "print(a)\n",
    "a.foo()  "
   ]
  },
  {
   "cell_type": "code",
   "execution_count": 31,
   "metadata": {},
   "outputs": [
    {
     "name": "stdout",
     "output_type": "stream",
     "text": [
      "[[0.11686678 0.1858278  0.11444953 0.11465521 0.1641967  0.14409871\n",
      "  0.15990527]\n",
      " [0.20680741 0.1419546  0.18255003 0.04076485 0.05796703 0.33204228\n",
      "  0.03791379]\n",
      " [0.0502831  0.2693912  0.10059203 0.05828462 0.23813702 0.07507458\n",
      "  0.20823746]]\n",
      "[1. 1. 1.]\n",
      "[0.1858278  0.18255003 0.05828462]\n",
      "[-1.68293484 -1.70073101 -2.84241706]\n",
      "6.226082909832506\n",
      "2.075360969944169\n"
     ]
    }
   ],
   "source": [
    "def softmax(x):\n",
    "    if x.ndim == 2:\n",
    "        x = x - x.max(axis=1, keepdims=True)\n",
    "        x = np.exp(x)\n",
    "        x /= x.sum(axis=1, keepdims=True)\n",
    "    elif x.ndim == 1:\n",
    "        x = x - np.max(x)\n",
    "        x = np.exp(x) / np.sum(np.exp(x))\n",
    "\n",
    "    return x\n",
    "\n",
    "xs = np.random.randn(3,7)\n",
    "ts = np.array([1,2,3])\n",
    "ys = softmax(xs)\n",
    "print(ys)\n",
    "print(np.sum(ys, axis=1))\n",
    "\n",
    "print(ys[np.arange(1 * 3), ts])\n",
    "ls = np.log(ys[np.arange(1 * 3), ts])\n",
    "print(ls)\n",
    "loss = -np.sum(ls)\n",
    "print(loss)\n",
    "loss /= 3\n",
    "print(loss)"
   ]
  },
  {
   "cell_type": "code",
   "execution_count": 32,
   "metadata": {},
   "outputs": [
    {
     "name": "stdout",
     "output_type": "stream",
     "text": [
      "[1 1 1]\n",
      "(3,)\n",
      "(3, 1)\n",
      "[[1]\n",
      " [1]\n",
      " [1]]\n"
     ]
    }
   ],
   "source": [
    "mask = np.array([1,1,1])\n",
    "print(mask)\n",
    "print(mask.shape)\n",
    "# print(mask.reshape(-1,1).shape)\n",
    "print(mask[:, np.newaxis].shape)\n",
    "print(mask[:, np.newaxis])"
   ]
  },
  {
   "cell_type": "code",
   "execution_count": 36,
   "metadata": {},
   "outputs": [
    {
     "name": "stdout",
     "output_type": "stream",
     "text": [
      "[[ 0  1  2  3  4  5  6]\n",
      " [ 7  8  9 10 11 12 13]\n",
      " [14 15 16 17 18 19 20]]\n",
      "[[ 0  1  2  3  4  5  6]\n",
      " [ 7  8  9 10 11 12 13]\n",
      " [14 15 16 17 18 19 20]]\n"
     ]
    }
   ],
   "source": [
    "dx = np.arange(21).reshape(3,7)\n",
    "print(dx)\n",
    "mask = np.array([1,1,1])\n",
    "dx *= mask[:, np.newaxis]\n",
    "print(dx)"
   ]
  },
  {
   "cell_type": "code",
   "execution_count": 37,
   "metadata": {},
   "outputs": [
    {
     "name": "stdout",
     "output_type": "stream",
     "text": [
      "2\n",
      "1\n",
      "0\n"
     ]
    }
   ],
   "source": [
    "for i in reversed(range(3)):\n",
    "    print(i)"
   ]
  },
  {
   "cell_type": "code",
   "execution_count": 38,
   "metadata": {},
   "outputs": [],
   "source": [
    "import sys\n",
    "sys.path.append('..')\n",
    "import numpy as np\n",
    "from common.time_layers import *\n",
    "\n",
    "\n",
    "class SimpleRnnlm:\n",
    "    def __init__(self, vocab_size, wordvec_size, hidden_size):\n",
    "        V, D, H = vocab_size, wordvec_size, hidden_size\n",
    "        rn = np.random.randn\n",
    "\n",
    "        # 가중치 초기화\n",
    "        embed_W = (rn(V, D) / 100).astype('f')\n",
    "        rnn_Wx = (rn(D, H) / np.sqrt(D)).astype('f')\n",
    "        rnn_Wh = (rn(H, H) / np.sqrt(H)).astype('f')\n",
    "        rnn_b = np.zeros(H).astype('f')\n",
    "        affine_W = (rn(H, V) / np.sqrt(H)).astype('f')\n",
    "        affine_b = np.zeros(V).astype('f')\n",
    "\n",
    "        # 계층 생성\n",
    "        self.layers = [\n",
    "            TimeEmbedding(embed_W),\n",
    "            TimeRNN(rnn_Wx, rnn_Wh, rnn_b, stateful=True),\n",
    "            TimeAffine(affine_W, affine_b)\n",
    "        ]\n",
    "        self.loss_layer = TimeSoftmaxWithLoss()\n",
    "        self.rnn_layer = self.layers[1]\n",
    "\n",
    "        # 모든 가중치와 기울기를 리스트에 모은다.\n",
    "        self.params, self.grads = [], []\n",
    "        for layer in self.layers:\n",
    "            self.params += layer.params\n",
    "            self.grads += layer.grads\n",
    "\n",
    "    def forward(self, xs, ts):\n",
    "        for layer in self.layers:\n",
    "            xs = layer.forward(xs)\n",
    "        loss = self.loss_layer.forward(xs, ts)\n",
    "        return loss\n",
    "\n",
    "    def backward(self, dout=1):\n",
    "        dout = self.loss_layer.backward(dout)\n",
    "        for layer in reversed(self.layers):\n",
    "            dout = layer.backward(dout)\n",
    "        return dout\n",
    "\n",
    "    def reset_state(self):\n",
    "        self.rnn_layer.reset_state()"
   ]
  },
  {
   "cell_type": "markdown",
   "metadata": {},
   "source": [
    "### RNNLM의 학습 코드"
   ]
  },
  {
   "cell_type": "code",
   "execution_count": 47,
   "metadata": {},
   "outputs": [
    {
     "name": "stdout",
     "output_type": "stream",
     "text": [
      "(929589,)\n",
      "[ 0  1  2  3  4  5  6  7  8  9 10 11 12 13 14 15 16 17 18 19 20 21 22 23\n",
      " 24 25 26 27 28 29 30 31 32 33 34 35 36 37 38 27 24 39 26 40 41 42 26 43\n",
      " 32 44 45 46 24 47 26 27 28 29 48 49 41 42 50 51 52 53 54 55 35 36 37 42\n",
      " 56 57 58 59 24 35 60 42 61 62 63 64 65 66 67 68 69 70 35 71 72 42 73 74\n",
      " 75 35 46 42]\n",
      "<class 'dict'>\n",
      "10000\n",
      "will\n",
      "aer banknote berlitz calloway centrust cluett fromstein gitano guterman hydro-quebec ipo kia memotec mlx nahb punts rake regatta rubens sim snack-food ssangyong swapo wachter <eos> pierre <unk> N years old will join the board as a nonexecutive director nov. N <eos> mr. <unk> is chairman of <unk> n.v. the dutch publishing group <eos> rudolph <unk> N years old and former chairman of consolidated gold fields plc was named a nonexecutive director of this british industrial conglomerate <eos> a form of asbestos once used to make kent cigarette filters has caused a high percentage of cancer deaths among a group of \n",
      "4\n",
      "말뭉치 크기: 929589, 어휘 수: 10000\n",
      "10000\n"
     ]
    }
   ],
   "source": [
    "import sys\n",
    "sys.path.append('..')\n",
    "import matplotlib.pyplot as plt\n",
    "import numpy as np\n",
    "from common.optimizer import SGD\n",
    "from dataset import ptb\n",
    "from simple_rnnlm import SimpleRnnlm\n",
    "\n",
    "corpus, word_to_id, id_to_word = ptb.load_data('train')\n",
    "print(corpus.shape)\n",
    "print(corpus[:100])\n",
    "print(type(word_to_id))\n",
    "print(len(word_to_id))\n",
    "print(id_to_word[30])\n",
    "\n",
    "for i in range(100):\n",
    "    print(id_to_word[corpus[i]], end=' ')\n",
    "print()\n",
    "\n",
    "print(word_to_id['centrust'])\n",
    "\n",
    "vocab_size = int(max(corpus) + 1)\n",
    "print('말뭉치 크기: %d, 어휘 수: %d' % (len(corpus), vocab_size))\n",
    "print(len(word_to_id))"
   ]
  },
  {
   "cell_type": "code",
   "execution_count": 48,
   "metadata": {},
   "outputs": [
    {
     "name": "stdout",
     "output_type": "stream",
     "text": [
      "418\n",
      "말뭉치 크기: 1000, 어휘 수: 418\n",
      "| 에폭 1 | 퍼플렉서티 364.59\n",
      "| 에폭 2 | 퍼플렉서티 247.39\n",
      "| 에폭 3 | 퍼플렉서티 219.54\n",
      "| 에폭 4 | 퍼플렉서티 213.15\n",
      "| 에폭 5 | 퍼플렉서티 204.82\n",
      "| 에폭 6 | 퍼플렉서티 202.07\n",
      "| 에폭 7 | 퍼플렉서티 198.56\n",
      "| 에폭 8 | 퍼플렉서티 196.51\n",
      "| 에폭 9 | 퍼플렉서티 191.05\n",
      "| 에폭 10 | 퍼플렉서티 192.38\n",
      "| 에폭 11 | 퍼플렉서티 189.30\n",
      "| 에폭 12 | 퍼플렉서티 191.83\n",
      "| 에폭 13 | 퍼플렉서티 188.84\n",
      "| 에폭 14 | 퍼플렉서티 188.80\n",
      "| 에폭 15 | 퍼플렉서티 188.54\n",
      "| 에폭 16 | 퍼플렉서티 186.50\n",
      "| 에폭 17 | 퍼플렉서티 183.14\n",
      "| 에폭 18 | 퍼플렉서티 180.75\n",
      "| 에폭 19 | 퍼플렉서티 182.35\n",
      "| 에폭 20 | 퍼플렉서티 184.90\n",
      "| 에폭 21 | 퍼플렉서티 181.45\n",
      "| 에폭 22 | 퍼플렉서티 177.38\n",
      "| 에폭 23 | 퍼플렉서티 175.72\n",
      "| 에폭 24 | 퍼플렉서티 176.34\n",
      "| 에폭 25 | 퍼플렉서티 173.83\n",
      "| 에폭 26 | 퍼플렉서티 172.35\n",
      "| 에폭 27 | 퍼플렉서티 169.37\n",
      "| 에폭 28 | 퍼플렉서티 167.71\n",
      "| 에폭 29 | 퍼플렉서티 165.00\n",
      "| 에폭 30 | 퍼플렉서티 160.48\n",
      "| 에폭 31 | 퍼플렉서티 159.40\n",
      "| 에폭 32 | 퍼플렉서티 156.45\n",
      "| 에폭 33 | 퍼플렉서티 154.93\n",
      "| 에폭 34 | 퍼플렉서티 153.16\n",
      "| 에폭 35 | 퍼플렉서티 148.99\n",
      "| 에폭 36 | 퍼플렉서티 139.96\n",
      "| 에폭 37 | 퍼플렉서티 136.70\n",
      "| 에폭 38 | 퍼플렉서티 133.22\n",
      "| 에폭 39 | 퍼플렉서티 131.98\n",
      "| 에폭 40 | 퍼플렉서티 123.73\n",
      "| 에폭 41 | 퍼플렉서티 123.49\n",
      "| 에폭 42 | 퍼플렉서티 119.03\n",
      "| 에폭 43 | 퍼플렉서티 112.64\n",
      "| 에폭 44 | 퍼플렉서티 105.91\n",
      "| 에폭 45 | 퍼플렉서티 102.53\n",
      "| 에폭 46 | 퍼플렉서티 102.81\n",
      "| 에폭 47 | 퍼플렉서티 95.11\n",
      "| 에폭 48 | 퍼플렉서티 90.78\n",
      "| 에폭 49 | 퍼플렉서티 87.65\n",
      "| 에폭 50 | 퍼플렉서티 84.90\n",
      "| 에폭 51 | 퍼플렉서티 79.47\n",
      "| 에폭 52 | 퍼플렉서티 77.60\n",
      "| 에폭 53 | 퍼플렉서티 72.92\n",
      "| 에폭 54 | 퍼플렉서티 69.15\n",
      "| 에폭 55 | 퍼플렉서티 70.11\n",
      "| 에폭 56 | 퍼플렉서티 62.78\n",
      "| 에폭 57 | 퍼플렉서티 60.93\n",
      "| 에폭 58 | 퍼플렉서티 56.45\n",
      "| 에폭 59 | 퍼플렉서티 55.23\n",
      "| 에폭 60 | 퍼플렉서티 50.05\n",
      "| 에폭 61 | 퍼플렉서티 48.78\n",
      "| 에폭 62 | 퍼플렉서티 46.80\n",
      "| 에폭 63 | 퍼플렉서티 43.63\n",
      "| 에폭 64 | 퍼플렉서티 40.66\n",
      "| 에폭 65 | 퍼플렉서티 39.73\n",
      "| 에폭 66 | 퍼플렉서티 38.08\n",
      "| 에폭 67 | 퍼플렉서티 34.65\n",
      "| 에폭 68 | 퍼플렉서티 32.69\n",
      "| 에폭 69 | 퍼플렉서티 30.89\n",
      "| 에폭 70 | 퍼플렉서티 29.64\n",
      "| 에폭 71 | 퍼플렉서티 28.46\n",
      "| 에폭 72 | 퍼플렉서티 26.21\n",
      "| 에폭 73 | 퍼플렉서티 25.07\n",
      "| 에폭 74 | 퍼플렉서티 23.18\n",
      "| 에폭 75 | 퍼플렉서티 22.78\n",
      "| 에폭 76 | 퍼플렉서티 20.63\n",
      "| 에폭 77 | 퍼플렉서티 19.51\n",
      "| 에폭 78 | 퍼플렉서티 19.08\n",
      "| 에폭 79 | 퍼플렉서티 17.74\n",
      "| 에폭 80 | 퍼플렉서티 16.41\n",
      "| 에폭 81 | 퍼플렉서티 16.06\n",
      "| 에폭 82 | 퍼플렉서티 15.74\n",
      "| 에폭 83 | 퍼플렉서티 14.40\n",
      "| 에폭 84 | 퍼플렉서티 14.03\n",
      "| 에폭 85 | 퍼플렉서티 12.77\n",
      "| 에폭 86 | 퍼플렉서티 11.90\n",
      "| 에폭 87 | 퍼플렉서티 12.08\n",
      "| 에폭 88 | 퍼플렉서티 10.98\n",
      "| 에폭 89 | 퍼플렉서티 10.77\n",
      "| 에폭 90 | 퍼플렉서티 9.59\n",
      "| 에폭 91 | 퍼플렉서티 9.41\n",
      "| 에폭 92 | 퍼플렉서티 9.44\n",
      "| 에폭 93 | 퍼플렉서티 8.73\n",
      "| 에폭 94 | 퍼플렉서티 8.66\n",
      "| 에폭 95 | 퍼플렉서티 7.91\n",
      "| 에폭 96 | 퍼플렉서티 7.50\n",
      "| 에폭 97 | 퍼플렉서티 7.09\n",
      "| 에폭 98 | 퍼플렉서티 6.71\n",
      "| 에폭 99 | 퍼플렉서티 6.71\n",
      "| 에폭 100 | 퍼플렉서티 6.07\n"
     ]
    },
    {
     "data": {
      "image/png": "[encoded data removed]",
      "text/plain": [
       "<Figure size 432x288 with 1 Axes>"
      ]
     },
     "metadata": {
      "needs_background": "light"
     },
     "output_type": "display_data"
    }
   ],
   "source": [
    "import sys\n",
    "sys.path.append('..')\n",
    "import matplotlib.pyplot as plt\n",
    "import numpy as np\n",
    "from common.optimizer import SGD\n",
    "from dataset import ptb\n",
    "from simple_rnnlm import SimpleRnnlm\n",
    "\n",
    "\n",
    "# 1. (N,T) 로 입력\n",
    "# 2. (N,T) => (N,T,D)  임베딩층 통과 시\n",
    "# 3. (N,H)(H,H)+(N,D)(D,H)+(H,) => (N,H) => (N,T,H)  RNN 층 통과 시\n",
    "\n",
    "# 하이퍼파라미터 설정\n",
    "batch_size = 10\n",
    "wordvec_size = 100\n",
    "hidden_size = 100 # RNN의 은닉 상태 벡터의 원소 수\n",
    "time_size = 5     # Truncated BPTT가 한 번에 펼치는 시간 크기\n",
    "lr = 0.1\n",
    "max_epoch = 100\n",
    "\n",
    "# 학습 데이터 읽기(전체 중 1000개만)\n",
    "corpus, word_to_id, id_to_word = ptb.load_data('train')\n",
    "# print('말뭉치 크기: %d, 어휘 수: %d' % (corpus_size, vocab_size))\n",
    "corpus_size = 1000\n",
    "corpus = corpus[:corpus_size]\n",
    "vocab_size = int(max(corpus) + 1)\n",
    "print(vocab_size)\n",
    "\n",
    "xs = corpus[:-1]  # 입력\n",
    "ts = corpus[1:]   # 출력(정답 레이블)\n",
    "data_size = len(xs)\n",
    "print('말뭉치 크기: %d, 어휘 수: %d' % (corpus_size, vocab_size))\n",
    "\n",
    "# 학습 시 사용하는 변수\n",
    "max_iters = data_size // (batch_size * time_size)\n",
    "time_idx = 0\n",
    "total_loss = 0\n",
    "loss_count = 0\n",
    "ppl_list = []\n",
    "\n",
    "# 모델 생성\n",
    "model = SimpleRnnlm(vocab_size, wordvec_size, hidden_size)\n",
    "optimizer = SGD(lr)\n",
    "\n",
    "# 미니배치의 각 샘플의 읽기 시작 위치를 계산\n",
    "jump = (corpus_size - 1) // batch_size\n",
    "offsets = [i * jump for i in range(batch_size)]\n",
    "\n",
    "for epoch in range(max_epoch):\n",
    "    for iter in range(max_iters):\n",
    "        # 미니배치 취득\n",
    "        batch_x = np.empty((batch_size, time_size), dtype='i')\n",
    "        batch_t = np.empty((batch_size, time_size), dtype='i')\n",
    "        for t in range(time_size):\n",
    "            for i, offset in enumerate(offsets):\n",
    "                batch_x[i, t] = xs[(offset + time_idx) % data_size]\n",
    "                batch_t[i, t] = ts[(offset + time_idx) % data_size]\n",
    "            time_idx += 1\n",
    "\n",
    "        # 기울기를 구하여 매개변수 갱신\n",
    "        loss = model.forward(batch_x, batch_t)\n",
    "        model.backward()\n",
    "        optimizer.update(model.params, model.grads)\n",
    "        total_loss += loss\n",
    "        loss_count += 1\n",
    "\n",
    "    # 에폭마다 퍼플렉서티 평가\n",
    "    ppl = np.exp(total_loss / loss_count)\n",
    "    print('| 에폭 %d | 퍼플렉서티 %.2f'\n",
    "          % (epoch+1, ppl))\n",
    "    ppl_list.append(float(ppl))\n",
    "    total_loss, loss_count = 0, 0\n",
    "\n",
    "# 그래프 그리기\n",
    "x = np.arange(len(ppl_list))\n",
    "plt.plot(x, ppl_list, label='train')\n",
    "plt.xlabel('epochs')\n",
    "plt.ylabel('perplexity')\n",
    "plt.show()\n"
   ]
  },
  {
   "cell_type": "code",
   "execution_count": 49,
   "metadata": {},
   "outputs": [
    {
     "data": {
      "text/plain": [
       "array([ 0.01551541,  0.01555565,  0.01596183,  0.04066   ,  0.02988104,\n",
       "       -0.02094981,  0.01352789,  0.023273  ,  0.02277292,  0.03834406,\n",
       "        0.02830946,  0.01341417,  0.01932197,  0.03359631,  0.01468777,\n",
       "       -0.01215107, -0.00737302, -0.01872111, -0.00126686, -0.00562144,\n",
       "        0.01881046, -0.04253429,  0.03262767, -0.02648862, -0.03517184,\n",
       "        0.05870563,  0.00867787, -0.04585668, -0.00818034,  0.00333629,\n",
       "       -0.00590994,  0.00816354, -0.00466012, -0.05360024, -0.0023127 ,\n",
       "       -0.06308766, -0.00607892,  0.03567948, -0.00893974,  0.03231809,\n",
       "       -0.00613747,  0.07406249,  0.00272964,  0.02035144, -0.01356665,\n",
       "        0.02752777, -0.03759973, -0.06910811, -0.00112989,  0.05154888,\n",
       "        0.03766673,  0.01384205, -0.03965329,  0.01181692,  0.01193716,\n",
       "       -0.01775798, -0.00520439,  0.00012067, -0.03181111, -0.04020225,\n",
       "        0.04820336, -0.00433021, -0.00610336,  0.01561496, -0.00662004,\n",
       "        0.00758624,  0.00516223, -0.05492619,  0.03387753, -0.04476373,\n",
       "        0.00549337, -0.00536166, -0.00387543, -0.02939145,  0.02687251,\n",
       "        0.03055384,  0.03938903, -0.0031481 , -0.03135754, -0.00309715,\n",
       "       -0.00033792, -0.00400568,  0.01218594,  0.00057848, -0.01669553,\n",
       "       -0.01080796,  0.05850744,  0.00105005, -0.00709144,  0.01098181,\n",
       "       -0.01079746,  0.00173406,  0.04426192, -0.01407435, -0.02546982,\n",
       "        0.02116512, -0.00772628,  0.00911502, -0.01689376, -0.01765683],\n",
       "      dtype=float32)"
      ]
     },
     "execution_count": 49,
     "metadata": {},
     "output_type": "execute_result"
    }
   ],
   "source": [
    "model.layers[0].W[1]"
   ]
  },
  {
   "cell_type": "markdown",
   "metadata": {},
   "source": [
    "### RNNLM의 Trainer 클래스"
   ]
  },
  {
   "cell_type": "code",
   "execution_count": 50,
   "metadata": {},
   "outputs": [
    {
     "name": "stdout",
     "output_type": "stream",
     "text": [
      "| 에폭 1 |  반복 1 / 19 | 시간 0[s] | 퍼플렉서티 415.44\n",
      "| 에폭 2 |  반복 1 / 19 | 시간 0[s] | 퍼플렉서티 386.19\n",
      "| 에폭 3 |  반복 1 / 19 | 시간 0[s] | 퍼플렉서티 266.12\n",
      "| 에폭 4 |  반복 1 / 19 | 시간 0[s] | 퍼플렉서티 221.41\n",
      "| 에폭 5 |  반복 1 / 19 | 시간 0[s] | 퍼플렉서티 210.58\n",
      "| 에폭 6 |  반복 1 / 19 | 시간 0[s] | 퍼플렉서티 208.76\n",
      "| 에폭 7 |  반복 1 / 19 | 시간 0[s] | 퍼플렉서티 200.37\n",
      "| 에폭 8 |  반복 1 / 19 | 시간 0[s] | 퍼플렉서티 200.33\n",
      "| 에폭 9 |  반복 1 / 19 | 시간 0[s] | 퍼플렉서티 195.52\n",
      "| 에폭 10 |  반복 1 / 19 | 시간 0[s] | 퍼플렉서티 191.50\n",
      "| 에폭 11 |  반복 1 / 19 | 시간 0[s] | 퍼플렉서티 192.89\n",
      "| 에폭 12 |  반복 1 / 19 | 시간 1[s] | 퍼플렉서티 189.66\n",
      "| 에폭 13 |  반복 1 / 19 | 시간 1[s] | 퍼플렉서티 192.90\n",
      "| 에폭 14 |  반복 1 / 19 | 시간 1[s] | 퍼플렉서티 188.31\n",
      "| 에폭 15 |  반복 1 / 19 | 시간 1[s] | 퍼플렉서티 187.73\n",
      "| 에폭 16 |  반복 1 / 19 | 시간 1[s] | 퍼플렉서티 191.66\n",
      "| 에폭 17 |  반복 1 / 19 | 시간 1[s] | 퍼플렉서티 190.03\n",
      "| 에폭 18 |  반복 1 / 19 | 시간 1[s] | 퍼플렉서티 185.09\n",
      "| 에폭 19 |  반복 1 / 19 | 시간 1[s] | 퍼플렉서티 182.06\n",
      "| 에폭 20 |  반복 1 / 19 | 시간 1[s] | 퍼플렉서티 182.33\n",
      "| 에폭 21 |  반복 1 / 19 | 시간 1[s] | 퍼플렉서티 179.81\n",
      "| 에폭 22 |  반복 1 / 19 | 시간 1[s] | 퍼플렉서티 178.85\n",
      "| 에폭 23 |  반복 1 / 19 | 시간 2[s] | 퍼플렉서티 180.62\n",
      "| 에폭 24 |  반복 1 / 19 | 시간 2[s] | 퍼플렉서티 178.35\n",
      "| 에폭 25 |  반복 1 / 19 | 시간 2[s] | 퍼플렉서티 171.44\n",
      "| 에폭 26 |  반복 1 / 19 | 시간 2[s] | 퍼플렉서티 172.92\n",
      "| 에폭 27 |  반복 1 / 19 | 시간 2[s] | 퍼플렉서티 171.65\n",
      "| 에폭 28 |  반복 1 / 19 | 시간 2[s] | 퍼플렉서티 171.21\n",
      "| 에폭 29 |  반복 1 / 19 | 시간 2[s] | 퍼플렉서티 165.68\n",
      "| 에폭 30 |  반복 1 / 19 | 시간 2[s] | 퍼플렉서티 161.95\n",
      "| 에폭 31 |  반복 1 / 19 | 시간 2[s] | 퍼플렉서티 159.10\n",
      "| 에폭 32 |  반복 1 / 19 | 시간 2[s] | 퍼플렉서티 155.03\n",
      "| 에폭 33 |  반복 1 / 19 | 시간 2[s] | 퍼플렉서티 152.83\n",
      "| 에폭 34 |  반복 1 / 19 | 시간 3[s] | 퍼플렉서티 152.72\n",
      "| 에폭 35 |  반복 1 / 19 | 시간 3[s] | 퍼플렉서티 145.55\n",
      "| 에폭 36 |  반복 1 / 19 | 시간 3[s] | 퍼플렉서티 142.35\n",
      "| 에폭 37 |  반복 1 / 19 | 시간 3[s] | 퍼플렉서티 142.33\n",
      "| 에폭 38 |  반복 1 / 19 | 시간 3[s] | 퍼플렉서티 131.97\n",
      "| 에폭 39 |  반복 1 / 19 | 시간 3[s] | 퍼플렉서티 129.26\n",
      "| 에폭 40 |  반복 1 / 19 | 시간 3[s] | 퍼플렉서티 123.15\n",
      "| 에폭 41 |  반복 1 / 19 | 시간 3[s] | 퍼플렉서티 117.93\n",
      "| 에폭 42 |  반복 1 / 19 | 시간 3[s] | 퍼플렉서티 117.24\n",
      "| 에폭 43 |  반복 1 / 19 | 시간 3[s] | 퍼플렉서티 110.86\n",
      "| 에폭 44 |  반복 1 / 19 | 시간 4[s] | 퍼플렉서티 108.85\n",
      "| 에폭 45 |  반복 1 / 19 | 시간 4[s] | 퍼플렉서티 99.84\n",
      "| 에폭 46 |  반복 1 / 19 | 시간 4[s] | 퍼플렉서티 96.89\n",
      "| 에폭 47 |  반복 1 / 19 | 시간 4[s] | 퍼플렉서티 95.08\n",
      "| 에폭 48 |  반복 1 / 19 | 시간 4[s] | 퍼플렉서티 91.70\n",
      "| 에폭 49 |  반복 1 / 19 | 시간 4[s] | 퍼플렉서티 86.25\n",
      "| 에폭 50 |  반복 1 / 19 | 시간 4[s] | 퍼플렉서티 80.14\n",
      "| 에폭 51 |  반복 1 / 19 | 시간 4[s] | 퍼플렉서티 78.56\n",
      "| 에폭 52 |  반복 1 / 19 | 시간 4[s] | 퍼플렉서티 72.60\n",
      "| 에폭 53 |  반복 1 / 19 | 시간 4[s] | 퍼플렉서티 72.36\n",
      "| 에폭 54 |  반복 1 / 19 | 시간 4[s] | 퍼플렉서티 67.10\n",
      "| 에폭 55 |  반복 1 / 19 | 시간 5[s] | 퍼플렉서티 64.23\n",
      "| 에폭 56 |  반복 1 / 19 | 시간 5[s] | 퍼플렉서티 60.44\n",
      "| 에폭 57 |  반복 1 / 19 | 시간 5[s] | 퍼플렉서티 60.05\n",
      "| 에폭 58 |  반복 1 / 19 | 시간 5[s] | 퍼플렉서티 55.36\n",
      "| 에폭 59 |  반복 1 / 19 | 시간 5[s] | 퍼플렉서티 51.53\n",
      "| 에폭 60 |  반복 1 / 19 | 시간 5[s] | 퍼플렉서티 48.61\n",
      "| 에폭 61 |  반복 1 / 19 | 시간 5[s] | 퍼플렉서티 44.67\n",
      "| 에폭 62 |  반복 1 / 19 | 시간 5[s] | 퍼플렉서티 42.99\n",
      "| 에폭 63 |  반복 1 / 19 | 시간 5[s] | 퍼플렉서티 42.15\n",
      "| 에폭 64 |  반복 1 / 19 | 시간 5[s] | 퍼플렉서티 39.05\n",
      "| 에폭 65 |  반복 1 / 19 | 시간 5[s] | 퍼플렉서티 36.32\n",
      "| 에폭 66 |  반복 1 / 19 | 시간 5[s] | 퍼플렉서티 35.26\n",
      "| 에폭 67 |  반복 1 / 19 | 시간 5[s] | 퍼플렉서티 33.82\n",
      "| 에폭 68 |  반복 1 / 19 | 시간 5[s] | 퍼플렉서티 31.65\n",
      "| 에폭 69 |  반복 1 / 19 | 시간 6[s] | 퍼플렉서티 30.23\n",
      "| 에폭 70 |  반복 1 / 19 | 시간 6[s] | 퍼플렉서티 27.92\n",
      "| 에폭 71 |  반복 1 / 19 | 시간 6[s] | 퍼플렉서티 26.29\n",
      "| 에폭 72 |  반복 1 / 19 | 시간 6[s] | 퍼플렉서티 25.67\n",
      "| 에폭 73 |  반복 1 / 19 | 시간 6[s] | 퍼플렉서티 23.88\n",
      "| 에폭 74 |  반복 1 / 19 | 시간 6[s] | 퍼플렉서티 22.33\n",
      "| 에폭 75 |  반복 1 / 19 | 시간 6[s] | 퍼플렉서티 21.45\n",
      "| 에폭 76 |  반복 1 / 19 | 시간 6[s] | 퍼플렉서티 19.85\n",
      "| 에폭 77 |  반복 1 / 19 | 시간 6[s] | 퍼플렉서티 19.44\n",
      "| 에폭 78 |  반복 1 / 19 | 시간 6[s] | 퍼플렉서티 18.38\n",
      "| 에폭 79 |  반복 1 / 19 | 시간 6[s] | 퍼플렉서티 17.14\n",
      "| 에폭 80 |  반복 1 / 19 | 시간 7[s] | 퍼플렉서티 16.39\n",
      "| 에폭 81 |  반복 1 / 19 | 시간 7[s] | 퍼플렉서티 15.21\n",
      "| 에폭 82 |  반복 1 / 19 | 시간 7[s] | 퍼플렉서티 14.41\n",
      "| 에폭 83 |  반복 1 / 19 | 시간 7[s] | 퍼플렉서티 14.00\n",
      "| 에폭 84 |  반복 1 / 19 | 시간 7[s] | 퍼플렉서티 12.92\n",
      "| 에폭 85 |  반복 1 / 19 | 시간 7[s] | 퍼플렉서티 12.41\n",
      "| 에폭 86 |  반복 1 / 19 | 시간 7[s] | 퍼플렉서티 11.49\n",
      "| 에폭 87 |  반복 1 / 19 | 시간 7[s] | 퍼플렉서티 11.86\n",
      "| 에폭 88 |  반복 1 / 19 | 시간 7[s] | 퍼플렉서티 10.01\n",
      "| 에폭 89 |  반복 1 / 19 | 시간 7[s] | 퍼플렉서티 10.29\n",
      "| 에폭 90 |  반복 1 / 19 | 시간 7[s] | 퍼플렉서티 9.87\n",
      "| 에폭 91 |  반복 1 / 19 | 시간 7[s] | 퍼플렉서티 8.91\n",
      "| 에폭 92 |  반복 1 / 19 | 시간 8[s] | 퍼플렉서티 8.70\n",
      "| 에폭 93 |  반복 1 / 19 | 시간 8[s] | 퍼플렉서티 8.78\n",
      "| 에폭 94 |  반복 1 / 19 | 시간 8[s] | 퍼플렉서티 7.80\n",
      "| 에폭 95 |  반복 1 / 19 | 시간 8[s] | 퍼플렉서티 7.54\n",
      "| 에폭 96 |  반복 1 / 19 | 시간 8[s] | 퍼플렉서티 7.10\n",
      "| 에폭 97 |  반복 1 / 19 | 시간 8[s] | 퍼플렉서티 6.62\n",
      "| 에폭 98 |  반복 1 / 19 | 시간 8[s] | 퍼플렉서티 6.73\n",
      "| 에폭 99 |  반복 1 / 19 | 시간 8[s] | 퍼플렉서티 6.53\n",
      "| 에폭 100 |  반복 1 / 19 | 시간 8[s] | 퍼플렉서티 5.89\n"
     ]
    },
    {
     "data": {
      "image/png": "[encoded data removed]",
      "text/plain": [
       "<Figure size 432x288 with 1 Axes>"
      ]
     },
     "metadata": {
      "needs_background": "light"
     },
     "output_type": "display_data"
    }
   ],
   "source": [
    "import sys\n",
    "sys.path.append('..')\n",
    "from common.optimizer import SGD\n",
    "from common.trainer import RnnlmTrainer\n",
    "from dataset import ptb\n",
    "from simple_rnnlm import SimpleRnnlm\n",
    "import matplotlib.pyplot as plt\n",
    "plt.rc('font', family='Malgun Gothic')\n",
    "\n",
    "# 하이퍼파라미터 설정\n",
    "batch_size = 10\n",
    "wordvec_size = 100\n",
    "hidden_size = 100  # RNN의 은닉 상태 벡터의 원소 수\n",
    "time_size = 5  # RNN을 펼치는 크기\n",
    "lr = 0.1\n",
    "max_epoch = 100\n",
    "\n",
    "# 학습 데이터 읽기\n",
    "corpus, word_to_id, id_to_word = ptb.load_data('train')\n",
    "corpus_size = 1000  # 테스트 데이터셋을 작게 설정\n",
    "corpus = corpus[:corpus_size]\n",
    "vocab_size = int(max(corpus) + 1)\n",
    "xs = corpus[:-1]  # 입력\n",
    "ts = corpus[1:]  # 출력（정답 레이블）\n",
    "\n",
    "# 모델 생성\n",
    "model = SimpleRnnlm(vocab_size, wordvec_size, hidden_size)\n",
    "optimizer = SGD(lr)\n",
    "trainer = RnnlmTrainer(model, optimizer)\n",
    "\n",
    "trainer.fit(xs, ts, max_epoch, batch_size, time_size)\n",
    "trainer.plot()\n"
   ]
  },
  {
   "cell_type": "code",
   "execution_count": 54,
   "metadata": {},
   "outputs": [
    {
     "name": "stdout",
     "output_type": "stream",
     "text": [
      "[[ 0  1  2  3]\n",
      " [ 4  5  6  7]\n",
      " [ 8  9 10 11]\n",
      " [12 13 14 15]\n",
      " [16 17 18 19]\n",
      " [20 21 22 23]\n",
      " [24 25 26 27]]\n",
      "[[[ 0.  1.  2.  3.]\n",
      "  [ 0.  0.  0.  0.]\n",
      "  [ 0.  0.  0.  0.]]\n",
      "\n",
      " [[12. 13. 14. 15.]\n",
      "  [ 0.  0.  0.  0.]\n",
      "  [ 0.  0.  0.  0.]]]\n",
      "[[[ 0.  1.  2.  3.]\n",
      "  [ 4.  5.  6.  7.]\n",
      "  [ 0.  0.  0.  0.]]\n",
      "\n",
      " [[12. 13. 14. 15.]\n",
      "  [16. 17. 18. 19.]\n",
      "  [ 0.  0.  0.  0.]]]\n",
      "[[[ 0.  1.  2.  3.]\n",
      "  [ 4.  5.  6.  7.]\n",
      "  [ 8.  9. 10. 11.]]\n",
      "\n",
      " [[12. 13. 14. 15.]\n",
      "  [16. 17. 18. 19.]\n",
      "  [ 4.  5.  6.  7.]]]\n"
     ]
    }
   ],
   "source": [
    "import numpy as np\n",
    "\n",
    "out = np.zeros((2,3,4))\n",
    "embed_W = np.arange(28).reshape(7,4)\n",
    "print(embed_W)\n",
    "idx = [0,3]\n",
    "out[:,0,:] = embed_W[idx]\n",
    "print(out)\n",
    "idx = [1,4]\n",
    "out[:,1,:] = embed_W[idx]\n",
    "print(out)\n",
    "idx = [2,1]\n",
    "out[:,2,:] = embed_W[idx]\n",
    "\n",
    "print(out)\n",
    "\n"
   ]
  },
  {
   "cell_type": "code",
   "execution_count": 56,
   "metadata": {},
   "outputs": [
    {
     "name": "stdout",
     "output_type": "stream",
     "text": [
      "[[[ 0  1  2]\n",
      "  [ 3  4  5]\n",
      "  [ 6  7  8]]\n",
      "\n",
      " [[ 9 10 11]\n",
      "  [12 13 14]\n",
      "  [15 16 17]]]\n",
      "[[ 0  1  2]\n",
      " [ 3  4  5]\n",
      " [ 6  7  8]\n",
      " [ 9 10 11]\n",
      " [12 13 14]\n",
      " [15 16 17]]\n"
     ]
    }
   ],
   "source": [
    "import numpy as np\n",
    "\n",
    "xs = np.arange(18).reshape(2,3,3)\n",
    "print(xs)\n",
    "rx  = xs.reshape(2*3,-1)\n",
    "print(rx)"
   ]
  }
 ],
 "metadata": {
  "kernelspec": {
   "display_name": "Python 3 (ipykernel)",
   "language": "python",
   "name": "python3"
  },
  "language_info": {
   "codemirror_mode": {
    "name": "ipython",
    "version": 3
   },
   "file_extension": ".py",
   "mimetype": "text/x-python",
   "name": "python",
   "nbconvert_exporter": "python",
   "pygments_lexer": "ipython3",
   "version": "3.9.12"
  }
 },
 "nbformat": 4,
 "nbformat_minor": 4
}
