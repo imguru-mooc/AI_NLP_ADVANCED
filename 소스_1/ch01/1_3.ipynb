{
 "cells": [
  {
   "cell_type": "markdown",
   "metadata": {},
   "source": [
    "# 신경망의 학습"
   ]
  },
  {
   "cell_type": "markdown",
   "metadata": {},
   "source": [
    "### 크로스 엔트로피 그래프"
   ]
  },
  {
   "cell_type": "code",
   "execution_count": null,
   "metadata": {},
   "outputs": [],
   "source": [
    "import matplotlib.pyplot as plt\n",
    "import numpy as np\n",
    "x = np.arange(0, 1, 0.01)\n",
    "y = -np.log(x)\n",
    "plt.plot(x, y)\n",
    "plt.xlabel('x')\n",
    "plt.ylabel('log_x')\n",
    "plt.show()"
   ]
  },
  {
   "cell_type": "markdown",
   "metadata": {},
   "source": [
    "## Repeat 노드"
   ]
  },
  {
   "cell_type": "code",
   "execution_count": 10,
   "metadata": {},
   "outputs": [
    {
     "name": "stdout",
     "output_type": "stream",
     "text": [
      "(1, 8)\n",
      "(7, 8)\n",
      "(7, 8)\n",
      "(1, 8)\n"
     ]
    },
    {
     "data": {
      "text/plain": [
       "array([[3.06774262, 3.15514071, 3.11582446, 1.85884362, 3.66944001,\n",
       "        3.05629209, 3.72772768, 4.14941291]])"
      ]
     },
     "execution_count": 10,
     "metadata": {},
     "output_type": "execute_result"
    }
   ],
   "source": [
    "import numpy as np\n",
    "\n",
    "D, N = 8, 7\n",
    "x = np.random.rand(1, D)\n",
    "print(x.shape)\n",
    "y = np.repeat(x, N, axis=0)\n",
    "print(y.shape)\n",
    "dy = np.random.rand(N, D)\n",
    "print(dy.shape)\n",
    "dx = np.sum(dy, axis=0, keepdims=True)\n",
    "print(dx.shape)\n",
    "dx"
   ]
  },
  {
   "cell_type": "code",
   "execution_count": 16,
   "metadata": {},
   "outputs": [
    {
     "name": "stdout",
     "output_type": "stream",
     "text": [
      "(8,)\n",
      "(7, 8)\n",
      "(7, 8)\n",
      "(8,)\n"
     ]
    },
    {
     "data": {
      "text/plain": [
       "array([3.91864025, 2.88657376, 4.01159034, 3.68957942, 4.56570091,\n",
       "       3.14012975, 3.74120535, 3.12628387])"
      ]
     },
     "execution_count": 16,
     "metadata": {},
     "output_type": "execute_result"
    }
   ],
   "source": [
    "import numpy as np\n",
    "\n",
    "D, N = 8, 7\n",
    "x = np.random.rand(D)\n",
    "print(x.shape)\n",
    "y = np.repeat(x.reshape(1,D), N, axis=0)\n",
    "print(y.shape)\n",
    "dy = np.random.rand(N, D)\n",
    "print(dy.shape)\n",
    "dx = np.sum(dy, axis=0)\n",
    "print(dx.shape)\n",
    "dx"
   ]
  },
  {
   "cell_type": "markdown",
   "metadata": {},
   "source": [
    "## Sum 노드"
   ]
  },
  {
   "cell_type": "code",
   "execution_count": 20,
   "metadata": {},
   "outputs": [
    {
     "name": "stdout",
     "output_type": "stream",
     "text": [
      "(1, 8)\n",
      "(1, 8)\n",
      "(7, 8)\n"
     ]
    },
    {
     "data": {
      "text/plain": [
       "array([[0.00591252, 0.54201338, 0.17020228, 0.84000105, 0.77548366,\n",
       "        0.82957107, 0.59111627, 0.11162397],\n",
       "       [0.00591252, 0.54201338, 0.17020228, 0.84000105, 0.77548366,\n",
       "        0.82957107, 0.59111627, 0.11162397],\n",
       "       [0.00591252, 0.54201338, 0.17020228, 0.84000105, 0.77548366,\n",
       "        0.82957107, 0.59111627, 0.11162397],\n",
       "       [0.00591252, 0.54201338, 0.17020228, 0.84000105, 0.77548366,\n",
       "        0.82957107, 0.59111627, 0.11162397],\n",
       "       [0.00591252, 0.54201338, 0.17020228, 0.84000105, 0.77548366,\n",
       "        0.82957107, 0.59111627, 0.11162397],\n",
       "       [0.00591252, 0.54201338, 0.17020228, 0.84000105, 0.77548366,\n",
       "        0.82957107, 0.59111627, 0.11162397],\n",
       "       [0.00591252, 0.54201338, 0.17020228, 0.84000105, 0.77548366,\n",
       "        0.82957107, 0.59111627, 0.11162397]])"
      ]
     },
     "execution_count": 20,
     "metadata": {},
     "output_type": "execute_result"
    }
   ],
   "source": [
    "import numpy as np\n",
    "\n",
    "D, N = 8, 7\n",
    "x = np.random.rand(N, D)\n",
    "y = np.sum(x, axis=0, keepdims=True)\n",
    "print(y.shape)\n",
    "dy = np.random.rand(1, D)\n",
    "print(dy.shape)\n",
    "dx = np.repeat(dy, N, axis=0)\n",
    "print(dx.shape)\n",
    "dx"
   ]
  },
  {
   "cell_type": "code",
   "execution_count": 26,
   "metadata": {},
   "outputs": [
    {
     "name": "stdout",
     "output_type": "stream",
     "text": [
      "(7, 8)\n",
      "(8,)\n",
      "(8,)\n",
      "(7, 8)\n"
     ]
    },
    {
     "data": {
      "text/plain": [
       "array([[0.52579277, 0.51289234, 0.30521251, 0.44658822, 0.11632769,\n",
       "        0.34858617, 0.61048278, 0.75630554],\n",
       "       [0.52579277, 0.51289234, 0.30521251, 0.44658822, 0.11632769,\n",
       "        0.34858617, 0.61048278, 0.75630554],\n",
       "       [0.52579277, 0.51289234, 0.30521251, 0.44658822, 0.11632769,\n",
       "        0.34858617, 0.61048278, 0.75630554],\n",
       "       [0.52579277, 0.51289234, 0.30521251, 0.44658822, 0.11632769,\n",
       "        0.34858617, 0.61048278, 0.75630554],\n",
       "       [0.52579277, 0.51289234, 0.30521251, 0.44658822, 0.11632769,\n",
       "        0.34858617, 0.61048278, 0.75630554],\n",
       "       [0.52579277, 0.51289234, 0.30521251, 0.44658822, 0.11632769,\n",
       "        0.34858617, 0.61048278, 0.75630554],\n",
       "       [0.52579277, 0.51289234, 0.30521251, 0.44658822, 0.11632769,\n",
       "        0.34858617, 0.61048278, 0.75630554]])"
      ]
     },
     "execution_count": 26,
     "metadata": {},
     "output_type": "execute_result"
    }
   ],
   "source": [
    "import numpy as np\n",
    "\n",
    "D, N = 8, 7\n",
    "x = np.random.rand(N, D)\n",
    "print(x.shape)\n",
    "y = np.sum(x, axis=0)\n",
    "print(y.shape)\n",
    "dy = np.random.rand(D)\n",
    "print(dy.shape)\n",
    "dx = np.repeat(dy.reshape(1,D), N, axis=0)\n",
    "print(dx.shape)\n",
    "dx"
   ]
  },
  {
   "cell_type": "markdown",
   "metadata": {},
   "source": [
    "## MatMul "
   ]
  },
  {
   "cell_type": "code",
   "execution_count": 27,
   "metadata": {},
   "outputs": [],
   "source": [
    "class MatMul:\n",
    "    def __init__(self, W):\n",
    "        self.params = [W]\n",
    "        self.grads = [np.zeros_like(W)]\n",
    "        self.x = None\n",
    "\n",
    "    def forward(self, x):\n",
    "        W, = self.params\n",
    "        out = np.dot(x, W)\n",
    "        self.x = x\n",
    "        return out\n",
    "\n",
    "    def backward(self, dout):\n",
    "        W, = self.params\n",
    "        dx = np.dot(dout, W.T)\n",
    "        dW = np.dot(self.x.T, dout)\n",
    "        self.grads[0][...] = dW\n",
    "        return dx"
   ]
  },
  {
   "cell_type": "code",
   "execution_count": 33,
   "metadata": {},
   "outputs": [
    {
     "name": "stdout",
     "output_type": "stream",
     "text": [
      "0x1c07f63de90\n",
      "0x1c07f65dd50\n",
      "[4 5 6]\n",
      "0x1c07f65dd50\n",
      "0x1c07f65dd50\n",
      "True\n",
      "[ 4 10  6]\n",
      "[ 4 10  6]\n"
     ]
    }
   ],
   "source": [
    "a = np.array([1, 2, 3])\n",
    "b = np.array([4, 5, 6])\n",
    "print(hex(id(a)))\n",
    "print(hex(id(b)))\n",
    "a = b\n",
    "print(a)\n",
    "print(hex(id(a)))\n",
    "print(hex(id(b)))\n",
    "a[1]=10\n",
    "print(id(a) == id(b))\n",
    "print(a)\n",
    "print(b)"
   ]
  },
  {
   "cell_type": "code",
   "execution_count": 38,
   "metadata": {},
   "outputs": [
    {
     "name": "stdout",
     "output_type": "stream",
     "text": [
      "0x1c07f6534e0\n",
      "0x1c07f653da0\n",
      "[4 5 6]\n",
      "0x1c07f6534e0\n",
      "0x1c07f653da0\n",
      "False\n",
      "[ 4 10  6]\n",
      "[4 5 6]\n"
     ]
    }
   ],
   "source": [
    "a = np.array([1, 2, 3])\n",
    "b = np.array([4, 5, 6])\n",
    "print(hex(id(a)))\n",
    "print(hex(id(b)))\n",
    "a[...] = b\n",
    "print(a)\n",
    "print(hex(id(a)))\n",
    "print(hex(id(b)))\n",
    "a[1]=10\n",
    "print(id(a) == id(b))\n",
    "print(a)\n",
    "print(b)"
   ]
  },
  {
   "cell_type": "markdown",
   "metadata": {},
   "source": [
    "## 시그모이드 계층"
   ]
  },
  {
   "cell_type": "code",
   "execution_count": 39,
   "metadata": {},
   "outputs": [],
   "source": [
    "class Sigmoid:\n",
    "    def __init__(self):\n",
    "        self.params, self.grads = [], []\n",
    "        self.out = None\n",
    "\n",
    "    def forward(self, x):\n",
    "        out = 1 / (1 + np.exp(-x))\n",
    "        self.out = out\n",
    "        return out\n",
    "\n",
    "    def backward(self, dout):\n",
    "        dx = dout * (1.0 - self.out) * self.out\n",
    "        return dx"
   ]
  },
  {
   "cell_type": "code",
   "execution_count": 40,
   "metadata": {},
   "outputs": [
    {
     "data": {
      "image/png": "[encoded data removed]",
      "text/plain": [
       "<Figure size 432x288 with 1 Axes>"
      ]
     },
     "metadata": {
      "needs_background": "light"
     },
     "output_type": "display_data"
    }
   ],
   "source": [
    "import matplotlib.pyplot as plt\n",
    "x = np.arange(-10., 10., 0.1)\n",
    "sigmoid = Sigmoid()\n",
    "out = sigmoid.forward(x)\n",
    "plt.plot(x, out)\n",
    "plt.xlabel('z')\n",
    "plt.ylabel('1/(1+e^-z)')\n",
    "plt.show()"
   ]
  },
  {
   "cell_type": "code",
   "execution_count": 42,
   "metadata": {},
   "outputs": [
    {
     "data": {
      "image/png": "[encoded data removed]",
      "text/plain": [
       "<Figure size 432x288 with 1 Axes>"
      ]
     },
     "metadata": {
      "needs_background": "light"
     },
     "output_type": "display_data"
    }
   ],
   "source": [
    "import matplotlib.pyplot as plt\n",
    "\n",
    "dout = sigmoid.backward(1)\n",
    "plt.plot(x, dout)\n",
    "plt.ylim(0,1)\n",
    "plt.xlabel('z')\n",
    "plt.ylabel('y*(1-y)')\n",
    "plt.show()"
   ]
  },
  {
   "cell_type": "markdown",
   "metadata": {},
   "source": [
    "## Affine 계층"
   ]
  },
  {
   "cell_type": "code",
   "execution_count": 44,
   "metadata": {},
   "outputs": [],
   "source": [
    "class Affine:\n",
    "    def __init__(self, W, b):\n",
    "        self.params = [W, b]\n",
    "        self.grads = [np.zeros_like(W), np.zeros_like(b)]\n",
    "        self.x = None\n",
    "\n",
    "    def forward(self, x):\n",
    "        W, b = self.params\n",
    "        out = np.dot(x, W) + b\n",
    "        self.x = x\n",
    "        return out\n",
    "\n",
    "    def backward(self, dout):\n",
    "        W, b = self.params\n",
    "        dx = np.dot(dout, W.T)\n",
    "        dW = np.dot(self.x.T, dout)\n",
    "        db = np.sum(dout, axis=0)\n",
    "\n",
    "        self.grads[0][...] = dW\n",
    "        self.grads[1][...] = db\n",
    "        return dx"
   ]
  },
  {
   "cell_type": "code",
   "execution_count": 50,
   "metadata": {},
   "outputs": [
    {
     "name": "stdout",
     "output_type": "stream",
     "text": [
      "(10, 4)\n",
      "(2, 4)\n",
      "(4,)\n",
      "(10, 2)\n"
     ]
    }
   ],
   "source": [
    "X = np.random.randn(10,2)\n",
    "W = np.random.randn(2,4)\n",
    "b = np.random.randn(4)\n",
    "affine = Affine(W,b)\n",
    "out = affine.forward(X)\n",
    "print(out.shape)\n",
    "dout = np.random.randn(10,4)\n",
    "dx = affine.backward(dout)\n",
    "print(affine.grads[0].shape)\n",
    "print(affine.grads[1].shape)\n",
    "print(dx.shape)"
   ]
  },
  {
   "cell_type": "markdown",
   "metadata": {},
   "source": [
    "## Softmax with Loss 계층"
   ]
  },
  {
   "cell_type": "code",
   "execution_count": 56,
   "metadata": {},
   "outputs": [],
   "source": [
    "def softmax(x):\n",
    "    if x.ndim == 2:\n",
    "        x = x - x.max(axis=1, keepdims=True)\n",
    "        x = np.exp(x)\n",
    "        x /= x.sum(axis=1, keepdims=True)\n",
    "    elif x.ndim == 1:\n",
    "        x = x - np.max(x)\n",
    "        x = np.exp(x) / np.sum(np.exp(x))\n",
    "\n",
    "    return x\n",
    "\n",
    "\n",
    "def cross_entropy_error(y, t):\n",
    "    if y.ndim == 1:\n",
    "        t = t.reshape(1, t.size)\n",
    "        y = y.reshape(1, y.size)\n",
    "        \n",
    "    # 정답 데이터가 원핫 벡터일 경우 정답 레이블 인덱스로 변환\n",
    "    if t.size == y.size:\n",
    "        t = t.argmax(axis=1)\n",
    "             \n",
    "    batch_size = y.shape[0]\n",
    "\n",
    "    return -np.sum(np.log(y[np.arange(batch_size), t] + 1e-7)) / batch_size"
   ]
  },
  {
   "cell_type": "code",
   "execution_count": 64,
   "metadata": {},
   "outputs": [],
   "source": [
    "class SoftmaxWithLoss:\n",
    "    def __init__(self):\n",
    "        self.params, self.grads = [], []\n",
    "        self.y = None  # softmax의 출력\n",
    "        self.t = None  # 정답 레이블\n",
    "\n",
    "    def forward(self, x, t):\n",
    "        self.t = t\n",
    "        self.y = softmax(x)\n",
    "\n",
    "        # 정답 레이블이 원핫 벡터일 경우 정답의 인덱스로 변환\n",
    "        if self.t.size == self.y.size:\n",
    "            self.t = self.t.argmax(axis=1)\n",
    "\n",
    "        loss = cross_entropy_error(self.y, self.t)\n",
    "        return loss\n",
    "\n",
    "    def backward(self, dout=1):\n",
    "        batch_size = self.t.shape[0]\n",
    "\n",
    "        dx = self.y.copy()\n",
    "        dx[np.arange(batch_size), self.t] -= 1\n",
    "        dx *= dout\n",
    "        dx = dx / batch_size\n",
    "\n",
    "        return dx"
   ]
  },
  {
   "cell_type": "code",
   "execution_count": 65,
   "metadata": {},
   "outputs": [
    {
     "name": "stdout",
     "output_type": "stream",
     "text": [
      "1.2019425155719317\n",
      "[[0.3671654  0.30060961 0.33222499]]\n"
     ]
    }
   ],
   "source": [
    "x = np.array([[0.1,-0.1,0]])\n",
    "t = np.array([[0, 1, 0]])\n",
    "swl = SoftmaxWithLoss()\n",
    "loss = swl.forward(x,t)\n",
    "print(loss)\n",
    "print(swl.y)\n",
    "dx = swl.backward(x,t)"
   ]
  },
  {
   "cell_type": "markdown",
   "metadata": {},
   "source": [
    "## 가중치 갱신"
   ]
  },
  {
   "cell_type": "code",
   "execution_count": null,
   "metadata": {},
   "outputs": [],
   "source": [
    "class SGD:\n",
    "    '''\n",
    "    확률적 경사하강법(Stochastic Gradient Descent)\n",
    "    '''\n",
    "    def __init__(self, lr=0.01):\n",
    "        self.lr = lr\n",
    "        \n",
    "    def update(self, params, grads):\n",
    "        for i in range(len(params)):\n",
    "            params[i] -= self.lr * grads[i]"
   ]
  }
 ],
 "metadata": {
  "kernelspec": {
   "display_name": "Python 3",
   "language": "python",
   "name": "python3"
  },
  "language_info": {
   "codemirror_mode": {
    "name": "ipython",
    "version": 3
   },
   "file_extension": ".py",
   "mimetype": "text/x-python",
   "name": "python",
   "nbconvert_exporter": "python",
   "pygments_lexer": "ipython3",
   "version": "3.8.8"
  }
 },
 "nbformat": 4,
 "nbformat_minor": 4
}
