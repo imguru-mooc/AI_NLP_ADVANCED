{
 "cells": [
  {
   "cell_type": "markdown",
   "metadata": {},
   "source": [
    "# 신경망의 추론"
   ]
  },
  {
   "cell_type": "markdown",
   "metadata": {},
   "source": [
    "## 미니배치 버전 파이썬 구현"
   ]
  },
  {
   "cell_type": "code",
   "execution_count": null,
   "metadata": {},
   "outputs": [],
   "source": [
    "import numpy as np\n",
    "\n",
    "W1 = np.random.rand(2, 4)"
   ]
  },
  {
   "cell_type": "code",
   "execution_count": null,
   "metadata": {},
   "outputs": [],
   "source": [
    "W1"
   ]
  },
  {
   "cell_type": "code",
   "execution_count": null,
   "metadata": {},
   "outputs": [],
   "source": [
    "b1 = np.random.rand(4)\n",
    "print(b1.shape)"
   ]
  },
  {
   "cell_type": "code",
   "execution_count": null,
   "metadata": {},
   "outputs": [],
   "source": [
    "b1"
   ]
  },
  {
   "cell_type": "code",
   "execution_count": null,
   "metadata": {},
   "outputs": [],
   "source": [
    "x = np.random.rand(10, 2)"
   ]
  },
  {
   "cell_type": "code",
   "execution_count": null,
   "metadata": {},
   "outputs": [],
   "source": [
    "x"
   ]
  },
  {
   "cell_type": "code",
   "execution_count": null,
   "metadata": {},
   "outputs": [],
   "source": [
    "h = np.matmul(x, W1) + b1  # (10,2)(2,4)+(4,)"
   ]
  },
  {
   "cell_type": "code",
   "execution_count": null,
   "metadata": {},
   "outputs": [],
   "source": [
    "print(h.shape)\n",
    "print(h)"
   ]
  },
  {
   "cell_type": "markdown",
   "metadata": {},
   "source": [
    "## 시그모이드 함수"
   ]
  },
  {
   "cell_type": "code",
   "execution_count": 9,
   "metadata": {},
   "outputs": [],
   "source": [
    "def sigmoid(x):\n",
    "    return 1 / ( 1 + np.exp(-x))"
   ]
  },
  {
   "cell_type": "code",
   "execution_count": 10,
   "metadata": {},
   "outputs": [
    {
     "data": {
      "image/png": "[encoded data removed]",
      "text/plain": [
       "<Figure size 432x288 with 1 Axes>"
      ]
     },
     "metadata": {
      "needs_background": "light"
     },
     "output_type": "display_data"
    }
   ],
   "source": [
    "import matplotlib.pyplot as plt\n",
    "zs = np.arange(-10., 10., 0.1)\n",
    "gs = [sigmoid(z) for z in zs]\n",
    "plt.plot(zs, gs)\n",
    "plt.xlabel('z')\n",
    "plt.ylabel('1/(1+e^-z)')\n",
    "plt.show()"
   ]
  },
  {
   "cell_type": "code",
   "execution_count": 11,
   "metadata": {},
   "outputs": [],
   "source": [
    "def sigmoid(x):\n",
    "    return 1 / ( 1 + np.exp(-x))\n",
    "\n",
    "x = np.random.rand(10, 2)\n",
    "W1 = np.random.randn(2, 4)\n",
    "b1 = np.random.rand(4)\n",
    "W2 = np.random.randn(4, 3)\n",
    "b2 = np.random.rand(3)\n",
    "\n",
    "h = np.matmul(x, W1) + b1  # (10,2)(2,4)+(4,)\n",
    "a = sigmoid(h)             # (10,4)\n",
    "s = np.matmul(a, W2) + b2  # (10,4)(4,3)+(3,)"
   ]
  },
  {
   "cell_type": "code",
   "execution_count": 12,
   "metadata": {},
   "outputs": [
    {
     "name": "stdout",
     "output_type": "stream",
     "text": [
      "(10, 4)\n",
      "[[0.8553014  2.76836034 1.80286498 1.92281729]\n",
      " [1.05372473 2.93379865 1.14096827 1.78818822]\n",
      " [1.11550484 3.27028489 1.20938577 1.92589871]\n",
      " [0.98675273 2.96420884 1.44745131 1.88799337]\n",
      " [1.05749155 2.01249811 0.23793792 1.20293302]\n",
      " [0.98469625 2.60342805 1.10844193 1.66305989]\n",
      " [1.10674527 3.09967833 1.08130458 1.8289078 ]\n",
      " [0.90118879 1.75983273 0.64148051 1.23186582]\n",
      " [0.93142428 2.94954603 1.6623264  1.94536855]\n",
      " [0.8026725  1.41905579 0.72097741 1.13568253]]\n"
     ]
    }
   ],
   "source": [
    "print(h.shape)\n",
    "print(h)"
   ]
  },
  {
   "cell_type": "code",
   "execution_count": 13,
   "metadata": {},
   "outputs": [
    {
     "name": "stdout",
     "output_type": "stream",
     "text": [
      "(10, 4)\n",
      "[[0.70167805 0.94094194 0.85849733 0.87245227]\n",
      " [0.74148951 0.94949216 0.75785737 0.856705  ]\n",
      " [0.75315396 0.96339522 0.77019025 0.87279477]\n",
      " [0.72844605 0.95093076 0.80960588 0.86852657]\n",
      " [0.74221088 0.88210307 0.55920542 0.76904614]\n",
      " [0.72803906 0.93108188 0.75183852 0.84064833]\n",
      " [0.75152183 0.95687947 0.74674078 0.86163156]\n",
      " [0.71119374 0.85318871 0.65508806 0.77414497]\n",
      " [0.71736415 0.95024203 0.84055005 0.87494075]\n",
      " [0.69054587 0.80519035 0.67282221 0.75688606]]\n"
     ]
    }
   ],
   "source": [
    "print(a.shape)\n",
    "print(a)"
   ]
  },
  {
   "cell_type": "code",
   "execution_count": 14,
   "metadata": {},
   "outputs": [
    {
     "name": "stdout",
     "output_type": "stream",
     "text": [
      "(10, 3)\n",
      "[[-2.98121711  3.59079009 -0.65613741]\n",
      " [-3.11328059  3.51764656 -0.66345846]\n",
      " [-3.1728128   3.57397676 -0.68313227]\n",
      " [-3.07597304  3.57006241 -0.66690607]\n",
      " [-3.02145699  3.14826954 -0.55959853]\n",
      " [-3.04453932  3.45775522 -0.63607442]\n",
      " [-3.15642378  3.53136518 -0.67393771]\n",
      " [-2.89537494  3.16519283 -0.51222292]\n",
      " [-3.04178996  3.59837959 -0.66772711]\n",
      " [-2.78232752  3.06982966 -0.4343832 ]]\n"
     ]
    }
   ],
   "source": [
    "print(s.shape)\n",
    "print(s)"
   ]
  },
  {
   "cell_type": "markdown",
   "metadata": {},
   "source": [
    "## 계층으로 클래스화 및 순전파 구현"
   ]
  },
  {
   "cell_type": "markdown",
   "metadata": {},
   "source": [
    "### 파이썬 참조 계수"
   ]
  },
  {
   "cell_type": "code",
   "execution_count": 21,
   "metadata": {},
   "outputs": [
    {
     "name": "stdout",
     "output_type": "stream",
     "text": [
      "[1 2 3]\n",
      "2\n",
      "3\n",
      "[1 2 3]\n",
      "[ 1 10  3]\n",
      "[ 1 10  3]\n",
      "2\n"
     ]
    }
   ],
   "source": [
    "import sys\n",
    "a = np.array([1,2,3])\n",
    "print(a)\n",
    "print( sys.getrefcount(a) )\n",
    "b = a\n",
    "print( sys.getrefcount(a) )\n",
    "print(b)\n",
    "b[1] = 10\n",
    "print(b)\n",
    "print(a)\n",
    "del b\n",
    "print( sys.getrefcount(a) )\n",
    "del a"
   ]
  },
  {
   "cell_type": "code",
   "execution_count": 26,
   "metadata": {},
   "outputs": [
    {
     "name": "stdout",
     "output_type": "stream",
     "text": [
      "foo()\n",
      "2\n",
      "3\n",
      "foo()\n",
      "2\n"
     ]
    }
   ],
   "source": [
    "import sys\n",
    "\n",
    "def foo():\n",
    "    print('foo()')\n",
    "\n",
    "foo()\n",
    "print( sys.getrefcount(foo) )\n",
    "bar = foo\n",
    "print( sys.getrefcount(bar) )\n",
    "bar()\n",
    "del bar\n",
    "print( sys.getrefcount(foo) )"
   ]
  },
  {
   "cell_type": "code",
   "execution_count": 27,
   "metadata": {},
   "outputs": [],
   "source": [
    "import numpy as np\n",
    "\n",
    "class Sigmoid:\n",
    "    def __init__(self):\n",
    "        self.params = []\n",
    "\n",
    "    def forward(self, x):\n",
    "        return 1 / (1 + np.exp(-x))\n",
    "\n",
    "\n",
    "class Affine:\n",
    "    def __init__(self, W, b):\n",
    "        self.params = [W, b]\n",
    "\n",
    "    def forward(self, x):\n",
    "        W, b = self.params\n",
    "        out = np.dot(x, W) + b\n",
    "        return out"
   ]
  },
  {
   "cell_type": "code",
   "execution_count": 28,
   "metadata": {},
   "outputs": [],
   "source": [
    "class TwoLayerNet:\n",
    "    def __init__(self, input_size, hidden_size, output_size):\n",
    "        I, H, O = input_size, hidden_size, output_size\n",
    "\n",
    "        # 가중치와 편향 초기화\n",
    "        W1 = np.random.randn(I, H)\n",
    "        b1 = np.random.randn(H)\n",
    "        W2 = np.random.randn(H, O)\n",
    "        b2 = np.random.randn(O)\n",
    "\n",
    "        # 계층 생성\n",
    "        self.layers = [\n",
    "            Affine(W1, b1),\n",
    "            Sigmoid(),\n",
    "            Affine(W2, b2)\n",
    "        ]\n",
    "\n",
    "        # 모든 가중치를 리스트에 모은다.\n",
    "        self.params = []\n",
    "        for layer in self.layers:\n",
    "            self.params += layer.params\n",
    "\n",
    "    def predict(self, x):\n",
    "        for layer in self.layers:\n",
    "            x = layer.forward(x)\n",
    "        return x"
   ]
  },
  {
   "cell_type": "code",
   "execution_count": 29,
   "metadata": {},
   "outputs": [
    {
     "data": {
      "text/plain": [
       "['A', 'B', 'C', 'D']"
      ]
     },
     "execution_count": 29,
     "metadata": {},
     "output_type": "execute_result"
    }
   ],
   "source": [
    "a = ['A', 'B']\n",
    "a += ['C', 'D']\n",
    "a"
   ]
  },
  {
   "cell_type": "code",
   "execution_count": 30,
   "metadata": {},
   "outputs": [
    {
     "name": "stdout",
     "output_type": "stream",
     "text": [
      "(10, 3)\n",
      "[[ 0.63231869  1.8247538  -1.91055016]\n",
      " [ 0.60851244  1.78650304 -2.06298803]\n",
      " [ 0.54268487  1.81842094 -1.97734915]\n",
      " [ 0.65426474  1.75676443 -2.14606798]\n",
      " [ 0.96710388  1.64500777 -2.50723559]\n",
      " [ 0.7419497   1.66130396 -2.34709801]\n",
      " [ 0.78262046  1.66131473 -2.38782792]\n",
      " [ 0.9324662   1.55512621 -2.61531737]\n",
      " [ 0.39087965  1.82469924 -1.91223653]\n",
      " [ 0.71468588  1.75026267 -2.16768738]]\n"
     ]
    }
   ],
   "source": [
    "x = np.random.randn(10, 2)\n",
    "model = TwoLayerNet(2, 4, 3)\n",
    "s = model.predict(x)\n",
    "print(s.shape)\n",
    "print(s)"
   ]
  },
  {
   "cell_type": "code",
   "execution_count": null,
   "metadata": {},
   "outputs": [],
   "source": []
  }
 ],
 "metadata": {
  "kernelspec": {
   "display_name": "Python 3 (ipykernel)",
   "language": "python",
   "name": "python3"
  },
  "language_info": {
   "codemirror_mode": {
    "name": "ipython",
    "version": 3
   },
   "file_extension": ".py",
   "mimetype": "text/x-python",
   "name": "python",
   "nbconvert_exporter": "python",
   "pygments_lexer": "ipython3",
   "version": "3.9.12"
  }
 },
 "nbformat": 4,
 "nbformat_minor": 4
}
