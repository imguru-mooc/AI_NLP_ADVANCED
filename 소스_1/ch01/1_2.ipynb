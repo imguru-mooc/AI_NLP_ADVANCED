{
 "cells": [
  {
   "cell_type": "markdown",
   "metadata": {},
   "source": [
    "# 신경망의 추론"
   ]
  },
  {
   "cell_type": "markdown",
   "metadata": {},
   "source": [
    "## 미니배치 버전 파이썬 구현"
   ]
  },
  {
   "cell_type": "code",
   "execution_count": null,
   "metadata": {},
   "outputs": [],
   "source": [
    "import numpy as np\n",
    "\n",
    "W1 = np.random.rand(2, 4)"
   ]
  },
  {
   "cell_type": "code",
   "execution_count": null,
   "metadata": {},
   "outputs": [],
   "source": [
    "W1"
   ]
  },
  {
   "cell_type": "code",
   "execution_count": null,
   "metadata": {},
   "outputs": [],
   "source": [
    "b1 = np.random.rand(4)\n",
    "print(b1.shape)"
   ]
  },
  {
   "cell_type": "code",
   "execution_count": null,
   "metadata": {},
   "outputs": [],
   "source": [
    "b1"
   ]
  },
  {
   "cell_type": "code",
   "execution_count": null,
   "metadata": {},
   "outputs": [],
   "source": [
    "x = np.random.rand(10, 2)"
   ]
  },
  {
   "cell_type": "code",
   "execution_count": null,
   "metadata": {},
   "outputs": [],
   "source": [
    "x"
   ]
  },
  {
   "cell_type": "code",
   "execution_count": null,
   "metadata": {},
   "outputs": [],
   "source": [
    "h = np.matmul(x, W1) + b1  # (10,2)(2,4)+(4,)"
   ]
  },
  {
   "cell_type": "code",
   "execution_count": null,
   "metadata": {},
   "outputs": [],
   "source": [
    "print(h.shape)\n",
    "print(h)"
   ]
  },
  {
   "cell_type": "markdown",
   "metadata": {},
   "source": [
    "## 시그모이드 함수"
   ]
  },
  {
   "cell_type": "code",
   "execution_count": 10,
   "metadata": {},
   "outputs": [],
   "source": [
    "def sigmoid(x):\n",
    "    return 1 / ( 1 + np.exp(-x))"
   ]
  },
  {
   "cell_type": "code",
   "execution_count": 11,
   "metadata": {},
   "outputs": [
    {
     "data": {
      "image/png": "[encoded data removed]",
      "text/plain": [
       "<Figure size 432x288 with 1 Axes>"
      ]
     },
     "metadata": {
      "needs_background": "light"
     },
     "output_type": "display_data"
    }
   ],
   "source": [
    "import matplotlib.pyplot as plt\n",
    "zs = np.arange(-10., 10., 0.1)\n",
    "gs = [sigmoid(z) for z in zs]\n",
    "plt.plot(zs, gs)\n",
    "plt.xlabel('z')\n",
    "plt.ylabel('1/(1+e^-z)')\n",
    "plt.show()"
   ]
  },
  {
   "cell_type": "code",
   "execution_count": 21,
   "metadata": {},
   "outputs": [],
   "source": [
    "def sigmoid(x):\n",
    "    return 1 / ( 1 + np.exp(-x))\n",
    "\n",
    "x = np.random.rand(10, 2)\n",
    "W1 = np.random.randn(2, 4)\n",
    "b1 = np.random.rand(4)\n",
    "W2 = np.random.randn(4, 3)\n",
    "b2 = np.random.rand(3)\n",
    "\n",
    "h = np.matmul(x, W1) + b1  # (10,2)(2,4)+(4,)\n",
    "a = sigmoid(h)             # (10,4)\n",
    "s = np.matmul(a, W2) + b2  # (10,4)(4,3)+(3,)"
   ]
  },
  {
   "cell_type": "code",
   "execution_count": 22,
   "metadata": {},
   "outputs": [
    {
     "name": "stdout",
     "output_type": "stream",
     "text": [
      "(10, 4)\n",
      "[[ 0.26383317 -0.13469313 -0.1746729   0.06691328]\n",
      " [ 0.60734001  0.32144572 -0.259632   -0.26472555]\n",
      " [ 0.29276716 -0.1579099  -0.07260997  0.11762591]\n",
      " [ 0.06616602  0.51432185 -1.74090592 -0.90527247]\n",
      " [ 0.14924484  0.13268317 -0.88972947 -0.35776615]\n",
      " [ 0.11059558  0.06165024 -0.84524349 -0.2953019 ]\n",
      " [ 0.62442441  0.48249999 -0.50903852 -0.45777069]\n",
      " [ 0.34774254 -0.04569993 -0.1556829   0.01452139]\n",
      " [ 0.24845055  0.14528878 -0.70317629 -0.30154208]\n",
      " [ 0.10622933  0.58638877 -1.7842466  -0.96802537]]\n"
     ]
    }
   ],
   "source": [
    "print(h.shape)\n",
    "print(h)"
   ]
  },
  {
   "cell_type": "code",
   "execution_count": 23,
   "metadata": {},
   "outputs": [
    {
     "name": "stdout",
     "output_type": "stream",
     "text": [
      "(10, 4)\n",
      "[[0.56557834 0.46637753 0.45644247 0.51672208]\n",
      " [0.64733378 0.57967655 0.43545417 0.43420242]\n",
      " [0.57267345 0.46060435 0.48185548 0.52937262]\n",
      " [0.51653547 0.62581907 0.1491979  0.28796821]\n",
      " [0.53724211 0.53312222 0.29116566 0.41150042]\n",
      " [0.52762075 0.51540768 0.30043159 0.42670637]\n",
      " [0.65122414 0.61833804 0.37541895 0.38751481]\n",
      " [0.58607004 0.48857701 0.4611577  0.50363028]\n",
      " [0.56179509 0.53625844 0.33110838 0.42518055]\n",
      " [0.52653239 0.64253613 0.14377956 0.27527426]]\n"
     ]
    }
   ],
   "source": [
    "print(a.shape)\n",
    "print(a)"
   ]
  },
  {
   "cell_type": "code",
   "execution_count": 24,
   "metadata": {},
   "outputs": [
    {
     "name": "stdout",
     "output_type": "stream",
     "text": [
      "(10, 3)\n",
      "[[-0.35717499  0.11651739  0.1536909 ]\n",
      " [-0.063664   -0.0232528   0.24150763]\n",
      " [-0.44229311  0.10717764  0.12231435]\n",
      " [ 0.87917556  0.09189693  0.606493  ]\n",
      " [ 0.26108331  0.13472499  0.37866988]\n",
      " [ 0.19764355  0.15272128  0.35804612]\n",
      " [ 0.18898391 -0.03512675  0.32989685]\n",
      " [-0.32519422  0.0832779   0.16101362]\n",
      " [ 0.14984754  0.10511372  0.33389582]\n",
      " [ 0.9290695   0.07265787  0.6221152 ]]\n"
     ]
    }
   ],
   "source": [
    "print(s.shape)\n",
    "print(s)"
   ]
  },
  {
   "cell_type": "markdown",
   "metadata": {},
   "source": [
    "## 계층으로 클래스화 및 순전파 구현"
   ]
  },
  {
   "cell_type": "markdown",
   "metadata": {},
   "source": [
    "### 파이썬 참조 계수"
   ]
  },
  {
   "cell_type": "code",
   "execution_count": 30,
   "metadata": {},
   "outputs": [
    {
     "name": "stdout",
     "output_type": "stream",
     "text": [
      "2\n",
      "3\n",
      "[1 2 3]\n",
      "[ 1 10  3]\n",
      "[ 1 10  3]\n",
      "2\n"
     ]
    }
   ],
   "source": [
    "import sys\n",
    "a = np.array([1,2,3])\n",
    "print( sys.getrefcount(a) )\n",
    "b = a\n",
    "print( sys.getrefcount(a) )\n",
    "print(b)\n",
    "b[1] = 10\n",
    "print(b)\n",
    "print(a)\n",
    "del b\n",
    "print( sys.getrefcount(a) )"
   ]
  },
  {
   "cell_type": "code",
   "execution_count": 36,
   "metadata": {},
   "outputs": [
    {
     "name": "stdout",
     "output_type": "stream",
     "text": [
      "foo()\n",
      "2\n",
      "3\n",
      "foo()\n",
      "2\n"
     ]
    }
   ],
   "source": [
    "import sys\n",
    "\n",
    "def foo():\n",
    "    print('foo()')\n",
    "\n",
    "foo()\n",
    "print( sys.getrefcount(foo) )\n",
    "bar = foo\n",
    "print( sys.getrefcount(bar) )\n",
    "bar()\n",
    "del bar\n",
    "print( sys.getrefcount(foo) )"
   ]
  },
  {
   "cell_type": "code",
   "execution_count": 37,
   "metadata": {},
   "outputs": [],
   "source": [
    "import numpy as np\n",
    "\n",
    "class Sigmoid:\n",
    "    def __init__(self):\n",
    "        self.params = []\n",
    "\n",
    "    def forward(self, x):\n",
    "        return 1 / (1 + np.exp(-x))\n",
    "\n",
    "\n",
    "class Affine:\n",
    "    def __init__(self, W, b):\n",
    "        self.params = [W, b]\n",
    "\n",
    "    def forward(self, x):\n",
    "        W, b = self.params\n",
    "        out = np.dot(x, W) + b\n",
    "        return out"
   ]
  },
  {
   "cell_type": "code",
   "execution_count": 39,
   "metadata": {},
   "outputs": [],
   "source": [
    "class TwoLayerNet:\n",
    "    def __init__(self, input_size, hidden_size, output_size):\n",
    "        I, H, O = input_size, hidden_size, output_size\n",
    "\n",
    "        # 가중치와 편향 초기화\n",
    "        W1 = np.random.randn(I, H)\n",
    "        b1 = np.random.randn(H)\n",
    "        W2 = np.random.randn(H, O)\n",
    "        b2 = np.random.randn(O)\n",
    "\n",
    "        # 계층 생성\n",
    "        self.layers = [\n",
    "            Affine(W1, b1),\n",
    "            Sigmoid(),\n",
    "            Affine(W2, b2)\n",
    "        ]\n",
    "\n",
    "        # 모든 가중치를 리스트에 모은다.\n",
    "        self.params = []\n",
    "        for layer in self.layers:\n",
    "            self.params += layer.params\n",
    "\n",
    "    def predict(self, x):\n",
    "        for layer in self.layers:\n",
    "            x = layer.forward(x)\n",
    "        return x"
   ]
  },
  {
   "cell_type": "code",
   "execution_count": 38,
   "metadata": {},
   "outputs": [
    {
     "data": {
      "text/plain": [
       "['A', 'B', 'C', 'D']"
      ]
     },
     "execution_count": 38,
     "metadata": {},
     "output_type": "execute_result"
    }
   ],
   "source": [
    "a = ['A', 'B']\n",
    "a += ['C', 'D']\n",
    "a"
   ]
  },
  {
   "cell_type": "code",
   "execution_count": 41,
   "metadata": {},
   "outputs": [
    {
     "name": "stdout",
     "output_type": "stream",
     "text": [
      "(10, 3)\n",
      "[[ 0.12855732 -2.15781098  1.50431475]\n",
      " [ 0.81151884 -1.76701496  0.99523067]\n",
      " [ 0.43198568 -2.50936758  0.40959629]\n",
      " [ 0.27643667 -2.30569528  0.99838863]\n",
      " [ 0.46974422 -2.47279748  0.39949309]\n",
      " [ 0.60644197 -2.33127821  0.5211233 ]\n",
      " [ 0.67534542 -2.17559657  0.53321426]\n",
      " [ 0.33106789 -2.1663744   1.12407338]\n",
      " [ 0.28909134 -2.36936776  0.89483068]\n",
      " [ 0.52631543 -1.99989377  1.06910849]]\n"
     ]
    }
   ],
   "source": [
    "x = np.random.randn(10, 2)\n",
    "model = TwoLayerNet(2, 4, 3)\n",
    "s = model.predict(x)\n",
    "print(s.shape)\n",
    "print(s)"
   ]
  },
  {
   "cell_type": "code",
   "execution_count": null,
   "metadata": {},
   "outputs": [],
   "source": []
  }
 ],
 "metadata": {
  "kernelspec": {
   "display_name": "Python 3",
   "language": "python",
   "name": "python3"
  },
  "language_info": {
   "codemirror_mode": {
    "name": "ipython",
    "version": 3
   },
   "file_extension": ".py",
   "mimetype": "text/x-python",
   "name": "python",
   "nbconvert_exporter": "python",
   "pygments_lexer": "ipython3",
   "version": "3.8.8"
  }
 },
 "nbformat": 4,
 "nbformat_minor": 4
}
