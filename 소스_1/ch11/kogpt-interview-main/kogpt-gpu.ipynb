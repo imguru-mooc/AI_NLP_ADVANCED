{
 "cells": [
  {
   "cell_type": "code",
   "execution_count": null,
   "metadata": {},
   "outputs": [],
   "source": [
    "import torch\n",
    "from transformers import AutoTokenizer, AutoModelForCausalLM"
   ]
  },
  {
   "cell_type": "code",
   "execution_count": null,
   "metadata": {},
   "outputs": [],
   "source": [
    "## GPU RAM 32GB 활용할 경우 실행할 코드 (float32)\n",
    "print(\"Model loading start\")\n",
    "\n",
    "tokenizer = AutoTokenizer.from_pretrained(\n",
    "  'kakaobrain/kogpt', revision='KoGPT6B-ryan1.5b',\n",
    "  bos_token='[BOS]', eos_token='[EOS]', unk_token='[UNK]', pad_token='[PAD]', mask_token='[MASK]'\n",
    ")\n",
    "model = AutoModelForCausalLM.from_pretrained(\n",
    "  'kakaobrain/kogpt', revision='KoGPT6B-ryan1.5b',\n",
    "  pad_token_id=tokenizer.eos_token_id,\n",
    "  torch_dtype='auto', low_cpu_mem_usage=True\n",
    ").to(device='cuda', non_blocking=True)\n",
    "_ = model.eval()\n",
    "\n",
    "print(\"Model loading done\")"
   ]
  },
  {
   "cell_type": "code",
   "execution_count": 3,
   "metadata": {},
   "outputs": [
    {
     "name": "stdout",
     "output_type": "stream",
     "text": [
      "Model loading start\n",
      "True\n",
      "Model loading done\n"
     ]
    }
   ],
   "source": [
    "## GPU RAM 16GB 활용할 경우 실행할 코드 (float16)\n",
    "print(\"Model loading start\")\n",
    "print(torch.cuda.is_available())\n",
    "\n",
    "tokenizer = AutoTokenizer.from_pretrained(\n",
    "  'kakaobrain/kogpt', revision='KoGPT6B-ryan1.5b-float16',\n",
    "  bos_token='[BOS]', eos_token='[EOS]', unk_token='[UNK]', pad_token='[PAD]', mask_token='[MASK]'\n",
    ")\n",
    "model = AutoModelForCausalLM.from_pretrained(\n",
    "  'kakaobrain/kogpt', revision='KoGPT6B-ryan1.5b-float16',\n",
    "  pad_token_id=tokenizer.eos_token_id,\n",
    "  torch_dtype='auto', low_cpu_mem_usage=True\n",
    ").to(device='cuda', non_blocking=True)\n",
    "_ = model.eval()\n",
    "\n",
    "print(\"Model loading done\")"
   ]
  },
  {
   "cell_type": "code",
   "execution_count": 8,
   "metadata": {},
   "outputs": [],
   "source": [
    "def gpt(prompt):\n",
    "  with torch.no_grad():\n",
    "    tokens = tokenizer.encode(prompt, return_tensors='pt').to(device='cuda', non_blocking=True)\n",
    "    gen_tokens = model.generate(tokens, do_sample=True, temperature=0.8, max_length=256)\n",
    "    generated = tokenizer.batch_decode(gen_tokens)[0]\n",
    "\n",
    "  return generated"
   ]
  },
  {
   "cell_type": "code",
   "execution_count": 25,
   "metadata": {},
   "outputs": [
    {
     "data": {
      "text/plain": [
       "'Q:인생을 어떻게 살아야 하나요? A:인생을 어떻게 살아야 하나요? 우리는 누구나 한번뿐인 인생을 살아가고 있습니다.그런데 인생을 살아가는 방식이 제각기 다릅니다.돈이 많은 사람은 어떻게든 돈을 더 많이 벌려고 합니다.돈이 적은 사람은 돈을 더 벌려고 합니다.그리고 건강한 사람은 어떻게든 건강을 지키려고 하고,또 몸이 약한 사람은 어떻게든 건강을 유지하려고 노력합니다.또한 좋아하는 일에 몰두하면서 인생을 멋지게 살아가는 사람도 있지만,좋아하는 일이 아니라 의무감 때문에 살아가는 사람들도 있습니다.하지만 인생을 살아가는 방식이 천차만별이라고 해서 인생의 의미를 모르는 것은 결코 아닙니다. 인생은 분명히 살아야할 의미가 있기 때문입니다.우리가 인생을 살아감에 있어 우선순위는 무엇입니까?돈일까요? 건강일까요?좋아하는 일일까요? 아니면 의무감일까요?무엇을 우선시하든,그것은 바로 우리의 선택에 달려 있습니다.하지만 분명한 것은 우리의 인생에는 반드시 사는 의미가 있다는 것입니다.우리 인생의 의미는 바로 사랑입니다. 인생을 살아가는 데'"
      ]
     },
     "execution_count": 25,
     "metadata": {},
     "output_type": "execute_result"
    }
   ],
   "source": [
    "# prompt = \"\"\"\n",
    "# Q:삶이란?\n",
    "# A:\"\"\"\n",
    "prompt = \"\"\"Q:인생을 어떻게 살아야 하나요? A:\"\"\"\n",
    "gpt(prompt)"
   ]
  },
  {
   "cell_type": "code",
   "execution_count": null,
   "metadata": {},
   "outputs": [],
   "source": []
  }
 ],
 "metadata": {
  "kernelspec": {
   "display_name": "Python 3",
   "language": "python",
   "name": "python3"
  },
  "language_info": {
   "codemirror_mode": {
    "name": "ipython",
    "version": 3
   },
   "file_extension": ".py",
   "mimetype": "text/x-python",
   "name": "python",
   "nbconvert_exporter": "python",
   "pygments_lexer": "ipython3",
   "version": "3.9.7"
  }
 },
 "nbformat": 4,
 "nbformat_minor": 2
}
