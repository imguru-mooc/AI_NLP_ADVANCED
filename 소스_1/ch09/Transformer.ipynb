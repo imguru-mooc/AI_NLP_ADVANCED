{
 "cells": [
  {
   "cell_type": "code",
   "execution_count": 4,
   "metadata": {},
   "outputs": [
    {
     "name": "stdout",
     "output_type": "stream",
     "text": [
      "2.8.0\n"
     ]
    }
   ],
   "source": [
    "import tensorflow as tf\n",
    "import numpy as np\n",
    "print(tf.__version__)"
   ]
  },
  {
   "cell_type": "code",
   "execution_count": 5,
   "metadata": {},
   "outputs": [
    {
     "data": {
      "text/plain": [
       "(50, 1)"
      ]
     },
     "execution_count": 5,
     "metadata": {},
     "output_type": "execute_result"
    }
   ],
   "source": [
    "a = np.arange(50)\n",
    "a = a.reshape(-1, 1)\n",
    "a.shape\n",
    "a = np.arange(50)[:, np.newaxis]\n",
    "a.shape"
   ]
  },
  {
   "cell_type": "code",
   "execution_count": 6,
   "metadata": {},
   "outputs": [
    {
     "name": "stdout",
     "output_type": "stream",
     "text": [
      "(50, 1)\n"
     ]
    }
   ],
   "source": [
    "position=50\n",
    "# a = tf.range(position, dtype=tf.float32)\n",
    "# print(a)\n",
    "# print(a.numpy())\n",
    "# print(a.shape)\n",
    "\n",
    "a = tf.range(position, dtype=tf.float32)[:, tf.newaxis]\n",
    "print(a.shape)\n",
    "# print(a)"
   ]
  },
  {
   "cell_type": "code",
   "execution_count": 7,
   "metadata": {},
   "outputs": [
    {
     "name": "stdout",
     "output_type": "stream",
     "text": [
      "(128,)\n",
      "(1, 128)\n",
      "tf.Tensor(\n",
      "[[  0.   1.   2.   3.   4.   5.   6.   7.   8.   9.  10.  11.  12.  13.\n",
      "   14.  15.  16.  17.  18.  19.  20.  21.  22.  23.  24.  25.  26.  27.\n",
      "   28.  29.  30.  31.  32.  33.  34.  35.  36.  37.  38.  39.  40.  41.\n",
      "   42.  43.  44.  45.  46.  47.  48.  49.  50.  51.  52.  53.  54.  55.\n",
      "   56.  57.  58.  59.  60.  61.  62.  63.  64.  65.  66.  67.  68.  69.\n",
      "   70.  71.  72.  73.  74.  75.  76.  77.  78.  79.  80.  81.  82.  83.\n",
      "   84.  85.  86.  87.  88.  89.  90.  91.  92.  93.  94.  95.  96.  97.\n",
      "   98.  99. 100. 101. 102. 103. 104. 105. 106. 107. 108. 109. 110. 111.\n",
      "  112. 113. 114. 115. 116. 117. 118. 119. 120. 121. 122. 123. 124. 125.\n",
      "  126. 127.]], shape=(1, 128), dtype=float32)\n"
     ]
    }
   ],
   "source": [
    "d_model = 128\n",
    "i = tf.range(d_model, dtype=tf.float32)\n",
    "print(i.shape)\n",
    "i = i[tf.newaxis, :]\n",
    "print(i.shape)\n",
    "print(i)"
   ]
  },
  {
   "cell_type": "code",
   "execution_count": 8,
   "metadata": {},
   "outputs": [
    {
     "data": {
      "text/plain": [
       "<tf.Tensor: shape=(), dtype=int32, numpy=8>"
      ]
     },
     "execution_count": 8,
     "metadata": {},
     "output_type": "execute_result"
    }
   ],
   "source": [
    "tf.pow(2,3)"
   ]
  },
  {
   "cell_type": "code",
   "execution_count": 9,
   "metadata": {},
   "outputs": [
    {
     "data": {
      "text/plain": [
       "<tf.Tensor: shape=(4,), dtype=int32, numpy=array([ 2,  4,  8, 16])>"
      ]
     },
     "execution_count": 9,
     "metadata": {},
     "output_type": "execute_result"
    }
   ],
   "source": [
    "i = [1,2,3,4]\n",
    "tf.pow(2,i)"
   ]
  },
  {
   "cell_type": "code",
   "execution_count": 10,
   "metadata": {},
   "outputs": [
    {
     "data": {
      "text/plain": [
       "<tf.Tensor: shape=(2, 2), dtype=int32, numpy=\n",
       "array([[  256, 65536],\n",
       "       [    9,    27]])>"
      ]
     },
     "execution_count": 10,
     "metadata": {},
     "output_type": "execute_result"
    }
   ],
   "source": [
    "x = tf.constant([[2, 2], \n",
    "                 [3, 3]])\n",
    "y = tf.constant([[8, 16], \n",
    "                 [2, 3]])\n",
    "tf.pow(x, y)"
   ]
  },
  {
   "cell_type": "code",
   "execution_count": 11,
   "metadata": {},
   "outputs": [
    {
     "data": {
      "image/png": "[encoded data removed]",
      "text/plain": [
       "<Figure size 432x288 with 1 Axes>"
      ]
     },
     "metadata": {
      "needs_background": "light"
     },
     "output_type": "display_data"
    }
   ],
   "source": [
    "import matplotlib.pyplot as plt\n",
    "d_model = 128\n",
    "i=tf.range(d_model, dtype=tf.float32)[tf.newaxis, :] # (1,128)\n",
    "i // 2\n",
    "2 * (i // 2)\n",
    "tf.pow(10000,(2 * (i // 2)))\n",
    "(2 * (i // 2)) / tf.cast(d_model, tf.float32)\n",
    "y = tf.pow(10000, (2 * (i // 2)) / tf.cast(d_model, tf.float32))\n",
    "i\n",
    "plt.plot(i[0],y[0])  \n",
    "plt.show()"
   ]
  },
  {
   "cell_type": "code",
   "execution_count": 12,
   "metadata": {},
   "outputs": [
    {
     "data": {
      "image/png": "[encoded data removed]",
      "text/plain": [
       "<Figure size 432x288 with 1 Axes>"
      ]
     },
     "metadata": {
      "needs_background": "light"
     },
     "output_type": "display_data"
    }
   ],
   "source": [
    "import matplotlib.pyplot as plt\n",
    "import numpy as np\n",
    "d_model=128\n",
    "angles = 1 / tf.pow(10000, (2 * (i // 2)) / tf.cast(d_model, tf.float32))\n",
    "# print(angles.shape)\n",
    "# print(angles)\n",
    "\n",
    "x = i[0].numpy()\n",
    "# print(x)\n",
    "y = angles[0].numpy()\n",
    "# print(y)\n",
    "\n",
    "plt.plot(x, y)\n",
    "plt.show()"
   ]
  },
  {
   "cell_type": "code",
   "execution_count": 13,
   "metadata": {},
   "outputs": [
    {
     "name": "stdout",
     "output_type": "stream",
     "text": [
      "[[1]\n",
      " [2]\n",
      " [3]\n",
      " [4]]\n",
      "[[ 3]\n",
      " [ 6]\n",
      " [ 9]\n",
      " [12]]\n"
     ]
    }
   ],
   "source": [
    "a = np.arange(1,5)\n",
    "# print(a.shape)\n",
    "a = np.arange(1,5).reshape(4,1)\n",
    "# print(a.shape)\n",
    "b = 3\n",
    "c = a*b  # (4,1)*() => (4,1)(4,1)\n",
    "print(a)\n",
    "print(c)"
   ]
  },
  {
   "cell_type": "code",
   "execution_count": 14,
   "metadata": {},
   "outputs": [
    {
     "name": "stdout",
     "output_type": "stream",
     "text": [
      "[[1]\n",
      " [2]\n",
      " [3]\n",
      " [4]]\n",
      "[[ 3]\n",
      " [ 6]\n",
      " [ 9]\n",
      " [12]]\n"
     ]
    }
   ],
   "source": [
    "a = np.arange(1,5).reshape(4,1)\n",
    "b = np.array([3])\n",
    "c = a*b  # (4,1)*(1,) => (4,1)*(4,1) => (4,1)\n",
    "print(a)\n",
    "print(c)"
   ]
  },
  {
   "cell_type": "code",
   "execution_count": 15,
   "metadata": {},
   "outputs": [
    {
     "name": "stdout",
     "output_type": "stream",
     "text": [
      "[[ 1  2  3]\n",
      " [ 4  5  6]\n",
      " [ 7  8  9]\n",
      " [10 11 12]]\n",
      "[[ 3  6  9]\n",
      " [12 15 18]\n",
      " [21 24 27]\n",
      " [30 33 36]]\n"
     ]
    }
   ],
   "source": [
    "a = np.arange(1,13).reshape(4,3)\n",
    "b = np.array([[3,],\n",
    "              [3,],\n",
    "              [3,],\n",
    "              [3,]])\n",
    "c = a*b  # (4,3)*(4,1) => (4,3)*(4,3)\n",
    "print(a)\n",
    "print(c)"
   ]
  },
  {
   "cell_type": "code",
   "execution_count": 16,
   "metadata": {},
   "outputs": [
    {
     "name": "stdout",
     "output_type": "stream",
     "text": [
      "[[1 2 3]]\n",
      "[[0]\n",
      " [1]\n",
      " [2]\n",
      " [3]]\n",
      "[[0 0 0]\n",
      " [1 2 3]\n",
      " [2 4 6]\n",
      " [3 6 9]]\n"
     ]
    }
   ],
   "source": [
    "a = np.arange(1,4).reshape(1,3)\n",
    "print(a)\n",
    "b = np.array([[0],\n",
    "              [1],\n",
    "              [2],\n",
    "              [3]])\n",
    "print(b)\n",
    "c = a*b  # (1,3)*(4,1) => (4,3)(4,3)\n",
    "\n",
    "print(c)"
   ]
  },
  {
   "cell_type": "code",
   "execution_count": 17,
   "metadata": {},
   "outputs": [
    {
     "name": "stdout",
     "output_type": "stream",
     "text": [
      "tf.Tensor(0.89399666, shape=(), dtype=float32)\n"
     ]
    }
   ],
   "source": [
    "print(tf.math.sin(90.))"
   ]
  },
  {
   "cell_type": "code",
   "execution_count": 18,
   "metadata": {},
   "outputs": [
    {
     "name": "stdout",
     "output_type": "stream",
     "text": [
      "tf.Tensor(1.0, shape=(), dtype=float32)\n"
     ]
    }
   ],
   "source": [
    "print(tf.math.sin(90.*np.pi/180))"
   ]
  },
  {
   "cell_type": "code",
   "execution_count": 19,
   "metadata": {},
   "outputs": [
    {
     "name": "stdout",
     "output_type": "stream",
     "text": [
      "tf.Tensor(0.841471, shape=(), dtype=float32)\n"
     ]
    }
   ],
   "source": [
    "print(tf.math.sin(1.))"
   ]
  },
  {
   "cell_type": "code",
   "execution_count": 20,
   "metadata": {},
   "outputs": [],
   "source": [
    "import tensorflow as tf\n",
    "import matplotlib.pyplot as plt\n",
    "import numpy as np\n",
    "\n",
    "class PositionalEncoding(tf.keras.layers.Layer):\n",
    "    def __init__(self, position, d_model):\n",
    "#         print(\"PositionalEncoding.__init__()\", position, d_model)\n",
    "        super(PositionalEncoding, self).__init__()\n",
    "        self.pos_encoding = self.positional_encoding(position, d_model)\n",
    "\n",
    "    def get_angles(self, position, i, d_model):\n",
    "#         print(\"PositionalEncoding.get_angles()\")\n",
    "#         print(position.shape)  # (50,1)\n",
    "#         print(i.shape)         # (1,128)\n",
    "#         print(d_model)         # 128\n",
    "        angles = 1 / tf.pow(10000, (2 * (i // 2)) / tf.cast(d_model, tf.float32))\n",
    "#         print(angles.shape)  # (1,128)\n",
    "#         print(angles)\n",
    "        return position * angles    #   (50,1)*(1,128) => (50,128)*(50,128) => (50,128)\n",
    "\n",
    "    def positional_encoding(self, position, d_model):\n",
    "#         print(\"PositionalEncoding.positional_encoding()\", position, d_model)\n",
    "        angle_rads = self.get_angles(\n",
    "            position=tf.range(position, dtype=tf.float32)[:, tf.newaxis],  # (50,1)\n",
    "            i=tf.range(d_model, dtype=tf.float32)[tf.newaxis, :],          # (1,128)\n",
    "            d_model=d_model)\n",
    "\n",
    "#         print(angle_rads[:10,:10])\n",
    "#         print(angle_rads.shape)  # (50,128)\n",
    "        \n",
    "#         print(angle_rads[:10, 0:11:2])\n",
    "#         print(angle_rads[:, 0::2].shape)\n",
    "        \n",
    "        # 배열의 짝수 인덱스(2i)에는 사인 함수 적용\n",
    "        sines = tf.math.sin(angle_rads[:, 0::2])\n",
    "#         print(sines[:10,:10])\n",
    "#         print(sines.shape)\n",
    "        \n",
    "        # 배열의 홀수 인덱스(2i+1)에는 코사인 함수 적용\n",
    "        cosines = tf.math.cos(angle_rads[:, 1::2])\n",
    "#         print(cosines[:10,:10])\n",
    "#         print(cosines.shape)\n",
    "\n",
    "        pos_encoding = tf.concat([sines, cosines], axis=-1)\n",
    "#         print(pos_encoding.shape)\n",
    "#         print(pos_encoding[:10,:10])\n",
    "        pos_encoding = pos_encoding[tf.newaxis, ...]\n",
    "#         print(pos_encoding.shape)  # (1, 50,128)\n",
    "        return tf.cast(pos_encoding, tf.float32)\n",
    "\n",
    "    def call(self, inputs):  # (1,40,128)\n",
    "        return inputs + self.pos_encoding[:, :tf.shape(inputs)[1], :] # (1,40,128)+(1,40,128)"
   ]
  },
  {
   "cell_type": "code",
   "execution_count": 21,
   "metadata": {},
   "outputs": [
    {
     "name": "stdout",
     "output_type": "stream",
     "text": [
      "<__main__.PositionalEncoding object at 0x00000253A4A251F0>\n",
      "(1, 50, 128)\n",
      "tf.Tensor(\n",
      "[[[ 0.          0.          0.          0.          0.\n",
      "    0.          0.          0.          0.          0.        ]\n",
      "  [ 0.841471    0.7617204   0.68156135  0.604694    0.53316844\n",
      "    0.46794808  0.40930894  0.35711193  0.3109836   0.27043223]\n",
      "  [ 0.90929747  0.98704624  0.99748     0.9632266   0.9021307\n",
      "    0.82710385  0.7469036   0.6671291   0.5911271   0.52071136]\n",
      "  [ 0.14112     0.5173059   0.7782725   0.9296448   0.9932532\n",
      "    0.9939678   0.95363444  0.8891674   0.8126489   0.732186  ]\n",
      "  [-0.7568025  -0.31671533  0.14153895  0.5176193   0.7784717\n",
      "    0.92974603  0.9932807   0.9939451   0.95358074  0.88909674]\n",
      "  [-0.9589243  -0.9277093  -0.5711271  -0.10512096  0.32393527\n",
      "    0.64936954  0.85889596  0.9676446   0.99994653  0.97975016]\n",
      "  [-0.2794155  -0.8854214  -0.97739613 -0.6850681  -0.23036753\n",
      "    0.21802224  0.5740256   0.81373405  0.9471482   0.9973907 ]\n",
      "  [ 0.6569866  -0.21963017 -0.8593135  -0.98613477 -0.7137213\n",
      "   -0.2640126   0.18858095  0.552511    0.8004216   0.9407037 ]\n",
      "  [ 0.98935825  0.60082203 -0.28022808 -0.88576156 -0.9772618\n",
      "   -0.68466765 -0.22990441  0.21842454  0.5743178   0.81391364]\n",
      "  [ 0.4121185   0.99818236  0.4491935  -0.4248087  -0.93982357\n",
      "   -0.94614553 -0.60810864 -0.14446703  0.29125923  0.6264692 ]]], shape=(1, 10, 10), dtype=float32)\n"
     ]
    },
    {
     "data": {
      "image/png": "[encoded data removed]",
      "text/plain": [
       "<Figure size 432x288 with 2 Axes>"
      ]
     },
     "metadata": {
      "needs_background": "light"
     },
     "output_type": "display_data"
    }
   ],
   "source": [
    "sample_pos_encoding = PositionalEncoding(50, 128)\n",
    "print(sample_pos_encoding)\n",
    "print(sample_pos_encoding.pos_encoding.shape)     # (1,50,128)\n",
    "                                                  # (N,T,D)\n",
    "                                            # tf.shape(inputs)[1]\n",
    "print(sample_pos_encoding.pos_encoding[:, :10, :10])\n",
    "\n",
    "plt.pcolormesh(sample_pos_encoding.pos_encoding.numpy()[0], cmap='RdBu')\n",
    "plt.xlabel('Depth')\n",
    "plt.xlim((0, 128))\n",
    "plt.ylabel('Position')\n",
    "plt.colorbar()\n",
    "plt.show()"
   ]
  },
  {
   "cell_type": "code",
   "execution_count": 22,
   "metadata": {},
   "outputs": [
    {
     "name": "stdout",
     "output_type": "stream",
     "text": [
      "(1, 50, 128)\n"
     ]
    }
   ],
   "source": [
    "N=1\n",
    "T=50\n",
    "D=128\n",
    "a = np.arange(N*T*D).reshape(N,T,D)\n",
    "inputs = tf.constant(a, dtype = tf.float32)\n",
    "result = sample_pos_encoding(inputs)\n",
    "print(result.shape)\n",
    "# print(result)"
   ]
  },
  {
   "cell_type": "code",
   "execution_count": 23,
   "metadata": {},
   "outputs": [
    {
     "name": "stdout",
     "output_type": "stream",
     "text": [
      "tf.Tensor(\n",
      "[[0. 1. 2.]\n",
      " [3. 4. 5.]], shape=(2, 3), dtype=float32)\n",
      "tf.Tensor(\n",
      "[[1. 1. 1.]\n",
      " [1. 1. 1.]], shape=(2, 3), dtype=float32)\n",
      "(2, 2)\n",
      "matmul_qk= tf.Tensor(\n",
      "[[ 3.  3.]\n",
      " [12. 12.]], shape=(2, 2), dtype=float32)\n"
     ]
    }
   ],
   "source": [
    "query = tf.constant(np.arange(6).reshape(2,3),dtype=tf.float32)\n",
    "print(query)\n",
    "\n",
    "key = tf.constant(np.ones((2,3)),dtype=tf.float32)\n",
    "print(key)\n",
    "\n",
    "matmul_qk = tf.matmul(query, key, transpose_b=True)\n",
    "print(matmul_qk.shape)\n",
    "print(\"matmul_qk=\", matmul_qk)"
   ]
  },
  {
   "cell_type": "code",
   "execution_count": 24,
   "metadata": {},
   "outputs": [
    {
     "name": "stdout",
     "output_type": "stream",
     "text": [
      "tf.Tensor(\n",
      "[[[ 0.  1.  2.]\n",
      "  [ 3.  4.  5.]]\n",
      "\n",
      " [[ 6.  7.  8.]\n",
      "  [ 9. 10. 11.]]], shape=(2, 2, 3), dtype=float32)\n",
      "tf.Tensor(\n",
      "[[[1. 1. 1.]\n",
      "  [1. 1. 1.]]\n",
      "\n",
      " [[1. 1. 1.]\n",
      "  [1. 1. 1.]]], shape=(2, 2, 3), dtype=float32)\n",
      "(2, 2, 2)\n",
      "matmul_qk= tf.Tensor(\n",
      "[[[ 3.  3.]\n",
      "  [12. 12.]]\n",
      "\n",
      " [[21. 21.]\n",
      "  [30. 30.]]], shape=(2, 2, 2), dtype=float32)\n"
     ]
    }
   ],
   "source": [
    "query = tf.constant(np.arange(12).reshape(2,2,3),dtype=tf.float32)\n",
    "print(query)\n",
    "\n",
    "key = tf.constant(np.ones((2,2,3)),dtype=tf.float32)\n",
    "print(key)\n",
    "\n",
    "matmul_qk = tf.matmul(query, key, transpose_b=True)\n",
    "print(matmul_qk.shape)\n",
    "print(\"matmul_qk=\", matmul_qk)"
   ]
  },
  {
   "cell_type": "code",
   "execution_count": 25,
   "metadata": {},
   "outputs": [
    {
     "name": "stdout",
     "output_type": "stream",
     "text": [
      "tf.Tensor(\n",
      "[[[[ 0.  1.  2.  3.]\n",
      "   [ 4.  5.  6.  7.]\n",
      "   [ 8.  9. 10. 11.]]\n",
      "\n",
      "  [[12. 13. 14. 15.]\n",
      "   [16. 17. 18. 19.]\n",
      "   [20. 21. 22. 23.]]]], shape=(1, 2, 3, 4), dtype=float32)\n",
      "tf.Tensor(\n",
      "[[[[1. 1. 1. 1.]\n",
      "   [1. 1. 1. 1.]\n",
      "   [1. 1. 1. 1.]]\n",
      "\n",
      "  [[1. 1. 1. 1.]\n",
      "   [1. 1. 1. 1.]\n",
      "   [1. 1. 1. 1.]]]], shape=(1, 2, 3, 4), dtype=float32)\n",
      "(1, 2, 3, 3)\n",
      "matmul_qk= tf.Tensor(\n",
      "[[[[ 6.  6.  6.]\n",
      "   [22. 22. 22.]\n",
      "   [38. 38. 38.]]\n",
      "\n",
      "  [[54. 54. 54.]\n",
      "   [70. 70. 70.]\n",
      "   [86. 86. 86.]]]], shape=(1, 2, 3, 3), dtype=float32)\n"
     ]
    }
   ],
   "source": [
    "query = tf.constant(np.arange(24).reshape(1,2,3,4),dtype=tf.float32)\n",
    "print(query)\n",
    "\n",
    "key = tf.constant(np.ones((1,2,3,4)),dtype=tf.float32)\n",
    "print(key)\n",
    "\n",
    "matmul_qk = tf.matmul(query, key, transpose_b=True)\n",
    "print(matmul_qk.shape)\n",
    "print(\"matmul_qk=\", matmul_qk)"
   ]
  },
  {
   "cell_type": "code",
   "execution_count": 26,
   "metadata": {},
   "outputs": [
    {
     "name": "stdout",
     "output_type": "stream",
     "text": [
      "tf.Tensor(\n",
      "[[[[ 0.  1.  2.  3.]\n",
      "   [ 4.  5.  6.  7.]\n",
      "   [ 8.  9. 10. 11.]]\n",
      "\n",
      "  [[12. 13. 14. 15.]\n",
      "   [16. 17. 18. 19.]\n",
      "   [20. 21. 22. 23.]]]\n",
      "\n",
      "\n",
      " [[[24. 25. 26. 27.]\n",
      "   [28. 29. 30. 31.]\n",
      "   [32. 33. 34. 35.]]\n",
      "\n",
      "  [[36. 37. 38. 39.]\n",
      "   [40. 41. 42. 43.]\n",
      "   [44. 45. 46. 47.]]]], shape=(2, 2, 3, 4), dtype=float32)\n",
      "tf.Tensor(\n",
      "[[[[1. 1. 1. 1.]\n",
      "   [1. 1. 1. 1.]\n",
      "   [1. 1. 1. 1.]]\n",
      "\n",
      "  [[1. 1. 1. 1.]\n",
      "   [1. 1. 1. 1.]\n",
      "   [1. 1. 1. 1.]]]\n",
      "\n",
      "\n",
      " [[[1. 1. 1. 1.]\n",
      "   [1. 1. 1. 1.]\n",
      "   [1. 1. 1. 1.]]\n",
      "\n",
      "  [[1. 1. 1. 1.]\n",
      "   [1. 1. 1. 1.]\n",
      "   [1. 1. 1. 1.]]]], shape=(2, 2, 3, 4), dtype=float32)\n",
      "(2, 2, 3, 3)\n",
      "matmul_qk= tf.Tensor(\n",
      "[[[[  6.   6.   6.]\n",
      "   [ 22.  22.  22.]\n",
      "   [ 38.  38.  38.]]\n",
      "\n",
      "  [[ 54.  54.  54.]\n",
      "   [ 70.  70.  70.]\n",
      "   [ 86.  86.  86.]]]\n",
      "\n",
      "\n",
      " [[[102. 102. 102.]\n",
      "   [118. 118. 118.]\n",
      "   [134. 134. 134.]]\n",
      "\n",
      "  [[150. 150. 150.]\n",
      "   [166. 166. 166.]\n",
      "   [182. 182. 182.]]]], shape=(2, 2, 3, 3), dtype=float32)\n"
     ]
    }
   ],
   "source": [
    "query = tf.constant(np.arange(48).reshape(2,2,3,4),dtype=tf.float32)\n",
    "print(query)\n",
    "\n",
    "key = tf.constant(np.ones((2,2,3,4)),dtype=tf.float32)\n",
    "print(key)\n",
    "\n",
    "matmul_qk = tf.matmul(query, key, transpose_b=True)\n",
    "print(matmul_qk.shape)\n",
    "print(\"matmul_qk=\", matmul_qk)"
   ]
  },
  {
   "cell_type": "code",
   "execution_count": 210,
   "metadata": {},
   "outputs": [],
   "source": [
    "def scaled_dot_product_attention(query, key, value, mask):\n",
    "    # query 크기 : (batch_size, num_heads, query의 문장 길이, d_model/num_heads)\n",
    "    # key 크기 : (batch_size, num_heads, key의 문장 길이, d_model/num_heads)\n",
    "    # value 크기 : (batch_size, num_heads, value의 문장 길이, d_model/num_heads)\n",
    "    # padding_mask : (batch_size, 1, 1, key의 문장 길이)\n",
    "\n",
    "\n",
    "    # Q와 K의 곱. 어텐션 스코어 행렬.\n",
    "    matmul_qk = tf.matmul(query, key, transpose_b=True) # (64,4,40,32)(64,4,32,40) =>  (64,4,40,40)\n",
    "#     print(\"matmul_qk.shape =\", matmul_qk.shape)         \n",
    "#     print(\"matmul_qk =\", matmul_qk)\n",
    "    # 스케일링\n",
    "    # dk의 루트값으로 나눠준다.\n",
    "    depth = tf.cast(tf.shape(key)[-1], tf.float32)\n",
    "#     print(\"depth=\",depth)\n",
    "    logits = matmul_qk / tf.math.sqrt(depth)\n",
    "#     print(\"logits=\",logits)\n",
    "\n",
    "    # 마스킹. 어텐션 스코어 행렬의 마스킹 할 위치에 매우 작은 음수값을 넣는다.\n",
    "    # 매우 작은 값이므로 소프트맥스 함수를 지나면 행렬의 해당 위치의 값은 0이 된다.\n",
    "    if mask is not None:\n",
    "        logits += (mask * -1e9)  # 1 * (-1000000000)  # (1,4,4,4) += (1,1,1,4)\n",
    "        \n",
    "#     print(\"logits=\",logits)\n",
    "        \n",
    "      \n",
    "\n",
    "    # 소프트맥스 함수는 마지막 차원인 key의 문장 길이 방향으로 수행된다.\n",
    "    # attention weight : (batch_size, num_heads, query의 문장 길이, key의 문장 길이)\n",
    "    attention_weights = tf.nn.softmax(logits, axis=-1)\n",
    "#     print(\"attention_weights=\",attention_weights)  \n",
    "#     print(\"attention_weights.shape =\",attention_weights.shape)  # (64,4,40,40)\n",
    "\n",
    "    \n",
    "#     print(\"value.shape=\", value.shape)\n",
    "#     print(\"value=\", value)\n",
    "    # output : (batch_size, num_heads, query의 문장 길이, d_model/num_heads)\n",
    "    output = tf.matmul(attention_weights, value) # (64,4,40,40)(64,4,40,32) => (64,4,40,32)\n",
    "#     print(\"output.shape =\", output.shape) \n",
    "#     print(\"output =\", output) \n",
    "\n",
    "    return output, attention_weights"
   ]
  },
  {
   "cell_type": "code",
   "execution_count": 76,
   "metadata": {},
   "outputs": [],
   "source": [
    "np.set_printoptions(suppress=True)\n",
    "temp_k = tf.constant([[10,0,0],\n",
    "                      [0,10,0],\n",
    "                      [0,0,10],\n",
    "                      [0,0,10]], dtype=tf.float32)  # (4, 3)\n",
    "\n",
    "temp_v = tf.constant([[   1,0],\n",
    "                      [  10,0],\n",
    "                      [ 100,5],\n",
    "                      [1000,6]], dtype=tf.float32)  # (4, 2)\n",
    "temp_q = tf.constant([[0, 10, 0]], dtype=tf.float32)  # (1, 3)"
   ]
  },
  {
   "cell_type": "code",
   "execution_count": 77,
   "metadata": {},
   "outputs": [
    {
     "name": "stdout",
     "output_type": "stream",
     "text": [
      "logits= tf.Tensor([[ 0.       57.735027  0.        0.      ]], shape=(1, 4), dtype=float32)\n",
      "logits= tf.Tensor([[ 0.       57.735027  0.        0.      ]], shape=(1, 4), dtype=float32)\n",
      "tf.Tensor([[0. 1. 0. 0.]], shape=(1, 4), dtype=float32)\n",
      "tf.Tensor([[10.  0.]], shape=(1, 2), dtype=float32)\n"
     ]
    }
   ],
   "source": [
    "temp_out, temp_attn = scaled_dot_product_attention(temp_q, temp_k, temp_v, None)\n",
    "print(temp_attn) # 어텐션 분포(어텐션 가중치의 나열)\n",
    "print(temp_out) # 어텐션 값"
   ]
  },
  {
   "cell_type": "code",
   "execution_count": 78,
   "metadata": {},
   "outputs": [
    {
     "name": "stdout",
     "output_type": "stream",
     "text": [
      "logits= tf.Tensor([[ 0.        0.       57.735027 57.735027]], shape=(1, 4), dtype=float32)\n",
      "logits= tf.Tensor([[ 0.        0.       57.735027 57.735027]], shape=(1, 4), dtype=float32)\n",
      "tf.Tensor([[0.  0.  0.5 0.5]], shape=(1, 4), dtype=float32)\n",
      "tf.Tensor([[550.    5.5]], shape=(1, 2), dtype=float32)\n"
     ]
    }
   ],
   "source": [
    "temp_q = tf.constant([[0, 0, 10]], dtype=tf.float32)\n",
    "temp_out, temp_attn = scaled_dot_product_attention(temp_q, temp_k, temp_v, None)\n",
    "print(temp_attn) # 어텐션 분포(어텐션 가중치의 나열)\n",
    "print(temp_out) # 어텐션 값"
   ]
  },
  {
   "cell_type": "code",
   "execution_count": 79,
   "metadata": {},
   "outputs": [
    {
     "name": "stdout",
     "output_type": "stream",
     "text": [
      "logits= tf.Tensor(\n",
      "[[ 0.        0.       57.735027 57.735027]\n",
      " [ 0.       57.735027  0.        0.      ]\n",
      " [57.735027 57.735027  0.        0.      ]], shape=(3, 4), dtype=float32)\n",
      "logits= tf.Tensor(\n",
      "[[ 0.        0.       57.735027 57.735027]\n",
      " [ 0.       57.735027  0.        0.      ]\n",
      " [57.735027 57.735027  0.        0.      ]], shape=(3, 4), dtype=float32)\n",
      "tf.Tensor(\n",
      "[[0.  0.  0.5 0.5]\n",
      " [0.  1.  0.  0. ]\n",
      " [0.5 0.5 0.  0. ]], shape=(3, 4), dtype=float32)\n",
      "tf.Tensor(\n",
      "[[550.    5.5]\n",
      " [ 10.    0. ]\n",
      " [  5.5   0. ]], shape=(3, 2), dtype=float32)\n"
     ]
    }
   ],
   "source": [
    "temp_q = tf.constant([[0, 0, 10], \n",
    "                      [0, 10, 0], \n",
    "                      [10, 10, 0]], dtype=tf.float32)  # (3, 3)\n",
    "temp_out, temp_attn = scaled_dot_product_attention(temp_q, temp_k, temp_v, None)\n",
    "print(temp_attn) # 어텐션 분포(어텐션 가중치의 나열)\n",
    "print(temp_out) # 어텐션 값"
   ]
  },
  {
   "cell_type": "code",
   "execution_count": 80,
   "metadata": {},
   "outputs": [
    {
     "name": "stdout",
     "output_type": "stream",
     "text": [
      "[]\n",
      "(1, 3)\n",
      "[<tf.Variable 'dense_30/kernel:0' shape=(3, 4) dtype=float32, numpy=\n",
      "array([[-0.12239695,  0.10106027,  0.10537493, -0.4344296 ],\n",
      "       [ 0.43879783,  0.28196394,  0.3766148 ,  0.39366817],\n",
      "       [ 0.7430475 ,  0.22961569, -0.19613975, -0.6627714 ]],\n",
      "      dtype=float32)>, <tf.Variable 'dense_30/bias:0' shape=(4,) dtype=float32, numpy=array([0., 0., 0., 0.], dtype=float32)>]\n"
     ]
    }
   ],
   "source": [
    "dense1 = tf.keras.layers.Dense(4)  # weight = (?,4)  , bias = (4,)\n",
    "# dir(dense1)\n",
    "print(dense1.weights)\n",
    "x = tf.constant([[1,2,3]])\n",
    "print(x.shape)\n",
    "out = dense1(x)   # (1,3)(3,4)+(4,)\n",
    "print(dense1.weights)"
   ]
  },
  {
   "cell_type": "code",
   "execution_count": 81,
   "metadata": {},
   "outputs": [
    {
     "name": "stdout",
     "output_type": "stream",
     "text": [
      "AAA.__init__()\n",
      "BBB.__init__()\n"
     ]
    },
    {
     "data": {
      "text/plain": [
       "<__main__.BBB at 0x253a4a00fa0>"
      ]
     },
     "execution_count": 81,
     "metadata": {},
     "output_type": "execute_result"
    }
   ],
   "source": [
    "class AAA():\n",
    "    def __init__(self):\n",
    "        print(\"AAA.__init__()\")\n",
    "\n",
    "class BBB(AAA):\n",
    "    def __init__(self):\n",
    "        super(BBB, self).__init__()\n",
    "        print(\"BBB.__init__()\")        \n",
    "\n",
    "BBB()"
   ]
  },
  {
   "cell_type": "code",
   "execution_count": 82,
   "metadata": {},
   "outputs": [
    {
     "data": {
      "text/plain": [
       "array([[0],\n",
       "       [1],\n",
       "       [2],\n",
       "       [3],\n",
       "       [4]])"
      ]
     },
     "execution_count": 82,
     "metadata": {},
     "output_type": "execute_result"
    }
   ],
   "source": [
    "a = np.arange(5)\n",
    "a = np.reshape(a, (-1,1) )\n",
    "a"
   ]
  },
  {
   "cell_type": "code",
   "execution_count": 83,
   "metadata": {},
   "outputs": [],
   "source": [
    "class MultiHeadAttention(tf.keras.layers.Layer):\n",
    "\n",
    "    def __init__(self, d_model, num_heads, name=\"multi_head_attention\"):\n",
    "        super(MultiHeadAttention, self).__init__(name=name)\n",
    "        \n",
    "#         print(\"MultiHeadAttention.__init__()\")\n",
    "        self.num_heads = num_heads     # 4\n",
    "        self.d_model = d_model         # 128\n",
    "\n",
    "        assert d_model % self.num_heads == 0\n",
    "\n",
    "        # d_model을 num_heads로 나눈 값.\n",
    "        # 논문 기준 : 64\n",
    "        self.depth = d_model // self.num_heads  # 32\n",
    "#         print(\"self.depth=\", self.depth)\n",
    "\n",
    "        # WQ, WK, WV에 해당하는 밀집층 정의\n",
    "        self.query_dense = tf.keras.layers.Dense(units=d_model)  # (?,128)\n",
    "        self.key_dense = tf.keras.layers.Dense(units=d_model)\n",
    "        self.value_dense = tf.keras.layers.Dense(units=d_model)\n",
    "\n",
    "#         print(self.query_dense.weights)\n",
    "        # WO에 해당하는 밀집층 정의\n",
    "        self.dense = tf.keras.layers.Dense(units=d_model)  # (128,128)\n",
    "\n",
    "  # num_heads 개수만큼 q, k, v를 split하는 함수\n",
    "    def split_heads(self, inputs, batch_size):\n",
    "#         print(\"split_heads()\")\n",
    "#         print(inputs.shape)    # (64, 40, 128) => (64, 40, 4, 32)\n",
    "        inputs = tf.reshape(                                                                                                                     # (batch_size, query의 문장 길이, num_heads, d_model/num_heads)\n",
    "            inputs, shape=(batch_size, -1, self.num_heads, self.depth))  \n",
    "                # (batch_size, query의 문장 길이, num_heads, d_model/num_heads)\n",
    "#         print(inputs.shape)  # (64, 40, 4, 32)\n",
    "        return tf.transpose(inputs, perm=[0, 2, 1, 3])\n",
    "                             # (64, 40, 4, 32)\n",
    "                             # (64, 4, 40, 32)\n",
    "    \n",
    "    def call(self, inputs):\n",
    "        query, key, value, mask = inputs['query'], inputs['key'], inputs[\n",
    "            'value'], inputs['mask']\n",
    "        batch_size = tf.shape(query)[0]\n",
    "#         print(\"tf.shape(query) = \", tf.shape(query))\n",
    "#         print(\"batch_size=\", batch_size)\n",
    "\n",
    "#         print(query[0,0,:10])\n",
    "#         print(key[0,0,:10])        \n",
    "        \n",
    "        # 1. WQ, WK, WV에 해당하는 밀집층 지나기\n",
    "        # q : (batch_size, query의 문장 길이, d_model)  =>  (64,40,128)\n",
    "        # k : (batch_size, key의 문장 길이, d_model)\n",
    "        # v : (batch_size, value의 문장 길이, d_model)\n",
    "        # 참고) 인코더(k, v)-디코더(q) 어텐션에서는 query 길이와 key, value의 길이는 다를 수 있다.\n",
    "        query = self.query_dense(query)    # (64,40,128)(128,128) => (64,40,128)\n",
    "        key = self.key_dense(key)          # (64,40,128)(128,128) => (64,40,128)\n",
    "        value = self.value_dense(value)    # (64,40,128)(128,128) => (64,40,128)\n",
    "        \n",
    "#         print(self.query_dense.weights)\n",
    "#         print(query.shape)\n",
    "#         print(key.shape)\n",
    "#         print(value.shape)\n",
    "        \n",
    "#         print(query[0,0,:10])\n",
    "#         print(key[0,0,:10])\n",
    "\n",
    "        # 2. 헤드 나누기\n",
    "        # q : (batch_size, num_heads, query의 문장 길이, d_model/num_heads)\n",
    "        # k : (batch_size, num_heads, key의 문장 길이, d_model/num_heads)\n",
    "        # v : (batch_size, num_heads, value의 문장 길이, d_model/num_heads)\n",
    "        query = self.split_heads(query, batch_size)\n",
    "        key = self.split_heads(key, batch_size)\n",
    "        value = self.split_heads(value, batch_size)\n",
    "#         print(query.shape)\n",
    "#         print(key.shape)\n",
    "#         print(value.shape)\n",
    "        \n",
    "\n",
    "        # 3. 스케일드 닷 프로덕트 어텐션. 앞서 구현한 함수 사용.\n",
    "        # (batch_size, num_heads, query의 문장 길이, d_model/num_heads)\n",
    "        scaled_attention, _ = scaled_dot_product_attention(query, key, value, mask)\n",
    "#         print('scaled_attention.shape=',scaled_attention.shape)\n",
    "        # (batch_size, query의 문장 길이, num_heads, d_model/num_heads)\n",
    "        scaled_attention = tf.transpose(scaled_attention, perm=[0, 2, 1, 3])\n",
    "#         print('scaled_attention.shape=',scaled_attention.shape)\n",
    "        \n",
    "        # 4. 헤드 연결(concatenate)하기\n",
    "        # (batch_size, query의 문장 길이, d_model)\n",
    "        concat_attention = tf.reshape(scaled_attention,\n",
    "                                  (batch_size, -1, self.d_model))\n",
    "#         print('concat_attention.shape=',concat_attention.shape)  # (64,40,4,32) => (64,40,128)\n",
    "\n",
    "        # 5. WO에 해당하는 밀집층 지나기\n",
    "        # (batch_size, query의 문장 길이, d_model)\n",
    "        outputs = self.dense(concat_attention)  # (64,40,128)(128,128) => (64,40,128)\n",
    "#         print('outputs.shape=',outputs.shape)\n",
    "\n",
    "        return outputs"
   ]
  },
  {
   "cell_type": "code",
   "execution_count": 60,
   "metadata": {},
   "outputs": [
    {
     "name": "stdout",
     "output_type": "stream",
     "text": [
      "(64, 40, 128)\n"
     ]
    }
   ],
   "source": [
    "x = tf.constant(np.random.randn(64,40,128))\n",
    "# inputs = { 'query':x, 'key':x, 'value':x, 'mask':None }\n",
    "# mha = MultiHeadAttention(128,4)\n",
    "# mha(inputs)\n",
    "\n",
    "outputs = MultiHeadAttention(128,4)({ 'query':x, 'key':x, 'value':x, 'mask':None })\n",
    "print(outputs.shape)"
   ]
  },
  {
   "cell_type": "code",
   "execution_count": 66,
   "metadata": {},
   "outputs": [
    {
     "name": "stdout",
     "output_type": "stream",
     "text": [
      "(1, 5)\n",
      "(1, 5)\n",
      "(1, 1, 1, 5)\n",
      "tf.Tensor([[[[0. 0. 0. 1. 1.]]]], shape=(1, 1, 1, 5), dtype=float32)\n"
     ]
    }
   ],
   "source": [
    "x = tf.constant([[1, 21, 777, 0, 0]])\n",
    "print(x.shape)\n",
    "mask = tf.cast(tf.math.equal(x, 0), tf.float32)    \n",
    "print(mask.shape)\n",
    "mask = mask[:, tf.newaxis, tf.newaxis, :] \n",
    "print(mask.shape)    \n",
    "print(mask)"
   ]
  },
  {
   "cell_type": "code",
   "execution_count": 70,
   "metadata": {},
   "outputs": [
    {
     "name": "stdout",
     "output_type": "stream",
     "text": [
      "(2, 5)\n",
      "(2, 5)\n",
      "(2, 1, 1, 5)\n",
      "tf.Tensor(\n",
      "[[[[0. 0. 0. 1. 1.]]]\n",
      "\n",
      "\n",
      " [[[0. 0. 0. 0. 1.]]]], shape=(2, 1, 1, 5), dtype=float32)\n"
     ]
    }
   ],
   "source": [
    "x = tf.constant([[1, 21, 777, 0, 0],\n",
    "                 [23, 34, 31, 12, 0]])\n",
    "print(x.shape)\n",
    "mask = tf.cast(tf.math.equal(x, 0), tf.float32)    \n",
    "print(mask.shape)\n",
    "mask = mask[:, tf.newaxis, tf.newaxis, :] \n",
    "print(mask.shape)    \n",
    "print(mask)"
   ]
  },
  {
   "cell_type": "code",
   "execution_count": 71,
   "metadata": {},
   "outputs": [],
   "source": [
    "def create_padding_mask(x):  # (1,5)\n",
    "    mask = tf.cast(tf.math.equal(x, 0), tf.float32) # (2,5)\n",
    "    # (batch_size, 1, 1, key의 문장 길이)\n",
    "#     print(mask) #  [[0, 0, 0, 1, 1],\n",
    "                #    [1, 1, 0, 0, 0]]  (2,5)\n",
    "    return mask[:, tf.newaxis, tf.newaxis, :]  # (2,1,1,5)"
   ]
  },
  {
   "cell_type": "code",
   "execution_count": 72,
   "metadata": {},
   "outputs": [
    {
     "name": "stdout",
     "output_type": "stream",
     "text": [
      "tf.Tensor([[[[0. 0. 0. 1. 1.]]]], shape=(1, 1, 1, 5), dtype=float32)\n"
     ]
    }
   ],
   "source": [
    "print(create_padding_mask(tf.constant([[1, 21, 777, 0, 0]])))  # (1,5)"
   ]
  },
  {
   "cell_type": "code",
   "execution_count": 73,
   "metadata": {},
   "outputs": [
    {
     "name": "stdout",
     "output_type": "stream",
     "text": [
      "tf.Tensor(\n",
      "[[[[0. 0. 0. 1. 1.]]]\n",
      "\n",
      "\n",
      " [[[1. 1. 0. 0. 0.]]]], shape=(2, 1, 1, 5), dtype=float32)\n"
     ]
    }
   ],
   "source": [
    "print(create_padding_mask(tf.constant([[1, 21, 777, 0, 0],\n",
    "                                       [0, 0, 777, 23, 25]])))  # (2,1,1,5)"
   ]
  },
  {
   "cell_type": "code",
   "execution_count": 91,
   "metadata": {},
   "outputs": [
    {
     "name": "stdout",
     "output_type": "stream",
     "text": [
      "tf.Tensor([0.0320586  0.08714432 0.23688284 0.6439142  0.        ], shape=(5,), dtype=float32)\n"
     ]
    }
   ],
   "source": [
    "logits = tf.constant([1.,2.,3.,4.,-100000000])\n",
    "attention_weights = tf.nn.softmax(logits, axis=-1)\n",
    "print(attention_weights)"
   ]
  },
  {
   "cell_type": "code",
   "execution_count": 88,
   "metadata": {},
   "outputs": [
    {
     "name": "stdout",
     "output_type": "stream",
     "text": [
      "logits= tf.Tensor(\n",
      "[[[[ 1.1950938  -2.1187646   0.7965206  -0.53906345]\n",
      "   [ 1.5907404   1.2541727   1.7914295   0.7255548 ]\n",
      "   [-0.9760902  -0.7537416   3.0752857   0.51900095]\n",
      "   [-0.2272062  -0.5836903  -0.02214977 -0.05993155]]\n",
      "\n",
      "  [[-0.6097967   0.13491045 -1.7347339  -0.8819026 ]\n",
      "   [ 0.08453563 -1.0859282   0.11162645  1.595788  ]\n",
      "   [-1.1667167   0.6091613   0.2874194   0.60050476]\n",
      "   [ 2.1533718   0.36066413  0.97842664  0.17598261]]\n",
      "\n",
      "  [[ 0.7021263   0.5120816  -0.8397968   1.1962703 ]\n",
      "   [ 0.30637467  1.9412186   0.46160787 -0.0244561 ]\n",
      "   [ 0.14970234 -0.2967584  -0.65657616 -0.54716116]\n",
      "   [-0.35095602  1.1036812  -0.00140379  0.27430826]]\n",
      "\n",
      "  [[-0.31480348  0.08028645  0.7318049  -0.24628524]\n",
      "   [ 0.17853679  1.2193407  -1.0499932   1.2860488 ]\n",
      "   [-1.2800025   1.2097993   0.71407384  0.38002738]\n",
      "   [ 1.1906487  -1.0113816   1.5122131   0.40649387]]]], shape=(1, 4, 4, 4), dtype=float32)\n",
      "logits= tf.Tensor(\n",
      "[[[[ 1.19509375e+00 -2.11876464e+00  7.96520591e-01 -1.00000000e+09]\n",
      "   [ 1.59074044e+00  1.25417268e+00  1.79142952e+00 -1.00000000e+09]\n",
      "   [-9.76090193e-01 -7.53741622e-01  3.07528567e+00 -1.00000000e+09]\n",
      "   [-2.27206200e-01 -5.83690286e-01 -2.21497715e-02 -1.00000000e+09]]\n",
      "\n",
      "  [[-6.09796703e-01  1.34910449e-01 -1.73473394e+00 -1.00000000e+09]\n",
      "   [ 8.45356286e-02 -1.08592820e+00  1.11626446e-01 -1.00000000e+09]\n",
      "   [-1.16671669e+00  6.09161317e-01  2.87419409e-01 -1.00000000e+09]\n",
      "   [ 2.15337181e+00  3.60664129e-01  9.78426635e-01 -1.00000000e+09]]\n",
      "\n",
      "  [[ 7.02126324e-01  5.12081623e-01 -8.39796782e-01 -1.00000000e+09]\n",
      "   [ 3.06374669e-01  1.94121861e+00  4.61607873e-01 -1.00000000e+09]\n",
      "   [ 1.49702340e-01 -2.96758413e-01 -6.56576157e-01 -1.00000000e+09]\n",
      "   [-3.50956023e-01  1.10368121e+00 -1.40378508e-03 -1.00000000e+09]]\n",
      "\n",
      "  [[-3.14803481e-01  8.02864507e-02  7.31804907e-01 -1.00000000e+09]\n",
      "   [ 1.78536788e-01  1.21934068e+00 -1.04999316e+00 -1.00000000e+09]\n",
      "   [-1.28000247e+00  1.20979929e+00  7.14073837e-01 -1.00000000e+09]\n",
      "   [ 1.19064867e+00 -1.01138163e+00  1.51221311e+00 -1.00000000e+09]]]], shape=(1, 4, 4, 4), dtype=float32)\n",
      "attention_weights= tf.Tensor(\n",
      "[[[[0.5855992  0.02130149 0.39309934 0.        ]\n",
      "   [0.34054583 0.24322377 0.41623035 0.        ]\n",
      "   [0.01674327 0.02091246 0.9623443  0.        ]\n",
      "   [0.34156176 0.23913892 0.41929933 0.        ]]\n",
      "\n",
      "  [[0.2915029  0.613854   0.09464307 0.        ]\n",
      "   [0.42777377 0.13270529 0.43952096 0.        ]\n",
      "   [0.08939549 0.5279218  0.38268277 0.        ]\n",
      "   [0.67780775 0.11286089 0.20933138 0.        ]]\n",
      "\n",
      "  [[0.48998198 0.40517697 0.10484107 0.        ]\n",
      "   [0.13705036 0.7028844  0.1600653  0.        ]\n",
      "   [0.4792932  0.3066944  0.21401243 0.        ]\n",
      "   [0.1492234  0.63911337 0.21166329 0.        ]]\n",
      "\n",
      "  [[0.18752952 0.27839094 0.53407955 0.        ]\n",
      "   [0.24247038 0.68655306 0.07097656 0.        ]\n",
      "   [0.04900927 0.5909973  0.35999352 0.        ]\n",
      "   [0.40162864 0.04441145 0.5539599  0.        ]]]], shape=(1, 4, 4, 4), dtype=float32)\n",
      "value.shape= (1, 4, 4, 32)\n",
      "value= tf.Tensor(\n",
      "[[[[ 0.64883727 -1.485892    1.5328394   0.46827772 -0.6769665\n",
      "     0.74803287 -0.92148435 -0.5254221   0.44385305  0.8404297\n",
      "    -2.138074   -1.1688609  -0.32233533 -0.32736272  0.82029504\n",
      "    -0.4285142   1.8515362  -1.9719353  -1.764628    0.78933156\n",
      "    -0.6976118  -0.56422937  0.1760075   1.067821    0.49130356\n",
      "    -0.5306967  -0.16074874 -0.4481589   0.5074094   0.7826995\n",
      "    -1.9957942  -0.07894506]\n",
      "   [-1.4374622  -1.275661   -1.4130063   0.27529716 -0.2802743\n",
      "    -0.8856967   0.2834496  -0.47005233 -1.3693243  -1.5767468\n",
      "    -0.20918754 -0.21424805 -0.4251579  -0.36833033  0.00278387\n",
      "     1.8453127   1.3101182   1.0370901  -1.4219617   0.10072394\n",
      "     1.0115863  -1.6763064  -0.31493974 -0.7312489   0.38439608\n",
      "     3.323385    0.30176204  0.5310373  -0.47229677  0.844129\n",
      "    -0.84424216  1.4455016 ]\n",
      "   [ 0.48017585  0.95918506 -1.3255441   0.25105435  1.6351931\n",
      "    -1.1221607   1.1899563   0.82800204  1.2783021   0.5548854\n",
      "    -0.43416938 -1.0272976   1.2650319  -1.0939604   1.3459073\n",
      "     0.60413736 -0.2303476  -2.5416415   1.0733546  -0.51220465\n",
      "     0.05487275 -0.9032036  -0.9169943  -0.32160535 -1.4097519\n",
      "    -2.980072   -0.3359889  -0.9683737  -0.7375882  -1.4055623\n",
      "     1.3697484  -0.8961499 ]\n",
      "   [ 1.8703365  -0.08678695 -0.30449226  1.1127282   0.7619498\n",
      "    -0.16356823  0.09655845 -0.11079863  0.4955906  -0.11449388\n",
      "     1.0379037   0.8780067  -1.3992941   1.0517304  -0.92330277\n",
      "     0.03752055 -0.12122627 -0.5350873  -0.24063477  1.2563531\n",
      "    -0.75422955  0.85384667 -0.41657043  1.4811673   0.09208634\n",
      "    -1.2217293   1.0621927  -0.07699861  0.8672639  -1.7558088\n",
      "     0.81978464 -0.54997045]]\n",
      "\n",
      "  [[ 0.56824476 -1.3667436  -1.0105847  -0.39787543  0.79550844\n",
      "    -0.40158316 -0.78162706 -2.062097   -1.1776941  -1.4295121\n",
      "    -0.1393954  -0.2482037   0.511208   -0.09715286  0.84980804\n",
      "     0.7462023   0.11396263  1.5797698   0.22616567 -2.6739721\n",
      "    -1.8509585  -1.463409   -1.1059811  -1.2200576   0.02410682\n",
      "    -1.2500789   2.613848    0.0507191  -0.631588    1.4189637\n",
      "    -0.3406181   1.0278784 ]\n",
      "   [ 0.00919319  0.8408695  -0.22988175  0.7353938   0.77311987\n",
      "    -0.9377571   0.55040985  0.14833295  0.17857134 -1.0255306\n",
      "     0.252466    0.57815117  0.7362253   0.22841196  0.2684786\n",
      "    -0.6101735   2.4991045  -1.7601433  -0.39464352  0.4914669\n",
      "    -0.77349395 -1.8321987   0.58763313  0.56160814  0.75886494\n",
      "     1.063314    1.2586926  -0.09792127  0.8240687   0.27595222\n",
      "    -0.45322046 -1.8636161 ]\n",
      "   [ 0.12296107  0.7208222   0.47466874  0.02209537  0.25987917\n",
      "    -1.3943751   0.18936098  0.7626725   1.0727967   0.17310026\n",
      "     0.42795038 -0.39206144  0.7609733   0.13597804 -0.7377059\n",
      "    -0.7895719   0.2654281   1.5709081  -0.18353331 -0.75301754\n",
      "    -1.3908367   2.519713    1.6423779  -0.67712224 -1.1133147\n",
      "    -0.3026904   0.5939217   1.7613198  -0.09180951 -1.3025415\n",
      "     0.6806164  -0.07827005]\n",
      "   [ 0.18679617  0.6928165   0.21993515  0.541359   -0.29975098\n",
      "     1.1375904  -0.8482532  -0.23934826 -0.277591    2.0820208\n",
      "     1.1849931   1.4853712  -1.1452699  -0.07192679 -1.0435605\n",
      "     0.13826759  0.9480853   1.8727845   0.74999267 -0.2516684\n",
      "    -0.11237718 -0.5970925  -0.79736626  1.814856    1.6218251\n",
      "    -0.11532409  0.28219137 -0.26425824 -0.8273112  -1.4732995\n",
      "    -0.42470068 -1.2353107 ]]\n",
      "\n",
      "  [[-2.0040586   1.513696   -0.10090959 -0.5904192  -0.7345605\n",
      "     0.31400645  2.0980885   0.1619681  -1.2248065   1.4119834\n",
      "     1.424025   -0.23069341  0.6708773   0.9442334   1.0691032\n",
      "     0.09310047 -0.02997962  0.3631604  -0.5951521  -1.0304041\n",
      "     0.3119767  -0.29118177  1.987872   -1.0463915  -0.01752109\n",
      "    -0.3999594   0.2433962   1.5335854   0.03614972  0.59701914\n",
      "     0.7812644   1.9048256 ]\n",
      "   [ 2.104973   -0.8564513  -0.2609724  -1.8545358   0.8094475\n",
      "    -0.01943487  0.66348344 -0.4476987   0.13947922 -0.10013211\n",
      "    -0.78455687  0.875979    0.76617825  0.08848763 -1.8110306\n",
      "    -0.36377504  0.23846023 -1.0260264   0.47944754  0.17523935\n",
      "     0.4615437   0.27235562 -1.3765965   0.7515509   0.93794143\n",
      "     0.9816611  -1.6104178   0.31909907  0.07252888  0.3357014\n",
      "     1.5327026   0.4874683 ]\n",
      "   [-0.42588693  0.6805628  -0.2658672   1.1719168   0.33448723\n",
      "     0.5175703   1.4017411   0.13500205  0.01456484 -0.7393059\n",
      "     1.3592293   0.36076766 -1.4681689  -0.51388377  0.03290939\n",
      "     0.6267852  -0.5805964  -0.5820674  -0.15779912  0.96989596\n",
      "     0.00080834  1.8699925  -0.5793061  -0.6245507   1.8850588\n",
      "    -2.1099472  -0.2305624   1.6130688  -0.5081534  -0.74670744\n",
      "    -0.43024045  0.07080629]\n",
      "   [ 0.66204095 -0.5040644  -0.06624489 -0.08858196  2.5923395\n",
      "     1.155305    0.7705233   1.1670842  -0.38987997 -0.26378512\n",
      "     0.5132845   1.0714327  -0.9318232  -1.1089724   0.6026302\n",
      "    -1.3857834  -1.949632    1.594573   -2.1232452   0.06250064\n",
      "     0.7116815   0.19966297  0.8383386  -0.202103    0.19386272\n",
      "    -1.6324643  -0.90925044  0.91584086 -1.0177568  -1.6924343\n",
      "    -0.32612365  0.3048252 ]]\n",
      "\n",
      "  [[-0.96902853 -0.8902097   0.3941771   0.24930581 -0.42580155\n",
      "    -0.3142757  -0.72476184 -1.7213426   2.3474245   2.2698178\n",
      "    -2.0112615  -0.48086286  2.3884223  -1.4401522  -2.2788877\n",
      "    -0.56152135 -0.25946733  2.6871278   1.4679143  -0.3149124\n",
      "     1.2064239  -0.6278533   1.1471837   0.56910896  1.3419912\n",
      "    -0.19587982 -0.788592   -1.3970934   1.2267638   0.95406544\n",
      "    -1.7518954   0.09745122]\n",
      "   [ 0.16486944  0.42888674  0.17242755  0.02424308  0.537511\n",
      "     1.4060081   0.64943314 -0.43307817 -0.25545245  0.11400468\n",
      "     0.11465883 -0.71755517 -0.5515097   0.96317637 -0.62430555\n",
      "    -0.95685345 -1.9614505   1.2241138   0.06095259  2.6140578\n",
      "    -1.278278    0.02951697  1.1851577   0.74659616  0.59714323\n",
      "     0.16923071  0.7701919   0.7200749  -0.0879586   1.489058\n",
      "    -0.20844685 -1.0539527 ]\n",
      "   [ 1.1525077  -1.0704871   0.16739799  0.33818483 -0.30377683\n",
      "    -1.9638548  -1.8698537  -0.29772294 -0.3896265   0.01106519\n",
      "    -0.09590802 -0.71291274  0.6503527   0.8209613  -0.7933652\n",
      "    -0.09217893  0.25786546  0.82986397  0.8172591   0.33302894\n",
      "    -0.7054438   0.44397384  0.5484835  -0.565721   -3.22361\n",
      "    -2.0528266   0.73467714 -1.7187022   0.16787966  0.9590669\n",
      "     0.5225389   1.099211  ]\n",
      "   [ 0.8555119  -2.67447    -2.2666197   0.0666431   1.5045979\n",
      "     0.16962086 -0.15441382  1.1176894   0.7149976   0.07062009\n",
      "    -0.1656506  -0.23238806 -0.82167244  0.6222929  -0.25629067\n",
      "     0.47949237 -0.81355053  1.7436947   0.20567386  1.4591503\n",
      "    -1.5454756   0.40216407 -0.29164064  1.8046491  -0.45715207\n",
      "     0.37054017  0.25644913 -0.88397396  1.6646262  -0.31255877\n",
      "     0.36856014 -0.6907793 ]]]], shape=(1, 4, 4, 32), dtype=float32)\n",
      "output = tf.Tensor(\n",
      "[[[[ 0.5380953  -0.52025557  0.3464598   0.37877658  0.24039206\n",
      "    -0.02193984 -0.06581154  0.0077875   0.73325104  0.67669296\n",
      "    -1.4271821  -1.0928779   0.2994674  -0.62958443  1.0094987\n",
      "     0.02585632  1.0216161  -2.1317897  -0.6417197   0.26303017\n",
      "    -0.36540216 -0.7211689  -0.2641087   0.48331556 -0.25827733\n",
      "    -1.4114468  -0.21978337 -0.63179666 -0.00286758 -0.07619616\n",
      "    -0.6482719  -0.36771473]\n",
      "   [ 0.0711976  -0.4170435  -0.37340632  0.3309253   0.3819095\n",
      "    -0.42776036  0.25042996  0.05138135  0.35016823  0.13366269\n",
      "    -0.959706   -0.8777534   0.31336623 -0.6564082   0.8402326\n",
      "     0.5543555   0.8533071  -1.4771976  -0.50002885  0.08010691\n",
      "     0.03131274 -0.97580427 -0.39834306  0.05192298 -0.32597584\n",
      "    -0.61279666 -0.12119539 -0.4265243  -0.24908423 -0.1131804\n",
      "    -0.31486833 -0.04830882]\n",
      "   [ 0.44289726  0.8715104  -1.2795144   0.25519836  1.556423\n",
      "    -1.0859025   1.1356467   0.7781958   1.2089623   0.5150887\n",
      "    -0.4579934  -1.012665    1.2031082  -1.0659504   1.3090189\n",
      "     0.6128034  -0.16327514 -2.4572625   0.9736543  -0.47759482\n",
      "     0.06228093 -0.9136956  -0.88610345 -0.30690846 -1.340402\n",
      "    -2.8072407  -0.31971788 -0.92830724 -0.71119505 -1.321877\n",
      "     1.2670982  -0.8334975 ]\n",
      "   [ 0.07920225 -0.4103984  -0.37014526  0.33104697  0.38738504\n",
      "    -0.42682636  0.2519879   0.05530879  0.36013567  0.14266022\n",
      "    -0.9623561  -0.88121843  0.31865782 -0.65859354  0.84518516\n",
      "     0.54823637  0.8491296  -1.4912376  -0.49271896  0.07892543\n",
      "     0.02664024 -0.97230196 -0.399692    0.05500786 -0.33137345\n",
      "    -0.63605726 -0.12362251 -0.43212074 -0.24890316 -0.12014702\n",
      "    -0.30924362 -0.05704397]]\n",
      "\n",
      "  [[ 0.18292569  0.18598223 -0.3907781   0.33753374  0.7310715\n",
      "    -0.8246765   0.12794644 -0.43787077 -0.13215174 -1.0298502\n",
      "     0.15484564  0.2454424   0.6729743   0.12476064  0.34270942\n",
      "    -0.23176484  1.5924267  -0.47128785 -0.19369572 -0.5490496\n",
      "    -1.1460052  -1.312817    0.19376393 -0.07498986  0.36749196\n",
      "     0.25967035  1.5908082   0.12137211  0.31305903  0.45974988\n",
      "    -0.3130867  -0.8517663 ]\n",
      "   [ 0.29834417 -0.15625277 -0.25418133 -0.06289865  0.55711704\n",
      "    -0.9090891  -0.17808914 -0.52721596 -0.00857261 -0.67151994\n",
      "     0.16196704 -0.20177053  0.65084606  0.04851723  0.07491693\n",
      "    -0.10880087  0.49705583  1.1326509  -0.03629028 -1.4096018\n",
      "    -1.5057402   0.23831618  0.32673174 -0.7449897  -0.37830752\n",
      "    -0.5266824   1.5462118   0.7828386  -0.20117068  0.07112151\n",
      "     0.09329292  0.15798637]\n",
      "   [ 0.10270689  0.5975789  -0.03005375  0.36111766  0.578713\n",
      "    -1.0645654   0.2931646   0.18582764  0.399532   -0.6029494\n",
      "     0.28459024  0.13299517  0.72558045  0.16393508 -0.06460261\n",
      "    -0.55757236  1.4310943  -0.18683422 -0.25835776 -0.26775178\n",
      "    -1.106061   -0.13382906  0.8398643  -0.07170549 -0.02326998\n",
      "     0.3337608   1.1254411   0.626866    0.3434488  -0.22593004\n",
      "    -0.00925452 -0.92190844]\n",
      "   [ 0.41193783 -0.6805974  -0.6115637  -0.18206057  0.68085766\n",
      "    -0.6699187  -0.42803395 -1.221313   -0.5535265  -1.0484414\n",
      "     0.02359369 -0.1850545   0.5888874  -0.01160771  0.4518822\n",
      "     0.27163482  0.41485834  1.2009693   0.07033774 -1.9146019\n",
      "    -1.633037   -0.67123854 -0.33952054 -0.90532386 -0.13106576\n",
      "    -0.7906692   2.03807     0.3920258  -0.35430872  0.7202659\n",
      "    -0.13955007  0.46999025]]\n",
      "\n",
      "  [[-0.17371643  0.46602032 -0.1830577  -0.91784495  0.00311609\n",
      "     0.20024556  1.4438138  -0.087882   -0.5420923   0.5737656\n",
      "     0.52236533  0.27971417  0.4852311   0.44463438 -0.20649631\n",
      "    -0.03606289  0.02105877 -0.29880476 -0.11389651 -0.33219153\n",
      "     0.3399546   0.16373041  0.35552117 -0.2736804   0.5690788\n",
      "    -0.01943554 -0.5574169   1.0498366  -0.0061756   0.3502615\n",
      "     0.95871437  1.1382645 ]\n",
      "   [ 1.136726   -0.28559914 -0.23981923 -1.1968582   0.5218161\n",
      "     0.11221927  0.978266   -0.2708735  -0.06749109  0.00479431\n",
      "    -0.13872418  0.64184177  0.3954758   0.10934914 -1.1211566\n",
      "    -0.14260578  0.07056793 -0.7645754   0.23017223  0.13720244\n",
      "     0.36729777  0.45084885 -0.78787637  0.28487617  0.9585956\n",
      "     0.29745033 -1.135485    0.6926645  -0.02540397  0.19825903\n",
      "     1.1155187   0.6150245 ]\n",
      "   [-0.4060933   0.60848427 -0.18530294 -0.60095483 -0.03223241\n",
      "     0.25530708  1.5090762  -0.03078437 -0.5411469   0.48782337\n",
      "     0.73279834  0.23529682  0.24232307  0.3697258  -0.03597598\n",
      "     0.06719448 -0.06548946 -0.26518586 -0.17197944 -0.23255096\n",
      "     0.2912542   0.34417015  0.4066004  -0.40469348  0.68268967\n",
      "    -0.3421828  -0.42659122  1.1781198  -0.06918062  0.22930029\n",
      "     0.7524493   1.0776272 ]\n",
      "   [ 0.9561193  -0.17744045 -0.23812336 -1.0253112   0.4785138\n",
      "     0.14398667  1.0338222  -0.23338583 -0.09054393 -0.00977874\n",
      "    -0.00122398  0.6017864   0.27902788  0.08868501 -0.99095297\n",
      "    -0.0859333   0.02503852 -0.72475743  0.18421043  0.16352879\n",
      "     0.3417041   0.52642375 -0.70578206  0.19198567  0.9958341\n",
      "     0.12111101 -1.0417207   0.77421474 -0.05580885  0.14558993\n",
      "     1.0050875   0.61077917]]\n",
      "\n",
      "  [[ 0.47970748 -0.6192677   0.21132594  0.23411885 -0.09245317\n",
      "    -0.71637076 -0.9537686  -0.6023753   0.1610042   0.46330538\n",
      "    -0.3964734  -0.670689    0.64170444  0.4365272  -1.0248798\n",
      "    -0.42091203 -0.45698717  1.2879113   0.7287272   0.8465386\n",
      "    -0.506384    0.12759358  0.8380018   0.01243034 -1.303762\n",
      "    -1.0859936   0.4589062  -0.9794576   0.29522866  1.1056738\n",
      "    -0.10748446  0.3119302 ]\n",
      "   [-0.03996807  0.00262453  0.22583827  0.10109663  0.24422452\n",
      "     0.74970895  0.13742124 -0.73583704  0.3661449   0.6294192\n",
      "    -0.41575918 -0.6598348   0.2466408   0.37034643 -1.0374919\n",
      "    -0.7996255  -1.3912506   1.5508689   0.4557792   1.7419698\n",
      "    -0.6351536  -0.10045911  1.1307611   0.61041707  0.5065629\n",
      "    -0.07701176  0.38971224  0.03362828  0.2489812   1.3217212\n",
      "    -0.5308045  -0.6219472 ]\n",
      "   [ 0.4648413  -0.17552607  0.18148474  0.14829025  0.18744165\n",
      "     0.10856956 -0.32484207 -0.44748807 -0.17618917  0.18260197\n",
      "    -0.06533367 -0.70428383  0.02523687  0.7941946  -0.76625586\n",
      "    -0.62620133 -1.0790982   1.1538877   0.4021722   1.6493556\n",
      "    -0.95028806  0.14650153  0.9540981   0.265472   -0.7417987\n",
      "    -0.64858925  0.68101203 -0.2616299   0.0685751   1.2720451\n",
      "    -0.02094002 -0.22239837]\n",
      "   [ 0.25657555 -0.93149316  0.25870234  0.28854585 -0.31542265\n",
      "    -1.151676   -1.2980669  -0.87550074  0.7156104   0.92281663\n",
      "    -0.85581726 -0.6199211   1.2950348  -0.08085063 -1.3824854\n",
      "    -0.31908172 -0.04847327  1.5933034   1.0449922   0.17410094\n",
      "     0.03697664 -0.00490926  0.81721425 -0.05165887 -1.2202485\n",
      "    -1.2083389   0.12446588 -1.4812253   0.58179575  0.9805959\n",
      "    -0.4234032   0.6012504 ]]]], shape=(1, 4, 4, 32), dtype=float32)\n",
      "(1, 4, 128)\n"
     ]
    }
   ],
   "source": [
    "x = tf.constant(np.random.randn(1,4,128))\n",
    "\n",
    "mask = create_padding_mask(tf.constant([[1, 23, 777, 0]]))  # (1,1,1,4)\n",
    "\n",
    "outputs = MultiHeadAttention(128,4)({ 'query':x, 'key':x, 'value':x, 'mask':mask })\n",
    "print(outputs.shape)"
   ]
  },
  {
   "cell_type": "code",
   "execution_count": 174,
   "metadata": {},
   "outputs": [
    {
     "name": "stdout",
     "output_type": "stream",
     "text": [
      "[[ 1.  2.]\n",
      " [ 3.  4.]\n",
      " [ 5.  6.]\n",
      " [ 7.  8.]\n",
      " [ 9. 10.]]\n",
      "tf.Tensor(\n",
      "[[ 1.25  2.5 ]\n",
      " [ 3.75  5.  ]\n",
      " [ 6.25  7.5 ]\n",
      " [ 8.75  0.  ]\n",
      " [11.25 12.5 ]], shape=(5, 2), dtype=float32)\n"
     ]
    }
   ],
   "source": [
    "# tf.random.set_seed(1)\n",
    "layer = tf.keras.layers.Dropout(.2, input_shape=(2,))\n",
    "data = np.arange(1, 11).reshape(5, 2).astype(np.float32)\n",
    "print(data)\n",
    "\n",
    "outputs = layer(data, training=True)\n",
    "print(outputs)"
   ]
  },
  {
   "cell_type": "code",
   "execution_count": 191,
   "metadata": {},
   "outputs": [
    {
     "name": "stdout",
     "output_type": "stream",
     "text": [
      "tf.Tensor(\n",
      "[[  0.  10.  20.  30.]\n",
      " [ 40.  50.  60.  70.]\n",
      " [ 80.  90. 100. 110.]\n",
      " [120. 130. 140. 150.]\n",
      " [160. 170. 180. 190.]\n",
      " [200. 210. 220. 230.]\n",
      " [240. 250. 260. 270.]\n",
      " [280. 290. 300. 310.]], shape=(8, 4), dtype=float32)\n",
      "[ 15.  55.  95. 135. 175. 215. 255. 295.] [11.18034 11.18034 11.18034 11.18034 11.18034 11.18034 11.18034 11.18034]\n",
      "<tf.Variable 'layer_normalization_11/beta:0' shape=(4,) dtype=float32, numpy=array([0., 0., 0., 0.], dtype=float32)>\n",
      "<tf.Variable 'layer_normalization_11/gamma:0' shape=(4,) dtype=float32, numpy=array([1., 1., 1., 1.], dtype=float32)>\n",
      "tf.Tensor(\n",
      "[[-1.3416353  -0.44721177  0.4472118   1.3416353 ]\n",
      " [-1.3416353  -0.44721177  0.4472118   1.3416353 ]\n",
      " [-1.341635   -0.4472114   0.44721216  1.3416357 ]\n",
      " [-1.3416356  -0.447212    0.44721156  1.3416351 ]\n",
      " [-1.3416352  -0.44721165  0.44721192  1.3416355 ]\n",
      " [-1.3416349  -0.4472113   0.44721228  1.3416358 ]\n",
      " [-1.3416345  -0.44721094  0.44721264  1.3416362 ]\n",
      " [-1.3416361  -0.4472125   0.4472111   1.3416346 ]], shape=(8, 4), dtype=float32)\n",
      "[ 0.00000003  0.00000003  0.00000036 -0.00000021  0.00000012  0.00000051\n",
      "  0.00000083 -0.00000069] [0.99999595 0.99999595 0.99999595 0.99999595 0.99999595 0.99999595\n",
      " 0.99999595 0.99999595]\n"
     ]
    }
   ],
   "source": [
    "data = tf.constant(np.arange(32).reshape(8, 4) * 10, dtype=tf.float32)\n",
    "print(data)\n",
    "\n",
    "m = np.mean(data.numpy(), axis=1)\n",
    "s = np.std(data.numpy(), axis=1)\n",
    "print(m, s)\n",
    "\n",
    "layer = tf.keras.layers.LayerNormalization(axis=1)\n",
    "\n",
    "output = layer(data)\n",
    "print(layer.beta)\n",
    "print(layer.gamma)\n",
    "print(output)\n",
    "\n",
    "m = np.mean(output.numpy(), axis=1)\n",
    "s = np.std(output.numpy(), axis=1)\n",
    "print(m, s)"
   ]
  },
  {
   "cell_type": "code",
   "execution_count": 206,
   "metadata": {},
   "outputs": [
    {
     "name": "stdout",
     "output_type": "stream",
     "text": [
      "744.2\n",
      "697530.5599999999\n",
      "[ 0.43918521  1.76703799 -0.53185952 -0.84316855 -0.83119513]\n",
      "0.0\n",
      "0.9999999999999283\n",
      "[3.87837042 6.53407598 1.93628097 1.31366289 1.33760974]\n",
      "2.9999999999999996\n",
      "1.9999999999998566\n"
     ]
    }
   ],
   "source": [
    "x_i = np.array([1111,2220,300,40,50])\n",
    "k = len(x_i)\n",
    "mean_i = sum(x_i[j] for j in range(k)) / k\n",
    "print(mean_i)\n",
    "var_i = sum((x_i[j] - mean_i) ** 2 for j in range(k)) / k\n",
    "print(var_i)\n",
    "\n",
    "x_i_normalized = (x_i - mean_i) / np.sqrt(var_i + 0.0000001)\n",
    "print(x_i_normalized)\n",
    "print(np.mean(x_i_normalized))\n",
    "print(np.std(x_i_normalized))\n",
    "\n",
    "gamma=2\n",
    "beta=3\n",
    "\n",
    "output_i = x_i_normalized * gamma + beta\n",
    "print(output_i)\n",
    "print(np.mean(output_i))\n",
    "print(np.std(output_i))"
   ]
  },
  {
   "cell_type": "code",
   "execution_count": 207,
   "metadata": {},
   "outputs": [],
   "source": [
    "def encoder_layer(dff, d_model, num_heads, dropout, name=\"encoder_layer\"):\n",
    "    inputs = tf.keras.Input(shape=(None, d_model), name=\"inputs\")   # (None,None,128)\n",
    "\n",
    "    # 인코더는 패딩 마스크 사용\n",
    "    padding_mask = tf.keras.Input(shape=(1, 1, None), name=\"padding_mask\")  # (None,1,1,None)\n",
    "\n",
    "    # 멀티-헤드 어텐션 (첫번째 서브층 / 셀프 어텐션)\n",
    "    attention = MultiHeadAttention(\n",
    "        d_model, num_heads, name=\"attention\")({\n",
    "            'query': inputs, 'key': inputs, 'value': inputs, # Q = K = V\n",
    "            'mask': padding_mask # 패딩 마스크 사용\n",
    "        })       \n",
    "    \n",
    "#     print('attention.shape=', attention.shape)  # (64,40,128)\n",
    "\n",
    "    # 드롭아웃 + 잔차 연결과 층 정규화\n",
    "    attention = tf.keras.layers.Dropout(rate=dropout)(attention)\n",
    "#     print('attention.shape=', attention.shape)  # (64,40,128)\n",
    "    attention = tf.keras.layers.LayerNormalization(\n",
    "        epsilon=1e-6)(inputs + attention)  # (64,40,128) + (64,40,128)\n",
    "    \n",
    "#     print('attention.shape=', attention.shape)\n",
    "\n",
    "    # 포지션 와이즈 피드 포워드 신경망 (두번째 서브층)\n",
    "    outputs = tf.keras.layers.Dense(units=dff, activation='relu')(attention)  # (64,40,128)(128,512)=>(64,40,512)\n",
    "    outputs = tf.keras.layers.Dense(units=d_model)(outputs)  # (64,40,512)(512,128)=>(64,40,128)\n",
    "\n",
    "    # 드롭아웃 + 잔차 연결과 층 정규화\n",
    "    outputs = tf.keras.layers.Dropout(rate=dropout)(outputs)\n",
    "    outputs = tf.keras.layers.LayerNormalization(\n",
    "        epsilon=1e-6)(attention + outputs)  # (64,40,128) + (64,40,128)\n",
    "\n",
    "    return tf.keras.Model(\n",
    "        inputs=[inputs, padding_mask], outputs=outputs, name=name)"
   ]
  },
  {
   "cell_type": "code",
   "execution_count": 208,
   "metadata": {},
   "outputs": [],
   "source": [
    "def encoder(vocab_size, num_layers, dff,\n",
    "            d_model, num_heads, dropout,\n",
    "            name=\"encoder\"):\n",
    "    inputs = tf.keras.Input(shape=(None,), name=\"inputs\")\n",
    "\n",
    "#     print(\"inputs.shape=\",inputs.shape)  # (None,None)\n",
    "    # 인코더는 패딩 마스크 사용\n",
    "    padding_mask = tf.keras.Input(shape=(1, 1, None), name=\"padding_mask\") # (None,1,1,None)\n",
    "#     print(\"padding_mask.shape=\",padding_mask.shape)\n",
    "\n",
    "    # 포지셔널 인코딩 + 드롭아웃                                          # (N,T)\n",
    "    embeddings = tf.keras.layers.Embedding(vocab_size, d_model)(inputs)   # (9000,128) => (N,T,D)\n",
    "    embeddings *= tf.math.sqrt(tf.cast(d_model, tf.float32))              # (64,40,128)\n",
    "    embeddings = PositionalEncoding(vocab_size, d_model)(embeddings)      # (64,40,128)\n",
    "    outputs = tf.keras.layers.Dropout(rate=dropout)(embeddings)\n",
    "\n",
    "    # 인코더를 num_layers개 쌓기\n",
    "    for i in range(num_layers):\n",
    "        outputs = encoder_layer(dff=dff, d_model=d_model, num_heads=num_heads,\n",
    "          dropout=dropout, name=\"encoder_layer_{}\".format(i),\n",
    "      )([outputs, padding_mask])\n",
    "#         print('outputs.shape=',outputs.shape)\n",
    "\n",
    "    return tf.keras.Model(\n",
    "        inputs=[inputs, padding_mask], outputs=outputs, name=name)"
   ]
  },
  {
   "cell_type": "code",
   "execution_count": 211,
   "metadata": {},
   "outputs": [
    {
     "name": "stdout",
     "output_type": "stream",
     "text": [
      "(64, 40)\n",
      "(64, 1, 1, 40)\n",
      "(64, 40, 128)\n"
     ]
    }
   ],
   "source": [
    "# 인코더의 테스트\n",
    "\n",
    "# 인코더의 입력\n",
    "x = tf.constant(np.arange(64*40).reshape(64,40))  # (N,T)\n",
    "print(x.shape)\n",
    "\n",
    "# 인코더의 패딩 마스크\n",
    "enc_padding_mask = tf.keras.layers.Lambda(\n",
    "    create_padding_mask, output_shape=(1, 1, 40),\n",
    "    name='enc_padding_mask')(x)\n",
    "\n",
    "print(enc_padding_mask.shape)\n",
    "\n",
    "# 인코더의 출력은 enc_outputs. 디코더로 전달된다.\n",
    "enc_outputs = encoder(vocab_size=9000, num_layers=2, dff=512,\n",
    "    d_model=128, num_heads=4, dropout=0.2,)(inputs=[x, enc_padding_mask]) # 인코더의 입력은 입력 문장과 패딩 마스크\n",
    "\n",
    "print(enc_outputs.shape)"
   ]
  },
  {
   "cell_type": "code",
   "execution_count": null,
   "metadata": {},
   "outputs": [],
   "source": [
    "seq_len=5\n",
    "a = tf.ones((seq_len, seq_len))\n",
    "print(a)\n",
    "print(tf.linalg.band_part(a, -1, 0))\n",
    "print(1-tf.linalg.band_part(a, -1, 0))"
   ]
  },
  {
   "cell_type": "code",
   "execution_count": null,
   "metadata": {},
   "outputs": [],
   "source": [
    "def create_look_ahead_mask(x):\n",
    "    seq_len = tf.shape(x)[1]\n",
    "    print(seq_len)  # 5\n",
    "    look_ahead_mask = 1 - tf.linalg.band_part(tf.ones((seq_len, seq_len)), -1, 0)\n",
    "    padding_mask = create_padding_mask(x) # 패딩 마스크도 포함\n",
    "    return tf.maximum(look_ahead_mask, padding_mask)\n",
    "#     return look_ahead_mask"
   ]
  },
  {
   "cell_type": "code",
   "execution_count": null,
   "metadata": {},
   "outputs": [],
   "source": [
    "print(create_look_ahead_mask(tf.constant([[5, 4, 1, 0, 0]])))  # (N,T) => (1,5)"
   ]
  },
  {
   "cell_type": "code",
   "execution_count": null,
   "metadata": {},
   "outputs": [],
   "source": [
    "def decoder_layer(dff, d_model, num_heads, dropout, name=\"decoder_layer\"):\n",
    "    inputs = tf.keras.Input(shape=(None, d_model), name=\"inputs\")\n",
    "    enc_outputs = tf.keras.Input(shape=(None, d_model), name=\"encoder_outputs\")\n",
    "\n",
    "    # 디코더는 룩어헤드 마스크(첫번째 서브층)와 패딩 마스크(두번째 서브층) 둘 다 사용.\n",
    "    look_ahead_mask = tf.keras.Input(\n",
    "        shape=(1, None, None), name=\"look_ahead_mask\")\n",
    "    padding_mask = tf.keras.Input(shape=(1, 1, None), name='padding_mask')\n",
    "\n",
    "    # 멀티-헤드 어텐션 (첫번째 서브층 / 마스크드 셀프 어텐션)\n",
    "    attention1 = MultiHeadAttention(\n",
    "        d_model, num_heads, name=\"attention_1\")(inputs={\n",
    "            'query': inputs, 'key': inputs, 'value': inputs, # Q = K = V\n",
    "            'mask': look_ahead_mask # 룩어헤드 마스크\n",
    "        })\n",
    "\n",
    "    # 잔차 연결과 층 정규화\n",
    "    attention1 = tf.keras.layers.LayerNormalization(\n",
    "        epsilon=1e-6)(attention1 + inputs)\n",
    "\n",
    "    # 멀티-헤드 어텐션 (두번째 서브층 / 디코더-인코더 어텐션)\n",
    "    attention2 = MultiHeadAttention(\n",
    "        d_model, num_heads, name=\"attention_2\")(inputs={\n",
    "            'query': attention1, 'key': enc_outputs, 'value': enc_outputs, # Q != K = V\n",
    "            'mask': padding_mask # 패딩 마스크\n",
    "        })\n",
    "\n",
    "    # 드롭아웃 + 잔차 연결과 층 정규화\n",
    "    attention2 = tf.keras.layers.Dropout(rate=dropout)(attention2)\n",
    "    attention2 = tf.keras.layers.LayerNormalization(\n",
    "        epsilon=1e-6)(attention2 + attention1)\n",
    "\n",
    "    # 포지션 와이즈 피드 포워드 신경망 (세번째 서브층)\n",
    "    outputs = tf.keras.layers.Dense(units=dff, activation='relu')(attention2)\n",
    "    outputs = tf.keras.layers.Dense(units=d_model)(outputs)\n",
    "\n",
    "    # 드롭아웃 + 잔차 연결과 층 정규화\n",
    "    outputs = tf.keras.layers.Dropout(rate=dropout)(outputs)\n",
    "    outputs = tf.keras.layers.LayerNormalization(\n",
    "        epsilon=1e-6)(outputs + attention2)\n",
    "\n",
    "    return tf.keras.Model(\n",
    "        inputs=[inputs, enc_outputs, look_ahead_mask, padding_mask],\n",
    "        outputs=outputs,\n",
    "        name=name)"
   ]
  },
  {
   "cell_type": "code",
   "execution_count": null,
   "metadata": {},
   "outputs": [],
   "source": [
    "def decoder(vocab_size, num_layers, dff,\n",
    "            d_model, num_heads, dropout,\n",
    "            name='decoder'):\n",
    "    inputs = tf.keras.Input(shape=(None,), name='inputs')\n",
    "    enc_outputs = tf.keras.Input(shape=(None, d_model), name='encoder_outputs')\n",
    "\n",
    "    # 디코더는 룩어헤드 마스크(첫번째 서브층)와 패딩 마스크(두번째 서브층) 둘 다 사용.\n",
    "    look_ahead_mask = tf.keras.Input(\n",
    "        shape=(1, None, None), name='look_ahead_mask')\n",
    "    padding_mask = tf.keras.Input(shape=(1, 1, None), name='padding_mask')\n",
    "\n",
    "    # 포지셔널 인코딩 + 드롭아웃\n",
    "    embeddings = tf.keras.layers.Embedding(vocab_size, d_model)(inputs)\n",
    "    embeddings *= tf.math.sqrt(tf.cast(d_model, tf.float32))\n",
    "    embeddings = PositionalEncoding(vocab_size, d_model)(embeddings)\n",
    "    outputs = tf.keras.layers.Dropout(rate=dropout)(embeddings)\n",
    "\n",
    "    # 디코더를 num_layers개 쌓기\n",
    "    for i in range(num_layers):\n",
    "        outputs = decoder_layer(dff=dff, d_model=d_model, num_heads=num_heads,\n",
    "            dropout=dropout, name='decoder_layer_{}'.format(i),\n",
    "        )(inputs=[outputs, enc_outputs, look_ahead_mask, padding_mask])\n",
    "\n",
    "    return tf.keras.Model(\n",
    "        inputs=[inputs, enc_outputs, look_ahead_mask, padding_mask],\n",
    "        outputs=outputs,\n",
    "        name=name)"
   ]
  },
  {
   "cell_type": "code",
   "execution_count": null,
   "metadata": {},
   "outputs": [],
   "source": [
    "def transformer(vocab_size, num_layers, dff,\n",
    "                  d_model, num_heads, dropout,\n",
    "                  name=\"transformer\"):\n",
    "\n",
    "    # 인코더의 입력\n",
    "    inputs = tf.keras.Input(shape=(None,), name=\"inputs\")\n",
    "\n",
    "    # 디코더의 입력\n",
    "    dec_inputs = tf.keras.Input(shape=(None,), name=\"dec_inputs\")\n",
    "\n",
    "    # 인코더의 패딩 마스크\n",
    "    enc_padding_mask = tf.keras.layers.Lambda(\n",
    "        create_padding_mask, output_shape=(1, 1, None),\n",
    "        name='enc_padding_mask')(inputs)\n",
    "\n",
    "    # 디코더의 룩어헤드 마스크(첫번째 서브층)\n",
    "    look_ahead_mask = tf.keras.layers.Lambda(\n",
    "        create_look_ahead_mask, output_shape=(1, None, None),\n",
    "        name='look_ahead_mask')(dec_inputs)\n",
    "\n",
    "    # 디코더의 패딩 마스크(두번째 서브층)\n",
    "    dec_padding_mask = tf.keras.layers.Lambda(\n",
    "        create_padding_mask, output_shape=(1, 1, None),\n",
    "        name='dec_padding_mask')(inputs)\n",
    "\n",
    "    # 인코더의 출력은 enc_outputs. 디코더로 전달된다.\n",
    "    enc_outputs = encoder(vocab_size=vocab_size, num_layers=num_layers, dff=dff,\n",
    "        d_model=d_model, num_heads=num_heads, dropout=dropout,\n",
    "    )(inputs=[inputs, enc_padding_mask]) # 인코더의 입력은 입력 문장과 패딩 마스크\n",
    "\n",
    "    # 디코더의 출력은 dec_outputs. 출력층으로 전달된다.\n",
    "    dec_outputs = decoder(vocab_size=vocab_size, num_layers=num_layers, dff=dff,\n",
    "        d_model=d_model, num_heads=num_heads, dropout=dropout,\n",
    "    )(inputs=[dec_inputs, enc_outputs, look_ahead_mask, dec_padding_mask])\n",
    "\n",
    "    # 다음 단어 예측을 위한 출력층\n",
    "    outputs = tf.keras.layers.Dense(units=vocab_size, name=\"outputs\")(dec_outputs)\n",
    "\n",
    "    return tf.keras.Model(inputs=[inputs, dec_inputs], outputs=outputs, name=name)"
   ]
  },
  {
   "cell_type": "code",
   "execution_count": null,
   "metadata": {},
   "outputs": [],
   "source": [
    "small_transformer = transformer(\n",
    "    vocab_size = 9000,\n",
    "    num_layers = 4,\n",
    "    dff = 512,\n",
    "    d_model = 128,\n",
    "    num_heads = 4,\n",
    "    dropout = 0.3,\n",
    "    name=\"small_transformer\")\n",
    "\n",
    "tf.keras.utils.plot_model(\n",
    "    small_transformer, to_file='small_transformer.png', show_shapes=True)"
   ]
  },
  {
   "cell_type": "code",
   "execution_count": null,
   "metadata": {},
   "outputs": [],
   "source": [
    "def loss_function(y_true, y_pred):\n",
    "    y_true = tf.reshape(y_true, shape=(-1, MAX_LENGTH - 1))\n",
    "\n",
    "    loss = tf.keras.losses.SparseCategoricalCrossentropy(\n",
    "        from_logits=True, reduction='none')(y_true, y_pred)\n",
    "\n",
    "    mask = tf.cast(tf.not_equal(y_true, 0), tf.float32)\n",
    "    loss = tf.multiply(loss, mask)\n",
    "\n",
    "    return tf.reduce_mean(loss)"
   ]
  },
  {
   "cell_type": "code",
   "execution_count": null,
   "metadata": {
    "scrolled": false
   },
   "outputs": [],
   "source": [
    "class CustomSchedule(tf.keras.optimizers.schedules.LearningRateSchedule):\n",
    "\n",
    "    def __init__(self, d_model, warmup_steps=4000):\n",
    "        super(CustomSchedule, self).__init__()\n",
    "        self.d_model = d_model\n",
    "        self.d_model = tf.cast(self.d_model, tf.float32)\n",
    "        self.warmup_steps = warmup_steps\n",
    "\n",
    "    def __call__(self, step):\n",
    "        arg1 = tf.math.rsqrt(step)\n",
    "        arg2 = step * (self.warmup_steps**-1.5)\n",
    "\n",
    "        return tf.math.rsqrt(self.d_model) * tf.math.minimum(arg1, arg2)\n",
    "sample_learning_rate = CustomSchedule(d_model=128)\n",
    "\n",
    "plt.plot(sample_learning_rate(tf.range(200000, dtype=tf.float32)))\n",
    "plt.ylabel(\"Learning Rate\")\n",
    "plt.xlabel(\"Train Step\")\n",
    "# Text(0.5, 0, 'Train Step')"
   ]
  },
  {
   "cell_type": "markdown",
   "metadata": {},
   "source": [
    "#### tensorflow_datasets 처음 설치 시"
   ]
  },
  {
   "cell_type": "code",
   "execution_count": null,
   "metadata": {},
   "outputs": [],
   "source": [
    "!pip install tensorflow_datasets "
   ]
  },
  {
   "cell_type": "markdown",
   "metadata": {},
   "source": [
    "#### tensorflow_datasets 업그레이드 시"
   ]
  },
  {
   "cell_type": "code",
   "execution_count": null,
   "metadata": {},
   "outputs": [],
   "source": [
    "!pip3 install --user --upgrade tensorflow_datasets"
   ]
  },
  {
   "cell_type": "code",
   "execution_count": null,
   "metadata": {},
   "outputs": [],
   "source": [
    "import pandas as pd\n",
    "import numpy as np\n",
    "import matplotlib.pyplot as plt\n",
    "import re\n",
    "import urllib.request\n",
    "import time\n",
    "import tensorflow_datasets as tfds\n",
    "import tensorflow as tf"
   ]
  },
  {
   "cell_type": "code",
   "execution_count": null,
   "metadata": {},
   "outputs": [],
   "source": [
    "print(tf.__version__)"
   ]
  },
  {
   "cell_type": "code",
   "execution_count": null,
   "metadata": {},
   "outputs": [],
   "source": [
    "print(tfds.__version__)"
   ]
  },
  {
   "cell_type": "code",
   "execution_count": null,
   "metadata": {},
   "outputs": [],
   "source": [
    "# urllib.request.urlretrieve(\"https://raw.githubusercontent.com/songys/Chatbot_data/master/ChatbotData%20.csv\", filename=\"ChatBotData.csv\")\n",
    "train_data = pd.read_csv('ChatBotData.csv')\n",
    "train_data.head()"
   ]
  },
  {
   "cell_type": "code",
   "execution_count": null,
   "metadata": {},
   "outputs": [],
   "source": [
    "print('챗봇 샘플의 개수 :', len(train_data))"
   ]
  },
  {
   "cell_type": "code",
   "execution_count": null,
   "metadata": {},
   "outputs": [],
   "source": [
    "print(train_data.isnull().sum())"
   ]
  },
  {
   "cell_type": "code",
   "execution_count": null,
   "metadata": {},
   "outputs": [],
   "source": [
    "sentence = re.sub(r\"([?.!,])\", r\" \\1 \", \"   12시 땡!    \")\n",
    "sentence = sentence.strip()\n",
    "print(\"[%s]\"%sentence)"
   ]
  },
  {
   "cell_type": "code",
   "execution_count": null,
   "metadata": {},
   "outputs": [],
   "source": [
    "questions = []\n",
    "for sentence in train_data['Q']:\n",
    "    # 구두점에 대해서 띄어쓰기\n",
    "    # ex) 12시 땡! -> 12시 땡 !\n",
    "    sentence = re.sub(r\"([?.!,])\", r\" \\1 \", sentence)\n",
    "    sentence = sentence.strip()\n",
    "    questions.append(sentence)\n",
    "answers = []\n",
    "for sentence in train_data['A']:\n",
    "    # 구두점에 대해서 띄어쓰기\n",
    "    # ex) 12시 땡! -> 12시 땡 !\n",
    "    sentence = re.sub(r\"([?.!,])\", r\" \\1 \", sentence)\n",
    "    sentence = sentence.strip()\n",
    "    answers.append(sentence)"
   ]
  },
  {
   "cell_type": "code",
   "execution_count": null,
   "metadata": {},
   "outputs": [],
   "source": [
    "print(questions[:5])\n",
    "print(answers[:5])\n",
    "print(len(questions))"
   ]
  },
  {
   "cell_type": "code",
   "execution_count": null,
   "metadata": {},
   "outputs": [],
   "source": [
    "# 서브워드텍스트인코더를 사용하여 질문, 답변 데이터로부터 단어 집합(Vocabulary) 생성\n",
    "tokenizer = tfds.deprecated.text.SubwordTextEncoder.build_from_corpus(\n",
    "    questions + answers, target_vocab_size=2**13)\n",
    "print(tokenizer.vocab_size)"
   ]
  },
  {
   "cell_type": "code",
   "execution_count": null,
   "metadata": {},
   "outputs": [],
   "source": [
    "# 시작 토큰과 종료 토큰에 대한 정수 부여.\n",
    "START_TOKEN, END_TOKEN = [tokenizer.vocab_size], [tokenizer.vocab_size + 1]\n",
    "\n",
    "# 시작 토큰과 종료 토큰을 고려하여 단어 집합의 크기를 + 2\n",
    "VOCAB_SIZE = tokenizer.vocab_size + 2"
   ]
  },
  {
   "cell_type": "code",
   "execution_count": null,
   "metadata": {},
   "outputs": [],
   "source": [
    "print('시작 토큰 번호 :',START_TOKEN)\n",
    "print('종료 토큰 번호 :',END_TOKEN)\n",
    "print('단어 집합의 크기 :',VOCAB_SIZE)"
   ]
  },
  {
   "cell_type": "code",
   "execution_count": null,
   "metadata": {},
   "outputs": [],
   "source": [
    "# 서브워드텍스트인코더 토크나이저의 .encode()를 사용하여 텍스트 시퀀스를 정수 시퀀스로 변환.\n",
    "print(questions[20])\n",
    "print('임의의 질문 샘플을 정수 인코딩 : {}'.format(tokenizer.encode(questions[20])))"
   ]
  },
  {
   "cell_type": "code",
   "execution_count": null,
   "metadata": {},
   "outputs": [],
   "source": [
    "# 서브워드텍스트인코더 토크나이저의 .encode()와 .decode() 테스트해보기\n",
    "# 임의의 입력 문장을 sample_string에 저장\n",
    "sample_string = questions[20]\n",
    "\n",
    "# encode() : 텍스트 시퀀스 --> 정수 시퀀스\n",
    "tokenized_string = tokenizer.encode(sample_string)\n",
    "print ('정수 인코딩 후의 문장 {}'.format(tokenized_string))\n",
    "\n",
    "# decode() : 정수 시퀀스 --> 텍스트 시퀀스\n",
    "original_string = tokenizer.decode(tokenized_string)\n",
    "print ('기존 문장: {}'.format(original_string))"
   ]
  },
  {
   "cell_type": "code",
   "execution_count": null,
   "metadata": {},
   "outputs": [],
   "source": [
    "for ts in tokenized_string:\n",
    "    print ('{} ----> {}'.format(ts, tokenizer.decode([ts])))"
   ]
  },
  {
   "cell_type": "code",
   "execution_count": null,
   "metadata": {},
   "outputs": [],
   "source": [
    "# 최대 길이를 40으로 정의\n",
    "MAX_LENGTH = 40\n",
    "\n",
    "# 토큰화 / 정수 인코딩 / 시작 토큰과 종료 토큰 추가 / 패딩\n",
    "def tokenize_and_filter(inputs, outputs):\n",
    "  tokenized_inputs, tokenized_outputs = [], []\n",
    "\n",
    "  for (sentence1, sentence2) in zip(inputs, outputs):\n",
    "#     print(sentence1)\n",
    "    # encode(토큰화 + 정수 인코딩), 시작 토큰과 종료 토큰 추가\n",
    "    sentence1 = START_TOKEN + tokenizer.encode(sentence1) + END_TOKEN\n",
    "    sentence2 = START_TOKEN + tokenizer.encode(sentence2) + END_TOKEN\n",
    "\n",
    "\n",
    "    tokenized_inputs.append(sentence1)\n",
    "    tokenized_outputs.append(sentence2)\n",
    "\n",
    "  # 패딩\n",
    "  tokenized_inputs = tf.keras.preprocessing.sequence.pad_sequences(\n",
    "      tokenized_inputs, maxlen=MAX_LENGTH, padding='post')\n",
    "  tokenized_outputs = tf.keras.preprocessing.sequence.pad_sequences(\n",
    "      tokenized_outputs, maxlen=MAX_LENGTH, padding='post')\n",
    "\n",
    "  print(tokenized_inputs[0])\n",
    "\n",
    "  return tokenized_inputs, tokenized_outputs"
   ]
  },
  {
   "cell_type": "code",
   "execution_count": null,
   "metadata": {},
   "outputs": [],
   "source": [
    "questions, answers = tokenize_and_filter(questions, answers)"
   ]
  },
  {
   "cell_type": "code",
   "execution_count": null,
   "metadata": {},
   "outputs": [],
   "source": [
    "print('질문 데이터의 크기(shape) :', questions.shape)\n",
    "print('답변 데이터의 크기(shape) :', answers.shape)"
   ]
  },
  {
   "cell_type": "code",
   "execution_count": null,
   "metadata": {},
   "outputs": [],
   "source": [
    "print(questions[0])\n",
    "print(answers[0])"
   ]
  },
  {
   "cell_type": "code",
   "execution_count": null,
   "metadata": {},
   "outputs": [],
   "source": [
    "BATCH_SIZE = 64\n",
    "BUFFER_SIZE = 20000\n",
    "\n",
    "# 디코더의 실제값 시퀀스에서는 시작 토큰을 제거해야 한다.\n",
    "dataset = tf.data.Dataset.from_tensor_slices((\n",
    "    {\n",
    "        'inputs': questions,\n",
    "        'dec_inputs': answers[:, :-1] # 디코더의 입력. 마지막 패딩 토큰이 제거된다.\n",
    "    },\n",
    "    {\n",
    "        'outputs': answers[:, 1:]  # 맨 처음 토큰이 제거된다. 다시 말해 시작 토큰이 제거된다.\n",
    "    },\n",
    "))\n",
    "\n",
    "dataset = dataset.cache()\n",
    "dataset = dataset.shuffle(BUFFER_SIZE)\n",
    "dataset = dataset.batch(BATCH_SIZE)\n",
    "dataset = dataset.prefetch(tf.data.experimental.AUTOTUNE)\n",
    "# 임의의 샘플에 대해서 [:, :-1]과 [:, 1:]이 어떤 의미를 가지는지 테스트해본다.\n",
    "print(answers[0]) # 기존 샘플\n",
    "print(answers[:1][:, :-1]) # 마지막 패딩 토큰 제거하면서 길이가 39가 된다.\n",
    "print(answers[:1][:, 1:]) # 맨 처음 토큰이 제거된다. 다시 말해 시작 토큰이 제거된다. 길이는 역시 39가 된다."
   ]
  },
  {
   "cell_type": "code",
   "execution_count": null,
   "metadata": {},
   "outputs": [],
   "source": [
    "D_MODEL = 256\n",
    "NUM_LAYERS = 2\n",
    "NUM_HEADS = 8\n",
    "DFF = 512\n",
    "DROPOUT = 0.1\n",
    "\n",
    "model = transformer(\n",
    "    vocab_size=VOCAB_SIZE,\n",
    "    num_layers=NUM_LAYERS,\n",
    "    dff=DFF,\n",
    "    d_model=D_MODEL,\n",
    "    num_heads=NUM_HEADS,\n",
    "    dropout=DROPOUT)"
   ]
  },
  {
   "cell_type": "code",
   "execution_count": null,
   "metadata": {},
   "outputs": [],
   "source": [
    "learning_rate = CustomSchedule(D_MODEL)\n",
    "\n",
    "optimizer = tf.keras.optimizers.Adam(\n",
    "    learning_rate, beta_1=0.9, beta_2=0.98, epsilon=1e-9)\n",
    "\n",
    "def accuracy(y_true, y_pred):\n",
    "  # 레이블의 크기는 (batch_size, MAX_LENGTH - 1)\n",
    "  y_true = tf.reshape(y_true, shape=(-1, MAX_LENGTH - 1))\n",
    "  return tf.keras.metrics.sparse_categorical_accuracy(y_true, y_pred)\n",
    "\n",
    "model.compile(optimizer=optimizer, loss=loss_function, metrics=[accuracy])"
   ]
  },
  {
   "cell_type": "code",
   "execution_count": null,
   "metadata": {},
   "outputs": [],
   "source": [
    "EPOCHS = 50\n",
    "model.fit(dataset, epochs=EPOCHS)"
   ]
  },
  {
   "cell_type": "code",
   "execution_count": null,
   "metadata": {},
   "outputs": [],
   "source": [
    "def evaluate(sentence):\n",
    "  sentence = preprocess_sentence(sentence)\n",
    "\n",
    "  sentence = tf.expand_dims(\n",
    "      START_TOKEN + tokenizer.encode(sentence) + END_TOKEN, axis=0)\n",
    "\n",
    "  output = tf.expand_dims(START_TOKEN, 0)\n",
    "\n",
    "  # 디코더의 예측 시작\n",
    "  for i in range(MAX_LENGTH):\n",
    "    predictions = model(inputs=[sentence, output], training=False)\n",
    "\n",
    "    # 현재(마지막) 시점의 예측 단어를 받아온다.\n",
    "    predictions = predictions[:, -1:, :]\n",
    "    predicted_id = tf.cast(tf.argmax(predictions, axis=-1), tf.int32)\n",
    "\n",
    "    # 만약 마지막 시점의 예측 단어가 종료 토큰이라면 예측을 중단\n",
    "    if tf.equal(predicted_id, END_TOKEN[0]):\n",
    "      break\n",
    "\n",
    "    # 마지막 시점의 예측 단어를 출력에 연결한다.\n",
    "    # 이는 for문을 통해서 디코더의 입력으로 사용될 예정이다.\n",
    "    output = tf.concat([output, predicted_id], axis=-1)\n",
    "\n",
    "  return tf.squeeze(output, axis=0)\n",
    "def predict(sentence):\n",
    "  prediction = evaluate(sentence)\n",
    "\n",
    "  predicted_sentence = tokenizer.decode(\n",
    "      [i for i in prediction if i < tokenizer.vocab_size])\n",
    "\n",
    "  print('Input: {}'.format(sentence))\n",
    "  print('Output: {}'.format(predicted_sentence))\n",
    "\n",
    "  return predicted_sentence\n",
    "def preprocess_sentence(sentence):\n",
    "  sentence = re.sub(r\"([?.!,])\", r\" \\1 \", sentence)\n",
    "  sentence = sentence.strip()\n",
    "  return sentence"
   ]
  },
  {
   "cell_type": "code",
   "execution_count": null,
   "metadata": {},
   "outputs": [],
   "source": [
    "output = predict(\"날씨가 좋넹.\")"
   ]
  },
  {
   "cell_type": "code",
   "execution_count": null,
   "metadata": {},
   "outputs": [],
   "source": [
    "output = predict(\"고민이 있어\")"
   ]
  },
  {
   "cell_type": "code",
   "execution_count": null,
   "metadata": {},
   "outputs": [],
   "source": [
    "output = predict(\"너무 화가나\")"
   ]
  },
  {
   "cell_type": "code",
   "execution_count": null,
   "metadata": {},
   "outputs": [],
   "source": [
    "output = predict(\"카페갈래?\")"
   ]
  },
  {
   "cell_type": "code",
   "execution_count": null,
   "metadata": {},
   "outputs": [],
   "source": [
    "output = predict(\"게임하고싶당\")"
   ]
  },
  {
   "cell_type": "code",
   "execution_count": null,
   "metadata": {},
   "outputs": [],
   "source": [
    "output = predict(\"게임하자\")"
   ]
  },
  {
   "cell_type": "code",
   "execution_count": null,
   "metadata": {},
   "outputs": [],
   "source": []
  }
 ],
 "metadata": {
  "kernelspec": {
   "display_name": "Python 3",
   "language": "python",
   "name": "python3"
  },
  "language_info": {
   "codemirror_mode": {
    "name": "ipython",
    "version": 3
   },
   "file_extension": ".py",
   "mimetype": "text/x-python",
   "name": "python",
   "nbconvert_exporter": "python",
   "pygments_lexer": "ipython3",
   "version": "3.9.7"
  }
 },
 "nbformat": 4,
 "nbformat_minor": 4
}
