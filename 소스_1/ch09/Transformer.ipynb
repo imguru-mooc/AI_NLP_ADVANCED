{
 "cells": [
  {
   "cell_type": "code",
   "execution_count": null,
   "metadata": {},
   "outputs": [],
   "source": [
    "import tensorflow as tf\n",
    "import numpy as np\n",
    "print(tf.__version__)"
   ]
  },
  {
   "cell_type": "code",
   "execution_count": null,
   "metadata": {},
   "outputs": [],
   "source": [
    "position=50\n",
    "a = tf.range(position, dtype=tf.float32)\n",
    "print(a)\n",
    "print(a.numpy())\n",
    "print(a.shape)\n",
    "\n",
    "a = tf.range(position, dtype=tf.float32)[:, tf.newaxis]\n",
    "print(a.shape)\n",
    "print(a)"
   ]
  },
  {
   "cell_type": "code",
   "execution_count": null,
   "metadata": {},
   "outputs": [],
   "source": [
    "d_model = 128\n",
    "i = tf.range(d_model, dtype=tf.float32)\n",
    "print(i.shape)\n",
    "i = i[tf.newaxis, :]\n",
    "print(i.shape)\n",
    "print(i)"
   ]
  },
  {
   "cell_type": "code",
   "execution_count": null,
   "metadata": {},
   "outputs": [],
   "source": [
    "import matplotlib.pyplot as plt\n",
    "import numpy as np\n",
    "angles = 1 / tf.pow(10000, (2 * (i // 2)) / tf.cast(d_model, tf.float32))\n",
    "# print(angles.shape)\n",
    "# print(angles)\n",
    "\n",
    "x = i[0].numpy()\n",
    "# print(x)\n",
    "y = angles[0].numpy()\n",
    "# print(y)\n",
    "\n",
    "plt.plot(x,y)\n",
    "plt.show()"
   ]
  },
  {
   "cell_type": "code",
   "execution_count": null,
   "metadata": {},
   "outputs": [],
   "source": [
    "a = np.arange(1,5).reshape(4,1)\n",
    "b = 3\n",
    "c = a*b  # (4,1)*() => (4,1)(4,1)\n",
    "print(a)\n",
    "print(c)"
   ]
  },
  {
   "cell_type": "code",
   "execution_count": null,
   "metadata": {},
   "outputs": [],
   "source": [
    "a = np.arange(1,5).reshape(4,1)\n",
    "b = np.array([3])\n",
    "c = a*b  # (4,1)*(1,) => (4,1)*(4,1) => (4,1)\n",
    "print(a)\n",
    "print(c)"
   ]
  },
  {
   "cell_type": "code",
   "execution_count": null,
   "metadata": {},
   "outputs": [],
   "source": [
    "a = np.arange(1,13).reshape(4,3)\n",
    "b = np.array([[3],\n",
    "              [3],\n",
    "              [3],\n",
    "              [3]])\n",
    "c = a*b  # (4,3)*(4,1) => (4,3)*(4,3)\n",
    "print(a)\n",
    "print(c)"
   ]
  },
  {
   "cell_type": "code",
   "execution_count": null,
   "metadata": {},
   "outputs": [],
   "source": [
    "a = np.arange(1,4).reshape(1,3)\n",
    "b = np.array([[0],\n",
    "              [1],\n",
    "              [2],\n",
    "              [3]])\n",
    "c = a*b  # (1,3)*(4,1) => (4,3)(4,3)\n",
    "print(a)\n",
    "print(c)"
   ]
  },
  {
   "cell_type": "code",
   "execution_count": null,
   "metadata": {},
   "outputs": [],
   "source": [
    "print(tf.math.sin(90.))"
   ]
  },
  {
   "cell_type": "code",
   "execution_count": null,
   "metadata": {},
   "outputs": [],
   "source": [
    "print(tf.math.sin(90.*np.pi/180))"
   ]
  },
  {
   "cell_type": "code",
   "execution_count": null,
   "metadata": {},
   "outputs": [],
   "source": [
    "print(tf.math.sin(1.))"
   ]
  },
  {
   "cell_type": "code",
   "execution_count": 78,
   "metadata": {},
   "outputs": [],
   "source": [
    "import tensorflow as tf\n",
    "import matplotlib.pyplot as plt\n",
    "import numpy as np\n",
    "\n",
    "class PositionalEncoding(tf.keras.layers.Layer):\n",
    "    def __init__(self, position, d_model):\n",
    "#         print(\"PositionalEncoding.__init__()\", position, d_model)\n",
    "        super(PositionalEncoding, self).__init__()\n",
    "        self.pos_encoding = self.positional_encoding(position, d_model)\n",
    "\n",
    "    def get_angles(self, position, i, d_model):\n",
    "#         print(\"PositionalEncoding.get_angles()\")\n",
    "#         print(position.shape)  # (50,1)\n",
    "#         print(i.shape)         # (1,128)\n",
    "#         print(d_model)         # 128\n",
    "        angles = 1 / tf.pow(10000, (2 * (i // 2)) / tf.cast(d_model, tf.float32))\n",
    "#         print(angles.shape)\n",
    "#         print(angles)\n",
    "        return position * angles    #   (50,1)*(1,128) => (50,128)*(50,128) => (50,128)\n",
    "\n",
    "    def positional_encoding(self, position, d_model):\n",
    "#         print(\"PositionalEncoding.positional_encoding()\", position, d_model)\n",
    "        angle_rads = self.get_angles(\n",
    "            position=tf.range(position, dtype=tf.float32)[:, tf.newaxis],  # (50,1)\n",
    "            i=tf.range(d_model, dtype=tf.float32)[tf.newaxis, :],          # (1,128)\n",
    "            d_model=d_model)\n",
    "\n",
    "#         print(angle_rads[:10,:10])\n",
    "#         print(angle_rads.shape)  # (50,128)\n",
    "        \n",
    "#         print(angle_rads[:10, 0:11:2])\n",
    "#         print(angle_rads[:, 0::2].shape)\n",
    "        \n",
    "        # 배열의 짝수 인덱스(2i)에는 사인 함수 적용\n",
    "        sines = tf.math.sin(angle_rads[:, 0::2])\n",
    "#         print(sines[:10,:10])\n",
    "#         print(sines.shape)\n",
    "        \n",
    "        # 배열의 홀수 인덱스(2i+1)에는 코사인 함수 적용\n",
    "        cosines = tf.math.cos(angle_rads[:, 1::2])\n",
    "#         print(cosines[:10,:10])\n",
    "#         print(cosines.shape)\n",
    "\n",
    "        pos_encoding = tf.concat([sines, cosines], axis=-1)\n",
    "#         print(pos_encoding.shape)\n",
    "#         print(pos_encoding)\n",
    "        pos_encoding = pos_encoding[tf.newaxis, ...]\n",
    "#         print(pos_encoding.shape)  # (1, 50,128)\n",
    "        return tf.cast(pos_encoding, tf.float32)\n",
    "\n",
    "    def call(self, inputs):  # (1,40,128)\n",
    "        return inputs + self.pos_encoding[:, :tf.shape(inputs)[1], :] # (1,40,128)+(1,40,128)"
   ]
  },
  {
   "cell_type": "code",
   "execution_count": null,
   "metadata": {},
   "outputs": [],
   "source": [
    "sample_pos_encoding = PositionalEncoding(50, 128)\n",
    "# print(sample_pos_encoding.pos_encoding.shape)     # (1,50,128)\n",
    "                                                   # (N,T,D)\n",
    "                                            # tf.shape(inputs)[1]\n",
    "# print(sample_pos_encoding.pos_encoding[:, :10, :10])\n",
    "\n",
    "plt.pcolormesh(sample_pos_encoding.pos_encoding.numpy()[0], cmap='RdBu')\n",
    "plt.xlabel('Depth')\n",
    "plt.xlim((0, 128))\n",
    "plt.ylabel('Position')\n",
    "plt.colorbar()\n",
    "plt.show()"
   ]
  },
  {
   "cell_type": "code",
   "execution_count": 34,
   "metadata": {},
   "outputs": [
    {
     "name": "stdout",
     "output_type": "stream",
     "text": [
      "[[[0 1]\n",
      "  [2 3]]\n",
      "\n",
      " [[4 5]\n",
      "  [6 7]]]\n",
      "[[1. 1. 1.]\n",
      " [1. 1. 1.]]\n",
      "(2, 2, 3)\n",
      "[[[ 1.  1.  1.]\n",
      "  [ 5.  5.  5.]]\n",
      "\n",
      " [[ 9.  9.  9.]\n",
      "  [13. 13. 13.]]]\n"
     ]
    }
   ],
   "source": [
    "x = np.arange(8).reshape(2,2,2)\n",
    "print(x)\n",
    "w = np.ones((2,3))\n",
    "print(w)   \n",
    "out = np.dot(x,w)    # (2,2,2)(2,3)\n",
    "print(out.shape)\n",
    "print(out)"
   ]
  },
  {
   "cell_type": "code",
   "execution_count": null,
   "metadata": {},
   "outputs": [],
   "source": [
    "x = np.arange(12).reshape(2,3,2)\n",
    "print(x)\n",
    "w = np.ones((2,3))\n",
    "print(w)   \n",
    "out = np.dot(w,x)    # (2,3)(2,2,2)\n",
    "print(out.shape)\n",
    "print(out)"
   ]
  },
  {
   "cell_type": "code",
   "execution_count": 35,
   "metadata": {},
   "outputs": [
    {
     "name": "stdout",
     "output_type": "stream",
     "text": [
      "tf.Tensor(\n",
      "[[[[ 0.  1.  2.  3.]\n",
      "   [ 4.  5.  6.  7.]\n",
      "   [ 8.  9. 10. 11.]]\n",
      "\n",
      "  [[12. 13. 14. 15.]\n",
      "   [16. 17. 18. 19.]\n",
      "   [20. 21. 22. 23.]]]], shape=(1, 2, 3, 4), dtype=float32)\n",
      "tf.Tensor(\n",
      "[[[[1. 1. 1. 1.]\n",
      "   [1. 1. 1. 1.]\n",
      "   [1. 1. 1. 1.]]\n",
      "\n",
      "  [[1. 1. 1. 1.]\n",
      "   [1. 1. 1. 1.]\n",
      "   [1. 1. 1. 1.]]]], shape=(1, 2, 3, 4), dtype=float32)\n",
      "(1, 2, 3, 3)\n",
      "matmul_qk= tf.Tensor(\n",
      "[[[[ 6.  6.  6.]\n",
      "   [22. 22. 22.]\n",
      "   [38. 38. 38.]]\n",
      "\n",
      "  [[54. 54. 54.]\n",
      "   [70. 70. 70.]\n",
      "   [86. 86. 86.]]]], shape=(1, 2, 3, 3), dtype=float32)\n"
     ]
    }
   ],
   "source": [
    "query = tf.constant(np.arange(24).reshape(1,2,3,4),dtype=tf.float32)\n",
    "print(query)\n",
    "\n",
    "key = tf.constant(np.ones((1,2,3,4)),dtype=tf.float32)\n",
    "print(key)\n",
    "\n",
    "matmul_qk = tf.matmul(query, key, transpose_b=True)\n",
    "print(matmul_qk.shape)\n",
    "print(\"matmul_qk=\", matmul_qk)"
   ]
  },
  {
   "cell_type": "code",
   "execution_count": 86,
   "metadata": {},
   "outputs": [],
   "source": [
    "def scaled_dot_product_attention(query, key, value, mask):\n",
    "    # query 크기 : (batch_size, num_heads, query의 문장 길이, d_model/num_heads)\n",
    "    # key 크기 : (batch_size, num_heads, key의 문장 길이, d_model/num_heads)\n",
    "    # value 크기 : (batch_size, num_heads, value의 문장 길이, d_model/num_heads)\n",
    "    # padding_mask : (batch_size, 1, 1, key의 문장 길이)\n",
    "\n",
    "    # Q와 K의 곱. 어텐션 스코어 행렬.\n",
    "    matmul_qk = tf.matmul(query, key, transpose_b=True) # (1,4,4,32)(1,4,32,4) => (4,32)(32,4)\n",
    "#     print(\"matmul_qk.shape =\", matmul_qk.shape)         # (1,4,4,4)\n",
    "#     print(\"matmul_qk =\", matmul_qk)\n",
    "    # 스케일링\n",
    "    # dk의 루트값으로 나눠준다.\n",
    "    depth = tf.cast(tf.shape(key)[-1], tf.float32)\n",
    "#     print(\"depth=\",depth)\n",
    "    logits = matmul_qk / tf.math.sqrt(depth)\n",
    "#     print(\"logits=\",logits)\n",
    "\n",
    "    # 마스킹. 어텐션 스코어 행렬의 마스킹 할 위치에 매우 작은 음수값을 넣는다.\n",
    "    # 매우 작은 값이므로 소프트맥스 함수를 지나면 행렬의 해당 위치의 값은 0이 된다.\n",
    "    if mask is not None:\n",
    "        logits += (mask * -1e9)  # 1 * (-1000000000)  # (1,4,4,4) += (1,1,1,4)\n",
    "        \n",
    "      \n",
    "\n",
    "    # 소프트맥스 함수는 마지막 차원인 key의 문장 길이 방향으로 수행된다.\n",
    "    # attention weight : (batch_size, num_heads, query의 문장 길이, key의 문장 길이)\n",
    "    attention_weights = tf.nn.softmax(logits, axis=-1)\n",
    "#     print(\"attention_weights=\",attention_weights)  \n",
    "#     print(\"attention_weights.shape =\",attention_weights.shape)  # (1,4,4,4)\n",
    "#     print(\"attention_weights =\",attention_weights)\n",
    "    # output : (batch_size, num_heads, query의 문장 길이, d_model/num_heads)\n",
    "    output = tf.matmul(attention_weights, value) # (1,4,4,4)(1,4,4,32) => (1,4,4,32)\n",
    "#     print(\"output.shape =\", output.shape) \n",
    "#     print(\"output =\", output) \n",
    "\n",
    "    return output, attention_weights"
   ]
  },
  {
   "cell_type": "code",
   "execution_count": 49,
   "metadata": {},
   "outputs": [],
   "source": [
    "np.set_printoptions(suppress=True)\n",
    "temp_k = tf.constant([[10,0,0],\n",
    "                      [0,10,0],\n",
    "                      [0,0,10],\n",
    "                      [0,0,10]], dtype=tf.float32)  # (4, 3)\n",
    "\n",
    "temp_v = tf.constant([[   1,0],\n",
    "                      [  10,0],\n",
    "                      [ 100,5],\n",
    "                      [1000,6]], dtype=tf.float32)  # (4, 2)\n",
    "temp_q = tf.constant([[0, 10, 0]], dtype=tf.float32)  # (1, 3)"
   ]
  },
  {
   "cell_type": "code",
   "execution_count": 50,
   "metadata": {},
   "outputs": [
    {
     "name": "stdout",
     "output_type": "stream",
     "text": [
      "tf.Tensor([[0. 1. 0. 0.]], shape=(1, 4), dtype=float32)\n",
      "tf.Tensor([[10.  0.]], shape=(1, 2), dtype=float32)\n"
     ]
    }
   ],
   "source": [
    "temp_out, temp_attn = scaled_dot_product_attention(temp_q, temp_k, temp_v, None)\n",
    "print(temp_attn) # 어텐션 분포(어텐션 가중치의 나열)\n",
    "print(temp_out) # 어텐션 값"
   ]
  },
  {
   "cell_type": "code",
   "execution_count": 51,
   "metadata": {},
   "outputs": [
    {
     "name": "stdout",
     "output_type": "stream",
     "text": [
      "tf.Tensor([[0.  0.  0.5 0.5]], shape=(1, 4), dtype=float32)\n",
      "tf.Tensor([[550.    5.5]], shape=(1, 2), dtype=float32)\n"
     ]
    }
   ],
   "source": [
    "temp_q = tf.constant([[0, 0, 10]], dtype=tf.float32)\n",
    "temp_out, temp_attn = scaled_dot_product_attention(temp_q, temp_k, temp_v, None)\n",
    "print(temp_attn) # 어텐션 분포(어텐션 가중치의 나열)\n",
    "print(temp_out) # 어텐션 값"
   ]
  },
  {
   "cell_type": "code",
   "execution_count": 52,
   "metadata": {},
   "outputs": [
    {
     "name": "stdout",
     "output_type": "stream",
     "text": [
      "tf.Tensor(\n",
      "[[0.  0.  0.5 0.5]\n",
      " [0.  1.  0.  0. ]\n",
      " [0.5 0.5 0.  0. ]], shape=(3, 4), dtype=float32)\n",
      "tf.Tensor(\n",
      "[[550.    5.5]\n",
      " [ 10.    0. ]\n",
      " [  5.5   0. ]], shape=(3, 2), dtype=float32)\n"
     ]
    }
   ],
   "source": [
    "temp_q = tf.constant([[0, 0, 10], \n",
    "                      [0, 10, 0], \n",
    "                      [10, 10, 0]], dtype=tf.float32)  # (3, 3)\n",
    "temp_out, temp_attn = scaled_dot_product_attention(temp_q, temp_k, temp_v, None)\n",
    "print(temp_attn) # 어텐션 분포(어텐션 가중치의 나열)\n",
    "print(temp_out) # 어텐션 값"
   ]
  },
  {
   "cell_type": "code",
   "execution_count": 53,
   "metadata": {},
   "outputs": [
    {
     "name": "stdout",
     "output_type": "stream",
     "text": [
      "[]\n",
      "(1, 3)\n",
      "[<tf.Variable 'dense_37/kernel:0' shape=(3, 4) dtype=float32, numpy=\n",
      "array([[-0.10356826, -0.37470925,  0.4403298 ,  0.66695535],\n",
      "       [ 0.52871513, -0.6876186 , -0.5321318 , -0.29070854],\n",
      "       [-0.04145581, -0.02151173, -0.67146564,  0.11413956]],\n",
      "      dtype=float32)>, <tf.Variable 'dense_37/bias:0' shape=(4,) dtype=float32, numpy=array([0., 0., 0., 0.], dtype=float32)>]\n"
     ]
    }
   ],
   "source": [
    "dense1 = tf.keras.layers.Dense(4)  # weight = (?,4)  , bias = (4,)\n",
    "# dir(dense1)\n",
    "print(dense1.weights)\n",
    "x = tf.constant([[1,2,3]])\n",
    "print(x.shape)\n",
    "out = dense1(x)   # (1,3)(3,4)+(4,)\n",
    "print(dense1.weights)"
   ]
  },
  {
   "cell_type": "code",
   "execution_count": 87,
   "metadata": {},
   "outputs": [],
   "source": [
    "class MultiHeadAttention(tf.keras.layers.Layer):\n",
    "\n",
    "    def __init__(self, d_model, num_heads, name=\"multi_head_attention\"):\n",
    "        super(MultiHeadAttention, self).__init__(name=name)\n",
    "        \n",
    "#         print(\"MultiHeadAttention.__init__()\")\n",
    "        self.num_heads = num_heads     # 4\n",
    "        self.d_model = d_model         # 128\n",
    "\n",
    "        assert d_model % self.num_heads == 0\n",
    "\n",
    "        # d_model을 num_heads로 나눈 값.\n",
    "        # 논문 기준 : 64\n",
    "        self.depth = d_model // self.num_heads  # 32\n",
    "#         print(\"self.depth=\", self.depth)\n",
    "\n",
    "        # WQ, WK, WV에 해당하는 밀집층 정의\n",
    "        self.query_dense = tf.keras.layers.Dense(units=d_model)  # (?,128)\n",
    "        self.key_dense = tf.keras.layers.Dense(units=d_model)\n",
    "        self.value_dense = tf.keras.layers.Dense(units=d_model)\n",
    "\n",
    "#         print(self.query_dense.weights)\n",
    "        # WO에 해당하는 밀집층 정의\n",
    "        self.dense = tf.keras.layers.Dense(units=d_model)  # (128,128)\n",
    "\n",
    "  # num_heads 개수만큼 q, k, v를 split하는 함수\n",
    "    def split_heads(self, inputs, batch_size):\n",
    "#         print(\"split_heads()\")\n",
    "#         print(inputs.shape)\n",
    "        inputs = tf.reshape(                                             # (1,4,128)\n",
    "                                                                         # (batch_size, query의 문장 길이, num_heads, d_model/num_heads)\n",
    "            inputs, shape=(batch_size, -1, self.num_heads, self.depth))  # (1,4,4,32)\n",
    "                                                                         # (batch_size, num_heads, query의 문장 길이, d_model/num_heads)\n",
    "#         print(inputs.shape)                                              # (1,4,4,32)\n",
    "        return tf.transpose(inputs, perm=[0, 2, 1, 3])\n",
    "    \n",
    "    def call(self, inputs):\n",
    "        query, key, value, mask = inputs['query'], inputs['key'], inputs[\n",
    "            'value'], inputs['mask']\n",
    "        batch_size = tf.shape(query)[0]\n",
    "#         print(\"batch_size=\", batch_size)\n",
    "\n",
    "#         print(query[0,0,:10])\n",
    "#         print(key[0,0,:10])        \n",
    "        \n",
    "        # 1. WQ, WK, WV에 해당하는 밀집층 지나기\n",
    "        # q : (batch_size, query의 문장 길이, d_model)  =>  (1,4,128)\n",
    "        # k : (batch_size, key의 문장 길이, d_model)\n",
    "        # v : (batch_size, value의 문장 길이, d_model)\n",
    "        # 참고) 인코더(k, v)-디코더(q) 어텐션에서는 query 길이와 key, value의 길이는 다를 수 있다.\n",
    "        query = self.query_dense(query)    # (1,4,128)(128,128) => (1,4,128)\n",
    "        key = self.key_dense(key)          # (1,4,128)(128,128) => (1,4,128)\n",
    "        value = self.value_dense(value)    # (1,4,128)(128,128) => (1,4,128)\n",
    "        \n",
    "#         print(self.query_dense.weights)\n",
    "#         print(query.shape)\n",
    "#         print(key.shape)\n",
    "#         print(value.shape)\n",
    "        \n",
    "#         print(query[0,0,:10])\n",
    "#         print(key[0,0,:10])\n",
    "\n",
    "        # 2. 헤드 나누기\n",
    "        # q : (batch_size, num_heads, query의 문장 길이, d_model/num_heads)\n",
    "        # k : (batch_size, num_heads, key의 문장 길이, d_model/num_heads)\n",
    "        # v : (batch_size, num_heads, value의 문장 길이, d_model/num_heads)\n",
    "        query = self.split_heads(query, batch_size)\n",
    "        key = self.split_heads(key, batch_size)\n",
    "        value = self.split_heads(value, batch_size)\n",
    "#         print(query.shape)\n",
    "#         print(key.shape)\n",
    "#         print(value.shape)\n",
    "        \n",
    "\n",
    "        # 3. 스케일드 닷 프로덕트 어텐션. 앞서 구현한 함수 사용.\n",
    "        # (batch_size, num_heads, query의 문장 길이, d_model/num_heads)\n",
    "        scaled_attention, _ = scaled_dot_product_attention(query, key, value, mask)\n",
    "        # (batch_size, query의 문장 길이, num_heads, d_model/num_heads)\n",
    "        scaled_attention = tf.transpose(scaled_attention, perm=[0, 2, 1, 3])\n",
    "#         print('scaled_attention.shape=',scaled_attention.shape)\n",
    "        \n",
    "        # 4. 헤드 연결(concatenate)하기\n",
    "        # (batch_size, query의 문장 길이, d_model)\n",
    "        concat_attention = tf.reshape(scaled_attention,\n",
    "                                  (batch_size, -1, self.d_model))\n",
    "#         print('concat_attention.shape=',concat_attention.shape)  # (1,4,128)\n",
    "\n",
    "        # 5. WO에 해당하는 밀집층 지나기\n",
    "        # (batch_size, query의 문장 길이, d_model)\n",
    "        outputs = self.dense(concat_attention)  # (1,4,128)(128,128) => (1,4,128)\n",
    "#         print('outputs.shape=',outputs.shape)\n",
    "\n",
    "        return outputs"
   ]
  },
  {
   "cell_type": "code",
   "execution_count": 72,
   "metadata": {},
   "outputs": [
    {
     "name": "stdout",
     "output_type": "stream",
     "text": [
      "attention_weights= tf.Tensor(\n",
      "[[[[0.02220622 0.00177076 0.00528394 ... 0.00166717 0.01823187\n",
      "    0.00846859]\n",
      "   [0.00421887 0.00624658 0.00265979 ... 0.01523646 0.04569829\n",
      "    0.03654623]\n",
      "   [0.01573696 0.03457504 0.01155323 ... 0.01102298 0.02122015\n",
      "    0.00710176]\n",
      "   ...\n",
      "   [0.05488108 0.02693642 0.09344783 ... 0.01229914 0.00285637\n",
      "    0.05050182]\n",
      "   [0.01597164 0.00388654 0.00935401 ... 0.00737409 0.06540237\n",
      "    0.01947399]\n",
      "   [0.00877661 0.02648335 0.00417863 ... 0.1229766  0.04479779\n",
      "    0.01932539]]\n",
      "\n",
      "  [[0.01585635 0.01514024 0.15165618 ... 0.02537991 0.00666471\n",
      "    0.01547042]\n",
      "   [0.00516474 0.02429937 0.00263132 ... 0.0067317  0.0735726\n",
      "    0.01483547]\n",
      "   [0.02072001 0.0287409  0.01702172 ... 0.02324835 0.01878277\n",
      "    0.03570686]\n",
      "   ...\n",
      "   [0.01061137 0.00952266 0.0016126  ... 0.00063199 0.05757345\n",
      "    0.00558496]\n",
      "   [0.01342481 0.00833796 0.13712032 ... 0.01016922 0.01782109\n",
      "    0.00724462]\n",
      "   [0.05718352 0.01641808 0.02451557 ... 0.06345437 0.02488679\n",
      "    0.06417398]]\n",
      "\n",
      "  [[0.03954853 0.0236039  0.00680285 ... 0.01340331 0.04100876\n",
      "    0.03077398]\n",
      "   [0.43854478 0.02145929 0.04071835 ... 0.00258019 0.02794288\n",
      "    0.01831384]\n",
      "   [0.04312335 0.04157519 0.11429478 ... 0.01778508 0.01066513\n",
      "    0.02005088]\n",
      "   ...\n",
      "   [0.03176752 0.00327225 0.00609852 ... 0.00875247 0.00960739\n",
      "    0.02258982]\n",
      "   [0.03771474 0.02111221 0.03777593 ... 0.01054891 0.02015561\n",
      "    0.00470485]\n",
      "   [0.00519505 0.00643715 0.04467032 ... 0.03555623 0.02559951\n",
      "    0.03731926]]\n",
      "\n",
      "  [[0.02978    0.01894811 0.0639147  ... 0.04687335 0.02533187\n",
      "    0.02159374]\n",
      "   [0.08206836 0.02007042 0.01093856 ... 0.01483342 0.03128426\n",
      "    0.01291259]\n",
      "   [0.11709516 0.01107504 0.01064114 ... 0.00148109 0.01395977\n",
      "    0.00630486]\n",
      "   ...\n",
      "   [0.01612204 0.02946847 0.01617701 ... 0.04044414 0.01616477\n",
      "    0.00486529]\n",
      "   [0.00071833 0.01651947 0.00304205 ... 0.01510152 0.01519247\n",
      "    0.03301604]\n",
      "   [0.03456061 0.00396363 0.01605642 ... 0.00180191 0.0262927\n",
      "    0.00529065]]]\n",
      "\n",
      "\n",
      " [[[0.01835262 0.02588909 0.0099137  ... 0.03049991 0.01308386\n",
      "    0.02629316]\n",
      "   [0.00163424 0.00956912 0.02855005 ... 0.02585712 0.03095077\n",
      "    0.00829791]\n",
      "   [0.01577987 0.05622524 0.02496255 ... 0.01732367 0.04865504\n",
      "    0.02194527]\n",
      "   ...\n",
      "   [0.09628762 0.04112668 0.01546037 ... 0.00781008 0.00479823\n",
      "    0.05963621]\n",
      "   [0.02613259 0.00358532 0.00732419 ... 0.01873763 0.00443478\n",
      "    0.02162689]\n",
      "   [0.02143773 0.03696297 0.00638273 ... 0.0123213  0.03499331\n",
      "    0.01152494]]\n",
      "\n",
      "  [[0.00286686 0.19747849 0.0010242  ... 0.00203039 0.00941171\n",
      "    0.00646048]\n",
      "   [0.00972181 0.01146571 0.00351819 ... 0.00768502 0.00973667\n",
      "    0.07545058]\n",
      "   [0.00369963 0.00119548 0.00498196 ... 0.00511011 0.0018141\n",
      "    0.01345329]\n",
      "   ...\n",
      "   [0.06745797 0.00889154 0.04383815 ... 0.07352607 0.01372549\n",
      "    0.00431402]\n",
      "   [0.14091332 0.02657336 0.007088   ... 0.03240563 0.02320764\n",
      "    0.00333503]\n",
      "   [0.06481677 0.01489151 0.01953449 ... 0.01450698 0.01662347\n",
      "    0.01070261]]\n",
      "\n",
      "  [[0.00093701 0.07294899 0.01473518 ... 0.00169123 0.0443541\n",
      "    0.02984024]\n",
      "   [0.07182432 0.0130706  0.05423717 ... 0.00328614 0.01240791\n",
      "    0.05811208]\n",
      "   [0.01055845 0.01098829 0.02122013 ... 0.01376192 0.02059218\n",
      "    0.02143401]\n",
      "   ...\n",
      "   [0.00023022 0.01632449 0.02279026 ... 0.00762465 0.0523149\n",
      "    0.00331536]\n",
      "   [0.03365984 0.00777573 0.01264489 ... 0.0061946  0.03631216\n",
      "    0.00427488]\n",
      "   [0.00644321 0.1073681  0.00494335 ... 0.01316505 0.09171978\n",
      "    0.00820683]]\n",
      "\n",
      "  [[0.00476635 0.00662042 0.00873629 ... 0.03770045 0.02712691\n",
      "    0.00292345]\n",
      "   [0.03227112 0.00448743 0.0509091  ... 0.03905398 0.00402902\n",
      "    0.03459134]\n",
      "   [0.00351963 0.00321666 0.08853167 ... 0.00600638 0.0102443\n",
      "    0.01400757]\n",
      "   ...\n",
      "   [0.03313543 0.00072207 0.01318967 ... 0.00255767 0.05758468\n",
      "    0.00313817]\n",
      "   [0.02227372 0.0278958  0.0036899  ... 0.01556888 0.08250567\n",
      "    0.00667928]\n",
      "   [0.00148535 0.01989055 0.01853199 ... 0.01788571 0.06129462\n",
      "    0.00374763]]]\n",
      "\n",
      "\n",
      " [[[0.0071418  0.0337702  0.01027209 ... 0.00597895 0.0335139\n",
      "    0.02772661]\n",
      "   [0.0193063  0.00717726 0.04875703 ... 0.09290411 0.01195442\n",
      "    0.02746322]\n",
      "   [0.00897986 0.02185854 0.00891703 ... 0.00527506 0.01097326\n",
      "    0.02156212]\n",
      "   ...\n",
      "   [0.03424582 0.01417138 0.03766076 ... 0.01333592 0.00639362\n",
      "    0.00794473]\n",
      "   [0.02019599 0.00799803 0.01337261 ... 0.00764942 0.02307676\n",
      "    0.01116486]\n",
      "   [0.02172272 0.01870247 0.0054455  ... 0.00573167 0.0174226\n",
      "    0.00911839]]\n",
      "\n",
      "  [[0.00530392 0.00971307 0.01826828 ... 0.02350824 0.02464449\n",
      "    0.06949514]\n",
      "   [0.01177863 0.00955415 0.0057784  ... 0.00150717 0.02400115\n",
      "    0.0038962 ]\n",
      "   [0.03985199 0.03603774 0.00839779 ... 0.00971487 0.01460365\n",
      "    0.01798119]\n",
      "   ...\n",
      "   [0.03205448 0.00428051 0.00182242 ... 0.00283488 0.01053337\n",
      "    0.01410978]\n",
      "   [0.03252397 0.02192086 0.0109067  ... 0.0179739  0.03640171\n",
      "    0.03548539]\n",
      "   [0.0532462  0.01114198 0.01079982 ... 0.00713231 0.01549096\n",
      "    0.01652504]]\n",
      "\n",
      "  [[0.01873802 0.01985284 0.04668609 ... 0.0092062  0.08094028\n",
      "    0.00845276]\n",
      "   [0.01031523 0.03328367 0.00562139 ... 0.02038858 0.0277773\n",
      "    0.04018731]\n",
      "   [0.01970716 0.00708808 0.01571391 ... 0.01553148 0.00826313\n",
      "    0.06028065]\n",
      "   ...\n",
      "   [0.01565986 0.03224988 0.0038184  ... 0.02131982 0.01936248\n",
      "    0.01145506]\n",
      "   [0.00849787 0.00738312 0.02222357 ... 0.15769142 0.02935552\n",
      "    0.0223174 ]\n",
      "   [0.01602586 0.05569201 0.02550012 ... 0.04385101 0.0076366\n",
      "    0.0368088 ]]\n",
      "\n",
      "  [[0.02083741 0.01442677 0.03807818 ... 0.0200726  0.01928028\n",
      "    0.01007962]\n",
      "   [0.0057085  0.00478593 0.01892712 ... 0.01095311 0.01011514\n",
      "    0.01592005]\n",
      "   [0.04932991 0.09630927 0.00411801 ... 0.00578737 0.0102164\n",
      "    0.00909018]\n",
      "   ...\n",
      "   [0.0323498  0.09391609 0.00182509 ... 0.04032747 0.01261237\n",
      "    0.02790586]\n",
      "   [0.03393098 0.01850736 0.02593413 ... 0.02918988 0.01200996\n",
      "    0.01279205]\n",
      "   [0.03023536 0.00793001 0.02196273 ... 0.00411472 0.03083619\n",
      "    0.00836629]]]\n",
      "\n",
      "\n",
      " ...\n",
      "\n",
      "\n",
      " [[[0.02228237 0.01654529 0.00772835 ... 0.01644269 0.00662366\n",
      "    0.00216857]\n",
      "   [0.10676941 0.04276846 0.00892575 ... 0.01377445 0.01395433\n",
      "    0.00781946]\n",
      "   [0.00809928 0.01805162 0.02813825 ... 0.00276837 0.04566568\n",
      "    0.01622942]\n",
      "   ...\n",
      "   [0.03564991 0.02066443 0.02466021 ... 0.03146379 0.02348631\n",
      "    0.00592465]\n",
      "   [0.00275344 0.03424967 0.0310759  ... 0.01432707 0.00193999\n",
      "    0.05771302]\n",
      "   [0.05531726 0.01991223 0.02764518 ... 0.02056171 0.02267735\n",
      "    0.04291262]]\n",
      "\n",
      "  [[0.0016501  0.01029746 0.01118578 ... 0.00350596 0.01297208\n",
      "    0.00225498]\n",
      "   [0.00545626 0.0024973  0.01303767 ... 0.0053054  0.01490794\n",
      "    0.03142116]\n",
      "   [0.01707688 0.02496808 0.01091553 ... 0.02919514 0.06007712\n",
      "    0.01668341]\n",
      "   ...\n",
      "   [0.0159326  0.01643307 0.04780244 ... 0.01679841 0.01243548\n",
      "    0.01586428]\n",
      "   [0.00556332 0.01882845 0.03487145 ... 0.00886005 0.01287339\n",
      "    0.00861645]\n",
      "   [0.00396418 0.0046962  0.03080458 ... 0.02993272 0.02284168\n",
      "    0.04877494]]\n",
      "\n",
      "  [[0.02991401 0.0607606  0.07288    ... 0.02832281 0.01545536\n",
      "    0.02494797]\n",
      "   [0.05519595 0.0162207  0.01719707 ... 0.01442191 0.01415656\n",
      "    0.00740241]\n",
      "   [0.13383593 0.00348148 0.00387159 ... 0.02624669 0.02055596\n",
      "    0.01920805]\n",
      "   ...\n",
      "   [0.0104597  0.0273268  0.02084466 ... 0.05464249 0.01731023\n",
      "    0.02345396]\n",
      "   [0.05652825 0.01269586 0.02334061 ... 0.01869084 0.04586999\n",
      "    0.01867013]\n",
      "   [0.0031287  0.01718286 0.01056874 ... 0.0374037  0.02481959\n",
      "    0.0309721 ]]\n",
      "\n",
      "  [[0.01112068 0.0154626  0.03451341 ... 0.00950649 0.02235974\n",
      "    0.02485179]\n",
      "   [0.01257275 0.0062928  0.00563376 ... 0.04443612 0.01804098\n",
      "    0.0283217 ]\n",
      "   [0.02443006 0.01144203 0.01083764 ... 0.0132794  0.00312715\n",
      "    0.00877413]\n",
      "   ...\n",
      "   [0.0086042  0.01581843 0.05812452 ... 0.02167968 0.01952586\n",
      "    0.0099401 ]\n",
      "   [0.01509491 0.0164919  0.01963903 ... 0.03515492 0.00279105\n",
      "    0.00228462]\n",
      "   [0.03029744 0.00869573 0.01553645 ... 0.02528293 0.06424335\n",
      "    0.02703112]]]\n",
      "\n",
      "\n",
      " [[[0.01569658 0.01245335 0.03043908 ... 0.01303059 0.00749703\n",
      "    0.01282032]\n",
      "   [0.00440097 0.01212448 0.01931873 ... 0.05664875 0.01951852\n",
      "    0.06519201]\n",
      "   [0.0024701  0.01662823 0.02841184 ... 0.0088368  0.00720913\n",
      "    0.01113558]\n",
      "   ...\n",
      "   [0.01405404 0.00157538 0.01710118 ... 0.02768518 0.01463468\n",
      "    0.01476523]\n",
      "   [0.03231376 0.03568278 0.01254625 ... 0.01386777 0.05885035\n",
      "    0.03122557]\n",
      "   [0.07243752 0.01361184 0.00836737 ... 0.01954475 0.00746023\n",
      "    0.0347089 ]]\n",
      "\n",
      "  [[0.07018517 0.07851949 0.04986781 ... 0.00148566 0.01915414\n",
      "    0.02540611]\n",
      "   [0.01062242 0.00554722 0.00553709 ... 0.05421341 0.01061547\n",
      "    0.03458569]\n",
      "   [0.02330895 0.00437657 0.00181487 ... 0.03802811 0.02066174\n",
      "    0.03452021]\n",
      "   ...\n",
      "   [0.05582451 0.00510526 0.01322957 ... 0.00858579 0.06295244\n",
      "    0.04170348]\n",
      "   [0.00417898 0.0376473  0.00525861 ... 0.00810482 0.02683788\n",
      "    0.03304689]\n",
      "   [0.11899707 0.03040937 0.02562413 ... 0.01084769 0.05509408\n",
      "    0.00484334]]\n",
      "\n",
      "  [[0.00622482 0.0183891  0.00047732 ... 0.00332849 0.02630274\n",
      "    0.00974424]\n",
      "   [0.07532085 0.00329229 0.00882586 ... 0.06761248 0.02668401\n",
      "    0.04140605]\n",
      "   [0.01664099 0.01464045 0.01263195 ... 0.00307565 0.00714691\n",
      "    0.01722099]\n",
      "   ...\n",
      "   [0.05550911 0.00696291 0.00122811 ... 0.03665523 0.0225226\n",
      "    0.0072461 ]\n",
      "   [0.02471296 0.01052549 0.01877911 ... 0.02013014 0.02249135\n",
      "    0.01850762]\n",
      "   [0.00373066 0.1343326  0.01666433 ... 0.01598218 0.00863268\n",
      "    0.0039869 ]]\n",
      "\n",
      "  [[0.04599771 0.00211276 0.03110036 ... 0.03985051 0.04270584\n",
      "    0.00394388]\n",
      "   [0.01645288 0.05948447 0.02042576 ... 0.03208216 0.00447197\n",
      "    0.02845729]\n",
      "   [0.07382689 0.02295855 0.00901456 ... 0.0040159  0.02446167\n",
      "    0.01049764]\n",
      "   ...\n",
      "   [0.00147114 0.03903972 0.02797185 ... 0.03566905 0.00278099\n",
      "    0.00888512]\n",
      "   [0.060378   0.00604279 0.00472696 ... 0.01363974 0.05042439\n",
      "    0.02704166]\n",
      "   [0.00595916 0.08837306 0.12897347 ... 0.01124991 0.0110236\n",
      "    0.02301885]]]\n",
      "\n",
      "\n",
      " [[[0.0161641  0.01395895 0.00988006 ... 0.01009441 0.0540809\n",
      "    0.0086756 ]\n",
      "   [0.03117068 0.02185485 0.01326953 ... 0.00335539 0.00414497\n",
      "    0.0130101 ]\n",
      "   [0.00717604 0.00501685 0.00822683 ... 0.01038569 0.0097587\n",
      "    0.06927226]\n",
      "   ...\n",
      "   [0.02750791 0.00872381 0.00554171 ... 0.00566395 0.00817337\n",
      "    0.00722017]\n",
      "   [0.00623003 0.02161948 0.02017386 ... 0.00172946 0.0072191\n",
      "    0.01166017]\n",
      "   [0.00627786 0.00934003 0.03168382 ... 0.01719343 0.00256411\n",
      "    0.02946242]]\n",
      "\n",
      "  [[0.03367398 0.01076682 0.1364736  ... 0.0076412  0.012516\n",
      "    0.00247324]\n",
      "   [0.00518245 0.04464857 0.22050838 ... 0.00116081 0.00333929\n",
      "    0.01133634]\n",
      "   [0.11762095 0.00651741 0.01903343 ... 0.00448979 0.00288385\n",
      "    0.07238484]\n",
      "   ...\n",
      "   [0.0109686  0.0118827  0.01308176 ... 0.01293853 0.00653806\n",
      "    0.04280771]\n",
      "   [0.013352   0.02670705 0.08137064 ... 0.00238145 0.00438143\n",
      "    0.01111378]\n",
      "   [0.05379674 0.05818998 0.01588915 ... 0.03729562 0.0531439\n",
      "    0.01355252]]\n",
      "\n",
      "  [[0.00404228 0.0097205  0.08294474 ... 0.00245627 0.01256774\n",
      "    0.00199618]\n",
      "   [0.00558653 0.02701542 0.1575505  ... 0.03744584 0.03326887\n",
      "    0.01509598]\n",
      "   [0.01831384 0.00349988 0.01290026 ... 0.0278689  0.01597309\n",
      "    0.0063021 ]\n",
      "   ...\n",
      "   [0.03070804 0.01527854 0.00605161 ... 0.00198719 0.01654742\n",
      "    0.04007212]\n",
      "   [0.01320756 0.00900175 0.01383092 ... 0.01154579 0.03031264\n",
      "    0.0085633 ]\n",
      "   [0.01192861 0.04263378 0.02242401 ... 0.02494927 0.00994827\n",
      "    0.01566035]]\n",
      "\n",
      "  [[0.00532604 0.02170235 0.03902666 ... 0.00363909 0.02049184\n",
      "    0.01679554]\n",
      "   [0.00733779 0.03789742 0.0105216  ... 0.01328508 0.01537407\n",
      "    0.01482633]\n",
      "   [0.05536025 0.00628318 0.02024313 ... 0.00597682 0.02518643\n",
      "    0.04418621]\n",
      "   ...\n",
      "   [0.01314561 0.05127237 0.00993193 ... 0.00495949 0.00347381\n",
      "    0.01513397]\n",
      "   [0.00654693 0.05147123 0.00742603 ... 0.00563072 0.01237074\n",
      "    0.06346199]\n",
      "   [0.02033196 0.01859788 0.02952641 ... 0.00353849 0.01767627\n",
      "    0.02189663]]]], shape=(64, 4, 40, 40), dtype=float32)\n",
      "(64, 40, 128)\n"
     ]
    }
   ],
   "source": [
    "# mha = MultiHeadAttention(128,4)\n",
    "x = tf.constant(np.random.randn(64,40,128))\n",
    "# inputs = { 'query':x, 'key':x, 'value':x, 'mask':None }\n",
    "# mha(inputs)\n",
    "\n",
    "outputs = MultiHeadAttention(128,4)({ 'query':x, 'key':x, 'value':x, 'mask':None })\n",
    "print(outputs.shape)"
   ]
  },
  {
   "cell_type": "code",
   "execution_count": 73,
   "metadata": {},
   "outputs": [],
   "source": [
    "def create_padding_mask(x):  # (2,5)\n",
    "    mask = tf.cast(tf.math.equal(x, 0), tf.float32) # (2,5)\n",
    "    # (batch_size, 1, 1, key의 문장 길이)\n",
    "#     print(mask) #  [[0, 0, 0, 1, 1],\n",
    "                #   [1, 1, 0, 0, 0]]  (2,5)\n",
    "    return mask[:, tf.newaxis, tf.newaxis, :]  # (2,1,1,5)"
   ]
  },
  {
   "cell_type": "code",
   "execution_count": 74,
   "metadata": {},
   "outputs": [
    {
     "name": "stdout",
     "output_type": "stream",
     "text": [
      "tf.Tensor([[[[0. 0. 0. 1. 1.]]]], shape=(1, 1, 1, 5), dtype=float32)\n"
     ]
    }
   ],
   "source": [
    "print(create_padding_mask(tf.constant([[1, 21, 777, 0, 0]])))  # (1,1,1,5)"
   ]
  },
  {
   "cell_type": "code",
   "execution_count": 75,
   "metadata": {},
   "outputs": [
    {
     "name": "stdout",
     "output_type": "stream",
     "text": [
      "tf.Tensor(\n",
      "[[[[0. 0. 0. 1. 1.]]]\n",
      "\n",
      "\n",
      " [[[1. 1. 0. 0. 0.]]]], shape=(2, 1, 1, 5), dtype=float32)\n"
     ]
    }
   ],
   "source": [
    "print(create_padding_mask(tf.constant([[1, 21, 777, 0, 0],\n",
    "                                       [0, 0, 777, 23, 25]])))  # (2,1,1,5)"
   ]
  },
  {
   "cell_type": "code",
   "execution_count": 77,
   "metadata": {},
   "outputs": [
    {
     "name": "stdout",
     "output_type": "stream",
     "text": [
      "attention_weights= tf.Tensor(\n",
      "[[[[0.86445445 0.         0.13554555 0.        ]\n",
      "   [0.12569587 0.         0.8743041  0.        ]\n",
      "   [0.46732447 0.         0.5326755  0.        ]\n",
      "   [0.75033975 0.         0.24966028 0.        ]]\n",
      "\n",
      "  [[0.24295545 0.         0.75704455 0.        ]\n",
      "   [0.4318193  0.         0.56818074 0.        ]\n",
      "   [0.5517705  0.         0.44822952 0.        ]\n",
      "   [0.82409275 0.         0.17590722 0.        ]]\n",
      "\n",
      "  [[0.09014021 0.         0.9098598  0.        ]\n",
      "   [0.12217422 0.         0.87782574 0.        ]\n",
      "   [0.02985534 0.         0.9701446  0.        ]\n",
      "   [0.4839401  0.         0.51605994 0.        ]]\n",
      "\n",
      "  [[0.18748114 0.         0.81251884 0.        ]\n",
      "   [0.64845484 0.         0.35154518 0.        ]\n",
      "   [0.22495392 0.         0.77504605 0.        ]\n",
      "   [0.5317465  0.         0.4682535  0.        ]]]], shape=(1, 4, 4, 4), dtype=float32)\n",
      "(1, 4, 128)\n"
     ]
    }
   ],
   "source": [
    "x = tf.constant(np.random.randn(1,4,128))\n",
    "\n",
    "mask = create_padding_mask(tf.constant([[1, 0, 777, 0]]))  # (1,1,1,4)\n",
    "\n",
    "outputs = MultiHeadAttention(128,4)({ 'query':x, 'key':x, 'value':x, 'mask':mask })\n",
    "print(outputs.shape)"
   ]
  },
  {
   "cell_type": "code",
   "execution_count": 88,
   "metadata": {},
   "outputs": [],
   "source": [
    "def encoder_layer(dff, d_model, num_heads, dropout, name=\"encoder_layer\"):\n",
    "    inputs = tf.keras.Input(shape=(None, d_model), name=\"inputs\")   # (None,None,128)\n",
    "\n",
    "    # 인코더는 패딩 마스크 사용\n",
    "    padding_mask = tf.keras.Input(shape=(1, 1, None), name=\"padding_mask\")  # (None,1,1,None)\n",
    "\n",
    "    # 멀티-헤드 어텐션 (첫번째 서브층 / 셀프 어텐션)\n",
    "    attention = MultiHeadAttention(\n",
    "        d_model, num_heads, name=\"attention\")({\n",
    "            'query': inputs, 'key': inputs, 'value': inputs, # Q = K = V\n",
    "            'mask': padding_mask # 패딩 마스크 사용\n",
    "        })       \n",
    "    \n",
    "#     print('attention.shape=', attention.shape)  # (64,40,128)\n",
    "\n",
    "    # 드롭아웃 + 잔차 연결과 층 정규화\n",
    "    attention = tf.keras.layers.Dropout(rate=dropout)(attention)\n",
    "#     print('attention.shape=', attention.shape)  # (64,40,128)\n",
    "    attention = tf.keras.layers.LayerNormalization(\n",
    "        epsilon=1e-6)(inputs + attention)  # (64,40,128) + (64,40,128)\n",
    "    \n",
    "#     print('attention.shape=', attention.shape)\n",
    "\n",
    "    # 포지션 와이즈 피드 포워드 신경망 (두번째 서브층)\n",
    "    outputs = tf.keras.layers.Dense(units=dff, activation='relu')(attention)  # (64,40,128)(128,512)=>(64,40,512)\n",
    "    outputs = tf.keras.layers.Dense(units=d_model)(outputs)  # (64,40,512)(512,128)=>(64,40,128)\n",
    "\n",
    "    # 드롭아웃 + 잔차 연결과 층 정규화\n",
    "    outputs = tf.keras.layers.Dropout(rate=dropout)(outputs)\n",
    "    outputs = tf.keras.layers.LayerNormalization(\n",
    "        epsilon=1e-6)(attention + outputs)  # (64,40,128) + (64,40,128)\n",
    "\n",
    "    return tf.keras.Model(\n",
    "        inputs=[inputs, padding_mask], outputs=outputs, name=name)"
   ]
  },
  {
   "cell_type": "code",
   "execution_count": 89,
   "metadata": {},
   "outputs": [],
   "source": [
    "def encoder(vocab_size, num_layers, dff,\n",
    "            d_model, num_heads, dropout,\n",
    "            name=\"encoder\"):\n",
    "    inputs = tf.keras.Input(shape=(None,), name=\"inputs\")\n",
    "\n",
    "#     print(\"inputs.shape=\",inputs.shape)  # (None,None)\n",
    "    # 인코더는 패딩 마스크 사용\n",
    "    padding_mask = tf.keras.Input(shape=(1, 1, None), name=\"padding_mask\") # (None,1,1,None)\n",
    "#     print(\"padding_mask.shape=\",padding_mask.shape)\n",
    "\n",
    "    # 포지셔널 인코딩 + 드롭아웃                                          # (N,T)\n",
    "    embeddings = tf.keras.layers.Embedding(vocab_size, d_model)(inputs)   # (9000,128) => (N,T,D)\n",
    "    embeddings *= tf.math.sqrt(tf.cast(d_model, tf.float32))              # (64,40,128)\n",
    "    embeddings = PositionalEncoding(vocab_size, d_model)(embeddings)      # (64,40,128)\n",
    "    outputs = tf.keras.layers.Dropout(rate=dropout)(embeddings)\n",
    "\n",
    "    # 인코더를 num_layers개 쌓기\n",
    "    for i in range(num_layers):\n",
    "        outputs = encoder_layer(dff=dff, d_model=d_model, num_heads=num_heads,\n",
    "          dropout=dropout, name=\"encoder_layer_{}\".format(i),\n",
    "      )([outputs, padding_mask])\n",
    "#         print('outputs.shape=',outputs.shape)\n",
    "\n",
    "    return tf.keras.Model(\n",
    "        inputs=[inputs, padding_mask], outputs=outputs, name=name)"
   ]
  },
  {
   "cell_type": "code",
   "execution_count": 90,
   "metadata": {},
   "outputs": [
    {
     "name": "stdout",
     "output_type": "stream",
     "text": [
      "(64, 40)\n",
      "(64, 1, 1, 40)\n",
      "(64, 40, 128)\n"
     ]
    }
   ],
   "source": [
    "# 인코더의 테스트\n",
    "\n",
    "# 인코더의 입력\n",
    "x = tf.constant(np.arange(64*40).reshape(64,40))  # (N,T)\n",
    "print(x.shape)\n",
    "\n",
    "# 인코더의 패딩 마스크\n",
    "enc_padding_mask = tf.keras.layers.Lambda(\n",
    "    create_padding_mask, output_shape=(1, 1, 40),\n",
    "    name='enc_padding_mask')(x)\n",
    "\n",
    "print(enc_padding_mask.shape)\n",
    "\n",
    "# 인코더의 출력은 enc_outputs. 디코더로 전달된다.\n",
    "enc_outputs = encoder(vocab_size=9000, num_layers=2, dff=512,\n",
    "    d_model=128, num_heads=4, dropout=0.2,)(inputs=[x, enc_padding_mask]) # 인코더의 입력은 입력 문장과 패딩 마스크\n",
    "\n",
    "print(enc_outputs.shape)"
   ]
  },
  {
   "cell_type": "code",
   "execution_count": 109,
   "metadata": {},
   "outputs": [
    {
     "name": "stdout",
     "output_type": "stream",
     "text": [
      "tf.Tensor(\n",
      "[[1. 1. 1. 1. 1.]\n",
      " [1. 1. 1. 1. 1.]\n",
      " [1. 1. 1. 1. 1.]\n",
      " [1. 1. 1. 1. 1.]\n",
      " [1. 1. 1. 1. 1.]], shape=(5, 5), dtype=float32)\n",
      "tf.Tensor(\n",
      "[[1. 0. 0. 0. 0.]\n",
      " [1. 1. 0. 0. 0.]\n",
      " [1. 1. 1. 0. 0.]\n",
      " [1. 1. 1. 1. 0.]\n",
      " [1. 1. 1. 1. 1.]], shape=(5, 5), dtype=float32)\n",
      "tf.Tensor(\n",
      "[[0. 1. 1. 1. 1.]\n",
      " [0. 0. 1. 1. 1.]\n",
      " [0. 0. 0. 1. 1.]\n",
      " [0. 0. 0. 0. 1.]\n",
      " [0. 0. 0. 0. 0.]], shape=(5, 5), dtype=float32)\n"
     ]
    }
   ],
   "source": [
    "seq_len=5\n",
    "a = tf.ones((seq_len, seq_len))\n",
    "print(a)\n",
    "print(tf.linalg.band_part(a, -1, 0))\n",
    "print(1-tf.linalg.band_part(a, -1, 0))"
   ]
  },
  {
   "cell_type": "code",
   "execution_count": 112,
   "metadata": {},
   "outputs": [],
   "source": [
    "def create_look_ahead_mask(x):\n",
    "    seq_len = tf.shape(x)[1]\n",
    "    print(seq_len)  # 5\n",
    "    look_ahead_mask = 1 - tf.linalg.band_part(tf.ones((seq_len, seq_len)), -1, 0)\n",
    "    padding_mask = create_padding_mask(x) # 패딩 마스크도 포함\n",
    "    return tf.maximum(look_ahead_mask, padding_mask)\n",
    "#     return look_ahead_mask"
   ]
  },
  {
   "cell_type": "code",
   "execution_count": 114,
   "metadata": {},
   "outputs": [
    {
     "name": "stdout",
     "output_type": "stream",
     "text": [
      "tf.Tensor(5, shape=(), dtype=int32)\n",
      "tf.Tensor(\n",
      "[[[[0. 1. 1. 1. 1.]\n",
      "   [0. 0. 1. 1. 1.]\n",
      "   [0. 0. 0. 1. 1.]\n",
      "   [0. 0. 0. 1. 1.]\n",
      "   [0. 0. 0. 1. 1.]]]], shape=(1, 1, 5, 5), dtype=float32)\n"
     ]
    }
   ],
   "source": [
    "print(create_look_ahead_mask(tf.constant([[5, 4, 1, 0, 0]])))  # (N,T) => (1,5)"
   ]
  },
  {
   "cell_type": "code",
   "execution_count": 115,
   "metadata": {},
   "outputs": [],
   "source": [
    "def decoder_layer(dff, d_model, num_heads, dropout, name=\"decoder_layer\"):\n",
    "    inputs = tf.keras.Input(shape=(None, d_model), name=\"inputs\")\n",
    "    enc_outputs = tf.keras.Input(shape=(None, d_model), name=\"encoder_outputs\")\n",
    "\n",
    "    # 디코더는 룩어헤드 마스크(첫번째 서브층)와 패딩 마스크(두번째 서브층) 둘 다 사용.\n",
    "    look_ahead_mask = tf.keras.Input(\n",
    "        shape=(1, None, None), name=\"look_ahead_mask\")\n",
    "    padding_mask = tf.keras.Input(shape=(1, 1, None), name='padding_mask')\n",
    "\n",
    "    # 멀티-헤드 어텐션 (첫번째 서브층 / 마스크드 셀프 어텐션)\n",
    "    attention1 = MultiHeadAttention(\n",
    "        d_model, num_heads, name=\"attention_1\")(inputs={\n",
    "            'query': inputs, 'key': inputs, 'value': inputs, # Q = K = V\n",
    "            'mask': look_ahead_mask # 룩어헤드 마스크\n",
    "        })\n",
    "\n",
    "    # 잔차 연결과 층 정규화\n",
    "    attention1 = tf.keras.layers.LayerNormalization(\n",
    "        epsilon=1e-6)(attention1 + inputs)\n",
    "\n",
    "    # 멀티-헤드 어텐션 (두번째 서브층 / 디코더-인코더 어텐션)\n",
    "    attention2 = MultiHeadAttention(\n",
    "        d_model, num_heads, name=\"attention_2\")(inputs={\n",
    "            'query': attention1, 'key': enc_outputs, 'value': enc_outputs, # Q != K = V\n",
    "            'mask': padding_mask # 패딩 마스크\n",
    "        })\n",
    "\n",
    "    # 드롭아웃 + 잔차 연결과 층 정규화\n",
    "    attention2 = tf.keras.layers.Dropout(rate=dropout)(attention2)\n",
    "    attention2 = tf.keras.layers.LayerNormalization(\n",
    "        epsilon=1e-6)(attention2 + attention1)\n",
    "\n",
    "    # 포지션 와이즈 피드 포워드 신경망 (세번째 서브층)\n",
    "    outputs = tf.keras.layers.Dense(units=dff, activation='relu')(attention2)\n",
    "    outputs = tf.keras.layers.Dense(units=d_model)(outputs)\n",
    "\n",
    "    # 드롭아웃 + 잔차 연결과 층 정규화\n",
    "    outputs = tf.keras.layers.Dropout(rate=dropout)(outputs)\n",
    "    outputs = tf.keras.layers.LayerNormalization(\n",
    "        epsilon=1e-6)(outputs + attention2)\n",
    "\n",
    "    return tf.keras.Model(\n",
    "        inputs=[inputs, enc_outputs, look_ahead_mask, padding_mask],\n",
    "        outputs=outputs,\n",
    "        name=name)"
   ]
  },
  {
   "cell_type": "code",
   "execution_count": 116,
   "metadata": {},
   "outputs": [],
   "source": [
    "def decoder(vocab_size, num_layers, dff,\n",
    "            d_model, num_heads, dropout,\n",
    "            name='decoder'):\n",
    "    inputs = tf.keras.Input(shape=(None,), name='inputs')\n",
    "    enc_outputs = tf.keras.Input(shape=(None, d_model), name='encoder_outputs')\n",
    "\n",
    "    # 디코더는 룩어헤드 마스크(첫번째 서브층)와 패딩 마스크(두번째 서브층) 둘 다 사용.\n",
    "    look_ahead_mask = tf.keras.Input(\n",
    "        shape=(1, None, None), name='look_ahead_mask')\n",
    "    padding_mask = tf.keras.Input(shape=(1, 1, None), name='padding_mask')\n",
    "\n",
    "    # 포지셔널 인코딩 + 드롭아웃\n",
    "    embeddings = tf.keras.layers.Embedding(vocab_size, d_model)(inputs)\n",
    "    embeddings *= tf.math.sqrt(tf.cast(d_model, tf.float32))\n",
    "    embeddings = PositionalEncoding(vocab_size, d_model)(embeddings)\n",
    "    outputs = tf.keras.layers.Dropout(rate=dropout)(embeddings)\n",
    "\n",
    "    # 디코더를 num_layers개 쌓기\n",
    "    for i in range(num_layers):\n",
    "        outputs = decoder_layer(dff=dff, d_model=d_model, num_heads=num_heads,\n",
    "            dropout=dropout, name='decoder_layer_{}'.format(i),\n",
    "        )(inputs=[outputs, enc_outputs, look_ahead_mask, padding_mask])\n",
    "\n",
    "    return tf.keras.Model(\n",
    "        inputs=[inputs, enc_outputs, look_ahead_mask, padding_mask],\n",
    "        outputs=outputs,\n",
    "        name=name)"
   ]
  },
  {
   "cell_type": "code",
   "execution_count": 117,
   "metadata": {},
   "outputs": [],
   "source": [
    "def transformer(vocab_size, num_layers, dff,\n",
    "                  d_model, num_heads, dropout,\n",
    "                  name=\"transformer\"):\n",
    "\n",
    "    # 인코더의 입력\n",
    "    inputs = tf.keras.Input(shape=(None,), name=\"inputs\")\n",
    "\n",
    "    # 디코더의 입력\n",
    "    dec_inputs = tf.keras.Input(shape=(None,), name=\"dec_inputs\")\n",
    "\n",
    "    # 인코더의 패딩 마스크\n",
    "    enc_padding_mask = tf.keras.layers.Lambda(\n",
    "        create_padding_mask, output_shape=(1, 1, None),\n",
    "        name='enc_padding_mask')(inputs)\n",
    "\n",
    "    # 디코더의 룩어헤드 마스크(첫번째 서브층)\n",
    "    look_ahead_mask = tf.keras.layers.Lambda(\n",
    "        create_look_ahead_mask, output_shape=(1, None, None),\n",
    "        name='look_ahead_mask')(dec_inputs)\n",
    "\n",
    "    # 디코더의 패딩 마스크(두번째 서브층)\n",
    "    dec_padding_mask = tf.keras.layers.Lambda(\n",
    "        create_padding_mask, output_shape=(1, 1, None),\n",
    "        name='dec_padding_mask')(inputs)\n",
    "\n",
    "    # 인코더의 출력은 enc_outputs. 디코더로 전달된다.\n",
    "    enc_outputs = encoder(vocab_size=vocab_size, num_layers=num_layers, dff=dff,\n",
    "        d_model=d_model, num_heads=num_heads, dropout=dropout,\n",
    "    )(inputs=[inputs, enc_padding_mask]) # 인코더의 입력은 입력 문장과 패딩 마스크\n",
    "\n",
    "    # 디코더의 출력은 dec_outputs. 출력층으로 전달된다.\n",
    "    dec_outputs = decoder(vocab_size=vocab_size, num_layers=num_layers, dff=dff,\n",
    "        d_model=d_model, num_heads=num_heads, dropout=dropout,\n",
    "    )(inputs=[dec_inputs, enc_outputs, look_ahead_mask, dec_padding_mask])\n",
    "\n",
    "    # 다음 단어 예측을 위한 출력층\n",
    "    outputs = tf.keras.layers.Dense(units=vocab_size, name=\"outputs\")(dec_outputs)\n",
    "\n",
    "    return tf.keras.Model(inputs=[inputs, dec_inputs], outputs=outputs, name=name)"
   ]
  },
  {
   "cell_type": "code",
   "execution_count": 118,
   "metadata": {},
   "outputs": [
    {
     "name": "stdout",
     "output_type": "stream",
     "text": [
      "Tensor(\"look_ahead_mask/strided_slice:0\", shape=(), dtype=int32)\n"
     ]
    },
    {
     "data": {
      "image/png": "[encoded data removed]",
      "text/plain": [
       "<IPython.core.display.Image object>"
      ]
     },
     "execution_count": 118,
     "metadata": {},
     "output_type": "execute_result"
    }
   ],
   "source": [
    "small_transformer = transformer(\n",
    "    vocab_size = 9000,\n",
    "    num_layers = 4,\n",
    "    dff = 512,\n",
    "    d_model = 128,\n",
    "    num_heads = 4,\n",
    "    dropout = 0.3,\n",
    "    name=\"small_transformer\")\n",
    "\n",
    "tf.keras.utils.plot_model(\n",
    "    small_transformer, to_file='small_transformer.png', show_shapes=True)"
   ]
  },
  {
   "cell_type": "code",
   "execution_count": 119,
   "metadata": {},
   "outputs": [],
   "source": [
    "def loss_function(y_true, y_pred):\n",
    "    y_true = tf.reshape(y_true, shape=(-1, MAX_LENGTH - 1))\n",
    "\n",
    "    loss = tf.keras.losses.SparseCategoricalCrossentropy(\n",
    "        from_logits=True, reduction='none')(y_true, y_pred)\n",
    "\n",
    "    mask = tf.cast(tf.not_equal(y_true, 0), tf.float32)\n",
    "    loss = tf.multiply(loss, mask)\n",
    "\n",
    "    return tf.reduce_mean(loss)"
   ]
  },
  {
   "cell_type": "code",
   "execution_count": 120,
   "metadata": {
    "scrolled": false
   },
   "outputs": [
    {
     "data": {
      "text/plain": [
       "Text(0.5, 0, 'Train Step')"
      ]
     },
     "execution_count": 120,
     "metadata": {},
     "output_type": "execute_result"
    },
    {
     "data": {
      "image/png": "[encoded data removed]",
      "text/plain": [
       "<Figure size 432x288 with 1 Axes>"
      ]
     },
     "metadata": {
      "needs_background": "light"
     },
     "output_type": "display_data"
    }
   ],
   "source": [
    "class CustomSchedule(tf.keras.optimizers.schedules.LearningRateSchedule):\n",
    "\n",
    "    def __init__(self, d_model, warmup_steps=4000):\n",
    "        super(CustomSchedule, self).__init__()\n",
    "        self.d_model = d_model\n",
    "        self.d_model = tf.cast(self.d_model, tf.float32)\n",
    "        self.warmup_steps = warmup_steps\n",
    "\n",
    "    def __call__(self, step):\n",
    "        arg1 = tf.math.rsqrt(step)\n",
    "        arg2 = step * (self.warmup_steps**-1.5)\n",
    "\n",
    "        return tf.math.rsqrt(self.d_model) * tf.math.minimum(arg1, arg2)\n",
    "sample_learning_rate = CustomSchedule(d_model=128)\n",
    "\n",
    "plt.plot(sample_learning_rate(tf.range(200000, dtype=tf.float32)))\n",
    "plt.ylabel(\"Learning Rate\")\n",
    "plt.xlabel(\"Train Step\")\n",
    "# Text(0.5, 0, 'Train Step')"
   ]
  },
  {
   "cell_type": "markdown",
   "metadata": {},
   "source": [
    "#### tensorflow_datasets 처음 설치 시"
   ]
  },
  {
   "cell_type": "code",
   "execution_count": 121,
   "metadata": {},
   "outputs": [
    {
     "name": "stdout",
     "output_type": "stream",
     "text": [
      "Requirement already satisfied: tensorflow_datasets in c:\\users\\jikim\\miniconda3\\lib\\site-packages (4.5.2)\n",
      "Requirement already satisfied: promise in c:\\users\\jikim\\miniconda3\\lib\\site-packages (from tensorflow_datasets) (2.3)\n",
      "Requirement already satisfied: protobuf>=3.12.2 in c:\\users\\jikim\\miniconda3\\lib\\site-packages (from tensorflow_datasets) (3.20.0)\n",
      "Requirement already satisfied: tqdm in c:\\users\\jikim\\miniconda3\\lib\\site-packages (from tensorflow_datasets) (4.62.3)\n",
      "Requirement already satisfied: requests>=2.19.0 in c:\\users\\jikim\\miniconda3\\lib\\site-packages (from tensorflow_datasets) (2.27.1)\n",
      "Requirement already satisfied: numpy in c:\\users\\jikim\\miniconda3\\lib\\site-packages (from tensorflow_datasets) (1.22.3)\n",
      "Requirement already satisfied: termcolor in c:\\users\\jikim\\miniconda3\\lib\\site-packages (from tensorflow_datasets) (1.1.0)\n",
      "Requirement already satisfied: dill in c:\\users\\jikim\\miniconda3\\lib\\site-packages (from tensorflow_datasets) (0.3.4)\n",
      "Requirement already satisfied: absl-py in c:\\users\\jikim\\miniconda3\\lib\\site-packages (from tensorflow_datasets) (1.0.0)\n",
      "Requirement already satisfied: six in c:\\users\\jikim\\miniconda3\\lib\\site-packages (from tensorflow_datasets) (1.16.0)\n",
      "Requirement already satisfied: tensorflow-metadata in c:\\users\\jikim\\miniconda3\\lib\\site-packages (from tensorflow_datasets) (1.7.0)\n",
      "Requirement already satisfied: urllib3<1.27,>=1.21.1 in c:\\users\\jikim\\miniconda3\\lib\\site-packages (from requests>=2.19.0->tensorflow_datasets) (1.26.7)\n",
      "Requirement already satisfied: idna<4,>=2.5 in c:\\users\\jikim\\miniconda3\\lib\\site-packages (from requests>=2.19.0->tensorflow_datasets) (3.3)\n",
      "Requirement already satisfied: certifi>=2017.4.17 in c:\\users\\jikim\\miniconda3\\lib\\site-packages (from requests>=2.19.0->tensorflow_datasets) (2021.10.8)\n",
      "Requirement already satisfied: charset-normalizer~=2.0.0 in c:\\users\\jikim\\miniconda3\\lib\\site-packages (from requests>=2.19.0->tensorflow_datasets) (2.0.4)\n",
      "Requirement already satisfied: googleapis-common-protos<2,>=1.52.0 in c:\\users\\jikim\\miniconda3\\lib\\site-packages (from tensorflow-metadata->tensorflow_datasets) (1.56.0)\n",
      "Requirement already satisfied: colorama in c:\\users\\jikim\\miniconda3\\lib\\site-packages (from tqdm->tensorflow_datasets) (0.4.4)\n"
     ]
    }
   ],
   "source": [
    "!pip install tensorflow_datasets "
   ]
  },
  {
   "cell_type": "markdown",
   "metadata": {},
   "source": [
    "#### tensorflow_datasets 업그레이드 시"
   ]
  },
  {
   "cell_type": "code",
   "execution_count": null,
   "metadata": {},
   "outputs": [],
   "source": [
    "!pip3 install --user --upgrade tensorflow_datasets"
   ]
  },
  {
   "cell_type": "code",
   "execution_count": 122,
   "metadata": {},
   "outputs": [],
   "source": [
    "import pandas as pd\n",
    "import numpy as np\n",
    "import matplotlib.pyplot as plt\n",
    "import re\n",
    "import urllib.request\n",
    "import time\n",
    "import tensorflow_datasets as tfds\n",
    "import tensorflow as tf"
   ]
  },
  {
   "cell_type": "code",
   "execution_count": 123,
   "metadata": {},
   "outputs": [
    {
     "name": "stdout",
     "output_type": "stream",
     "text": [
      "2.8.0\n"
     ]
    }
   ],
   "source": [
    "print(tf.__version__)"
   ]
  },
  {
   "cell_type": "code",
   "execution_count": 124,
   "metadata": {},
   "outputs": [
    {
     "name": "stdout",
     "output_type": "stream",
     "text": [
      "4.5.2\n"
     ]
    }
   ],
   "source": [
    "print(tfds.__version__)"
   ]
  },
  {
   "cell_type": "code",
   "execution_count": 125,
   "metadata": {},
   "outputs": [
    {
     "data": {
      "text/html": [
       "<div>\n",
       "<style scoped>\n",
       "    .dataframe tbody tr th:only-of-type {\n",
       "        vertical-align: middle;\n",
       "    }\n",
       "\n",
       "    .dataframe tbody tr th {\n",
       "        vertical-align: top;\n",
       "    }\n",
       "\n",
       "    .dataframe thead th {\n",
       "        text-align: right;\n",
       "    }\n",
       "</style>\n",
       "<table border=\"1\" class=\"dataframe\">\n",
       "  <thead>\n",
       "    <tr style=\"text-align: right;\">\n",
       "      <th></th>\n",
       "      <th>Q</th>\n",
       "      <th>A</th>\n",
       "      <th>label</th>\n",
       "    </tr>\n",
       "  </thead>\n",
       "  <tbody>\n",
       "    <tr>\n",
       "      <th>0</th>\n",
       "      <td>12시 땡!</td>\n",
       "      <td>하루가 또 가네요.</td>\n",
       "      <td>0</td>\n",
       "    </tr>\n",
       "    <tr>\n",
       "      <th>1</th>\n",
       "      <td>1지망 학교 떨어졌어</td>\n",
       "      <td>위로해 드립니다.</td>\n",
       "      <td>0</td>\n",
       "    </tr>\n",
       "    <tr>\n",
       "      <th>2</th>\n",
       "      <td>3박4일 놀러가고 싶다</td>\n",
       "      <td>여행은 언제나 좋죠.</td>\n",
       "      <td>0</td>\n",
       "    </tr>\n",
       "    <tr>\n",
       "      <th>3</th>\n",
       "      <td>3박4일 정도 놀러가고 싶다</td>\n",
       "      <td>여행은 언제나 좋죠.</td>\n",
       "      <td>0</td>\n",
       "    </tr>\n",
       "    <tr>\n",
       "      <th>4</th>\n",
       "      <td>PPL 심하네</td>\n",
       "      <td>눈살이 찌푸려지죠.</td>\n",
       "      <td>0</td>\n",
       "    </tr>\n",
       "  </tbody>\n",
       "</table>\n",
       "</div>"
      ],
      "text/plain": [
       "                 Q            A  label\n",
       "0           12시 땡!   하루가 또 가네요.      0\n",
       "1      1지망 학교 떨어졌어    위로해 드립니다.      0\n",
       "2     3박4일 놀러가고 싶다  여행은 언제나 좋죠.      0\n",
       "3  3박4일 정도 놀러가고 싶다  여행은 언제나 좋죠.      0\n",
       "4          PPL 심하네   눈살이 찌푸려지죠.      0"
      ]
     },
     "execution_count": 125,
     "metadata": {},
     "output_type": "execute_result"
    }
   ],
   "source": [
    "# urllib.request.urlretrieve(\"https://raw.githubusercontent.com/songys/Chatbot_data/master/ChatbotData%20.csv\", filename=\"ChatBotData.csv\")\n",
    "train_data = pd.read_csv('ChatBotData.csv')\n",
    "train_data.head()"
   ]
  },
  {
   "cell_type": "code",
   "execution_count": 126,
   "metadata": {},
   "outputs": [
    {
     "name": "stdout",
     "output_type": "stream",
     "text": [
      "챗봇 샘플의 개수 : 11823\n"
     ]
    }
   ],
   "source": [
    "print('챗봇 샘플의 개수 :', len(train_data))"
   ]
  },
  {
   "cell_type": "code",
   "execution_count": 127,
   "metadata": {},
   "outputs": [
    {
     "name": "stdout",
     "output_type": "stream",
     "text": [
      "Q        0\n",
      "A        0\n",
      "label    0\n",
      "dtype: int64\n"
     ]
    }
   ],
   "source": [
    "print(train_data.isnull().sum())"
   ]
  },
  {
   "cell_type": "code",
   "execution_count": 130,
   "metadata": {},
   "outputs": [
    {
     "name": "stdout",
     "output_type": "stream",
     "text": [
      "[12시 땡 !]\n"
     ]
    }
   ],
   "source": [
    "sentence = re.sub(r\"([?.!,])\", r\" \\1 \", \"   12시 땡!    \")\n",
    "sentence = sentence.strip()\n",
    "print(\"[%s]\"%sentence)"
   ]
  },
  {
   "cell_type": "code",
   "execution_count": 131,
   "metadata": {},
   "outputs": [],
   "source": [
    "questions = []\n",
    "for sentence in train_data['Q']:\n",
    "    # 구두점에 대해서 띄어쓰기\n",
    "    # ex) 12시 땡! -> 12시 땡 !\n",
    "    sentence = re.sub(r\"([?.!,])\", r\" \\1 \", sentence)\n",
    "    sentence = sentence.strip()\n",
    "    questions.append(sentence)\n",
    "answers = []\n",
    "for sentence in train_data['A']:\n",
    "    # 구두점에 대해서 띄어쓰기\n",
    "    # ex) 12시 땡! -> 12시 땡 !\n",
    "    sentence = re.sub(r\"([?.!,])\", r\" \\1 \", sentence)\n",
    "    sentence = sentence.strip()\n",
    "    answers.append(sentence)"
   ]
  },
  {
   "cell_type": "code",
   "execution_count": 132,
   "metadata": {},
   "outputs": [
    {
     "name": "stdout",
     "output_type": "stream",
     "text": [
      "['12시 땡 !', '1지망 학교 떨어졌어', '3박4일 놀러가고 싶다', '3박4일 정도 놀러가고 싶다', 'PPL 심하네']\n",
      "['하루가 또 가네요 .', '위로해 드립니다 .', '여행은 언제나 좋죠 .', '여행은 언제나 좋죠 .', '눈살이 찌푸려지죠 .']\n",
      "11823\n"
     ]
    }
   ],
   "source": [
    "print(questions[:5])\n",
    "print(answers[:5])\n",
    "print(len(questions))"
   ]
  },
  {
   "cell_type": "code",
   "execution_count": 134,
   "metadata": {},
   "outputs": [
    {
     "name": "stdout",
     "output_type": "stream",
     "text": [
      "8178\n"
     ]
    }
   ],
   "source": [
    "# 서브워드텍스트인코더를 사용하여 질문, 답변 데이터로부터 단어 집합(Vocabulary) 생성\n",
    "tokenizer = tfds.deprecated.text.SubwordTextEncoder.build_from_corpus(\n",
    "    questions + answers, target_vocab_size=2**13)\n",
    "print(tokenizer.vocab_size)"
   ]
  },
  {
   "cell_type": "code",
   "execution_count": 135,
   "metadata": {},
   "outputs": [],
   "source": [
    "# 시작 토큰과 종료 토큰에 대한 정수 부여.\n",
    "START_TOKEN, END_TOKEN = [tokenizer.vocab_size], [tokenizer.vocab_size + 1]\n",
    "\n",
    "# 시작 토큰과 종료 토큰을 고려하여 단어 집합의 크기를 + 2\n",
    "VOCAB_SIZE = tokenizer.vocab_size + 2"
   ]
  },
  {
   "cell_type": "code",
   "execution_count": 136,
   "metadata": {},
   "outputs": [
    {
     "name": "stdout",
     "output_type": "stream",
     "text": [
      "시작 토큰 번호 : [8178]\n",
      "종료 토큰 번호 : [8179]\n",
      "단어 집합의 크기 : 8180\n"
     ]
    }
   ],
   "source": [
    "print('시작 토큰 번호 :',START_TOKEN)\n",
    "print('종료 토큰 번호 :',END_TOKEN)\n",
    "print('단어 집합의 크기 :',VOCAB_SIZE)"
   ]
  },
  {
   "cell_type": "code",
   "execution_count": 138,
   "metadata": {},
   "outputs": [
    {
     "name": "stdout",
     "output_type": "stream",
     "text": [
      "가스비 비싼데 감기 걸리겠어\n",
      "임의의 질문 샘플을 정수 인코딩 : [5766, 611, 3509, 141, 685, 3747, 849]\n"
     ]
    }
   ],
   "source": [
    "# 서브워드텍스트인코더 토크나이저의 .encode()를 사용하여 텍스트 시퀀스를 정수 시퀀스로 변환.\n",
    "print(questions[20])\n",
    "print('임의의 질문 샘플을 정수 인코딩 : {}'.format(tokenizer.encode(questions[20])))"
   ]
  },
  {
   "cell_type": "code",
   "execution_count": 140,
   "metadata": {},
   "outputs": [
    {
     "name": "stdout",
     "output_type": "stream",
     "text": [
      "정수 인코딩 후의 문장 [5766, 611, 3509, 141, 685, 3747, 849]\n",
      "기존 문장: 가스비 비싼데 감기 걸리겠어\n"
     ]
    }
   ],
   "source": [
    "# 서브워드텍스트인코더 토크나이저의 .encode()와 .decode() 테스트해보기\n",
    "# 임의의 입력 문장을 sample_string에 저장\n",
    "sample_string = questions[20]\n",
    "\n",
    "# encode() : 텍스트 시퀀스 --> 정수 시퀀스\n",
    "tokenized_string = tokenizer.encode(sample_string)\n",
    "print ('정수 인코딩 후의 문장 {}'.format(tokenized_string))\n",
    "\n",
    "# decode() : 정수 시퀀스 --> 텍스트 시퀀스\n",
    "original_string = tokenizer.decode(tokenized_string)\n",
    "print ('기존 문장: {}'.format(original_string))"
   ]
  },
  {
   "cell_type": "code",
   "execution_count": 141,
   "metadata": {},
   "outputs": [
    {
     "name": "stdout",
     "output_type": "stream",
     "text": [
      "5766 ----> 가스\n",
      "611 ----> 비 \n",
      "3509 ----> 비싼\n",
      "141 ----> 데 \n",
      "685 ----> 감기 \n",
      "3747 ----> 걸리\n",
      "849 ----> 겠어\n"
     ]
    }
   ],
   "source": [
    "for ts in tokenized_string:\n",
    "    print ('{} ----> {}'.format(ts, tokenizer.decode([ts])))"
   ]
  },
  {
   "cell_type": "code",
   "execution_count": 142,
   "metadata": {},
   "outputs": [],
   "source": [
    "# 최대 길이를 40으로 정의\n",
    "MAX_LENGTH = 40\n",
    "\n",
    "# 토큰화 / 정수 인코딩 / 시작 토큰과 종료 토큰 추가 / 패딩\n",
    "def tokenize_and_filter(inputs, outputs):\n",
    "  tokenized_inputs, tokenized_outputs = [], []\n",
    "\n",
    "  for (sentence1, sentence2) in zip(inputs, outputs):\n",
    "#     print(sentence1)\n",
    "    # encode(토큰화 + 정수 인코딩), 시작 토큰과 종료 토큰 추가\n",
    "    sentence1 = START_TOKEN + tokenizer.encode(sentence1) + END_TOKEN\n",
    "    sentence2 = START_TOKEN + tokenizer.encode(sentence2) + END_TOKEN\n",
    "\n",
    "\n",
    "    tokenized_inputs.append(sentence1)\n",
    "    tokenized_outputs.append(sentence2)\n",
    "\n",
    "  # 패딩\n",
    "  tokenized_inputs = tf.keras.preprocessing.sequence.pad_sequences(\n",
    "      tokenized_inputs, maxlen=MAX_LENGTH, padding='post')\n",
    "  tokenized_outputs = tf.keras.preprocessing.sequence.pad_sequences(\n",
    "      tokenized_outputs, maxlen=MAX_LENGTH, padding='post')\n",
    "\n",
    "  print(tokenized_inputs[0])\n",
    "\n",
    "  return tokenized_inputs, tokenized_outputs"
   ]
  },
  {
   "cell_type": "code",
   "execution_count": 143,
   "metadata": {},
   "outputs": [
    {
     "name": "stdout",
     "output_type": "stream",
     "text": [
      "[8178 7915 4207 3060   41 8179    0    0    0    0    0    0    0    0\n",
      "    0    0    0    0    0    0    0    0    0    0    0    0    0    0\n",
      "    0    0    0    0    0    0    0    0    0    0    0    0]\n"
     ]
    }
   ],
   "source": [
    "questions, answers = tokenize_and_filter(questions, answers)"
   ]
  },
  {
   "cell_type": "code",
   "execution_count": 144,
   "metadata": {},
   "outputs": [
    {
     "name": "stdout",
     "output_type": "stream",
     "text": [
      "질문 데이터의 크기(shape) : (11823, 40)\n",
      "답변 데이터의 크기(shape) : (11823, 40)\n"
     ]
    }
   ],
   "source": [
    "print('질문 데이터의 크기(shape) :', questions.shape)\n",
    "print('답변 데이터의 크기(shape) :', answers.shape)"
   ]
  },
  {
   "cell_type": "code",
   "execution_count": 145,
   "metadata": {},
   "outputs": [
    {
     "name": "stdout",
     "output_type": "stream",
     "text": [
      "[8178 7915 4207 3060   41 8179    0    0    0    0    0    0    0    0\n",
      "    0    0    0    0    0    0    0    0    0    0    0    0    0    0\n",
      "    0    0    0    0    0    0    0    0    0    0    0    0]\n",
      "[8178 3844   74 7894    1 8179    0    0    0    0    0    0    0    0\n",
      "    0    0    0    0    0    0    0    0    0    0    0    0    0    0\n",
      "    0    0    0    0    0    0    0    0    0    0    0    0]\n"
     ]
    }
   ],
   "source": [
    "print(questions[0])\n",
    "print(answers[0])"
   ]
  },
  {
   "cell_type": "code",
   "execution_count": 146,
   "metadata": {},
   "outputs": [
    {
     "name": "stdout",
     "output_type": "stream",
     "text": [
      "[8178 3844   74 7894    1 8179    0    0    0    0    0    0    0    0\n",
      "    0    0    0    0    0    0    0    0    0    0    0    0    0    0\n",
      "    0    0    0    0    0    0    0    0    0    0    0    0]\n",
      "[[8178 3844   74 7894    1 8179    0    0    0    0    0    0    0    0\n",
      "     0    0    0    0    0    0    0    0    0    0    0    0    0    0\n",
      "     0    0    0    0    0    0    0    0    0    0    0]]\n",
      "[[3844   74 7894    1 8179    0    0    0    0    0    0    0    0    0\n",
      "     0    0    0    0    0    0    0    0    0    0    0    0    0    0\n",
      "     0    0    0    0    0    0    0    0    0    0    0]]\n"
     ]
    }
   ],
   "source": [
    "BATCH_SIZE = 64\n",
    "BUFFER_SIZE = 20000\n",
    "\n",
    "# 디코더의 실제값 시퀀스에서는 시작 토큰을 제거해야 한다.\n",
    "dataset = tf.data.Dataset.from_tensor_slices((\n",
    "    {\n",
    "        'inputs': questions,\n",
    "        'dec_inputs': answers[:, :-1] # 디코더의 입력. 마지막 패딩 토큰이 제거된다.\n",
    "    },\n",
    "    {\n",
    "        'outputs': answers[:, 1:]  # 맨 처음 토큰이 제거된다. 다시 말해 시작 토큰이 제거된다.\n",
    "    },\n",
    "))\n",
    "\n",
    "dataset = dataset.cache()\n",
    "dataset = dataset.shuffle(BUFFER_SIZE)\n",
    "dataset = dataset.batch(BATCH_SIZE)\n",
    "dataset = dataset.prefetch(tf.data.experimental.AUTOTUNE)\n",
    "# 임의의 샘플에 대해서 [:, :-1]과 [:, 1:]이 어떤 의미를 가지는지 테스트해본다.\n",
    "print(answers[0]) # 기존 샘플\n",
    "print(answers[:1][:, :-1]) # 마지막 패딩 토큰 제거하면서 길이가 39가 된다.\n",
    "print(answers[:1][:, 1:]) # 맨 처음 토큰이 제거된다. 다시 말해 시작 토큰이 제거된다. 길이는 역시 39가 된다."
   ]
  },
  {
   "cell_type": "code",
   "execution_count": 147,
   "metadata": {},
   "outputs": [
    {
     "name": "stdout",
     "output_type": "stream",
     "text": [
      "Tensor(\"look_ahead_mask/strided_slice:0\", shape=(), dtype=int32)\n"
     ]
    }
   ],
   "source": [
    "D_MODEL = 256\n",
    "NUM_LAYERS = 2\n",
    "NUM_HEADS = 8\n",
    "DFF = 512\n",
    "DROPOUT = 0.1\n",
    "\n",
    "model = transformer(\n",
    "    vocab_size=VOCAB_SIZE,\n",
    "    num_layers=NUM_LAYERS,\n",
    "    dff=DFF,\n",
    "    d_model=D_MODEL,\n",
    "    num_heads=NUM_HEADS,\n",
    "    dropout=DROPOUT)"
   ]
  },
  {
   "cell_type": "code",
   "execution_count": 148,
   "metadata": {},
   "outputs": [],
   "source": [
    "learning_rate = CustomSchedule(D_MODEL)\n",
    "\n",
    "optimizer = tf.keras.optimizers.Adam(\n",
    "    learning_rate, beta_1=0.9, beta_2=0.98, epsilon=1e-9)\n",
    "\n",
    "def accuracy(y_true, y_pred):\n",
    "  # 레이블의 크기는 (batch_size, MAX_LENGTH - 1)\n",
    "  y_true = tf.reshape(y_true, shape=(-1, MAX_LENGTH - 1))\n",
    "  return tf.keras.metrics.sparse_categorical_accuracy(y_true, y_pred)\n",
    "\n",
    "model.compile(optimizer=optimizer, loss=loss_function, metrics=[accuracy])"
   ]
  },
  {
   "cell_type": "code",
   "execution_count": 149,
   "metadata": {},
   "outputs": [
    {
     "name": "stdout",
     "output_type": "stream",
     "text": [
      "Epoch 1/50\n",
      "Tensor(\"transformer/look_ahead_mask/strided_slice:0\", shape=(), dtype=int32)\n",
      "Tensor(\"transformer/look_ahead_mask/strided_slice:0\", shape=(), dtype=int32)\n",
      "185/185 [==============================] - 25s 115ms/step - loss: 1.4561 - accuracy: 0.0241\n",
      "Epoch 2/50\n",
      "185/185 [==============================] - 22s 116ms/step - loss: 1.1783 - accuracy: 0.0496\n",
      "Epoch 3/50\n",
      "185/185 [==============================] - 22s 117ms/step - loss: 1.0042 - accuracy: 0.0509\n",
      "Epoch 4/50\n",
      "185/185 [==============================] - 21s 116ms/step - loss: 0.9288 - accuracy: 0.0545\n",
      "Epoch 5/50\n",
      "185/185 [==============================] - 21s 114ms/step - loss: 0.8699 - accuracy: 0.0577\n",
      "Epoch 6/50\n",
      "185/185 [==============================] - 22s 117ms/step - loss: 0.8107 - accuracy: 0.0619\n",
      "Epoch 7/50\n",
      "185/185 [==============================] - 21s 116ms/step - loss: 0.7440 - accuracy: 0.0678\n",
      "Epoch 8/50\n",
      "185/185 [==============================] - 21s 115ms/step - loss: 0.6711 - accuracy: 0.0756\n",
      "Epoch 9/50\n",
      "185/185 [==============================] - 21s 112ms/step - loss: 0.5929 - accuracy: 0.0840\n",
      "Epoch 10/50\n",
      "185/185 [==============================] - 21s 112ms/step - loss: 0.5109 - accuracy: 0.0933\n",
      "Epoch 11/50\n",
      "185/185 [==============================] - 19s 101ms/step - loss: 0.4287 - accuracy: 0.1035\n",
      "Epoch 12/50\n",
      "185/185 [==============================] - 21s 115ms/step - loss: 0.3482 - accuracy: 0.1146\n",
      "Epoch 13/50\n",
      "185/185 [==============================] - 22s 117ms/step - loss: 0.2736 - accuracy: 0.1255\n",
      "Epoch 14/50\n",
      "185/185 [==============================] - 21s 115ms/step - loss: 0.2090 - accuracy: 0.1353\n",
      "Epoch 15/50\n",
      "185/185 [==============================] - 22s 117ms/step - loss: 0.1554 - accuracy: 0.1446\n",
      "Epoch 16/50\n",
      "185/185 [==============================] - 22s 116ms/step - loss: 0.1116 - accuracy: 0.1528\n",
      "Epoch 17/50\n",
      "185/185 [==============================] - 22s 116ms/step - loss: 0.0818 - accuracy: 0.1582\n",
      "Epoch 18/50\n",
      "185/185 [==============================] - 21s 115ms/step - loss: 0.0629 - accuracy: 0.1615\n",
      "Epoch 19/50\n",
      "185/185 [==============================] - 22s 116ms/step - loss: 0.0517 - accuracy: 0.1636\n",
      "Epoch 20/50\n",
      "185/185 [==============================] - 21s 116ms/step - loss: 0.0466 - accuracy: 0.1641\n",
      "Epoch 21/50\n",
      "185/185 [==============================] - 21s 116ms/step - loss: 0.0438 - accuracy: 0.1646\n",
      "Epoch 22/50\n",
      "185/185 [==============================] - 22s 117ms/step - loss: 0.0403 - accuracy: 0.1651\n",
      "Epoch 23/50\n",
      "185/185 [==============================] - 19s 104ms/step - loss: 0.0365 - accuracy: 0.1662\n",
      "Epoch 24/50\n",
      "185/185 [==============================] - 22s 117ms/step - loss: 0.0318 - accuracy: 0.1673\n",
      "Epoch 25/50\n",
      "185/185 [==============================] - 22s 117ms/step - loss: 0.0277 - accuracy: 0.1683\n",
      "Epoch 26/50\n",
      "185/185 [==============================] - 22s 117ms/step - loss: 0.0253 - accuracy: 0.1688\n",
      "Epoch 27/50\n",
      "185/185 [==============================] - 19s 104ms/step - loss: 0.0223 - accuracy: 0.1696\n",
      "Epoch 28/50\n",
      "185/185 [==============================] - 22s 117ms/step - loss: 0.0206 - accuracy: 0.1700\n",
      "Epoch 29/50\n",
      "185/185 [==============================] - 20s 110ms/step - loss: 0.0183 - accuracy: 0.1706\n",
      "Epoch 30/50\n",
      "185/185 [==============================] - 22s 117ms/step - loss: 0.0171 - accuracy: 0.1708\n",
      "Epoch 31/50\n",
      "185/185 [==============================] - 19s 104ms/step - loss: 0.0154 - accuracy: 0.1712\n",
      "Epoch 32/50\n",
      "185/185 [==============================] - 22s 117ms/step - loss: 0.0142 - accuracy: 0.1716\n",
      "Epoch 33/50\n",
      "185/185 [==============================] - 22s 117ms/step - loss: 0.0132 - accuracy: 0.1719\n",
      "Epoch 34/50\n",
      "185/185 [==============================] - 20s 107ms/step - loss: 0.0123 - accuracy: 0.1721\n",
      "Epoch 35/50\n",
      "185/185 [==============================] - 22s 117ms/step - loss: 0.0117 - accuracy: 0.1723\n",
      "Epoch 36/50\n",
      "185/185 [==============================] - 19s 104ms/step - loss: 0.0109 - accuracy: 0.1724\n",
      "Epoch 37/50\n",
      "185/185 [==============================] - 21s 113ms/step - loss: 0.0107 - accuracy: 0.1726\n",
      "Epoch 38/50\n",
      "185/185 [==============================] - 22s 117ms/step - loss: 0.0094 - accuracy: 0.1729\n",
      "Epoch 39/50\n",
      "185/185 [==============================] - 19s 102ms/step - loss: 0.0087 - accuracy: 0.1730\n",
      "Epoch 40/50\n",
      "185/185 [==============================] - 22s 117ms/step - loss: 0.0085 - accuracy: 0.1731\n",
      "Epoch 41/50\n",
      "185/185 [==============================] - 19s 104ms/step - loss: 0.0084 - accuracy: 0.1731\n",
      "Epoch 42/50\n",
      "185/185 [==============================] - 19s 103ms/step - loss: 0.0078 - accuracy: 0.1732\n",
      "Epoch 43/50\n",
      "185/185 [==============================] - 22s 117ms/step - loss: 0.0077 - accuracy: 0.1733\n",
      "Epoch 44/50\n",
      "185/185 [==============================] - 19s 104ms/step - loss: 0.0070 - accuracy: 0.1734\n",
      "Epoch 45/50\n",
      "185/185 [==============================] - 22s 117ms/step - loss: 0.0066 - accuracy: 0.1735\n",
      "Epoch 46/50\n",
      "185/185 [==============================] - 22s 117ms/step - loss: 0.0068 - accuracy: 0.1735\n",
      "Epoch 47/50\n",
      "185/185 [==============================] - 19s 104ms/step - loss: 0.0064 - accuracy: 0.1735\n",
      "Epoch 48/50\n",
      "185/185 [==============================] - 20s 105ms/step - loss: 0.0061 - accuracy: 0.1736\n",
      "Epoch 49/50\n",
      "185/185 [==============================] - 22s 117ms/step - loss: 0.0059 - accuracy: 0.1737\n",
      "Epoch 50/50\n",
      "185/185 [==============================] - 19s 104ms/step - loss: 0.0055 - accuracy: 0.1737\n"
     ]
    },
    {
     "data": {
      "text/plain": [
       "<keras.callbacks.History at 0x1f65ab75910>"
      ]
     },
     "execution_count": 149,
     "metadata": {},
     "output_type": "execute_result"
    }
   ],
   "source": [
    "EPOCHS = 50\n",
    "model.fit(dataset, epochs=EPOCHS)"
   ]
  },
  {
   "cell_type": "code",
   "execution_count": 150,
   "metadata": {},
   "outputs": [],
   "source": [
    "def evaluate(sentence):\n",
    "  sentence = preprocess_sentence(sentence)\n",
    "\n",
    "  sentence = tf.expand_dims(\n",
    "      START_TOKEN + tokenizer.encode(sentence) + END_TOKEN, axis=0)\n",
    "\n",
    "  output = tf.expand_dims(START_TOKEN, 0)\n",
    "\n",
    "  # 디코더의 예측 시작\n",
    "  for i in range(MAX_LENGTH):\n",
    "    predictions = model(inputs=[sentence, output], training=False)\n",
    "\n",
    "    # 현재(마지막) 시점의 예측 단어를 받아온다.\n",
    "    predictions = predictions[:, -1:, :]\n",
    "    predicted_id = tf.cast(tf.argmax(predictions, axis=-1), tf.int32)\n",
    "\n",
    "    # 만약 마지막 시점의 예측 단어가 종료 토큰이라면 예측을 중단\n",
    "    if tf.equal(predicted_id, END_TOKEN[0]):\n",
    "      break\n",
    "\n",
    "    # 마지막 시점의 예측 단어를 출력에 연결한다.\n",
    "    # 이는 for문을 통해서 디코더의 입력으로 사용될 예정이다.\n",
    "    output = tf.concat([output, predicted_id], axis=-1)\n",
    "\n",
    "  return tf.squeeze(output, axis=0)\n",
    "def predict(sentence):\n",
    "  prediction = evaluate(sentence)\n",
    "\n",
    "  predicted_sentence = tokenizer.decode(\n",
    "      [i for i in prediction if i < tokenizer.vocab_size])\n",
    "\n",
    "  print('Input: {}'.format(sentence))\n",
    "  print('Output: {}'.format(predicted_sentence))\n",
    "\n",
    "  return predicted_sentence\n",
    "def preprocess_sentence(sentence):\n",
    "  sentence = re.sub(r\"([?.!,])\", r\" \\1 \", sentence)\n",
    "  sentence = sentence.strip()\n",
    "  return sentence"
   ]
  },
  {
   "cell_type": "code",
   "execution_count": 151,
   "metadata": {},
   "outputs": [
    {
     "name": "stdout",
     "output_type": "stream",
     "text": [
      "tf.Tensor(1, shape=(), dtype=int32)\n",
      "tf.Tensor(2, shape=(), dtype=int32)\n",
      "tf.Tensor(3, shape=(), dtype=int32)\n",
      "tf.Tensor(4, shape=(), dtype=int32)\n",
      "tf.Tensor(5, shape=(), dtype=int32)\n",
      "tf.Tensor(6, shape=(), dtype=int32)\n",
      "tf.Tensor(7, shape=(), dtype=int32)\n",
      "tf.Tensor(8, shape=(), dtype=int32)\n",
      "Input: 날씨가 좋넹.\n",
      "Output: 천천히 생각이 많아지기 때문일 거예요 .\n"
     ]
    }
   ],
   "source": [
    "output = predict(\"날씨가 좋넹.\")"
   ]
  },
  {
   "cell_type": "code",
   "execution_count": 152,
   "metadata": {},
   "outputs": [
    {
     "name": "stdout",
     "output_type": "stream",
     "text": [
      "tf.Tensor(1, shape=(), dtype=int32)\n",
      "tf.Tensor(2, shape=(), dtype=int32)\n",
      "tf.Tensor(3, shape=(), dtype=int32)\n",
      "tf.Tensor(4, shape=(), dtype=int32)\n",
      "tf.Tensor(5, shape=(), dtype=int32)\n",
      "tf.Tensor(6, shape=(), dtype=int32)\n",
      "tf.Tensor(7, shape=(), dtype=int32)\n",
      "tf.Tensor(8, shape=(), dtype=int32)\n",
      "tf.Tensor(9, shape=(), dtype=int32)\n",
      "tf.Tensor(10, shape=(), dtype=int32)\n",
      "tf.Tensor(11, shape=(), dtype=int32)\n",
      "tf.Tensor(12, shape=(), dtype=int32)\n",
      "tf.Tensor(13, shape=(), dtype=int32)\n",
      "tf.Tensor(14, shape=(), dtype=int32)\n",
      "tf.Tensor(15, shape=(), dtype=int32)\n",
      "tf.Tensor(16, shape=(), dtype=int32)\n",
      "tf.Tensor(17, shape=(), dtype=int32)\n",
      "Input: 고민이 있어\n",
      "Output: 생각을 종이에 끄젹여여 보는게 도움이 될 수도 있어요 .\n"
     ]
    }
   ],
   "source": [
    "output = predict(\"고민이 있어\")"
   ]
  },
  {
   "cell_type": "code",
   "execution_count": 153,
   "metadata": {},
   "outputs": [
    {
     "name": "stdout",
     "output_type": "stream",
     "text": [
      "tf.Tensor(1, shape=(), dtype=int32)\n",
      "tf.Tensor(2, shape=(), dtype=int32)\n",
      "tf.Tensor(3, shape=(), dtype=int32)\n",
      "tf.Tensor(4, shape=(), dtype=int32)\n",
      "tf.Tensor(5, shape=(), dtype=int32)\n",
      "tf.Tensor(6, shape=(), dtype=int32)\n",
      "tf.Tensor(7, shape=(), dtype=int32)\n",
      "tf.Tensor(8, shape=(), dtype=int32)\n",
      "Input: 너무 화가나\n",
      "Output: 그럴수록 당신이 힘들 거예요 .\n"
     ]
    }
   ],
   "source": [
    "output = predict(\"너무 화가나\")"
   ]
  },
  {
   "cell_type": "code",
   "execution_count": 154,
   "metadata": {},
   "outputs": [
    {
     "name": "stdout",
     "output_type": "stream",
     "text": [
      "tf.Tensor(1, shape=(), dtype=int32)\n",
      "tf.Tensor(2, shape=(), dtype=int32)\n",
      "tf.Tensor(3, shape=(), dtype=int32)\n",
      "tf.Tensor(4, shape=(), dtype=int32)\n",
      "tf.Tensor(5, shape=(), dtype=int32)\n",
      "Input: 카페갈래?\n",
      "Output: 카페 데이트 좋죠 .\n"
     ]
    }
   ],
   "source": [
    "output = predict(\"카페갈래?\")"
   ]
  },
  {
   "cell_type": "code",
   "execution_count": 155,
   "metadata": {},
   "outputs": [
    {
     "name": "stdout",
     "output_type": "stream",
     "text": [
      "tf.Tensor(1, shape=(), dtype=int32)\n",
      "tf.Tensor(2, shape=(), dtype=int32)\n",
      "tf.Tensor(3, shape=(), dtype=int32)\n",
      "tf.Tensor(4, shape=(), dtype=int32)\n",
      "tf.Tensor(5, shape=(), dtype=int32)\n",
      "tf.Tensor(6, shape=(), dtype=int32)\n",
      "tf.Tensor(7, shape=(), dtype=int32)\n",
      "tf.Tensor(8, shape=(), dtype=int32)\n",
      "tf.Tensor(9, shape=(), dtype=int32)\n",
      "tf.Tensor(10, shape=(), dtype=int32)\n",
      "Input: 게임하고싶당\n",
      "Output: 무슨 마음인지 알겠어서 더 마음이 아프네요 .\n"
     ]
    }
   ],
   "source": [
    "output = predict(\"게임하고싶당\")"
   ]
  },
  {
   "cell_type": "code",
   "execution_count": 156,
   "metadata": {},
   "outputs": [
    {
     "name": "stdout",
     "output_type": "stream",
     "text": [
      "tf.Tensor(1, shape=(), dtype=int32)\n",
      "tf.Tensor(2, shape=(), dtype=int32)\n",
      "tf.Tensor(3, shape=(), dtype=int32)\n",
      "tf.Tensor(4, shape=(), dtype=int32)\n",
      "Input: 게임하자\n",
      "Output: 게임하세요 !\n"
     ]
    }
   ],
   "source": [
    "output = predict(\"게임하자\")"
   ]
  },
  {
   "cell_type": "code",
   "execution_count": null,
   "metadata": {},
   "outputs": [],
   "source": []
  }
 ],
 "metadata": {
  "kernelspec": {
   "display_name": "Python 3 (ipykernel)",
   "language": "python",
   "name": "python3"
  },
  "language_info": {
   "codemirror_mode": {
    "name": "ipython",
    "version": 3
   },
   "file_extension": ".py",
   "mimetype": "text/x-python",
   "name": "python",
   "nbconvert_exporter": "python",
   "pygments_lexer": "ipython3",
   "version": "3.9.7"
  }
 },
 "nbformat": 4,
 "nbformat_minor": 4
}
