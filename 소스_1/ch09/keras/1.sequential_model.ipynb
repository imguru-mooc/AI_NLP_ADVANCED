{
 "cells": [
  {
   "cell_type": "markdown",
   "metadata": {
    "id": "ZsYweEXsF1Ut"
   },
   "source": [
    "# Sequential 모델"
   ]
  },
  {
   "cell_type": "markdown",
   "metadata": {
    "id": "Ygz2642R7AEV"
   },
   "source": [
    "## 설정"
   ]
  },
  {
   "cell_type": "code",
   "execution_count": null,
   "metadata": {},
   "outputs": [],
   "source": [
    "!pip install tensorflow"
   ]
  },
  {
   "cell_type": "code",
   "execution_count": 4,
   "metadata": {
    "execution": {
     "iopub.execute_input": "2020-09-23T04:03:40.237680Z",
     "iopub.status.busy": "2020-09-23T04:03:40.237047Z",
     "iopub.status.idle": "2020-09-23T04:03:46.461327Z",
     "shell.execute_reply": "2020-09-23T04:03:46.460675Z"
    },
    "id": "kPfh5AQ8fFzQ"
   },
   "outputs": [],
   "source": [
    "import tensorflow as tf\n",
    "from tensorflow import keras\n",
    "from tensorflow.keras import layers"
   ]
  },
  {
   "cell_type": "code",
   "execution_count": 4,
   "metadata": {},
   "outputs": [
    {
     "name": "stdout",
     "output_type": "stream",
     "text": [
      "2.9.1\n"
     ]
    }
   ],
   "source": [
    "print(tf.__version__)"
   ]
  },
  {
   "cell_type": "markdown",
   "metadata": {
    "id": "H86UozfTDwPp"
   },
   "source": [
    "## Sequential 모델을 사용하는 경우\n",
    "\n",
    "`Sequential` 모델은 각 레이어에 **정확히 하나의 입력 텐서와 하나의 출력 텐서**가 있는 **일반 레이어 스택**에 적합합니다.\n",
    "\n",
    "개략적으로 다음과 같은 `Sequential` 모델은"
   ]
  },
  {
   "cell_type": "code",
   "execution_count": 11,
   "metadata": {},
   "outputs": [
    {
     "name": "stdout",
     "output_type": "stream",
     "text": [
      "<keras.layers.core.dense.Dense object at 0x000002CD92398640>\n",
      "[]\n",
      "(3, 3)\n",
      "[<tf.Variable 'dense_6/kernel:0' shape=(3, 2) dtype=float32, numpy=\n",
      "array([[-0.42822504,  0.79465437],\n",
      "       [ 0.3842728 ,  0.5817646 ],\n",
      "       [-0.46623665,  0.26333678]], dtype=float32)>, <tf.Variable 'dense_6/bias:0' shape=(2,) dtype=float32, numpy=array([0., 0.], dtype=float32)>]\n",
      "tf.Tensor(\n",
      "[[0.        1.6397557]\n",
      " [0.        1.6397557]\n",
      " [0.        1.6397557]], shape=(3, 2), dtype=float32)\n"
     ]
    }
   ],
   "source": [
    "my_dense = layers.Dense(2, activation=\"relu\") # w.shape() , b.shape()\n",
    "print(my_dense)\n",
    "print(my_dense.weights)\n",
    "x = tf.ones((3, 3))\n",
    "print(x.numpy().shape)\n",
    "ret=my_dense(x)\n",
    "print(my_dense.weights)\n",
    "print(ret)"
   ]
  },
  {
   "cell_type": "code",
   "execution_count": 8,
   "metadata": {
    "execution": {
     "iopub.execute_input": "2020-09-23T04:03:46.467154Z",
     "iopub.status.busy": "2020-09-23T04:03:46.466465Z",
     "iopub.status.idle": "2020-09-23T04:03:48.519729Z",
     "shell.execute_reply": "2020-09-23T04:03:48.519082Z"
    },
    "id": "ajdypoWBxCFi"
   },
   "outputs": [
    {
     "name": "stdout",
     "output_type": "stream",
     "text": [
      "(3, 4)\n",
      "tf.Tensor(\n",
      "[[ 1.216435    1.1220847   0.14353143 -0.7091525 ]\n",
      " [ 1.216435    1.1220847   0.14353143 -0.7091525 ]\n",
      " [ 1.216435    1.1220847   0.14353143 -0.7091525 ]], shape=(3, 4), dtype=float32)\n",
      "Model: \"sequential_3\"\n",
      "_________________________________________________________________\n",
      " Layer (type)                Output Shape              Param #   \n",
      "=================================================================\n",
      " layer1 (Dense)              (3, 2)                    8         \n",
      "                                                                 \n",
      " layer2 (Dense)              (3, 3)                    9         \n",
      "                                                                 \n",
      " layer3 (Dense)              (3, 4)                    16        \n",
      "                                                                 \n",
      "=================================================================\n",
      "Total params: 33\n",
      "Trainable params: 33\n",
      "Non-trainable params: 0\n",
      "_________________________________________________________________\n"
     ]
    }
   ],
   "source": [
    "# Define Sequential model with 3 layers\n",
    "model = keras.Sequential(\n",
    "    [\n",
    "        layers.Dense(2, activation=\"relu\", name=\"layer1\"),  # (3,3)(3,2) + (2,) => (3,2)\n",
    "        layers.Dense(3, activation=\"relu\", name=\"layer2\"),  # (3,2)(2,3) + (3,) => (3,3)\n",
    "        layers.Dense(4, name=\"layer3\"),                     # (3,3)(3,4) + (4,) => (3,4)\n",
    "    ]\n",
    ")\n",
    "# model.summary()\n",
    "# Call model on a test input\n",
    "x = tf.ones((3, 3))\n",
    "# print(x)\n",
    "y = model(x)\n",
    "print(y.shape)\n",
    "print(y)\n",
    "model.summary()"
   ]
  },
  {
   "cell_type": "markdown",
   "metadata": {
    "id": "m9gUL80fmFFo"
   },
   "source": [
    "다음 함수와 동일합니다."
   ]
  },
  {
   "cell_type": "code",
   "execution_count": 12,
   "metadata": {
    "execution": {
     "iopub.execute_input": "2020-09-23T04:03:48.528191Z",
     "iopub.status.busy": "2020-09-23T04:03:48.527423Z",
     "iopub.status.idle": "2020-09-23T04:03:48.536655Z",
     "shell.execute_reply": "2020-09-23T04:03:48.537091Z"
    },
    "id": "gqksyI6UN0U3"
   },
   "outputs": [
    {
     "name": "stdout",
     "output_type": "stream",
     "text": [
      "tf.Tensor(\n",
      "[[0.         0.30049294]\n",
      " [0.         0.30049294]\n",
      " [0.         0.30049294]], shape=(3, 2), dtype=float32)\n",
      "tf.Tensor(\n",
      "[[0.2788214  0.         0.26496983]\n",
      " [0.2788214  0.         0.26496983]\n",
      " [0.2788214  0.         0.26496983]], shape=(3, 3), dtype=float32)\n",
      "tf.Tensor(\n",
      "[[ 0.16995624 -0.15224978  0.14073911 -0.22798349]\n",
      " [ 0.16995624 -0.15224978  0.14073911 -0.22798349]\n",
      " [ 0.16995624 -0.15224978  0.14073911 -0.22798349]], shape=(3, 4), dtype=float32)\n"
     ]
    }
   ],
   "source": [
    "# Create 3 layers\n",
    "layer1 = layers.Dense(2, activation=\"relu\", name=\"layer1\")\n",
    "layer2 = layers.Dense(3, activation=\"relu\", name=\"layer2\")\n",
    "layer3 = layers.Dense(4, name=\"layer3\")\n",
    "\n",
    "# Call layers on a test input\n",
    "x = tf.ones((3, 3))\n",
    "# y = layer3(layer2(layer1(x)))\n",
    "x = layer1(x)\n",
    "print(x)\n",
    "x = layer2(x)\n",
    "print(x)\n",
    "x = layer3(x)\n",
    "print(x)\n",
    "# y.shape\n",
    "# model.summary()"
   ]
  },
  {
   "cell_type": "markdown",
   "metadata": {
    "id": "MqyEgCnQVf4w"
   },
   "source": [
    "Sequential 모델은 다음의 경우에 **적합하지 않습니다**.\n",
    "\n",
    "- 모델에 다중 입력 또는 다중 출력이 있습니다\n",
    "- 레이어에 다중 입력 또는 다중 출력이 있습니다\n",
    "- 레이어 공유를 해야 합니다\n",
    "- 비선형 토폴로지를 원합니다(예: 잔류 연결, 다중 분기 모델)"
   ]
  },
  {
   "cell_type": "markdown",
   "metadata": {
    "id": "sWxFjYzpKzUD"
   },
   "source": [
    "## Sequential 모델 생성하기\n",
    "\n",
    "레이어의 목록을 Sequential 생성자에 전달하여 Sequential 모델을 만들 수 있습니다."
   ]
  },
  {
   "cell_type": "code",
   "execution_count": 13,
   "metadata": {
    "execution": {
     "iopub.execute_input": "2020-09-23T04:03:48.545374Z",
     "iopub.status.busy": "2020-09-23T04:03:48.544679Z",
     "iopub.status.idle": "2020-09-23T04:03:48.549460Z",
     "shell.execute_reply": "2020-09-23T04:03:48.549875Z"
    },
    "id": "itLg7K6qTzVO"
   },
   "outputs": [
    {
     "name": "stdout",
     "output_type": "stream",
     "text": [
      "<keras.engine.sequential.Sequential object at 0x000001F7EDA12F40>\n"
     ]
    }
   ],
   "source": [
    "model = keras.Sequential(\n",
    "    [\n",
    "        layers.Dense(2, activation=\"relu\"),\n",
    "        layers.Dense(3, activation=\"relu\"),\n",
    "        layers.Dense(4),\n",
    "    ]\n",
    ")\n",
    "print(model)"
   ]
  },
  {
   "cell_type": "markdown",
   "metadata": {
    "id": "g3fvbcVmCHEP"
   },
   "source": [
    "속한 레이어는 `layers` 속성을 통해 접근할 수 있습니다."
   ]
  },
  {
   "cell_type": "code",
   "execution_count": 14,
   "metadata": {
    "execution": {
     "iopub.execute_input": "2020-09-23T04:03:48.559195Z",
     "iopub.status.busy": "2020-09-23T04:03:48.558546Z",
     "iopub.status.idle": "2020-09-23T04:03:48.563436Z",
     "shell.execute_reply": "2020-09-23T04:03:48.563975Z"
    },
    "id": "Lwmuasfp5KXs"
   },
   "outputs": [
    {
     "data": {
      "text/plain": [
       "[<keras.layers.core.dense.Dense at 0x1f7eda03d60>,\n",
       " <keras.layers.core.dense.Dense at 0x1f7eda03ac0>,\n",
       " <keras.layers.core.dense.Dense at 0x1f7eda12d60>]"
      ]
     },
     "execution_count": 14,
     "metadata": {},
     "output_type": "execute_result"
    }
   ],
   "source": [
    "model.layers"
   ]
  },
  {
   "cell_type": "markdown",
   "metadata": {
    "id": "qVNQRoWqJ3PY"
   },
   "source": [
    "`add()` 메서드를 통해 Sequential 모델을 점진적으로 작성할 수도 있습니다."
   ]
  },
  {
   "cell_type": "code",
   "execution_count": 15,
   "metadata": {},
   "outputs": [
    {
     "name": "stdout",
     "output_type": "stream",
     "text": [
      "[1, 2, 3]\n"
     ]
    }
   ],
   "source": [
    "a = [1,2,3]\n",
    "print(a)"
   ]
  },
  {
   "cell_type": "code",
   "execution_count": 18,
   "metadata": {},
   "outputs": [
    {
     "name": "stdout",
     "output_type": "stream",
     "text": [
      "[1]\n",
      "[1, 2]\n",
      "[1, 2, 3]\n"
     ]
    }
   ],
   "source": [
    "a = []\n",
    "a.append(1)\n",
    "print(a)\n",
    "a.append(2)\n",
    "print(a)\n",
    "a.append(3)\n",
    "print(a)"
   ]
  },
  {
   "cell_type": "code",
   "execution_count": 22,
   "metadata": {
    "execution": {
     "iopub.execute_input": "2020-09-23T04:03:48.570264Z",
     "iopub.status.busy": "2020-09-23T04:03:48.569611Z",
     "iopub.status.idle": "2020-09-23T04:03:48.576262Z",
     "shell.execute_reply": "2020-09-23T04:03:48.576678Z"
    },
    "id": "2TD4yRflSEv6"
   },
   "outputs": [
    {
     "name": "stdout",
     "output_type": "stream",
     "text": [
      "[]\n",
      "[<keras.layers.core.dense.Dense object at 0x000001F7E0933F40>]\n",
      "[<keras.layers.core.dense.Dense object at 0x000001F7E0933F40>, <keras.layers.core.dense.Dense object at 0x000001F7ED9F6F10>]\n",
      "[<keras.layers.core.dense.Dense object at 0x000001F7E0933F40>, <keras.layers.core.dense.Dense object at 0x000001F7ED9F6F10>, <keras.layers.core.dense.Dense object at 0x000001F7E0933430>]\n"
     ]
    }
   ],
   "source": [
    "model = keras.Sequential()\n",
    "print(model.layers)\n",
    "model.add(layers.Dense(2, activation=\"relu\", name=\"layer1\"))\n",
    "print(model.layers)\n",
    "model.add(layers.Dense(3, activation=\"relu\", name=\"layer2\"))\n",
    "print(model.layers)\n",
    "model.add(layers.Dense(4, name=\"layer3\"))\n",
    "print(model.layers)"
   ]
  },
  {
   "cell_type": "code",
   "execution_count": 23,
   "metadata": {},
   "outputs": [
    {
     "name": "stdout",
     "output_type": "stream",
     "text": [
      "1\n",
      "2\n",
      "3\n"
     ]
    }
   ],
   "source": [
    "for data in a:\n",
    "    print(data)"
   ]
  },
  {
   "cell_type": "code",
   "execution_count": 24,
   "metadata": {
    "scrolled": true
   },
   "outputs": [
    {
     "name": "stdout",
     "output_type": "stream",
     "text": [
      "layer1\n",
      "layer2\n",
      "layer3\n"
     ]
    }
   ],
   "source": [
    "for layer in model.layers:\n",
    "    print(layer.name)"
   ]
  },
  {
   "cell_type": "markdown",
   "metadata": {
    "id": "PmunUrP7HhMI"
   },
   "source": [
    "레이어를 제거하는 `pop()` 메서드도 있습니다. Sequential 모델은 레이어의 리스트와 매우 유사하게 동작합니다."
   ]
  },
  {
   "cell_type": "code",
   "execution_count": 26,
   "metadata": {
    "execution": {
     "iopub.execute_input": "2020-09-23T04:03:48.580678Z",
     "iopub.status.busy": "2020-09-23T04:03:48.580032Z",
     "iopub.status.idle": "2020-09-23T04:03:48.582916Z",
     "shell.execute_reply": "2020-09-23T04:03:48.582424Z"
    },
    "id": "6INo3oxSLUbA"
   },
   "outputs": [
    {
     "name": "stdout",
     "output_type": "stream",
     "text": [
      "2\n",
      "layer1\n",
      "layer2\n"
     ]
    }
   ],
   "source": [
    "model.pop()\n",
    "print(len(model.layers))  # 2\n",
    "for layer in model.layers:\n",
    "    print(layer.name)"
   ]
  },
  {
   "cell_type": "markdown",
   "metadata": {
    "id": "AAvcsRrOxQ9W"
   },
   "source": [
    "또한 Sequential 생성자는 Keras의 모든 레이어 또는 모델과 마찬가지로 `name` 인수를 허용합니다. 이것은 의미론적으로 유의미한 이름으로 TensorBoard 그래프에 주석을 달 때 유용합니다."
   ]
  },
  {
   "cell_type": "code",
   "execution_count": 28,
   "metadata": {
    "execution": {
     "iopub.execute_input": "2020-09-23T04:03:48.589100Z",
     "iopub.status.busy": "2020-09-23T04:03:48.588477Z",
     "iopub.status.idle": "2020-09-23T04:03:48.595572Z",
     "shell.execute_reply": "2020-09-23T04:03:48.594982Z"
    },
    "id": "s8oN1kMYqSuD"
   },
   "outputs": [
    {
     "name": "stdout",
     "output_type": "stream",
     "text": [
      "my_sequential\n",
      "layer1\n",
      "layer2\n",
      "layer3\n"
     ]
    }
   ],
   "source": [
    "model = keras.Sequential(name=\"my_sequential\")\n",
    "model.add(layers.Dense(2, activation=\"relu\", name=\"layer1\"))\n",
    "model.add(layers.Dense(3, activation=\"relu\", name=\"layer2\"))\n",
    "model.add(layers.Dense(4, name=\"layer3\"))\n",
    "print(model.name)\n",
    "for layer in model.layers:\n",
    "    print(layer.name)"
   ]
  },
  {
   "cell_type": "markdown",
   "metadata": {
    "id": "PqGh2rmljliN"
   },
   "source": [
    "## 미리 입력 형상 지정하기\n",
    "\n",
    "일반적으로 Keras의 모든 레이어는 가중치를 만들려면 입력의 형상을 알아야 합니다. 따라서 다음과 같은 레이어를 만들면 처음에는 가중치가 없습니다."
   ]
  },
  {
   "cell_type": "code",
   "execution_count": 29,
   "metadata": {
    "execution": {
     "iopub.execute_input": "2020-09-23T04:03:48.600433Z",
     "iopub.status.busy": "2020-09-23T04:03:48.599753Z",
     "iopub.status.idle": "2020-09-23T04:03:48.602724Z",
     "shell.execute_reply": "2020-09-23T04:03:48.602137Z"
    },
    "id": "tW04KX032Ol9"
   },
   "outputs": [
    {
     "data": {
      "text/plain": [
       "[]"
      ]
     },
     "execution_count": 29,
     "metadata": {},
     "output_type": "execute_result"
    }
   ],
   "source": [
    "layer = layers.Dense(3)   # w=(?,3) b=(3,)\n",
    "layer.weights  # Empty"
   ]
  },
  {
   "cell_type": "markdown",
   "metadata": {
    "id": "NU0Ai9lbGUKA"
   },
   "source": [
    "가중치는 모양이 입력의 형상에 따라 달라지기 때문에 입력에서 처음 호출될 때 가중치를 만듭니다."
   ]
  },
  {
   "cell_type": "code",
   "execution_count": 30,
   "metadata": {
    "execution": {
     "iopub.execute_input": "2020-09-23T04:03:48.607253Z",
     "iopub.status.busy": "2020-09-23T04:03:48.606637Z",
     "iopub.status.idle": "2020-09-23T04:03:48.613627Z",
     "shell.execute_reply": "2020-09-23T04:03:48.613049Z"
    },
    "id": "OqSj1TLCU1vH"
   },
   "outputs": [
    {
     "data": {
      "text/plain": [
       "[<tf.Variable 'dense_3/kernel:0' shape=(4, 3) dtype=float32, numpy=\n",
       " array([[ 0.87066984, -0.21357107,  0.3322096 ],\n",
       "        [ 0.27695417,  0.538417  ,  0.0620122 ],\n",
       "        [-0.04509944,  0.42110765, -0.0055148 ],\n",
       "        [ 0.06132042,  0.84137523, -0.8253554 ]], dtype=float32)>,\n",
       " <tf.Variable 'dense_3/bias:0' shape=(3,) dtype=float32, numpy=array([0., 0., 0.], dtype=float32)>]"
      ]
     },
     "execution_count": 30,
     "metadata": {},
     "output_type": "execute_result"
    }
   ],
   "source": [
    "# Call layer on a test input\n",
    "x = tf.ones((1, 4))\n",
    "y = layer(x)   # (1,4)(4,3)+(3,)\n",
    "layer.weights  # Now it has weights, of shape (4, 3) and (3,)"
   ]
  },
  {
   "cell_type": "markdown",
   "metadata": {
    "id": "CDF0sLoVrGdU"
   },
   "source": [
    "당연히 이것은 Sequential 모델에도 적용됩니다. 입력 형상이 없는 Sequential 모델을 인스턴스화할 때는 \"빌드\"되지 않습니다. 가중치가 없습니다(그리고 `model.weights`를 호출하면 오류가 발생함). 모델에 처음 입력 데이터가 표시되면 가중치가 생성됩니다."
   ]
  },
  {
   "cell_type": "code",
   "execution_count": 33,
   "metadata": {
    "execution": {
     "iopub.execute_input": "2020-09-23T04:03:48.621884Z",
     "iopub.status.busy": "2020-09-23T04:03:48.621259Z",
     "iopub.status.idle": "2020-09-23T04:03:48.645022Z",
     "shell.execute_reply": "2020-09-23T04:03:48.644432Z"
    },
    "id": "ovoPw8Ncbevb"
   },
   "outputs": [
    {
     "name": "stdout",
     "output_type": "stream",
     "text": [
      "Number of weights after calling the model: 6\n"
     ]
    }
   ],
   "source": [
    "model = keras.Sequential(\n",
    "    [\n",
    "        layers.Dense(2, activation=\"relu\"),  # (1,4)(4,2)+(2,) => (1,2)\n",
    "        layers.Dense(3, activation=\"relu\"),  # (1,2)(2,3)+(3,) => (1,3)\n",
    "        layers.Dense(4),                     # (1,3)(3,4)+(4,) => (1,4)\n",
    "    ]\n",
    ")  # No weights at this stage!\n",
    "\n",
    "# At this point, you can't do this:\n",
    "# model.weights\n",
    "\n",
    "# You also can't do this:\n",
    "# model.summary()\n",
    "\n",
    "# Call the model on a test input\n",
    "x = tf.ones((1, 4))\n",
    "y = model(x)\n",
    "print(\"Number of weights after calling the model:\", len(model.weights))  # 6"
   ]
  },
  {
   "cell_type": "markdown",
   "metadata": {
    "id": "laWJparrJg70"
   },
   "source": [
    "모델이 \"빌드\"되면, 그 내용을 표시하기 위해 `summary()` 메서드를 호출할 수 있습니다."
   ]
  },
  {
   "cell_type": "code",
   "execution_count": 34,
   "metadata": {
    "execution": {
     "iopub.execute_input": "2020-09-23T04:03:48.649365Z",
     "iopub.status.busy": "2020-09-23T04:03:48.648547Z",
     "iopub.status.idle": "2020-09-23T04:03:48.651650Z",
     "shell.execute_reply": "2020-09-23T04:03:48.652098Z"
    },
    "id": "mY2X9QbgabHu"
   },
   "outputs": [
    {
     "name": "stdout",
     "output_type": "stream",
     "text": [
      "Model: \"sequential_11\"\n",
      "_________________________________________________________________\n",
      " Layer (type)                Output Shape              Param #   \n",
      "=================================================================\n",
      " dense_10 (Dense)            (1, 2)                    10        \n",
      "                                                                 \n",
      " dense_11 (Dense)            (1, 3)                    9         \n",
      "                                                                 \n",
      " dense_12 (Dense)            (1, 4)                    16        \n",
      "                                                                 \n",
      "=================================================================\n",
      "Total params: 35\n",
      "Trainable params: 35\n",
      "Non-trainable params: 0\n",
      "_________________________________________________________________\n"
     ]
    }
   ],
   "source": [
    "model.summary()"
   ]
  },
  {
   "cell_type": "markdown",
   "metadata": {
    "id": "1ZDoaIHvwSmw"
   },
   "source": [
    "그러나 현재 출력 형상을 포함하여 지금까지 모델의 요약을 표시할 수 있도록 Sequential 모델을 점진적으로 빌드할 때 매우 유용할 수 있습니다. 이 경우 `Input` 객체를 모델에 전달하여 모델의 시작 형상을 알 수 있도록 모델을 시작해야 합니다."
   ]
  },
  {
   "cell_type": "code",
   "execution_count": 36,
   "metadata": {},
   "outputs": [
    {
     "name": "stdout",
     "output_type": "stream",
     "text": [
      "KerasTensor(type_spec=TensorSpec(shape=(None, 4), dtype=tf.float32, name='input_1'), name='input_1', description=\"created by layer 'input_1'\")\n"
     ]
    }
   ],
   "source": [
    "# x = tf.ones((1, 4))\n",
    "# print(x)\n",
    "x_spec = keras.Input(shape=(4,))\n",
    "print(x_spec)"
   ]
  },
  {
   "cell_type": "code",
   "execution_count": 38,
   "metadata": {
    "execution": {
     "iopub.execute_input": "2020-09-23T04:03:48.658042Z",
     "iopub.status.busy": "2020-09-23T04:03:48.657423Z",
     "iopub.status.idle": "2020-09-23T04:03:48.671130Z",
     "shell.execute_reply": "2020-09-23T04:03:48.670522Z"
    },
    "id": "Wv9HeHEeCKAG"
   },
   "outputs": [
    {
     "name": "stdout",
     "output_type": "stream",
     "text": [
      "Model: \"sequential_13\"\n",
      "_________________________________________________________________\n",
      " Layer (type)                Output Shape              Param #   \n",
      "=================================================================\n",
      " dense_14 (Dense)            (None, 2)                 10        \n",
      "                                                                 \n",
      "=================================================================\n",
      "Total params: 10\n",
      "Trainable params: 10\n",
      "Non-trainable params: 0\n",
      "_________________________________________________________________\n"
     ]
    },
    {
     "data": {
      "text/plain": [
       "[<tf.Variable 'dense_14/kernel:0' shape=(4, 2) dtype=float32, numpy=\n",
       " array([[ 0.9835026 , -0.49841833],\n",
       "        [ 0.5286529 ,  0.39257598],\n",
       "        [ 0.29013896,  0.9039359 ],\n",
       "        [-0.7185271 ,  0.19386053]], dtype=float32)>,\n",
       " <tf.Variable 'dense_14/bias:0' shape=(2,) dtype=float32, numpy=array([0., 0.], dtype=float32)>]"
      ]
     },
     "execution_count": 38,
     "metadata": {},
     "output_type": "execute_result"
    }
   ],
   "source": [
    "model = keras.Sequential()\n",
    "model.add(keras.Input(shape=(4,)))\n",
    "model.add(layers.Dense(2, activation=\"relu\"))   # (None,4)(4,2)+(2,) => (None,2)\n",
    "\n",
    "model.summary()\n",
    "model.weights"
   ]
  },
  {
   "cell_type": "markdown",
   "metadata": {
    "id": "4rhwhV0mpu6m"
   },
   "source": [
    "`Input` 객체는 레이어가 아니므로 `model.layers`의 일부로 표시되지 않습니다."
   ]
  },
  {
   "cell_type": "code",
   "execution_count": 39,
   "metadata": {
    "execution": {
     "iopub.execute_input": "2020-09-23T04:03:48.675382Z",
     "iopub.status.busy": "2020-09-23T04:03:48.674759Z",
     "iopub.status.idle": "2020-09-23T04:03:48.677974Z",
     "shell.execute_reply": "2020-09-23T04:03:48.677408Z"
    },
    "id": "oCwEwMoy1B0A"
   },
   "outputs": [
    {
     "data": {
      "text/plain": [
       "[<keras.layers.core.dense.Dense at 0x1f7edc56460>]"
      ]
     },
     "execution_count": 39,
     "metadata": {},
     "output_type": "execute_result"
    }
   ],
   "source": [
    "model.layers"
   ]
  },
  {
   "cell_type": "markdown",
   "metadata": {
    "id": "xcKk9VmVY9of"
   },
   "source": [
    "간단한 대안은 첫 번째 레이어에 `input_shape` 인수를 전달하는 것입니다."
   ]
  },
  {
   "cell_type": "code",
   "execution_count": 40,
   "metadata": {
    "execution": {
     "iopub.execute_input": "2020-09-23T04:03:48.684182Z",
     "iopub.status.busy": "2020-09-23T04:03:48.683418Z",
     "iopub.status.idle": "2020-09-23T04:03:48.697717Z",
     "shell.execute_reply": "2020-09-23T04:03:48.697218Z"
    },
    "id": "FMe4x1CMP75N"
   },
   "outputs": [
    {
     "name": "stdout",
     "output_type": "stream",
     "text": [
      "Model: \"sequential_14\"\n",
      "_________________________________________________________________\n",
      " Layer (type)                Output Shape              Param #   \n",
      "=================================================================\n",
      " dense_15 (Dense)            (None, 2)                 10        \n",
      "                                                                 \n",
      "=================================================================\n",
      "Total params: 10\n",
      "Trainable params: 10\n",
      "Non-trainable params: 0\n",
      "_________________________________________________________________\n"
     ]
    }
   ],
   "source": [
    "model = keras.Sequential()\n",
    "model.add(layers.Dense(2, activation=\"relu\", input_shape=(4,)))  # (None,4)(4,2)+(2,) => (None,2)\n",
    "\n",
    "model.summary()"
   ]
  },
  {
   "cell_type": "markdown",
   "metadata": {
    "id": "E8lMCSByqIqP"
   },
   "source": [
    "이처럼 사전 정의된 입력 모양으로 빌드된 모델은 항상 가중치를 가지며(데이터를 보기 전에도) 항상 정의된 출력 형상을 갖습니다.\n",
    "\n",
    "일반적으로 Sequential 모델의 입력 형상을 알고 있는 경우 항상 Sequential 모델의 입력 형상을 지정하는 것이 좋습니다."
   ]
  },
  {
   "cell_type": "markdown",
   "metadata": {
    "id": "W5tJgMQ6phEp"
   },
   "source": [
    "## 일반적인 디버깅 워크플로우: `add()` + `summary()`\n",
    "\n",
    "새로운 Sequential 아키텍처를 구축할 때는 `add()` 하여 레이어를 점진적으로 쌓고 모델 요약을 자주 인쇄하는 것이 유용합니다. 예를 들어 `Conv2D` 및 `MaxPooling2D` 레이어의 스택이 이미지 특성 맵을 다운 샘플링 하는 방법을 모니터링할 수 있습니다."
   ]
  },
  {
   "cell_type": "code",
   "execution_count": 44,
   "metadata": {
    "execution": {
     "iopub.execute_input": "2020-09-23T04:03:48.707095Z",
     "iopub.status.busy": "2020-09-23T04:03:48.706365Z",
     "iopub.status.idle": "2020-09-23T04:03:48.786250Z",
     "shell.execute_reply": "2020-09-23T04:03:48.786690Z"
    },
    "id": "lz8Lo0OOweir"
   },
   "outputs": [
    {
     "name": "stdout",
     "output_type": "stream",
     "text": [
      "Model: \"sequential_18\"\n",
      "_________________________________________________________________\n",
      " Layer (type)                Output Shape              Param #   \n",
      "=================================================================\n",
      " conv2d_14 (Conv2D)          (None, 123, 123, 32)      2432      \n",
      "                                                                 \n",
      " conv2d_15 (Conv2D)          (None, 121, 121, 32)      9248      \n",
      "                                                                 \n",
      " max_pooling2d_7 (MaxPooling  (None, 40, 40, 32)       0         \n",
      " 2D)                                                             \n",
      "                                                                 \n",
      "=================================================================\n",
      "Total params: 11,680\n",
      "Trainable params: 11,680\n",
      "Non-trainable params: 0\n",
      "_________________________________________________________________\n",
      "Model: \"sequential_18\"\n",
      "_________________________________________________________________\n",
      " Layer (type)                Output Shape              Param #   \n",
      "=================================================================\n",
      " conv2d_14 (Conv2D)          (None, 123, 123, 32)      2432      \n",
      "                                                                 \n",
      " conv2d_15 (Conv2D)          (None, 121, 121, 32)      9248      \n",
      "                                                                 \n",
      " max_pooling2d_7 (MaxPooling  (None, 40, 40, 32)       0         \n",
      " 2D)                                                             \n",
      "                                                                 \n",
      " conv2d_16 (Conv2D)          (None, 38, 38, 32)        9248      \n",
      "                                                                 \n",
      " conv2d_17 (Conv2D)          (None, 36, 36, 32)        9248      \n",
      "                                                                 \n",
      " max_pooling2d_8 (MaxPooling  (None, 12, 12, 32)       0         \n",
      " 2D)                                                             \n",
      "                                                                 \n",
      " conv2d_18 (Conv2D)          (None, 10, 10, 32)        9248      \n",
      "                                                                 \n",
      " conv2d_19 (Conv2D)          (None, 8, 8, 32)          9248      \n",
      "                                                                 \n",
      " max_pooling2d_9 (MaxPooling  (None, 4, 4, 32)         0         \n",
      " 2D)                                                             \n",
      "                                                                 \n",
      "=================================================================\n",
      "Total params: 48,672\n",
      "Trainable params: 48,672\n",
      "Non-trainable params: 0\n",
      "_________________________________________________________________\n",
      "Model: \"sequential_18\"\n",
      "_________________________________________________________________\n",
      " Layer (type)                Output Shape              Param #   \n",
      "=================================================================\n",
      " conv2d_14 (Conv2D)          (None, 123, 123, 32)      2432      \n",
      "                                                                 \n",
      " conv2d_15 (Conv2D)          (None, 121, 121, 32)      9248      \n",
      "                                                                 \n",
      " max_pooling2d_7 (MaxPooling  (None, 40, 40, 32)       0         \n",
      " 2D)                                                             \n",
      "                                                                 \n",
      " conv2d_16 (Conv2D)          (None, 38, 38, 32)        9248      \n",
      "                                                                 \n",
      " conv2d_17 (Conv2D)          (None, 36, 36, 32)        9248      \n",
      "                                                                 \n",
      " max_pooling2d_8 (MaxPooling  (None, 12, 12, 32)       0         \n",
      " 2D)                                                             \n",
      "                                                                 \n",
      " conv2d_18 (Conv2D)          (None, 10, 10, 32)        9248      \n",
      "                                                                 \n",
      " conv2d_19 (Conv2D)          (None, 8, 8, 32)          9248      \n",
      "                                                                 \n",
      " max_pooling2d_9 (MaxPooling  (None, 4, 4, 32)         0         \n",
      " 2D)                                                             \n",
      "                                                                 \n",
      " global_max_pooling2d_1 (Glo  (None, 32)               0         \n",
      " balMaxPooling2D)                                                \n",
      "                                                                 \n",
      "=================================================================\n",
      "Total params: 48,672\n",
      "Trainable params: 48,672\n",
      "Non-trainable params: 0\n",
      "_________________________________________________________________\n",
      "Model: \"sequential_18\"\n",
      "_________________________________________________________________\n",
      " Layer (type)                Output Shape              Param #   \n",
      "=================================================================\n",
      " conv2d_14 (Conv2D)          (None, 123, 123, 32)      2432      \n",
      "                                                                 \n",
      " conv2d_15 (Conv2D)          (None, 121, 121, 32)      9248      \n",
      "                                                                 \n",
      " max_pooling2d_7 (MaxPooling  (None, 40, 40, 32)       0         \n",
      " 2D)                                                             \n",
      "                                                                 \n",
      " conv2d_16 (Conv2D)          (None, 38, 38, 32)        9248      \n",
      "                                                                 \n",
      " conv2d_17 (Conv2D)          (None, 36, 36, 32)        9248      \n",
      "                                                                 \n",
      " max_pooling2d_8 (MaxPooling  (None, 12, 12, 32)       0         \n",
      " 2D)                                                             \n",
      "                                                                 \n",
      " conv2d_18 (Conv2D)          (None, 10, 10, 32)        9248      \n",
      "                                                                 \n",
      " conv2d_19 (Conv2D)          (None, 8, 8, 32)          9248      \n",
      "                                                                 \n",
      " max_pooling2d_9 (MaxPooling  (None, 4, 4, 32)         0         \n",
      " 2D)                                                             \n",
      "                                                                 \n",
      " global_max_pooling2d_1 (Glo  (None, 32)               0         \n",
      " balMaxPooling2D)                                                \n",
      "                                                                 \n",
      " dense_16 (Dense)            (None, 10)                330       \n",
      "                                                                 \n",
      "=================================================================\n",
      "Total params: 49,002\n",
      "Trainable params: 49,002\n",
      "Non-trainable params: 0\n",
      "_________________________________________________________________\n"
     ]
    }
   ],
   "source": [
    "model = keras.Sequential()\n",
    "model.add(keras.Input(shape=(250, 250, 3)))  # 250x250 RGB images\n",
    "model.add(layers.Conv2D(32, 5, strides=2, activation=\"relu\"))  # (5,5,3,32) => (N-F)/S+1 => (None,123,123,32)\n",
    "model.add(layers.Conv2D(32, 3, activation=\"relu\"))             # (3,3,32,32)=>(None,121,121,32)\n",
    "model.add(layers.MaxPooling2D(3))                              # (None,121,121,32) => (None,40,40,32)\n",
    "\n",
    "# # Can you guess what the current output shape is at this point? Probably not.\n",
    "# # Let's just print it:\n",
    "model.summary()\n",
    "\n",
    "# # The answer was: (40, 40, 32), so we can keep downsampling...\n",
    "\n",
    "model.add(layers.Conv2D(32, 3, activation=\"relu\")) # (3,3,32,32)=>(None,38,38,32)\n",
    "model.add(layers.Conv2D(32, 3, activation=\"relu\")) # (3,3,32,32)=>(None,36,36,32)\n",
    "model.add(layers.MaxPooling2D(3))                  #            =>(None,12,12,32)\n",
    "model.add(layers.Conv2D(32, 3, activation=\"relu\")) # (3,3,32,32)=>(None,10,10,32)\n",
    "model.add(layers.Conv2D(32, 3, activation=\"relu\")) # (3,3,32,32)=>(None,8,8,32)\n",
    "model.add(layers.MaxPooling2D(2))                  #            =>(None,4,4,32)\n",
    "\n",
    "# # And now?\n",
    "model.summary()\n",
    "\n",
    "# Now that we have 4x4 feature maps, time to apply global max pooling.\n",
    "model.add(layers.GlobalMaxPooling2D())  # (None,4,4,32) => (None,32)\n",
    "\n",
    "model.summary()\n",
    "# Finally, we add a classification layer.\n",
    "model.add(layers.Dense(10))  # (None,32)(32,10) + (10,)  => (None,10)\n",
    "model.summary()"
   ]
  },
  {
   "cell_type": "markdown",
   "metadata": {
    "id": "CNbDnMrNPCWu"
   },
   "source": [
    "매우 실용적이죠?\n"
   ]
  },
  {
   "cell_type": "markdown",
   "metadata": {
    "id": "doMLAEStLF8l"
   },
   "source": [
    "## 모델이 완성되면 해야 할 일\n",
    "\n",
    "모델 아키텍처가 준비되면 다음을 수행할 수 있습니다.\n",
    "\n",
    "- 모델을 훈련시키고 평가하며 추론을 실행합니다. [내장 루프를 사용한 훈련 및 평가 가이드](https://www.tensorflow.org/guide/keras/train_and_evaluate/)를 참조하세요.\n",
    "- 모델을 디스크에 저장하고 복구합니다. [직렬화 및 저장 가이드](https://www.tensorflow.org/guide/keras/save_and_serialize/)를 참조하세요.\n",
    "- 다중 GPU를 활용하여 모델의 훈련 속도를 향상합니다. [다중 GPU 및 분산 훈련 가이드](distributed_training)를 참조하세요."
   ]
  },
  {
   "cell_type": "markdown",
   "metadata": {
    "id": "tQ1VzU9LjW6O"
   },
   "source": [
    "## Sequential 모델을 사용한 특성 추출\n",
    "\n",
    "Sequential 모델이 빌드되면 [Functional API 모델](https://www.tensorflow.org/guide/keras/functional/)처럼 동작합니다. 이는 모든 레이어가 `input` 및 `output` 속성을 갖는다는 것을 의미합니다. 이러한 속성을 사용하면 Sequential 모델 내의 모든 중간 레이어들의 출력을 추출하는 모델을 빠르게 생성하는 등 깔끔한 작업을 수행할 수 있습니다."
   ]
  },
  {
   "cell_type": "code",
   "execution_count": 46,
   "metadata": {
    "execution": {
     "iopub.execute_input": "2020-09-23T04:03:48.803713Z",
     "iopub.status.busy": "2020-09-23T04:03:48.802956Z",
     "iopub.status.idle": "2020-09-23T04:03:50.138757Z",
     "shell.execute_reply": "2020-09-23T04:03:50.138129Z"
    },
    "id": "DCnNkNL4EEWT"
   },
   "outputs": [
    {
     "name": "stdout",
     "output_type": "stream",
     "text": [
      "Model: \"sequential_20\"\n",
      "_________________________________________________________________\n",
      " Layer (type)                Output Shape              Param #   \n",
      "=================================================================\n",
      " conv2d_23 (Conv2D)          (None, 123, 123, 32)      2432      \n",
      "                                                                 \n",
      " conv2d_24 (Conv2D)          (None, 121, 121, 32)      9248      \n",
      "                                                                 \n",
      " conv2d_25 (Conv2D)          (None, 119, 119, 32)      9248      \n",
      "                                                                 \n",
      "=================================================================\n",
      "Total params: 20,928\n",
      "Trainable params: 20,928\n",
      "Non-trainable params: 0\n",
      "_________________________________________________________________\n",
      "(1, 123, 123, 32)\n",
      "(1, 121, 121, 32)\n",
      "(1, 119, 119, 32)\n"
     ]
    }
   ],
   "source": [
    "initial_model = keras.Sequential(\n",
    "    [\n",
    "        keras.Input(shape=(250, 250, 3)),\n",
    "        layers.Conv2D(32, 5, strides=2, activation=\"relu\"), # (1,123,123,32)\n",
    "        layers.Conv2D(32, 3, activation=\"relu\"),            # (1,121,121,32)\n",
    "        layers.Conv2D(32, 3, activation=\"relu\"),            # (1,119,119,32)\n",
    "    ]\n",
    ")\n",
    "initial_model.summary()\n",
    "feature_extractor = keras.Model(\n",
    "    inputs=initial_model.inputs,\n",
    "    outputs=[layer.output for layer in initial_model.layers],\n",
    ")\n",
    "\n",
    "# Call feature extractor on test input.\n",
    "x = tf.ones((1, 250, 250, 3))\n",
    "features = feature_extractor(x)\n",
    "for feature in features:\n",
    "    print(feature.shape)"
   ]
  },
  {
   "cell_type": "markdown",
   "metadata": {
    "id": "oX0vtFJEr8mC"
   },
   "source": [
    "다음은 한 레이어에서 특성만 추출하는 것과 유사한 예입니다."
   ]
  },
  {
   "cell_type": "code",
   "execution_count": null,
   "metadata": {
    "execution": {
     "iopub.execute_input": "2020-09-23T04:03:50.155784Z",
     "iopub.status.busy": "2020-09-23T04:03:50.155011Z",
     "iopub.status.idle": "2020-09-23T04:03:50.188438Z",
     "shell.execute_reply": "2020-09-23T04:03:50.187882Z"
    },
    "id": "4fCuSyOQFkbq"
   },
   "outputs": [],
   "source": [
    "initial_model = keras.Sequential(\n",
    "    [\n",
    "        keras.Input(shape=(250, 250, 3)),\n",
    "        layers.Conv2D(32, 5, strides=2, activation=\"relu\"),\n",
    "        layers.Conv2D(32, 3, activation=\"relu\", name=\"my_intermediate_layer\"),\n",
    "        layers.Conv2D(32, 3, activation=\"relu\"),\n",
    "    ]\n",
    ")\n",
    "feature_extractor = keras.Model(\n",
    "    inputs=initial_model.inputs,\n",
    "    outputs=initial_model.get_layer(name=\"my_intermediate_layer\").output,\n",
    ")\n",
    "# Call feature extractor on test input.\n",
    "x = tf.ones((1, 250, 250, 3))\n",
    "features = feature_extractor(x)\n",
    "features.shape"
   ]
  },
  {
   "cell_type": "markdown",
   "metadata": {
    "id": "CdWf9KFXXjM4"
   },
   "source": [
    "## Sequential 모델을 통한 전이 학습\n",
    "\n",
    "전이 학습은 모델에서 맨 아래 레이어를 동결하고 맨 위 레이어만 훈련하는 것으로 구성됩니다. 익숙하지 않은 경우, [전이 학습 가이드](https://www.tensorflow.org/guide/keras/transfer_learning/)를 읽어보세요.\n",
    "\n",
    "다음은 Sequential 모델과 관련된 두 가지 일반적인 전이 학습 청사진입니다.\n",
    "\n",
    "먼저 Sequential 모델이 있고 마지막 모델을 제외한 모든 레이어를 동결하려고 한다고 가정합니다. 이 경우 다음과 같이 단순히 `model.layers`를 반복하고 마지막 레이어를 제외하고 각 레이어에서 `layer.trainable = False`를 설정합니다.\n",
    "\n",
    "```python\n",
    "model = keras.Sequential([<br>    keras.Input(shape=(784))<br>    layers.Dense(32, activation='relu'),<br>    layers.Dense(32, activation='relu'),<br>    layers.Dense(32, activation='relu'),<br>    layers.Dense(10),<br>])<br> <br># Presumably you would want to first load pre-trained weights.<br>model.load_weights(...)<br> <br># Freeze all layers except the last one.<br>for layer in model.layers[:-1]:<br>  layer.trainable = False<br> <br># Recompile and train (this will only update the weights of the last layer).<br>model.compile(...)<br>model.fit(...)\n",
    "```\n",
    "\n",
    "또 다른 일반적인 청사진은 다음과 같이 Sequential 모델을 사용하여 사전 훈련된 모델과 새로 초기화된 분류 레이어를 쌓는 것입니다.\n",
    "\n",
    "```python\n",
    "# Load a convolutional base with pre-trained weights<br>base_model = keras.applications.Xception(<br>    weights='imagenet',<br>    include_top=False,<br>    pooling='avg')<br> <br># Freeze the base model<br>base_model.trainable = False<br> <br># Use a Sequential model to add a trainable classifier on top<br>model = keras.Sequential([<br>    base_model,<br>    layers.Dense(1000),<br>])<br> <br># Compile & train<br>model.compile(...)<br>model.fit(...)\n",
    "```\n",
    "\n",
    "전이 학습을 한다면 아마도 이 두 가지 패턴을 자주 사용하게 될 것입니다."
   ]
  },
  {
   "cell_type": "markdown",
   "metadata": {
    "id": "weB4ei6uNtIg"
   },
   "source": [
    "이것이 Sequential 모델에 대해 알아야 할 전부입니다!\n",
    "\n",
    "Keras에서 모델을 빌드하는 방법에 대한 자세한 내용은 다음을 참조하세요.\n",
    "\n",
    "- [Functional API 가이드](https://www.tensorflow.org/guide/keras/functional/)\n",
    "- [하위 클래스화를 통한 새 레이어 및 모델 생성 가이드](https://www.tensorflow.org/guide/keras/custom_layers_and_models/)"
   ]
  }
 ],
 "metadata": {
  "colab": {
   "collapsed_sections": [],
   "name": "sequential_model.ipynb",
   "toc_visible": true
  },
  "kernelspec": {
   "display_name": "Python 3 (ipykernel)",
   "language": "python",
   "name": "python3"
  },
  "language_info": {
   "codemirror_mode": {
    "name": "ipython",
    "version": 3
   },
   "file_extension": ".py",
   "mimetype": "text/x-python",
   "name": "python",
   "nbconvert_exporter": "python",
   "pygments_lexer": "ipython3",
   "version": "3.9.12"
  }
 },
 "nbformat": 4,
 "nbformat_minor": 1
}
