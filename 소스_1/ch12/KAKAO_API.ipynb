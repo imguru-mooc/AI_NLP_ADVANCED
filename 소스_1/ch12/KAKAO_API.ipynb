{
 "cells": [
  {
   "cell_type": "markdown",
   "id": "5a562a92",
   "metadata": {},
   "source": [
    "### 녹음을 위한 패키지 설치"
   ]
  },
  {
   "cell_type": "code",
   "execution_count": 1,
   "id": "2d902dd8",
   "metadata": {
    "scrolled": false
   },
   "outputs": [
    {
     "name": "stdout",
     "output_type": "stream",
     "text": [
      "Collecting sounddevice\n",
      "  Downloading sounddevice-0.4.4-py3-none-win_amd64.whl (195 kB)\n",
      "Requirement already satisfied: CFFI>=1.0 in c:\\users\\jikim\\anaconda3\\lib\\site-packages (from sounddevice) (1.14.6)\n",
      "Requirement already satisfied: pycparser in c:\\users\\jikim\\anaconda3\\lib\\site-packages (from CFFI>=1.0->sounddevice) (2.20)\n",
      "Installing collected packages: sounddevice\n",
      "Successfully installed sounddevice-0.4.4\n",
      "Collecting soundfile\n",
      "  Downloading SoundFile-0.10.3.post1-py2.py3.cp26.cp27.cp32.cp33.cp34.cp35.cp36.pp27.pp32.pp33-none-win_amd64.whl (689 kB)\n",
      "Requirement already satisfied: cffi>=1.0 in c:\\users\\jikim\\anaconda3\\lib\\site-packages (from soundfile) (1.14.6)\n",
      "Requirement already satisfied: pycparser in c:\\users\\jikim\\anaconda3\\lib\\site-packages (from cffi>=1.0->soundfile) (2.20)\n",
      "Installing collected packages: soundfile\n",
      "Successfully installed soundfile-0.10.3.post1\n"
     ]
    }
   ],
   "source": [
    "!pip install sounddevice\n",
    "!pip install soundfile"
   ]
  },
  {
   "cell_type": "markdown",
   "id": "a1c3bdd6",
   "metadata": {},
   "source": [
    "#### 음성 녹음 test"
   ]
  },
  {
   "cell_type": "code",
   "execution_count": 2,
   "id": "4c66e12e",
   "metadata": {},
   "outputs": [
    {
     "name": "stdout",
     "output_type": "stream",
     "text": [
      "start recording\n",
      "stop recording\n"
     ]
    }
   ],
   "source": [
    "import time\n",
    "import queue, os, threading\n",
    "import sounddevice as sd\n",
    "import soundfile as sf\n",
    "from scipy.io.wavfile import write\n",
    "\n",
    "q = queue.Queue()\n",
    "recorder = False\n",
    "recording = False\n",
    "\n",
    "def complicated_record():\n",
    "    with sf.SoundFile(\"test.wav\", mode='w', samplerate=16000, subtype='PCM_16', channels=1) as file:\n",
    "        with sd.InputStream(samplerate=16000, dtype='int16', channels=1, callback=complicated_save):\n",
    "            while recording:\n",
    "                file.write(q.get())\n",
    "        \n",
    "def complicated_save(indata, frames, time, status):\n",
    "    q.put(indata.copy())\n",
    "    \n",
    "def start():\n",
    "    global recorder\n",
    "    global recording\n",
    "    recording = True\n",
    "    recorder = threading.Thread(target=complicated_record)\n",
    "    print('start recording')\n",
    "    recorder.start()\n",
    "    \n",
    "def stop():\n",
    "    global recorder\n",
    "    global recording\n",
    "    recording = False\n",
    "    recorder.join()\n",
    "    print('stop recording')\n",
    "    \n",
    "start()\n",
    "time.sleep(5)\n",
    "stop()"
   ]
  },
  {
   "cell_type": "markdown",
   "id": "7c43fe1b",
   "metadata": {},
   "source": [
    "### 1단계: 카카오 개발자 페이지 접속하기\n",
    "1. 카카오 디벨로퍼스에 접속합니다.(https://developers.kakao.com)\n",
    "2. 오른쪽 상단의 로그인 버튼을 클릭해 카카오 계정으로 로그인 합니다. *카카오 계정이 없는 경우 새롭게 계정을 생성합니다.\n",
    "\n",
    "### 2단계: 내 애플리케이션 만들기\n",
    "1. 상단 메뉴에서 내 애플리케이션을 클릭합니다.\n",
    "2. 서비스 이용 동의 페이지가 나타나는 경우 필수 항목에 동의하고, 개발자 이름을 입력한 다음 회원가입 버튼을 클 릭해 다음 단계로 넘어갑니다. (기존에 서비스 이용 동의한 경우 표시되지 않을 수 있습니다.)\n",
    "3. 전체 애플리케이션 페이지가 나타나면, 애플리케이션 추가하기를 클릭합니다.\n",
    "4. 앱 아이콘(로고)을 업로드하고, 앱 이름, 회사 이름을 작성합니다.\n",
    "5. 저장 버튼을 클릭합니다.\n",
    "6. REST API 키 복사\n",
    "7. 왼쪽 메뉴중 음성 메뉴를 선택후 상태를 On으로 바꿔야 됨"
   ]
  },
  {
   "cell_type": "markdown",
   "id": "b4f338e0",
   "metadata": {},
   "source": [
    "#### STT 테스트"
   ]
  },
  {
   "cell_type": "code",
   "execution_count": 3,
   "id": "144301fe",
   "metadata": {},
   "outputs": [
    {
     "name": "stdout",
     "output_type": "stream",
     "text": [
      "------newtoneeij2hSTub8Iqihmj\r\n",
      "Content-Type: application/json; charset=UTF-8\r\n",
      "\r\n",
      "{\"type\":\"beginPointDetection\",\"value\":\"BPD\"}\r\n",
      "------newtoneeij2hSTub8Iqihmj\r\n",
      "Content-Type: application/json; charset=UTF-8\r\n",
      "\r\n",
      "{\"type\":\"partialResult\",\"value\":\"카카오\"}\r\n",
      "------newtoneeij2hSTub8Iqihmj\r\n",
      "Content-Type: application/json; charset=UTF-8\r\n",
      "\r\n",
      "{\"type\":\"partialResult\",\"value\":\"카카오 개발자\"}\r\n",
      "------newtoneeij2hSTub8Iqihmj\r\n",
      "Content-Type: application/json; charset=UTF-8\r\n",
      "\r\n",
      "{\"type\":\"partialResult\",\"value\":\"카카오 개발자 베이지\"}\r\n",
      "------newtoneeij2hSTub8Iqihmj\r\n",
      "Content-Type: application/json; charset=UTF-8\r\n",
      "\r\n",
      "{\"type\":\"partialResult\",\"value\":\"카카오 개발자 페이지 접속\"}\r\n",
      "------newtoneeij2hSTub8Iqihmj\r\n",
      "Content-Type: application/json; charset=UTF-8\r\n",
      "\r\n",
      "{\"type\":\"endPointDetection\",\"value\":\"EPD\"}\r\n",
      "------newtoneeij2hSTub8Iqihmj\r\n",
      "Content-Type: application/json; charset=UTF-8\r\n",
      "Speech-Length: 4\r\n",
      "\r\n",
      "{\"type\":\"finalResult\",\"value\":\"카카오 개발자 페이지 접속하니\",\"nBest\":[{\"value\":\"카카오 개발자 페이지 접속하니\",\"score\":25},{\"value\":\"카카오 개발자 페이지 접속하기\",\"score\":0},{\"value\":\"카카오 개발자 베이지 접속하니\",\"score\":0},{\"value\":\"카카오 개발자 beige 접속하니\",\"score\":0},{\"value\":\"카카오 개발자 베이 접속하니\",\"score\":0}],\"voiceProfile\":{\"registered\":false,\"authenticated\":false},\"durationMS\":5200,\"qmarkScore\":0,\"gender\":0,\"model_version\":\"\"}\r\n",
      "------newtoneeij2hSTub8Iqihmj--\r\n",
      "\n"
     ]
    }
   ],
   "source": [
    "import requests\n",
    "import json\n",
    "kakao_speech_url = \"https://kakaoi-newtone-openapi.kakao.com/v1/recognize\"\n",
    "\n",
    "rest_api_key = '954052c06ac962dca9151a748fdd9289'\n",
    "\n",
    "headers = {\n",
    "    \"Content-Type\": \"application/octet-stream\",\n",
    "    \"X-DSS-Service\": \"DICTATION\",\n",
    "    \"Authorization\": \"KakaoAK \" + rest_api_key,\n",
    "}\n",
    "\n",
    "with open('test.wav', 'rb') as fp:\n",
    "    audio = fp.read()\n",
    "\n",
    "res = requests.post(kakao_speech_url, headers=headers, data=audio)\n",
    "print(res.text)"
   ]
  },
  {
   "cell_type": "markdown",
   "id": "b0d9e9ea",
   "metadata": {},
   "source": [
    "#### finalResult 추출 방법"
   ]
  },
  {
   "cell_type": "code",
   "execution_count": 4,
   "id": "c8320599",
   "metadata": {},
   "outputs": [
    {
     "name": "stdout",
     "output_type": "stream",
     "text": [
      "카카오 개발자 페이지 접속하니\n"
     ]
    }
   ],
   "source": [
    "result_json_string = res.text[res.text.index('{\"type\":\"finalResult\"'):res.text.rindex('}')+1]\n",
    "result = json.loads(result_json_string)\n",
    "# print(result)\n",
    "print(result['value'])"
   ]
  },
  {
   "cell_type": "markdown",
   "id": "4ec5496d",
   "metadata": {},
   "source": [
    "#### TTS 테스트"
   ]
  },
  {
   "cell_type": "code",
   "execution_count": 5,
   "id": "7dab2e77",
   "metadata": {},
   "outputs": [],
   "source": [
    "import os, requests, json, wave\n",
    "url = \"https://kakaoi-newtone-openapi.kakao.com/v1/synthesize\"\n",
    "key = '954052c06ac962dca9151a748fdd9289'\n",
    "headers = {\n",
    "    \"Content-Type\": \"application/xml\",\n",
    "    \"Authorization\": \"KakaoAK \" + key,\n",
    "}\n",
    "\n",
    "data = \"<speak>카카오 테스트중 입니다.</speak>\".encode('utf-8').decode('latin1')\n",
    "res = requests.post(url, headers=headers, data=data)\n",
    "f= open('temp.wav', 'wb')\n",
    "f.write(res.content)\n",
    "f.close()"
   ]
  },
  {
   "cell_type": "code",
   "execution_count": null,
   "id": "3c50801a",
   "metadata": {},
   "outputs": [],
   "source": []
  }
 ],
 "metadata": {
  "kernelspec": {
   "display_name": "Python 3 (ipykernel)",
   "language": "python",
   "name": "python3"
  },
  "language_info": {
   "codemirror_mode": {
    "name": "ipython",
    "version": 3
   },
   "file_extension": ".py",
   "mimetype": "text/x-python",
   "name": "python",
   "nbconvert_exporter": "python",
   "pygments_lexer": "ipython3",
   "version": "3.9.7"
  }
 },
 "nbformat": 4,
 "nbformat_minor": 5
}
