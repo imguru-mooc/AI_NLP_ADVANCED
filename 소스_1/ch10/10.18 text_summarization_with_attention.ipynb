{
 "cells": [
  {
   "cell_type": "markdown",
   "metadata": {},
   "source": [
    "## 어텐션을 이용한 텍스트 요약(Text Summarization with Attention mechanism)"
   ]
  },
  {
   "cell_type": "markdown",
   "metadata": {},
   "source": [
    "텍스트 요약은 상대적으로 큰 원문을 핵심 내용만 간추려서 상대적으로 작은 요약문으로 변환하는 것을 말합니다. 읽는 사람이 시간을 단축해서 내용을 빠르게 이해할 수 있다는 점에서 글을 많이 쓰는 사람들에게는 꼭 필요한 능력 중 하나인 것 같습니다. 그런데 만약 기계가 이를 자동으로 해줄 수만 있다면 얼마나 좋을까요? 이번 실습에서는 그 중 한 가지 방법인 seq2seq를 구현해보겠습니다. 그리고 어텐션 메커니즘(attention mechanism)을 적용해봅시다."
   ]
  },
  {
   "cell_type": "markdown",
   "metadata": {},
   "source": [
    "### 1. 텍스트 요약(Text Summarization)"
   ]
  },
  {
   "cell_type": "markdown",
   "metadata": {},
   "source": [
    "텍스트 요약은 크게 추출적 요약(extractive summarization)과 추상적 요약(abstractive summarization)으로 나뉩니다."
   ]
  },
  {
   "cell_type": "markdown",
   "metadata": {},
   "source": [
    "#### 1) 추출적 요약(extractive summarization)"
   ]
  },
  {
   "cell_type": "markdown",
   "metadata": {},
   "source": [
    "추출적 요약은 원문에서 중요한 핵심 문장 또는 단어구를 몇 개 뽑아서 이들로 구성된 요약문을 만드는 방법입니다. 그렇기 때문에 추출적 요약의 결과로 나온 요약문의 문장이나 단어구들은 전부 원문에 있는 문장들입니다. 추출적 요약의 대표적인 알고리즘으로 머신 러닝 알고리즘인 텍스트랭크(TextRank)가 있는데, 아래의 링크에서 텍스트랭크로 구현된 세 줄 요약기를 시험해볼 수 있습니다.\n",
    "\n",
    "링크 : https://summariz3.herokuapp.com/\n",
    "\n",
    "위 링크로 이동하여 인터넷 뉴스나 가지고 있는 글을을 복사 + 붙여넣기하여 결과를 살펴보세요. 세 개의 문장은 전부 원문에 존재하던 문장들입니다. 이 방법의 단점이라면, 이미 존재하는 문장이나 단어구로만 구성하므로 모델의 언어 표현 능력이 제한된다는 점입니다.\n",
    "\n",
    "그렇다면 마치 사람처럼 원문에 없던 단어나 문장을 사용하면서 핵심만 간추려서 표현하는 요약 방법은 없을까요?"
   ]
  },
  {
   "cell_type": "markdown",
   "metadata": {},
   "source": [
    "#### 2) 추상적 요약(abstractive summarization)"
   ]
  },
  {
   "cell_type": "markdown",
   "metadata": {},
   "source": [
    "추상적 요약은 원문에 없던 문장이라도 핵심 문맥을 반영한 새로운 문장을 생성해서 원문을 요약하는 방법입니다. 마치 사람이 요약하는 것 같은 방식인데, 당연히 추출적 요약보다는 난이도가 높습니다. 이 방법은 주로 인공 신경망을 사용하며 대표적인 모델로 seq2seq가 있습니다. 이 방법의 단점이라면 seq2seq와 같은 인공 신경망들은 기본적으로 지도 학습이라는 점입니다. 다시 말해 추상적 요약을 인공 신경망으로 훈련하기 위해서는 '원문' 뿐만 아니라 '실제 요약문'이라는 레이블 데이터가 있어야 합니다. 그렇기 때문에 데이터를 구성하는 것 자체가 하나의 부담입니다. 이번 챕터에서는 이미 공개된 데이터를 사용해서 추상적 요약을 실습해보겠습니다."
   ]
  },
  {
   "cell_type": "markdown",
   "metadata": {},
   "source": [
    "### 2. 아마존 리뷰 데이터에 대한 이해"
   ]
  },
  {
   "cell_type": "markdown",
   "metadata": {
    "id": "-idJO33I4ZDC"
   },
   "source": [
    "이번 실습에서 사용할 데이터는 아마존 리뷰 데이터입니다. 아래의 링크에서 데이터를 다운로드 가능합니다.  \n",
    "\n",
    "링크 : https://www.kaggle.com/snap/amazon-fine-food-reviews"
   ]
  },
  {
   "cell_type": "code",
   "execution_count": 1,
   "metadata": {
    "colab": {
     "base_uri": "https://localhost:8080/",
     "height": 35
    },
    "id": "Mp7UgkQoNtQi",
    "outputId": "cecf5aa1-f974-4681-829f-473e23caa865"
   },
   "outputs": [
    {
     "data": {
      "text/plain": [
       "'2.8.0'"
      ]
     },
     "execution_count": 1,
     "metadata": {},
     "output_type": "execute_result"
    }
   ],
   "source": [
    "import tensorflow as tf\n",
    "tf.__version__"
   ]
  },
  {
   "cell_type": "code",
   "execution_count": 2,
   "metadata": {
    "id": "whDZW33qPm3Z"
   },
   "outputs": [],
   "source": [
    "import nltk"
   ]
  },
  {
   "cell_type": "code",
   "execution_count": 3,
   "metadata": {
    "id": "T9nRioi9jQuy"
   },
   "outputs": [],
   "source": [
    "import numpy as np\n",
    "import pandas as pd\n",
    "import re\n",
    "import matplotlib.pyplot as plt\n",
    "from nltk.corpus import stopwords\n",
    "from bs4 import BeautifulSoup \n",
    "from tensorflow.keras.preprocessing.text import Tokenizer \n",
    "from tensorflow.keras.preprocessing.sequence import pad_sequences\n",
    "import warnings\n",
    "warnings.filterwarnings('ignore')"
   ]
  },
  {
   "cell_type": "code",
   "execution_count": 4,
   "metadata": {
    "colab": {
     "base_uri": "https://localhost:8080/"
    },
    "id": "mJPs2ISRkGss",
    "outputId": "b4c7be8d-c74d-42a4-8138-a5583c66a9d7"
   },
   "outputs": [
    {
     "name": "stderr",
     "output_type": "stream",
     "text": [
      "[nltk_data] Downloading package stopwords to\n",
      "[nltk_data]     C:\\Users\\jikim\\AppData\\Roaming\\nltk_data...\n",
      "[nltk_data]   Package stopwords is already up-to-date!\n"
     ]
    },
    {
     "data": {
      "text/plain": [
       "True"
      ]
     },
     "execution_count": 4,
     "metadata": {},
     "output_type": "execute_result"
    }
   ],
   "source": [
    "nltk.download('stopwords')"
   ]
  },
  {
   "cell_type": "markdown",
   "metadata": {},
   "source": [
    "#### 1) 데이터 로드하기"
   ]
  },
  {
   "cell_type": "markdown",
   "metadata": {},
   "source": [
    "Reviews.csv 파일을 불러와 데이터프레임에 저장하겠습니다. 이 데이터는 실제로는 약 56만개의 샘플을 가지고 있습니다. 하지만 여기서는 간단히 10만개의 샘플만 사용하겠습니다. 이는 pd.read_csv의 nrows의 인자로 10만이라는 숫자를 적어주면 됩니다."
   ]
  },
  {
   "cell_type": "code",
   "execution_count": 5,
   "metadata": {
    "id": "28r4PtVojOjM"
   },
   "outputs": [],
   "source": [
    "data = pd.read_csv(\"Reviews.csv\", nrows=100000)"
   ]
  },
  {
   "cell_type": "markdown",
   "metadata": {},
   "source": [
    "전체 리뷰 개수가 10만개인 것을 확인했습니다. 5개의 샘플만 출력해봅시다."
   ]
  },
  {
   "cell_type": "code",
   "execution_count": 6,
   "metadata": {
    "colab": {
     "base_uri": "https://localhost:8080/",
     "height": 204
    },
    "id": "SvJCr0tVjSYy",
    "outputId": "89bd6d5a-3060-40c7-dae1-d1cd0dc64046"
   },
   "outputs": [
    {
     "data": {
      "text/html": [
       "<div>\n",
       "<style scoped>\n",
       "    .dataframe tbody tr th:only-of-type {\n",
       "        vertical-align: middle;\n",
       "    }\n",
       "\n",
       "    .dataframe tbody tr th {\n",
       "        vertical-align: top;\n",
       "    }\n",
       "\n",
       "    .dataframe thead th {\n",
       "        text-align: right;\n",
       "    }\n",
       "</style>\n",
       "<table border=\"1\" class=\"dataframe\">\n",
       "  <thead>\n",
       "    <tr style=\"text-align: right;\">\n",
       "      <th></th>\n",
       "      <th>Id</th>\n",
       "      <th>ProductId</th>\n",
       "      <th>UserId</th>\n",
       "      <th>ProfileName</th>\n",
       "      <th>HelpfulnessNumerator</th>\n",
       "      <th>HelpfulnessDenominator</th>\n",
       "      <th>Score</th>\n",
       "      <th>Time</th>\n",
       "      <th>Summary</th>\n",
       "      <th>Text</th>\n",
       "    </tr>\n",
       "  </thead>\n",
       "  <tbody>\n",
       "    <tr>\n",
       "      <th>0</th>\n",
       "      <td>1</td>\n",
       "      <td>B001E4KFG0</td>\n",
       "      <td>A3SGXH7AUHU8GW</td>\n",
       "      <td>delmartian</td>\n",
       "      <td>1</td>\n",
       "      <td>1</td>\n",
       "      <td>5</td>\n",
       "      <td>1303862400</td>\n",
       "      <td>Good Quality Dog Food</td>\n",
       "      <td>I have bought several of the Vitality canned d...</td>\n",
       "    </tr>\n",
       "    <tr>\n",
       "      <th>1</th>\n",
       "      <td>2</td>\n",
       "      <td>B00813GRG4</td>\n",
       "      <td>A1D87F6ZCVE5NK</td>\n",
       "      <td>dll pa</td>\n",
       "      <td>0</td>\n",
       "      <td>0</td>\n",
       "      <td>1</td>\n",
       "      <td>1346976000</td>\n",
       "      <td>Not as Advertised</td>\n",
       "      <td>Product arrived labeled as Jumbo Salted Peanut...</td>\n",
       "    </tr>\n",
       "    <tr>\n",
       "      <th>2</th>\n",
       "      <td>3</td>\n",
       "      <td>B000LQOCH0</td>\n",
       "      <td>ABXLMWJIXXAIN</td>\n",
       "      <td>Natalia Corres \"Natalia Corres\"</td>\n",
       "      <td>1</td>\n",
       "      <td>1</td>\n",
       "      <td>4</td>\n",
       "      <td>1219017600</td>\n",
       "      <td>\"Delight\" says it all</td>\n",
       "      <td>This is a confection that has been around a fe...</td>\n",
       "    </tr>\n",
       "    <tr>\n",
       "      <th>3</th>\n",
       "      <td>4</td>\n",
       "      <td>B000UA0QIQ</td>\n",
       "      <td>A395BORC6FGVXV</td>\n",
       "      <td>Karl</td>\n",
       "      <td>3</td>\n",
       "      <td>3</td>\n",
       "      <td>2</td>\n",
       "      <td>1307923200</td>\n",
       "      <td>Cough Medicine</td>\n",
       "      <td>If you are looking for the secret ingredient i...</td>\n",
       "    </tr>\n",
       "    <tr>\n",
       "      <th>4</th>\n",
       "      <td>5</td>\n",
       "      <td>B006K2ZZ7K</td>\n",
       "      <td>A1UQRSCLF8GW1T</td>\n",
       "      <td>Michael D. Bigham \"M. Wassir\"</td>\n",
       "      <td>0</td>\n",
       "      <td>0</td>\n",
       "      <td>5</td>\n",
       "      <td>1350777600</td>\n",
       "      <td>Great taffy</td>\n",
       "      <td>Great taffy at a great price.  There was a wid...</td>\n",
       "    </tr>\n",
       "  </tbody>\n",
       "</table>\n",
       "</div>"
      ],
      "text/plain": [
       "   Id   ProductId          UserId                      ProfileName  \\\n",
       "0   1  B001E4KFG0  A3SGXH7AUHU8GW                       delmartian   \n",
       "1   2  B00813GRG4  A1D87F6ZCVE5NK                           dll pa   \n",
       "2   3  B000LQOCH0   ABXLMWJIXXAIN  Natalia Corres \"Natalia Corres\"   \n",
       "3   4  B000UA0QIQ  A395BORC6FGVXV                             Karl   \n",
       "4   5  B006K2ZZ7K  A1UQRSCLF8GW1T    Michael D. Bigham \"M. Wassir\"   \n",
       "\n",
       "   HelpfulnessNumerator  HelpfulnessDenominator  Score        Time  \\\n",
       "0                     1                       1      5  1303862400   \n",
       "1                     0                       0      1  1346976000   \n",
       "2                     1                       1      4  1219017600   \n",
       "3                     3                       3      2  1307923200   \n",
       "4                     0                       0      5  1350777600   \n",
       "\n",
       "                 Summary                                               Text  \n",
       "0  Good Quality Dog Food  I have bought several of the Vitality canned d...  \n",
       "1      Not as Advertised  Product arrived labeled as Jumbo Salted Peanut...  \n",
       "2  \"Delight\" says it all  This is a confection that has been around a fe...  \n",
       "3         Cough Medicine  If you are looking for the secret ingredient i...  \n",
       "4            Great taffy  Great taffy at a great price.  There was a wid...  "
      ]
     },
     "execution_count": 6,
     "metadata": {},
     "output_type": "execute_result"
    }
   ],
   "source": [
    "data.head()"
   ]
  },
  {
   "cell_type": "markdown",
   "metadata": {},
   "source": [
    "5개의 샘플을 출력해보면 'Id', 'ProductId', 'UserId', 'ProfileName', 'HelpfulnessNumerator', 'HelpfulnessDenominator', 'Score', 'Time', 'Summary', 'Text'이라는 10개의 열이 존재함을 알 수 있습니다. 그런데 사실 이 중 필요한 열은 'Text'열과 'Summary'열 뿐입니다.\n",
    "\n",
    "Text열과 Summary열만을 분리하고, 다른 열들은 데이터에서 제외시켜서 재저장합니다. 그리고 5개의 샘플을 출력합니다."
   ]
  },
  {
   "cell_type": "code",
   "execution_count": 7,
   "metadata": {
    "colab": {
     "base_uri": "https://localhost:8080/",
     "height": 204
    },
    "id": "UkghjLsFkKVT",
    "outputId": "fa516bac-385c-4dbb-b631-c0ac5f79ee55",
    "scrolled": false
   },
   "outputs": [
    {
     "data": {
      "text/html": [
       "<div>\n",
       "<style scoped>\n",
       "    .dataframe tbody tr th:only-of-type {\n",
       "        vertical-align: middle;\n",
       "    }\n",
       "\n",
       "    .dataframe tbody tr th {\n",
       "        vertical-align: top;\n",
       "    }\n",
       "\n",
       "    .dataframe thead th {\n",
       "        text-align: right;\n",
       "    }\n",
       "</style>\n",
       "<table border=\"1\" class=\"dataframe\">\n",
       "  <thead>\n",
       "    <tr style=\"text-align: right;\">\n",
       "      <th></th>\n",
       "      <th>Text</th>\n",
       "      <th>Summary</th>\n",
       "    </tr>\n",
       "  </thead>\n",
       "  <tbody>\n",
       "    <tr>\n",
       "      <th>0</th>\n",
       "      <td>I have bought several of the Vitality canned d...</td>\n",
       "      <td>Good Quality Dog Food</td>\n",
       "    </tr>\n",
       "    <tr>\n",
       "      <th>1</th>\n",
       "      <td>Product arrived labeled as Jumbo Salted Peanut...</td>\n",
       "      <td>Not as Advertised</td>\n",
       "    </tr>\n",
       "    <tr>\n",
       "      <th>2</th>\n",
       "      <td>This is a confection that has been around a fe...</td>\n",
       "      <td>\"Delight\" says it all</td>\n",
       "    </tr>\n",
       "    <tr>\n",
       "      <th>3</th>\n",
       "      <td>If you are looking for the secret ingredient i...</td>\n",
       "      <td>Cough Medicine</td>\n",
       "    </tr>\n",
       "    <tr>\n",
       "      <th>4</th>\n",
       "      <td>Great taffy at a great price.  There was a wid...</td>\n",
       "      <td>Great taffy</td>\n",
       "    </tr>\n",
       "  </tbody>\n",
       "</table>\n",
       "</div>"
      ],
      "text/plain": [
       "                                                Text                Summary\n",
       "0  I have bought several of the Vitality canned d...  Good Quality Dog Food\n",
       "1  Product arrived labeled as Jumbo Salted Peanut...      Not as Advertised\n",
       "2  This is a confection that has been around a fe...  \"Delight\" says it all\n",
       "3  If you are looking for the secret ingredient i...         Cough Medicine\n",
       "4  Great taffy at a great price.  There was a wid...            Great taffy"
      ]
     },
     "execution_count": 7,
     "metadata": {},
     "output_type": "execute_result"
    }
   ],
   "source": [
    "data = data[['Text','Summary']]\n",
    "data.head()"
   ]
  },
  {
   "cell_type": "markdown",
   "metadata": {},
   "source": [
    "Text열과 Summary열만 저장된 것을 확인할 수 있습니다. Text열이 원문이고, Summary열이 Text열에 대한 요약입니다. 다시 말해 모델은 Text(원문)으로부터 Summary(요약)을 예측하도록 훈련됩니다. 랜덤으로 샘플 몇 가지를 더 출력해봅시다."
   ]
  },
  {
   "cell_type": "code",
   "execution_count": 20,
   "metadata": {
    "scrolled": true
   },
   "outputs": [
    {
     "data": {
      "text/html": [
       "<div>\n",
       "<style scoped>\n",
       "    .dataframe tbody tr th:only-of-type {\n",
       "        vertical-align: middle;\n",
       "    }\n",
       "\n",
       "    .dataframe tbody tr th {\n",
       "        vertical-align: top;\n",
       "    }\n",
       "\n",
       "    .dataframe thead th {\n",
       "        text-align: right;\n",
       "    }\n",
       "</style>\n",
       "<table border=\"1\" class=\"dataframe\">\n",
       "  <thead>\n",
       "    <tr style=\"text-align: right;\">\n",
       "      <th></th>\n",
       "      <th>Text</th>\n",
       "      <th>Summary</th>\n",
       "    </tr>\n",
       "  </thead>\n",
       "  <tbody>\n",
       "    <tr>\n",
       "      <th>8784</th>\n",
       "      <td>I bought duck rillettes from Amazon because my...</td>\n",
       "      <td>Duck Rillettes - not much flavor</td>\n",
       "    </tr>\n",
       "    <tr>\n",
       "      <th>21777</th>\n",
       "      <td>This toy has been a favorite of my 2 Year old ...</td>\n",
       "      <td>Great Toy But Not Durable Enough</td>\n",
       "    </tr>\n",
       "    <tr>\n",
       "      <th>60189</th>\n",
       "      <td>This peppermint mocha by Tassimo is excellent....</td>\n",
       "      <td>Soooo Yummy!</td>\n",
       "    </tr>\n",
       "    <tr>\n",
       "      <th>42853</th>\n",
       "      <td>I don't usually like anything other than milk ...</td>\n",
       "      <td>Heart Healthier and Tasty Too!</td>\n",
       "    </tr>\n",
       "    <tr>\n",
       "      <th>5656</th>\n",
       "      <td>I love these light, airy crackers. Three of th...</td>\n",
       "      <td>Wasa crackers-great low calorie option</td>\n",
       "    </tr>\n",
       "    <tr>\n",
       "      <th>88299</th>\n",
       "      <td>I had high hopes for this coffee.  I was quite...</td>\n",
       "      <td>Never again</td>\n",
       "    </tr>\n",
       "    <tr>\n",
       "      <th>74583</th>\n",
       "      <td>Basically just what almonds are supposed to be...</td>\n",
       "      <td>What almonds are</td>\n",
       "    </tr>\n",
       "    <tr>\n",
       "      <th>7246</th>\n",
       "      <td>Unfortunately I am completely disappointed wit...</td>\n",
       "      <td>Almost no detectable flavor</td>\n",
       "    </tr>\n",
       "    <tr>\n",
       "      <th>32554</th>\n",
       "      <td>this product gives those of us who do not eat ...</td>\n",
       "      <td>Sugar Free in A Sugard Saturated World</td>\n",
       "    </tr>\n",
       "    <tr>\n",
       "      <th>79758</th>\n",
       "      <td>I bought a case of this as part of my canned s...</td>\n",
       "      <td>Survival food?</td>\n",
       "    </tr>\n",
       "  </tbody>\n",
       "</table>\n",
       "</div>"
      ],
      "text/plain": [
       "                                                    Text  \\\n",
       "8784   I bought duck rillettes from Amazon because my...   \n",
       "21777  This toy has been a favorite of my 2 Year old ...   \n",
       "60189  This peppermint mocha by Tassimo is excellent....   \n",
       "42853  I don't usually like anything other than milk ...   \n",
       "5656   I love these light, airy crackers. Three of th...   \n",
       "88299  I had high hopes for this coffee.  I was quite...   \n",
       "74583  Basically just what almonds are supposed to be...   \n",
       "7246   Unfortunately I am completely disappointed wit...   \n",
       "32554  this product gives those of us who do not eat ...   \n",
       "79758  I bought a case of this as part of my canned s...   \n",
       "\n",
       "                                      Summary  \n",
       "8784         Duck Rillettes - not much flavor  \n",
       "21777        Great Toy But Not Durable Enough  \n",
       "60189                            Soooo Yummy!  \n",
       "42853          Heart Healthier and Tasty Too!  \n",
       "5656   Wasa crackers-great low calorie option  \n",
       "88299                             Never again  \n",
       "74583                        What almonds are  \n",
       "7246              Almost no detectable flavor  \n",
       "32554  Sugar Free in A Sugard Saturated World  \n",
       "79758                          Survival food?  "
      ]
     },
     "execution_count": 20,
     "metadata": {},
     "output_type": "execute_result"
    }
   ],
   "source": [
    "# 랜덤으로 10개의 샘플 출력\n",
    "data.sample(10)"
   ]
  },
  {
   "cell_type": "markdown",
   "metadata": {},
   "source": [
    "여기서는 data.sample(10)를 한 번만 실행했지만 지속적으로 몇 차례 더 실행하면서 샘플의 구조를 확인해보세요. 원문은 꽤 긴 반면에, Summary에는 3~4개의 단어만으로 구성된 경우도 많아보입니다."
   ]
  },
  {
   "cell_type": "markdown",
   "metadata": {},
   "source": [
    "#### 2) 데이터 정제하기"
   ]
  },
  {
   "cell_type": "markdown",
   "metadata": {},
   "source": [
    "데이터에 중복 샘플이 있는지 확인해보겠습니다."
   ]
  },
  {
   "cell_type": "code",
   "execution_count": 21,
   "metadata": {
    "colab": {
     "base_uri": "https://localhost:8080/"
    },
    "id": "SGlsNdW6kMV6",
    "outputId": "47157ffb-633c-4630-eeed-30cf5ba73338",
    "scrolled": true
   },
   "outputs": [
    {
     "name": "stdout",
     "output_type": "stream",
     "text": [
      "Text 열에서 중복을 배제한 유일한 샘플의 수 : 88426\n",
      "Summary 열에서 중복을 배제한 유일한 샘플의 수 : 72348\n"
     ]
    }
   ],
   "source": [
    "print('Text 열에서 중복을 배제한 유일한 샘플의 수 :', data['Text'].nunique())\n",
    "print('Summary 열에서 중복을 배제한 유일한 샘플의 수 :', data['Summary'].nunique())"
   ]
  },
  {
   "cell_type": "markdown",
   "metadata": {},
   "source": [
    "전체 데이터는 10만개의 샘플이 존재하지만, 실제로는 꽤 많은 원문이 중복되어 중복을 배제한 유일한 원문의 개수는 88,426개입니다. 중복 샘플이 무려 약 12,000개나 있다는 의미지요. Summary는 중복이 더 많지만, 원문은 다르더라도 짧은 문장인 요약은 내용이 겹칠 수 있음을 가정하고 일단 두겠습니다. Summary의 길이 분포는 뒤에서 확인하겠습니다."
   ]
  },
  {
   "cell_type": "code",
   "execution_count": 22,
   "metadata": {
    "colab": {
     "base_uri": "https://localhost:8080/"
    },
    "id": "-6Pys1sXkOhr",
    "outputId": "8779915a-6d79-4316-ff6f-f34c727804ad"
   },
   "outputs": [
    {
     "name": "stdout",
     "output_type": "stream",
     "text": [
      "전체 샘플수 : 88426\n"
     ]
    }
   ],
   "source": [
    "# text 열에서 중복인 내용이 있다면 중복 제거\n",
    "data.drop_duplicates(subset=['Text'], inplace=True)\n",
    "print(\"전체 샘플수 :\", len(data))"
   ]
  },
  {
   "cell_type": "markdown",
   "metadata": {},
   "source": [
    "중복을 제거하여 88,426개의 샘플만 존재합니다. 이제 Null 샘플이 존재하는지 확인해봅시다."
   ]
  },
  {
   "cell_type": "code",
   "execution_count": 23,
   "metadata": {
    "colab": {
     "base_uri": "https://localhost:8080/"
    },
    "id": "hl7ltAhmkQFT",
    "outputId": "dfc45e9d-bbab-4b03-8916-e1acb5487a5f",
    "scrolled": true
   },
   "outputs": [
    {
     "name": "stdout",
     "output_type": "stream",
     "text": [
      "Text       0\n",
      "Summary    1\n",
      "dtype: int64\n"
     ]
    }
   ],
   "source": [
    "print(data.isnull().sum())"
   ]
  },
  {
   "cell_type": "markdown",
   "metadata": {},
   "source": [
    "Summary에서 1개의 Null 샘플이 남아있습니다. 이를 제거해줍니다."
   ]
  },
  {
   "cell_type": "code",
   "execution_count": 24,
   "metadata": {
    "colab": {
     "base_uri": "https://localhost:8080/"
    },
    "id": "gVjap5jQkSQA",
    "outputId": "3248f944-4c7e-49c5-faf0-7d2ca9b1c94b"
   },
   "outputs": [
    {
     "name": "stdout",
     "output_type": "stream",
     "text": [
      "전체 샘플수 : 88425\n"
     ]
    }
   ],
   "source": [
    "# Null 값을 가진 샘플 제거\n",
    "data.dropna(axis=0, inplace=True)\n",
    "print('전체 샘플수 :',(len(data)))"
   ]
  },
  {
   "cell_type": "markdown",
   "metadata": {},
   "source": [
    "이제 남은 샘플 수는 88,425개입니다. 지금까지는 불필요한 샘플의 수를 줄이기 위한 정제 과정이었습니다. 이제 샘플 내부를 전처리해야 합니다. 단어 정규화와 불용어 제거를 위해 각각의 참고 자료가 필요합니다. 동일한 의미를 가졌지만 스펠링이 다른 단어들을 정규화하기 위한 사전을 만듭니다. 이 사전은 아래의 링크를 참고하여 만들어진 사전입니다.\n",
    "\n",
    "링크 : https://stackoverflow.com/questions/19790188/expanding-english-language-contractions-in-python"
   ]
  },
  {
   "cell_type": "code",
   "execution_count": 25,
   "metadata": {
    "id": "UMA3UNmIkUi6"
   },
   "outputs": [],
   "source": [
    "# 전처리 함수 내 사용\n",
    "contractions = {\"ain't\": \"is not\", \"aren't\": \"are not\",\"can't\": \"cannot\", \"'cause\": \"because\", \"could've\": \"could have\", \"couldn't\": \"could not\", \"didn't\": \"did not\",  \"doesn't\": \"does not\", \"don't\": \"do not\", \"hadn't\": \"had not\", \"hasn't\": \"has not\", \"haven't\": \"have not\", \"he'd\": \"he would\",\"he'll\": \"he will\", \"he's\": \"he is\", \"how'd\": \"how did\", \"how'd'y\": \"how do you\", \"how'll\": \"how will\", \"how's\": \"how is\", \"I'd\": \"I would\", \"I'd've\": \"I would have\", \"I'll\": \"I will\", \"I'll've\": \"I will have\",\"I'm\": \"I am\", \"I've\": \"I have\", \"i'd\": \"i would\", \"i'd've\": \"i would have\", \"i'll\": \"i will\",  \"i'll've\": \"i will have\",\"i'm\": \"i am\", \"i've\": \"i have\", \"isn't\": \"is not\", \"it'd\": \"it would\", \"it'd've\": \"it would have\", \"it'll\": \"it will\", \"it'll've\": \"it will have\",\"it's\": \"it is\", \"let's\": \"let us\", \"ma'am\": \"madam\", \"mayn't\": \"may not\", \"might've\": \"might have\",\"mightn't\": \"might not\",\"mightn't've\": \"might not have\", \"must've\": \"must have\", \"mustn't\": \"must not\", \"mustn't've\": \"must not have\", \"needn't\": \"need not\", \"needn't've\": \"need not have\",\"o'clock\": \"of the clock\", \"oughtn't\": \"ought not\", \"oughtn't've\": \"ought not have\", \"shan't\": \"shall not\", \"sha'n't\": \"shall not\", \"shan't've\": \"shall not have\", \"she'd\": \"she would\", \"she'd've\": \"she would have\", \"she'll\": \"she will\", \"she'll've\": \"she will have\", \"she's\": \"she is\", \"should've\": \"should have\", \"shouldn't\": \"should not\", \"shouldn't've\": \"should not have\", \"so've\": \"so have\",\"so's\": \"so as\", \"this's\": \"this is\",\"that'd\": \"that would\", \"that'd've\": \"that would have\", \"that's\": \"that is\", \"there'd\": \"there would\", \"there'd've\": \"there would have\", \"there's\": \"there is\", \"here's\": \"here is\",\"they'd\": \"they would\", \"they'd've\": \"they would have\", \"they'll\": \"they will\", \"they'll've\": \"they will have\", \"they're\": \"they are\", \"they've\": \"they have\", \"to've\": \"to have\", \"wasn't\": \"was not\", \"we'd\": \"we would\", \"we'd've\": \"we would have\", \"we'll\": \"we will\", \"we'll've\": \"we will have\", \"we're\": \"we are\", \"we've\": \"we have\", \"weren't\": \"were not\", \"what'll\": \"what will\", \"what'll've\": \"what will have\", \"what're\": \"what are\", \"what's\": \"what is\", \"what've\": \"what have\", \"when's\": \"when is\", \"when've\": \"when have\", \"where'd\": \"where did\", \"where's\": \"where is\", \"where've\": \"where have\", \"who'll\": \"who will\", \"who'll've\": \"who will have\", \"who's\": \"who is\", \"who've\": \"who have\", \"why's\": \"why is\", \"why've\": \"why have\", \"will've\": \"will have\", \"won't\": \"will not\", \"won't've\": \"will not have\", \"would've\": \"would have\", \"wouldn't\": \"would not\", \"wouldn't've\": \"would not have\", \"y'all\": \"you all\", \"y'all'd\": \"you all would\",\"y'all'd've\": \"you all would have\",\"y'all're\": \"you all are\",\"y'all've\": \"you all have\", \"you'd\": \"you would\", \"you'd've\": \"you would have\", \"you'll\": \"you will\", \"you'll've\": \"you will have\", \"you're\": \"you are\", \"you've\": \"you have\"}"
   ]
  },
  {
   "cell_type": "markdown",
   "metadata": {},
   "source": [
    "NLTK의 불용어를 저장하고 개수를 확인해봅시다."
   ]
  },
  {
   "cell_type": "code",
   "execution_count": 26,
   "metadata": {
    "colab": {
     "base_uri": "https://localhost:8080/"
    },
    "id": "t2Sfzo06kWqM",
    "outputId": "0565489b-8ed0-403b-9fc8-030314d8a235",
    "scrolled": true
   },
   "outputs": [
    {
     "name": "stdout",
     "output_type": "stream",
     "text": [
      "불용어 개수 : 179\n",
      "{'whom', 'theirs', \"don't\", 'shouldn', 'those', 'mustn', 'we', 'all', \"couldn't\", 'which', 'have', 'too', 'very', 'both', 'hadn', 'more', 'd', 'nor', 'under', \"weren't\", 'shan', 'such', 'aren', \"didn't\", 'am', 'isn', 'up', 'do', 'other', 'here', 'again', 'hasn', 'of', 'before', 'if', 'her', 'does', 'who', \"you've\", 'she', 'won', 'after', 'why', \"shan't\", 'this', 'they', 'the', 'me', 'ours', 'during', 'his', \"wasn't\", 'no', 'below', 'needn', 'only', 'until', 'wasn', \"that'll\", 'my', 'to', 'themselves', 'own', 'doing', 'but', 've', 'about', 'will', \"should've\", \"haven't\", 'what', 'him', 'because', \"you'll\", \"you're\", 'you', 'these', 'himself', 'its', 'off', 'yourself', 'that', 'from', 'has', \"mightn't\", 'our', 'now', 'is', 'should', 'a', 'out', 'each', \"you'd\", 'in', 'some', \"mustn't\", 'yours', 'further', 'i', 'an', 'them', 'been', 'o', 'did', 'your', 'into', \"aren't\", 'it', 'down', 'having', 're', 'or', 'most', 'against', \"hadn't\", 'then', 'at', 'be', 'y', 'he', 'were', 'while', 'once', 'few', 'couldn', 'ma', 'itself', 'don', 'doesn', 'll', \"hasn't\", 'can', 'being', 'as', 'where', 'same', 'mightn', 'yourselves', \"she's\", 'herself', 'how', 'there', \"shouldn't\", 'their', \"doesn't\", 'was', 'hers', 'than', 'and', 'between', 's', 'not', 'wouldn', 'haven', \"wouldn't\", 'above', 'over', 'ourselves', 'on', 't', \"needn't\", 'weren', 'just', 'are', 'myself', 'so', 'when', 'ain', \"it's\", 'with', 'm', \"isn't\", 'by', 'for', 'through', 'any', 'had', \"won't\", 'didn'}\n"
     ]
    }
   ],
   "source": [
    "# NLTK의 불용어\n",
    "stop_words = set(stopwords.words('english'))\n",
    "print('불용어 개수 :', len(stop_words))\n",
    "print(stop_words)"
   ]
  },
  {
   "cell_type": "markdown",
   "metadata": {},
   "source": [
    "전처리 함수를 설계합니다."
   ]
  },
  {
   "cell_type": "code",
   "execution_count": 27,
   "metadata": {
    "id": "KF52m563ke5K"
   },
   "outputs": [],
   "source": [
    "# 전처리 함수\n",
    "def preprocess_sentence(sentence, remove_stopwords = True):\n",
    "    sentence = sentence.lower() # 텍스트 소문자화\n",
    "    sentence = BeautifulSoup(sentence, \"lxml\").text # <br />, <a href = ...> 등의 html 태그 제거\n",
    "    sentence = re.sub(r'\\([^)]*\\)', '', sentence) # 괄호로 닫힌 문자열  제거 Ex) my husband (and myself) for => my husband for\n",
    "    sentence = re.sub('\"','', sentence) # 쌍따옴표 \" 제거\n",
    "    sentence = ' '.join([contractions[t] if t in contractions else t for t in sentence.split(\" \")]) # 약어 정규화\n",
    "    sentence = re.sub(r\"'s\\b\",\"\",sentence) # 소유격 제거. Ex) roland's -> roland\n",
    "    sentence = re.sub(\"[^a-zA-Z]\", \" \", sentence) # 영어 외 문자(숫자, 특수문자 등) 공백으로 변환\n",
    "    sentence = re.sub('[m]{2,}', 'mm', sentence) # m이 3개 이상이면 2개로 변경. Ex) ummmmmmm yeah -> umm yeah\n",
    "\n",
    "    # 불용어 제거 (Text)\n",
    "    if remove_stopwords:\n",
    "        tokens = ' '.join(word for word in sentence.split() if not word in stop_words if len(word) > 1)\n",
    "    # 불용어 미제거 (Summary)\n",
    "    else:\n",
    "        tokens = ' '.join(word for word in sentence.split() if len(word) > 1)\n",
    "    return tokens"
   ]
  },
  {
   "cell_type": "markdown",
   "metadata": {},
   "source": [
    "함수 내부의 각 줄에 주석을 달았으므로 자세한 설명은 생략하겠습니다. 여기서는 Text 열에서는 불용어를 제거하고, Summary 열에서는 불용어를 제거하지 않기로 결정했습니다. Summary를 입력으로 할 때는 두번째 인자를 0으로 줘서 불용어를 제거하지 않는 버전을 실행하겠습니다. 임의의 Text 문장과 Summary 문장을 만들어 전처리 함수를 통한 전처리 후의 결과를 확인해보겠습니다."
   ]
  },
  {
   "cell_type": "code",
   "execution_count": 28,
   "metadata": {
    "colab": {
     "base_uri": "https://localhost:8080/"
    },
    "id": "OX0rUTFIkhHB",
    "outputId": "02974a5d-4c2f-43ee-e7e2-f29114c76123"
   },
   "outputs": [
    {
     "name": "stdout",
     "output_type": "stream",
     "text": [
      "everything bought great infact ordered twice third ordered wasfor mother father\n",
      "great way to start the day\n"
     ]
    }
   ],
   "source": [
    "temp_text = 'Everything I bought was great, infact I ordered twice and the third ordered was<br />for my mother and father.'\n",
    "temp_summary = 'Great way to start (or finish) the day!!!'\n",
    "print(preprocess_sentence(temp_text))\n",
    "print(preprocess_sentence(temp_summary, 0))"
   ]
  },
  {
   "cell_type": "markdown",
   "metadata": {},
   "source": [
    "우선 Text 열에 대해서 전처리를 수행하겠습니다. 전처리 후에는 5개의 전처리 된 샘플을 출력합니다."
   ]
  },
  {
   "cell_type": "code",
   "execution_count": 29,
   "metadata": {
    "colab": {
     "base_uri": "https://localhost:8080/"
    },
    "id": "JROWYq2ml9yE",
    "outputId": "4c98a5e2-0616-44d1-d9ff-8222638b0442"
   },
   "outputs": [
    {
     "data": {
      "text/plain": [
       "['bought several vitality canned dog food products found good quality product looks like stew processed meat smells better labrador finicky appreciates product better',\n",
       " 'product arrived labeled jumbo salted peanuts peanuts actually small sized unsalted sure error vendor intended represent product jumbo',\n",
       " 'confection around centuries light pillowy citrus gelatin nuts case filberts cut tiny squares liberally coated powdered sugar tiny mouthful heaven chewy flavorful highly recommend yummy treat familiar story lewis lion witch wardrobe treat seduces edmund selling brother sisters witch',\n",
       " 'looking secret ingredient robitussin believe found got addition root beer extract ordered made cherry soda flavor medicinal',\n",
       " 'great taffy great price wide assortment yummy taffy delivery quick taffy lover deal']"
      ]
     },
     "execution_count": 29,
     "metadata": {},
     "output_type": "execute_result"
    }
   ],
   "source": [
    "# Text 열 전처리\n",
    "clean_text = []\n",
    "for s in data['Text']:\n",
    "    clean_text.append(preprocess_sentence(s))\n",
    "clean_text[:5]"
   ]
  },
  {
   "cell_type": "markdown",
   "metadata": {},
   "source": [
    "이제 Summary 열에 대해서 전처리를 수행하겠습니다. 전처리 후에는 5개의 전처리 된 샘플을 출력합니다."
   ]
  },
  {
   "cell_type": "code",
   "execution_count": 30,
   "metadata": {
    "colab": {
     "base_uri": "https://localhost:8080/"
    },
    "id": "PwpoEHr6mAx-",
    "outputId": "a629a225-f98d-4877-b708-7876084b3a32"
   },
   "outputs": [
    {
     "data": {
      "text/plain": [
       "['good quality dog food',\n",
       " 'not as advertised',\n",
       " 'delight says it all',\n",
       " 'cough medicine',\n",
       " 'great taffy']"
      ]
     },
     "execution_count": 30,
     "metadata": {},
     "output_type": "execute_result"
    }
   ],
   "source": [
    "# Summary 열 전처리\n",
    "clean_summary = []\n",
    "for s in data['Summary']:\n",
    "    clean_summary.append(preprocess_sentence(s, 0))\n",
    "clean_summary[:5]"
   ]
  },
  {
   "cell_type": "markdown",
   "metadata": {},
   "source": [
    "전처리 후의 결과를 다시 데이터프레임에 저장합니다."
   ]
  },
  {
   "cell_type": "code",
   "execution_count": 31,
   "metadata": {
    "id": "2NzS4rrqmEMY"
   },
   "outputs": [],
   "source": [
    "data['Text'] = clean_text\n",
    "data['Summary'] = clean_summary"
   ]
  },
  {
   "cell_type": "markdown",
   "metadata": {},
   "source": [
    "혹시 전처리 과정에서 빈 값이 생겼다면 Null 값으로 변경한 후에 Null 값을 가진 샘플이 생겼는지 확인합니다."
   ]
  },
  {
   "cell_type": "code",
   "execution_count": 32,
   "metadata": {
    "colab": {
     "base_uri": "https://localhost:8080/"
    },
    "id": "LdvDyn0JmGVn",
    "outputId": "97081c63-77a6-4c07-f0c0-c62e002bb4a1"
   },
   "outputs": [
    {
     "name": "stdout",
     "output_type": "stream",
     "text": [
      "Text        0\n",
      "Summary    70\n",
      "dtype: int64\n"
     ]
    }
   ],
   "source": [
    "# 길이가 공백인 샘플은 NULL 값으로 변환\n",
    "data.replace('', np.nan, inplace=True)\n",
    "print(data.isnull().sum())"
   ]
  },
  {
   "cell_type": "markdown",
   "metadata": {},
   "source": [
    "Summary 열에서 70개의 샘플이 Null 값을 가집니다. 이 샘플들을 제거해주고, 전체 샘플수를 확인합니다."
   ]
  },
  {
   "cell_type": "code",
   "execution_count": 33,
   "metadata": {
    "colab": {
     "base_uri": "https://localhost:8080/"
    },
    "id": "pbMHyLUQmIg7",
    "outputId": "87a48689-5266-49b8-e297-c5223b815090"
   },
   "outputs": [
    {
     "name": "stdout",
     "output_type": "stream",
     "text": [
      "전체 샘플수 : 88355\n"
     ]
    }
   ],
   "source": [
    "data.dropna(axis = 0, inplace = True)\n",
    "print('전체 샘플수 :',(len(data)))"
   ]
  },
  {
   "cell_type": "markdown",
   "metadata": {},
   "source": [
    "이제 Text 열과 Summary 열에 대해서 길이 분포를 확인해보겠습니다."
   ]
  },
  {
   "cell_type": "code",
   "execution_count": 34,
   "metadata": {
    "colab": {
     "base_uri": "https://localhost:8080/",
     "height": 959
    },
    "id": "QgF0qr_4mN91",
    "outputId": "2c153065-36da-4e79-86d0-37bb3cb9d3f6"
   },
   "outputs": [
    {
     "name": "stdout",
     "output_type": "stream",
     "text": [
      "텍스트의 최소 길이 : 2\n",
      "텍스트의 최대 길이 : 1235\n",
      "텍스트의 평균 길이 : 38.792428272310566\n",
      "요약의 최소 길이 : 1\n",
      "요약의 최대 길이 : 28\n",
      "요약의 평균 길이 : 4.010729443721352\n"
     ]
    },
    {
     "data": {
      "image/png": "[encoded data removed]",
      "text/plain": [
       "<Figure size 432x288 with 2 Axes>"
      ]
     },
     "metadata": {
      "needs_background": "light"
     },
     "output_type": "display_data"
    },
    {
     "data": {
      "image/png": "[encoded data removed]",
      "text/plain": [
       "<Figure size 432x288 with 1 Axes>"
      ]
     },
     "metadata": {
      "needs_background": "light"
     },
     "output_type": "display_data"
    },
    {
     "data": {
      "image/png": "[encoded data removed]",
      "text/plain": [
       "<Figure size 432x288 with 1 Axes>"
      ]
     },
     "metadata": {
      "needs_background": "light"
     },
     "output_type": "display_data"
    }
   ],
   "source": [
    "# 길이 분포 출력\n",
    "text_len = [len(s.split()) for s in data['Text']]\n",
    "summary_len = [len(s.split()) for s in data['Summary']]\n",
    "\n",
    "print('텍스트의 최소 길이 : {}'.format(np.min(text_len)))\n",
    "print('텍스트의 최대 길이 : {}'.format(np.max(text_len)))\n",
    "print('텍스트의 평균 길이 : {}'.format(np.mean(text_len)))\n",
    "print('요약의 최소 길이 : {}'.format(np.min(summary_len)))\n",
    "print('요약의 최대 길이 : {}'.format(np.max(summary_len)))\n",
    "print('요약의 평균 길이 : {}'.format(np.mean(summary_len)))\n",
    "\n",
    "plt.subplot(1,2,1)\n",
    "plt.boxplot(summary_len)\n",
    "plt.title('Summary')\n",
    "plt.subplot(1,2,2)\n",
    "plt.boxplot(text_len)\n",
    "plt.title('Text')\n",
    "plt.tight_layout()\n",
    "plt.show()\n",
    "\n",
    "plt.title('Summary')\n",
    "plt.hist(summary_len, bins=40)\n",
    "plt.xlabel('length of samples')\n",
    "plt.ylabel('number of samples')\n",
    "plt.show()\n",
    "\n",
    "plt.title('Text')\n",
    "plt.hist(text_len, bins=40)\n",
    "plt.xlabel('length of samples')\n",
    "plt.ylabel('number of samples')\n",
    "plt.show()"
   ]
  },
  {
   "cell_type": "markdown",
   "metadata": {
    "id": "Ej-4h6W0jRYr"
   },
   "source": [
    "-------------------------------------"
   ]
  },
  {
   "cell_type": "markdown",
   "metadata": {},
   "source": [
    "원문 텍스트는 대체적으로 100이하의 길이를 가집니다. 또한, 평균 길이는 38입니다. 요약의 경우에는 대체적으로 15이하의 길이를 가지며 평균 길이는 4입니다. 여기서 패딩의 길이를 정하겠습니다. 평균 길이보다는 크게 잡아 각각 50과 8로 결정합니다."
   ]
  },
  {
   "cell_type": "code",
   "execution_count": 35,
   "metadata": {
    "id": "-1wehqFWmCjN"
   },
   "outputs": [],
   "source": [
    "text_max_len = 50\n",
    "summary_max_len = 8"
   ]
  },
  {
   "cell_type": "markdown",
   "metadata": {},
   "source": [
    "50과 8이라는 이 두 길이가 얼마나 많은 샘플들의 길이보다 큰지 확인해보겠습니다."
   ]
  },
  {
   "cell_type": "code",
   "execution_count": 36,
   "metadata": {
    "id": "hOVJx3iPmDbd"
   },
   "outputs": [],
   "source": [
    "def below_threshold_len(max_len, nested_list):\n",
    "  cnt = 0\n",
    "  for s in nested_list:\n",
    "    if(len(s.split()) <= max_len):\n",
    "        cnt = cnt + 1\n",
    "  print('전체 샘플 중 길이가 %s 이하인 샘플의 비율: %s'%(max_len, (cnt / len(nested_list))))"
   ]
  },
  {
   "cell_type": "markdown",
   "metadata": {},
   "source": [
    "우선 Text열에 대해서 확인해봅시다."
   ]
  },
  {
   "cell_type": "code",
   "execution_count": 37,
   "metadata": {
    "colab": {
     "base_uri": "https://localhost:8080/"
    },
    "id": "THjufeuBmFDN",
    "outputId": "dce294bd-3b76-4426-94bc-83242f1664fa"
   },
   "outputs": [
    {
     "name": "stdout",
     "output_type": "stream",
     "text": [
      "전체 샘플 중 길이가 50 이하인 샘플의 비율: 0.7745119121724859\n"
     ]
    }
   ],
   "source": [
    "below_threshold_len(text_max_len, data['Text'])"
   ]
  },
  {
   "cell_type": "markdown",
   "metadata": {},
   "source": [
    "Text 열은 길이가 50 이하인 비율이 77%입니다. 약 23%의 샘플이 길이 50보다 큽니다. Summary 열에 대해서 확인해봅시다."
   ]
  },
  {
   "cell_type": "code",
   "execution_count": 38,
   "metadata": {
    "colab": {
     "base_uri": "https://localhost:8080/"
    },
    "id": "rzRYJzXdmGA9",
    "outputId": "1a7b1c19-3130-4c90-abab-6e43863124d6"
   },
   "outputs": [
    {
     "name": "stdout",
     "output_type": "stream",
     "text": [
      "전체 샘플 중 길이가 8 이하인 샘플의 비율: 0.9424593967517402\n"
     ]
    }
   ],
   "source": [
    "below_threshold_len(summary_max_len, data['Summary'])"
   ]
  },
  {
   "cell_type": "markdown",
   "metadata": {},
   "source": [
    "Summary 열은 길이가 8 이하인 경우가 94%입니다. 여기서는 정해준 최대 길이보다 큰 샘플들은 제거하겠습니다."
   ]
  },
  {
   "cell_type": "code",
   "execution_count": 39,
   "metadata": {
    "colab": {
     "base_uri": "https://localhost:8080/"
    },
    "id": "hZubHUTzmHDE",
    "outputId": "96e22a25-fc27-4911-cdbd-b3297410f1b1"
   },
   "outputs": [
    {
     "name": "stdout",
     "output_type": "stream",
     "text": [
      "전체 샘플수 : 65818\n"
     ]
    }
   ],
   "source": [
    "data = data[data['Text'].apply(lambda x: len(x.split()) <= text_max_len)]\n",
    "data = data[data['Summary'].apply(lambda x: len(x.split()) <= summary_max_len)]\n",
    "print('전체 샘플수 :',(len(data)))"
   ]
  },
  {
   "cell_type": "markdown",
   "metadata": {},
   "source": [
    "이제 샘플수가 65,818개로 줄었습니다. 정제 작업이 완료된 상위 샘플 5개를 출력해봅시다."
   ]
  },
  {
   "cell_type": "code",
   "execution_count": 40,
   "metadata": {
    "colab": {
     "base_uri": "https://localhost:8080/",
     "height": 204
    },
    "id": "iFuBCYflmHw8",
    "outputId": "4d2ac1b9-3e57-4501-eabd-64413b45750c",
    "scrolled": true
   },
   "outputs": [
    {
     "data": {
      "text/html": [
       "<div>\n",
       "<style scoped>\n",
       "    .dataframe tbody tr th:only-of-type {\n",
       "        vertical-align: middle;\n",
       "    }\n",
       "\n",
       "    .dataframe tbody tr th {\n",
       "        vertical-align: top;\n",
       "    }\n",
       "\n",
       "    .dataframe thead th {\n",
       "        text-align: right;\n",
       "    }\n",
       "</style>\n",
       "<table border=\"1\" class=\"dataframe\">\n",
       "  <thead>\n",
       "    <tr style=\"text-align: right;\">\n",
       "      <th></th>\n",
       "      <th>Text</th>\n",
       "      <th>Summary</th>\n",
       "    </tr>\n",
       "  </thead>\n",
       "  <tbody>\n",
       "    <tr>\n",
       "      <th>0</th>\n",
       "      <td>bought several vitality canned dog food produc...</td>\n",
       "      <td>good quality dog food</td>\n",
       "    </tr>\n",
       "    <tr>\n",
       "      <th>1</th>\n",
       "      <td>product arrived labeled jumbo salted peanuts p...</td>\n",
       "      <td>not as advertised</td>\n",
       "    </tr>\n",
       "    <tr>\n",
       "      <th>2</th>\n",
       "      <td>confection around centuries light pillowy citr...</td>\n",
       "      <td>delight says it all</td>\n",
       "    </tr>\n",
       "    <tr>\n",
       "      <th>3</th>\n",
       "      <td>looking secret ingredient robitussin believe f...</td>\n",
       "      <td>cough medicine</td>\n",
       "    </tr>\n",
       "    <tr>\n",
       "      <th>4</th>\n",
       "      <td>great taffy great price wide assortment yummy ...</td>\n",
       "      <td>great taffy</td>\n",
       "    </tr>\n",
       "  </tbody>\n",
       "</table>\n",
       "</div>"
      ],
      "text/plain": [
       "                                                Text                Summary\n",
       "0  bought several vitality canned dog food produc...  good quality dog food\n",
       "1  product arrived labeled jumbo salted peanuts p...      not as advertised\n",
       "2  confection around centuries light pillowy citr...    delight says it all\n",
       "3  looking secret ingredient robitussin believe f...         cough medicine\n",
       "4  great taffy great price wide assortment yummy ...            great taffy"
      ]
     },
     "execution_count": 40,
     "metadata": {},
     "output_type": "execute_result"
    }
   ],
   "source": [
    "data.head()"
   ]
  },
  {
   "cell_type": "markdown",
   "metadata": {},
   "source": [
    "seq2seq 훈련을 위해서는 디코더의 입력과 레이블에 시작 토큰과 종료 토큰을 추가할 필요가 있습니다. 시작 토큰은 'sostoken', 종료 토큰은 'eostoken'이라 명명하고 앞, 뒤로 추가하겠습니다."
   ]
  },
  {
   "cell_type": "code",
   "execution_count": 41,
   "metadata": {
    "colab": {
     "base_uri": "https://localhost:8080/",
     "height": 204
    },
    "id": "cXh3ZP-qmIW0",
    "outputId": "cd3c4740-b573-4b24-b849-e5d6eea29247",
    "scrolled": true
   },
   "outputs": [
    {
     "data": {
      "text/html": [
       "<div>\n",
       "<style scoped>\n",
       "    .dataframe tbody tr th:only-of-type {\n",
       "        vertical-align: middle;\n",
       "    }\n",
       "\n",
       "    .dataframe tbody tr th {\n",
       "        vertical-align: top;\n",
       "    }\n",
       "\n",
       "    .dataframe thead th {\n",
       "        text-align: right;\n",
       "    }\n",
       "</style>\n",
       "<table border=\"1\" class=\"dataframe\">\n",
       "  <thead>\n",
       "    <tr style=\"text-align: right;\">\n",
       "      <th></th>\n",
       "      <th>Text</th>\n",
       "      <th>Summary</th>\n",
       "      <th>decoder_input</th>\n",
       "      <th>decoder_target</th>\n",
       "    </tr>\n",
       "  </thead>\n",
       "  <tbody>\n",
       "    <tr>\n",
       "      <th>0</th>\n",
       "      <td>bought several vitality canned dog food produc...</td>\n",
       "      <td>good quality dog food</td>\n",
       "      <td>sostoken good quality dog food</td>\n",
       "      <td>good quality dog food eostoken</td>\n",
       "    </tr>\n",
       "    <tr>\n",
       "      <th>1</th>\n",
       "      <td>product arrived labeled jumbo salted peanuts p...</td>\n",
       "      <td>not as advertised</td>\n",
       "      <td>sostoken not as advertised</td>\n",
       "      <td>not as advertised eostoken</td>\n",
       "    </tr>\n",
       "    <tr>\n",
       "      <th>2</th>\n",
       "      <td>confection around centuries light pillowy citr...</td>\n",
       "      <td>delight says it all</td>\n",
       "      <td>sostoken delight says it all</td>\n",
       "      <td>delight says it all eostoken</td>\n",
       "    </tr>\n",
       "    <tr>\n",
       "      <th>3</th>\n",
       "      <td>looking secret ingredient robitussin believe f...</td>\n",
       "      <td>cough medicine</td>\n",
       "      <td>sostoken cough medicine</td>\n",
       "      <td>cough medicine eostoken</td>\n",
       "    </tr>\n",
       "    <tr>\n",
       "      <th>4</th>\n",
       "      <td>great taffy great price wide assortment yummy ...</td>\n",
       "      <td>great taffy</td>\n",
       "      <td>sostoken great taffy</td>\n",
       "      <td>great taffy eostoken</td>\n",
       "    </tr>\n",
       "  </tbody>\n",
       "</table>\n",
       "</div>"
      ],
      "text/plain": [
       "                                                Text                Summary  \\\n",
       "0  bought several vitality canned dog food produc...  good quality dog food   \n",
       "1  product arrived labeled jumbo salted peanuts p...      not as advertised   \n",
       "2  confection around centuries light pillowy citr...    delight says it all   \n",
       "3  looking secret ingredient robitussin believe f...         cough medicine   \n",
       "4  great taffy great price wide assortment yummy ...            great taffy   \n",
       "\n",
       "                    decoder_input                  decoder_target  \n",
       "0  sostoken good quality dog food  good quality dog food eostoken  \n",
       "1      sostoken not as advertised      not as advertised eostoken  \n",
       "2    sostoken delight says it all    delight says it all eostoken  \n",
       "3         sostoken cough medicine         cough medicine eostoken  \n",
       "4            sostoken great taffy            great taffy eostoken  "
      ]
     },
     "execution_count": 41,
     "metadata": {},
     "output_type": "execute_result"
    }
   ],
   "source": [
    "# 요약 데이터에는 시작 토큰과 종료 토큰을 추가한다.\n",
    "data['decoder_input'] = data['Summary'].apply(lambda x : 'sostoken '+ x)\n",
    "data['decoder_target'] = data['Summary'].apply(lambda x : x + ' eostoken')\n",
    "data.head()"
   ]
  },
  {
   "cell_type": "markdown",
   "metadata": {},
   "source": [
    "인코더의 입력, 디코더의 입력과 레이블을 각각 저장해줍니다."
   ]
  },
  {
   "cell_type": "code",
   "execution_count": 42,
   "metadata": {
    "id": "9k8DpYq_5YgH"
   },
   "outputs": [],
   "source": [
    "encoder_input = np.array(data['Text'])\n",
    "decoder_input = np.array(data['decoder_input'])\n",
    "decoder_target = np.array(data['decoder_target'])"
   ]
  },
  {
   "cell_type": "code",
   "execution_count": 43,
   "metadata": {
    "id": "ZC1VqOu4-DUT"
   },
   "outputs": [],
   "source": [
    "np.random.seed(seed=0)"
   ]
  },
  {
   "cell_type": "code",
   "execution_count": 44,
   "metadata": {
    "colab": {
     "base_uri": "https://localhost:8080/"
    },
    "id": "J2c1vOCP5yEB",
    "outputId": "339dea9d-398c-4965-99b5-a0d8f9e3b996"
   },
   "outputs": [
    {
     "name": "stdout",
     "output_type": "stream",
     "text": [
      "[29546 43316 24839 ... 45891 42613 43567]\n"
     ]
    }
   ],
   "source": [
    "indices = np.arange(encoder_input.shape[0])\n",
    "np.random.shuffle(indices)\n",
    "print(indices)"
   ]
  },
  {
   "cell_type": "markdown",
   "metadata": {},
   "source": [
    "이 정수 시퀀스 순서를 데이터의 샘플 순서로 정의해주면 샘플의 순서는 섞이게 됩니다."
   ]
  },
  {
   "cell_type": "code",
   "execution_count": 45,
   "metadata": {
    "id": "UltTHIlO6EaT"
   },
   "outputs": [],
   "source": [
    "encoder_input = encoder_input[indices]\n",
    "decoder_input = decoder_input[indices]\n",
    "decoder_target = decoder_target[indices]"
   ]
  },
  {
   "cell_type": "markdown",
   "metadata": {},
   "source": [
    "이제 섞인 데이터를 8:2의 비율로 훈련 데이터와 테스트 데이터로 분리해주겠습니다."
   ]
  },
  {
   "cell_type": "code",
   "execution_count": 46,
   "metadata": {
    "colab": {
     "base_uri": "https://localhost:8080/"
    },
    "id": "qajEX32J7Cy_",
    "outputId": "b2906b09-3cf0-45d3-f4eb-15c75ee7ae0d"
   },
   "outputs": [
    {
     "name": "stdout",
     "output_type": "stream",
     "text": [
      "13163\n"
     ]
    }
   ],
   "source": [
    "n_of_val = int(len(encoder_input)*0.2)\n",
    "print(n_of_val)"
   ]
  },
  {
   "cell_type": "markdown",
   "metadata": {},
   "source": [
    "테스트 데이터는 전체 데이터에서 20%에 해당하는 13,163개를 사용하겠습니다."
   ]
  },
  {
   "cell_type": "code",
   "execution_count": 47,
   "metadata": {
    "id": "VbD0q7VN7I2B"
   },
   "outputs": [],
   "source": [
    "encoder_input_train = encoder_input[:-n_of_val]\n",
    "decoder_input_train = decoder_input[:-n_of_val]\n",
    "decoder_target_train = decoder_target[:-n_of_val]\n",
    "\n",
    "encoder_input_test = encoder_input[-n_of_val:]\n",
    "decoder_input_test = decoder_input[-n_of_val:]\n",
    "decoder_target_test = decoder_target[-n_of_val:]"
   ]
  },
  {
   "cell_type": "code",
   "execution_count": 48,
   "metadata": {
    "colab": {
     "base_uri": "https://localhost:8080/"
    },
    "id": "t68RX24a7KZc",
    "outputId": "42b94259-fcd7-4628-a623-4c86f5023cb0"
   },
   "outputs": [
    {
     "name": "stdout",
     "output_type": "stream",
     "text": [
      "훈련 데이터의 개수 : 52655\n",
      "훈련 레이블의 개수 : 52655\n",
      "테스트 데이터의 개수 : 13163\n",
      "테스트 레이블의 개수 : 13163\n"
     ]
    }
   ],
   "source": [
    "print('훈련 데이터의 개수 :', len(encoder_input_train))\n",
    "print('훈련 레이블의 개수 :',len(decoder_input_train))\n",
    "print('테스트 데이터의 개수 :',len(encoder_input_test))\n",
    "print('테스트 레이블의 개수 :',len(decoder_input_test))"
   ]
  },
  {
   "cell_type": "markdown",
   "metadata": {},
   "source": [
    "#### 4) 정수 인코딩"
   ]
  },
  {
   "cell_type": "markdown",
   "metadata": {},
   "source": [
    "이제 기계가 텍스트를 숫자로 처리할 수 있도록 훈련 데이터와 테스트 데이터에 정수 인코딩을 수행해야 합니다. 훈련 데이터에 대해서 단어 집합(vocaburary)을 만들어봅시다. 우선, 원문에 해당되는 encoder_input_train에 대해서 수행합니다."
   ]
  },
  {
   "cell_type": "code",
   "execution_count": 49,
   "metadata": {
    "id": "Jm5CavCyVySc"
   },
   "outputs": [],
   "source": [
    "src_tokenizer = Tokenizer()\n",
    "src_tokenizer.fit_on_texts(encoder_input_train)"
   ]
  },
  {
   "cell_type": "markdown",
   "metadata": {},
   "source": [
    "이제 단어 집합이 생성되는 동시에 각 단어에 고유한 정수가 부여되었습니다. 이는 src_tokenizer.word_index에 저장되어져 있습니다. 여기서는 빈도수가 낮은 단어들은 자연어 처리에서 배제하고자 합니다. 등장 빈도수가 7회 미만인 단어들이 이 데이터에서 얼만큼의 비중을 차지하는지 확인해봅시다."
   ]
  },
  {
   "cell_type": "code",
   "execution_count": 50,
   "metadata": {
    "colab": {
     "base_uri": "https://localhost:8080/",
     "height": 105
    },
    "id": "oJtcGPzlmLYV",
    "outputId": "25ce8d0a-d237-4948-bd1d-a80c9b2499ba"
   },
   "outputs": [
    {
     "name": "stdout",
     "output_type": "stream",
     "text": [
      "단어 집합(vocabulary)의 크기 : 32031\n",
      "등장 빈도가 6번 이하인 희귀 단어의 수: 23779\n",
      "단어 집합에서 희귀 단어를 제외시킬 경우의 단어 집합의 크기 8252\n",
      "단어 집합에서 희귀 단어의 비율: 74.23745746308263\n",
      "전체 등장 빈도에서 희귀 단어 등장 빈도 비율: 3.393443023084609\n"
     ]
    }
   ],
   "source": [
    "threshold = 7\n",
    "total_cnt = len(src_tokenizer.word_index) # 단어의 수\n",
    "rare_cnt = 0 # 등장 빈도수가 threshold보다 작은 단어의 개수를 카운트\n",
    "total_freq = 0 # 훈련 데이터의 전체 단어 빈도수 총 합\n",
    "rare_freq = 0 # 등장 빈도수가 threshold보다 작은 단어의 등장 빈도수의 총 합\n",
    "\n",
    "# 단어와 빈도수의 쌍(pair)을 key와 value로 받는다.\n",
    "for key, value in src_tokenizer.word_counts.items():\n",
    "    total_freq = total_freq + value\n",
    "\n",
    "    # 단어의 등장 빈도수가 threshold보다 작으면\n",
    "    if(value < threshold):\n",
    "        rare_cnt = rare_cnt + 1\n",
    "        rare_freq = rare_freq + value\n",
    "\n",
    "print('단어 집합(vocabulary)의 크기 :',total_cnt)\n",
    "print('등장 빈도가 %s번 이하인 희귀 단어의 수: %s'%(threshold - 1, rare_cnt))\n",
    "print('단어 집합에서 희귀 단어를 제외시킬 경우의 단어 집합의 크기 %s'%(total_cnt - rare_cnt))\n",
    "print(\"단어 집합에서 희귀 단어의 비율:\", (rare_cnt / total_cnt)*100)\n",
    "print(\"전체 등장 빈도에서 희귀 단어 등장 빈도 비율:\", (rare_freq / total_freq)*100)"
   ]
  },
  {
   "cell_type": "markdown",
   "metadata": {},
   "source": [
    "등장 빈도가 threshold 값인 7회 미만. 즉, 6회 이하인 단어들은 단어 집합에서 무려 70% 이상을 차지합니다. 하지만, 실제로 훈련 데이터에서 등장 빈도로 차지하는 비중은 상대적으로 적은 수치인 3.39%밖에 되지 않습니다. 여기서는 등장 빈도가 6회 이하인 단어들은 정수 인코딩 과정에서 배제시키고자 합니다. 위에서 이를 제외한 단어 집합의 크기를 8,233으로 계산했는데, 저자는 깔끔한 값을 선호하여 이와 비슷한 값으로 단어 집합의 크기를 8000으로 제한하겠습니다."
   ]
  },
  {
   "cell_type": "code",
   "execution_count": 51,
   "metadata": {
    "id": "1MA9Q1yomMRb"
   },
   "outputs": [],
   "source": [
    "src_vocab = 8000\n",
    "src_tokenizer = Tokenizer(num_words = src_vocab) \n",
    "src_tokenizer.fit_on_texts(encoder_input_train)\n",
    "\n",
    "# 텍스트 시퀀스를 정수 시퀀스로 변환\n",
    "encoder_input_train = src_tokenizer.texts_to_sequences(encoder_input_train) \n",
    "encoder_input_test = src_tokenizer.texts_to_sequences(encoder_input_test)"
   ]
  },
  {
   "cell_type": "markdown",
   "metadata": {},
   "source": [
    "정수 인코딩이 정상 진행되었는지 훈련 데이터에 대해서 3개의 샘플을 출력해봅시다."
   ]
  },
  {
   "cell_type": "code",
   "execution_count": 52,
   "metadata": {
    "colab": {
     "base_uri": "https://localhost:8080/"
    },
    "id": "Xn9RRnA6mNY8",
    "outputId": "34b2f485-6a63-41cd-b9e0-adbda140edfa"
   },
   "outputs": [
    {
     "name": "stdout",
     "output_type": "stream",
     "text": [
      "[[1882, 805, 844, 1855, 1120, 72, 131, 203, 1120, 83, 3896, 1, 1013, 844, 757, 167, 601, 350, 519, 435, 2482, 626, 72, 302, 1120, 132, 4281, 1007, 102, 449, 3450, 1, 75, 90, 343, 2307, 1188, 114, 1639, 166, 431, 1333, 1847, 70], [53, 4, 15, 901, 355, 37, 784, 97, 9, 8, 217, 441, 129, 101], [40, 1261, 473, 3, 909, 39, 3249, 2978, 221, 24, 37, 287, 2719, 6125, 56, 1371, 83, 390, 378], [1197, 9, 3147, 195, 1130, 105, 93, 836, 33, 803, 350, 145, 44, 328, 1707, 344, 85, 1510, 654, 578, 725, 24, 70, 212, 146, 302, 888, 574, 30, 191, 87, 4397], [5, 109, 254, 67, 706, 221, 698, 3017, 33, 152, 221, 1624, 55, 1029, 40, 1044, 20, 2681, 1430, 1624, 5861, 411, 435, 615, 78, 548, 2407, 438, 373, 127, 1624, 115, 42, 17, 254, 706, 16, 986, 14, 447, 2979, 7, 270, 953, 54]]\n"
     ]
    }
   ],
   "source": [
    "print(encoder_input_train[:5])"
   ]
  },
  {
   "cell_type": "markdown",
   "metadata": {},
   "source": [
    "이제 레이블에 해당하는 요약 데이터에 대해서도 수행하겠습니다."
   ]
  },
  {
   "cell_type": "code",
   "execution_count": 53,
   "metadata": {
    "id": "TxzhtQoLmOF0"
   },
   "outputs": [],
   "source": [
    "tar_tokenizer = Tokenizer()\n",
    "tar_tokenizer.fit_on_texts(decoder_input_train)"
   ]
  },
  {
   "cell_type": "markdown",
   "metadata": {},
   "source": [
    "이제 단어 집합이 생성되는 동시에 각 단어에 고유한 정수가 부여되었습니다. 이는 tar_tokenizer.word_index에 저장되어져 있습니다. 등장 빈도수가 6회 미만인 단어들이 이 데이터에서 얼만큼의 비중을 차지하는지 확인해봅시다."
   ]
  },
  {
   "cell_type": "code",
   "execution_count": 54,
   "metadata": {
    "colab": {
     "base_uri": "https://localhost:8080/"
    },
    "id": "xNvJIUZsmOxE",
    "outputId": "40a0bf79-55f4-4fcc-b125-b11918d58c0b"
   },
   "outputs": [
    {
     "name": "stdout",
     "output_type": "stream",
     "text": [
      "단어 집합(vocabulary)의 크기 : 10510\n",
      "등장 빈도가 5번 이하인 희귀 단어의 수: 8128\n",
      "단어 집합에서 희귀 단어를 제외시킬 경우의 단어 집합의 크기 2382\n",
      "단어 집합에서 희귀 단어의 비율: 77.33587059942911\n",
      "전체 등장 빈도에서 희귀 단어 등장 빈도 비율: 5.896286343062141\n"
     ]
    }
   ],
   "source": [
    "threshold = 6\n",
    "total_cnt = len(tar_tokenizer.word_index) # 단어의 수\n",
    "rare_cnt = 0 # 등장 빈도수가 threshold보다 작은 단어의 개수를 카운트\n",
    "total_freq = 0 # 훈련 데이터의 전체 단어 빈도수 총 합\n",
    "rare_freq = 0 # 등장 빈도수가 threshold보다 작은 단어의 등장 빈도수의 총 합\n",
    "\n",
    "# 단어와 빈도수의 쌍(pair)을 key와 value로 받는다.\n",
    "for key, value in tar_tokenizer.word_counts.items():\n",
    "    total_freq = total_freq + value\n",
    "\n",
    "    # 단어의 등장 빈도수가 threshold보다 작으면\n",
    "    if(value < threshold):\n",
    "        rare_cnt = rare_cnt + 1\n",
    "        rare_freq = rare_freq + value\n",
    "\n",
    "print('단어 집합(vocabulary)의 크기 :',total_cnt)\n",
    "print('등장 빈도가 %s번 이하인 희귀 단어의 수: %s'%(threshold - 1, rare_cnt))\n",
    "print('단어 집합에서 희귀 단어를 제외시킬 경우의 단어 집합의 크기 %s'%(total_cnt - rare_cnt))\n",
    "print(\"단어 집합에서 희귀 단어의 비율:\", (rare_cnt / total_cnt)*100)\n",
    "print(\"전체 등장 빈도에서 희귀 단어 등장 빈도 비율:\", (rare_freq / total_freq)*100)"
   ]
  },
  {
   "cell_type": "markdown",
   "metadata": {},
   "source": [
    "등장 빈도가 5회 이하인 단어들은 단어 집합에서 약 77%를 차지합니다. 하지만, 실제로 훈련 데이터에서 등장 빈도로 차지하는 비중은 상대적으로 매우 적은 수치인 5.89%밖에 되지 않습니다. 이 단어들은 정수 인코딩 과정에서 배제시키겠습니다."
   ]
  },
  {
   "cell_type": "code",
   "execution_count": 55,
   "metadata": {
    "id": "PtuS3Zr8mPoN"
   },
   "outputs": [],
   "source": [
    "tar_vocab = 2000\n",
    "tar_tokenizer = Tokenizer(num_words = tar_vocab) \n",
    "tar_tokenizer.fit_on_texts(decoder_input_train)\n",
    "tar_tokenizer.fit_on_texts(decoder_target_train)\n",
    "\n",
    "# 텍스트 시퀀스를 정수 시퀀스로 변환\n",
    "decoder_input_train = tar_tokenizer.texts_to_sequences(decoder_input_train) \n",
    "decoder_target_train = tar_tokenizer.texts_to_sequences(decoder_target_train)"
   ]
  },
  {
   "cell_type": "code",
   "execution_count": 56,
   "metadata": {
    "id": "PlMwU0M5BgXD"
   },
   "outputs": [],
   "source": [
    "decoder_input_test = tar_tokenizer.texts_to_sequences(decoder_input_test)\n",
    "decoder_target_test = tar_tokenizer.texts_to_sequences(decoder_target_test)"
   ]
  },
  {
   "cell_type": "markdown",
   "metadata": {},
   "source": [
    "정수 인코딩이 정상 진행되었는지 훈련 데이터에 대해서 5개의 샘플을 출력해봅시다."
   ]
  },
  {
   "cell_type": "code",
   "execution_count": 57,
   "metadata": {
    "colab": {
     "base_uri": "https://localhost:8080/"
    },
    "id": "P9QYEPJvQlbD",
    "outputId": "af99ee8c-348d-4040-ead6-65f09ba7a918"
   },
   "outputs": [
    {
     "name": "stdout",
     "output_type": "stream",
     "text": [
      "[[1, 687], [1, 53, 21, 182, 1162, 240], [1, 6, 480, 113, 278, 181], [1, 15, 108, 215], [1, 54, 178, 21]]\n"
     ]
    }
   ],
   "source": [
    "print(decoder_input_train[:5])"
   ]
  },
  {
   "cell_type": "code",
   "execution_count": 58,
   "metadata": {
    "colab": {
     "base_uri": "https://localhost:8080/"
    },
    "id": "Goe9zQrUQmXu",
    "outputId": "fea1f295-2b31-4d0e-b866-9521f05a6f49"
   },
   "outputs": [
    {
     "name": "stdout",
     "output_type": "stream",
     "text": [
      "[[687, 2], [53, 21, 182, 1162, 240, 2], [6, 480, 113, 278, 181, 2], [15, 108, 215, 2], [54, 178, 21, 2]]\n"
     ]
    }
   ],
   "source": [
    "print(decoder_target_train[:5])"
   ]
  },
  {
   "cell_type": "code",
   "execution_count": 59,
   "metadata": {
    "colab": {
     "base_uri": "https://localhost:8080/"
    },
    "id": "gT3mjBARBjMT",
    "outputId": "7d5f6b1b-157e-465c-fd1c-1080f666336d"
   },
   "outputs": [
    {
     "name": "stdout",
     "output_type": "stream",
     "text": [
      "[[1, 10, 12], [1, 590], [1, 118, 132, 262], [1, 6, 4], [1, 10, 11]]\n"
     ]
    }
   ],
   "source": [
    "print(decoder_input_test[:5])"
   ]
  },
  {
   "cell_type": "code",
   "execution_count": 60,
   "metadata": {
    "colab": {
     "base_uri": "https://localhost:8080/"
    },
    "id": "vPGa4jFzBkMf",
    "outputId": "a64f189e-b921-4d33-94bd-e51e4218e1a4"
   },
   "outputs": [
    {
     "name": "stdout",
     "output_type": "stream",
     "text": [
      "[[10, 12, 2], [590, 2], [118, 132, 262, 2], [6, 4, 2], [10, 11, 2]]\n"
     ]
    }
   ],
   "source": [
    "print(decoder_target_test[:5])"
   ]
  },
  {
   "cell_type": "markdown",
   "metadata": {},
   "source": [
    "#### 5) 빈 샘플(empty samples) 제거"
   ]
  },
  {
   "cell_type": "markdown",
   "metadata": {},
   "source": [
    "전체 데이터에서 빈도수가 낮은 단어가 삭제되었다는 것은 빈도수가 낮은 단어만으로 구성되었던 샘플들은 이제 빈(empty) 샘플이 되었다는 것을 의미합니다. 이 현상은 길이가 상대적으로 길었던 원문(Text)의 경우에는 문제가 별로 없겠지만, 애초에 평균 길이가 4밖에 되지 않았던 요약문(Summary)의 경우에는 이 현상이 굉장히 두드러졌을 가능성이 높습니다. 요약문에서 길이가 0이 된 샘플들의 인덱스를 받아옵시다. 주의할 점은 요약문인 decoder_input에는 sostoken 또는 decoder_target에는 eostoken이 추가된 상태이고, 이 두 토큰은 모든 샘플에서 등장하므로 빈도수가 샘플수와 동일하여 단어 집합 제한에도 삭제 되지 않습니다. 그래서 이제 길이가 0이 된 요약문의 실질적 길이는 1입니다. decoder_input에는 sostoken, decoder_target에는 eostoken만 남았을 것이기 때문입니다."
   ]
  },
  {
   "cell_type": "code",
   "execution_count": 61,
   "metadata": {
    "id": "d6924EBsmRD0"
   },
   "outputs": [],
   "source": [
    "drop_train = [index for index, sentence in enumerate(decoder_input_train) if len(sentence) == 1]\n",
    "drop_test = [index for index, sentence in enumerate(decoder_input_test) if len(sentence) == 1]"
   ]
  },
  {
   "cell_type": "markdown",
   "metadata": {},
   "source": [
    "훈련 데이터와 테스트 데이터에 대해서 요약문의 길이가 1인 경우의 인덱스를 각각 drop_train과 drop_test에 저장하였습니다. 이 샘플들을 모두 삭제하고자 합니다. 삭제할 개수는 각각 몇개일까요?"
   ]
  },
  {
   "cell_type": "code",
   "execution_count": 62,
   "metadata": {
    "colab": {
     "base_uri": "https://localhost:8080/"
    },
    "id": "SJU1aVaLRGWn",
    "outputId": "71c00db1-8fbd-42ae-b9a8-1faa048bd8e0"
   },
   "outputs": [
    {
     "name": "stdout",
     "output_type": "stream",
     "text": [
      "삭제할 훈련 데이터의 개수 : 1235\n"
     ]
    }
   ],
   "source": [
    "print('삭제할 훈련 데이터의 개수 :',len(drop_train))"
   ]
  },
  {
   "cell_type": "code",
   "execution_count": 63,
   "metadata": {
    "colab": {
     "base_uri": "https://localhost:8080/"
    },
    "id": "CdW53iJ5RH_y",
    "outputId": "258a76d4-fc67-4449-fb7f-e08a5984644a"
   },
   "outputs": [
    {
     "data": {
      "text/plain": [
       "337"
      ]
     },
     "execution_count": 63,
     "metadata": {},
     "output_type": "execute_result"
    }
   ],
   "source": [
    "len(drop_test)"
   ]
  },
  {
   "cell_type": "markdown",
   "metadata": {},
   "source": [
    "삭제 후의 개수는 다음과 같습니다."
   ]
  },
  {
   "cell_type": "code",
   "execution_count": 64,
   "metadata": {
    "colab": {
     "base_uri": "https://localhost:8080/"
    },
    "id": "1sjCv2YASJB-",
    "outputId": "09d7c12a-768c-40db-f261-ce5be2025b58"
   },
   "outputs": [],
   "source": [
    "encoder_input_train = np.delete(encoder_input_train, drop_train, axis=0)\n",
    "decoder_input_train = np.delete(decoder_input_train, drop_train, axis=0)\n",
    "decoder_target_train = np.delete(decoder_target_train, drop_train, axis=0)\n",
    "\n",
    "encoder_input_test = np.delete(encoder_input_test, drop_test, axis=0)\n",
    "decoder_input_test = np.delete(decoder_input_test, drop_test, axis=0)\n",
    "decoder_target_test = np.delete(decoder_target_test, drop_test, axis=0)"
   ]
  },
  {
   "cell_type": "code",
   "execution_count": 65,
   "metadata": {
    "colab": {
     "base_uri": "https://localhost:8080/"
    },
    "id": "Jicti7sEmR2A",
    "outputId": "8c22061f-2e5e-4396-fba2-2549a246c0b2",
    "scrolled": true
   },
   "outputs": [
    {
     "name": "stdout",
     "output_type": "stream",
     "text": [
      "훈련 데이터의 개수 : 51420\n",
      "훈련 레이블의 개수 : 51420\n",
      "테스트 데이터의 개수 : 12826\n",
      "테스트 레이블의 개수 : 12826\n"
     ]
    }
   ],
   "source": [
    "print('훈련 데이터의 개수 :', len(encoder_input_train))\n",
    "print('훈련 레이블의 개수 :',len(decoder_input_train))\n",
    "print('테스트 데이터의 개수 :',len(encoder_input_test))\n",
    "print('테스트 레이블의 개수 :',len(decoder_input_test))"
   ]
  },
  {
   "cell_type": "markdown",
   "metadata": {},
   "source": [
    "#### 6) 패딩하기"
   ]
  },
  {
   "cell_type": "markdown",
   "metadata": {},
   "source": [
    "앞서 계산해둔 최대 길이로 맞추어 훈련 데이터와 테스트 데이터에 대해서 패딩 작업을 수행합니다."
   ]
  },
  {
   "cell_type": "code",
   "execution_count": 66,
   "metadata": {
    "id": "XsuLgBCwmTUc"
   },
   "outputs": [],
   "source": [
    "encoder_input_train = pad_sequences(encoder_input_train, maxlen = text_max_len, padding='post')\n",
    "encoder_input_test = pad_sequences(encoder_input_test, maxlen = text_max_len, padding='post')\n",
    "\n",
    "decoder_input_train = pad_sequences(decoder_input_train, maxlen = summary_max_len, padding='post')\n",
    "decoder_target_train = pad_sequences(decoder_target_train, maxlen = summary_max_len, padding='post')\n",
    "\n",
    "decoder_input_test = pad_sequences(decoder_input_test, maxlen = summary_max_len, padding='post')\n",
    "decoder_target_test = pad_sequences(decoder_target_test, maxlen = summary_max_len, padding='post')"
   ]
  },
  {
   "cell_type": "markdown",
   "metadata": {},
   "source": [
    "### 3. seq2seq + attention으로 요약 모델 설계 및 훈련시키기"
   ]
  },
  {
   "cell_type": "markdown",
   "metadata": {},
   "source": [
    "우선 필요한 도구들을 임포트합니다."
   ]
  },
  {
   "cell_type": "code",
   "execution_count": 67,
   "metadata": {
    "id": "1io95xrrmUis"
   },
   "outputs": [],
   "source": [
    "from tensorflow.keras.layers import Input, LSTM, Embedding, Dense, Concatenate\n",
    "from tensorflow.keras.models import Model\n",
    "from tensorflow.keras.callbacks import EarlyStopping, ModelCheckpoint"
   ]
  },
  {
   "cell_type": "markdown",
   "metadata": {},
   "source": [
    "인코더를 설계해보겠습니다. 인코더는 LSTM 층을 3개 쌓습니다."
   ]
  },
  {
   "cell_type": "code",
   "execution_count": 68,
   "metadata": {
    "id": "h_XiT21VmVtN"
   },
   "outputs": [],
   "source": [
    "embedding_dim = 128\n",
    "hidden_size = 256\n",
    "\n",
    "# 인코더\n",
    "encoder_inputs = Input(shape=(text_max_len,))\n",
    "\n",
    "# 인코더의 임베딩 층\n",
    "enc_emb = Embedding(src_vocab, embedding_dim)(encoder_inputs)\n",
    "\n",
    "# 인코더의 LSTM 1\n",
    "encoder_lstm1 = LSTM(hidden_size, return_sequences=True, return_state=True ,dropout = 0.4)\n",
    "encoder_output1, state_h1, state_c1 = encoder_lstm1(enc_emb)\n",
    "\n",
    "# 인코더의 LSTM 2\n",
    "encoder_lstm2 = LSTM(hidden_size, return_sequences=True, return_state=True, dropout=0.4)\n",
    "encoder_output2, state_h2, state_c2 = encoder_lstm2(encoder_output1)\n",
    "\n",
    "# 인코더의 LSTM 3\n",
    "encoder_lstm3 = LSTM(hidden_size, return_state=True, return_sequences=True, dropout=0.4)\n",
    "encoder_outputs, state_h, state_c= encoder_lstm3(encoder_output2)"
   ]
  },
  {
   "cell_type": "markdown",
   "metadata": {},
   "source": [
    "디코더를 설계해보겠습니다. 단, 출력층은 제외하고 설계하겠습니다. 디코더의 설계는 인코더와 사실상 동일하지만 초기 상태(initial_state)를 인코더의 상태로 주어야 하는 것에 주의합시다."
   ]
  },
  {
   "cell_type": "code",
   "execution_count": 70,
   "metadata": {
    "id": "17OIN0TsmWoF"
   },
   "outputs": [],
   "source": [
    "# 디코더\n",
    "decoder_inputs = Input(shape=(None,))\n",
    "\n",
    "# 디코더의 임베딩 층\n",
    "dec_emb_layer = Embedding(tar_vocab, embedding_dim)\n",
    "dec_emb = dec_emb_layer(decoder_inputs)\n",
    "\n",
    "# 디코더의 LSTM\n",
    "decoder_lstm = LSTM(hidden_size, return_sequences = True, return_state = True, dropout = 0.4)\n",
    "decoder_outputs, _, _ = decoder_lstm(dec_emb, initial_state = [state_h, state_c])"
   ]
  },
  {
   "cell_type": "markdown",
   "metadata": {},
   "source": [
    "이제 디코더의 출력층을 설계합니다."
   ]
  },
  {
   "cell_type": "code",
   "execution_count": 71,
   "metadata": {
    "colab": {
     "base_uri": "https://localhost:8080/"
    },
    "id": "aR25IhXOmXxN",
    "outputId": "1fc62c3c-6ad5-44da-8552-ab92405a6dff"
   },
   "outputs": [
    {
     "name": "stdout",
     "output_type": "stream",
     "text": [
      "Model: \"model\"\n",
      "__________________________________________________________________________________________________\n",
      " Layer (type)                   Output Shape         Param #     Connected to                     \n",
      "==================================================================================================\n",
      " input_1 (InputLayer)           [(None, 50)]         0           []                               \n",
      "                                                                                                  \n",
      " embedding (Embedding)          (None, 50, 128)      1024000     ['input_1[0][0]']                \n",
      "                                                                                                  \n",
      " lstm (LSTM)                    [(None, 50, 256),    394240      ['embedding[0][0]']              \n",
      "                                 (None, 256),                                                     \n",
      "                                 (None, 256)]                                                     \n",
      "                                                                                                  \n",
      " input_3 (InputLayer)           [(None, None)]       0           []                               \n",
      "                                                                                                  \n",
      " lstm_1 (LSTM)                  [(None, 50, 256),    525312      ['lstm[0][0]']                   \n",
      "                                 (None, 256),                                                     \n",
      "                                 (None, 256)]                                                     \n",
      "                                                                                                  \n",
      " embedding_2 (Embedding)        (None, None, 128)    256000      ['input_3[0][0]']                \n",
      "                                                                                                  \n",
      " lstm_2 (LSTM)                  [(None, 50, 256),    525312      ['lstm_1[0][0]']                 \n",
      "                                 (None, 256),                                                     \n",
      "                                 (None, 256)]                                                     \n",
      "                                                                                                  \n",
      " lstm_4 (LSTM)                  [(None, None, 256),  394240      ['embedding_2[0][0]',            \n",
      "                                 (None, 256),                     'lstm_2[0][1]',                 \n",
      "                                 (None, 256)]                     'lstm_2[0][2]']                 \n",
      "                                                                                                  \n",
      " dense (Dense)                  (None, None, 2000)   514000      ['lstm_4[0][0]']                 \n",
      "                                                                                                  \n",
      "==================================================================================================\n",
      "Total params: 3,633,104\n",
      "Trainable params: 3,633,104\n",
      "Non-trainable params: 0\n",
      "__________________________________________________________________________________________________\n"
     ]
    }
   ],
   "source": [
    "# 디코더의 출력층\n",
    "decoder_softmax_layer = Dense(tar_vocab, activation = 'softmax')\n",
    "decoder_softmax_outputs = decoder_softmax_layer(decoder_outputs) \n",
    "\n",
    "# 모델 정의\n",
    "model = Model([encoder_inputs, decoder_inputs], decoder_softmax_outputs)\n",
    "model.summary()"
   ]
  },
  {
   "cell_type": "markdown",
   "metadata": {
    "id": "df9gNGkFsiEA"
   },
   "source": [
    " 총 3,633,104개의 매개변수를 가진 seq2seq 모델이 설계됩니다. "
   ]
  },
  {
   "cell_type": "code",
   "execution_count": 72,
   "metadata": {
    "id": "jwYCBOJDbnf5"
   },
   "outputs": [],
   "source": [
    "import tensorflow as tf\n",
    "import os\n",
    "from tensorflow.keras.layers import Layer\n",
    "from tensorflow.keras import backend as K\n",
    "\n",
    "\n",
    "class AttentionLayer(Layer):\n",
    "    \"\"\"\n",
    "    This class implements Bahdanau attention (https://arxiv.org/pdf/1409.0473.pdf).\n",
    "    There are three sets of weights introduced W_a, U_a, and V_a\n",
    "     \"\"\"\n",
    "\n",
    "    def __init__(self, **kwargs):\n",
    "        super(AttentionLayer, self).__init__(**kwargs)\n",
    "\n",
    "    def build(self, input_shape):\n",
    "        assert isinstance(input_shape, list)\n",
    "        # Create a trainable weight variable for this layer.\n",
    "\n",
    "        self.W_a = self.add_weight(name='W_a',\n",
    "                                   shape=tf.TensorShape((input_shape[0][2], input_shape[0][2])),\n",
    "                                   initializer='uniform',\n",
    "                                   trainable=True)\n",
    "        self.U_a = self.add_weight(name='U_a',\n",
    "                                   shape=tf.TensorShape((input_shape[1][2], input_shape[0][2])),\n",
    "                                   initializer='uniform',\n",
    "                                   trainable=True)\n",
    "        self.V_a = self.add_weight(name='V_a',\n",
    "                                   shape=tf.TensorShape((input_shape[0][2], 1)),\n",
    "                                   initializer='uniform',\n",
    "                                   trainable=True)\n",
    "\n",
    "        super(AttentionLayer, self).build(input_shape)  # Be sure to call this at the end\n",
    "\n",
    "    def call(self, inputs, verbose=False):\n",
    "        \"\"\"\n",
    "        inputs: [encoder_output_sequence, decoder_output_sequence]\n",
    "        \"\"\"\n",
    "        assert type(inputs) == list\n",
    "        encoder_out_seq, decoder_out_seq = inputs\n",
    "        if verbose:\n",
    "            print('encoder_out_seq>', encoder_out_seq.shape)\n",
    "            print('decoder_out_seq>', decoder_out_seq.shape)\n",
    "\n",
    "        def energy_step(inputs, states):\n",
    "            \"\"\" Step function for computing energy for a single decoder state\n",
    "            inputs: (batchsize * 1 * de_in_dim)\n",
    "            states: (batchsize * 1 * de_latent_dim)\n",
    "            \"\"\"\n",
    "\n",
    "            assert_msg = \"States must be an iterable. Got {} of type {}\".format(states, type(states))\n",
    "            assert isinstance(states, list) or isinstance(states, tuple), assert_msg\n",
    "\n",
    "            \"\"\" Some parameters required for shaping tensors\"\"\"\n",
    "            en_seq_len, en_hidden = encoder_out_seq.shape[1], encoder_out_seq.shape[2]\n",
    "            de_hidden = inputs.shape[-1]\n",
    "\n",
    "            \"\"\" Computing S.Wa where S=[s0, s1, ..., si]\"\"\"\n",
    "            # <= batch size * en_seq_len * latent_dim\n",
    "            W_a_dot_s = K.dot(encoder_out_seq, self.W_a)\n",
    "\n",
    "            \"\"\" Computing hj.Ua \"\"\"\n",
    "            U_a_dot_h = K.expand_dims(K.dot(inputs, self.U_a), 1)  # <= batch_size, 1, latent_dim\n",
    "            if verbose:\n",
    "                print('Ua.h>', U_a_dot_h.shape)\n",
    "\n",
    "            \"\"\" tanh(S.Wa + hj.Ua) \"\"\"\n",
    "            # <= batch_size*en_seq_len, latent_dim\n",
    "            Ws_plus_Uh = K.tanh(W_a_dot_s + U_a_dot_h)\n",
    "            if verbose:\n",
    "                print('Ws+Uh>', Ws_plus_Uh.shape)\n",
    "\n",
    "            \"\"\" softmax(va.tanh(S.Wa + hj.Ua)) \"\"\"\n",
    "            # <= batch_size, en_seq_len\n",
    "            e_i = K.squeeze(K.dot(Ws_plus_Uh, self.V_a), axis=-1)\n",
    "            # <= batch_size, en_seq_len\n",
    "            e_i = K.softmax(e_i)\n",
    "\n",
    "            if verbose:\n",
    "                print('ei>', e_i.shape)\n",
    "\n",
    "            return e_i, [e_i]\n",
    "\n",
    "        def context_step(inputs, states):\n",
    "            \"\"\" Step function for computing ci using ei \"\"\"\n",
    "\n",
    "            assert_msg = \"States must be an iterable. Got {} of type {}\".format(states, type(states))\n",
    "            assert isinstance(states, list) or isinstance(states, tuple), assert_msg\n",
    "\n",
    "            # <= batch_size, hidden_size\n",
    "            c_i = K.sum(encoder_out_seq * K.expand_dims(inputs, -1), axis=1)\n",
    "            if verbose:\n",
    "                print('ci>', c_i.shape)\n",
    "            return c_i, [c_i]\n",
    "\n",
    "        fake_state_c = K.sum(encoder_out_seq, axis=1)\n",
    "        fake_state_e = K.sum(encoder_out_seq, axis=2)  # <= (batch_size, enc_seq_len, latent_dim\n",
    "\n",
    "        \"\"\" Computing energy outputs \"\"\"\n",
    "        # e_outputs => (batch_size, de_seq_len, en_seq_len)\n",
    "        last_out, e_outputs, _ = K.rnn(\n",
    "            energy_step, decoder_out_seq, [fake_state_e],\n",
    "        )\n",
    "\n",
    "        \"\"\" Computing context vectors \"\"\"\n",
    "        last_out, c_outputs, _ = K.rnn(\n",
    "            context_step, e_outputs, [fake_state_c],\n",
    "        )\n",
    "\n",
    "        return c_outputs, e_outputs\n",
    "\n",
    "    def compute_output_shape(self, input_shape):\n",
    "        \"\"\" Outputs produced by the layer \"\"\"\n",
    "        return [\n",
    "            tf.TensorShape((input_shape[1][0], input_shape[1][1], input_shape[1][2])),\n",
    "            tf.TensorShape((input_shape[1][0], input_shape[1][1], input_shape[0][1]))\n",
    "        ]"
   ]
  },
  {
   "cell_type": "markdown",
   "metadata": {},
   "source": [
    "어텐션 메커니즘을 이용해 디코더의 출력층을 새롭게 설계합니다."
   ]
  },
  {
   "cell_type": "code",
   "execution_count": 73,
   "metadata": {
    "colab": {
     "base_uri": "https://localhost:8080/"
    },
    "id": "k73clQ2AmdfN",
    "outputId": "2f629d50-82f5-432f-a4d5-b8f109d95703",
    "scrolled": true
   },
   "outputs": [
    {
     "name": "stdout",
     "output_type": "stream",
     "text": [
      "Model: \"model_1\"\n",
      "__________________________________________________________________________________________________\n",
      " Layer (type)                   Output Shape         Param #     Connected to                     \n",
      "==================================================================================================\n",
      " input_1 (InputLayer)           [(None, 50)]         0           []                               \n",
      "                                                                                                  \n",
      " embedding (Embedding)          (None, 50, 128)      1024000     ['input_1[0][0]']                \n",
      "                                                                                                  \n",
      " lstm (LSTM)                    [(None, 50, 256),    394240      ['embedding[0][0]']              \n",
      "                                 (None, 256),                                                     \n",
      "                                 (None, 256)]                                                     \n",
      "                                                                                                  \n",
      " input_3 (InputLayer)           [(None, None)]       0           []                               \n",
      "                                                                                                  \n",
      " lstm_1 (LSTM)                  [(None, 50, 256),    525312      ['lstm[0][0]']                   \n",
      "                                 (None, 256),                                                     \n",
      "                                 (None, 256)]                                                     \n",
      "                                                                                                  \n",
      " embedding_2 (Embedding)        (None, None, 128)    256000      ['input_3[0][0]']                \n",
      "                                                                                                  \n",
      " lstm_2 (LSTM)                  [(None, 50, 256),    525312      ['lstm_1[0][0]']                 \n",
      "                                 (None, 256),                                                     \n",
      "                                 (None, 256)]                                                     \n",
      "                                                                                                  \n",
      " lstm_4 (LSTM)                  [(None, None, 256),  394240      ['embedding_2[0][0]',            \n",
      "                                 (None, 256),                     'lstm_2[0][1]',                 \n",
      "                                 (None, 256)]                     'lstm_2[0][2]']                 \n",
      "                                                                                                  \n",
      " attention_layer (AttentionLaye  ((None, None, 256),  131328     ['lstm_2[0][0]',                 \n",
      " r)                              (None, None, 50))                'lstm_4[0][0]']                 \n",
      "                                                                                                  \n",
      " concat_layer (Concatenate)     (None, None, 512)    0           ['lstm_4[0][0]',                 \n",
      "                                                                  'attention_layer[0][0]']        \n",
      "                                                                                                  \n",
      " dense_1 (Dense)                (None, None, 2000)   1026000     ['concat_layer[0][0]']           \n",
      "                                                                                                  \n",
      "==================================================================================================\n",
      "Total params: 4,276,432\n",
      "Trainable params: 4,276,432\n",
      "Non-trainable params: 0\n",
      "__________________________________________________________________________________________________\n"
     ]
    }
   ],
   "source": [
    "# 어텐션 층(어텐션 함수)\n",
    "attn_layer = AttentionLayer(name='attention_layer')\n",
    "attn_out, attn_states = attn_layer([encoder_outputs, decoder_outputs])\n",
    "\n",
    "# 어텐션의 결과와 디코더의 hidden state들을 연결\n",
    "decoder_concat_input = Concatenate(axis = -1, name='concat_layer')([decoder_outputs, attn_out])\n",
    "\n",
    "# 디코더의 출력층\n",
    "decoder_softmax_layer = Dense(tar_vocab, activation='softmax')\n",
    "decoder_softmax_outputs = decoder_softmax_layer(decoder_concat_input)\n",
    "\n",
    "# 모델 정의\n",
    "model = Model([encoder_inputs, decoder_inputs], decoder_softmax_outputs)\n",
    "model.summary()"
   ]
  },
  {
   "cell_type": "markdown",
   "metadata": {},
   "source": [
    "총 4,276,432개의 파라미터를 가진 모델이 설계됩니다. 이제 모델을 컴파일합니다."
   ]
  },
  {
   "cell_type": "code",
   "execution_count": 74,
   "metadata": {
    "id": "LcOasiuYnV78"
   },
   "outputs": [],
   "source": [
    "model.compile(optimizer='rmsprop', loss='sparse_categorical_crossentropy')"
   ]
  },
  {
   "cell_type": "markdown",
   "metadata": {},
   "source": [
    "조기 종료 조건을 설정하고 모델을 학습시킵니다."
   ]
  },
  {
   "cell_type": "code",
   "execution_count": 75,
   "metadata": {
    "colab": {
     "base_uri": "https://localhost:8080/"
    },
    "id": "qJFetr0DddkE",
    "outputId": "094e9ce0-3109-4a97-c01a-3c12cbef2093"
   },
   "outputs": [
    {
     "name": "stdout",
     "output_type": "stream",
     "text": [
      "Epoch 1/50\n",
      "201/201 [==============================] - 37s 156ms/step - loss: 2.6943 - val_loss: 2.4210\n",
      "Epoch 2/50\n",
      "201/201 [==============================] - 27s 132ms/step - loss: 2.3724 - val_loss: 2.2796\n",
      "Epoch 3/50\n",
      "201/201 [==============================] - 25s 126ms/step - loss: 2.2291 - val_loss: 2.1583\n",
      "Epoch 4/50\n",
      "201/201 [==============================] - 26s 130ms/step - loss: 2.1128 - val_loss: 2.0738\n",
      "Epoch 5/50\n",
      "201/201 [==============================] - 26s 129ms/step - loss: 2.0281 - val_loss: 2.0204\n",
      "Epoch 6/50\n",
      "201/201 [==============================] - 26s 129ms/step - loss: 1.9643 - val_loss: 1.9807\n",
      "Epoch 7/50\n",
      "201/201 [==============================] - 26s 129ms/step - loss: 1.9121 - val_loss: 1.9518\n",
      "Epoch 8/50\n",
      "201/201 [==============================] - 26s 130ms/step - loss: 1.8663 - val_loss: 1.9298\n",
      "Epoch 9/50\n",
      "201/201 [==============================] - 26s 130ms/step - loss: 1.8250 - val_loss: 1.9122\n",
      "Epoch 10/50\n",
      "201/201 [==============================] - 26s 129ms/step - loss: 1.7878 - val_loss: 1.8955\n",
      "Epoch 11/50\n",
      "201/201 [==============================] - 26s 130ms/step - loss: 1.7535 - val_loss: 1.8842\n",
      "Epoch 12/50\n",
      "201/201 [==============================] - 26s 131ms/step - loss: 1.7214 - val_loss: 1.8768\n",
      "Epoch 13/50\n",
      "201/201 [==============================] - 26s 130ms/step - loss: 1.6903 - val_loss: 1.8686\n",
      "Epoch 14/50\n",
      "201/201 [==============================] - 26s 130ms/step - loss: 1.6619 - val_loss: 1.8655\n",
      "Epoch 15/50\n",
      "201/201 [==============================] - 26s 129ms/step - loss: 1.6342 - val_loss: 1.8662\n",
      "Epoch 16/50\n",
      "201/201 [==============================] - 26s 130ms/step - loss: 1.6065 - val_loss: 1.8611\n",
      "Epoch 17/50\n",
      "201/201 [==============================] - 27s 132ms/step - loss: 1.5811 - val_loss: 1.8623\n",
      "Epoch 18/50\n",
      "201/201 [==============================] - 26s 132ms/step - loss: 1.5557 - val_loss: 1.8609\n",
      "Epoch 19/50\n",
      "201/201 [==============================] - 26s 130ms/step - loss: 1.5315 - val_loss: 1.8647\n",
      "Epoch 20/50\n",
      "201/201 [==============================] - 26s 132ms/step - loss: 1.5083 - val_loss: 1.8626\n",
      "Epoch 20: early stopping\n"
     ]
    }
   ],
   "source": [
    "es = EarlyStopping(monitor='val_loss', mode='min', verbose=1, patience = 2)\n",
    "\n",
    "history = model.fit(x = [encoder_input_train, decoder_input_train], y = decoder_target_train, \\\n",
    "          validation_data = ([encoder_input_test, decoder_input_test], decoder_target_test),\n",
    "          batch_size = 256, callbacks=[es], epochs = 50)"
   ]
  },
  {
   "cell_type": "markdown",
   "metadata": {},
   "source": [
    "학습 과정하면서 기록된 훈련 데이터의 손실과 테스트 데이터의 손실 히스토리를 시각화하여 출력합니다"
   ]
  },
  {
   "cell_type": "code",
   "execution_count": 76,
   "metadata": {},
   "outputs": [
    {
     "data": {
      "image/png": "[encoded data removed]",
      "text/plain": [
       "<Figure size 432x288 with 1 Axes>"
      ]
     },
     "metadata": {
      "needs_background": "light"
     },
     "output_type": "display_data"
    }
   ],
   "source": [
    "plt.plot(history.history['loss'], label='train')\n",
    "plt.plot(history.history['val_loss'], label='test')\n",
    "plt.legend()\n",
    "plt.show()"
   ]
  },
  {
   "cell_type": "markdown",
   "metadata": {},
   "source": [
    "테스트 데이터의 손실이 지속적으로 줄어들다가 어느 순간부터 정체하게 됩니다."
   ]
  },
  {
   "cell_type": "markdown",
   "metadata": {},
   "source": [
    "### 4. seq2seq + attention으로 요약 모델 테스트하기"
   ]
  },
  {
   "cell_type": "markdown",
   "metadata": {},
   "source": [
    "테스트를 위해 필요한 3개의 사전을 만듭니다."
   ]
  },
  {
   "cell_type": "code",
   "execution_count": 77,
   "metadata": {
    "id": "4ds_9HlKnLId"
   },
   "outputs": [],
   "source": [
    "src_index_to_word = src_tokenizer.index_word # 원문 단어 집합에서 정수 -> 단어를 얻음\n",
    "tar_word_to_index = tar_tokenizer.word_index # 요약 단어 집합에서 단어 -> 정수를 얻음\n",
    "tar_index_to_word = tar_tokenizer.index_word # 요약 단어 집합에서 정수 -> 단어를 얻음"
   ]
  },
  {
   "cell_type": "markdown",
   "metadata": {},
   "source": [
    "seq2seq는 훈련 단계와 테스트 단계의 동작이 다르므로 테스트 단계의 모델을 별도로 다시 설계해줄 필요가 있습니다. 다시 새로운 seq2seq 모델을 만들겠습니다. 우선 인코더를 정의합니다."
   ]
  },
  {
   "cell_type": "code",
   "execution_count": 78,
   "metadata": {
    "id": "EdGYDkqJnYts"
   },
   "outputs": [],
   "source": [
    "# 인코더 설계\n",
    "encoder_model = Model(inputs=encoder_inputs, outputs=[encoder_outputs, state_h, state_c])"
   ]
  },
  {
   "cell_type": "markdown",
   "metadata": {},
   "source": [
    "이제 테스트 단계의 디코더를 설계합니다."
   ]
  },
  {
   "cell_type": "code",
   "execution_count": 80,
   "metadata": {
    "id": "FC-3uDPdnZhk"
   },
   "outputs": [],
   "source": [
    "# 이전 시점의 상태들을 저장하는 텐서\n",
    "decoder_state_input_h = Input(shape=(hidden_size,))\n",
    "decoder_state_input_c = Input(shape=(hidden_size,))\n",
    "\n",
    "dec_emb2 = dec_emb_layer(decoder_inputs)\n",
    "# 문장의 다음 단어를 예측하기 위해서 초기 상태(initial_state)를 이전 시점의 상태로 사용. 이는 뒤의 함수 decode_sequence()에 구현\n",
    "# 훈련 과정에서와 달리 LSTM의 리턴하는 은닉 상태와 셀 상태인 state_h와 state_c를 버리지 않음.\n",
    "decoder_outputs2, state_h2, state_c2 = decoder_lstm(dec_emb2, initial_state=[decoder_state_input_h, decoder_state_input_c])"
   ]
  },
  {
   "cell_type": "code",
   "execution_count": 81,
   "metadata": {
    "id": "uRENVLlDnaZN"
   },
   "outputs": [],
   "source": [
    "# 어텐션 함수\n",
    "decoder_hidden_state_input = Input(shape=(text_max_len, hidden_size))\n",
    "attn_out_inf, attn_states_inf = attn_layer([decoder_hidden_state_input, decoder_outputs2])\n",
    "decoder_inf_concat = Concatenate(axis=-1, name='concat')([decoder_outputs2, attn_out_inf])\n",
    "\n",
    "# 디코더의 출력층\n",
    "decoder_outputs2 = decoder_softmax_layer(decoder_inf_concat) \n",
    "\n",
    "# 최종 디코더 모델\n",
    "decoder_model = Model(\n",
    "    [decoder_inputs] + [decoder_hidden_state_input,decoder_state_input_h, decoder_state_input_c],\n",
    "    [decoder_outputs2] + [state_h2, state_c2])"
   ]
  },
  {
   "cell_type": "markdown",
   "metadata": {},
   "source": [
    "테스트 단계를 위한 모델이 완성되었습니다. 테스트를 위해 사용되는 함수 decode_sequence를 설계합니다."
   ]
  },
  {
   "cell_type": "code",
   "execution_count": 82,
   "metadata": {
    "id": "bwA6msqDnbRU"
   },
   "outputs": [],
   "source": [
    "def decode_sequence(input_seq):\n",
    "    # 입력으로부터 인코더의 상태를 얻음\n",
    "    e_out, e_h, e_c = encoder_model.predict(input_seq)\n",
    "\n",
    "     # <SOS>에 해당하는 토큰 생성\n",
    "    target_seq = np.zeros((1,1))\n",
    "    target_seq[0, 0] = tar_word_to_index['sostoken']\n",
    "\n",
    "    stop_condition = False\n",
    "    decoded_sentence = ''\n",
    "    while not stop_condition: # stop_condition이 True가 될 때까지 루프 반복\n",
    "\n",
    "        output_tokens, h, c = decoder_model.predict([target_seq] + [e_out, e_h, e_c])\n",
    "        sampled_token_index = np.argmax(output_tokens[0, -1, :])\n",
    "        sampled_token = tar_index_to_word[sampled_token_index]\n",
    "\n",
    "        if(sampled_token!='eostoken'):\n",
    "            decoded_sentence += ' '+sampled_token\n",
    "\n",
    "        #  <eos>에 도달하거나 최대 길이를 넘으면 중단.\n",
    "        if (sampled_token == 'eostoken'  or len(decoded_sentence.split()) >= (summary_max_len-1)):\n",
    "            stop_condition = True\n",
    "\n",
    "        # 길이가 1인 타겟 시퀀스를 업데이트\n",
    "        target_seq = np.zeros((1,1))\n",
    "        target_seq[0, 0] = sampled_token_index\n",
    "\n",
    "        # 상태를 업데이트 합니다.\n",
    "        e_h, e_c = h, c\n",
    "\n",
    "    return decoded_sentence"
   ]
  },
  {
   "cell_type": "markdown",
   "metadata": {},
   "source": [
    "테스트 단계에서 원문과 실제 요약문, 예측 요약문을 비교하기 위해 정수 시퀀스를 텍스트 시퀀스로 만드는 함수를 설계합니다."
   ]
  },
  {
   "cell_type": "code",
   "execution_count": 83,
   "metadata": {
    "id": "QhOF2BzyncVM"
   },
   "outputs": [],
   "source": [
    "# 원문의 정수 시퀀스를 텍스트 시퀀스로 변환\n",
    "def seq2text(input_seq):\n",
    "    temp=''\n",
    "    for i in input_seq:\n",
    "        if(i!=0):\n",
    "            temp = temp + src_index_to_word[i]+' '\n",
    "    return temp\n",
    "\n",
    "# 요약문의 정수 시퀀스를 텍스트 시퀀스로 변환\n",
    "def seq2summary(input_seq):\n",
    "    temp=''\n",
    "    for i in input_seq:\n",
    "        if((i!=0 and i!=tar_word_to_index['sostoken']) and i!=tar_word_to_index['eostoken']):\n",
    "            temp = temp + tar_index_to_word[i] + ' '\n",
    "    return temp"
   ]
  },
  {
   "cell_type": "markdown",
   "metadata": {},
   "source": [
    "테스트 샘플 중 500번부터 1000번까지 테스트해봅시다."
   ]
  },
  {
   "cell_type": "code",
   "execution_count": 84,
   "metadata": {
    "colab": {
     "base_uri": "https://localhost:8080/"
    },
    "id": "wVf6fDQSnda9",
    "outputId": "7bd22f61-8757-449d-98e9-f8088f4f31d6"
   },
   "outputs": [
    {
     "name": "stdout",
     "output_type": "stream",
     "text": [
      "원문 :  disappointing purchase two packages opened noodles fell apart many tiny pieces water bought noodles never happen guessing damage shipping \n",
      "실제 요약문 : in the water \n",
      "예측 요약문 :  not as pictured\n",
      "\n",
      "\n",
      "원문 :  product along lines hamburger helper remember eating kid wanted try product liquid gold orzo pasta nice treat broccoli joke small little freeze dried broccoli cheese sauce strong smell mixed rest ingredients lost taste loved overall okay nothing special better making scratch \n",
      "실제 요약문 : kraft chicken and broccoli dinner kit \n",
      "예측 요약문 :  not good\n",
      "\n",
      "\n",
      "원문 :  tried many kinds coffee keep coming back newman love ordering amazon coffee right door cannot beat \n",
      "실제 요약문 : best coffee in \n",
      "예측 요약문 :  great coffee\n",
      "\n",
      "\n",
      "원문 :  healthy tasty portable packets great go perfect gym bag cannot around fresh next best option pear mango flavor texture smooth applesauce recently packed work trip good way add little something healthy hotel fast food often dominate comes business travel \n",
      "실제 요약문 : great snack for adults \n",
      "예측 요약문 :  great for the price\n",
      "\n",
      "\n",
      "원문 :  true taste like fresh pineapple good daughter loves hide bag save lol \n",
      "실제 요약문 : love it \n",
      "예측 요약문 :  yummy\n",
      "\n",
      "\n",
      "원문 :  love vanilla chocolate zero grey color cookies cream turn bearable ordering \n",
      "실제 요약문 : ok not my favorite \n",
      "예측 요약문 :  not as good as the original\n",
      "\n",
      "\n",
      "원문 :  coffee really delicious pods convenient less wasteful plus cost less would recommend product anyone coffee lover always fresh convenient wanting try disappointed \n",
      "실제 요약문 : san francisco bay coffee for keurig \n",
      "예측 요약문 :  great coffee\n",
      "\n",
      "\n",
      "원문 :  gevalia one favorites coffee good flavor aroma good price hope aroma still great \n",
      "실제 요약문 : favorite coffee \n",
      "예측 요약문 :  great coffee\n",
      "\n",
      "\n",
      "원문 :  looking rich chocolate cookie look somewhere else looking fairly good tasting calorie breakfast snack pretty good \n",
      "실제 요약문 : dont think real chocolate \n",
      "예측 요약문 :  great tasting chocolate\n",
      "\n",
      "\n",
      "원문 :  hooked spike salads fried scrambled eggs years could longer find googled immediately found amazon com bought several things amazon speed service outstanding highly recommend \n",
      "실제 요약문 : found my special \n",
      "예측 요약문 :  delicious\n",
      "\n",
      "\n",
      "원문 :  thanks number salsa chips making products available amazon love made whole food ingredients lot sodium worth every penny ship lightning fast \n",
      "실제 요약문 : thanks organics \n",
      "예측 요약문 :  love these chips\n",
      "\n",
      "\n",
      "원문 :  difficult find brand stores great able buy different varieties amazon dependable vendor \n",
      "실제 요약문 : the greatest tea \n",
      "예측 요약문 :  love this\n",
      "\n",
      "\n",
      "원문 :  bars delicious really recommend heating suggested packaging tastes like warm banana bread straight oven yum cannot wait eat nice hot breakfast cold winter morning \n",
      "실제 요약문 : yum \n",
      "예측 요약문 :  delicious\n",
      "\n",
      "\n",
      "원문 :  popcorn easy use turns like stuff get movies expensive delivered right away kids love \n",
      "실제 요약문 : just like at the movies \n",
      "예측 요약문 :  great popcorn\n",
      "\n",
      "\n",
      "원문 :  return refund texture miracle noodle products like eating plastic worms read reviews tried every way possible improve experience eating stuff minutes rinsing par boiling etc buy item stuck com stand behind quality experience take chance losing like \n",
      "실제 요약문 : plastic \n",
      "예측 요약문 :  not the best\n",
      "\n",
      "\n",
      "원문 :  using product several months dogs seem like delivered really nice say \n",
      "실제 요약문 : fine product \n",
      "예측 요약문 :  great product\n",
      "\n",
      "\n",
      "원문 :  caribou coffee ny nj area missing since left years back get amazon price great coffee always arrives fresh love \n",
      "실제 요약문 : great coffee \n",
      "예측 요약문 :  great coffee\n",
      "\n",
      "\n",
      "원문 :  use powder beauty cooking yet mix yogurt honey put everywhere benefits turmeric extensive since ive using flare ups short lived shipping quick think ill enough quite awhile definitely good buy \n",
      "실제 요약문 : enjoying this \n",
      "예측 요약문 :  great product\n",
      "\n",
      "\n",
      "원문 :  things great perfect size bag afternoon snack like salt vinegar flavor like \n",
      "실제 요약문 : excellent snack food \n",
      "예측 요약문 :  great snack\n",
      "\n",
      "\n",
      "원문 :  mom kids older two hard time finding snack much sodium rd came along introduced thankful find snack low sodium vegetable top organic know free residue gmos \n",
      "실제 요약문 : healthy snack \n",
      "예측 요약문 :  great snack\n",
      "\n",
      "\n",
      "원문 :  love product suggestion could make improve would allow customer select combination flavors \n",
      "실제 요약문 : popchips variety pack \n",
      "예측 요약문 :  great product\n",
      "\n",
      "\n",
      "원문 :  two pugs major rawhide bone pig ear fans reason interested chews one eat getting anything else even bother \n",
      "실제 요약문 : not \n",
      "예측 요약문 :  not for small dogs\n",
      "\n",
      "\n",
      "원문 :  dogs love antlers much cheaper antlers available amazon doggies love easily get perhaps last antlers hand hold dogs attention longer antlers extremely happy product continue order \n",
      "실제 요약문 : doggie crack \n",
      "예측 요약문 :  dogs love it\n",
      "\n",
      "\n",
      "원문 :  greenies super price great packaging prompt delivery dogs love great business site look next time want order item \n",
      "실제 요약문 : greenies \n",
      "예측 요약문 :  greenies\n",
      "\n",
      "\n",
      "원문 :  trying several different types raw honey past months one favorite love although raw still consistency regular honey versatile also hint spice flavor like cinnamon makes even yummier one keep going back almost everything \n",
      "실제 요약문 : my new favorite \n",
      "예측 요약문 :  best honey ever\n",
      "\n",
      "\n",
      "원문 :  bars absolutely delicious clear called fiber bars snack bars etc honestly tasted like stale cereal completely different cereal nuts fruit hard stop one try disappointed \n",
      "실제 요약문 : absolutely delicious \n",
      "예측 요약문 :  not so good\n",
      "\n",
      "\n",
      "원문 :  chips great flavor buffalo wings flavor bleu cheese flavor combo seems work well probably would like even heat flavor buffalo wing sauce cannot beat crunch \n",
      "실제 요약문 : good flavor \n",
      "예측 요약문 :  not the best\n",
      "\n",
      "\n",
      "원문 :  thought bitter orange flavor however husband friend liked \n",
      "실제 요약문 : tasted like bitter \n",
      "예측 요약문 :  not so strong\n",
      "\n",
      "\n",
      "원문 :  first bought cereal heb grocery store priced box taste pretty good amazon currently sells box opt subscribe save crunchy takes longer like like nature path flax plus cereal flakes gets soggy quickly curious expiration date boxes dated december \n",
      "실제 요약문 : great cereal great price \n",
      "예측 요약문 :  good but not the best\n",
      "\n",
      "\n",
      "원문 :  kind peppered beef steak buy always fresh taste better brands like jerky would recomend product \n",
      "실제 요약문 : only kind \n",
      "예측 요약문 :  great salt\n",
      "\n",
      "\n",
      "원문 :  also routine baking ingredient put bread along sunflower seeds organic wheat flour also put smoothie stir fry dishes anything think good price really must healthy diet \n",
      "실제 요약문 : must have for healthy life \n",
      "예측 요약문 :  great product\n",
      "\n",
      "\n",
      "원문 :  cannot find anywhere near live amazon offers low price per unit buy \n",
      "실제 요약문 : yes \n",
      "예측 요약문 :  great price\n",
      "\n",
      "\n",
      "원문 :  like coffee strong usually drink black coffee drink disappointing chilled first shake saw shake warning small type around straw good strong coffee aroma flavor sweet bit metallic aftertaste guess expected canned coffee would get \n",
      "실제 요약문 : good rich coffee with just hint of \n",
      "예측 요약문 :  good coffee\n",
      "\n",
      "\n",
      "원문 :  spice package convenient tasty however expecting bit spicier heat product next time add curry make perfect despite review buy \n",
      "실제 요약문 : good but not quite there \n",
      "예측 요약문 :  good stuff\n",
      "\n",
      "\n",
      "원문 :  wow drink tastes terrible made heart really jittery handle caffiene good enough stuff much never drink stuff \n",
      "실제 요약문 : tastes terrible and made my heart \n",
      "예측 요약문 :  not bad\n",
      "\n",
      "\n",
      "원문 :  didnt buy simply get say dog loves swear eat minutes six months old always tell people much loves \n",
      "실제 요약문 : my dog loves them \n",
      "예측 요약문 :  my dog loves these\n",
      "\n",
      "\n",
      "원문 :  dog really enjoyed spent hours trying get treats first minutes chewed plastic rope half frustration toy work intended still put dog food since know able get pretty easily take work bowl really great toy wish rope would lasted day sure play leave dog one \n",
      "실제 요약문 : her then she it \n",
      "예측 요약문 :  not for my dog\n",
      "\n",
      "\n",
      "원문 :  bought boxes pops party favors really get chance taste really happy shipment fast needed make making party favors definitely purchase seller impressed \n",
      "실제 요약문 : good pops \n",
      "예측 요약문 :  great product\n",
      "\n",
      "\n",
      "원문 :  bought several shipments past year far received otherwise problem cup creamer takes long open taste perspective blows irish water also required lasts long time stock cruise hotel business somewhere else know cannot likely carry irish creme \n",
      "실제 요약문 : yummy \n",
      "예측 요약문 :  great for\n",
      "\n",
      "\n",
      "원문 :  favorite creamers buy work office need refrigeration amazon reasonably priced opinion flavor better brands buying amazon \n",
      "실제 요약문 : my favorite \n",
      "예측 요약문 :  great deal\n",
      "\n",
      "\n",
      "원문 :  due gastric bypass surgery atkins bars awesome dessert item hard find affordable area find amazon blessing continue purchase long remain available \n",
      "실제 요약문 : good \n"
     ]
    },
    {
     "name": "stdout",
     "output_type": "stream",
     "text": [
      "예측 요약문 :  delicious\n",
      "\n",
      "\n",
      "원문 :  first bought heb liked alot bought amazon larger size less best olive oil used thanks amazon \n",
      "실제 요약문 : really good tasting \n",
      "예측 요약문 :  great product\n",
      "\n",
      "\n",
      "원문 :  yo toddler picky eater however loves apple pear dry fruits eat bags snack \n",
      "실제 요약문 : my toddler loves it \n",
      "예측 요약문 :  my son loves these\n",
      "\n",
      "\n",
      "원문 :  yr old english usually bully sticks pet store visit found bones try fabulous awful smell keeps focused hours different layers bone keep interested read another review dog threw bone dogs sensitive skin stomachs never issue expensive bones well worth quality staying power \n",
      "실제 요약문 : excellent for chewers \n",
      "예측 요약문 :  not for small dogs\n",
      "\n",
      "\n",
      "원문 :  highland sugarworks organic maple syrup far best maple syrup daughter tasted tried many brands including maple syrup produced individuals syrup best opportunity purchase months ago amazon com unfortunately price gone like everything else grocery related good hesitate try brands want disappointed buying near future \n",
      "실제 요약문 : maple syrup \n",
      "예측 요약문 :  best maple syrup\n",
      "\n",
      "\n",
      "원문 :  happy found product amazon saved ton money share homemade chinese hot mustard family friends great product great price \n",
      "실제 요약문 : wow bargain for sure \n",
      "예측 요약문 :  great product\n",
      "\n",
      "\n",
      "원문 :  coffee smooth rather flat compared starbuck brews bite like mild coffee enjoy one \n",
      "실제 요약문 : smooth but flat \n",
      "예측 요약문 :  great coffee\n",
      "\n",
      "\n",
      "원문 :  matter big small lunch eat regardless whether eat breakfast always feel blood sugar drop pm everyday keep bars desk work gym bag purse anywhere might need burst energy become daily staple snack gets workout dinner strongly recommend \n",
      "실제 요약문 : best protein bars \n",
      "예측 요약문 :  great for kids\n",
      "\n",
      "\n",
      "원문 :  made milk production go way taste strong honey great make smell like maple syrup freak husband actually kind liked \n",
      "실제 요약문 : wonderful \n",
      "예측 요약문 :  good product\n",
      "\n",
      "\n",
      "원문 :  found brand traveling canada years ago fell love know enjoy \n",
      "실제 요약문 : great cup \n",
      "예측 요약문 :  best ever\n",
      "\n",
      "\n",
      "원문 :  maybe expecting much taste terrible soy flavor overpowering taste dry chalky little cinnamon flavor much better low carb low fat high protein snacks \n",
      "실제 요약문 : terrible \n",
      "예측 요약문 :  ok\n",
      "\n",
      "\n",
      "원문 :  better leather rawhide manageable scent clean wise think dog thinks love argue \n",
      "실제 요약문 : my dog has these are great treats \n",
      "예측 요약문 :  great deal\n",
      "\n",
      "\n",
      "원문 :  great buy never item bought party twins everyone loved good sweet perfect getting fast shipping \n",
      "실제 요약문 : yummy \n",
      "예측 요약문 :  great snack\n",
      "\n",
      "\n",
      "원문 :  favorite soup since child many many years ago still heat eat smaller oz least week comfort food husband also likes soup one smaller oz cans enough two people thrilled campbell came oz open one large fix enough yummy creamy delicious soup us satisfied large bowls soup get \n",
      "실제 요약문 : creamy and delicious \n",
      "예측 요약문 :  great soup\n",
      "\n",
      "\n",
      "원문 :  juice rich tasty full bodied taste use make fruit juice shakes protein shakes reason ordered juice read cherry juice great inflammation prior drinking suffered tenderness knees improving tremendously \n",
      "실제 요약문 : refreshing the best \n",
      "예측 요약문 :  refreshing\n",
      "\n",
      "\n",
      "원문 :  received lb bag gummi time good gummi find germany look like site already ordered read another review state thing guess need fly germany real thing \n",
      "실제 요약문 : strawberry gummi \n",
      "예측 요약문 :  gummi bears\n",
      "\n",
      "\n",
      "원문 :  oh goodness best passed tastes tests house beyond handing ordering everyone getting one christmas disappointed pb powdered peanut butter less fat calories oz \n",
      "실제 요약문 : pb \n",
      "예측 요약문 :  simply the best\n",
      "\n",
      "\n",
      "원문 :  ordered bag coffee get order free shipping ever order hardly even par grocery store stuff little stale smelling sure peet coffee course peet costs fortune \n",
      "실제 요약문 : none too good \n",
      "예측 요약문 :  not as good as the\n",
      "\n",
      "\n",
      "원문 :  say taste awesome chance try run yet reviews probably open package first leave absolutely give burst energy taste really good would recommend others \n",
      "실제 요약문 : these are great \n",
      "예측 요약문 :  great product\n",
      "\n",
      "\n",
      "원문 :  love love love well seasoned thick greasy yum much flavor pepper chip compares \n",
      "실제 요약문 : best pepper chips out there \n",
      "예측 요약문 :  love this stuff\n",
      "\n",
      "\n",
      "원문 :  would never describe berry burst sweet weird chemical like taste sat around house month finally threw \n",
      "실제 요약문 : chemical taste \n",
      "예측 요약문 :  not bad\n",
      "\n",
      "\n",
      "원문 :  liver chunks like crack dogs magic training dogs critters anything although freeze dried liver pricey cut chunks tiny use training rewarding saying love good dog \n",
      "실제 요약문 : best dog treats \n",
      "예측 요약문 :  my dogs love these\n",
      "\n",
      "\n",
      "원문 :  plenty times eat came mae ploy sweet chili sauce eat flavor exciting taste one favorite restaurants \n",
      "실제 요약문 : the pleasure of in \n",
      "예측 요약문 :  love this sauce\n",
      "\n",
      "\n",
      "원문 :  tried one whole market loved artificial sugars allergic flavors real chemical taste cannot decide favorite well maybe watermelon although blueberry close second maybe strawberry kiwi happy delivered amazon double delight \n",
      "실제 요약문 : best drink that is just flavored water \n",
      "예측 요약문 :  not my favorite\n",
      "\n",
      "\n",
      "원문 :  eat gluten free wonder snack crackers wonderful tried find tasty snacks hard find however crackers good \n",
      "실제 요약문 : eating gluten free \n",
      "예측 요약문 :  great snack\n",
      "\n",
      "\n",
      "원문 :  bought tea girlfriend health conscious far loving tastes good \n",
      "실제 요약문 : awesome tea \n",
      "예측 요약문 :  great tea\n",
      "\n",
      "\n",
      "원문 :  thrilled find drink taste great low calories healthy blackberry tea however flavors tea wonderful mix flavors plain water green white tea brew home add flavor fruit punch mixed berry strawberry lemonade fabulous flavors hansen huge thank amazon carrying product hansen fruit tea stix drink mix fruit punch count boxes \n",
      "실제 요약문 : fruit stix \n",
      "예측 요약문 :  delicious tea\n",
      "\n",
      "\n",
      "원문 :  went looking bread especially bread machines glad ordered product tasted great family loved product arrived quickly fresh \n",
      "실제 요약문 : great bread \n",
      "예측 요약문 :  great product\n",
      "\n",
      "\n",
      "원문 :  cats seem like smell catnip however usually crush catnip release scent give cats product getting sharp woody part plant fingers noticed cats sometimes seem also get buy brand \n",
      "실제 요약문 : lots of \n",
      "예측 요약문 :  cats like it\n",
      "\n",
      "\n",
      "원문 :  bought food stash case cannot rate taste shelf life attractive butter cheese harder preserve alternative problem cans dented shipped way poor packaging involved know dented cans avoid grocery store \n",
      "실제 요약문 : dented cans \n",
      "예측 요약문 :  dented cans\n",
      "\n",
      "\n",
      "원문 :  best purchase could made daughter priced beautifully daughter study without worrying price college books thanks much \n",
      "실제 요약문 : these \n",
      "예측 요약문 :  great product\n",
      "\n",
      "\n",
      "원문 :  like cook stuff good use much pleased seem fridge bought chicken vegetable versions used enough comment yet \n",
      "실제 요약문 : here is the beef \n",
      "예측 요약문 :  good stuff\n",
      "\n",
      "\n",
      "원문 :  product misleading soybean canola oil first ingredients olive oil ingredients list looking mayo made olive oil soybeans canola genetically modified unless organic even organic soy good people thyroid issues digestive issues soy causing health issues organic soy good us neither genetically canola \n",
      "실제 요약문 : misleading label \n",
      "예측 요약문 :  not as advertised\n",
      "\n",
      "\n",
      "원문 :  purchased several times always raved everyone best black licorice hard find stores amazon makes easy \n",
      "실제 요약문 : these are always the best black licorice \n",
      "예측 요약문 :  great licorice\n",
      "\n",
      "\n",
      "원문 :  worth creamer best sams club oz coffeemate creamer oz creamer math \n",
      "실제 요약문 : overpriced \n",
      "예측 요약문 :  great price\n",
      "\n",
      "\n",
      "원문 :  good like american milk chocolate better word word word word word word word word word word word \n",
      "실제 요약문 : dark \n",
      "예측 요약문 :  my dog loves this food\n",
      "\n",
      "\n",
      "원문 :  cat food delicious cat loves product every time open pouch cat come wanting eat please try product cat done yet good cats picky eaters \n",
      "실제 요약문 : good cat food \n",
      "예측 요약문 :  great cat food\n",
      "\n",
      "\n",
      "원문 :  dark always mean semi bitter sweet bittersweet chocolate lover given little discs way sweet said wee bits melt beautifully smooth silk dr \n",
      "실제 요약문 : than sweet \n",
      "예측 요약문 :  best chocolate ever\n",
      "\n",
      "\n",
      "원문 :  love cakes love going cakes year tastes exactly like easy make delicious sprinkled powdered sugar top young daughters loved worth dissapointed \n",
      "실제 요약문 : worth every \n",
      "예측 요약문 :  delicious\n",
      "\n",
      "\n",
      "원문 :  know craving black licorice anise flavor mouth suckers fit bill would suggest full five star rating flavor stronger definitely best found clear package ounces serving size pieces number servings candy great meal palate cleanser \n",
      "실제 요약문 : satisfies the craving \n",
      "예측 요약문 :  great licorice\n",
      "\n",
      "\n",
      "원문 :  nice know never morning cuppa unsweetened wonderful organic honey comes right door worth every penny \n",
      "실제 요약문 : finally \n"
     ]
    },
    {
     "name": "stdout",
     "output_type": "stream",
     "text": [
      "예측 요약문 :  great product\n",
      "\n",
      "\n",
      "원문 :  pro stuff fantastic salty buttery tastes like movie theater popcorn complain pop kernals thrown kettle others pop always fills tray comes popper way love \n",
      "실제 요약문 : tastes great \n",
      "예측 요약문 :  the best popcorn ever\n",
      "\n",
      "\n",
      "원문 :  people experience level greater others ginger takes away almost immediately like wonder drug without filling body drugs amazing \n",
      "실제 요약문 : ginger \n",
      "예측 요약문 :  it is\n",
      "\n",
      "\n",
      "원문 :  members family celiac disease everyone really enjoys mix easy make pleasantly surprised flavor texture typical pizza crust add herbs give great flavor made pizza mix crust nice crisp outside little chewy inside tried really horrible gluten free pizza crusts give discovered one kids actually fight last piece pizza make \n",
      "실제 요약문 : really great gluten free option \n",
      "예측 요약문 :  great gluten free pizza\n",
      "\n",
      "\n",
      "원문 :  awesome convenient product kids actually like better real taco filling much quicker make hamburger lower fat obviously stores much longer vegetarian try limit meat intake always use tacos glad amazon carries available local grocery stores yummy \n",
      "실제 요약문 : great product for quick easy \n",
      "예측 요약문 :  yummy\n",
      "\n",
      "\n",
      "원문 :  pocket coffee delicious make sure put whole thing mouth biting center mouth get enjoy espresso center chocolate one fantastic bite make great gift non coffee drinkers drink coffee love pocket coffee \n",
      "실제 요약문 : delicious \n",
      "예측 요약문 :  love this coffee\n",
      "\n",
      "\n",
      "원문 :  loves month old loves mixtures great job promised would never feed something would eat taste good would eat inclined eat pureed meal easy pack throw diaper back suit case travel worry leaking price right shipping quick store really well pantry ready made box happy baby happy mommy \n",
      "실제 요약문 : taste or two \n",
      "예측 요약문 :  great for picky son\n",
      "\n",
      "\n",
      "원문 :  served tea lake canada found good look returned home good minus mountain view course speedy delivery great wait days \n",
      "실제 요약문 : great tea \n",
      "예측 요약문 :  tea\n",
      "\n",
      "\n",
      "원문 :  tasty keeps eating junk food meals perfect diabetic snack \n",
      "실제 요약문 : addictive \n",
      "예측 요약문 :  great snack\n",
      "\n",
      "\n",
      "원문 :  love extract good flavor overpowering use shakes need little extra something buy \n",
      "실제 요약문 : very nice \n",
      "예측 요약문 :  great product\n",
      "\n",
      "\n",
      "원문 :  never heard coconut sugar expected overly sweet taste pleasantly surprised natural sweetness sugar powdery sweet like sugar alternatives enjoy baking kids feel slightly less guilty using sweetener easy substitute regular sugar started using teaspoon two breakfast smoothies suddenly kids asking seconds also like tea coffee \n",
      "실제 요약문 : great alternative to sugar \n",
      "예측 요약문 :  tasty alternative to regular soda\n",
      "\n",
      "\n",
      "원문 :  love popchip products general sweet potato variety especially welcome love sweet potatoes chips made excellent flavor texture \n",
      "실제 요약문 : delicious \n",
      "예측 요약문 :  love these\n",
      "\n",
      "\n",
      "원문 :  love chia gotten two different packages brand rancid expiration dates year away amazon allow food returns navitas said would ship seeds check would send new ones still enjoy chia avoid brand \n",
      "실제 요약문 : rancid \n",
      "예측 요약문 :  stale\n",
      "\n",
      "\n",
      "원문 :  best mix market making cafe mocha lattes tried \n",
      "실제 요약문 : delicious \n",
      "예측 요약문 :  best mix ever\n",
      "\n",
      "\n",
      "원문 :  wife hates coffee unless house need arm last cup like easy order amazon much less expensive local stores really good product great price \n",
      "실제 요약문 : crack \n",
      "예측 요약문 :  great coffee\n",
      "\n",
      "\n",
      "원문 :  bought coffee mr newman charity boy decision coffee bitter worst muddy mouth feel poor quality beans threw away worth words wise \n",
      "실제 요약문 : just threw away worth of coffee \n",
      "예측 요약문 :  stale\n",
      "\n",
      "\n",
      "원문 :  great delicious way eat food home melt entire packet two cans coconut milk pan add favorite meat veggies usually use chicken strips bag frozen asian veggies \n",
      "실제 요약문 : yum \n",
      "예측 요약문 :  great stuff\n",
      "\n",
      "\n",
      "원문 :  using packets years love give good level energy boost without rise fall effect well lot important vitamins \n",
      "실제 요약문 : great product \n",
      "예측 요약문 :  great product\n",
      "\n",
      "\n",
      "원문 :  husband drinking destiny deep sea water six months finding craving sugar sweets pastries like even found longer crave diet soda pop feel better drinking water instead feeling better seem energy enough even started exercising bodies seem happy water glad found \n",
      "실제 요약문 : older and getting \n",
      "예측 요약문 :  delicious\n",
      "\n",
      "\n",
      "원문 :  product works perfect clip easily fits pocket easy load use cap stays fall others nothing negative say product different styles made company used one works great actually buying another one \n",
      "실제 요약문 : what more can you for \n",
      "예측 요약문 :  great product\n",
      "\n",
      "\n",
      "원문 :  excellent coffee looking decaffeinated type tassimo coffee maker gevalia excellent reputation based built upon outstanding coffee service quality coffee also choices types coffee one might prefer one would recommend without doubt give try \n",
      "실제 요약문 : tassimo gevalia coffee review \n",
      "예측 요약문 :  great coffee\n",
      "\n",
      "\n",
      "원문 :  product great daughter extremely pick loves also gluten free actually bad calories per serving great dish take thanksgiving dinner \n",
      "실제 요약문 : awesome corn cake \n",
      "예측 요약문 :  great for kids\n",
      "\n",
      "\n",
      "원문 :  best flavor hard find stores love \n",
      "실제 요약문 : raspberry gum \n",
      "예측 요약문 :  best honey ever\n",
      "\n",
      "\n",
      "원문 :  popcorn stale tasted like plastic expiration date months old cannot return throw away disappointing buy popcorn \n",
      "실제 요약문 : stale popcorn \n",
      "예측 요약문 :  stale\n",
      "\n",
      "\n",
      "원문 :  good chips asian sweet spicy sweet spicy salty perfectly balanced seasoning received fresh packages like thicker cut potato chips especially kettle cooked deter ordering \n",
      "실제 요약문 : great tasting just wish they were cut \n",
      "예측 요약문 :  good but not great\n",
      "\n",
      "\n",
      "원문 :  months use daily easy clean easy fill easy use love experienced problems yet makes awesome espresso every time steamer works great \n",
      "실제 요약문 : love this machine \n",
      "예측 요약문 :  love this product\n",
      "\n",
      "\n",
      "원문 :  product came good condition dog loves stuff lasts longer put small amount kong freeze overnight \n",
      "실제 요약문 : kong real peanut butter \n",
      "예측 요약문 :  dog chews\n",
      "\n",
      "\n",
      "원문 :  humans get good stuff love simple organic ingredients treats newman wonderful brand regard nice see moved pet foods well treats would say best suited bigger dogs little nervous offer small dogs older dogs fragile teeth jaws give break apart easily seem go well nice able feel good feed dogs \n",
      "실제 요약문 : your \n",
      "예측 요약문 :  my dogs love these\n",
      "\n",
      "\n",
      "원문 :  tasty used years recently added red peppers makes spicy prefer still good \n",
      "실제 요약문 : excellent seasoning \n",
      "예측 요약문 :  great flavor\n",
      "\n",
      "\n",
      "원문 :  bought bucks went subscribe save days later kind disappointing good buy another case really taste good filling would probably substitute meal wanted \n",
      "실제 요약문 : good \n",
      "예측 요약문 :  not bad\n",
      "\n",
      "\n",
      "원문 :  stuff really stinks made sick days using end throwing rest away waste money \n",
      "실제 요약문 : this stuff \n",
      "예측 요약문 :  not bad\n",
      "\n",
      "\n",
      "원문 :  found accidentally searching greenies dental chews dogs husky seems like smoke flavor quite know help joints wanted prevent future problems \n",
      "실제 요약문 : my loves them \n",
      "예측 요약문 :  dog chews\n",
      "\n",
      "\n",
      "원문 :  price certainly right two dog chew treat experience nearly half chews large much thick competitor products always large thick chews need cut half using tin green cow many chews thick use eventually cancelled subscription repeat orders work us \n",
      "실제 요약문 : chews \n",
      "예측 요약문 :  dogs love them\n",
      "\n",
      "\n",
      "원문 :  bought jelly belly collection gift card brought us many days pleasure love way flavor separated give direction mix flavors maximum ideal combinations much fun bring night share colors flavors prove jelly bellies really top line want fun gift give collection want something yummy definite must enjoy \n",
      "실제 요약문 : jelly belly heaven \n",
      "예측 요약문 :  great product\n",
      "\n",
      "\n",
      "원문 :  us bad reactions crap put food shame shame lipton \n",
      "실제 요약문 : sucralose \n",
      "예측 요약문 :  disgusting\n",
      "\n",
      "\n",
      "원문 :  first time done great addition lamb \n",
      "실제 요약문 : great things comes in small packages \n",
      "예측 요약문 :  great product\n",
      "\n",
      "\n",
      "원문 :  like product wish brewer made larger cup size higher priced one good brewer though month want largest mug size advise pay extra money use cup use regular coffee maker mornings cups pricy need shop around best price use see review \n",
      "실제 요약문 : keurig brewer \n",
      "예측 요약문 :  great product\n",
      "\n",
      "\n",
      "원문 :  although packaged sent timely manner sent wrong item ordered hersheys milk chocolate sent hersheys almonds \n",
      "실제 요약문 : sent the wrong item \n",
      "예측 요약문 :  arrived stale\n",
      "\n",
      "\n",
      "원문 :  maxwell house winner filter packs leave home every morning always make one half pot one filter pack every morning get need coffee road convenient prefer fresh brewed coffee bags maxwell house also makes \n",
      "실제 요약문 : maxwell house filter packs \n",
      "예측 요약문 :  love this coffee\n",
      "\n",
      "\n",
      "원문 :  product deserves stars amazon packaging deserves stars amazon ships sturdy books protective packaging delicate biscuits instead getting box six biscuits got box crumbs wish one biscuit even half intact complete waste money complete disappointment buy amazon \n",
      "실제 요약문 : do not buy from amazon \n"
     ]
    },
    {
     "name": "stdout",
     "output_type": "stream",
     "text": [
      "예측 요약문 :  expiration date\n",
      "\n",
      "\n",
      "원문 :  getting hard find discs limited types coffee like gevalia better maxwell house gevalia bitter \n",
      "실제 요약문 : best decaf \n",
      "예측 요약문 :  great coffee\n",
      "\n",
      "\n",
      "원문 :  dogs loved easy break smaller pieces complaints price amazon seemed reasonable compared costs pet stores \n",
      "실제 요약문 : two paws up \n",
      "예측 요약문 :  dogs love them\n",
      "\n",
      "\n",
      "원문 :  kid taste like pasta however go extremely well vegetable stir fry practically negative calories apparently good \n",
      "실제 요약문 : good \n",
      "예측 요약문 :  not as good as other brands\n",
      "\n",
      "\n",
      "원문 :  sorry pass taste test always liked haribo brand gummies brand cut peach flavor gummies wrong type addition sour enough wish company send citric acid add gummies \n",
      "실제 요약문 : near haribo \n",
      "예측 요약문 :  not the best\n",
      "\n",
      "\n",
      "원문 :  think thin great meal sweet sweet enough stop cravings \n",
      "실제 요약문 : think thin \n",
      "예측 요약문 :  yum\n",
      "\n",
      "\n",
      "원문 :  offer well worth working either high pressure sodium metal cost much run cool make little noise others run friendly actually efficient beating even bulbs \n",
      "실제 요약문 : solid \n",
      "예측 요약문 :  love this stuff\n",
      "\n",
      "\n",
      "원문 :  cannot say enough good things absolutely yummy healthy cereal sweet story behind creation love love love love crunch dark chocolate red berries \n",
      "실제 요약문 : love love crunch \n",
      "예측 요약문 :  love these\n",
      "\n",
      "\n",
      "원문 :  dog loves treats happy find amazon look elsewhere next time due fact amazon price almost double sellers \n",
      "실제 요약문 : dog favorite treat \n",
      "예측 요약문 :  my dog loves these\n",
      "\n",
      "\n",
      "원문 :  tried share snack breakfast bars busy always looking easy quick meal quaker oat soft baked bar best ever eaten tried banana nut bread flavor delicious yummy baked fresh kitchen \n",
      "실제 요약문 : delicious quick easy snack \n",
      "예측 요약문 :  love these\n",
      "\n",
      "\n",
      "원문 :  bars good really surprised even better take suggestion heat microwave great breakfast play sports \n",
      "실제 요약문 : yum \n",
      "예측 요약문 :  great tasting\n",
      "\n",
      "\n",
      "원문 :  ordered boxes give customers within week supply great packaging great taste great addition assortment snacks gets five stars look next order \n",
      "실제 요약문 : great healthy snack \n",
      "예측 요약문 :  great for\n",
      "\n",
      "\n",
      "원문 :  keeps son quiet happy like organic gets treat doctor somewhere need keep quiet little \n",
      "실제 요약문 : my son loves them \n",
      "예측 요약문 :  great product\n",
      "\n",
      "\n",
      "원문 :  product exactly expected little costly ship still worth getting \n",
      "실제 요약문 : mini \n",
      "예측 요약문 :  great product\n",
      "\n",
      "\n",
      "원문 :  nice tasting white tea brewing strawberry make sure steep minutes boil water teapot remember add ice cubes cool tea maker temperature supposed degrees favorite far teavana yum \n",
      "실제 요약문 : strawberry delight \n",
      "예측 요약문 :  great tea\n",
      "\n",
      "\n",
      "원문 :  parents loved sweet small put yogurt pancake \n",
      "실제 요약문 : my present \n",
      "예측 요약문 :  love this stuff\n",
      "\n",
      "\n",
      "원문 :  young toddlers loved gerber yogurt melts getting expensive buy many packs every week ended trying thank goodness daughters liked personally tried preferred gerber better little chalky since organic cheaper amazon went route love yogurt make mess require refrigeration easy transport girls love needing snack \n",
      "실제 요약문 : love these \n",
      "예측 요약문 :  my son loves it\n",
      "\n",
      "\n",
      "원문 :  arrived least week late refrigeration upon opening package found warm smelled bit strange would sent back home disposed refund still wondering want sent took long enough \n",
      "실제 요약문 : bad meat \n",
      "예측 요약문 :  not as pictured\n",
      "\n",
      "\n",
      "원문 :  spice lovers real deal one bag far pretty sure hooked gets hotter eat plenty favorite cool beverage around attempting treat helps adverse little pain little pricy check web bulk purchases want \n",
      "실제 요약문 : they got it right \n",
      "예측 요약문 :  delicious\n",
      "\n",
      "\n",
      "원문 :  sweet limited carbonation tastes bit like maraschino syrup used mixed drinks suppose need ingest throw want drink beer trick however cannot say care want cherries buy fruit eat \n",
      "실제 요약문 : tastes like cherry syrup \n",
      "예측 요약문 :  great taste\n",
      "\n",
      "\n",
      "원문 :  chips addicting used buy costco stopped selling bought nice also cause feel guilty eating put anything extra apples much better apple chips see store \n",
      "실제 요약문 : so good \n",
      "예측 요약문 :  best chips ever\n",
      "\n",
      "\n",
      "원문 :  read reviews agree yuban absolutely best coffee cans comes pay local store understand high price \n",
      "실제 요약문 : cost is way too \n",
      "예측 요약문 :  good coffee\n",
      "\n",
      "\n",
      "원문 :  skeptical stop giving dog rawhide health problem sweet potato one things allowed figured would give try likes regular sweet potato cooked mashed ok terribly enthusiastic afraid would absolutely loves take long eat rawhide still pretty substantial \n",
      "실제 요약문 : awesome \n",
      "예측 요약문 :  not good\n",
      "\n",
      "\n",
      "원문 :  finally receive order two weeks delivery sent asking product would arrive never responded food coloring fine real thrilled company \n",
      "실제 요약문 : product okay customer service not good \n",
      "예측 요약문 :  great product\n",
      "\n",
      "\n",
      "원문 :  delicious normally like flavor coffee chocolate found coffee flavor tried many brands canned bottled coffee drinks one good drink wonderful afternoon pick per instructions shake would recommend drink iced coffee drinker \n",
      "실제 요약문 : illy issimo coffee drink \n",
      "예측 요약문 :  great coffee\n",
      "\n",
      "\n",
      "원문 :  brownies tasty easy make use brownie pan come perfect every time wish made bigger batch last long house family members gluten free diet really like brownies glad buy bulk amazon along gluten free groceries \n",
      "실제 요약문 : really tasty \n",
      "예측 요약문 :  great brownies\n",
      "\n",
      "\n",
      "원문 :  used buy local health food store stopped carrying thrilled found wal mart stopped stocking dry kibble carry newman doggie mush cans could believe found amazon really sell everything shih like get sick like periodically non organic still expensive vet recommended brands \n",
      "실제 요약문 : dogs like it love that amazon it \n",
      "예측 요약문 :  great product\n",
      "\n",
      "\n",
      "원문 :  used french market coffee quite years ordered regular basis bought locally well offered automatic shipment option thought way go lines grocery store second shipment notified could change order drop great service great coffee great option \n",
      "실제 요약문 : why pay more \n",
      "예측 요약문 :  great deal\n",
      "\n",
      "\n",
      "원문 :  dog loved first hour later plastic bottle cracked maybe toy kept indoors \n",
      "실제 요약문 : waste of money \n",
      "예측 요약문 :  not for my dog\n",
      "\n",
      "\n",
      "원문 :  really nice sweet malt floral citrus salt honey character velvety smooth mouth feel wonderful oily short finish excellent high quality cheeses italian meats dinner \n",
      "실제 요약문 : wonderful \n",
      "예측 요약문 :  delicious\n",
      "\n",
      "\n",
      "원문 :  found airport although priced thought expensive decided go ahead try mild taste spearmint goes away quickly leaves feeling good breath however spearmint something enjoy tasting outside gum going try chocolate flavor \n",
      "실제 요약문 : tasty \n",
      "예측 요약문 :  not the best\n",
      "\n",
      "\n",
      "원문 :  bought dried blueberries never like texture waxy bitter aftertaste hope costco goes back previous dried blueberry supplier \n",
      "실제 요약문 : blueberries yuck \n",
      "예측 요약문 :  not my favorite\n",
      "\n",
      "\n",
      "원문 :  flavor exactly like diet dr pepper certainly bad actually pretty good heck lot better diet dr pepper knock like pretty much sodastream syrup flavors favor buy assorted size pack sodastream soda maker come one already way get get good idea personally like two people alike taste preferences \n",
      "실제 요약문 : better than most diet dr pepper \n",
      "예측 요약문 :  not what expected\n",
      "\n",
      "\n",
      "원문 :  tried different oatmeal started eating healthy first time ever oatmeal tastes great straight box whereas organic oatmeal get stores tastes dusty milk water get regret \n",
      "실제 요약문 : better than organic \n",
      "예측 요약문 :  great for breakfast\n",
      "\n",
      "\n",
      "원문 :  like simply organic spices clean good quality turmeric powerful antioxidant added anything rice dishes etc \n",
      "실제 요약문 : no complaints \n",
      "예측 요약문 :  great product\n",
      "\n",
      "\n",
      "원문 :  first time tried thought wow quickly found darn spicy tart hard enjoy potato mouth \n",
      "실제 요약문 : an potato chip \n",
      "예측 요약문 :  best ever\n",
      "\n",
      "\n",
      "원문 :  good dog treat loves favorite older dogs teeth enjoy \n",
      "실제 요약문 : jerky naturals dog treats lamb oz \n",
      "예측 요약문 :  great treats\n",
      "\n",
      "\n",
      "원문 :  ok admit would never know around longer grandparents first um yum chocoholic loved rich dark chocolate enough marshmallow cookie perfect dry crumbly packaged well even though box dented arrived none cookies damaged tasted fresh \n",
      "실제 요약문 : love these \n",
      "예측 요약문 :  chocolate\n",
      "\n",
      "\n",
      "원문 :  never tasted cajun coffee must taste like coffee beyond strong like shots espresso dark roast smells whole house like perfect ground taste bitter strong \n",
      "실제 요약문 : coffee \n",
      "예측 요약문 :  not my favorite\n",
      "\n",
      "\n",
      "원문 :  first ordered try purchasing recipes using sounded something different ordered amazon cannot find area sweet rice cooking wine lot limit ordering amazon ever since love cook love product \n",
      "실제 요약문 : wonderful \n"
     ]
    },
    {
     "name": "stdout",
     "output_type": "stream",
     "text": [
      "예측 요약문 :  hard to find\n",
      "\n",
      "\n",
      "원문 :  ordering dip mix many years dip mix spicy vegetable dip desert top dips purchased \n",
      "실제 요약문 : one great dip \n",
      "예측 요약문 :  best ever\n",
      "\n",
      "\n",
      "원문 :  never tried himalayan salt really like think strong normal white table salt tastier continue buy \n",
      "실제 요약문 : good salt \n",
      "예측 요약문 :  salt\n",
      "\n",
      "\n",
      "원문 :  hard find tomato powder reasonably priced little tomato paste sauce requires cook somehow store extra unused portion \n",
      "실제 요약문 : at last priced powder \n",
      "예측 요약문 :  great product\n",
      "\n",
      "\n",
      "원문 :  product makes coffee making quick easy put coffee packs pot need filters measuring unfortunately many supermarkets stopped carrying \n",
      "실제 요약문 : maxwell house decaffeinated filter packs \n",
      "예측 요약문 :  great coffee\n",
      "\n",
      "\n",
      "원문 :  size consistency grind really quite good level saltiness expected dispensing worked well made easy control sprinkle product size package perfect small household use table negative bar code sticker completely covered ingredient nutrition information way know actual sodium content additives think sloppy amazon product code sticker \n",
      "실제 요약문 : great grind and salty flavor \n",
      "예측 요약문 :  great product\n",
      "\n",
      "\n",
      "원문 :  enjoyable english breakfast tea included celestial seasonings cups tea sampler cups bought use keurig elite gourmet single cup home brewing system rich traditional tasting tea works well small large cup brew sizes highly recommended cfh \n",
      "실제 요약문 : good morning tea highly recommended \n",
      "예측 요약문 :  great tea\n",
      "\n",
      "\n",
      "원문 :  black walnut extract difficult find option work recipes understand artifical even though product description says black walnut extract pure ingredient label lists water artificial flavor caramel color citric acid sodium contains \n",
      "실제 요약문 : artificial extract not pure \n",
      "예측 요약문 :  not as good as the original\n",
      "\n",
      "\n",
      "원문 :  food loved easy take us go road trips \n",
      "실제 요약문 : great food \n",
      "예측 요약문 :  my baby loves this food\n",
      "\n",
      "\n",
      "원문 :  love product ive tried several different options one best unlike people cups strong make however want husband use cups products ive tried dont filter good enough one like able throw away im done little pricey mostly shipping costs worth \n",
      "실제 요약문 : love this product \n",
      "예측 요약문 :  great coffee\n",
      "\n",
      "\n",
      "원문 :  like soda made fruit juice misleading pomegranate also apple white grape pineapple lemon cranberry last list pomegranate like sweet soda probably like since tart surprised tart good fizz calories per cans oz smaller types refreshing would recommend soda since healthy alternative types soda \n",
      "실제 요약문 : nice change \n",
      "예측 요약문 :  not bad\n",
      "\n",
      "\n",
      "원문 :  excellent price good coffee enjoy leave little fine grounds bottom though \n",
      "실제 요약문 : very good coffee \n",
      "예측 요약문 :  great coffee\n",
      "\n",
      "\n",
      "원문 :  came timely manner pleased order comments comments comments comments \n",
      "실제 요약문 : ring pops \n",
      "예측 요약문 :  great service\n",
      "\n",
      "\n",
      "원문 :  originally bought year old mind yummy eat great healthy snack travels well \n",
      "실제 요약문 : amazing and addictive \n",
      "예측 요약문 :  great snack\n",
      "\n",
      "\n",
      "원문 :  ordered chips really loved past reason last order tasted horrible stale really considering whether order \n",
      "실제 요약문 : taste really stale \n",
      "예측 요약문 :  stale\n",
      "\n",
      "\n",
      "원문 :  meal easy make kids liked however broccoli portion made green sure dried broccoli look appetizing cooked using broccoli contained suggest others use real broccoli overall product okay rush think cooking regular pasta simply adding cheese fresh broccoli chicken yield better healthier tastier results \n",
      "실제 요약문 : easy to make good for quick fix \n",
      "예측 요약문 :  not bad\n",
      "\n",
      "\n",
      "원문 :  nothing strong clove flavor tea better chai teas subtle flavoring yogi brand good one love clove tea unfortunately \n",
      "실제 요약문 : too much \n",
      "예측 요약문 :  not good\n",
      "\n",
      "\n",
      "원문 :  husband makes really healthy pizza dough one ingredients good \n",
      "실제 요약문 : add to pizza \n",
      "예측 요약문 :  great product\n",
      "\n",
      "\n",
      "원문 :  hard find flavor husband loves rec order fast product perfect nd time ordering continue husband eats like candy know thats good bad know loves breath always smells great \n",
      "실제 요약문 : love \n",
      "예측 요약문 :  love this product\n",
      "\n",
      "\n",
      "원문 :  using coffee since simply best canned greek coffee side mediterranean certain shipping charge costs coffee less pound shipping reflect weight special handling required \n",
      "실제 요약문 : the best greek coffee in the usa \n",
      "예측 요약문 :  great coffee\n",
      "\n",
      "\n",
      "원문 :  rice tastes great convenient get lot price live area get japanese rice deal like load since brown rice little goes long way last half year \n",
      "실제 요약문 : love this rice \n",
      "예측 요약문 :  rice\n",
      "\n",
      "\n",
      "원문 :  found dog food online could believe beef fillers hard beat pet food guys love food nice know filled junk highly recommend food \n",
      "실제 요약문 : best for pets \n",
      "예측 요약문 :  my dog loves this food\n",
      "\n",
      "\n",
      "원문 :  sure happened product seem tasting beer nut product used get \n",
      "실제 요약문 : beer nuts \n",
      "예측 요약문 :  not\n",
      "\n",
      "\n",
      "원문 :  nice selection cups staff enjoyed arrived timely manner good condition would purchase thank \n",
      "실제 요약문 : crazy cups tea sampler for keurig review \n",
      "예측 요약문 :  great coffee\n",
      "\n",
      "\n",
      "원문 :  get past bag opening rinsing part good find miracle noodle brand seems least stinky compared many noodles tried rinse good seconds cold water cook something flavorful minutes get stink smell gone got zero calorie noodles taste like whatever cooked \n",
      "실제 요약문 : you either love them or hate them \n",
      "예측 요약문 :  miracle noodles\n",
      "\n",
      "\n",
      "원문 :  two year old loves pouches sheen eating since started solids ill continue buy want anymore healthy great huge variety \n",
      "실제 요약문 : love love love \n",
      "예측 요약문 :  great for my son\n",
      "\n",
      "\n",
      "원문 :  got bottle chocolate pump gift worked great first quit pumping chocolate bottle still full syrup realized pump way bottle really enough really run ghirardelli passes decent product nothing short remarkable company heads would roll \n",
      "실제 요약문 : terrible who this \n",
      "예측 요약문 :  not so good\n",
      "\n",
      "\n",
      "원문 :  used different brands bugs high area frequent product leading brand got bites noticed kept army bugs bay buy rating \n",
      "실제 요약문 : great \n",
      "예측 요약문 :  plant\n",
      "\n",
      "\n",
      "원문 :  spicy ridiculously great flavor goes particularly well notoriously hard get united states cannot pick grocery store looking unique flavor spice simple mexican food would highly recommend almost every trip make mexico come back least one bottle salsa \n",
      "실제 요약문 : one of my favorite \n",
      "예측 요약문 :  best hot sauce\n",
      "\n",
      "\n",
      "원문 :  love coffee used folgers coffee many years one black silk best yet \n",
      "실제 요약문 : this coffee \n",
      "예측 요약문 :  great coffee\n",
      "\n",
      "\n",
      "원문 :  family loves gummy frogs fresh soft open bag even time go stale finish long price fabulous automatic delivery every months highly recommended \n",
      "실제 요약문 : yummy \n",
      "예측 요약문 :  love these\n",
      "\n",
      "\n",
      "원문 :  bought candies use gingerbread house windows looking clear yellow candy replace lemon jolly ranchers cannot find anymore candy arrived quickly exactly looking tasted great order \n",
      "실제 요약문 : these are great \n",
      "예측 요약문 :  great candy\n",
      "\n",
      "\n",
      "원문 :  good product tried another brand got instructions foreign language weird taste amore good \n",
      "실제 요약문 : italian tomato paste \n",
      "예측 요약문 :  not bad\n",
      "\n",
      "\n",
      "원문 :  love product came container read part sold inside seal seem sealed opened lid product apparently perfectly fine delicious \n",
      "실제 요약문 : delicious but \n",
      "예측 요약문 :  not what was hoping for\n",
      "\n",
      "\n",
      "원문 :  bought product convenience take anywhere price great taste pretty bland definitely full eating taste expected try \n",
      "실제 요약문 : tastes ok \n",
      "예측 요약문 :  good product\n",
      "\n",
      "\n",
      "원문 :  okay best tasting blended paste ingredients prefer chocolate coconut much better consistency taste \n",
      "실제 요약문 : not the best \n",
      "예측 요약문 :  not the greatest\n",
      "\n",
      "\n",
      "원문 :  candy company provided book issue heat took care timely manner strongly recommend business need always promote company puts service customer satisfaction priority \n",
      "실제 요약문 : is great vendor \n",
      "예측 요약문 :  great product\n",
      "\n",
      "\n",
      "원문 :  bought product said fat received today label says really wasted money amazon automatically refund anyone bought even send back rip \n",
      "실제 요약문 : on line \n",
      "예측 요약문 :  not as pictured\n",
      "\n",
      "\n",
      "원문 :  always like alba brand products standpoint use plant based ingredients far better skin expensive brands found like one needs use peas size face bit oily overall good product use right make use washing face jar last quite awhile appreciate pleasant smell overwhelming fragrance like facial creams \n",
      "실제 요약문 : cream \n",
      "예측 요약문 :  great product\n",
      "\n",
      "\n",
      "원문 :  good ingredients pet fillers shepherd love natural balance food highly recommended food \n",
      "실제 요약문 : top quality food \n",
      "예측 요약문 :  great food\n",
      "\n",
      "\n",
      "원문 :  get stuff wished sold local stores ordered one day seems like got next \n",
      "실제 요약문 : pudding mix \n"
     ]
    },
    {
     "name": "stdout",
     "output_type": "stream",
     "text": [
      "예측 요약문 :  great product\n",
      "\n",
      "\n",
      "원문 :  ordered product another item barry farm thru amazon ordered product stated item stock two weeks emailed asking status order emails never answered cancelled order thru amazon never received info barry farm order shipped appears stock understand buyer never barry farm \n",
      "실제 요약문 : stay away from \n",
      "예측 요약문 :  great product but\n",
      "\n",
      "\n",
      "원문 :  cannot beat convenience tea strong enough get double volume one keurig cup \n",
      "실제 요약문 : favorite tea available for my keurig \n",
      "예측 요약문 :  great tea\n",
      "\n",
      "\n",
      "원문 :  limited selection decaffeinated coffees espresso machines lavazza good non decaf selection lavazza best decaf espresso able find wife likes late make friend liked americano \n",
      "실제 요약문 : good espresso coffee \n",
      "예측 요약문 :  decaf decaf\n",
      "\n",
      "\n",
      "원문 :  stash decent brand tea got number varieties house use loose leaf tendency sometimes get loose leaf teeny tiny powder bits actually tell one time plant got good mild flavour right near bedtime \n",
      "실제 요약문 : quality teas at reasonable prices \n",
      "예측 요약문 :  tea\n",
      "\n",
      "\n",
      "원문 :  excellent coffee also expensive afford pay pound highly recommend price steep coffees fine fine stuff sure fine \n",
      "실제 요약문 : excellent coffee \n",
      "예측 요약문 :  good coffee\n",
      "\n",
      "\n",
      "원문 :  coffee packaged well great full fresh flavor received package due date twenty \n",
      "실제 요약문 : great full flavor \n",
      "예측 요약문 :  great coffee\n",
      "\n",
      "\n",
      "원문 :  love al dente texture wonderful soup mix spicy expect find pieces kimchi though wonderful flavor good portion definitely beats brands instant noodles \n",
      "실제 요약문 : yummy hearty noodles \n",
      "예측 요약문 :  great sauce\n",
      "\n",
      "\n",
      "원문 :  first read ingredients crazy words cannot pronounce means natural got peanut butter treats two children husky shepherd lab shepherd mix cannot get enough plus amazon great value oz beats petsmart sure looking zuke products discovered thanks zuke \n",
      "실제 요약문 : my dogs love the peanut butter \n",
      "예측 요약문 :  my dog loves these\n",
      "\n",
      "\n",
      "원문 :  exactly sure whether really hairball issue short hair russian blue rarely mixed medium hair quite frequently regardless treat nevertheless cats love greatly always rushing whenever grab \n",
      "실제 요약문 : my cats love it \n",
      "예측 요약문 :  great for cats with sensitive stomachs\n",
      "\n",
      "\n",
      "원문 :  purchased types blue diamond almonds day around pack one one oz container assumed least containers since cost \n",
      "실제 요약문 : you are only getting one container \n",
      "예측 요약문 :  almonds\n",
      "\n",
      "\n",
      "원문 :  two love treats well packaged little big large break half large medium size dog would fine may need take hammer smaller dogs break pieces sure come smaller size really like used organic products organic freak notice taste freshness difference organic food dogs deserve \n",
      "실제 요약문 : what can say dogs love these \n",
      "예측 요약문 :  not for my dogs\n",
      "\n",
      "\n",
      "원문 :  would even think buying product unless know price per unit compare items online store \n",
      "실제 요약문 : what quantity is it \n",
      "예측 요약문 :  price\n",
      "\n",
      "\n",
      "원문 :  usually rotate several brands moist dog food keep breakfast interesting product wonderful hand dog loves moist food normally stock plan away friend tends pet extremely quick easy tear empty toss individual packets glad amazon sells since many grocers seem offer individual packets \n",
      "실제 요약문 : handy \n",
      "예측 요약문 :  great dog food\n",
      "\n",
      "\n",
      "원문 :  product solid well made nothing slow fast eater even seem notice rounded center portion \n",
      "실제 요약문 : slow feed bowl not so slow \n",
      "예측 요약문 :  not for me\n",
      "\n",
      "\n",
      "원문 :  soon seller contacted part order missing took care within two days must follow directions package perfect sprouts great intend purchase \n",
      "실제 요약문 : the directions \n",
      "예측 요약문 :  great product\n",
      "\n",
      "\n",
      "원문 :  wanted try coconut water heard healthy cannot stand smell hold nose drink water taste okay would buy anymore \n",
      "실제 요약문 : coconut water \n",
      "예측 요약문 :  not bad\n",
      "\n",
      "\n",
      "원문 :  cannot say great taste akita pup seems like lot break piece use training price amazon great plus opted free shipping \n",
      "실제 요약문 : great training treats \n",
      "예측 요약문 :  my dogs love these\n",
      "\n",
      "\n",
      "원문 :  illy coffee drink taste like espresso feels aftertaste perhaps beet sugar minimal ingredients long time spends way glad tried least tastes like coffee product compared cappuccino replace iced coffee want coffee hot day \n",
      "실제 요약문 : coffee taste \n",
      "예측 요약문 :  illy issimo coffee drink\n",
      "\n",
      "\n",
      "원문 :  used shake bake years curious see product years admit pleasantly surprised light flavoring tasty overpower flavor pork using coating kept meat juicy easy use like name product says shake coating bake easy use tastes good get better \n",
      "실제 요약문 : tasty and easy \n",
      "예측 요약문 :  great for everything\n",
      "\n",
      "\n",
      "원문 :  excellent chips enjoyed larger bags happy find affordable smaller bags good easily eat whole bag buy big bag arrived fast fresh also love gluten free able recommend nephew \n",
      "실제 요약문 : excellent chips \n",
      "예측 요약문 :  love these\n",
      "\n",
      "\n",
      "원문 :  looked place purchase flatbread crackers could find locally went amazon excited find placed order boxes received opened first box crackers crumbs second box opening six boxes found flatbread crackers whole would never order \n",
      "실제 요약문 : crumbs \n",
      "예측 요약문 :  broken cookies\n",
      "\n",
      "\n",
      "원문 :  stroganoff robust flavor little help help make good meal made meat base would probably help flavor added cauliflower kale parmesan cajun spices turned pretty darn good creations turned decent well \n",
      "실제 요약문 : decent meal starter \n",
      "예측 요약문 :  great taste\n",
      "\n",
      "\n",
      "원문 :  opinion st dalfour best brand tea love organic english breakfast tea makes excellent iced tea \n",
      "실제 요약문 : best tea ever \n",
      "예측 요약문 :  love this tea\n",
      "\n",
      "\n",
      "원문 :  like idea carbonated fruit juice sure going like although fan black cherry soda expecting something little different generally think black cherry expect something little bite regular cherry tasted like concoction juices little cherry side still good healthy alternative soda \n",
      "실제 요약문 : very good \n",
      "예측 요약문 :  not bad\n",
      "\n",
      "\n",
      "원문 :  absolutely delicious perfect sized empty young couple never found type flavor instant potato \n",
      "실제 요약문 : quite surprise \n",
      "예측 요약문 :  love this stuff\n",
      "\n",
      "\n",
      "원문 :  love product concentrated flavors pack punch however disappointed flavor chai really taste like chai tea still search perfect chai tea concentrate flavors great favorite gingerbread \n",
      "실제 요약문 : chai is so so \n",
      "예측 요약문 :  great chai tea\n",
      "\n",
      "\n",
      "원문 :  fog chaser tastiest full bodied coffee maker love coffee husband calls day coffee truly fog away \n",
      "실제 요약문 : this is my absolute favorite coffee \n",
      "예측 요약문 :  great coffee\n",
      "\n",
      "\n",
      "원문 :  note bought grocery store think problem stale product reviewers however bought brand emerald seasoned brand vastly prefer version walnuts unbelievably tasty going try order amazon soon hopefully problem initial reaction wow taste great \n",
      "실제 요약문 : tastiest walnuts ever \n",
      "예측 요약문 :  not as good as the original\n",
      "\n",
      "\n",
      "원문 :  watt microwave cooked bags got right like soft light puffy hard crunchy try min hard pebbles light fluffy totally want full power minutes thank \n",
      "실제 요약문 : too good to be true \n",
      "예측 요약문 :  yummy\n",
      "\n",
      "\n",
      "원문 :  use running husband uses long bike rides easy carry taste good highly recommend \n",
      "실제 요약문 : love these \n",
      "예측 요약문 :  great product\n",
      "\n",
      "\n",
      "원문 :  though live miami quite hot humid chocolates arrived well packed melt without comparing godiva simply best chocolates market disappointed \n",
      "실제 요약문 : great belgian chocolates \n",
      "예측 요약문 :  best ever\n",
      "\n",
      "\n",
      "원문 :  ordering peppers arrived much earlier expected opened package could smell amount win peppers perhaps heat tolerance bit high burned minutes regardless pack little bit punch definitely buying supplier need dried ghost peppers \n",
      "실제 요약문 : dried ghost chili peppers \n",
      "예측 요약문 :  great product\n",
      "\n",
      "\n",
      "원문 :  love food love food easy take road trips like taste also makes great meal go \n",
      "실제 요약문 : great food for \n",
      "예측 요약문 :  baby food\n",
      "\n",
      "\n",
      "원문 :  ordered seeds grow animals packaged arrived terrible shape seeds spilling everywhere sure much volume lost trip seeds directed easy germination rate good grass nice cats love also gave neighbor also loved product good need better packaging thin plastic bag mail envelope way go \n",
      "실제 요약문 : seeds are good packaging was bad \n",
      "예측 요약문 :  good but not great\n",
      "\n",
      "\n",
      "원문 :  granola best market used carried grocery store california dropped june searched internet found amazon able enjoy delicious granola regards \n",
      "실제 요약문 : delicious granola \n",
      "예측 요약문 :  delicious\n",
      "\n",
      "\n",
      "원문 :  good veggie supplement dogs love helps one fussy puppy eat main meal would buy recommend item \n",
      "실제 요약문 : helps dogs get there veggies \n",
      "예측 요약문 :  my dogs love it\n",
      "\n",
      "\n",
      "원문 :  twizzlers much better individually wrapped product hits nail head ships fast stores great anywhere house really nice get craving red rope like candy \n",
      "실제 요약문 : is the best \n",
      "예측 요약문 :  best ever\n",
      "\n",
      "\n",
      "원문 :  bigelow winner strong overpowering mint taste black tea strong bitter unsure want buy bulk yet strongly suggest grabbing box grocery store \n",
      "실제 요약문 : extremely delicious \n"
     ]
    },
    {
     "name": "stdout",
     "output_type": "stream",
     "text": [
      "예측 요약문 :  great taste\n",
      "\n",
      "\n",
      "원문 :  know know real restaurants upon cannot even get least around live consider like cheap condiment real steak sauce like got tad zing goes much meat add heat want stir want say sauce way want quantity size bottles way go compares supermarket prices given tax shipping \n",
      "실제 요약문 : heinz still great \n",
      "예측 요약문 :  best ramen ever\n",
      "\n",
      "\n",
      "원문 :  ginger ale made ginger idea except made celery quite ginger ale quite sprite something might little odd first time addictive acquired taste bad make diet version anymore one tasted regular \n",
      "실제 요약문 : something different \n",
      "예측 요약문 :  ginger ginger\n",
      "\n",
      "\n",
      "원문 :  first time trying matcha unsure would like surprise purchased brand great reviews glad \n",
      "실제 요약문 : great \n",
      "예측 요약문 :  great taste\n",
      "\n",
      "\n",
      "원문 :  two three kids liked drink tasted disliked flavor could taste banana like banana bit much \n",
      "실제 요약문 : it is ok \n",
      "예측 요약문 :  good but not great\n",
      "\n",
      "\n",
      "원문 :  actually surprised tasted like real deal sweet first couple hundred chews taste crust whip cream minutes still flavor hour still flavor love also get tangy effect lime strong pleasurable \n",
      "실제 요약문 : amazing \n",
      "예측 요약문 :  not bad\n",
      "\n",
      "\n",
      "원문 :  shampoo supposed nourish hair use smells good thick clean make hair dry one problem way shipped leaked envelope plastic bag wasted half bottle \n",
      "실제 요약문 : shampoo \n",
      "예측 요약문 :  not for me\n",
      "\n",
      "\n",
      "원문 :  love chips lower fat better taste chips price right case price \n",
      "실제 요약문 : super yummy \n",
      "예측 요약문 :  great chips\n",
      "\n",
      "\n",
      "원문 :  love tea green tea tastes bitter love additions spearmint lemongrass \n",
      "실제 요약문 : wonderful tea \n",
      "예측 요약문 :  best tea ever\n",
      "\n",
      "\n",
      "원문 :  jerky extremely addictive every brand jerky far best jerky ever originally king jerky \n",
      "실제 요약문 : the best \n",
      "예측 요약문 :  great tasting\n",
      "\n",
      "\n",
      "원문 :  smell first get opening container pungent make go spread buttered toast whole different story deep nutty fishy flavor use much \n",
      "실제 요약문 : amazing for the few who will enjoy it \n",
      "예측 요약문 :  delicious\n",
      "\n",
      "\n",
      "원문 :  tryed gravy mixes nothing compares others flavor since cannot buy stores town continue order amazon \n",
      "실제 요약문 : awesome \n",
      "예측 요약문 :  best pancakes ever\n",
      "\n",
      "\n",
      "원문 :  shocked quickly received order could believe good brings back many memories childhood italian family sitting around table eating beans oregano red pepper salt always rinse couple time bottled juice could wait hours pass \n",
      "실제 요약문 : outstanding quality \n",
      "예측 요약문 :  great product\n",
      "\n",
      "\n",
      "원문 :  dog second doctor suggested grain free cooked diet years initial diagnosis people cannot believe age ever sick product arrives consistently well packed quality food consistent admit dog healthier diet \n",
      "실제 요약문 : the best thing have done for my dog \n",
      "예측 요약문 :  my dog loves these\n",
      "\n",
      "\n",
      "원문 :  best chips eaten popped instead fried baked makes easier weight love love \n",
      "실제 요약문 : pop chips original chips \n",
      "예측 요약문 :  best chips ever\n",
      "\n",
      "\n",
      "원문 :  placed around house several days setup fly trap literally watched flies avoid trap days excited see one lil land surface disappointed away paper pressure human finger applied small flies hardly trap \n",
      "실제 요약문 : did not work for me \n",
      "예측 요약문 :  not for me\n",
      "\n",
      "\n",
      "원문 :  candy shown got box flavour waste money time seller \n",
      "실제 요약문 : of money and deceiving seller \n",
      "예측 요약문 :  not as pictured\n",
      "\n",
      "\n",
      "원문 :  great kids love got sale free prime shipping great deal also fresh within expiration \n",
      "실제 요약문 : great \n",
      "예측 요약문 :  great product\n",
      "\n",
      "\n",
      "원문 :  sad stopped producing cereal year round whole family loves happy find amazon arrived yesterday already one box almost gone realize exactly nutritional fare dessert best \n",
      "실제 요약문 : heaven in box \n",
      "예측 요약문 :  love this stuff\n",
      "\n",
      "\n",
      "원문 :  tastes good definately order run good buffalo bills knows make jerky sure \n",
      "실제 요약문 : awesome stuff \n",
      "예측 요약문 :  good stuff\n",
      "\n",
      "\n",
      "원문 :  good sausage seasoning great garlic taste use half recommended seasoning lb mix right great product \n",
      "실제 요약문 : very good seasoning \n",
      "예측 요약문 :  great seasoning\n",
      "\n",
      "\n",
      "원문 :  enjoyed mainstream pouches heavy cans tasted better canned sort jump chicken sea type offering longer great snack lunch plate microwave seconds low quite yummy go back mass market stuff \n",
      "실제 요약문 : better than the market stuff \n",
      "예측 요약문 :  great product\n",
      "\n",
      "\n",
      "원문 :  seemed like good raw hide treats dogs thought pretty good really like like smell makes bit probably see friends want also think bit much raw hide greyhounds agree stomachs think issue rawhides general particular problem product \n",
      "실제 요약문 : did not like the smell \n",
      "예측 요약문 :  my dogs love these\n",
      "\n",
      "\n",
      "원문 :  like many atkins diet needed something could put bag snack keep buying number high carb snacks cheese mini rounds crunchy tasty fill bill get stars pretty pricey small amount bag contains home sliced cheeses microwave get even better crunchy snack \n",
      "실제 요약문 : pleasant \n",
      "예측 요약문 :  great snack\n",
      "\n",
      "\n",
      "원문 :  year old son takes school work thinks great asking buying another case really inexpensive easy way prepare lunch whole lot better fast food \n",
      "실제 요약문 : easy convenient take rice dish \n",
      "예측 요약문 :  great for\n",
      "\n",
      "\n",
      "원문 :  say oreos originals still best get often one two even possible \n",
      "실제 요약문 : yay \n",
      "예측 요약문 :  best ever\n",
      "\n",
      "\n",
      "원문 :  never thought anything could pull away jif stuff actually tastes good okay maybe quite good big less fat calories well worth slight difference \n",
      "실제 요약문 : it is good \n",
      "예측 요약문 :  not bad\n",
      "\n",
      "\n",
      "원문 :  chips good taste usual grams fiber good choice came fresh good shape crushed bags \n",
      "실제 요약문 : grain chips good \n",
      "예측 요약문 :  great chips\n",
      "\n",
      "\n",
      "원문 :  noticed big difference dog weight able maintain weight gaining much weight ate dried dog food white dog get dark eyes eats newman organic dog food highly recommend \n",
      "실제 요약문 : great dog food \n",
      "예측 요약문 :  my dog loves this food\n",
      "\n",
      "\n",
      "원문 :  bought group girls party kits complete pieces intact shipping went together reasonably well could use candy otherwise complaints stated price ridiculous sale price fair also buy similar kit target price less shipping would recommend shopping first \n",
      "실제 요약문 : good kit not worth price \n",
      "예측 요약문 :  great product but overpriced\n",
      "\n",
      "\n",
      "원문 :  knorr products best taste quality price amazon done amazing job providing us packaging incredible awesome deal ways round \n",
      "실제 요약문 : pasta butter \n",
      "예측 요약문 :  best deal\n",
      "\n",
      "\n",
      "원문 :  cashew clusters delicious two three clusters takes care sugar urge best thing feel guilty eating filled great healthy nuts \n",
      "실제 요약문 : pleaser \n",
      "예측 요약문 :  yum yum yum\n",
      "\n",
      "\n",
      "원문 :  beans one healthiest foods eat really low price awesome product thank eden foods \n",
      "실제 요약문 : great product \n",
      "예측 요약문 :  great product\n",
      "\n",
      "\n",
      "원문 :  ordered disposakups several coffees bags left wanted use cups work great quickly figured filter must pushed order lid fit easy load easy dispose \n",
      "실제 요약문 : disposakups work great \n",
      "예측 요약문 :  great product\n",
      "\n",
      "\n",
      "원문 :  chocolate good better give three stars flavor texture one star organic price expected smoother flavor extra dark chocolate much smoother newman tastes like powdered milk \n",
      "실제 요약문 : have had better \n",
      "예측 요약문 :  not bad\n",
      "\n",
      "\n",
      "원문 :  ordered grandma says really good hard find gluten free stuff tastes good says tastes real good \n",
      "실제 요약문 : gluten free \n",
      "예측 요약문 :  good product\n",
      "\n",
      "\n",
      "원문 :  last year tassimo machine made tea coffees greatly lacking instead buy imported german coffees best world use teas best twinings earl grey next best twinings green tea next best awake black tea teas great get good natural north honey put like even \n",
      "실제 요약문 : better tea \n",
      "예측 요약문 :  the best tea ever\n",
      "\n",
      "\n",
      "원문 :  yeah know salt salt like taste salt costly many gourmet salts use make seasoned salts gifts \n",
      "실제 요약문 : yummy \n",
      "예측 요약문 :  best salt ever\n",
      "\n",
      "\n",
      "원문 :  wife big fans keurig cup system mostly fact get consistent tasting cup tea coffee minute saves us minutes per day unnecessary steeping time adds hours year us hours us fall love rich bold flavor decaffeinated english breakfast brew favorite wife pregnancy \n",
      "실제 요약문 : tea time for and her man \n",
      "예측 요약문 :  great variety pack\n",
      "\n",
      "\n",
      "원문 :  oh good cat food ever opened friskies gagged awful smell cat eat cat food smells pretty good simply looks smells like good food kittens made much noise opened gobbled right admit smelled pretty good \n",
      "실제 요약문 : exceptional cat food \n",
      "예측 요약문 :  not for cats\n",
      "\n",
      "\n",
      "원문 :  asian used white jasmine rice brown rice healthier alternative tried product tastes different jasmine rice fills quick another thing like product ready minutes good tasting unlike brown rice tastes like uncooked oatmeal \n",
      "실제 요약문 : yummy \n"
     ]
    },
    {
     "name": "stdout",
     "output_type": "stream",
     "text": [
      "예측 요약문 :  love this rice\n",
      "\n",
      "\n",
      "원문 :  highly recommend first bonsai tree need kit \n",
      "실제 요약문 : bonsai kit \n",
      "예측 요약문 :  great deal\n",
      "\n",
      "\n",
      "원문 :  lady grey favorite tea bit leery decaf version would hold great glad able find delicious tea drink night twinings lady grey decaf tea tea bags count boxes \n",
      "실제 요약문 : no decaf aftertaste \n",
      "예측 요약문 :  great tea\n",
      "\n",
      "\n",
      "원문 :  far best granola bar tried kashi bar chewy really taste fruit nuts grams fiber grams protein whole grains feel like eating something good sugar grams find sweet \n",
      "실제 요약문 : best granola bars from kashi \n",
      "예측 요약문 :  delicious\n",
      "\n",
      "\n",
      "원문 :  find true lemon extremely convenient however packet indicates natural would like assured additional ingredients safe \n",
      "실제 요약문 : convenient but \n",
      "예측 요약문 :  not what expected\n",
      "\n",
      "\n",
      "원문 :  like espresso like chocolate find best world nothing else comes close \n",
      "실제 요약문 : the best in the world \n",
      "예측 요약문 :  not the same as the\n",
      "\n",
      "\n",
      "원문 :  sorry coffee little roasted even thoughts burnt coffee go mind using friends cup coffee \n",
      "실제 요약문 : will not go back to san francisco \n",
      "예측 요약문 :  great coffee\n",
      "\n",
      "\n",
      "원문 :  dog loves venison would love received package says hickory smoked hate hickory smoked dog would know open bag smells like ash tray pretty pricey stinky dog treat please label product better information trying give away far dogs like amazon wonderful work product needs label change \n",
      "실제 요약문 : bad description \n",
      "예측 요약문 :  not for small dogs\n",
      "\n",
      "\n",
      "원문 :  great bargain much better deal get local pet store use special treats dogs everyday thing especially good behavior \n",
      "실제 요약문 : great bargain \n",
      "예측 요약문 :  great product\n",
      "\n",
      "\n",
      "원문 :  bars peanut chocolate chocolate chip best fill good fiber protein content whenever get good deal amazon stock \n",
      "실제 요약문 : we love these bars \n",
      "예측 요약문 :  yummy\n",
      "\n",
      "\n",
      "원문 :  tasted hazelnut coffee hooked coffee drink maxwell house hazelnut favorite brand hard find sometimes stores order amazon try either francisco hazelnut even target market pantry hazelnut brand good \n",
      "실제 요약문 : the best hazelnut coffee \n",
      "예측 요약문 :  best coffee ever\n",
      "\n",
      "\n",
      "원문 :  care good chocolate shipping candy bar total ripoff order pirates \n",
      "실제 요약문 : total ripoff \n",
      "예측 요약문 :  not as good as the\n",
      "\n",
      "\n",
      "원문 :  yr old dairy gluten intolerance mix great alternative easy make taste great wheat free mix use bread anything french toast sandwich etc great good tasting alternative \n",
      "실제 요약문 : good mix \n",
      "예측 요약문 :  delicious\n",
      "\n",
      "\n",
      "원문 :  melitta blend nice light coffee suitable anytime day particularly great drinking night decaffeinated texture nice acidic taste anything meant casual drinkers prefer coffee darker caffine enjoy blend would recommend giving try judge \n",
      "실제 요약문 : great to drink after dinner \n",
      "예측 요약문 :  great coffee\n",
      "\n",
      "\n",
      "원문 :  like espresso probably like coffee taste strong bold mildly sweetened one contains calories mg caffeine yikes lot caffeine like coffee strong drinking fyi product \n",
      "실제 요약문 : packs strong punch \n",
      "예측 요약문 :  not good\n",
      "\n",
      "\n",
      "원문 :  really got flavors right accompany green tea slightly sweet slightly spicy aromatic plain delicious like fruit teas highly recommend one \n",
      "실제 요약문 : really delicious fruit blend tea \n",
      "예측 요약문 :  great tea\n",
      "\n",
      "\n",
      "원문 :  coconut oil wonderful product price point get fairly good quality oil scent natural light oil skin leaving soft delivery prompt wonderful product shopping experience highly recommended \n",
      "실제 요약문 : great product \n",
      "예측 요약문 :  great product\n",
      "\n",
      "\n",
      "원문 :  done master cleanse several times last time used grade syrup instead buying local health food store save money tastes great health problems last times done cleanse felt really bad assume quality syrup mention order give honest review said tastes great assume inferior \n",
      "실제 요약문 : great stuff \n",
      "예측 요약문 :  great product but price\n",
      "\n",
      "\n",
      "원문 :  found search gluten free foods gf \n",
      "실제 요약문 : not gluten free \n",
      "예측 요약문 :  gluten free pizza crust\n",
      "\n",
      "\n",
      "원문 :  bought trying drink less soda gives soda ish appeal without sugar fact little tart bother hope helps \n",
      "실제 요약문 : healthier than soda \n",
      "예측 요약문 :  not too strong\n",
      "\n",
      "\n",
      "원문 :  fan ghirardelli triple chocolate brownie mix long time also like ghirardelli chocolate candy came across chocolate mocha hot cocoa mix wanted give try cause love cocoa coffee glad bought stuff delicious love combination chocolate coffee coffee subtle definitely overpowering rich flavorful bold others pointed best mix buy impressed \n",
      "실제 요약문 : simply delicious \n",
      "예측 요약문 :  best chocolate ever\n",
      "\n",
      "\n",
      "원문 :  took dogs little warm sure enjoy noticed digestive difference though good size small dogs \n",
      "실제 요약문 : the dogs love them \n",
      "예측 요약문 :  dogs love them\n",
      "\n",
      "\n",
      "원문 :  updated bought bulk pack cents expensive first time signed amazon subscription takes automatically ordering every months found reasonable original review buy cheaper also less sugar since whole grain \n",
      "실제 요약문 : best damn rice in the world \n",
      "예측 요약문 :  great product\n",
      "\n",
      "\n",
      "원문 :  usually drink decaf health reasons found coffee robust flavor without bitter prefer coffee taste close coffee ice cream possible coffee came pretty close ideal added cream sugar friend drinks black also liked much stomach issues either us \n",
      "실제 요약문 : good coffee \n",
      "예측 요약문 :  good decaf coffee\n",
      "\n",
      "\n",
      "원문 :  two kitties love stuff buying case makes cost reasonable feed high quality food older girl sometimes needs heated microwave extra water added eat also sometimes add pieces kibble mix give lick would happen wet food gave stars latest purchase many dented cans hope trend amazon part thought \n",
      "실제 요약문 : great product great value \n",
      "예측 요약문 :  my picky eater loves it\n",
      "\n",
      "\n",
      "원문 :  dog cannot get enough food three years practical travel dog really needs drink enough water dog happily drinks water needs thank amazon getting fast \n",
      "실제 요약문 : doggie catnip \n",
      "예측 요약문 :  my dog loves this food\n",
      "\n",
      "\n",
      "원문 :  daughter loves making popcorn way came christmas theme end february expiration date think problem going popcorn time \n",
      "실제 요약문 : fun to make \n",
      "예측 요약문 :  great popcorn\n",
      "\n",
      "\n",
      "원문 :  item buy want classic greek turkish coffee cannot go wrong coffee popular brand \n",
      "실제 요약문 : classic greek coffee \n",
      "예측 요약문 :  coffee pods\n",
      "\n",
      "\n",
      "원문 :  favorite snack right crunchy tangy tiny bit hot altogether delicious even better paired bag pretzels \n",
      "실제 요약문 : amazing almonds \n",
      "예측 요약문 :  love these\n",
      "\n",
      "\n",
      "원문 :  little family three super health nuts even th comes home school wants something warm stomach fix dr soup great product quick wholesome meal \n",
      "실제 요약문 : great for kids \n",
      "예측 요약문 :  great product\n",
      "\n",
      "\n",
      "원문 :  package states product match tea yet matcha tea loose tea leaf blend tea quite tasty looking \n",
      "실제 요약문 : not matcha \n",
      "예측 요약문 :  great tea\n",
      "\n",
      "\n",
      "원문 :  chicken gift arrived time well liked fast service good quality \n",
      "실제 요약문 : great quality \n",
      "예측 요약문 :  great service\n",
      "\n",
      "\n",
      "원문 :  love crunchy corn sticks taste like cheetos maybe even better cheetos msg vegan complaint chips salty \n",
      "실제 요약문 : yum \n",
      "예측 요약문 :  not bad\n",
      "\n",
      "\n",
      "원문 :  design pods much better kcups give full bodied rich cup delicious coffee wish flavor options packaging fantastic \n",
      "실제 요약문 : full rich flavor \n",
      "예측 요약문 :  best coffee ever\n",
      "\n",
      "\n",
      "원문 :  good need cheese wish cut much prefer salt pepper cut better texture around brand much better lay good price amazon get free shipping similar tim chips crispy side note hardest bags open hand use knife scissors everytime \n",
      "실제 요약문 : good chips more cheese \n",
      "예측 요약문 :  great taste\n",
      "\n",
      "\n",
      "원문 :  excellent coffee bold bitter taste price way line buy per box count \n",
      "실제 요약문 : excellant coffee price is out of line \n",
      "예측 요약문 :  good coffee\n",
      "\n",
      "\n",
      "원문 :  mind smell similar baby formula ok smell turns stomach unable use although daughter seem mind taste cereal gave friend problems son took well cereal \n",
      "실제 요약문 : ok \n",
      "예측 요약문 :  my baby loves it\n",
      "\n",
      "\n",
      "원문 :  ever since came know whole foods purchasing either store online gum hold long time automatic spit dissolves \n",
      "실제 요약문 : consistently reliable dental gum \n",
      "예측 요약문 :  great product\n",
      "\n",
      "\n",
      "원문 :  stuff pretty close kidney beans mom used make mild terms spicy added green pepper \n",
      "실제 요약문 : authentic indian \n",
      "예측 요약문 :  great flavor\n",
      "\n",
      "\n",
      "원문 :  always liked oregon fruit products consistantly fresh easy cook imagine able order amazon even wonderful great pies \n",
      "실제 요약문 : great \n",
      "예측 요약문 :  love this stuff\n",
      "\n",
      "\n",
      "원문 :  perfect size snacking taking work love kettle brand chips kettle chips salty peppered yum \n",
      "실제 요약문 : great chips \n",
      "예측 요약문 :  great chips\n",
      "\n",
      "\n",
      "원문 :  yum convenience expect cup flavor real hot chocolate kids love \n",
      "실제 요약문 : easy and kids love it \n"
     ]
    },
    {
     "name": "stdout",
     "output_type": "stream",
     "text": [
      "예측 요약문 :  great cocoa\n",
      "\n",
      "\n",
      "원문 :  received package days good gladly opened one pack found smelled tasted like outdated also realized item returnable double disappointment last time buying product \n",
      "실제 요약문 : smell and taste \n",
      "예측 요약문 :  bad product\n",
      "\n",
      "\n",
      "원문 :  family gluten intolerant searched suitable replacement pamela products makes good bread mix tastes good pleasant texture freshly baked complaint crumbles easily days old \n",
      "실제 요약문 : good bread mix \n",
      "예측 요약문 :  great gluten free bread\n",
      "\n",
      "\n",
      "원문 :  quite expected coffee strong like even used bags could tell difference low acid make want go best ever could understand acid coffee brothers cup morning mama keeping regular brand \n",
      "실제 요약문 : not what expected \n",
      "예측 요약문 :  great coffee\n",
      "\n",
      "\n",
      "원문 :  son little foodie months refused eat anything home made food lately started become different meals worried making son balanced meals insert happybaby super salmon oh god loves eats entire package reviewers complained smell yeah smells kind gross fish fish isnt known best odor would definetly recommend \n",
      "실제 요약문 : love love love \n",
      "예측 요약문 :  my son loves these\n",
      "\n",
      "\n",
      "원문 :  received perfect condition dogs love dented cans also bought sweet potatoes love \n",
      "실제 요약문 : dogs love it \n",
      "예측 요약문 :  not happy\n",
      "\n",
      "\n",
      "원문 :  may great product true rice paper ingredients listed tapioca filtered water rice flour etc ingredient real rice paper rice \n",
      "실제 요약문 : not true rice paper \n",
      "예측 요약문 :  good rice\n",
      "\n",
      "\n",
      "원문 :  go pick coffee drink made coca cola company according bottle made arabica coffee coffee much espresso dark strong coffee added sugar tastes palatable \n",
      "실제 요약문 : just okay \n",
      "예측 요약문 :  good coffee\n",
      "\n",
      "\n",
      "원문 :  wow product simply delicious nice texture almost like shredded beef spices flavor right combination smokey salty sweet problem trying stop eating know packed protein low fat calories carb content seems pretty high one strip watch consumption although replaced meal two primal strips lost pounds week exceptional meat alternative snack \n",
      "실제 요약문 : seriously delish \n",
      "예측 요약문 :  good but not great\n",
      "\n",
      "\n",
      "원문 :  sure tea first tried several teas contained licorice sweet however pleasantly light tangy flavor tea sweetness overwhelming certain done much detox certainly like taste especially lunch seems settle stomach help digest \n",
      "실제 요약문 : change \n",
      "예측 요약문 :  very good tea\n",
      "\n",
      "\n",
      "원문 :  second purchase pod world blend decaf flavor good pod biodegradable put end nourishing plants \n",
      "실제 요약문 : yummy \n",
      "예측 요약문 :  great coffee\n",
      "\n",
      "\n",
      "원문 :  tully cups delicious tried several different flavors pleased full bodied taste one favorites kona blend offers satisfying cup coffee time never go back old coffee pots ever \n",
      "실제 요약문 : star coffee \n",
      "예측 요약문 :  best coffee ever\n",
      "\n",
      "\n",
      "원문 :  mediocre health drink price mental thing japan per expensive available course amazon japan per save money buy something local basically drinking curry powder yeah people insane enough believe serious health energy benefits sure price also seems reasonable people \n",
      "실제 요약문 : is amazon serious \n",
      "예측 요약문 :  good value\n",
      "\n",
      "\n",
      "원문 :  yes fabulous hard stop eating serving size tried bunch different varieties think blueberry pomegranate best unfortunately costco carrying anymore least happy purchased online \n",
      "실제 요약문 : on the yummo \n",
      "예측 요약문 :  love these\n",
      "\n",
      "\n",
      "원문 :  due weather conditions hawaii hard find brand cup stores delighted find amazon arrived quickly excellent quality thank much \n",
      "실제 요약문 : tully kona blend coffee \n",
      "예측 요약문 :  great product\n",
      "\n",
      "\n",
      "원문 :  ok gone way price tried dunkin donuts cups sure going back green mountain \n",
      "실제 요약문 : cups \n",
      "예측 요약문 :  not good\n",
      "\n",
      "\n",
      "원문 :  california grew best wheat cereal holds day moved texas could find anywhere say time always find looking amazon searched buying unit pack ever since try disappointed \n",
      "실제 요약문 : good stuff \n",
      "예측 요약문 :  love this stuff\n",
      "\n",
      "\n",
      "원문 :  remarkably difficult find go food free chemical fillers nearly throughout much snack bar industry fabulous fast easy free \n",
      "실제 요약문 : delicious nutritious and all natural \n",
      "예측 요약문 :  love this stuff\n",
      "\n",
      "\n",
      "원문 :  apparently good nephew find original haribo gummi bears candy rural minnesota requested care package wants set auto delivery ordered second time package semi solid block still good cut knife \n",
      "실제 요약문 : excellent \n",
      "예측 요약문 :  gummi bears\n",
      "\n",
      "\n",
      "원문 :  loved item wish could find stores walmart carried item louisiana time travel louisiana sometime find item found item houston area easy prepare great conversation piece one seen purchased item amazon \n",
      "실제 요약문 : ms mac review \n",
      "예측 요약문 :  great product\n",
      "\n",
      "\n",
      "원문 :  product comes natural product always fresh never tasted better licorice life product arrived fast protective box price great purchase another case \n",
      "실제 요약문 : the best \n",
      "예측 요약문 :  great product\n",
      "\n",
      "\n",
      "원문 :  absolutely love nantucket blend bold yet weak either flavor great splash creamer door \n",
      "실제 요약문 : yummy \n",
      "예측 요약문 :  great coffee\n",
      "\n",
      "\n",
      "원문 :  probiotics cereal one great idea twins love cereal \n",
      "실제 요약문 : what great idea \n",
      "예측 요약문 :  great product\n",
      "\n",
      "\n",
      "원문 :  cup tea go us better results good start earths best \n",
      "실제 요약문 : corn syrup and sugar as ingredients \n",
      "예측 요약문 :  great tea\n",
      "\n",
      "\n",
      "원문 :  great snack food helps alot ad yogurt brings flavor extra notch two \n",
      "실제 요약문 : tasty \n",
      "예측 요약문 :  great product\n",
      "\n",
      "\n",
      "원문 :  cats gobble love treat wish morsels little larger would chew like much swallow whole give stars due size since chew help prevent tartar teeth \n",
      "실제 요약문 : they just love this \n",
      "예측 요약문 :  my cats love these\n",
      "\n",
      "\n",
      "원문 :  certain age remember going deli hot dog soda going delighted purchase taste everyone really kind taste like combination ginger ale love stuff cheaper plane ticket back east \n",
      "실제 요약문 : new memories \n",
      "예측 요약문 :  delicious\n",
      "\n",
      "\n",
      "원문 :  recently tried pocket coffee friend brought back italy one best chocolate ever searched brought product amazon extremely disappointed get italy instant maxwell coffee middle hershey chocolate compare real thing \n",
      "실제 요약문 : do not waste your money \n",
      "예측 요약문 :  my favorite cup\n",
      "\n",
      "\n",
      "원문 :  look smell pretty tasty wonder dog loves perfect obedience training hold lot hand one thing though dry pretty quickly dog seem mind salmon chicken seems prefer salmon \n",
      "실제 요약문 : perfect for training \n",
      "예측 요약문 :  great training treats\n",
      "\n",
      "\n",
      "원문 :  love around quick snack extremely low calories high fiber content high fiber content usually leads feeling full quicker go overboard ranch flavor best among \n",
      "실제 요약문 : great healthy snacks \n",
      "예측 요약문 :  healthy and tasty\n",
      "\n",
      "\n",
      "원문 :  picture description pure butter mini shortbread round decided order love bad got package came mini chocolate chip shortbread like \n",
      "실제 요약문 : little bit disapointed \n",
      "예측 요약문 :  not the best\n",
      "\n",
      "\n",
      "원문 :  peanut butter best peanut butter eat refuse kind particularly enjoy skippy reduced fat tad healthier sweeter taste local grocery store longer carries ecstatic see available amazon bulk \n",
      "실제 요약문 : the best \n",
      "예측 요약문 :  peanut butter\n",
      "\n",
      "\n",
      "원문 :  purchased peanut butter treats seems really enjoy drawback dry quickly keep bag sealed \n",
      "실제 요약문 : work like \n",
      "예측 요약문 :  my dogs love these\n",
      "\n",
      "\n",
      "원문 :  looking consistent cup coffee nice flavor one thats robust one may wife subscribed coffee reviewing others opinions price great coffee works well keurig machine id recommend \n",
      "실제 요약문 : great coffee at great price \n",
      "예측 요약문 :  great coffee\n",
      "\n",
      "\n",
      "원문 :  liked first started taste like cardboard like dark chocolate better atkins advantage chocolate chip oatmeal best \n",
      "실제 요약문 : not great \n",
      "예측 요약문 :  not good\n",
      "\n",
      "\n",
      "원문 :  honestly love cup earl grey brand tea comes box dollars see past without cup dispenser keurig machine hot water put tea bag cup press brew cup earl gray go way blow money minute \n",
      "실제 요약문 : if you like fortune for tea \n",
      "예측 요약문 :  great tea\n",
      "\n",
      "\n",
      "원문 :  good taste lil bad maybe lil less hotter ultra death sauces better flavor \n",
      "실제 요약문 : nothing beyond hot sauce \n",
      "예측 요약문 :  not bad\n",
      "\n",
      "\n",
      "원문 :  gluten sensitive individual false sense read simple ingredients amazon info page first homework read labels began consuming ended massive attack wanted let everyone sensitivities allergies avoid product \n",
      "실제 요약문 : warning contains msg and \n",
      "예측 요약문 :  not what was expecting\n",
      "\n",
      "\n",
      "원문 :  great treat meal snacks protein makes filling flavor cures craving think keeping star treat fact advertises meal replacement quite filling enough \n",
      "실제 요약문 : excellent taste but not really meal \n",
      "예측 요약문 :  great snack\n",
      "\n",
      "\n",
      "원문 :  granola outside make appealing flavored rawhide show rawhide granola layer dog getting rest life loves rawhide keeps teeth healthy brainer probably favorite rawhide treat also loves regular busy busy even better \n",
      "실제 요약문 : long lasting dog favorite \n"
     ]
    },
    {
     "name": "stdout",
     "output_type": "stream",
     "text": [
      "예측 요약문 :  great training treat\n",
      "\n",
      "\n",
      "원문 :  enjoy lipton tea try new flavor tea honey blackberry pomegranate one best flavors tasted nicely perfect blend hot days coming soon instead drinking pop makes thirsty take lipton go packet quench leave fully satisfied \n",
      "실제 요약문 : looking for something new \n",
      "예측 요약문 :  delicious\n",
      "\n",
      "\n",
      "원문 :  excellent olive oil spice ideal dipping salads pasta certainly buy \n",
      "실제 요약문 : oil \n",
      "예측 요약문 :  great product\n",
      "\n",
      "\n",
      "원문 :  ordered paying pet store prices greenies dogs godsend larger container affordable price would ever get anywhere else \n",
      "실제 요약문 : great value happy dogs \n",
      "예측 요약문 :  greenies\n",
      "\n",
      "\n",
      "원문 :  used candy bar every one loved taste great thank hope get soon \n",
      "실제 요약문 : love it \n",
      "예측 요약문 :  delicious\n",
      "\n",
      "\n",
      "원문 :  sure quality placed order since reviewers said prune hard dry first tried pleasantly since soft moist sweet buy running \n",
      "실제 요약문 : very good \n",
      "예측 요약문 :  delicious\n",
      "\n",
      "\n",
      "원문 :  dog hates every food dogs treat ever found never refuses treats bit pricey go waste limit number eats day specified bag \n",
      "실제 요약문 : world dog loves these \n",
      "예측 요약문 :  my dog loves these\n",
      "\n",
      "\n",
      "원문 :  enjoyed taste fear cannot say gave energy energy drinks market today since occasionally indulge energy drinks time time say delivered much energy supplement brands four stars mainly taste \n",
      "실제 요약문 : great taste \n",
      "예측 요약문 :  great energy drink\n",
      "\n",
      "\n",
      "원문 :  sweet bland opinion expensive product flavorless taste like treat amount carbs high \n",
      "실제 요약문 : not what expected \n",
      "예측 요약문 :  not bad\n",
      "\n",
      "\n",
      "원문 :  gave erin baker breakfast morning cookies gift recipient gave cookies high reviews thank \n",
      "실제 요약문 : the best breakfast cookies \n",
      "예측 요약문 :  yummy\n",
      "\n",
      "\n",
      "원문 :  jelly absolutely impossible spread takes packs slice bread cannot spread buying ever hopefully either \n",
      "실제 요약문 : horrible \n",
      "예측 요약문 :  great product\n",
      "\n",
      "\n",
      "원문 :  rib eye steaks tough boot hardly smoke flavor actually believe meet gray unappetizing yes hole top last minutes waste money \n",
      "실제 요약문 : bag not worth with \n",
      "예측 요약문 :  not what expected\n",
      "\n",
      "\n",
      "원문 :  really great way try new drinks without purchasing large bottle dissappointed get large bottles like \n",
      "실제 요약문 : mixed drinks \n",
      "예측 요약문 :  great taste\n",
      "\n",
      "\n",
      "원문 :  chihuahua horrible horrible breath loves get face give kisses everyone help loves eat good thing cannot reach counter \n",
      "실제 요약문 : my dog says yumm \n",
      "예측 요약문 :  not what expected\n",
      "\n",
      "\n",
      "원문 :  great dressing wet food get ill cat eat enough keep weight attracted cans open flakes top eat everything sticking real life saver without much protein \n",
      "실제 요약문 : gets my cat to eat \n",
      "예측 요약문 :  my cat loves this food\n",
      "\n",
      "\n",
      "원문 :  price item three times would pay store \n",
      "실제 요약문 : do not buy this item \n",
      "예측 요약문 :  price\n",
      "\n",
      "\n",
      "원문 :  two years age love happy hips chicken banana variety favorite try \n",
      "실제 요약문 : my dogs love them \n",
      "예측 요약문 :  my dog loves these\n",
      "\n",
      "\n",
      "원문 :  love olives think taste slightly subtle would like still good chips light crispy sturdy used dipping salty seems like healthy snack really curious try flavors well brand quality product enjoy \n",
      "실제 요약문 : good \n",
      "예측 요약문 :  great taste\n",
      "\n",
      "\n",
      "원문 :  taste great great texture year old little interest eating fresh vegetables loves actually prefers goldfish crackers products nutritional value fact worth expense worth cost get eat vegetables \n",
      "실제 요약문 : great way to get kids to eat \n",
      "예측 요약문 :  great product\n",
      "\n",
      "\n",
      "원문 :  much richer taste senseo pods used longer readily available one senseo pod made oz cup good coffee world blend decaf pod makes robust delicious oz cup good gets \n",
      "실제 요약문 : world blend decaf one cup pods \n",
      "예측 요약문 :  best coffee ever\n",
      "\n",
      "\n",
      "원문 :  dog loves also bought way cheaper pet store next time offered price paid buy boxes \n",
      "실제 요약문 : love them \n",
      "예측 요약문 :  great product\n",
      "\n",
      "\n",
      "원문 :  delicious reminds exactly corn cake use serve restaurants make every mexican night home \n",
      "실제 요약문 : yum \n",
      "예측 요약문 :  best olive oil ever\n",
      "\n",
      "\n",
      "원문 :  received product influenster sample really good perfect go snack \n",
      "실제 요약문 : soo good \n",
      "예측 요약문 :  great tasting\n",
      "\n",
      "\n",
      "원문 :  first try unsalted un roasted nuts back seemed fresh enough suppose taste bland continue risk life deliciously roasted salted stuff \n",
      "실제 요약문 : yuck \n",
      "예측 요약문 :  not sour\n",
      "\n",
      "\n",
      "원문 :  dogs spoiled absolutely love food used fed dog food make help feel good knowledge good quality product dogs addicted vender always prompt seek \n",
      "실제 요약문 : doggy crack \n",
      "예측 요약문 :  my dog loves this food\n",
      "\n",
      "\n",
      "원문 :  happy found tea amazon looking stores year shipped immediately happy kitchen \n",
      "실제 요약문 : very good \n",
      "예측 요약문 :  great tea\n",
      "\n",
      "\n",
      "원문 :  chips arrived prior expiration date taste terrible stale cardboard like flavor \n",
      "실제 요약문 : stale \n",
      "예측 요약문 :  stale\n",
      "\n",
      "\n",
      "원문 :  diabetic always watch sugar free snacks hard candy great addition list calories net carbs pieces impact blood sugar levels ruin diet sweetened splenda slightly less sweet regular candies cause laxative effect candies types available good highly recommended \n",
      "실제 요약문 : really good sugar free candies recommended \n",
      "예측 요약문 :  great taste\n",
      "\n",
      "\n",
      "원문 :  chips really good taste better name brands cheaper salty like brands flavors blend really well right amount sour cream onion flavor little salt mixed start eating hard stop definitely buying potato chips rather another name brand sure state name brand \n",
      "실제 요약문 : these are soooo good \n",
      "예측 요약문 :  great tasting\n",
      "\n",
      "\n",
      "원문 :  wow chocolate raspberry flavored coffee absolute best ever honestly say tried quite time course price cannot beat unless find someone wants sell fell back delivery truck \n",
      "실제 요약문 : chocolate \n",
      "예측 요약문 :  best chocolate ever\n",
      "\n",
      "\n",
      "원문 :  cookies fantastically tasty arrived little breakage perhaps packaging folks amazon careful either way arrived good shape cookies quite tasty remind lemon way better tasty fact eager try cookies well cans useful empty \n",
      "실제 요약문 : great canned cookies \n",
      "예측 요약문 :  delicious\n",
      "\n",
      "\n",
      "원문 :  never get low acid coffee getting older seems like good idea like coffee looking forward trying flavor little roasted usually like drink black coffee good little weaker milk sugar feel created less acid easier digestion think would worth price like flavor others may find bold \n",
      "실제 요약문 : strong but easier to drink \n",
      "예측 요약문 :  good but not great\n",
      "\n",
      "\n",
      "원문 :  okay finicky wasted lots money rawhide chews finally found one thank \n",
      "실제 요약문 : only rawhide my dog will chew \n",
      "예측 요약문 :  not bad\n",
      "\n",
      "\n",
      "원문 :  concerned seen since arrival lots green leaves \n",
      "실제 요약문 : arrived in \n",
      "예측 요약문 :  great product\n",
      "\n",
      "\n",
      "원문 :  absolutely love stuff mesquite lime flavor sweet spicy tangy consistency jerky chewy yet moist calories grams cholesterol free meatless protein cannot beat snack \n",
      "실제 요약문 : awesome veggie \n",
      "예측 요약문 :  delicious\n",
      "\n",
      "\n",
      "원문 :  really love tea reason particular flavor hard find grocery store light refreshing decaf drink time day plus buying boxes time saves money good enough drink much \n",
      "실제 요약문 : great tea great price \n",
      "예측 요약문 :  great tea\n",
      "\n",
      "\n",
      "원문 :  bought boxes serve one large party everybody satisfied requested use supply next year party one negative comment box expected boxes due size stuffed leaf next time order small bo \n",
      "실제 요약문 : very good purchase \n",
      "예측 요약문 :  great product\n",
      "\n",
      "\n",
      "원문 :  got single pot sample coffee enjoyed much get heartburn quite frequently often feel coffee one causes nice option sample pre ground usually grind brew look forward trying whole bean version future \n",
      "실제 요약문 : really nice delivers on low acid \n",
      "예측 요약문 :  great coffee\n",
      "\n",
      "\n",
      "원문 :  used mrs germany spice blend variety dishes sweet savory added depth character whether hot cider sweet potato pie rub pork tenderloin highly recommend spice seasoning taste versatility \n",
      "실제 요약문 : versatile and full flavored seasoning \n",
      "예측 요약문 :  delicious\n",
      "\n",
      "\n",
      "원문 :  would give stars would leave seasoning going eat tablespoons seasoning want pay certainly want seasoning get little pieces end overall taste excellent light crunch seasoning taste good much \n",
      "실제 요약문 : too much seasoning \n",
      "예측 요약문 :  good but not great\n",
      "\n",
      "\n",
      "원문 :  altoids smalls sugar free cinnamon mints household favorite hands ridiculous reason local retailers stopped carrying reliable amazon com filled bill along super fast vendor thanks everyone enjoying tasty mints \n",
      "실제 요약문 : wonderful \n",
      "예측 요약문 :  great gift\n",
      "\n",
      "\n",
      "원문 :  chips expensive store even find ordered amazon times received good condition every time amazon great return policy ever problem contents receipt \n",
      "실제 요약문 : great snack \n",
      "예측 요약문 :  great chips\n",
      "\n",
      "\n",
      "원문 :  able find product large quantity found amazon com much prefer find stores taste sweeter needed use less packets would recommend \n",
      "실제 요약문 : great product \n"
     ]
    },
    {
     "name": "stdout",
     "output_type": "stream",
     "text": [
      "예측 요약문 :  great product\n",
      "\n",
      "\n",
      "원문 :  great product fair price russian caviar every day use snacks like home smoked salmon cream cheese red onions perfect wash sparkling wine party \n",
      "실제 요약문 : great product at very fair price \n",
      "예측 요약문 :  great product\n",
      "\n",
      "\n",
      "원문 :  usually never write review feel time packaging poor coconut water color dark almost black crazy selling food products get away \n",
      "실제 요약문 : dont buy from amazon go to local store \n",
      "예측 요약문 :  not as good as the\n",
      "\n",
      "\n",
      "원문 :  buying local store great product \n",
      "실제 요약문 : is this really from box \n",
      "예측 요약문 :  great product\n",
      "\n",
      "\n",
      "원문 :  favorite flavor kind bars since much fruit carbs lower looking extremely crunchy chewy great flavor definitely holds meals good stuff \n",
      "실제 요약문 : good and good for you \n",
      "예측 요약문 :  delicious\n",
      "\n",
      "\n",
      "원문 :  tea looks great made disappointment worse tasted almost aroma tea weak pretty tasteless reason bought wife really loved dilmah earl grey loose leaf decided try dilmah one disappointed us would given stars sold premium price taken price value account give \n",
      "실제 요약문 : weak and tasteless \n",
      "예측 요약문 :  not bad\n",
      "\n",
      "\n",
      "원문 :  bought dust local cake decorating supply store indeed beautiful another reviewer pointed label say decorative also says non toxic sure probably kill also clearly food product either manufacturer website \n",
      "실제 요약문 : beautiful but not as edible \n",
      "예측 요약문 :  not as pictured\n",
      "\n",
      "\n",
      "원문 :  like buying package keeps running wish keurig made maker would fill cup lol sams club box love \n",
      "실제 요약문 : gotta have it \n",
      "예측 요약문 :  great product\n",
      "\n",
      "\n",
      "원문 :  drink great drink run sport get cramps feel hydrated feels really good feels like drink replace electrolytes stuff like gatorade personally prefer drink physical activity tastes pretty mild filled sugar \n",
      "실제 요약문 : nature \n",
      "예측 요약문 :  great tasting\n",
      "\n",
      "\n",
      "원문 :  decided try tea big fan traditional throat coat tea plus tastes good good immune system could ask \n",
      "실제 요약문 : good stuff \n",
      "예측 요약문 :  great tea\n",
      "\n",
      "\n",
      "원문 :  worked packets stuff months different differnt types ice cannot get consistency flavor store tasty best miss real thing one tip put amount ice says package way watered next time vegas ny go get dessert many times home package \n",
      "실제 요약문 : it does not store bought version \n",
      "예측 요약문 :  great product\n",
      "\n",
      "\n",
      "원문 :  children brought bottle vanilla visiting mexico great stuff actually find due concentration flavor generally use amount called recipes glass bottle makes terrific vase decoration emptied \n",
      "실제 요약문 : great stuff \n",
      "예측 요약문 :  great product\n",
      "\n",
      "\n",
      "원문 :  excellent quality use curries time also gives great fragrance steamed rice better getting powder loses aroma flavor rapidly put quarter airtight jar spice cabinet froze rest easily mortar seconds simple use often \n",
      "실제 요약문 : it the flavor \n",
      "예측 요약문 :  great product\n",
      "\n",
      "\n",
      "원문 :  tea okay hoped seems though low quality tea leaves used definite lack depth flavor left steep much longer time normal flavor brands would really recommend brand love type tea \n",
      "실제 요약문 : not what had hoped for \n",
      "예측 요약문 :  not bad\n",
      "\n",
      "\n",
      "원문 :  dog loves treat made usa really small bag pricey \n",
      "실제 요약문 : expensive but great treats \n",
      "예측 요약문 :  dog loves these\n",
      "\n",
      "\n",
      "원문 :  three year old daughter drinking brand goat milk last years dairy intolerant great product easy carry mix need awesome price less usually pay three cans \n",
      "실제 요약문 : great product \n",
      "예측 요약문 :  great for baby\n",
      "\n",
      "\n",
      "원문 :  david chai good one great flavor decaf sugar free contains palm oil high saturated fat something consume daily book chai know still sell nice holiday present variety chai single serving packages \n",
      "실제 요약문 : great product \n",
      "예측 요약문 :  good chai\n",
      "\n",
      "\n",
      "원문 :  lot standard seeds bad great either many bother eating go bad oh well \n",
      "실제 요약문 : sunflower seeds without shells \n",
      "예측 요약문 :  good product\n",
      "\n",
      "\n",
      "원문 :  experience iced tea coffee ideal sweet sweet low zero calorie sweetner packets quite frankly disappointed work well low zero calorie sweetener ounce packets cannot recommend april \n",
      "실제 요약문 : cannot recommend this \n",
      "예측 요약문 :  not the same as hoped\n",
      "\n",
      "\n",
      "원문 :  la homestyle salsa simply delicious prefer green red sauce found one really like used tacos burritos enchiladas even mixed sour cream used dip cannot understand cannot get hope amazon continues carry \n",
      "실제 요약문 : delicious \n",
      "예측 요약문 :  best sauce ever\n",
      "\n",
      "\n",
      "원문 :  grand daughter favorite breakfast although likes flavors little toddler meals simple easy best loved little lives two hours away mother college send meals apartment well may little costly college student budget happy ensure little healthy meals loves make feel independent size meat carrots green beans perfect toddler \n",
      "실제 요약문 : my little loves these \n",
      "예측 요약문 :  great for kids\n",
      "\n",
      "\n",
      "원문 :  husband love \n",
      "실제 요약문 : mouth goodness \n",
      "예측 요약문 :  great tasting\n",
      "\n",
      "\n",
      "원문 :  great deal local big box store low prices sells packet cocoa favorite flavors love powdered milk built ingredients cocoa made poured milk order taste extra rich generally make boiling water taste superior average grocery store hot cocoa offerings real treat taste like hot cocoa \n",
      "실제 요약문 : rich and tasty \n",
      "예측 요약문 :  great cocoa\n",
      "\n",
      "\n",
      "원문 :  bouillon great love low sodium version please add inventory thank \n",
      "실제 요약문 : please the low sodium version \n",
      "예측 요약문 :  great taste\n",
      "\n",
      "\n",
      "원문 :  nuts okay totally turn away find craving particular point necessarily dessert either taste decent \n",
      "실제 요약문 : okay \n",
      "예측 요약문 :  not that great\n",
      "\n",
      "\n",
      "원문 :  admit cautious product could believe something low calories fat could tasty favorite snack product must admit wrong tasty nice convenient serving size bag would highly recommend trying cheddar cheese curls seriously think would enjoy hope amazon continue supply many wonderful low calorie products \n",
      "실제 요약문 : pleasant surprise \n",
      "예측 요약문 :  delicious and healthy\n",
      "\n",
      "\n",
      "원문 :  none asian super markets around sell old style anymore damn sad new bowl comes hold back heat hot touch flavor damn bad bring back old regular hot spicy picante please \n",
      "실제 요약문 : what is this \n",
      "예측 요약문 :  great taste\n",
      "\n",
      "\n",
      "원문 :  family loves taste bit high sodium liking price wish organic purchased heart heart brand taste much strange aftertaste compared crackers bad heart heart half sodium \n",
      "실제 요약문 : very crunchy and tasty but not organic \n",
      "예측 요약문 :  not bad\n",
      "\n",
      "\n",
      "원문 :  gave product three tries good hair product think able tell worth long thick hair cheap conditioners tend cause lot quick buildup exception could still feel next time washed hair give one pass use real shea butter product instead absorb hair scalp better \n",
      "실제 요약문 : cheap and \n",
      "예측 요약문 :  works well\n",
      "\n",
      "\n",
      "원문 :  well going go carbs carbs lab house tastes great \n",
      "실제 요약문 : tastes great \n",
      "예측 요약문 :  my baby loves it\n",
      "\n",
      "\n",
      "원문 :  like sweet cereal granola sweet good texture perfect yoghurt would buy often quite pricey \n",
      "실제 요약문 : good with \n",
      "예측 요약문 :  great tasting\n",
      "\n",
      "\n",
      "원문 :  used past weekend tastes pretty standard neutral suppose variety ingredients put inside ok \n",
      "실제 요약문 : mix \n",
      "예측 요약문 :  not good\n",
      "\n",
      "\n",
      "원문 :  german shepherd absolutely loves bones granted take long chew one immediately leave spot done period regret come larger size \n",
      "실제 요약문 : my dogs favorite treat bone \n",
      "예측 요약문 :  great product\n",
      "\n",
      "\n",
      "원문 :  favorite everything tastes like everything bagel like year around butter salt price amazon far better grocery store \n",
      "실제 요약문 : everything flavor rocks \n",
      "예측 요약문 :  best ramen ever\n",
      "\n",
      "\n",
      "원문 :  cookies best ever tried takes back kid cookies similar marshmallow etc never able find since cookies ration evening allow one treat quality exceptional darker chocolate right taste richness anytime see buy hope available near live super cookie treat \n",
      "실제 요약문 : what real treat \n",
      "예측 요약문 :  best cookie ever\n",
      "\n",
      "\n",
      "원문 :  great vegan gluten free snack lifesaver hand vegan gluten free food available \n",
      "실제 요약문 : great vegan snack \n",
      "예측 요약문 :  good\n",
      "\n",
      "\n",
      "원문 :  buy seaweed snack costco much packaging decided try one three children love costco one one eat one chewy kind said smells fishy tend agree horrible like chewy love \n",
      "실제 요약문 : good but not my favorite \n",
      "예측 요약문 :  not bad\n",
      "\n",
      "\n",
      "원문 :  since ordered trying first offering periodically never honestly blame pretty gross \n",
      "실제 요약문 : ordered the pack threw most of them out \n",
      "예측 요약문 :  nasty\n",
      "\n",
      "\n",
      "원문 :  imported uk chocolate much better anything made us another country exactly mounds almond joy bars buy let tastebuds learn thing two yum yum \n",
      "실제 요약문 : much cheaper than buying it in stores \n",
      "예측 요약문 :  yummy\n",
      "\n",
      "\n",
      "원문 :  beat price especially ounce pack cereal fresh well packed delicious thank amazon making affordable family \n",
      "실제 요약문 : great deal \n"
     ]
    },
    {
     "name": "stdout",
     "output_type": "stream",
     "text": [
      "예측 요약문 :  great price\n",
      "\n",
      "\n",
      "원문 :  superb product excellent service packaged care used purchase high quality olive oil farmer market san francisco recently east coast must shipped shipping less order multiple quantities definitely order vendor since pleased transaction thank much \n",
      "실제 요약문 : this is the best olive oil \n",
      "예측 요약문 :  great product\n",
      "\n",
      "\n",
      "원문 :  like chew gum cannot chew long without getting symptoms new gums flavors last well beyond tolerance gum harder chew somehow get symptoms like way makes teeth feel like polished buy bulk leave car \n",
      "실제 요약문 : nice tooth cleaner \n",
      "예측 요약문 :  gum\n",
      "\n",
      "\n",
      "원문 :  bought product love fruits pears taste awful dry without flavor \n",
      "실제 요약문 : awful \n",
      "예측 요약문 :  not bad\n",
      "\n",
      "\n",
      "원문 :  product expected delivered indicated would definitely buy amazon price competitive \n",
      "실제 요약문 : greenies review \n",
      "예측 요약문 :  good deal\n",
      "\n",
      "\n",
      "원문 :  great deal much bottles big value unbeatable shipped quickly delicious perfect bloody smoothies \n",
      "실제 요약문 : so much \n",
      "예측 요약문 :  great value\n",
      "\n",
      "\n",
      "원문 :  expecting much price good sugar chocolate fix actually quite tasty decent ingredients \n",
      "실제 요약문 : much better than expected good price \n",
      "예측 요약문 :  not too good\n",
      "\n",
      "\n",
      "원문 :  bought cats picked ear product worked well clearing ear think directions mention use clean cat ears thoroughly get used product recommended twice day doses cats stopped scratching ears continued using another days make sure gone completely week free \n",
      "실제 요약문 : works well cats hate it though \n",
      "예측 요약문 :  great food for cats\n",
      "\n",
      "\n",
      "원문 :  great tasting candies sugar free variety get sticky hard take individual wrappers especially without getting candy fingers \n",
      "실제 요약문 : great taste but hard to open \n",
      "예측 요약문 :  yummy\n",
      "\n",
      "\n",
      "원문 :  cost item sure bring attention found taste little bland product dryer used jerky type please note hot version product shipment fast packaging perhaps give flavors try \n",
      "실제 요약문 : not replacement \n",
      "예측 요약문 :  not as good as the picture\n",
      "\n",
      "\n",
      "원문 :  coffee full body rich taste price far coffee cup use much plastic \n",
      "실제 요약문 : fog chaser coffee \n",
      "예측 요약문 :  good coffee\n",
      "\n",
      "\n",
      "원문 :  liked coffee drink iced great afternoon boost calories right amount milk sugar sweet like real sugary coffee may right \n",
      "실제 요약문 : treat yourself for calories nice caffeine boost \n",
      "예측 요약문 :  great coffee\n",
      "\n",
      "\n",
      "원문 :  two chocolate labs love premium chews teeth incredibly clean according vet believes get cet chewies every day give puppies anything cet premium chews \n",
      "실제 요약문 : excellent product \n",
      "예측 요약문 :  greenies\n",
      "\n",
      "\n",
      "원문 :  product worked good making peach butter need little peach flavor fantastic \n",
      "실제 요약문 : peach flavor extract \n",
      "예측 요약문 :  great product\n",
      "\n",
      "\n",
      "원문 :  give pet tasty organic treats discovered laughing dog street fair giving free samples away happy dogs staff friendly answered questions looking get special treat dog really try \n",
      "실제 요약문 : yummy organic dog treats \n",
      "예측 요약문 :  great treats\n",
      "\n",
      "\n",
      "원문 :  husband likes hot spicy foods really uses lot various foods \n",
      "실제 요약문 : my husband loves this product \n",
      "예측 요약문 :  great product\n",
      "\n",
      "\n",
      "원문 :  wonderful great buy money easy cook healthy rich nutty flavor would recommend everyone \n",
      "실제 요약문 : oats \n",
      "예측 요약문 :  great product\n",
      "\n",
      "\n",
      "원문 :  around great experience ordering dog food great price fast shipping \n",
      "실제 요약문 : great \n",
      "예측 요약문 :  great product\n",
      "\n",
      "\n",
      "원문 :  tried different brands different roasts including gourmet coffees always keep coming back folgers classic offers smooth relatively full bodied flavor without overpowering bitter happily usually among lower priced coffees buy price alone added bonus \n",
      "실제 요약문 : folgers classic roast is my favorite coffee \n",
      "예측 요약문 :  love this coffee\n",
      "\n",
      "\n",
      "원문 :  first cup impressed full flavor aroma consistent coffee always presents good cup coffee fair trade feature welcome well \n",
      "실제 요약문 : great cup of coffee \n",
      "예측 요약문 :  good coffee\n",
      "\n",
      "\n",
      "원문 :  friends found pg tips tea enjoyable taste would definitely recommend anyone loves true english tea taste \n",
      "실제 요약문 : english tea at it is best \n",
      "예측 요약문 :  best tea ever\n",
      "\n",
      "\n",
      "원문 :  able find gum amazon good price free shipping \n",
      "실제 요약문 : yum \n",
      "예측 요약문 :  great gum\n",
      "\n",
      "\n",
      "원문 :  bought based high reviews awful fake taste nothing like real apple stuck bottles \n",
      "실제 요약문 : ugh \n",
      "예측 요약문 :  yuck\n",
      "\n",
      "\n",
      "원문 :  pretty decent bar quite filling would suggest less cashews coconut make tasty \n",
      "실제 요약문 : good \n",
      "예측 요약문 :  good but not great\n",
      "\n",
      "\n",
      "원문 :  thought coffee slight bitter taste would call smooth robust sure process use create low acid coffee could result bitterness honestly think difference organic decaf coffee drink low acid coffee neither caused acidic build body given price somewhat wasteful packaging going stick organic decaf get local roaster town disappointed taste \n",
      "실제 요약문 : low acid coffee robust favor \n",
      "예측 요약문 :  not bad\n",
      "\n",
      "\n",
      "원문 :  thrilled find bunches honey bunches oats offered online since cannot find stores anymore make sure realize size boxes purchasing small almost sample size something size purchased store \n",
      "실제 요약문 : delicious with vanilla yogurt and blueberries \n",
      "예측 요약문 :  yummy\n",
      "\n",
      "\n",
      "원문 :  say yum great price cannot find sizes anywhere local grocery awesome \n",
      "실제 요약문 : yum \n",
      "예측 요약문 :  great product\n",
      "\n",
      "\n",
      "원문 :  reviewers noted product stale arrival thing happened amazon quick remedy problem always stay away product package expiration date telling old whole wheat products tend go stale quickly \n",
      "실제 요약문 : as stale as this review \n",
      "예측 요약문 :  stale\n",
      "\n",
      "\n",
      "원문 :  living gluten free years mix best found makes great waffles \n",
      "실제 요약문 : amazing \n",
      "예측 요약문 :  best gluten free bread mix\n",
      "\n",
      "\n",
      "원문 :  actually buy amazon local general store know original would never nothing compare finished first ever piece wonderful guess nostalgic trying first time dig warned addictive \n",
      "실제 요약문 : yum \n",
      "예측 요약문 :  the best\n",
      "\n",
      "\n",
      "원문 :  read reviews signed subscription cat food usual believe negative ones sure cat would like came cute little cans like meow opened bowl lap broth eat chunks meat smaller ones dumped signed shipment every six months supposed treat like much treat think \n",
      "실제 요약문 : my cat likes the broth \n",
      "예측 요약문 :  my cat loves this food\n",
      "\n",
      "\n",
      "원문 :  halo makes great food good ingredients safe healthy cats leave veggies last always come back eat put food diet extra pounds could get way \n",
      "실제 요약문 : great food \n",
      "예측 요약문 :  my cat loves this food\n",
      "\n",
      "\n",
      "원문 :  family really enjoyed unfortunately get online local grocery carries yet asking every time go \n",
      "실제 요약문 : taste good and are filling \n",
      "예측 요약문 :  great taste\n",
      "\n",
      "\n",
      "원문 :  midwest job transfer south past years always sweet baby ray years cooking barbecue would use family look local store find tiny small bottles way priced adventure south finding amazon carry alot products use baby ray would way \n",
      "실제 요약문 : in the \n",
      "예측 요약문 :  great price\n",
      "\n",
      "\n",
      "원문 :  find convenient grocery products automatically delivered door however order need yet problem getting delivered sooner run \n",
      "실제 요약문 : convenience of delivery \n",
      "예측 요약문 :  great service\n",
      "\n",
      "\n",
      "원문 :  son snacking since months old absolutely loves even think tasty would recommend great starter food snack \n",
      "실제 요약문 : these are amazing \n",
      "예측 요약문 :  great for kids\n",
      "\n",
      "\n",
      "원문 :  cant tell product works mint suck last seconds way review \n",
      "실제 요약문 : its okay \n",
      "예측 요약문 :  not what expected\n",
      "\n",
      "\n",
      "원문 :  rich chocolate taste sweet great cold winter evening topped mini certainly reccomend \n",
      "실제 요약문 : green mountain hot cocoa \n",
      "예측 요약문 :  great cocoa\n",
      "\n",
      "\n",
      "원문 :  wild bills beef jerky good worth money get wild bills website \n",
      "실제 요약문 : great stuff \n",
      "예측 요약문 :  not good\n",
      "\n",
      "\n",
      "원문 :  happy recent order ordered fifteen cases yakisoba amazon shipped home usps \n",
      "실제 요약문 : order \n",
      "예측 요약문 :  great product\n",
      "\n",
      "\n",
      "원문 :  cannot imagine could mess sugar product exactly supposed tried recipe box little dry dense first thing baked years could \n",
      "실제 요약문 : it is sugar \n",
      "예측 요약문 :  not as good as other brands\n",
      "\n",
      "\n",
      "원문 :  easy use mix one package eggs tablespoons oil tablespoons milk liquid use rolling pin shape used paper top cast iron grill pan make pizza crust nice crisp know eating crust could fooled looking forward using dough bread sticks mention back package happy found \n",
      "실제 요약문 : yum \n",
      "예측 요약문 :  great for pizza\n",
      "\n",
      "\n",
      "원문 :  far best haribo gummies variety great always surprise get \n",
      "실제 요약문 : best haribo gummies \n",
      "예측 요약문 :  best gummi bears\n",
      "\n",
      "\n",
      "원문 :  best wasabi peas hands bright green right amount wasabi guys got right \n",
      "실제 요약문 : mm mm \n",
      "예측 요약문 :  best marinade ever\n",
      "\n",
      "\n",
      "원문 :  like dunk cookies look melt mouth \n",
      "실제 요약문 : delicious \n",
      "예측 요약문 :  good cookie\n",
      "\n",
      "\n",
      "원문 :  take note whole wheat mixed quinoa gluten free quinoa made obvious wheat sale page even know ancient harvest made wheat quinoa blend toilet learn error \n",
      "실제 요약문 : whole wheat noodles not gluten free \n"
     ]
    },
    {
     "name": "stdout",
     "output_type": "stream",
     "text": [
      "예측 요약문 :  great gluten free pasta\n",
      "\n",
      "\n",
      "원문 :  shipped ice pretty cool arrived summer texas heat without even slightest hint melting \n",
      "실제 요약문 : well shipped loved by all \n",
      "예측 요약문 :  great taste\n",
      "\n",
      "\n",
      "원문 :  going first six pack purchased amazon added two country quick oats raisins walnuts almonds half glass soy milk bowl cooked microwave three reduced power added honey touch soy milk consistency easiest breakfast make taste texture good amazon offers active subscription rates \n",
      "실제 요약문 : country choice oats is great choice \n",
      "예측 요약문 :  good stuff\n",
      "\n",
      "\n",
      "원문 :  receiving product amazon year amazon cannot around taste good flaxseed pumpkin seeds helped raise good \n",
      "실제 요약문 : granola plus flax and pumpkin seeds \n",
      "예측 요약문 :  great product\n",
      "\n",
      "\n",
      "원문 :  sweet tasty sugar baby love better gerber like brand \n",
      "실제 요약문 : baby food \n",
      "예측 요약문 :  great taste\n",
      "\n",
      "\n",
      "원문 :  price paid starbucks french roast pound bag less paid local grocery store ounce bag love deep flavor coffee purchase form vendor \n",
      "실제 요약문 : great coffee best price \n",
      "예측 요약문 :  kona coffee\n",
      "\n",
      "\n",
      "원문 :  cats royal canin adult one dry fur switched intense beauty nine months ago really given thick soft coat vet even commented soft fur course food good overall well cats healthy nice find pet food works advertised \n",
      "실제 요약문 : really makes difference \n",
      "예측 요약문 :  my cats love this food\n",
      "\n",
      "\n",
      "원문 :  pasta hold shape ends mushy mess even reducing cooking time rinsing cold water tinkyada spaghetti improvement shells hesitant try shapes ended numerous bags mush \n",
      "실제 요약문 : not the best \n",
      "예측 요약문 :  not bad\n",
      "\n",
      "\n",
      "원문 :  happy product paid extra get fast think took days whats point day shipping get \n",
      "실제 요약문 : kefir grains \n",
      "예측 요약문 :  great product\n",
      "\n",
      "\n",
      "원문 :  looking replacement chocolate chip peanut bars tried would go back bars flash whole peanuts whole choc chips bars like stale rice bars chocolate coated bottom hard much peanut taste besides high percentage soy desperate \n",
      "실제 요약문 : will not order again \n",
      "예측 요약문 :  great snack\n",
      "\n",
      "\n",
      "원문 :  become breakfast staple home nearly every sunday morning making pancakes got vermont syrup eggs sausage bacon set day light snack type dinner use absolute best results \n",
      "실제 요약문 : best \n",
      "예측 요약문 :  great product\n",
      "\n",
      "\n",
      "원문 :  oil high fats almost tasteless high smoke point oil lends flavoring ingredients overall big fan oil neutral flavor product disappoint \n",
      "실제 요약문 : grape oil is healthy and good \n",
      "예측 요약문 :  good stuff\n",
      "\n",
      "\n",
      "원문 :  use time happy able get large canister store carries oz jars buy online \n",
      "실제 요약문 : yummy \n",
      "예측 요약문 :  great product\n",
      "\n",
      "\n",
      "원문 :  hot chocolate great glad doubled order miss quick hot chocolate kids grandkids \n",
      "실제 요약문 : wow \n",
      "예측 요약문 :  great cocoa\n",
      "\n",
      "\n",
      "원문 :  buying treats year lab looks forward treat finishing meal mention happy hips watch smile \n",
      "실제 요약문 : healthy dog snack \n",
      "예측 요약문 :  my dog loves these\n",
      "\n",
      "\n",
      "원문 :  great transaction anyone ship address support military \n",
      "실제 요약문 : old soy ginger dressing \n",
      "예측 요약문 :  great deal\n",
      "\n",
      "\n",
      "원문 :  beautiful popcorn popped sitting shelf waiting popped white yellow making bowl look appealing hulls explode amazing never popcorn great deal glad bought pack worked lb think people gave bad review must gotten bad batch awesome \n",
      "실제 요약문 : yummy and pretty \n",
      "예측 요약문 :  great northern popcorn\n",
      "\n",
      "\n",
      "원문 :  favorite jelly beans get candy store period huge fan cinnamon candy best found love hot well good strong cinnamon flavor jelly belly jelly beans lasts past first bite love \n",
      "실제 요약문 : hot by the \n",
      "예측 요약문 :  love this stuff\n",
      "\n",
      "\n"
     ]
    }
   ],
   "source": [
    "for i in range(500, 1000):\n",
    "    print(\"원문 : \",seq2text(encoder_input_test[i]))\n",
    "    print(\"실제 요약문 :\",seq2summary(decoder_input_test[i]))\n",
    "    print(\"예측 요약문 :\",decode_sequence(encoder_input_test[i].reshape(1, text_max_len)))\n",
    "    print(\"\\n\")"
   ]
  },
  {
   "cell_type": "markdown",
   "metadata": {},
   "source": [
    "실제 요약문과 완전히 똑같지 않으면서 원문의 맥락을 잘 잡아서 예측된 요약문들이 존재하는 것을 확인할 수 있습니다."
   ]
  },
  {
   "cell_type": "code",
   "execution_count": 85,
   "metadata": {
    "colab": {
     "base_uri": "https://localhost:8080/",
     "height": 265
    },
    "id": "TLtlvokmneOJ",
    "outputId": "e13f2dc5-dbf5-4932-877b-620ced6dcda9"
   },
   "outputs": [
    {
     "data": {
      "image/png": "[encoded data removed]",
      "text/plain": [
       "<Figure size 432x288 with 1 Axes>"
      ]
     },
     "metadata": {
      "needs_background": "light"
     },
     "output_type": "display_data"
    }
   ],
   "source": [
    "plt.plot(history.history['loss'], label='train')\n",
    "plt.plot(history.history['val_loss'], label='test')\n",
    "plt.legend()\n",
    "plt.show()"
   ]
  },
  {
   "cell_type": "code",
   "execution_count": 86,
   "metadata": {
    "colab": {
     "base_uri": "https://localhost:8080/"
    },
    "id": "tDDcI6c8n8tW",
    "outputId": "053717c8-279e-4563-a442-61a07fd55c53"
   },
   "outputs": [
    {
     "data": {
      "text/plain": [
       "array([   7,   46,  324,  929,   34,  346, 4398,    6,    0,    0,    0,\n",
       "          0,    0,    0,    0,    0,    0,    0,    0,    0,    0,    0,\n",
       "          0,    0,    0,    0,    0,    0,    0,    0,    0,    0,    0,\n",
       "          0,    0,    0,    0,    0,    0,    0,    0,    0,    0,    0,\n",
       "          0,    0,    0,    0,    0,    0])"
      ]
     },
     "execution_count": 86,
     "metadata": {},
     "output_type": "execute_result"
    }
   ],
   "source": [
    "encoder_input_train[5]"
   ]
  },
  {
   "cell_type": "code",
   "execution_count": 87,
   "metadata": {
    "colab": {
     "base_uri": "https://localhost:8080/"
    },
    "id": "qr6Sy6c3n-N-",
    "outputId": "8bd72951-5949-4008-ccae-533f8626dae4"
   },
   "outputs": [
    {
     "data": {
      "text/plain": [
       "array([  1, 591,  14,   0,   0,   0,   0,   0])"
      ]
     },
     "execution_count": 87,
     "metadata": {},
     "output_type": "execute_result"
    }
   ],
   "source": [
    "decoder_input_train[5]"
   ]
  },
  {
   "cell_type": "code",
   "execution_count": 88,
   "metadata": {
    "colab": {
     "base_uri": "https://localhost:8080/"
    },
    "id": "0GRnpnXcn_dl",
    "outputId": "aa321136-b0b4-4dde-b097-fd9fef863663"
   },
   "outputs": [
    {
     "data": {
      "text/plain": [
       "array([591,  14,   2,   0,   0,   0,   0,   0])"
      ]
     },
     "execution_count": 88,
     "metadata": {},
     "output_type": "execute_result"
    }
   ],
   "source": [
    "decoder_target_train[5]"
   ]
  },
  {
   "cell_type": "code",
   "execution_count": null,
   "metadata": {},
   "outputs": [],
   "source": []
  }
 ],
 "metadata": {
  "accelerator": "GPU",
  "colab": {
   "collapsed_sections": [],
   "machine_shape": "hm",
   "name": "text_summarization with attention.ipynb",
   "provenance": []
  },
  "kernelspec": {
   "display_name": "Python 3",
   "language": "python",
   "name": "python3"
  },
  "language_info": {
   "codemirror_mode": {
    "name": "ipython",
    "version": 3
   },
   "file_extension": ".py",
   "mimetype": "text/x-python",
   "name": "python",
   "nbconvert_exporter": "python",
   "pygments_lexer": "ipython3",
   "version": "3.9.7"
  }
 },
 "nbformat": 4,
 "nbformat_minor": 1
}
