{
 "cells": [
  {
   "cell_type": "code",
   "execution_count": 1,
   "metadata": {
    "colab": {
     "base_uri": "https://localhost:8080/"
    },
    "id": "ztFhK3puIfBx",
    "outputId": "e312b1f0-2969-4d14-9af5-6546032c557a"
   },
   "outputs": [
    {
     "name": "stdout",
     "output_type": "stream",
     "text": [
      "Requirement already satisfied: bertopic in c:\\users\\jikim\\anaconda3\\lib\\site-packages (0.10.0)\n",
      "Requirement already satisfied: scikit-learn>=0.22.2.post1 in c:\\users\\jikim\\anaconda3\\lib\\site-packages (from bertopic) (0.24.2)\n",
      "Requirement already satisfied: pandas>=1.1.5 in c:\\users\\jikim\\anaconda3\\lib\\site-packages (from bertopic) (1.3.4)\n",
      "Requirement already satisfied: plotly>=4.7.0 in c:\\users\\jikim\\anaconda3\\lib\\site-packages (from bertopic) (5.8.0)\n",
      "Requirement already satisfied: tqdm>=4.41.1 in c:\\users\\jikim\\anaconda3\\lib\\site-packages (from bertopic) (4.62.3)\n",
      "Requirement already satisfied: sentence-transformers>=0.4.1 in c:\\users\\jikim\\anaconda3\\lib\\site-packages (from bertopic) (2.2.0)\n",
      "Requirement already satisfied: hdbscan>=0.8.28 in c:\\users\\jikim\\anaconda3\\lib\\site-packages (from bertopic) (0.8.28)\n",
      "Requirement already satisfied: umap-learn>=0.5.0 in c:\\users\\jikim\\anaconda3\\lib\\site-packages (from bertopic) (0.5.3)\n",
      "Requirement already satisfied: numpy>=1.20.0 in c:\\users\\jikim\\anaconda3\\lib\\site-packages (from bertopic) (1.20.3)\n",
      "Requirement already satisfied: pyyaml<6.0 in c:\\users\\jikim\\anaconda3\\lib\\site-packages (from bertopic) (5.4.1)\n",
      "Requirement already satisfied: scipy>=1.0 in c:\\users\\jikim\\anaconda3\\lib\\site-packages (from hdbscan>=0.8.28->bertopic) (1.7.1)\n",
      "Requirement already satisfied: joblib>=1.0 in c:\\users\\jikim\\anaconda3\\lib\\site-packages (from hdbscan>=0.8.28->bertopic) (1.1.0)\n",
      "Requirement already satisfied: cython>=0.27 in c:\\users\\jikim\\anaconda3\\lib\\site-packages (from hdbscan>=0.8.28->bertopic) (0.29.28)\n",
      "Requirement already satisfied: python-dateutil>=2.7.3 in c:\\users\\jikim\\anaconda3\\lib\\site-packages (from pandas>=1.1.5->bertopic) (2.8.2)\n",
      "Requirement already satisfied: pytz>=2017.3 in c:\\users\\jikim\\anaconda3\\lib\\site-packages (from pandas>=1.1.5->bertopic) (2021.3)\n",
      "Requirement already satisfied: tenacity>=6.2.0 in c:\\users\\jikim\\anaconda3\\lib\\site-packages (from plotly>=4.7.0->bertopic) (8.0.1)\n",
      "Requirement already satisfied: six>=1.5 in c:\\users\\jikim\\anaconda3\\lib\\site-packages (from python-dateutil>=2.7.3->pandas>=1.1.5->bertopic) (1.16.0)\n",
      "Requirement already satisfied: threadpoolctl>=2.0.0 in c:\\users\\jikim\\anaconda3\\lib\\site-packages (from scikit-learn>=0.22.2.post1->bertopic) (2.2.0)\n",
      "Requirement already satisfied: nltk in c:\\users\\jikim\\anaconda3\\lib\\site-packages (from sentence-transformers>=0.4.1->bertopic) (3.6.5)\n",
      "Requirement already satisfied: transformers<5.0.0,>=4.6.0 in c:\\users\\jikim\\anaconda3\\lib\\site-packages (from sentence-transformers>=0.4.1->bertopic) (4.18.0)\n",
      "Requirement already satisfied: sentencepiece in c:\\users\\jikim\\anaconda3\\lib\\site-packages (from sentence-transformers>=0.4.1->bertopic) (0.1.96)\n",
      "Requirement already satisfied: huggingface-hub in c:\\users\\jikim\\anaconda3\\lib\\site-packages (from sentence-transformers>=0.4.1->bertopic) (0.5.1)\n",
      "Requirement already satisfied: torchvision in c:\\users\\jikim\\anaconda3\\lib\\site-packages (from sentence-transformers>=0.4.1->bertopic) (0.12.0)\n",
      "Requirement already satisfied: torch>=1.6.0 in c:\\users\\jikim\\anaconda3\\lib\\site-packages (from sentence-transformers>=0.4.1->bertopic) (1.11.0)\n",
      "Requirement already satisfied: typing-extensions in c:\\users\\jikim\\anaconda3\\lib\\site-packages (from torch>=1.6.0->sentence-transformers>=0.4.1->bertopic) (3.10.0.2)\n",
      "Requirement already satisfied: colorama in c:\\users\\jikim\\anaconda3\\lib\\site-packages (from tqdm>=4.41.1->bertopic) (0.4.4)\n",
      "Requirement already satisfied: packaging>=20.0 in c:\\users\\jikim\\anaconda3\\lib\\site-packages (from transformers<5.0.0,>=4.6.0->sentence-transformers>=0.4.1->bertopic) (21.0)\n",
      "Requirement already satisfied: sacremoses in c:\\users\\jikim\\anaconda3\\lib\\site-packages (from transformers<5.0.0,>=4.6.0->sentence-transformers>=0.4.1->bertopic) (0.0.53)\n",
      "Requirement already satisfied: requests in c:\\users\\jikim\\anaconda3\\lib\\site-packages (from transformers<5.0.0,>=4.6.0->sentence-transformers>=0.4.1->bertopic) (2.26.0)\n",
      "Requirement already satisfied: filelock in c:\\users\\jikim\\anaconda3\\lib\\site-packages (from transformers<5.0.0,>=4.6.0->sentence-transformers>=0.4.1->bertopic) (3.3.1)\n",
      "Requirement already satisfied: tokenizers!=0.11.3,<0.13,>=0.11.1 in c:\\users\\jikim\\anaconda3\\lib\\site-packages (from transformers<5.0.0,>=4.6.0->sentence-transformers>=0.4.1->bertopic) (0.12.1)\n",
      "Requirement already satisfied: regex!=2019.12.17 in c:\\users\\jikim\\anaconda3\\lib\\site-packages (from transformers<5.0.0,>=4.6.0->sentence-transformers>=0.4.1->bertopic) (2021.8.3)\n",
      "Requirement already satisfied: pyparsing>=2.0.2 in c:\\users\\jikim\\anaconda3\\lib\\site-packages (from packaging>=20.0->transformers<5.0.0,>=4.6.0->sentence-transformers>=0.4.1->bertopic) (3.0.4)\n",
      "Requirement already satisfied: numba>=0.49 in c:\\users\\jikim\\anaconda3\\lib\\site-packages (from umap-learn>=0.5.0->bertopic) (0.54.1)\n",
      "Requirement already satisfied: pynndescent>=0.5 in c:\\users\\jikim\\anaconda3\\lib\\site-packages (from umap-learn>=0.5.0->bertopic) (0.5.7)\n",
      "Requirement already satisfied: llvmlite<0.38,>=0.37.0rc1 in c:\\users\\jikim\\anaconda3\\lib\\site-packages (from numba>=0.49->umap-learn>=0.5.0->bertopic) (0.37.0)\n",
      "Requirement already satisfied: setuptools in c:\\users\\jikim\\anaconda3\\lib\\site-packages (from numba>=0.49->umap-learn>=0.5.0->bertopic) (58.0.4)\n",
      "Requirement already satisfied: click in c:\\users\\jikim\\anaconda3\\lib\\site-packages (from nltk->sentence-transformers>=0.4.1->bertopic) (8.0.3)\n",
      "Requirement already satisfied: idna<4,>=2.5 in c:\\users\\jikim\\anaconda3\\lib\\site-packages (from requests->transformers<5.0.0,>=4.6.0->sentence-transformers>=0.4.1->bertopic) (3.2)\n",
      "Requirement already satisfied: certifi>=2017.4.17 in c:\\users\\jikim\\anaconda3\\lib\\site-packages (from requests->transformers<5.0.0,>=4.6.0->sentence-transformers>=0.4.1->bertopic) (2021.10.8)\n",
      "Requirement already satisfied: urllib3<1.27,>=1.21.1 in c:\\users\\jikim\\anaconda3\\lib\\site-packages (from requests->transformers<5.0.0,>=4.6.0->sentence-transformers>=0.4.1->bertopic) (1.26.7)\n",
      "Requirement already satisfied: charset-normalizer~=2.0.0 in c:\\users\\jikim\\anaconda3\\lib\\site-packages (from requests->transformers<5.0.0,>=4.6.0->sentence-transformers>=0.4.1->bertopic) (2.0.4)\n",
      "Requirement already satisfied: pillow!=8.3.*,>=5.3.0 in c:\\users\\jikim\\anaconda3\\lib\\site-packages (from torchvision->sentence-transformers>=0.4.1->bertopic) (8.4.0)\n"
     ]
    }
   ],
   "source": [
    "!pip install bertopic"
   ]
  },
  {
   "cell_type": "code",
   "execution_count": 2,
   "metadata": {
    "colab": {
     "base_uri": "https://localhost:8080/"
    },
    "id": "m39j846ZIk_l",
    "outputId": "9e63e26a-dfd9-4d81-a78c-109c89f9fd06"
   },
   "outputs": [
    {
     "name": "stdout",
     "output_type": "stream",
     "text": [
      "Requirement already satisfied: bertopic[visualization] in c:\\users\\jikim\\anaconda3\\lib\\site-packages (0.10.0)\n",
      "Requirement already satisfied: numpy>=1.20.0 in c:\\users\\jikim\\anaconda3\\lib\\site-packages (from bertopic[visualization]) (1.20.3)\n",
      "Requirement already satisfied: pandas>=1.1.5 in c:\\users\\jikim\\anaconda3\\lib\\site-packages (from bertopic[visualization]) (1.3.4)\n",
      "Requirement already satisfied: sentence-transformers>=0.4.1 in c:\\users\\jikim\\anaconda3\\lib\\site-packages (from bertopic[visualization]) (2.2.0)\n",
      "Requirement already satisfied: umap-learn>=0.5.0 in c:\\users\\jikim\\anaconda3\\lib\\site-packages (from bertopic[visualization]) (0.5.3)\n",
      "Requirement already satisfied: hdbscan>=0.8.28 in c:\\users\\jikim\\anaconda3\\lib\\site-packages (from bertopic[visualization]) (0.8.28)\n",
      "Requirement already satisfied: pyyaml<6.0 in c:\\users\\jikim\\anaconda3\\lib\\site-packages (from bertopic[visualization]) (5.4.1)\n",
      "Requirement already satisfied: plotly>=4.7.0 in c:\\users\\jikim\\anaconda3\\lib\\site-packages (from bertopic[visualization]) (5.8.0)\n",
      "Requirement already satisfied: scikit-learn>=0.22.2.post1 in c:\\users\\jikim\\anaconda3\\lib\\site-packages (from bertopic[visualization]) (0.24.2)\n",
      "Requirement already satisfied: tqdm>=4.41.1 in c:\\users\\jikim\\anaconda3\\lib\\site-packages (from bertopic[visualization]) (4.62.3)\n",
      "Requirement already satisfied: cython>=0.27 in c:\\users\\jikim\\anaconda3\\lib\\site-packages (from hdbscan>=0.8.28->bertopic[visualization]) (0.29.28)\n",
      "Requirement already satisfied: scipy>=1.0 in c:\\users\\jikim\\anaconda3\\lib\\site-packages (from hdbscan>=0.8.28->bertopic[visualization]) (1.7.1)\n",
      "Requirement already satisfied: joblib>=1.0 in c:\\users\\jikim\\anaconda3\\lib\\site-packages (from hdbscan>=0.8.28->bertopic[visualization]) (1.1.0)\n",
      "Requirement already satisfied: pytz>=2017.3 in c:\\users\\jikim\\anaconda3\\lib\\site-packages (from pandas>=1.1.5->bertopic[visualization]) (2021.3)\n",
      "Requirement already satisfied: python-dateutil>=2.7.3 in c:\\users\\jikim\\anaconda3\\lib\\site-packages (from pandas>=1.1.5->bertopic[visualization]) (2.8.2)\n",
      "Requirement already satisfied: tenacity>=6.2.0 in c:\\users\\jikim\\anaconda3\\lib\\site-packages (from plotly>=4.7.0->bertopic[visualization]) (8.0.1)\n",
      "Requirement already satisfied: six>=1.5 in c:\\users\\jikim\\anaconda3\\lib\\site-packages (from python-dateutil>=2.7.3->pandas>=1.1.5->bertopic[visualization]) (1.16.0)\n",
      "Requirement already satisfied: threadpoolctl>=2.0.0 in c:\\users\\jikim\\anaconda3\\lib\\site-packages (from scikit-learn>=0.22.2.post1->bertopic[visualization]) (2.2.0)\n",
      "Requirement already satisfied: torchvision in c:\\users\\jikim\\anaconda3\\lib\\site-packages (from sentence-transformers>=0.4.1->bertopic[visualization]) (0.12.0)\n",
      "Requirement already satisfied: torch>=1.6.0 in c:\\users\\jikim\\anaconda3\\lib\\site-packages (from sentence-transformers>=0.4.1->bertopic[visualization]) (1.11.0)\n",
      "Requirement already satisfied: sentencepiece in c:\\users\\jikim\\anaconda3\\lib\\site-packages (from sentence-transformers>=0.4.1->bertopic[visualization]) (0.1.96)\n",
      "Requirement already satisfied: transformers<5.0.0,>=4.6.0 in c:\\users\\jikim\\anaconda3\\lib\\site-packages (from sentence-transformers>=0.4.1->bertopic[visualization]) (4.18.0)\n",
      "Requirement already satisfied: huggingface-hub in c:\\users\\jikim\\anaconda3\\lib\\site-packages (from sentence-transformers>=0.4.1->bertopic[visualization]) (0.5.1)\n",
      "Requirement already satisfied: nltk in c:\\users\\jikim\\anaconda3\\lib\\site-packages (from sentence-transformers>=0.4.1->bertopic[visualization]) (3.6.5)\n",
      "Requirement already satisfied: typing-extensions in c:\\users\\jikim\\anaconda3\\lib\\site-packages (from torch>=1.6.0->sentence-transformers>=0.4.1->bertopic[visualization]) (3.10.0.2)\n",
      "Requirement already satisfied: colorama in c:\\users\\jikim\\anaconda3\\lib\\site-packages (from tqdm>=4.41.1->bertopic[visualization]) (0.4.4)\n",
      "Requirement already satisfied: sacremoses in c:\\users\\jikim\\anaconda3\\lib\\site-packages (from transformers<5.0.0,>=4.6.0->sentence-transformers>=0.4.1->bertopic[visualization]) (0.0.53)\n",
      "Requirement already satisfied: requests in c:\\users\\jikim\\anaconda3\\lib\\site-packages (from transformers<5.0.0,>=4.6.0->sentence-transformers>=0.4.1->bertopic[visualization]) (2.26.0)\n",
      "Requirement already satisfied: regex!=2019.12.17 in c:\\users\\jikim\\anaconda3\\lib\\site-packages (from transformers<5.0.0,>=4.6.0->sentence-transformers>=0.4.1->bertopic[visualization]) (2021.8.3)\n",
      "Requirement already satisfied: tokenizers!=0.11.3,<0.13,>=0.11.1 in c:\\users\\jikim\\anaconda3\\lib\\site-packages (from transformers<5.0.0,>=4.6.0->sentence-transformers>=0.4.1->bertopic[visualization]) (0.12.1)\n",
      "Requirement already satisfied: filelock in c:\\users\\jikim\\anaconda3\\lib\\site-packages (from transformers<5.0.0,>=4.6.0->sentence-transformers>=0.4.1->bertopic[visualization]) (3.3.1)\n",
      "Requirement already satisfied: packaging>=20.0 in c:\\users\\jikim\\anaconda3\\lib\\site-packages (from transformers<5.0.0,>=4.6.0->sentence-transformers>=0.4.1->bertopic[visualization]) (21.0)\n"
     ]
    },
    {
     "name": "stderr",
     "output_type": "stream",
     "text": [
      "WARNING: bertopic 0.10.0 does not provide the extra 'visualization'\n"
     ]
    },
    {
     "name": "stdout",
     "output_type": "stream",
     "text": [
      "Requirement already satisfied: pyparsing>=2.0.2 in c:\\users\\jikim\\anaconda3\\lib\\site-packages (from packaging>=20.0->transformers<5.0.0,>=4.6.0->sentence-transformers>=0.4.1->bertopic[visualization]) (3.0.4)\n",
      "Requirement already satisfied: numba>=0.49 in c:\\users\\jikim\\anaconda3\\lib\\site-packages (from umap-learn>=0.5.0->bertopic[visualization]) (0.54.1)\n",
      "Requirement already satisfied: pynndescent>=0.5 in c:\\users\\jikim\\anaconda3\\lib\\site-packages (from umap-learn>=0.5.0->bertopic[visualization]) (0.5.7)\n",
      "Requirement already satisfied: llvmlite<0.38,>=0.37.0rc1 in c:\\users\\jikim\\anaconda3\\lib\\site-packages (from numba>=0.49->umap-learn>=0.5.0->bertopic[visualization]) (0.37.0)\n",
      "Requirement already satisfied: setuptools in c:\\users\\jikim\\anaconda3\\lib\\site-packages (from numba>=0.49->umap-learn>=0.5.0->bertopic[visualization]) (58.0.4)\n",
      "Requirement already satisfied: click in c:\\users\\jikim\\anaconda3\\lib\\site-packages (from nltk->sentence-transformers>=0.4.1->bertopic[visualization]) (8.0.3)\n",
      "Requirement already satisfied: charset-normalizer~=2.0.0 in c:\\users\\jikim\\anaconda3\\lib\\site-packages (from requests->transformers<5.0.0,>=4.6.0->sentence-transformers>=0.4.1->bertopic[visualization]) (2.0.4)\n",
      "Requirement already satisfied: idna<4,>=2.5 in c:\\users\\jikim\\anaconda3\\lib\\site-packages (from requests->transformers<5.0.0,>=4.6.0->sentence-transformers>=0.4.1->bertopic[visualization]) (3.2)\n",
      "Requirement already satisfied: certifi>=2017.4.17 in c:\\users\\jikim\\anaconda3\\lib\\site-packages (from requests->transformers<5.0.0,>=4.6.0->sentence-transformers>=0.4.1->bertopic[visualization]) (2021.10.8)\n",
      "Requirement already satisfied: urllib3<1.27,>=1.21.1 in c:\\users\\jikim\\anaconda3\\lib\\site-packages (from requests->transformers<5.0.0,>=4.6.0->sentence-transformers>=0.4.1->bertopic[visualization]) (1.26.7)\n",
      "Requirement already satisfied: pillow!=8.3.*,>=5.3.0 in c:\\users\\jikim\\anaconda3\\lib\\site-packages (from torchvision->sentence-transformers>=0.4.1->bertopic[visualization]) (8.4.0)\n"
     ]
    }
   ],
   "source": [
    "!pip install bertopic[visualization]"
   ]
  },
  {
   "cell_type": "markdown",
   "metadata": {
    "id": "gUovo3QhI9Di"
   },
   "source": [
    "# 데이터"
   ]
  },
  {
   "cell_type": "markdown",
   "metadata": {
    "id": "kZxKVKmYI__C"
   },
   "source": [
    "학습을 위한 데이터가 필요합니다. 여기서는 하나의 라인(line)에 하나의 문서로 구성된 파일이 필요한데요. 우선, 여러분들의 데이터가 없다면 여기서 준비한 파일로 실습을 해봅시다."
   ]
  },
  {
   "cell_type": "code",
   "execution_count": null,
   "metadata": {
    "colab": {
     "base_uri": "https://localhost:8080/"
    },
    "id": "4PnJflMGI-5p",
    "outputId": "6b73048b-0742-4e8e-a47f-4b435a196453"
   },
   "outputs": [
    {
     "name": "stdout",
     "output_type": "stream",
     "text": [
      "--2022-02-21 07:22:22--  https://raw.githubusercontent.com/lovit/soynlp/master/tutorials/2016-10-20.txt\n",
      "Resolving raw.githubusercontent.com (raw.githubusercontent.com)... 185.199.108.133, 185.199.109.133, 185.199.110.133, ...\n",
      "Connecting to raw.githubusercontent.com (raw.githubusercontent.com)|185.199.108.133|:443... connected.\n",
      "HTTP request sent, awaiting response... 200 OK\n",
      "Length: 43694449 (42M) [text/plain]\n",
      "Saving to: ‘2016-10-20.txt’\n",
      "\n",
      "2016-10-20.txt      100%[===================>]  41.67M   252MB/s    in 0.2s    \n",
      "\n",
      "2022-02-21 07:22:24 (252 MB/s) - ‘2016-10-20.txt’ saved [43694449/43694449]\n",
      "\n"
     ]
    }
   ],
   "source": [
    "!wget https://raw.githubusercontent.com/lovit/soynlp/master/tutorials/2016-10-20.txt"
   ]
  },
  {
   "cell_type": "code",
   "execution_count": 3,
   "metadata": {
    "id": "ZuiHZSC2JFlq"
   },
   "outputs": [],
   "source": [
    "text_file = \"2016-10-20.txt\""
   ]
  },
  {
   "cell_type": "code",
   "execution_count": 4,
   "metadata": {
    "id": "B2NIpCKNjkZJ"
   },
   "outputs": [],
   "source": [
    "from sklearn.datasets import fetch_20newsgroups"
   ]
  },
  {
   "cell_type": "code",
   "execution_count": 5,
   "metadata": {
    "id": "nCzOfeBCjm-m"
   },
   "outputs": [],
   "source": [
    "docs = fetch_20newsgroups(subset='all',  remove=('headers', 'footers', 'quotes'))['data']"
   ]
  },
  {
   "cell_type": "code",
   "execution_count": 6,
   "metadata": {
    "colab": {
     "base_uri": "https://localhost:8080/"
    },
    "id": "RP9gJ2jajnbI",
    "outputId": "edd6ee45-26c0-41f6-d076-cac033661ffa"
   },
   "outputs": [
    {
     "data": {
      "text/plain": [
       "[\"\\n\\nI am sure some bashers of Pens fans are pretty confused about the lack\\nof any kind of posts about the recent Pens massacre of the Devils. Actually,\\nI am  bit puzzled too and a bit relieved. However, I am going to put an end\\nto non-PIttsburghers' relief with a bit of praise for the Pens. Man, they\\nare killing those Devils worse than I thought. Jagr just showed you why\\nhe is much better than his regular season stats. He is also a lot\\nfo fun to watch in the playoffs. Bowman should let JAgr have a lot of\\nfun in the next couple of games since the Pens are going to beat the pulp out of Jersey anyway. I was very disappointed not to see the Islanders lose the final\\nregular season game.          PENS RULE!!!\\n\\n\",\n",
       " 'My brother is in the market for a high-performance video card that supports\\nVESA local bus with 1-2MB RAM.  Does anyone have suggestions/ideas on:\\n\\n  - Diamond Stealth Pro Local Bus\\n\\n  - Orchid Farenheit 1280\\n\\n  - ATI Graphics Ultra Pro\\n\\n  - Any other high-performance VLB card\\n\\n\\nPlease post or email.  Thank you!\\n\\n  - Matt\\n',\n",
       " '\\n\\n\\n\\n\\tFinally you said what you dream about. Mediterranean???? That was new....\\n\\tThe area will be \"greater\" after some years, like your \"holocaust\" numbers......\\n\\n\\n\\n\\n\\t\\t*****\\n\\tIs\\'t July in USA now????? Here in Sweden it\\'s April and still cold.\\n\\tOr have you changed your calendar???\\n\\n\\n\\t\\t\\t\\t\\t\\t    ****************\\n\\t\\t\\t\\t\\t\\t    ******************\\n\\t\\t\\t    ***************\\n\\n\\n\\tNOTHING OF THE MENTIONED IS TRUE, BUT LET SAY IT\\'s TRUE.\\n\\t\\n\\tSHALL THE AZERI WOMEN AND CHILDREN GOING TO PAY THE PRICE WITH\\n\\t\\t\\t\\t\\t\\t    **************\\n\\tBEING RAPED, KILLED AND TORTURED BY THE ARMENIANS??????????\\n\\t\\n\\tHAVE YOU HEARDED SOMETHING CALLED: \"GENEVA CONVENTION\"???????\\n\\tYOU FACIST!!!!!\\n\\n\\n\\n\\tOhhh i forgot, this is how Armenians fight, nobody has forgot\\n\\tyou killings, rapings and torture against the Kurds and Turks once\\n\\tupon a time!\\n      \\n       \\n\\n\\nOhhhh so swedish RedCross workers do lie they too? What ever you say\\n\"regional killer\", if you don\\'t like the person then shoot him that\\'s your policy.....l\\n\\n\\n\\t\\t\\t\\t\\t\\t\\t\\t\\t\\ti\\n\\t\\t\\t\\t\\t\\t\\t\\t\\t\\ti\\n\\t\\t\\t\\t\\t\\t\\t\\t\\t\\ti\\n\\tConfused?????\\t\\t\\t\\t\\t\\t\\t\\ti\\n\\t\\t\\t\\t\\t\\t\\t\\t\\t\\ti\\n        Search Turkish planes? You don\\'t know what you are talking about.\\ti\\n        Turkey\\'s government has announced that it\\'s giving weapons  <-----------i\\n        to Azerbadjan since Armenia started to attack Azerbadjan\\t\\t\\n        it self, not the Karabag province. So why search a plane for weapons\\t\\n        since it\\'s content is announced to be weapons?   \\n\\n\\tIf there is one that\\'s confused then that\\'s you! We have the right (and we do)\\n\\tto give weapons to the Azeris, since Armenians started the fight in Azerbadjan!\\n \\n\\n\\n\\tShoot down with what? Armenian bread and butter? Or the arms and personel \\n\\tof the Russian army?\\n\\n\\n',\n",
       " \"\\nThink!\\n\\nIt's the SCSI card doing the DMA transfers NOT the disks...\\n\\nThe SCSI card can do DMA transfers containing data from any of the SCSI devices\\nit is attached when it wants to.\\n\\nAn important feature of SCSI is the ability to detach a device. This frees the\\nSCSI bus for other devices. This is typically used in a multi-tasking OS to\\nstart transfers on several devices. While each device is seeking the data the\\nbus is free for other commands and data transfers. When the devices are\\nready to transfer the data they can aquire the bus and send the data.\\n\\nOn an IDE bus when you start a transfer the bus is busy until the disk has seeked\\nthe data and transfered it. This is typically a 10-20ms second lock out for other\\nprocesses wanting the bus irrespective of transfer time.\\n\",\n",
       " '1)    I have an old Jasmine drive which I cannot use with my new system.\\n My understanding is that I have to upsate the driver with a more modern\\none in order to gain compatability with system 7.0.1.  does anyone know\\nof an inexpensive program to do this?  ( I have seen formatters for <$20\\nbuit have no idea if they will work)\\n \\n2)     I have another ancient device, this one a tape drive for which\\nthe back utility freezes the system if I try to use it.  THe drive is a\\njasmine direct tape (bought used for $150 w/ 6 tapes, techmar\\nmechanism).  Essentially I have the same question as above, anyone know\\nof an inexpensive beckup utility I can use with system 7.0.1']"
      ]
     },
     "execution_count": 6,
     "metadata": {},
     "output_type": "execute_result"
    }
   ],
   "source": [
    "docs[:5]"
   ]
  },
  {
   "cell_type": "markdown",
   "metadata": {
    "id": "o6TfGhpIJHUS"
   },
   "source": [
    "# 필요한 것들을 임포트"
   ]
  },
  {
   "cell_type": "code",
   "execution_count": 7,
   "metadata": {
    "id": "FZRQTCwlIlYt"
   },
   "outputs": [],
   "source": [
    "from tqdm import tqdm\n",
    "from sklearn.feature_extraction.text import CountVectorizer\n",
    "from konlpy.tag import Mecab\n",
    "from bertopic import BERTopic"
   ]
  },
  {
   "cell_type": "markdown",
   "metadata": {
    "id": "qg-uWRxFJPfU"
   },
   "source": [
    "# 전처리"
   ]
  },
  {
   "cell_type": "code",
   "execution_count": 8,
   "metadata": {
    "id": "8TtVA2juJIOi"
   },
   "outputs": [],
   "source": [
    "documents = [line.strip() for line in open(text_file, encoding=\"utf-8\").readlines()]"
   ]
  },
  {
   "cell_type": "code",
   "execution_count": 9,
   "metadata": {
    "colab": {
     "base_uri": "https://localhost:8080/"
    },
    "id": "eOy0tVoCIsge",
    "outputId": "5f24644b-57f4-4ad0-9a44-66b3f6921099"
   },
   "outputs": [
    {
     "name": "stderr",
     "output_type": "stream",
     "text": [
      "100%|████████████████████████████████████████████████████████████████████████| 30091/30091 [00:00<00:00, 257183.62it/s]\n"
     ]
    }
   ],
   "source": [
    "preprocessed_documents = []\n",
    "\n",
    "for line in tqdm(documents):\n",
    "  # 빈 문자열이거나 숫자로만 이루어진 줄은 제외\n",
    "  if line and not line.replace(' ', '').isdecimal():\n",
    "    preprocessed_documents.append(line)"
   ]
  },
  {
   "cell_type": "code",
   "execution_count": 10,
   "metadata": {
    "colab": {
     "base_uri": "https://localhost:8080/"
    },
    "id": "xYEZN-s1j7qM",
    "outputId": "c10a6940-58f0-47e5-8e36-6e6ee2f33db4"
   },
   "outputs": [
    {
     "data": {
      "text/plain": [
       "['오패산터널 총격전 용의자 검거 서울 연합뉴스 경찰 관계자들이 19일 오후 서울 강북구 오패산 터널 인근에서 사제 총기를 발사해 경찰을 살해한 용의자 성모씨를 검거하고 있다 성씨는 검거 당시 서바이벌 게임에서 쓰는 방탄조끼에 헬멧까지 착용한 상태였다 독자제공 영상 캡처 연합뉴스  서울 연합뉴스 김은경 기자 사제 총기로 경찰을 살해한 범인 성모 46 씨는 주도면밀했다  경찰에 따르면 성씨는 19일 오후 강북경찰서 인근 부동산 업소 밖에서 부동산업자 이모 67 씨가 나오기를 기다렸다 이씨와는 평소에도 말다툼을 자주 한 것으로 알려졌다  이씨가 나와 걷기 시작하자 성씨는 따라가면서 미리 준비해온 사제 총기를 이씨에게 발사했다 총알이 빗나가면서 이씨는 도망갔다 그 빗나간 총알은 지나가던 행인 71 씨의 배를 스쳤다  성씨는 강북서 인근 치킨집까지 이씨 뒤를 쫓으며 실랑이하다 쓰러뜨린 후 총기와 함께 가져온 망치로 이씨 머리를 때렸다  이 과정에서 오후 6시 20분께 강북구 번동 길 위에서 사람들이 싸우고 있다 총소리가 났다 는 등의 신고가 여러건 들어왔다  5분 후에 성씨의 전자발찌가 훼손됐다는 신고가 보호관찰소 시스템을 통해 들어왔다 성범죄자로 전자발찌를 차고 있던 성씨는 부엌칼로 직접 자신의 발찌를 끊었다  용의자 소지 사제총기 2정 서울 연합뉴스 임헌정 기자 서울 시내에서 폭행 용의자가 현장 조사를 벌이던 경찰관에게 사제총기를 발사해 경찰관이 숨졌다 19일 오후 6시28분 강북구 번동에서 둔기로 맞았다 는 폭행 피해 신고가 접수돼 현장에서 조사하던 강북경찰서 번동파출소 소속 김모 54 경위가 폭행 용의자 성모 45 씨가 쏜 사제총기에 맞고 쓰러진 뒤 병원에 옮겨졌으나 숨졌다 사진은 용의자가 소지한 사제총기  신고를 받고 번동파출소에서 김창호 54 경위 등 경찰들이 오후 6시 29분께 현장으로 출동했다 성씨는 그사이 부동산 앞에 놓아뒀던 가방을 챙겨 오패산 쪽으로 도망간 후였다  김 경위는 오패산 터널 입구 오른쪽의 급경사에서 성씨에게 접근하다가 오후 6시 33분께 풀숲에 숨은 성씨가 허공에 난사한 10여발의 총알 중 일부를 왼쪽 어깨 뒷부분에 맞고 쓰러졌다  김 경위는 구급차가 도착했을 때 이미 의식이 없었고 심폐소생술을 하며 병원으로 옮겨졌으나 총알이 폐를 훼손해 오후 7시 40분께 사망했다  김 경위는 외근용 조끼를 입고 있었으나 총알을 막기에는 역부족이었다  머리에 부상을 입은 이씨도 함께 병원으로 이송됐으나 생명에는 지장이 없는 것으로 알려졌다  성씨는 오패산 터널 밑쪽 숲에서 오후 6시 45분께 잡혔다  총격현장 수색하는 경찰들 서울 연합뉴스 이효석 기자 19일 오후 서울 강북구 오패산 터널 인근에서 경찰들이 폭행 용의자가 사제총기를 발사해 경찰관이 사망한 사건을 조사 하고 있다  총 때문에 쫓던 경관들과 민간인들이 몸을 숨겼는데 인근 신발가게 직원 이모씨가 다가가 성씨를 덮쳤고 이어 현장에 있던 다른 상인들과 경찰이 가세해 체포했다  성씨는 경찰에 붙잡힌 직후 나 자살하려고 한 거다 맞아 죽어도 괜찮다 고 말한 것으로 전해졌다  성씨 자신도 경찰이 발사한 공포탄 1발 실탄 3발 중 실탄 1발을 배에 맞았으나 방탄조끼를 입은 상태여서 부상하지는 않았다  경찰은 인근을 수색해 성씨가 만든 사제총 16정과 칼 7개를 압수했다 실제 폭발할지는 알 수 없는 요구르트병에 무언가를 채워두고 심지를 꽂은 사제 폭탄도 발견됐다  일부는 숲에서 발견됐고 일부는 성씨가 소지한 가방 안에 있었다',\n",
       " '테헤란 연합뉴스 강훈상 특파원 이용 승객수 기준 세계 최대 공항인 아랍에미리트 두바이국제공항은 19일 현지시간 이 공항을 이륙하는 모든 항공기의 탑승객은 삼성전자의 갤럭시노트7을 휴대하면 안 된다고 밝혔다  두바이국제공항은 여러 항공 관련 기구의 권고에 따라 안전성에 우려가 있는 스마트폰 갤럭시노트7을 휴대하고 비행기를 타면 안 된다 며 탑승 전 검색 중 발견되면 압수할 계획 이라고 발표했다  공항 측은 갤럭시노트7의 배터리가 폭발 우려가 제기된 만큼 이 제품을 갖고 공항 안으로 들어오지 말라고 이용객에 당부했다  이런 조치는 두바이국제공항 뿐 아니라 신공항인 두바이월드센터에도 적용된다  배터리 폭발문제로 회수된 갤럭시노트7 연합뉴스자료사진',\n",
       " '브뤼셀 연합뉴스 김병수 특파원 독일 정부는 19일 원자력발전소를 폐쇄하기로 함에 따라 원자력 발전소 운영자들에게 핵폐기물 처리를 지원하는 펀드에 235억 유로 260억 달러 29조 원 를 지불하도록 하는 계획을 승인했다고 언론들이 보도했다  앞서 독일은 5년 전 일본 후쿠시마 원전사태 이후 오는 2022년까지 원전 17기를 모두 폐쇄하기로 하고 오는 2050년까지 전기생산량의 80 를 재생에너지로 충당하는 것을 목표로 세웠다  이날 내각을 통과한 법안은 원전 운영자들이 원전 해체와 핵폐기물 처리를 위한 포장을 책임지고 정부는 핵폐기물 보관을 책임지도록 했다  독일 경제부는 전력회사들과 공식적인 접촉은 아직 합의되지 않았다고 밝혔다  독일 원자력 발전소 연합뉴스 자료사진',\n",
       " '서울 연합뉴스 19일 서울 강북구에서 사제 총기범이 쏜 총탄에 숨진 김창호 54 경위의 생전 모습 김 경위는 의협심 강하고 솔선수범하는 참된 경찰관이었다는 평가를 받는다 2016 10 20 서울 강북경찰서 제공 연합뉴스',\n",
       " '몇 개월 새 1억 달러 벌어 리스크관리 강화탓에 드문 일  뉴욕 연합뉴스 박성제 특파원 미국의 대형은행인 골드만삭스에서 근무하는 트레이더가 투자부적격 등급의 채권인 정크본드 에 투자해 몇 개월 사이에 1억 달러 약 1천123억 원 가 넘는 이익을 남긴 것으로 알려졌다  금융감독당국이 글로벌 금융위기 이후 대형은행의 리스크관리를 강조하는 상황이어서 이런 대박은 흔치 않은 것으로 여겨지고 있다  월스트리트저널은 뉴욕에서 고수익채권업무를 하는 골드만삭스의 톰 맬러프론트 34 관리이사가 올 초에 정크본드에 투자해 1억 달러 이상의 수익을 골드만삭스에 안겼다고 소식통을 인용해 19일 현지시간 보도했다  맬러프론트는 올 1월에 광산업체인 프리포트 맥모란 과 테크 리소시즈 가 발행한 투자부적격 등급 채권을 수십억 달러어치 매입했다  이어 채권 가격이 오르자 짧게는 며칠 뒤에 길게는 몇 주 뒤에 되팔아 거액을 챙긴 것으로 전해졌다  뉴저지 주 럿거스대학 야구선수 출신인 그는 2013년 골드만삭스 입사 전에 헤지펀드 블루 마운틴 캐피털 매니지먼트와 크레디트 스위스그룹에서 근무했다  월스트리트저널은 금융 감독 당국의 감시 탓에 대형은행이 정크본드에 투자해 엄청난 수익을 내는 일이 최근에는 드물다고 설명했다  글로벌 금융위기 이전에는 리스크를 무릅쓰고 고수익을 추구한 탓에 이런 사례가 종종 있었지만 위기 재발 방지에 나선 감독 당국이 대형은행에 리스크관리를 강하게 주문하면서 수익률이 낮지만 안전한 투자가 주를 이루고 있다  감독 당국은 은행에 채권 판매자와 구매자를 중개하는 시장 조성자 의 역할을 강조하고 자체 돈으로 투자하는 것도 제한하고 있다  이에 따라 대형은행들은 고객의 돈이 아닌 은행 자체 돈을 투자하는 이른바 프랍 트레이딩 을 없애는 등 채권에 대한 투자를 줄였다  골드만삭스는 트레이더가 하루에 채권에 투자할 수 있는 금액의 한도를 설정하는 등 자체 기준도 강화해 시행하고 있다  맬러프론트가 은행 돈을 투자한 것인지 아니면 시장 조성자로서 고객의 돈을 중개한 것인지는 명확하지 않다  또 골드만삭스가 정한 투자 한도를 초과했는지와 감독 당국이 이번 투자 건을 조사했는지도 확인되지 않았다고 월스트리트저널은 덧붙였다  뉴욕에 있는 골드만삭스 본부 연합뉴스 자료사진']"
      ]
     },
     "execution_count": 10,
     "metadata": {},
     "output_type": "execute_result"
    }
   ],
   "source": [
    "preprocessed_documents[:5]"
   ]
  },
  {
   "cell_type": "markdown",
   "metadata": {
    "id": "XQTO-lhg1hAB"
   },
   "source": [
    "# Mecab과 SBERT를 이용한 Bertopic"
   ]
  },
  {
   "cell_type": "code",
   "execution_count": 11,
   "metadata": {
    "id": "IzNE7PkgJU1C"
   },
   "outputs": [],
   "source": [
    "class CustomTokenizer:\n",
    "    def __init__(self, tagger):\n",
    "        self.tagger = tagger\n",
    "    def __call__(self, sent):\n",
    "        sent = sent[:1000000]\n",
    "        word_tokens = self.tagger.morphs(sent)\n",
    "        result = [word for word in word_tokens if len(word) > 1]\n",
    "        return result"
   ]
  },
  {
   "cell_type": "code",
   "execution_count": 13,
   "metadata": {},
   "outputs": [],
   "source": [
    "from eunjeon import Mecab"
   ]
  },
  {
   "cell_type": "code",
   "execution_count": 14,
   "metadata": {
    "id": "iXwWMzZkKn5p"
   },
   "outputs": [],
   "source": [
    "custom_tokenizer = CustomTokenizer(Mecab())"
   ]
  },
  {
   "cell_type": "code",
   "execution_count": 15,
   "metadata": {
    "id": "M6rcrTgxKZMJ"
   },
   "outputs": [],
   "source": [
    "vectorizer = CountVectorizer(tokenizer=custom_tokenizer, max_features=3000)"
   ]
  },
  {
   "cell_type": "code",
   "execution_count": 16,
   "metadata": {
    "id": "AyrAo6KyKRub"
   },
   "outputs": [],
   "source": [
    "model = BERTopic(embedding_model=\"sentence-transformers/xlm-r-100langs-bert-base-nli-stsb-mean-tokens\", \\\n",
    "                 vectorizer_model=vectorizer,\n",
    "                 nr_topics=50,\n",
    "                 top_n_words=10,\n",
    "                 calculate_probabilities=True)"
   ]
  },
  {
   "cell_type": "code",
   "execution_count": null,
   "metadata": {
    "id": "cTJ0Y-zZK7vB"
   },
   "outputs": [],
   "source": [
    "topics, probs = model.fit_transform(preprocessed_documents)"
   ]
  },
  {
   "cell_type": "code",
   "execution_count": null,
   "metadata": {
    "colab": {
     "base_uri": "https://localhost:8080/",
     "height": 667
    },
    "id": "ZlXy1nKhKleb",
    "outputId": "e0fe48b6-ab8d-4303-ba43-67caf2244fe5"
   },
   "outputs": [],
   "source": [
    "model.visualize_topics()"
   ]
  },
  {
   "cell_type": "code",
   "execution_count": null,
   "metadata": {
    "colab": {
     "base_uri": "https://localhost:8080/",
     "height": 617
    },
    "id": "J7g3O1KwQTUH",
    "outputId": "351d74b3-2c1e-4b64-dd02-4b4b8e3addf7"
   },
   "outputs": [],
   "source": [
    "model.visualize_distribution(probs[0])"
   ]
  },
  {
   "cell_type": "code",
   "execution_count": null,
   "metadata": {
    "colab": {
     "base_uri": "https://localhost:8080/"
    },
    "id": "lbs79Ie7TwO4",
    "outputId": "b3dc73dc-4a68-4dda-ce6f-496c267e9cb0"
   },
   "outputs": [],
   "source": [
    "for i in range(0, 50):\n",
    "  print(i,'번째 토픽 :', model.get_topic(i))"
   ]
  },
  {
   "cell_type": "code",
   "execution_count": null,
   "metadata": {},
   "outputs": [],
   "source": []
  }
 ],
 "metadata": {
  "accelerator": "GPU",
  "colab": {
   "collapsed_sections": [],
   "machine_shape": "hm",
   "name": "Bertopic_Korean.ipynb",
   "provenance": [],
   "toc_visible": true
  },
  "kernelspec": {
   "display_name": "Python 3",
   "language": "python",
   "name": "python3"
  },
  "language_info": {
   "codemirror_mode": {
    "name": "ipython",
    "version": 3
   },
   "file_extension": ".py",
   "mimetype": "text/x-python",
   "name": "python",
   "nbconvert_exporter": "python",
   "pygments_lexer": "ipython3",
   "version": "3.9.7"
  }
 },
 "nbformat": 4,
 "nbformat_minor": 1
}
