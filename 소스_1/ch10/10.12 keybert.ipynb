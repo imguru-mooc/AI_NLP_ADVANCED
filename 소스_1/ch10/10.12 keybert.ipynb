{
 "cells": [
  {
   "cell_type": "markdown",
   "metadata": {},
   "source": [
    "### BERT를 이용한 키워드 추출 : 키버트(KeyBERT)"
   ]
  },
  {
   "cell_type": "markdown",
   "metadata": {
    "id": "5M6R3HOS1kja"
   },
   "source": [
    "참고 자료 : https://towardsdatascience.com/keyword-extraction-with-bert-724efca412ea"
   ]
  },
  {
   "cell_type": "code",
   "execution_count": 1,
   "metadata": {
    "colab": {
     "base_uri": "https://localhost:8080/"
    },
    "id": "QOmAceu1kWr9",
    "outputId": "59c817fa-e2da-47a4-9701-4ad18f214a29"
   },
   "outputs": [
    {
     "name": "stdout",
     "output_type": "stream",
     "text": [
      "Requirement already satisfied: sentence_transformers in c:\\users\\jikim\\anaconda3\\lib\\site-packages (2.2.0)\n",
      "Requirement already satisfied: sentencepiece in c:\\users\\jikim\\anaconda3\\lib\\site-packages (from sentence_transformers) (0.1.96)\n",
      "Requirement already satisfied: tqdm in c:\\users\\jikim\\anaconda3\\lib\\site-packages (from sentence_transformers) (4.62.3)\n",
      "Requirement already satisfied: torch>=1.6.0 in c:\\users\\jikim\\anaconda3\\lib\\site-packages (from sentence_transformers) (1.11.0)\n",
      "Requirement already satisfied: huggingface-hub in c:\\users\\jikim\\anaconda3\\lib\\site-packages (from sentence_transformers) (0.5.1)\n",
      "Requirement already satisfied: scikit-learn in c:\\users\\jikim\\anaconda3\\lib\\site-packages (from sentence_transformers) (0.24.2)\n",
      "Requirement already satisfied: transformers<5.0.0,>=4.6.0 in c:\\users\\jikim\\anaconda3\\lib\\site-packages (from sentence_transformers) (4.19.2)\n",
      "Requirement already satisfied: numpy in c:\\users\\jikim\\anaconda3\\lib\\site-packages (from sentence_transformers) (1.22.4)\n",
      "Requirement already satisfied: scipy in c:\\users\\jikim\\anaconda3\\lib\\site-packages (from sentence_transformers) (1.7.1)\n",
      "Requirement already satisfied: torchvision in c:\\users\\jikim\\anaconda3\\lib\\site-packages (from sentence_transformers) (0.12.0)\n",
      "Requirement already satisfied: nltk in c:\\users\\jikim\\anaconda3\\lib\\site-packages (from sentence_transformers) (3.6.5)\n",
      "Requirement already satisfied: typing_extensions in c:\\users\\jikim\\anaconda3\\lib\\site-packages (from torch>=1.6.0->sentence_transformers) (3.10.0.2)\n",
      "Requirement already satisfied: regex!=2019.12.17 in c:\\users\\jikim\\anaconda3\\lib\\site-packages (from transformers<5.0.0,>=4.6.0->sentence_transformers) (2021.8.3)\n",
      "Requirement already satisfied: requests in c:\\users\\jikim\\anaconda3\\lib\\site-packages (from transformers<5.0.0,>=4.6.0->sentence_transformers) (2.27.1)\n",
      "Requirement already satisfied: tokenizers!=0.11.3,<0.13,>=0.11.1 in c:\\users\\jikim\\anaconda3\\lib\\site-packages (from transformers<5.0.0,>=4.6.0->sentence_transformers) (0.12.1)\n",
      "Requirement already satisfied: filelock in c:\\users\\jikim\\anaconda3\\lib\\site-packages (from transformers<5.0.0,>=4.6.0->sentence_transformers) (3.3.1)\n",
      "Requirement already satisfied: packaging>=20.0 in c:\\users\\jikim\\anaconda3\\lib\\site-packages (from transformers<5.0.0,>=4.6.0->sentence_transformers) (21.0)\n",
      "Requirement already satisfied: pyyaml>=5.1 in c:\\users\\jikim\\anaconda3\\lib\\site-packages (from transformers<5.0.0,>=4.6.0->sentence_transformers) (5.4.1)\n",
      "Requirement already satisfied: pyparsing>=2.0.2 in c:\\users\\jikim\\anaconda3\\lib\\site-packages (from packaging>=20.0->transformers<5.0.0,>=4.6.0->sentence_transformers) (3.0.4)\n",
      "Requirement already satisfied: colorama in c:\\users\\jikim\\anaconda3\\lib\\site-packages (from tqdm->sentence_transformers) (0.4.4)\n",
      "Requirement already satisfied: click in c:\\users\\jikim\\anaconda3\\lib\\site-packages (from nltk->sentence_transformers) (7.1.2)\n",
      "Requirement already satisfied: joblib in c:\\users\\jikim\\anaconda3\\lib\\site-packages (from nltk->sentence_transformers) (1.1.0)\n",
      "Requirement already satisfied: idna<4,>=2.5 in c:\\users\\jikim\\anaconda3\\lib\\site-packages (from requests->transformers<5.0.0,>=4.6.0->sentence_transformers) (2.10)\n",
      "Requirement already satisfied: certifi>=2017.4.17 in c:\\users\\jikim\\anaconda3\\lib\\site-packages (from requests->transformers<5.0.0,>=4.6.0->sentence_transformers) (2020.6.20)\n",
      "Requirement already satisfied: charset-normalizer~=2.0.0 in c:\\users\\jikim\\anaconda3\\lib\\site-packages (from requests->transformers<5.0.0,>=4.6.0->sentence_transformers) (2.0.4)\n",
      "Requirement already satisfied: urllib3<1.27,>=1.21.1 in c:\\users\\jikim\\anaconda3\\lib\\site-packages (from requests->transformers<5.0.0,>=4.6.0->sentence_transformers) (1.26.5)\n",
      "Requirement already satisfied: threadpoolctl>=2.0.0 in c:\\users\\jikim\\anaconda3\\lib\\site-packages (from scikit-learn->sentence_transformers) (2.2.0)\n",
      "Requirement already satisfied: pillow!=8.3.*,>=5.3.0 in c:\\users\\jikim\\anaconda3\\lib\\site-packages (from torchvision->sentence_transformers) (8.4.0)\n"
     ]
    }
   ],
   "source": [
    "!pip install sentence_transformers"
   ]
  },
  {
   "cell_type": "markdown",
   "metadata": {
    "id": "90aIbIiLrqz3"
   },
   "source": [
    "특정 문서의 주요 정보를 이해하고자 할 때 키워드 추출을 통해서 입력 텍스트와 가장 관련이 있는 단어와 구문을 추출할 수 있습니다. 'Rake'나 'YAKE!'와 같은 키워드를 추출하는 데 사용할 수 있는 패키지가 이미 존재합니다. 그러나 이러한 모델은 일반적으로 텍스트의 통계적 특성에 기반하여 작동하며 의미적인 유사성에 대해서는 고려하지 않습니다. 의미적 유사성을 고려하기 위해서 여기서는 SBERT 임베딩을 활용하여 사용하기 쉬운 키워드 추출 알고리즘인 KeyBERT를 사용합니다."
   ]
  },
  {
   "cell_type": "markdown",
   "metadata": {
    "id": "TaxveAOApIru"
   },
   "source": [
    "# 1. 기본 KeyBERT"
   ]
  },
  {
   "cell_type": "code",
   "execution_count": 2,
   "metadata": {
    "id": "d1eODWZ6kw2w"
   },
   "outputs": [],
   "source": [
    "import numpy as np\n",
    "import itertools\n",
    "\n",
    "from sklearn.feature_extraction.text import CountVectorizer\n",
    "from sklearn.metrics.pairwise import cosine_similarity\n",
    "from sentence_transformers import SentenceTransformer"
   ]
  },
  {
   "cell_type": "markdown",
   "metadata": {
    "id": "7BGBPRpQsUqg"
   },
   "source": [
    "이 튜토리얼에서는 지도 학습에 대한 영어 문서를 사용합니다. 여러분들이 이미 친숙한 주제에 대한 문서이므로 키워드 추출이 잘 되고 있는지 여러분들이 직관적으로 판단하기에 좋은 예시일 것입니다."
   ]
  },
  {
   "cell_type": "code",
   "execution_count": 3,
   "metadata": {
    "id": "YjY9MmrPkPbX"
   },
   "outputs": [],
   "source": [
    "doc = \"\"\"\n",
    "         Supervised learning is the machine learning task of \n",
    "         learning a function that maps an input to an output based \n",
    "         on example input-output pairs.[1] It infers a function \n",
    "         from labeled training data consisting of a set of \n",
    "         training examples.[2] In supervised learning, each \n",
    "         example is a pair consisting of an input object \n",
    "         (typically a vector) and a desired output value (also \n",
    "         called the supervisory signal). A supervised learning \n",
    "         algorithm analyzes the training data and produces an \n",
    "         inferred function, which can be used for mapping new \n",
    "         examples. An optimal scenario will allow for the algorithm \n",
    "         to correctly determine the class labels for unseen \n",
    "         instances. This requires the learning algorithm to  \n",
    "         generalize from the training data to unseen situations \n",
    "         in a 'reasonable' way (see inductive bias).\n",
    "      \"\"\""
   ]
  },
  {
   "cell_type": "markdown",
   "metadata": {
    "id": "Upr1ps4qswAh"
   },
   "source": [
    "여기서는 사이킷런의 CountVectorizer를 사용하여 단어를 추출합니다.  CountVectorizer를 사용하는 이유는 n_gram_range의 인자를 사용하면 단쉽게 n-gram을 추출할 수 있기 때문입니다. 예를 들어, (3, 3)로 설정하면 결과 후보는 3개의 단어를 한 묶음으로 간주하는 tri-gram을 추출합니다."
   ]
  },
  {
   "cell_type": "code",
   "execution_count": 14,
   "metadata": {
    "colab": {
     "base_uri": "https://localhost:8080/"
    },
    "id": "C0SC908jkEfz",
    "outputId": "53b5e555-2eda-4a89-abfb-d842a82acb59"
   },
   "outputs": [
    {
     "name": "stdout",
     "output_type": "stream",
     "text": [
      "trigram 개수 : 72\n",
      "trigram 다섯개만 출력 : ['algorithm analyzes training', 'algorithm correctly determine', 'algorithm generalize training', 'allow algorithm correctly', 'analyzes training data', 'based example input', 'called supervisory signal', 'class labels unseen', 'consisting input object', 'consisting set training']\n"
     ]
    }
   ],
   "source": [
    "# 3개의 단어 묶음인 단어구 추출\n",
    "n_gram_range = (3, 3)\n",
    "stop_words = \"english\"\n",
    "\n",
    "count = CountVectorizer(ngram_range=n_gram_range, stop_words=stop_words).fit([doc])\n",
    "candidates = count.get_feature_names()\n",
    "\n",
    "print('trigram 개수 :',len(candidates))\n",
    "print('trigram 다섯개만 출력 :',candidates[:10])"
   ]
  },
  {
   "cell_type": "markdown",
   "metadata": {
    "id": "h7Dqv6jwv94E"
   },
   "source": [
    "다음으로 이제 문서와 문서로부터 추출한 키워드들을 SBERT를 통해서 수치화 할 차례입니다."
   ]
  },
  {
   "cell_type": "code",
   "execution_count": 15,
   "metadata": {
    "id": "zGZKkdNdkUF_"
   },
   "outputs": [],
   "source": [
    "model = SentenceTransformer('distilbert-base-nli-mean-tokens')\n",
    "doc_embedding = model.encode([doc])\n",
    "candidate_embeddings = model.encode(candidates)"
   ]
  },
  {
   "cell_type": "code",
   "execution_count": 9,
   "metadata": {},
   "outputs": [
    {
     "name": "stdout",
     "output_type": "stream",
     "text": [
      "(1, 768)\n",
      "(72, 768)\n"
     ]
    }
   ],
   "source": [
    "print(doc_embedding.shape)\n",
    "print(candidate_embeddings.shape)"
   ]
  },
  {
   "cell_type": "markdown",
   "metadata": {
    "id": "E9KGcs62p5OG"
   },
   "source": [
    "이제 문서와 가장 유사한 키워드들을 추출합니다. 여기서는 문서와 가장 유사한 키워드들은 문서를 대표하기 위한 좋은 키워드라고 가정합니다. 상위 5개의 키워드를 출력합니다."
   ]
  },
  {
   "cell_type": "code",
   "execution_count": 16,
   "metadata": {
    "id": "8l3aJzWTkpgG"
   },
   "outputs": [],
   "source": [
    "top_n = 5\n",
    "distances = cosine_similarity(doc_embedding, candidate_embeddings)\n",
    "keywords = [candidates[index] for index in distances.argsort()[0][-top_n:]]"
   ]
  },
  {
   "cell_type": "code",
   "execution_count": 17,
   "metadata": {
    "colab": {
     "base_uri": "https://localhost:8080/"
    },
    "id": "i7PkJYUAmOWN",
    "outputId": "7e720175-8a5f-498e-b9ed-f41c00274df4"
   },
   "outputs": [
    {
     "data": {
      "text/plain": [
       "['algorithm analyzes training',\n",
       " 'learning algorithm generalize',\n",
       " 'learning machine learning',\n",
       " 'learning algorithm analyzes',\n",
       " 'algorithm generalize training']"
      ]
     },
     "execution_count": 17,
     "metadata": {},
     "output_type": "execute_result"
    }
   ],
   "source": [
    "keywords"
   ]
  },
  {
   "cell_type": "markdown",
   "metadata": {
    "id": "m4HPcJOxmMxt"
   },
   "source": [
    "5개의 키워드가 출력되는데, 이들의 의미가 좀 비슷해보입니다. 비슷한 의미의 키워드들이 리턴되는 데는 이유가 있습니다. 당연히 이 키워드들이 문서를 가장 잘 나타내고 있기 때문입니다. 만약, 지금 출력한 것보다는 좀 더 다양한 의미의 키워드들이 출력된다면 이들을 그룹으로 본다는 관점에서는 어쩌면 해당 키워드들이 문서를 잘 나타낼 가능성이 적을 수도 있습니다. 따라서 키워드들을 다양하게 출력하고 싶다면 키워드 선정의 정확성과 키워드들의 다양성 사이의 미묘한 균형이 필요합니다."
   ]
  },
  {
   "cell_type": "markdown",
   "metadata": {
    "id": "_HgqGxytwtFI"
   },
   "source": [
    "여기서는 다양한 키워드들을 얻기 위해서 두 가지 알고리즘을 사용합니다."
   ]
  },
  {
   "cell_type": "markdown",
   "metadata": {
    "id": "AupvVbihwy4Z"
   },
   "source": [
    "* Max Sum Similarity  \n",
    "* Maximal Marginal Relevance"
   ]
  },
  {
   "cell_type": "markdown",
   "metadata": {
    "id": "IoXd7eWFlzVx"
   },
   "source": [
    "# 2. Max Sum Similarity"
   ]
  },
  {
   "cell_type": "markdown",
   "metadata": {
    "id": "hOMeOmkLl2oJ"
   },
   "source": [
    "데이터 쌍 사이의 최대 합 거리는 데이터 쌍 간의 거리가 최대화되는 데이터 쌍으로 정의됩니다. 여기서의 의도는 후보 간의 유사성을 최소화하면서 문서와의 후보 유사성을 극대화하고자 하는 것입니다."
   ]
  },
  {
   "cell_type": "code",
   "execution_count": 22,
   "metadata": {},
   "outputs": [
    {
     "name": "stdout",
     "output_type": "stream",
     "text": [
      "(1, 1)\n",
      "[[1.]]\n"
     ]
    }
   ],
   "source": [
    "a = np.array([[1,2,3]]) # (1,3)\n",
    "b = np.array([[1,2,3]]) # (1,3)\n",
    "c = cosine_similarity(a, b)\n",
    "print(c.shape)\n",
    "print(c)"
   ]
  },
  {
   "cell_type": "code",
   "execution_count": 25,
   "metadata": {},
   "outputs": [
    {
     "name": "stdout",
     "output_type": "stream",
     "text": [
      "(1, 2)\n",
      "[[0.98270763 0.97463185]]\n"
     ]
    }
   ],
   "source": [
    "a = np.array([[1,2,3]]) # (1,3)\n",
    "b = np.array([[3,4,5],\n",
    "              [4,5,6]]) # (2,3)\n",
    "c = cosine_similarity(a, b)\n",
    "print(c.shape)  # (1,2)\n",
    "print(c)"
   ]
  },
  {
   "cell_type": "code",
   "execution_count": 26,
   "metadata": {},
   "outputs": [
    {
     "name": "stdout",
     "output_type": "stream",
     "text": [
      "(2, 2)\n",
      "[[1.         0.97463185]\n",
      " [0.98270763 0.99922048]]\n"
     ]
    }
   ],
   "source": [
    "a = np.array([[1,2,3],\n",
    "              [3,4,5]]) # (2,3)\n",
    "b = np.array([[1,2,3],\n",
    "              [4,5,6]]) # (2,3)\n",
    "c = cosine_similarity(a, b)\n",
    "print(c.shape)  # (2,2)\n",
    "print(c)"
   ]
  },
  {
   "cell_type": "code",
   "execution_count": 36,
   "metadata": {},
   "outputs": [
    {
     "name": "stdout",
     "output_type": "stream",
     "text": [
      "(2, 2)\n",
      "[[1.         0.98270763]\n",
      " [0.98270763 1.        ]]\n"
     ]
    }
   ],
   "source": [
    "a = np.array([[1,2,3],\n",
    "              [3,4,5]]) # (2,3)\n",
    "b = np.array([[1,2,3],\n",
    "              [4,5,6]]) # (2,3)\n",
    "c = cosine_similarity(a)\n",
    "print(c.shape)  # (2,2)\n",
    "print(c)"
   ]
  },
  {
   "cell_type": "code",
   "execution_count": 30,
   "metadata": {},
   "outputs": [
    {
     "name": "stdout",
     "output_type": "stream",
     "text": [
      "[[ 0  1  2  3  4  5  6  7  8  9]\n",
      " [10 11 12 13 14 15 16 17 18 19]\n",
      " [20 21 22 23 24 25 26 27 28 29]\n",
      " [30 31 32 33 34 35 36 37 38 39]\n",
      " [40 41 42 43 44 45 46 47 48 49]\n",
      " [50 51 52 53 54 55 56 57 58 59]\n",
      " [60 61 62 63 64 65 66 67 68 69]\n",
      " [70 71 72 73 74 75 76 77 78 79]\n",
      " [80 81 82 83 84 85 86 87 88 89]\n",
      " [90 91 92 93 94 95 96 97 98 99]]\n",
      "(array([[0],\n",
      "       [2],\n",
      "       [4],\n",
      "       [6],\n",
      "       [8]]), array([[0, 2, 4, 6, 8]]))\n",
      "[[ 0  2  4  6  8]\n",
      " [20 22 24 26 28]\n",
      " [40 42 44 46 48]\n",
      " [60 62 64 66 68]\n",
      " [80 82 84 86 88]]\n"
     ]
    }
   ],
   "source": [
    "a = np.arange(100).reshape(10,10)\n",
    "idx = [0,2,4,6,8]\n",
    "print(a)\n",
    "print(np.ix_(idx, idx))  # ((5,1) , (1,5))\n",
    "print(a[np.ix_(idx, idx)])"
   ]
  },
  {
   "cell_type": "code",
   "execution_count": 31,
   "metadata": {},
   "outputs": [
    {
     "name": "stdout",
     "output_type": "stream",
     "text": [
      "(0, 1, 2)\n",
      "(0, 1, 3)\n",
      "(0, 1, 4)\n",
      "(0, 2, 3)\n",
      "(0, 2, 4)\n",
      "(0, 3, 4)\n",
      "(1, 2, 3)\n",
      "(1, 2, 4)\n",
      "(1, 3, 4)\n",
      "(2, 3, 4)\n"
     ]
    }
   ],
   "source": [
    "words_idx = [0,2,4,6,8]\n",
    "top_n = 3\n",
    "\n",
    "for combination in itertools.combinations(range(len(words_idx)), top_n):\n",
    "    print(combination)"
   ]
  },
  {
   "cell_type": "code",
   "execution_count": 34,
   "metadata": {
    "id": "7I4MpmMhk2JS"
   },
   "outputs": [],
   "source": [
    "def max_sum_sim(doc_embedding, candidate_embeddings, words, top_n, nr_candidates):\n",
    "    # 문서와 각 키워드들 간의 유사도\n",
    "    distances = cosine_similarity(doc_embedding, candidate_embeddings)\n",
    "#                                   (1,768)        (72,768)\n",
    "    print(distances.shape)\n",
    "\n",
    "    # 각 키워드들 간의 유사도\n",
    "    distances_candidates = cosine_similarity(candidate_embeddings, \n",
    "                                            candidate_embeddings)\n",
    "    print(distances_candidates.shape)\n",
    "\n",
    "    # 코사인 유사도에 기반하여 키워드들 중 상위 top_n개의 단어를 pick.\n",
    "    words_idx = list(distances.argsort()[0][-nr_candidates:])\n",
    "    print(words_idx)\n",
    "    words_vals = [candidates[index] for index in words_idx]\n",
    "    print(words_vals)\n",
    "    distances_candidates = distances_candidates[np.ix_(words_idx, words_idx)]\n",
    "    print(distances_candidates.shape)\n",
    "\n",
    "    # 각 키워드들 중에서 가장 덜 유사한 키워드들간의 조합을 계산\n",
    "    min_sim = np.inf\n",
    "    candidate = None\n",
    "    count=0\n",
    "    for combination in itertools.combinations(range(len(words_idx)), top_n):\n",
    "        count += 1\n",
    "        print(combination)\n",
    "        sim = sum([distances_candidates[i][j] for i in combination for j in combination if i != j])\n",
    "        if sim < min_sim:\n",
    "            candidate = combination\n",
    "            min_sim = sim\n",
    "\n",
    "    print(count)\n",
    "    return [words_vals[idx] for idx in candidate]"
   ]
  },
  {
   "cell_type": "markdown",
   "metadata": {
    "id": "hSHRT4GyrU6T"
   },
   "source": [
    "이를 위해 상위 10개의 키워드를 선택하고 이 10개 중에서 서로 가장 유사성이 낮은 5개를 선택합니다."
   ]
  },
  {
   "cell_type": "markdown",
   "metadata": {
    "id": "cVEwuvdtoNbl"
   },
   "source": [
    "낮은 nr_candidates를 설정하면 결과는 출력된 키워드 5개는 기존의 코사인 유사도만 사용한 것과 매우 유사한 것으로 보입니다."
   ]
  },
  {
   "cell_type": "code",
   "execution_count": 35,
   "metadata": {
    "colab": {
     "base_uri": "https://localhost:8080/"
    },
    "id": "k8HbW4xvnw6S",
    "outputId": "be52b60b-c2cb-4fbe-aaea-ab8382dac100"
   },
   "outputs": [
    {
     "name": "stdout",
     "output_type": "stream",
     "text": [
      "(1, 72)\n",
      "(72, 72)\n",
      "[51, 54, 35, 58, 56, 0, 33, 36, 32, 2]\n",
      "['requires learning algorithm', 'signal supervised learning', 'learning function maps', 'supervised learning machine', 'supervised learning algorithm', 'algorithm analyzes training', 'learning algorithm generalize', 'learning machine learning', 'learning algorithm analyzes', 'algorithm generalize training']\n",
      "(10, 10)\n",
      "(0, 1, 2, 3, 4)\n",
      "(0, 1, 2, 3, 5)\n",
      "(0, 1, 2, 3, 6)\n",
      "(0, 1, 2, 3, 7)\n",
      "(0, 1, 2, 3, 8)\n",
      "(0, 1, 2, 3, 9)\n",
      "(0, 1, 2, 4, 5)\n",
      "(0, 1, 2, 4, 6)\n",
      "(0, 1, 2, 4, 7)\n",
      "(0, 1, 2, 4, 8)\n",
      "(0, 1, 2, 4, 9)\n",
      "(0, 1, 2, 5, 6)\n",
      "(0, 1, 2, 5, 7)\n",
      "(0, 1, 2, 5, 8)\n",
      "(0, 1, 2, 5, 9)\n",
      "(0, 1, 2, 6, 7)\n",
      "(0, 1, 2, 6, 8)\n",
      "(0, 1, 2, 6, 9)\n",
      "(0, 1, 2, 7, 8)\n",
      "(0, 1, 2, 7, 9)\n",
      "(0, 1, 2, 8, 9)\n",
      "(0, 1, 3, 4, 5)\n",
      "(0, 1, 3, 4, 6)\n",
      "(0, 1, 3, 4, 7)\n",
      "(0, 1, 3, 4, 8)\n",
      "(0, 1, 3, 4, 9)\n",
      "(0, 1, 3, 5, 6)\n",
      "(0, 1, 3, 5, 7)\n",
      "(0, 1, 3, 5, 8)\n",
      "(0, 1, 3, 5, 9)\n",
      "(0, 1, 3, 6, 7)\n",
      "(0, 1, 3, 6, 8)\n",
      "(0, 1, 3, 6, 9)\n",
      "(0, 1, 3, 7, 8)\n",
      "(0, 1, 3, 7, 9)\n",
      "(0, 1, 3, 8, 9)\n",
      "(0, 1, 4, 5, 6)\n",
      "(0, 1, 4, 5, 7)\n",
      "(0, 1, 4, 5, 8)\n",
      "(0, 1, 4, 5, 9)\n",
      "(0, 1, 4, 6, 7)\n",
      "(0, 1, 4, 6, 8)\n",
      "(0, 1, 4, 6, 9)\n",
      "(0, 1, 4, 7, 8)\n",
      "(0, 1, 4, 7, 9)\n",
      "(0, 1, 4, 8, 9)\n",
      "(0, 1, 5, 6, 7)\n",
      "(0, 1, 5, 6, 8)\n",
      "(0, 1, 5, 6, 9)\n",
      "(0, 1, 5, 7, 8)\n",
      "(0, 1, 5, 7, 9)\n",
      "(0, 1, 5, 8, 9)\n",
      "(0, 1, 6, 7, 8)\n",
      "(0, 1, 6, 7, 9)\n",
      "(0, 1, 6, 8, 9)\n",
      "(0, 1, 7, 8, 9)\n",
      "(0, 2, 3, 4, 5)\n",
      "(0, 2, 3, 4, 6)\n",
      "(0, 2, 3, 4, 7)\n",
      "(0, 2, 3, 4, 8)\n",
      "(0, 2, 3, 4, 9)\n",
      "(0, 2, 3, 5, 6)\n",
      "(0, 2, 3, 5, 7)\n",
      "(0, 2, 3, 5, 8)\n",
      "(0, 2, 3, 5, 9)\n",
      "(0, 2, 3, 6, 7)\n",
      "(0, 2, 3, 6, 8)\n",
      "(0, 2, 3, 6, 9)\n",
      "(0, 2, 3, 7, 8)\n",
      "(0, 2, 3, 7, 9)\n",
      "(0, 2, 3, 8, 9)\n",
      "(0, 2, 4, 5, 6)\n",
      "(0, 2, 4, 5, 7)\n",
      "(0, 2, 4, 5, 8)\n",
      "(0, 2, 4, 5, 9)\n",
      "(0, 2, 4, 6, 7)\n",
      "(0, 2, 4, 6, 8)\n",
      "(0, 2, 4, 6, 9)\n",
      "(0, 2, 4, 7, 8)\n",
      "(0, 2, 4, 7, 9)\n",
      "(0, 2, 4, 8, 9)\n",
      "(0, 2, 5, 6, 7)\n",
      "(0, 2, 5, 6, 8)\n",
      "(0, 2, 5, 6, 9)\n",
      "(0, 2, 5, 7, 8)\n",
      "(0, 2, 5, 7, 9)\n",
      "(0, 2, 5, 8, 9)\n",
      "(0, 2, 6, 7, 8)\n",
      "(0, 2, 6, 7, 9)\n",
      "(0, 2, 6, 8, 9)\n",
      "(0, 2, 7, 8, 9)\n",
      "(0, 3, 4, 5, 6)\n",
      "(0, 3, 4, 5, 7)\n",
      "(0, 3, 4, 5, 8)\n",
      "(0, 3, 4, 5, 9)\n",
      "(0, 3, 4, 6, 7)\n",
      "(0, 3, 4, 6, 8)\n",
      "(0, 3, 4, 6, 9)\n",
      "(0, 3, 4, 7, 8)\n",
      "(0, 3, 4, 7, 9)\n",
      "(0, 3, 4, 8, 9)\n",
      "(0, 3, 5, 6, 7)\n",
      "(0, 3, 5, 6, 8)\n",
      "(0, 3, 5, 6, 9)\n",
      "(0, 3, 5, 7, 8)\n",
      "(0, 3, 5, 7, 9)\n",
      "(0, 3, 5, 8, 9)\n",
      "(0, 3, 6, 7, 8)\n",
      "(0, 3, 6, 7, 9)\n",
      "(0, 3, 6, 8, 9)\n",
      "(0, 3, 7, 8, 9)\n",
      "(0, 4, 5, 6, 7)\n",
      "(0, 4, 5, 6, 8)\n",
      "(0, 4, 5, 6, 9)\n",
      "(0, 4, 5, 7, 8)\n",
      "(0, 4, 5, 7, 9)\n",
      "(0, 4, 5, 8, 9)\n",
      "(0, 4, 6, 7, 8)\n",
      "(0, 4, 6, 7, 9)\n",
      "(0, 4, 6, 8, 9)\n",
      "(0, 4, 7, 8, 9)\n",
      "(0, 5, 6, 7, 8)\n",
      "(0, 5, 6, 7, 9)\n",
      "(0, 5, 6, 8, 9)\n",
      "(0, 5, 7, 8, 9)\n",
      "(0, 6, 7, 8, 9)\n",
      "(1, 2, 3, 4, 5)\n",
      "(1, 2, 3, 4, 6)\n",
      "(1, 2, 3, 4, 7)\n",
      "(1, 2, 3, 4, 8)\n",
      "(1, 2, 3, 4, 9)\n",
      "(1, 2, 3, 5, 6)\n",
      "(1, 2, 3, 5, 7)\n",
      "(1, 2, 3, 5, 8)\n",
      "(1, 2, 3, 5, 9)\n",
      "(1, 2, 3, 6, 7)\n",
      "(1, 2, 3, 6, 8)\n",
      "(1, 2, 3, 6, 9)\n",
      "(1, 2, 3, 7, 8)\n",
      "(1, 2, 3, 7, 9)\n",
      "(1, 2, 3, 8, 9)\n",
      "(1, 2, 4, 5, 6)\n",
      "(1, 2, 4, 5, 7)\n",
      "(1, 2, 4, 5, 8)\n",
      "(1, 2, 4, 5, 9)\n",
      "(1, 2, 4, 6, 7)\n",
      "(1, 2, 4, 6, 8)\n",
      "(1, 2, 4, 6, 9)\n",
      "(1, 2, 4, 7, 8)\n",
      "(1, 2, 4, 7, 9)\n",
      "(1, 2, 4, 8, 9)\n",
      "(1, 2, 5, 6, 7)\n",
      "(1, 2, 5, 6, 8)\n",
      "(1, 2, 5, 6, 9)\n",
      "(1, 2, 5, 7, 8)\n",
      "(1, 2, 5, 7, 9)\n",
      "(1, 2, 5, 8, 9)\n",
      "(1, 2, 6, 7, 8)\n",
      "(1, 2, 6, 7, 9)\n",
      "(1, 2, 6, 8, 9)\n",
      "(1, 2, 7, 8, 9)\n",
      "(1, 3, 4, 5, 6)\n",
      "(1, 3, 4, 5, 7)\n",
      "(1, 3, 4, 5, 8)\n",
      "(1, 3, 4, 5, 9)\n",
      "(1, 3, 4, 6, 7)\n",
      "(1, 3, 4, 6, 8)\n",
      "(1, 3, 4, 6, 9)\n",
      "(1, 3, 4, 7, 8)\n",
      "(1, 3, 4, 7, 9)\n",
      "(1, 3, 4, 8, 9)\n",
      "(1, 3, 5, 6, 7)\n",
      "(1, 3, 5, 6, 8)\n",
      "(1, 3, 5, 6, 9)\n",
      "(1, 3, 5, 7, 8)\n",
      "(1, 3, 5, 7, 9)\n",
      "(1, 3, 5, 8, 9)\n",
      "(1, 3, 6, 7, 8)\n",
      "(1, 3, 6, 7, 9)\n",
      "(1, 3, 6, 8, 9)\n",
      "(1, 3, 7, 8, 9)\n",
      "(1, 4, 5, 6, 7)\n",
      "(1, 4, 5, 6, 8)\n",
      "(1, 4, 5, 6, 9)\n",
      "(1, 4, 5, 7, 8)\n",
      "(1, 4, 5, 7, 9)\n",
      "(1, 4, 5, 8, 9)\n",
      "(1, 4, 6, 7, 8)\n",
      "(1, 4, 6, 7, 9)\n",
      "(1, 4, 6, 8, 9)\n",
      "(1, 4, 7, 8, 9)\n",
      "(1, 5, 6, 7, 8)\n",
      "(1, 5, 6, 7, 9)\n",
      "(1, 5, 6, 8, 9)\n",
      "(1, 5, 7, 8, 9)\n",
      "(1, 6, 7, 8, 9)\n",
      "(2, 3, 4, 5, 6)\n",
      "(2, 3, 4, 5, 7)\n",
      "(2, 3, 4, 5, 8)\n",
      "(2, 3, 4, 5, 9)\n",
      "(2, 3, 4, 6, 7)\n",
      "(2, 3, 4, 6, 8)\n",
      "(2, 3, 4, 6, 9)\n",
      "(2, 3, 4, 7, 8)\n",
      "(2, 3, 4, 7, 9)\n",
      "(2, 3, 4, 8, 9)\n",
      "(2, 3, 5, 6, 7)\n",
      "(2, 3, 5, 6, 8)\n",
      "(2, 3, 5, 6, 9)\n",
      "(2, 3, 5, 7, 8)\n",
      "(2, 3, 5, 7, 9)\n",
      "(2, 3, 5, 8, 9)\n",
      "(2, 3, 6, 7, 8)\n",
      "(2, 3, 6, 7, 9)\n",
      "(2, 3, 6, 8, 9)\n",
      "(2, 3, 7, 8, 9)\n",
      "(2, 4, 5, 6, 7)\n",
      "(2, 4, 5, 6, 8)\n",
      "(2, 4, 5, 6, 9)\n",
      "(2, 4, 5, 7, 8)\n",
      "(2, 4, 5, 7, 9)\n",
      "(2, 4, 5, 8, 9)\n",
      "(2, 4, 6, 7, 8)\n",
      "(2, 4, 6, 7, 9)\n",
      "(2, 4, 6, 8, 9)\n",
      "(2, 4, 7, 8, 9)\n",
      "(2, 5, 6, 7, 8)\n",
      "(2, 5, 6, 7, 9)\n",
      "(2, 5, 6, 8, 9)\n",
      "(2, 5, 7, 8, 9)\n",
      "(2, 6, 7, 8, 9)\n",
      "(3, 4, 5, 6, 7)\n",
      "(3, 4, 5, 6, 8)\n",
      "(3, 4, 5, 6, 9)\n",
      "(3, 4, 5, 7, 8)\n",
      "(3, 4, 5, 7, 9)\n",
      "(3, 4, 5, 8, 9)\n",
      "(3, 4, 6, 7, 8)\n",
      "(3, 4, 6, 7, 9)\n",
      "(3, 4, 6, 8, 9)\n",
      "(3, 4, 7, 8, 9)\n",
      "(3, 5, 6, 7, 8)\n",
      "(3, 5, 6, 7, 9)\n",
      "(3, 5, 6, 8, 9)\n",
      "(3, 5, 7, 8, 9)\n",
      "(3, 6, 7, 8, 9)\n",
      "(4, 5, 6, 7, 8)\n",
      "(4, 5, 6, 7, 9)\n",
      "(4, 5, 6, 8, 9)\n",
      "(4, 5, 7, 8, 9)\n",
      "(4, 6, 7, 8, 9)\n",
      "(5, 6, 7, 8, 9)\n",
      "252\n"
     ]
    },
    {
     "data": {
      "text/plain": [
       "['requires learning algorithm',\n",
       " 'signal supervised learning',\n",
       " 'learning function maps',\n",
       " 'algorithm analyzes training',\n",
       " 'learning machine learning']"
      ]
     },
     "execution_count": 35,
     "metadata": {},
     "output_type": "execute_result"
    }
   ],
   "source": [
    "max_sum_sim(doc_embedding, candidate_embeddings, candidates, top_n=5, nr_candidates=10)"
   ]
  },
  {
   "cell_type": "markdown",
   "metadata": {
    "id": "wyENsqxKoN39"
   },
   "source": [
    "그러나 상대적으로 높은 nr_candidates는 더 다양한 키워드 5개를 만듭니다."
   ]
  },
  {
   "cell_type": "code",
   "execution_count": 31,
   "metadata": {
    "colab": {
     "base_uri": "https://localhost:8080/"
    },
    "id": "ELoogEc9oKyc",
    "outputId": "07f3d5e9-4b0b-403f-ac9e-7c8a96cd8c57"
   },
   "outputs": [
    {
     "name": "stdout",
     "output_type": "stream",
     "text": [
      "(1, 72)\n",
      "(72, 72)\n",
      "[53, 62, 23, 64, 60, 37, 57, 4, 38, 19, 51, 54, 35, 58, 56, 0, 33, 36, 32, 2]\n",
      "['set training examples', 'training data produces', 'generalize training data', 'training examples supervised', 'task learning function', 'learning task learning', 'supervised learning example', 'analyzes training data', 'machine learning task', 'examples supervised learning', 'requires learning algorithm', 'signal supervised learning', 'learning function maps', 'supervised learning machine', 'supervised learning algorithm', 'algorithm analyzes training', 'learning algorithm generalize', 'learning machine learning', 'learning algorithm analyzes', 'algorithm generalize training']\n",
      "(20, 20)\n"
     ]
    },
    {
     "data": {
      "text/plain": [
       "['set training examples',\n",
       " 'generalize training data',\n",
       " 'requires learning algorithm',\n",
       " 'supervised learning algorithm',\n",
       " 'learning machine learning']"
      ]
     },
     "execution_count": 31,
     "metadata": {},
     "output_type": "execute_result"
    }
   ],
   "source": [
    "max_sum_sim(doc_embedding, candidate_embeddings, candidates, top_n=5, nr_candidates=20)"
   ]
  },
  {
   "cell_type": "markdown",
   "metadata": {
    "id": "q8TJsvU-p1a3"
   },
   "source": [
    "# 3. Maximal Marginal Relevance"
   ]
  },
  {
   "cell_type": "markdown",
   "metadata": {
    "id": "d6Oc7LwspRCs"
   },
   "source": [
    "결과를 다양화하는 마지막 방법은 MMR(Maximum Limit Relegance)입니다. MMR은 텍스트 요약 작업에서 중복을 최소화하고 결과의 다양성을 극대화하기 위해 노력합니다. 참고 할 수 있는 자료로 EmbedRank(https://arxiv.org/pdf/1801.04470.pdf) 라는 키워드 추출 알고리즘은 키워드/키프레이즈를 다양화하는 데 사용할 수 있는 MMR을 구현했습니다. 먼저 문서와 가장 유사한 키워드/키프레이즈를 선택합니다. 그런 다음 문서와 유사하고 이미 선택된 키워드/키프레이즈와 유사하지 않은 새로운 후보를 반복적으로 선택합니다."
   ]
  },
  {
   "cell_type": "code",
   "execution_count": 47,
   "metadata": {
    "id": "Ft7LAjDXonB_"
   },
   "outputs": [],
   "source": [
    "def mmr(doc_embedding, candidate_embeddings, words, top_n, diversity):\n",
    "\n",
    "    # 문서와 각 키워드들 간의 유사도가 적혀있는 리스트\n",
    "    word_doc_similarity = cosine_similarity(candidate_embeddings, doc_embedding)\n",
    "    print(word_doc_similarity.shape)\n",
    "    \n",
    "    # 각 키워드들 간의 유사도\n",
    "    word_similarity = cosine_similarity(candidate_embeddings)\n",
    "    print(word_similarity.shape)\n",
    "\n",
    "    # 문서와 가장 높은 유사도를 가진 키워드의 인덱스를 추출.\n",
    "    # 만약, 2번 문서가 가장 유사도가 높았다면\n",
    "    # keywords_idx = [2]\n",
    "    keywords_idx = [np.argmax(word_doc_similarity)]\n",
    "    print(keywords_idx)\n",
    "    \n",
    "\n",
    "    # 가장 높은 유사도를 가진 키워드의 인덱스를 제외한 문서의 인덱스들\n",
    "    # 만약, 2번 문서가 가장 유사도가 높았다면\n",
    "    # ==> candidates_idx = [0, 1, 3, 4, 5, 6, 7, 8, 9, 10 ... 중략 ...]\n",
    "    candidates_idx = [i for i in range(len(words)) if i != keywords_idx[0]]\n",
    "    print(candidates_idx)\n",
    "\n",
    "    # 최고의 키워드는 이미 추출했으므로 top_n-1번만큼 아래를 반복.\n",
    "    # ex) top_n = 5라면, 아래의 loop는 4번 반복됨.\n",
    "    for _ in range(top_n - 1):\n",
    "        candidate_similarities = word_doc_similarity[candidates_idx, :]\n",
    "        print(candidate_similarities.shape)\n",
    "        print(word_similarity[candidates_idx].shape)\n",
    "        print(word_similarity[candidates_idx][:, keywords_idx].shape)\n",
    "        target_similarities = np.max(word_similarity[candidates_idx][:, keywords_idx], axis=1)\n",
    "                                           # (72,72)=> (71,72) => (71,1)             \n",
    "        print(target_similarities.shape)   # (71,)\n",
    "\n",
    "        # MMR을 계산    --- 월요일 여기서 부터\n",
    "        mmr = (1-diversity) * candidate_similarities - diversity * target_similarities.reshape(-1, 1)\n",
    "        mmr_idx = candidates_idx[np.argmax(mmr)]\n",
    "\n",
    "        # keywords & candidates를 업데이트\n",
    "        keywords_idx.append(mmr_idx)\n",
    "        candidates_idx.remove(mmr_idx)\n",
    "\n",
    "    return [words[idx] for idx in keywords_idx]"
   ]
  },
  {
   "cell_type": "markdown",
   "metadata": {
    "id": "jPExUo11o213"
   },
   "source": [
    "만약 우리가 상대적으로 낮은 diversity 값을 설정한다면, 결과는 기존의 코사인 유사도만 사용한 것과 매우 유사한 것으로 보입니다."
   ]
  },
  {
   "cell_type": "code",
   "execution_count": 48,
   "metadata": {
    "colab": {
     "base_uri": "https://localhost:8080/"
    },
    "id": "hfxryZSOopAy",
    "outputId": "0be26c08-a154-463f-ec80-3a07b3424bdf"
   },
   "outputs": [
    {
     "name": "stdout",
     "output_type": "stream",
     "text": [
      "(72, 1)\n",
      "(72, 72)\n",
      "[2]\n",
      "[0, 1, 3, 4, 5, 6, 7, 8, 9, 10, 11, 12, 13, 14, 15, 16, 17, 18, 19, 20, 21, 22, 23, 24, 25, 26, 27, 28, 29, 30, 31, 32, 33, 34, 35, 36, 37, 38, 39, 40, 41, 42, 43, 44, 45, 46, 47, 48, 49, 50, 51, 52, 53, 54, 55, 56, 57, 58, 59, 60, 61, 62, 63, 64, 65, 66, 67, 68, 69, 70, 71]\n",
      "(71, 1)\n",
      "(71, 72)\n",
      "(71, 1)\n",
      "(71,)\n",
      "(70, 1)\n",
      "(70, 72)\n",
      "(70, 2)\n",
      "(70,)\n",
      "(69, 1)\n",
      "(69, 72)\n",
      "(69, 3)\n",
      "(69,)\n",
      "(68, 1)\n",
      "(68, 72)\n",
      "(68, 4)\n",
      "(68,)\n"
     ]
    },
    {
     "data": {
      "text/plain": [
       "['algorithm generalize training',\n",
       " 'supervised learning algorithm',\n",
       " 'learning machine learning',\n",
       " 'learning algorithm analyzes',\n",
       " 'learning algorithm generalize']"
      ]
     },
     "execution_count": 48,
     "metadata": {},
     "output_type": "execute_result"
    }
   ],
   "source": [
    "mmr(doc_embedding, candidate_embeddings, candidates, top_n=5, diversity=0.2)"
   ]
  },
  {
   "cell_type": "markdown",
   "metadata": {
    "id": "gL_gQ3Rlo57T"
   },
   "source": [
    "그러나 상대적으로 높은 diversity값은 다양한 키워드 5개를 만들어냅니다."
   ]
  },
  {
   "cell_type": "code",
   "execution_count": 47,
   "metadata": {
    "colab": {
     "base_uri": "https://localhost:8080/"
    },
    "id": "hlMapb1covnK",
    "outputId": "21753cb0-5fee-4f8e-cf23-4c741ab3cbfb"
   },
   "outputs": [
    {
     "name": "stdout",
     "output_type": "stream",
     "text": [
      "(72, 1)\n",
      "(72, 72)\n",
      "[2]\n",
      "71\n",
      "(71, 1)\n",
      "(71, 1)\n",
      "(71,)\n",
      "(70, 1)\n",
      "(70, 2)\n",
      "(70,)\n",
      "(69, 1)\n",
      "(69, 3)\n",
      "(69,)\n",
      "(68, 1)\n",
      "(68, 4)\n",
      "(68,)\n"
     ]
    },
    {
     "data": {
      "text/plain": [
       "['algorithm generalize training',\n",
       " 'labels unseen instances',\n",
       " 'new examples optimal',\n",
       " 'determine class labels',\n",
       " 'supervised learning algorithm']"
      ]
     },
     "execution_count": 47,
     "metadata": {},
     "output_type": "execute_result"
    }
   ],
   "source": [
    "mmr(doc_embedding, candidate_embeddings, candidates, top_n=5, diversity=0.7)"
   ]
  },
  {
   "cell_type": "code",
   "execution_count": null,
   "metadata": {},
   "outputs": [],
   "source": []
  }
 ],
 "metadata": {
  "accelerator": "GPU",
  "colab": {
   "machine_shape": "hm",
   "name": "KeyBert",
   "provenance": []
  },
  "kernelspec": {
   "display_name": "Python 3",
   "language": "python",
   "name": "python3"
  },
  "language_info": {
   "codemirror_mode": {
    "name": "ipython",
    "version": 3
   },
   "file_extension": ".py",
   "mimetype": "text/x-python",
   "name": "python",
   "nbconvert_exporter": "python",
   "pygments_lexer": "ipython3",
   "version": "3.9.7"
  }
 },
 "nbformat": 4,
 "nbformat_minor": 1
}
