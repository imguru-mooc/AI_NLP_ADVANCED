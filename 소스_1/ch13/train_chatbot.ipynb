{
  "nbformat": 4,
  "nbformat_minor": 0,
  "metadata": {
    "colab": {
      "name": "train-chatbot",
      "provenance": [],
      "collapsed_sections": []
    },
    "kernelspec": {
      "name": "python3",
      "display_name": "Python 3"
    },
    "language_info": {
      "name": "python"
    },
    "accelerator": "TPU",
    "widgets": {
      "application/vnd.jupyter.widget-state+json": {
        "036c9fab45bc438fa6d9c24cd3e60265": {
          "model_module": "@jupyter-widgets/controls",
          "model_name": "HBoxModel",
          "model_module_version": "1.5.0",
          "state": {
            "_dom_classes": [],
            "_model_module": "@jupyter-widgets/controls",
            "_model_module_version": "1.5.0",
            "_model_name": "HBoxModel",
            "_view_count": null,
            "_view_module": "@jupyter-widgets/controls",
            "_view_module_version": "1.5.0",
            "_view_name": "HBoxView",
            "box_style": "",
            "children": [
              "IPY_MODEL_4eb8651d6eaa4629b6b4a9ab9dfc41e5",
              "IPY_MODEL_4bc49e01d5474c219b8b7383c8a0bc6c",
              "IPY_MODEL_c90ceacc08bf4ae3a9539a454920f5e8"
            ],
            "layout": "IPY_MODEL_6cfca77efdb74802847489b1bbed8dfd"
          }
        },
        "4eb8651d6eaa4629b6b4a9ab9dfc41e5": {
          "model_module": "@jupyter-widgets/controls",
          "model_name": "HTMLModel",
          "model_module_version": "1.5.0",
          "state": {
            "_dom_classes": [],
            "_model_module": "@jupyter-widgets/controls",
            "_model_module_version": "1.5.0",
            "_model_name": "HTMLModel",
            "_view_count": null,
            "_view_module": "@jupyter-widgets/controls",
            "_view_module_version": "1.5.0",
            "_view_name": "HTMLView",
            "description": "",
            "description_tooltip": null,
            "layout": "IPY_MODEL_9d1c41433dbb4304b9966f5010e08542",
            "placeholder": "​",
            "style": "IPY_MODEL_fdd58cad46104fe18a32e7adc61e24d8",
            "value": "Downloading: 100%"
          }
        },
        "4bc49e01d5474c219b8b7383c8a0bc6c": {
          "model_module": "@jupyter-widgets/controls",
          "model_name": "FloatProgressModel",
          "model_module_version": "1.5.0",
          "state": {
            "_dom_classes": [],
            "_model_module": "@jupyter-widgets/controls",
            "_model_module_version": "1.5.0",
            "_model_name": "FloatProgressModel",
            "_view_count": null,
            "_view_module": "@jupyter-widgets/controls",
            "_view_module_version": "1.5.0",
            "_view_name": "ProgressView",
            "bar_style": "success",
            "description": "",
            "description_tooltip": null,
            "layout": "IPY_MODEL_99513bce33224f5b9f895874d805574b",
            "max": 134,
            "min": 0,
            "orientation": "horizontal",
            "style": "IPY_MODEL_e73843a7d07e42fd88cf18be138d7f47",
            "value": 134
          }
        },
        "c90ceacc08bf4ae3a9539a454920f5e8": {
          "model_module": "@jupyter-widgets/controls",
          "model_name": "HTMLModel",
          "model_module_version": "1.5.0",
          "state": {
            "_dom_classes": [],
            "_model_module": "@jupyter-widgets/controls",
            "_model_module_version": "1.5.0",
            "_model_name": "HTMLModel",
            "_view_count": null,
            "_view_module": "@jupyter-widgets/controls",
            "_view_module_version": "1.5.0",
            "_view_name": "HTMLView",
            "description": "",
            "description_tooltip": null,
            "layout": "IPY_MODEL_6ea6cbb6712d48a2b896db61fa9a73df",
            "placeholder": "​",
            "style": "IPY_MODEL_374083404f03437d9e2d4989cd37e585",
            "value": " 134/134 [00:00&lt;00:00, 3.19kB/s]"
          }
        },
        "6cfca77efdb74802847489b1bbed8dfd": {
          "model_module": "@jupyter-widgets/base",
          "model_name": "LayoutModel",
          "model_module_version": "1.2.0",
          "state": {
            "_model_module": "@jupyter-widgets/base",
            "_model_module_version": "1.2.0",
            "_model_name": "LayoutModel",
            "_view_count": null,
            "_view_module": "@jupyter-widgets/base",
            "_view_module_version": "1.2.0",
            "_view_name": "LayoutView",
            "align_content": null,
            "align_items": null,
            "align_self": null,
            "border": null,
            "bottom": null,
            "display": null,
            "flex": null,
            "flex_flow": null,
            "grid_area": null,
            "grid_auto_columns": null,
            "grid_auto_flow": null,
            "grid_auto_rows": null,
            "grid_column": null,
            "grid_gap": null,
            "grid_row": null,
            "grid_template_areas": null,
            "grid_template_columns": null,
            "grid_template_rows": null,
            "height": null,
            "justify_content": null,
            "justify_items": null,
            "left": null,
            "margin": null,
            "max_height": null,
            "max_width": null,
            "min_height": null,
            "min_width": null,
            "object_fit": null,
            "object_position": null,
            "order": null,
            "overflow": null,
            "overflow_x": null,
            "overflow_y": null,
            "padding": null,
            "right": null,
            "top": null,
            "visibility": null,
            "width": null
          }
        },
        "9d1c41433dbb4304b9966f5010e08542": {
          "model_module": "@jupyter-widgets/base",
          "model_name": "LayoutModel",
          "model_module_version": "1.2.0",
          "state": {
            "_model_module": "@jupyter-widgets/base",
            "_model_module_version": "1.2.0",
            "_model_name": "LayoutModel",
            "_view_count": null,
            "_view_module": "@jupyter-widgets/base",
            "_view_module_version": "1.2.0",
            "_view_name": "LayoutView",
            "align_content": null,
            "align_items": null,
            "align_self": null,
            "border": null,
            "bottom": null,
            "display": null,
            "flex": null,
            "flex_flow": null,
            "grid_area": null,
            "grid_auto_columns": null,
            "grid_auto_flow": null,
            "grid_auto_rows": null,
            "grid_column": null,
            "grid_gap": null,
            "grid_row": null,
            "grid_template_areas": null,
            "grid_template_columns": null,
            "grid_template_rows": null,
            "height": null,
            "justify_content": null,
            "justify_items": null,
            "left": null,
            "margin": null,
            "max_height": null,
            "max_width": null,
            "min_height": null,
            "min_width": null,
            "object_fit": null,
            "object_position": null,
            "order": null,
            "overflow": null,
            "overflow_x": null,
            "overflow_y": null,
            "padding": null,
            "right": null,
            "top": null,
            "visibility": null,
            "width": null
          }
        },
        "fdd58cad46104fe18a32e7adc61e24d8": {
          "model_module": "@jupyter-widgets/controls",
          "model_name": "DescriptionStyleModel",
          "model_module_version": "1.5.0",
          "state": {
            "_model_module": "@jupyter-widgets/controls",
            "_model_module_version": "1.5.0",
            "_model_name": "DescriptionStyleModel",
            "_view_count": null,
            "_view_module": "@jupyter-widgets/base",
            "_view_module_version": "1.2.0",
            "_view_name": "StyleView",
            "description_width": ""
          }
        },
        "99513bce33224f5b9f895874d805574b": {
          "model_module": "@jupyter-widgets/base",
          "model_name": "LayoutModel",
          "model_module_version": "1.2.0",
          "state": {
            "_model_module": "@jupyter-widgets/base",
            "_model_module_version": "1.2.0",
            "_model_name": "LayoutModel",
            "_view_count": null,
            "_view_module": "@jupyter-widgets/base",
            "_view_module_version": "1.2.0",
            "_view_name": "LayoutView",
            "align_content": null,
            "align_items": null,
            "align_self": null,
            "border": null,
            "bottom": null,
            "display": null,
            "flex": null,
            "flex_flow": null,
            "grid_area": null,
            "grid_auto_columns": null,
            "grid_auto_flow": null,
            "grid_auto_rows": null,
            "grid_column": null,
            "grid_gap": null,
            "grid_row": null,
            "grid_template_areas": null,
            "grid_template_columns": null,
            "grid_template_rows": null,
            "height": null,
            "justify_content": null,
            "justify_items": null,
            "left": null,
            "margin": null,
            "max_height": null,
            "max_width": null,
            "min_height": null,
            "min_width": null,
            "object_fit": null,
            "object_position": null,
            "order": null,
            "overflow": null,
            "overflow_x": null,
            "overflow_y": null,
            "padding": null,
            "right": null,
            "top": null,
            "visibility": null,
            "width": null
          }
        },
        "e73843a7d07e42fd88cf18be138d7f47": {
          "model_module": "@jupyter-widgets/controls",
          "model_name": "ProgressStyleModel",
          "model_module_version": "1.5.0",
          "state": {
            "_model_module": "@jupyter-widgets/controls",
            "_model_module_version": "1.5.0",
            "_model_name": "ProgressStyleModel",
            "_view_count": null,
            "_view_module": "@jupyter-widgets/base",
            "_view_module_version": "1.2.0",
            "_view_name": "StyleView",
            "bar_color": null,
            "description_width": ""
          }
        },
        "6ea6cbb6712d48a2b896db61fa9a73df": {
          "model_module": "@jupyter-widgets/base",
          "model_name": "LayoutModel",
          "model_module_version": "1.2.0",
          "state": {
            "_model_module": "@jupyter-widgets/base",
            "_model_module_version": "1.2.0",
            "_model_name": "LayoutModel",
            "_view_count": null,
            "_view_module": "@jupyter-widgets/base",
            "_view_module_version": "1.2.0",
            "_view_name": "LayoutView",
            "align_content": null,
            "align_items": null,
            "align_self": null,
            "border": null,
            "bottom": null,
            "display": null,
            "flex": null,
            "flex_flow": null,
            "grid_area": null,
            "grid_auto_columns": null,
            "grid_auto_flow": null,
            "grid_auto_rows": null,
            "grid_column": null,
            "grid_gap": null,
            "grid_row": null,
            "grid_template_areas": null,
            "grid_template_columns": null,
            "grid_template_rows": null,
            "height": null,
            "justify_content": null,
            "justify_items": null,
            "left": null,
            "margin": null,
            "max_height": null,
            "max_width": null,
            "min_height": null,
            "min_width": null,
            "object_fit": null,
            "object_position": null,
            "order": null,
            "overflow": null,
            "overflow_x": null,
            "overflow_y": null,
            "padding": null,
            "right": null,
            "top": null,
            "visibility": null,
            "width": null
          }
        },
        "374083404f03437d9e2d4989cd37e585": {
          "model_module": "@jupyter-widgets/controls",
          "model_name": "DescriptionStyleModel",
          "model_module_version": "1.5.0",
          "state": {
            "_model_module": "@jupyter-widgets/controls",
            "_model_module_version": "1.5.0",
            "_model_name": "DescriptionStyleModel",
            "_view_count": null,
            "_view_module": "@jupyter-widgets/base",
            "_view_module_version": "1.2.0",
            "_view_name": "StyleView",
            "description_width": ""
          }
        },
        "3e8a41efc9814c5ea7447f6ca4ae702a": {
          "model_module": "@jupyter-widgets/controls",
          "model_name": "HBoxModel",
          "model_module_version": "1.5.0",
          "state": {
            "_dom_classes": [],
            "_model_module": "@jupyter-widgets/controls",
            "_model_module_version": "1.5.0",
            "_model_name": "HBoxModel",
            "_view_count": null,
            "_view_module": "@jupyter-widgets/controls",
            "_view_module_version": "1.5.0",
            "_view_name": "HBoxView",
            "box_style": "",
            "children": [
              "IPY_MODEL_55cd00c5a5f54145a6642d94ca792fd2",
              "IPY_MODEL_5626aeb0fbc64de1843fb17bc0aceb5f",
              "IPY_MODEL_c352de5cafb740429f702505035eae21"
            ],
            "layout": "IPY_MODEL_067ddac3b9c04af5b561ad6c77e16712"
          }
        },
        "55cd00c5a5f54145a6642d94ca792fd2": {
          "model_module": "@jupyter-widgets/controls",
          "model_name": "HTMLModel",
          "model_module_version": "1.5.0",
          "state": {
            "_dom_classes": [],
            "_model_module": "@jupyter-widgets/controls",
            "_model_module_version": "1.5.0",
            "_model_name": "HTMLModel",
            "_view_count": null,
            "_view_module": "@jupyter-widgets/controls",
            "_view_module_version": "1.5.0",
            "_view_name": "HTMLView",
            "description": "",
            "description_tooltip": null,
            "layout": "IPY_MODEL_564ef0fd1421427689f4c4bcef243609",
            "placeholder": "​",
            "style": "IPY_MODEL_1d46cfd8e2ae447889403f8fcaf5a1cc",
            "value": "Downloading: 100%"
          }
        },
        "5626aeb0fbc64de1843fb17bc0aceb5f": {
          "model_module": "@jupyter-widgets/controls",
          "model_name": "FloatProgressModel",
          "model_module_version": "1.5.0",
          "state": {
            "_dom_classes": [],
            "_model_module": "@jupyter-widgets/controls",
            "_model_module_version": "1.5.0",
            "_model_name": "FloatProgressModel",
            "_view_count": null,
            "_view_module": "@jupyter-widgets/controls",
            "_view_module_version": "1.5.0",
            "_view_name": "ProgressView",
            "bar_style": "success",
            "description": "",
            "description_tooltip": null,
            "layout": "IPY_MODEL_03742eace5e94de59cfdb40ef9469144",
            "max": 1029,
            "min": 0,
            "orientation": "horizontal",
            "style": "IPY_MODEL_0a329160e57e420e8958b32f99d77d2c",
            "value": 1029
          }
        },
        "c352de5cafb740429f702505035eae21": {
          "model_module": "@jupyter-widgets/controls",
          "model_name": "HTMLModel",
          "model_module_version": "1.5.0",
          "state": {
            "_dom_classes": [],
            "_model_module": "@jupyter-widgets/controls",
            "_model_module_version": "1.5.0",
            "_model_name": "HTMLModel",
            "_view_count": null,
            "_view_module": "@jupyter-widgets/controls",
            "_view_module_version": "1.5.0",
            "_view_name": "HTMLView",
            "description": "",
            "description_tooltip": null,
            "layout": "IPY_MODEL_6cf4863394284231b237ec98c11f2f1d",
            "placeholder": "​",
            "style": "IPY_MODEL_2ad1fcd066174b8bb6e58bebff4db9ed",
            "value": " 1.00k/1.00k [00:00&lt;00:00, 24.0kB/s]"
          }
        },
        "067ddac3b9c04af5b561ad6c77e16712": {
          "model_module": "@jupyter-widgets/base",
          "model_name": "LayoutModel",
          "model_module_version": "1.2.0",
          "state": {
            "_model_module": "@jupyter-widgets/base",
            "_model_module_version": "1.2.0",
            "_model_name": "LayoutModel",
            "_view_count": null,
            "_view_module": "@jupyter-widgets/base",
            "_view_module_version": "1.2.0",
            "_view_name": "LayoutView",
            "align_content": null,
            "align_items": null,
            "align_self": null,
            "border": null,
            "bottom": null,
            "display": null,
            "flex": null,
            "flex_flow": null,
            "grid_area": null,
            "grid_auto_columns": null,
            "grid_auto_flow": null,
            "grid_auto_rows": null,
            "grid_column": null,
            "grid_gap": null,
            "grid_row": null,
            "grid_template_areas": null,
            "grid_template_columns": null,
            "grid_template_rows": null,
            "height": null,
            "justify_content": null,
            "justify_items": null,
            "left": null,
            "margin": null,
            "max_height": null,
            "max_width": null,
            "min_height": null,
            "min_width": null,
            "object_fit": null,
            "object_position": null,
            "order": null,
            "overflow": null,
            "overflow_x": null,
            "overflow_y": null,
            "padding": null,
            "right": null,
            "top": null,
            "visibility": null,
            "width": null
          }
        },
        "564ef0fd1421427689f4c4bcef243609": {
          "model_module": "@jupyter-widgets/base",
          "model_name": "LayoutModel",
          "model_module_version": "1.2.0",
          "state": {
            "_model_module": "@jupyter-widgets/base",
            "_model_module_version": "1.2.0",
            "_model_name": "LayoutModel",
            "_view_count": null,
            "_view_module": "@jupyter-widgets/base",
            "_view_module_version": "1.2.0",
            "_view_name": "LayoutView",
            "align_content": null,
            "align_items": null,
            "align_self": null,
            "border": null,
            "bottom": null,
            "display": null,
            "flex": null,
            "flex_flow": null,
            "grid_area": null,
            "grid_auto_columns": null,
            "grid_auto_flow": null,
            "grid_auto_rows": null,
            "grid_column": null,
            "grid_gap": null,
            "grid_row": null,
            "grid_template_areas": null,
            "grid_template_columns": null,
            "grid_template_rows": null,
            "height": null,
            "justify_content": null,
            "justify_items": null,
            "left": null,
            "margin": null,
            "max_height": null,
            "max_width": null,
            "min_height": null,
            "min_width": null,
            "object_fit": null,
            "object_position": null,
            "order": null,
            "overflow": null,
            "overflow_x": null,
            "overflow_y": null,
            "padding": null,
            "right": null,
            "top": null,
            "visibility": null,
            "width": null
          }
        },
        "1d46cfd8e2ae447889403f8fcaf5a1cc": {
          "model_module": "@jupyter-widgets/controls",
          "model_name": "DescriptionStyleModel",
          "model_module_version": "1.5.0",
          "state": {
            "_model_module": "@jupyter-widgets/controls",
            "_model_module_version": "1.5.0",
            "_model_name": "DescriptionStyleModel",
            "_view_count": null,
            "_view_module": "@jupyter-widgets/base",
            "_view_module_version": "1.2.0",
            "_view_name": "StyleView",
            "description_width": ""
          }
        },
        "03742eace5e94de59cfdb40ef9469144": {
          "model_module": "@jupyter-widgets/base",
          "model_name": "LayoutModel",
          "model_module_version": "1.2.0",
          "state": {
            "_model_module": "@jupyter-widgets/base",
            "_model_module_version": "1.2.0",
            "_model_name": "LayoutModel",
            "_view_count": null,
            "_view_module": "@jupyter-widgets/base",
            "_view_module_version": "1.2.0",
            "_view_name": "LayoutView",
            "align_content": null,
            "align_items": null,
            "align_self": null,
            "border": null,
            "bottom": null,
            "display": null,
            "flex": null,
            "flex_flow": null,
            "grid_area": null,
            "grid_auto_columns": null,
            "grid_auto_flow": null,
            "grid_auto_rows": null,
            "grid_column": null,
            "grid_gap": null,
            "grid_row": null,
            "grid_template_areas": null,
            "grid_template_columns": null,
            "grid_template_rows": null,
            "height": null,
            "justify_content": null,
            "justify_items": null,
            "left": null,
            "margin": null,
            "max_height": null,
            "max_width": null,
            "min_height": null,
            "min_width": null,
            "object_fit": null,
            "object_position": null,
            "order": null,
            "overflow": null,
            "overflow_x": null,
            "overflow_y": null,
            "padding": null,
            "right": null,
            "top": null,
            "visibility": null,
            "width": null
          }
        },
        "0a329160e57e420e8958b32f99d77d2c": {
          "model_module": "@jupyter-widgets/controls",
          "model_name": "ProgressStyleModel",
          "model_module_version": "1.5.0",
          "state": {
            "_model_module": "@jupyter-widgets/controls",
            "_model_module_version": "1.5.0",
            "_model_name": "ProgressStyleModel",
            "_view_count": null,
            "_view_module": "@jupyter-widgets/base",
            "_view_module_version": "1.2.0",
            "_view_name": "StyleView",
            "bar_color": null,
            "description_width": ""
          }
        },
        "6cf4863394284231b237ec98c11f2f1d": {
          "model_module": "@jupyter-widgets/base",
          "model_name": "LayoutModel",
          "model_module_version": "1.2.0",
          "state": {
            "_model_module": "@jupyter-widgets/base",
            "_model_module_version": "1.2.0",
            "_model_name": "LayoutModel",
            "_view_count": null,
            "_view_module": "@jupyter-widgets/base",
            "_view_module_version": "1.2.0",
            "_view_name": "LayoutView",
            "align_content": null,
            "align_items": null,
            "align_self": null,
            "border": null,
            "bottom": null,
            "display": null,
            "flex": null,
            "flex_flow": null,
            "grid_area": null,
            "grid_auto_columns": null,
            "grid_auto_flow": null,
            "grid_auto_rows": null,
            "grid_column": null,
            "grid_gap": null,
            "grid_row": null,
            "grid_template_areas": null,
            "grid_template_columns": null,
            "grid_template_rows": null,
            "height": null,
            "justify_content": null,
            "justify_items": null,
            "left": null,
            "margin": null,
            "max_height": null,
            "max_width": null,
            "min_height": null,
            "min_width": null,
            "object_fit": null,
            "object_position": null,
            "order": null,
            "overflow": null,
            "overflow_x": null,
            "overflow_y": null,
            "padding": null,
            "right": null,
            "top": null,
            "visibility": null,
            "width": null
          }
        },
        "2ad1fcd066174b8bb6e58bebff4db9ed": {
          "model_module": "@jupyter-widgets/controls",
          "model_name": "DescriptionStyleModel",
          "model_module_version": "1.5.0",
          "state": {
            "_model_module": "@jupyter-widgets/controls",
            "_model_module_version": "1.5.0",
            "_model_name": "DescriptionStyleModel",
            "_view_count": null,
            "_view_module": "@jupyter-widgets/base",
            "_view_module_version": "1.2.0",
            "_view_name": "StyleView",
            "description_width": ""
          }
        },
        "7e92295591a64ea8bc1ae1cfa62af97a": {
          "model_module": "@jupyter-widgets/controls",
          "model_name": "HBoxModel",
          "model_module_version": "1.5.0",
          "state": {
            "_dom_classes": [],
            "_model_module": "@jupyter-widgets/controls",
            "_model_module_version": "1.5.0",
            "_model_name": "HBoxModel",
            "_view_count": null,
            "_view_module": "@jupyter-widgets/controls",
            "_view_module_version": "1.5.0",
            "_view_name": "HBoxView",
            "box_style": "",
            "children": [
              "IPY_MODEL_15a095decb6d4fe0b126d29fdeef0913",
              "IPY_MODEL_a2eea18144ec42d0a762d0c9745dd5d1",
              "IPY_MODEL_1cf1108ed67b4981a7a96dcdc7172d6b"
            ],
            "layout": "IPY_MODEL_84457ebac4074c6a95b868b8135453c2"
          }
        },
        "15a095decb6d4fe0b126d29fdeef0913": {
          "model_module": "@jupyter-widgets/controls",
          "model_name": "HTMLModel",
          "model_module_version": "1.5.0",
          "state": {
            "_dom_classes": [],
            "_model_module": "@jupyter-widgets/controls",
            "_model_module_version": "1.5.0",
            "_model_name": "HTMLModel",
            "_view_count": null,
            "_view_module": "@jupyter-widgets/controls",
            "_view_module_version": "1.5.0",
            "_view_name": "HTMLView",
            "description": "",
            "description_tooltip": null,
            "layout": "IPY_MODEL_c6b7aa64e1af41d698b39ab53b89a727",
            "placeholder": "​",
            "style": "IPY_MODEL_a531cf5899094834be7f18e6abeb1008",
            "value": "Downloading: 100%"
          }
        },
        "a2eea18144ec42d0a762d0c9745dd5d1": {
          "model_module": "@jupyter-widgets/controls",
          "model_name": "FloatProgressModel",
          "model_module_version": "1.5.0",
          "state": {
            "_dom_classes": [],
            "_model_module": "@jupyter-widgets/controls",
            "_model_module_version": "1.5.0",
            "_model_name": "FloatProgressModel",
            "_view_count": null,
            "_view_module": "@jupyter-widgets/controls",
            "_view_module_version": "1.5.0",
            "_view_name": "ProgressView",
            "bar_style": "success",
            "description": "",
            "description_tooltip": null,
            "layout": "IPY_MODEL_ad64c763fcf54b6b9f2fbb0e5da9fc31",
            "max": 1388929,
            "min": 0,
            "orientation": "horizontal",
            "style": "IPY_MODEL_4686888684154c0e9e6f43a8543be313",
            "value": 1388929
          }
        },
        "1cf1108ed67b4981a7a96dcdc7172d6b": {
          "model_module": "@jupyter-widgets/controls",
          "model_name": "HTMLModel",
          "model_module_version": "1.5.0",
          "state": {
            "_dom_classes": [],
            "_model_module": "@jupyter-widgets/controls",
            "_model_module_version": "1.5.0",
            "_model_name": "HTMLModel",
            "_view_count": null,
            "_view_module": "@jupyter-widgets/controls",
            "_view_module_version": "1.5.0",
            "_view_name": "HTMLView",
            "description": "",
            "description_tooltip": null,
            "layout": "IPY_MODEL_0ea9566e66524e1f80de26c6cb531e33",
            "placeholder": "​",
            "style": "IPY_MODEL_438b757c9f6841d89d2da2faf3405d60",
            "value": " 1.32M/1.32M [00:00&lt;00:00, 6.36MB/s]"
          }
        },
        "84457ebac4074c6a95b868b8135453c2": {
          "model_module": "@jupyter-widgets/base",
          "model_name": "LayoutModel",
          "model_module_version": "1.2.0",
          "state": {
            "_model_module": "@jupyter-widgets/base",
            "_model_module_version": "1.2.0",
            "_model_name": "LayoutModel",
            "_view_count": null,
            "_view_module": "@jupyter-widgets/base",
            "_view_module_version": "1.2.0",
            "_view_name": "LayoutView",
            "align_content": null,
            "align_items": null,
            "align_self": null,
            "border": null,
            "bottom": null,
            "display": null,
            "flex": null,
            "flex_flow": null,
            "grid_area": null,
            "grid_auto_columns": null,
            "grid_auto_flow": null,
            "grid_auto_rows": null,
            "grid_column": null,
            "grid_gap": null,
            "grid_row": null,
            "grid_template_areas": null,
            "grid_template_columns": null,
            "grid_template_rows": null,
            "height": null,
            "justify_content": null,
            "justify_items": null,
            "left": null,
            "margin": null,
            "max_height": null,
            "max_width": null,
            "min_height": null,
            "min_width": null,
            "object_fit": null,
            "object_position": null,
            "order": null,
            "overflow": null,
            "overflow_x": null,
            "overflow_y": null,
            "padding": null,
            "right": null,
            "top": null,
            "visibility": null,
            "width": null
          }
        },
        "c6b7aa64e1af41d698b39ab53b89a727": {
          "model_module": "@jupyter-widgets/base",
          "model_name": "LayoutModel",
          "model_module_version": "1.2.0",
          "state": {
            "_model_module": "@jupyter-widgets/base",
            "_model_module_version": "1.2.0",
            "_model_name": "LayoutModel",
            "_view_count": null,
            "_view_module": "@jupyter-widgets/base",
            "_view_module_version": "1.2.0",
            "_view_name": "LayoutView",
            "align_content": null,
            "align_items": null,
            "align_self": null,
            "border": null,
            "bottom": null,
            "display": null,
            "flex": null,
            "flex_flow": null,
            "grid_area": null,
            "grid_auto_columns": null,
            "grid_auto_flow": null,
            "grid_auto_rows": null,
            "grid_column": null,
            "grid_gap": null,
            "grid_row": null,
            "grid_template_areas": null,
            "grid_template_columns": null,
            "grid_template_rows": null,
            "height": null,
            "justify_content": null,
            "justify_items": null,
            "left": null,
            "margin": null,
            "max_height": null,
            "max_width": null,
            "min_height": null,
            "min_width": null,
            "object_fit": null,
            "object_position": null,
            "order": null,
            "overflow": null,
            "overflow_x": null,
            "overflow_y": null,
            "padding": null,
            "right": null,
            "top": null,
            "visibility": null,
            "width": null
          }
        },
        "a531cf5899094834be7f18e6abeb1008": {
          "model_module": "@jupyter-widgets/controls",
          "model_name": "DescriptionStyleModel",
          "model_module_version": "1.5.0",
          "state": {
            "_model_module": "@jupyter-widgets/controls",
            "_model_module_version": "1.5.0",
            "_model_name": "DescriptionStyleModel",
            "_view_count": null,
            "_view_module": "@jupyter-widgets/base",
            "_view_module_version": "1.2.0",
            "_view_name": "StyleView",
            "description_width": ""
          }
        },
        "ad64c763fcf54b6b9f2fbb0e5da9fc31": {
          "model_module": "@jupyter-widgets/base",
          "model_name": "LayoutModel",
          "model_module_version": "1.2.0",
          "state": {
            "_model_module": "@jupyter-widgets/base",
            "_model_module_version": "1.2.0",
            "_model_name": "LayoutModel",
            "_view_count": null,
            "_view_module": "@jupyter-widgets/base",
            "_view_module_version": "1.2.0",
            "_view_name": "LayoutView",
            "align_content": null,
            "align_items": null,
            "align_self": null,
            "border": null,
            "bottom": null,
            "display": null,
            "flex": null,
            "flex_flow": null,
            "grid_area": null,
            "grid_auto_columns": null,
            "grid_auto_flow": null,
            "grid_auto_rows": null,
            "grid_column": null,
            "grid_gap": null,
            "grid_row": null,
            "grid_template_areas": null,
            "grid_template_columns": null,
            "grid_template_rows": null,
            "height": null,
            "justify_content": null,
            "justify_items": null,
            "left": null,
            "margin": null,
            "max_height": null,
            "max_width": null,
            "min_height": null,
            "min_width": null,
            "object_fit": null,
            "object_position": null,
            "order": null,
            "overflow": null,
            "overflow_x": null,
            "overflow_y": null,
            "padding": null,
            "right": null,
            "top": null,
            "visibility": null,
            "width": null
          }
        },
        "4686888684154c0e9e6f43a8543be313": {
          "model_module": "@jupyter-widgets/controls",
          "model_name": "ProgressStyleModel",
          "model_module_version": "1.5.0",
          "state": {
            "_model_module": "@jupyter-widgets/controls",
            "_model_module_version": "1.5.0",
            "_model_name": "ProgressStyleModel",
            "_view_count": null,
            "_view_module": "@jupyter-widgets/base",
            "_view_module_version": "1.2.0",
            "_view_name": "StyleView",
            "bar_color": null,
            "description_width": ""
          }
        },
        "0ea9566e66524e1f80de26c6cb531e33": {
          "model_module": "@jupyter-widgets/base",
          "model_name": "LayoutModel",
          "model_module_version": "1.2.0",
          "state": {
            "_model_module": "@jupyter-widgets/base",
            "_model_module_version": "1.2.0",
            "_model_name": "LayoutModel",
            "_view_count": null,
            "_view_module": "@jupyter-widgets/base",
            "_view_module_version": "1.2.0",
            "_view_name": "LayoutView",
            "align_content": null,
            "align_items": null,
            "align_self": null,
            "border": null,
            "bottom": null,
            "display": null,
            "flex": null,
            "flex_flow": null,
            "grid_area": null,
            "grid_auto_columns": null,
            "grid_auto_flow": null,
            "grid_auto_rows": null,
            "grid_column": null,
            "grid_gap": null,
            "grid_row": null,
            "grid_template_areas": null,
            "grid_template_columns": null,
            "grid_template_rows": null,
            "height": null,
            "justify_content": null,
            "justify_items": null,
            "left": null,
            "margin": null,
            "max_height": null,
            "max_width": null,
            "min_height": null,
            "min_width": null,
            "object_fit": null,
            "object_position": null,
            "order": null,
            "overflow": null,
            "overflow_x": null,
            "overflow_y": null,
            "padding": null,
            "right": null,
            "top": null,
            "visibility": null,
            "width": null
          }
        },
        "438b757c9f6841d89d2da2faf3405d60": {
          "model_module": "@jupyter-widgets/controls",
          "model_name": "DescriptionStyleModel",
          "model_module_version": "1.5.0",
          "state": {
            "_model_module": "@jupyter-widgets/controls",
            "_model_module_version": "1.5.0",
            "_model_name": "DescriptionStyleModel",
            "_view_count": null,
            "_view_module": "@jupyter-widgets/base",
            "_view_module_version": "1.2.0",
            "_view_name": "StyleView",
            "description_width": ""
          }
        },
        "f2d42abbb51b44569fe97c30179b0a61": {
          "model_module": "@jupyter-widgets/controls",
          "model_name": "HBoxModel",
          "model_module_version": "1.5.0",
          "state": {
            "_dom_classes": [],
            "_model_module": "@jupyter-widgets/controls",
            "_model_module_version": "1.5.0",
            "_model_name": "HBoxModel",
            "_view_count": null,
            "_view_module": "@jupyter-widgets/controls",
            "_view_module_version": "1.5.0",
            "_view_name": "HBoxView",
            "box_style": "",
            "children": [
              "IPY_MODEL_ef20821f9c8c4ff8a7406fe4b1927bf7",
              "IPY_MODEL_599f6d9168434d4e89fc2c8508f2640d",
              "IPY_MODEL_fed5f349dede4b30864953a78020f983"
            ],
            "layout": "IPY_MODEL_6e0d80677fed4127b7ef73f29f77c7bb"
          }
        },
        "ef20821f9c8c4ff8a7406fe4b1927bf7": {
          "model_module": "@jupyter-widgets/controls",
          "model_name": "HTMLModel",
          "model_module_version": "1.5.0",
          "state": {
            "_dom_classes": [],
            "_model_module": "@jupyter-widgets/controls",
            "_model_module_version": "1.5.0",
            "_model_name": "HTMLModel",
            "_view_count": null,
            "_view_module": "@jupyter-widgets/controls",
            "_view_module_version": "1.5.0",
            "_view_name": "HTMLView",
            "description": "",
            "description_tooltip": null,
            "layout": "IPY_MODEL_82ca9c9622084db28982914b660986ff",
            "placeholder": "​",
            "style": "IPY_MODEL_3874cbdc1d514df3af819e03282f0ebb",
            "value": "Downloading: 100%"
          }
        },
        "599f6d9168434d4e89fc2c8508f2640d": {
          "model_module": "@jupyter-widgets/controls",
          "model_name": "FloatProgressModel",
          "model_module_version": "1.5.0",
          "state": {
            "_dom_classes": [],
            "_model_module": "@jupyter-widgets/controls",
            "_model_module_version": "1.5.0",
            "_model_name": "FloatProgressModel",
            "_view_count": null,
            "_view_module": "@jupyter-widgets/controls",
            "_view_module_version": "1.5.0",
            "_view_name": "ProgressView",
            "bar_style": "success",
            "description": "",
            "description_tooltip": null,
            "layout": "IPY_MODEL_6ba92340a6184702ab58cd63a5f9f632",
            "max": 134,
            "min": 0,
            "orientation": "horizontal",
            "style": "IPY_MODEL_76d35e118ec94618831145ff1b168cbd",
            "value": 134
          }
        },
        "fed5f349dede4b30864953a78020f983": {
          "model_module": "@jupyter-widgets/controls",
          "model_name": "HTMLModel",
          "model_module_version": "1.5.0",
          "state": {
            "_dom_classes": [],
            "_model_module": "@jupyter-widgets/controls",
            "_model_module_version": "1.5.0",
            "_model_name": "HTMLModel",
            "_view_count": null,
            "_view_module": "@jupyter-widgets/controls",
            "_view_module_version": "1.5.0",
            "_view_name": "HTMLView",
            "description": "",
            "description_tooltip": null,
            "layout": "IPY_MODEL_53441a683768410bb78ccb8cad003e22",
            "placeholder": "​",
            "style": "IPY_MODEL_c3b0ee2f956141e8ab4b97900ab9e9fc",
            "value": " 134/134 [00:00&lt;00:00, 3.30kB/s]"
          }
        },
        "6e0d80677fed4127b7ef73f29f77c7bb": {
          "model_module": "@jupyter-widgets/base",
          "model_name": "LayoutModel",
          "model_module_version": "1.2.0",
          "state": {
            "_model_module": "@jupyter-widgets/base",
            "_model_module_version": "1.2.0",
            "_model_name": "LayoutModel",
            "_view_count": null,
            "_view_module": "@jupyter-widgets/base",
            "_view_module_version": "1.2.0",
            "_view_name": "LayoutView",
            "align_content": null,
            "align_items": null,
            "align_self": null,
            "border": null,
            "bottom": null,
            "display": null,
            "flex": null,
            "flex_flow": null,
            "grid_area": null,
            "grid_auto_columns": null,
            "grid_auto_flow": null,
            "grid_auto_rows": null,
            "grid_column": null,
            "grid_gap": null,
            "grid_row": null,
            "grid_template_areas": null,
            "grid_template_columns": null,
            "grid_template_rows": null,
            "height": null,
            "justify_content": null,
            "justify_items": null,
            "left": null,
            "margin": null,
            "max_height": null,
            "max_width": null,
            "min_height": null,
            "min_width": null,
            "object_fit": null,
            "object_position": null,
            "order": null,
            "overflow": null,
            "overflow_x": null,
            "overflow_y": null,
            "padding": null,
            "right": null,
            "top": null,
            "visibility": null,
            "width": null
          }
        },
        "82ca9c9622084db28982914b660986ff": {
          "model_module": "@jupyter-widgets/base",
          "model_name": "LayoutModel",
          "model_module_version": "1.2.0",
          "state": {
            "_model_module": "@jupyter-widgets/base",
            "_model_module_version": "1.2.0",
            "_model_name": "LayoutModel",
            "_view_count": null,
            "_view_module": "@jupyter-widgets/base",
            "_view_module_version": "1.2.0",
            "_view_name": "LayoutView",
            "align_content": null,
            "align_items": null,
            "align_self": null,
            "border": null,
            "bottom": null,
            "display": null,
            "flex": null,
            "flex_flow": null,
            "grid_area": null,
            "grid_auto_columns": null,
            "grid_auto_flow": null,
            "grid_auto_rows": null,
            "grid_column": null,
            "grid_gap": null,
            "grid_row": null,
            "grid_template_areas": null,
            "grid_template_columns": null,
            "grid_template_rows": null,
            "height": null,
            "justify_content": null,
            "justify_items": null,
            "left": null,
            "margin": null,
            "max_height": null,
            "max_width": null,
            "min_height": null,
            "min_width": null,
            "object_fit": null,
            "object_position": null,
            "order": null,
            "overflow": null,
            "overflow_x": null,
            "overflow_y": null,
            "padding": null,
            "right": null,
            "top": null,
            "visibility": null,
            "width": null
          }
        },
        "3874cbdc1d514df3af819e03282f0ebb": {
          "model_module": "@jupyter-widgets/controls",
          "model_name": "DescriptionStyleModel",
          "model_module_version": "1.5.0",
          "state": {
            "_model_module": "@jupyter-widgets/controls",
            "_model_module_version": "1.5.0",
            "_model_name": "DescriptionStyleModel",
            "_view_count": null,
            "_view_module": "@jupyter-widgets/base",
            "_view_module_version": "1.2.0",
            "_view_name": "StyleView",
            "description_width": ""
          }
        },
        "6ba92340a6184702ab58cd63a5f9f632": {
          "model_module": "@jupyter-widgets/base",
          "model_name": "LayoutModel",
          "model_module_version": "1.2.0",
          "state": {
            "_model_module": "@jupyter-widgets/base",
            "_model_module_version": "1.2.0",
            "_model_name": "LayoutModel",
            "_view_count": null,
            "_view_module": "@jupyter-widgets/base",
            "_view_module_version": "1.2.0",
            "_view_name": "LayoutView",
            "align_content": null,
            "align_items": null,
            "align_self": null,
            "border": null,
            "bottom": null,
            "display": null,
            "flex": null,
            "flex_flow": null,
            "grid_area": null,
            "grid_auto_columns": null,
            "grid_auto_flow": null,
            "grid_auto_rows": null,
            "grid_column": null,
            "grid_gap": null,
            "grid_row": null,
            "grid_template_areas": null,
            "grid_template_columns": null,
            "grid_template_rows": null,
            "height": null,
            "justify_content": null,
            "justify_items": null,
            "left": null,
            "margin": null,
            "max_height": null,
            "max_width": null,
            "min_height": null,
            "min_width": null,
            "object_fit": null,
            "object_position": null,
            "order": null,
            "overflow": null,
            "overflow_x": null,
            "overflow_y": null,
            "padding": null,
            "right": null,
            "top": null,
            "visibility": null,
            "width": null
          }
        },
        "76d35e118ec94618831145ff1b168cbd": {
          "model_module": "@jupyter-widgets/controls",
          "model_name": "ProgressStyleModel",
          "model_module_version": "1.5.0",
          "state": {
            "_model_module": "@jupyter-widgets/controls",
            "_model_module_version": "1.5.0",
            "_model_name": "ProgressStyleModel",
            "_view_count": null,
            "_view_module": "@jupyter-widgets/base",
            "_view_module_version": "1.2.0",
            "_view_name": "StyleView",
            "bar_color": null,
            "description_width": ""
          }
        },
        "53441a683768410bb78ccb8cad003e22": {
          "model_module": "@jupyter-widgets/base",
          "model_name": "LayoutModel",
          "model_module_version": "1.2.0",
          "state": {
            "_model_module": "@jupyter-widgets/base",
            "_model_module_version": "1.2.0",
            "_model_name": "LayoutModel",
            "_view_count": null,
            "_view_module": "@jupyter-widgets/base",
            "_view_module_version": "1.2.0",
            "_view_name": "LayoutView",
            "align_content": null,
            "align_items": null,
            "align_self": null,
            "border": null,
            "bottom": null,
            "display": null,
            "flex": null,
            "flex_flow": null,
            "grid_area": null,
            "grid_auto_columns": null,
            "grid_auto_flow": null,
            "grid_auto_rows": null,
            "grid_column": null,
            "grid_gap": null,
            "grid_row": null,
            "grid_template_areas": null,
            "grid_template_columns": null,
            "grid_template_rows": null,
            "height": null,
            "justify_content": null,
            "justify_items": null,
            "left": null,
            "margin": null,
            "max_height": null,
            "max_width": null,
            "min_height": null,
            "min_width": null,
            "object_fit": null,
            "object_position": null,
            "order": null,
            "overflow": null,
            "overflow_x": null,
            "overflow_y": null,
            "padding": null,
            "right": null,
            "top": null,
            "visibility": null,
            "width": null
          }
        },
        "c3b0ee2f956141e8ab4b97900ab9e9fc": {
          "model_module": "@jupyter-widgets/controls",
          "model_name": "DescriptionStyleModel",
          "model_module_version": "1.5.0",
          "state": {
            "_model_module": "@jupyter-widgets/controls",
            "_model_module_version": "1.5.0",
            "_model_name": "DescriptionStyleModel",
            "_view_count": null,
            "_view_module": "@jupyter-widgets/base",
            "_view_module_version": "1.2.0",
            "_view_name": "StyleView",
            "description_width": ""
          }
        },
        "3f67a08c83c747f9a87af81ad1c86c89": {
          "model_module": "@jupyter-widgets/controls",
          "model_name": "HBoxModel",
          "model_module_version": "1.5.0",
          "state": {
            "_dom_classes": [],
            "_model_module": "@jupyter-widgets/controls",
            "_model_module_version": "1.5.0",
            "_model_name": "HBoxModel",
            "_view_count": null,
            "_view_module": "@jupyter-widgets/controls",
            "_view_module_version": "1.5.0",
            "_view_name": "HBoxView",
            "box_style": "",
            "children": [
              "IPY_MODEL_aaa117a2baea4fe7bee96f2447861099",
              "IPY_MODEL_dbe2e36cdb17448988ce9bc11d517559",
              "IPY_MODEL_2935d663039f4ec899d9a7327d35f601"
            ],
            "layout": "IPY_MODEL_c13956799f444402af6b91d6a3b7f6fe"
          }
        },
        "aaa117a2baea4fe7bee96f2447861099": {
          "model_module": "@jupyter-widgets/controls",
          "model_name": "HTMLModel",
          "model_module_version": "1.5.0",
          "state": {
            "_dom_classes": [],
            "_model_module": "@jupyter-widgets/controls",
            "_model_module_version": "1.5.0",
            "_model_name": "HTMLModel",
            "_view_count": null,
            "_view_module": "@jupyter-widgets/controls",
            "_view_module_version": "1.5.0",
            "_view_name": "HTMLView",
            "description": "",
            "description_tooltip": null,
            "layout": "IPY_MODEL_fe5b76de7e6347e48e111d21d1d977ce",
            "placeholder": "​",
            "style": "IPY_MODEL_18444aa49ae542a5b8d51e45580757f7",
            "value": "Downloading: 100%"
          }
        },
        "dbe2e36cdb17448988ce9bc11d517559": {
          "model_module": "@jupyter-widgets/controls",
          "model_name": "FloatProgressModel",
          "model_module_version": "1.5.0",
          "state": {
            "_dom_classes": [],
            "_model_module": "@jupyter-widgets/controls",
            "_model_module_version": "1.5.0",
            "_model_name": "FloatProgressModel",
            "_view_count": null,
            "_view_module": "@jupyter-widgets/controls",
            "_view_module_version": "1.5.0",
            "_view_name": "ProgressView",
            "bar_style": "success",
            "description": "",
            "description_tooltip": null,
            "layout": "IPY_MODEL_cad2ebfc537445069b343551357392a2",
            "max": 162371688,
            "min": 0,
            "orientation": "horizontal",
            "style": "IPY_MODEL_afd64477bfa048628b58d319326ef1a7",
            "value": 162371688
          }
        },
        "2935d663039f4ec899d9a7327d35f601": {
          "model_module": "@jupyter-widgets/controls",
          "model_name": "HTMLModel",
          "model_module_version": "1.5.0",
          "state": {
            "_dom_classes": [],
            "_model_module": "@jupyter-widgets/controls",
            "_model_module_version": "1.5.0",
            "_model_name": "HTMLModel",
            "_view_count": null,
            "_view_module": "@jupyter-widgets/controls",
            "_view_module_version": "1.5.0",
            "_view_name": "HTMLView",
            "description": "",
            "description_tooltip": null,
            "layout": "IPY_MODEL_bede611a46d148578dbd41053e1b4202",
            "placeholder": "​",
            "style": "IPY_MODEL_f1394d88184e451da4cc506cd3b1417f",
            "value": " 155M/155M [00:03&lt;00:00, 48.3MB/s]"
          }
        },
        "c13956799f444402af6b91d6a3b7f6fe": {
          "model_module": "@jupyter-widgets/base",
          "model_name": "LayoutModel",
          "model_module_version": "1.2.0",
          "state": {
            "_model_module": "@jupyter-widgets/base",
            "_model_module_version": "1.2.0",
            "_model_name": "LayoutModel",
            "_view_count": null,
            "_view_module": "@jupyter-widgets/base",
            "_view_module_version": "1.2.0",
            "_view_name": "LayoutView",
            "align_content": null,
            "align_items": null,
            "align_self": null,
            "border": null,
            "bottom": null,
            "display": null,
            "flex": null,
            "flex_flow": null,
            "grid_area": null,
            "grid_auto_columns": null,
            "grid_auto_flow": null,
            "grid_auto_rows": null,
            "grid_column": null,
            "grid_gap": null,
            "grid_row": null,
            "grid_template_areas": null,
            "grid_template_columns": null,
            "grid_template_rows": null,
            "height": null,
            "justify_content": null,
            "justify_items": null,
            "left": null,
            "margin": null,
            "max_height": null,
            "max_width": null,
            "min_height": null,
            "min_width": null,
            "object_fit": null,
            "object_position": null,
            "order": null,
            "overflow": null,
            "overflow_x": null,
            "overflow_y": null,
            "padding": null,
            "right": null,
            "top": null,
            "visibility": null,
            "width": null
          }
        },
        "fe5b76de7e6347e48e111d21d1d977ce": {
          "model_module": "@jupyter-widgets/base",
          "model_name": "LayoutModel",
          "model_module_version": "1.2.0",
          "state": {
            "_model_module": "@jupyter-widgets/base",
            "_model_module_version": "1.2.0",
            "_model_name": "LayoutModel",
            "_view_count": null,
            "_view_module": "@jupyter-widgets/base",
            "_view_module_version": "1.2.0",
            "_view_name": "LayoutView",
            "align_content": null,
            "align_items": null,
            "align_self": null,
            "border": null,
            "bottom": null,
            "display": null,
            "flex": null,
            "flex_flow": null,
            "grid_area": null,
            "grid_auto_columns": null,
            "grid_auto_flow": null,
            "grid_auto_rows": null,
            "grid_column": null,
            "grid_gap": null,
            "grid_row": null,
            "grid_template_areas": null,
            "grid_template_columns": null,
            "grid_template_rows": null,
            "height": null,
            "justify_content": null,
            "justify_items": null,
            "left": null,
            "margin": null,
            "max_height": null,
            "max_width": null,
            "min_height": null,
            "min_width": null,
            "object_fit": null,
            "object_position": null,
            "order": null,
            "overflow": null,
            "overflow_x": null,
            "overflow_y": null,
            "padding": null,
            "right": null,
            "top": null,
            "visibility": null,
            "width": null
          }
        },
        "18444aa49ae542a5b8d51e45580757f7": {
          "model_module": "@jupyter-widgets/controls",
          "model_name": "DescriptionStyleModel",
          "model_module_version": "1.5.0",
          "state": {
            "_model_module": "@jupyter-widgets/controls",
            "_model_module_version": "1.5.0",
            "_model_name": "DescriptionStyleModel",
            "_view_count": null,
            "_view_module": "@jupyter-widgets/base",
            "_view_module_version": "1.2.0",
            "_view_name": "StyleView",
            "description_width": ""
          }
        },
        "cad2ebfc537445069b343551357392a2": {
          "model_module": "@jupyter-widgets/base",
          "model_name": "LayoutModel",
          "model_module_version": "1.2.0",
          "state": {
            "_model_module": "@jupyter-widgets/base",
            "_model_module_version": "1.2.0",
            "_model_name": "LayoutModel",
            "_view_count": null,
            "_view_module": "@jupyter-widgets/base",
            "_view_module_version": "1.2.0",
            "_view_name": "LayoutView",
            "align_content": null,
            "align_items": null,
            "align_self": null,
            "border": null,
            "bottom": null,
            "display": null,
            "flex": null,
            "flex_flow": null,
            "grid_area": null,
            "grid_auto_columns": null,
            "grid_auto_flow": null,
            "grid_auto_rows": null,
            "grid_column": null,
            "grid_gap": null,
            "grid_row": null,
            "grid_template_areas": null,
            "grid_template_columns": null,
            "grid_template_rows": null,
            "height": null,
            "justify_content": null,
            "justify_items": null,
            "left": null,
            "margin": null,
            "max_height": null,
            "max_width": null,
            "min_height": null,
            "min_width": null,
            "object_fit": null,
            "object_position": null,
            "order": null,
            "overflow": null,
            "overflow_x": null,
            "overflow_y": null,
            "padding": null,
            "right": null,
            "top": null,
            "visibility": null,
            "width": null
          }
        },
        "afd64477bfa048628b58d319326ef1a7": {
          "model_module": "@jupyter-widgets/controls",
          "model_name": "ProgressStyleModel",
          "model_module_version": "1.5.0",
          "state": {
            "_model_module": "@jupyter-widgets/controls",
            "_model_module_version": "1.5.0",
            "_model_name": "ProgressStyleModel",
            "_view_count": null,
            "_view_module": "@jupyter-widgets/base",
            "_view_module_version": "1.2.0",
            "_view_name": "StyleView",
            "bar_color": null,
            "description_width": ""
          }
        },
        "bede611a46d148578dbd41053e1b4202": {
          "model_module": "@jupyter-widgets/base",
          "model_name": "LayoutModel",
          "model_module_version": "1.2.0",
          "state": {
            "_model_module": "@jupyter-widgets/base",
            "_model_module_version": "1.2.0",
            "_model_name": "LayoutModel",
            "_view_count": null,
            "_view_module": "@jupyter-widgets/base",
            "_view_module_version": "1.2.0",
            "_view_name": "LayoutView",
            "align_content": null,
            "align_items": null,
            "align_self": null,
            "border": null,
            "bottom": null,
            "display": null,
            "flex": null,
            "flex_flow": null,
            "grid_area": null,
            "grid_auto_columns": null,
            "grid_auto_flow": null,
            "grid_auto_rows": null,
            "grid_column": null,
            "grid_gap": null,
            "grid_row": null,
            "grid_template_areas": null,
            "grid_template_columns": null,
            "grid_template_rows": null,
            "height": null,
            "justify_content": null,
            "justify_items": null,
            "left": null,
            "margin": null,
            "max_height": null,
            "max_width": null,
            "min_height": null,
            "min_width": null,
            "object_fit": null,
            "object_position": null,
            "order": null,
            "overflow": null,
            "overflow_x": null,
            "overflow_y": null,
            "padding": null,
            "right": null,
            "top": null,
            "visibility": null,
            "width": null
          }
        },
        "f1394d88184e451da4cc506cd3b1417f": {
          "model_module": "@jupyter-widgets/controls",
          "model_name": "DescriptionStyleModel",
          "model_module_version": "1.5.0",
          "state": {
            "_model_module": "@jupyter-widgets/controls",
            "_model_module_version": "1.5.0",
            "_model_name": "DescriptionStyleModel",
            "_view_count": null,
            "_view_module": "@jupyter-widgets/base",
            "_view_module_version": "1.2.0",
            "_view_name": "StyleView",
            "description_width": ""
          }
        }
      }
    }
  },
  "cells": [
    {
      "cell_type": "code",
      "execution_count": 1,
      "source": [
        "!pip install git+https://github.com/cosmoquester/transformers-tf-finetune.git"
      ],
      "outputs": [
        {
          "output_type": "stream",
          "name": "stdout",
          "text": [
            "Looking in indexes: https://pypi.org/simple, https://us-python.pkg.dev/colab-wheels/public/simple/\n",
            "Collecting git+https://github.com/cosmoquester/transformers-tf-finetune.git\n",
            "  Cloning https://github.com/cosmoquester/transformers-tf-finetune.git to /tmp/pip-req-build-02nmkvxy\n",
            "  Running command git clone -q https://github.com/cosmoquester/transformers-tf-finetune.git /tmp/pip-req-build-02nmkvxy\n",
            "  Installing build dependencies ... \u001b[?25l\u001b[?25hdone\n",
            "  Getting requirements to build wheel ... \u001b[?25l\u001b[?25hdone\n",
            "    Preparing wheel metadata ... \u001b[?25l\u001b[?25hdone\n",
            "Collecting transformers\n",
            "  Downloading transformers-4.19.2-py3-none-any.whl (4.2 MB)\n",
            "\u001b[K     |████████████████████████████████| 4.2 MB 5.2 MB/s \n",
            "\u001b[?25hCollecting tensorflow-addons\n",
            "  Downloading tensorflow_addons-0.17.0-cp37-cp37m-manylinux_2_17_x86_64.manylinux2014_x86_64.whl (1.1 MB)\n",
            "\u001b[K     |████████████████████████████████| 1.1 MB 39.6 MB/s \n",
            "\u001b[?25hRequirement already satisfied: tensorflow>=2 in /usr/local/lib/python3.7/dist-packages (from transformers-tf-finetune==0.0.1) (2.8.2+zzzcolab20220527125636)\n",
            "Requirement already satisfied: gast>=0.2.1 in /usr/local/lib/python3.7/dist-packages (from tensorflow>=2->transformers-tf-finetune==0.0.1) (0.5.3)\n",
            "Requirement already satisfied: wrapt>=1.11.0 in /usr/local/lib/python3.7/dist-packages (from tensorflow>=2->transformers-tf-finetune==0.0.1) (1.14.1)\n",
            "Requirement already satisfied: keras-preprocessing>=1.1.1 in /usr/local/lib/python3.7/dist-packages (from tensorflow>=2->transformers-tf-finetune==0.0.1) (1.1.2)\n",
            "Requirement already satisfied: six>=1.12.0 in /usr/local/lib/python3.7/dist-packages (from tensorflow>=2->transformers-tf-finetune==0.0.1) (1.15.0)\n",
            "Requirement already satisfied: tensorflow-io-gcs-filesystem>=0.23.1 in /usr/local/lib/python3.7/dist-packages (from tensorflow>=2->transformers-tf-finetune==0.0.1) (0.26.0)\n",
            "Requirement already satisfied: libclang>=9.0.1 in /usr/local/lib/python3.7/dist-packages (from tensorflow>=2->transformers-tf-finetune==0.0.1) (14.0.1)\n",
            "Requirement already satisfied: setuptools in /usr/local/lib/python3.7/dist-packages (from tensorflow>=2->transformers-tf-finetune==0.0.1) (57.4.0)\n",
            "Requirement already satisfied: typing-extensions>=3.6.6 in /usr/local/lib/python3.7/dist-packages (from tensorflow>=2->transformers-tf-finetune==0.0.1) (4.2.0)\n",
            "Requirement already satisfied: protobuf<3.20,>=3.9.2 in /usr/local/lib/python3.7/dist-packages (from tensorflow>=2->transformers-tf-finetune==0.0.1) (3.17.3)\n",
            "Requirement already satisfied: google-pasta>=0.1.1 in /usr/local/lib/python3.7/dist-packages (from tensorflow>=2->transformers-tf-finetune==0.0.1) (0.2.0)\n",
            "Requirement already satisfied: absl-py>=0.4.0 in /usr/local/lib/python3.7/dist-packages (from tensorflow>=2->transformers-tf-finetune==0.0.1) (1.0.0)\n",
            "Requirement already satisfied: h5py>=2.9.0 in /usr/local/lib/python3.7/dist-packages (from tensorflow>=2->transformers-tf-finetune==0.0.1) (3.1.0)\n",
            "Requirement already satisfied: astunparse>=1.6.0 in /usr/local/lib/python3.7/dist-packages (from tensorflow>=2->transformers-tf-finetune==0.0.1) (1.6.3)\n",
            "Requirement already satisfied: opt-einsum>=2.3.2 in /usr/local/lib/python3.7/dist-packages (from tensorflow>=2->transformers-tf-finetune==0.0.1) (3.3.0)\n",
            "Requirement already satisfied: grpcio<2.0,>=1.24.3 in /usr/local/lib/python3.7/dist-packages (from tensorflow>=2->transformers-tf-finetune==0.0.1) (1.46.3)\n",
            "Requirement already satisfied: tensorboard<2.9,>=2.8 in /usr/local/lib/python3.7/dist-packages (from tensorflow>=2->transformers-tf-finetune==0.0.1) (2.8.0)\n",
            "Requirement already satisfied: numpy>=1.20 in /usr/local/lib/python3.7/dist-packages (from tensorflow>=2->transformers-tf-finetune==0.0.1) (1.21.6)\n",
            "Requirement already satisfied: termcolor>=1.1.0 in /usr/local/lib/python3.7/dist-packages (from tensorflow>=2->transformers-tf-finetune==0.0.1) (1.1.0)\n",
            "Requirement already satisfied: keras<2.9,>=2.8.0rc0 in /usr/local/lib/python3.7/dist-packages (from tensorflow>=2->transformers-tf-finetune==0.0.1) (2.8.0)\n",
            "Requirement already satisfied: tensorflow-estimator<2.9,>=2.8 in /usr/local/lib/python3.7/dist-packages (from tensorflow>=2->transformers-tf-finetune==0.0.1) (2.8.0)\n",
            "Requirement already satisfied: flatbuffers>=1.12 in /usr/local/lib/python3.7/dist-packages (from tensorflow>=2->transformers-tf-finetune==0.0.1) (2.0)\n",
            "Requirement already satisfied: wheel<1.0,>=0.23.0 in /usr/local/lib/python3.7/dist-packages (from astunparse>=1.6.0->tensorflow>=2->transformers-tf-finetune==0.0.1) (0.37.1)\n",
            "Requirement already satisfied: cached-property in /usr/local/lib/python3.7/dist-packages (from h5py>=2.9.0->tensorflow>=2->transformers-tf-finetune==0.0.1) (1.5.2)\n",
            "Requirement already satisfied: google-auth-oauthlib<0.5,>=0.4.1 in /usr/local/lib/python3.7/dist-packages (from tensorboard<2.9,>=2.8->tensorflow>=2->transformers-tf-finetune==0.0.1) (0.4.6)\n",
            "Requirement already satisfied: tensorboard-data-server<0.7.0,>=0.6.0 in /usr/local/lib/python3.7/dist-packages (from tensorboard<2.9,>=2.8->tensorflow>=2->transformers-tf-finetune==0.0.1) (0.6.1)\n",
            "Requirement already satisfied: tensorboard-plugin-wit>=1.6.0 in /usr/local/lib/python3.7/dist-packages (from tensorboard<2.9,>=2.8->tensorflow>=2->transformers-tf-finetune==0.0.1) (1.8.1)\n",
            "Requirement already satisfied: google-auth<3,>=1.6.3 in /usr/local/lib/python3.7/dist-packages (from tensorboard<2.9,>=2.8->tensorflow>=2->transformers-tf-finetune==0.0.1) (1.35.0)\n",
            "Requirement already satisfied: markdown>=2.6.8 in /usr/local/lib/python3.7/dist-packages (from tensorboard<2.9,>=2.8->tensorflow>=2->transformers-tf-finetune==0.0.1) (3.3.7)\n",
            "Requirement already satisfied: werkzeug>=0.11.15 in /usr/local/lib/python3.7/dist-packages (from tensorboard<2.9,>=2.8->tensorflow>=2->transformers-tf-finetune==0.0.1) (1.0.1)\n",
            "Requirement already satisfied: requests<3,>=2.21.0 in /usr/local/lib/python3.7/dist-packages (from tensorboard<2.9,>=2.8->tensorflow>=2->transformers-tf-finetune==0.0.1) (2.23.0)\n",
            "Requirement already satisfied: cachetools<5.0,>=2.0.0 in /usr/local/lib/python3.7/dist-packages (from google-auth<3,>=1.6.3->tensorboard<2.9,>=2.8->tensorflow>=2->transformers-tf-finetune==0.0.1) (4.2.4)\n",
            "Requirement already satisfied: rsa<5,>=3.1.4 in /usr/local/lib/python3.7/dist-packages (from google-auth<3,>=1.6.3->tensorboard<2.9,>=2.8->tensorflow>=2->transformers-tf-finetune==0.0.1) (4.8)\n",
            "Requirement already satisfied: pyasn1-modules>=0.2.1 in /usr/local/lib/python3.7/dist-packages (from google-auth<3,>=1.6.3->tensorboard<2.9,>=2.8->tensorflow>=2->transformers-tf-finetune==0.0.1) (0.2.8)\n",
            "Requirement already satisfied: requests-oauthlib>=0.7.0 in /usr/local/lib/python3.7/dist-packages (from google-auth-oauthlib<0.5,>=0.4.1->tensorboard<2.9,>=2.8->tensorflow>=2->transformers-tf-finetune==0.0.1) (1.3.1)\n",
            "Requirement already satisfied: importlib-metadata>=4.4 in /usr/local/lib/python3.7/dist-packages (from markdown>=2.6.8->tensorboard<2.9,>=2.8->tensorflow>=2->transformers-tf-finetune==0.0.1) (4.11.4)\n",
            "Requirement already satisfied: zipp>=0.5 in /usr/local/lib/python3.7/dist-packages (from importlib-metadata>=4.4->markdown>=2.6.8->tensorboard<2.9,>=2.8->tensorflow>=2->transformers-tf-finetune==0.0.1) (3.8.0)\n",
            "Requirement already satisfied: pyasn1<0.5.0,>=0.4.6 in /usr/local/lib/python3.7/dist-packages (from pyasn1-modules>=0.2.1->google-auth<3,>=1.6.3->tensorboard<2.9,>=2.8->tensorflow>=2->transformers-tf-finetune==0.0.1) (0.4.8)\n",
            "Requirement already satisfied: certifi>=2017.4.17 in /usr/local/lib/python3.7/dist-packages (from requests<3,>=2.21.0->tensorboard<2.9,>=2.8->tensorflow>=2->transformers-tf-finetune==0.0.1) (2022.5.18.1)\n",
            "Requirement already satisfied: urllib3!=1.25.0,!=1.25.1,<1.26,>=1.21.1 in /usr/local/lib/python3.7/dist-packages (from requests<3,>=2.21.0->tensorboard<2.9,>=2.8->tensorflow>=2->transformers-tf-finetune==0.0.1) (1.24.3)\n",
            "Requirement already satisfied: idna<3,>=2.5 in /usr/local/lib/python3.7/dist-packages (from requests<3,>=2.21.0->tensorboard<2.9,>=2.8->tensorflow>=2->transformers-tf-finetune==0.0.1) (2.10)\n",
            "Requirement already satisfied: chardet<4,>=3.0.2 in /usr/local/lib/python3.7/dist-packages (from requests<3,>=2.21.0->tensorboard<2.9,>=2.8->tensorflow>=2->transformers-tf-finetune==0.0.1) (3.0.4)\n",
            "Requirement already satisfied: oauthlib>=3.0.0 in /usr/local/lib/python3.7/dist-packages (from requests-oauthlib>=0.7.0->google-auth-oauthlib<0.5,>=0.4.1->tensorboard<2.9,>=2.8->tensorflow>=2->transformers-tf-finetune==0.0.1) (3.2.0)\n",
            "Requirement already satisfied: typeguard>=2.7 in /usr/local/lib/python3.7/dist-packages (from tensorflow-addons->transformers-tf-finetune==0.0.1) (2.7.1)\n",
            "Requirement already satisfied: packaging in /usr/local/lib/python3.7/dist-packages (from tensorflow-addons->transformers-tf-finetune==0.0.1) (21.3)\n",
            "Requirement already satisfied: pyparsing!=3.0.5,>=2.0.2 in /usr/local/lib/python3.7/dist-packages (from packaging->tensorflow-addons->transformers-tf-finetune==0.0.1) (3.0.9)\n",
            "Requirement already satisfied: filelock in /usr/local/lib/python3.7/dist-packages (from transformers->transformers-tf-finetune==0.0.1) (3.7.0)\n",
            "Requirement already satisfied: regex!=2019.12.17 in /usr/local/lib/python3.7/dist-packages (from transformers->transformers-tf-finetune==0.0.1) (2019.12.20)\n",
            "Requirement already satisfied: tqdm>=4.27 in /usr/local/lib/python3.7/dist-packages (from transformers->transformers-tf-finetune==0.0.1) (4.64.0)\n",
            "Collecting pyyaml>=5.1\n",
            "  Downloading PyYAML-6.0-cp37-cp37m-manylinux_2_5_x86_64.manylinux1_x86_64.manylinux_2_12_x86_64.manylinux2010_x86_64.whl (596 kB)\n",
            "\u001b[K     |████████████████████████████████| 596 kB 41.5 MB/s \n",
            "\u001b[?25hCollecting huggingface-hub<1.0,>=0.1.0\n",
            "  Downloading huggingface_hub-0.7.0-py3-none-any.whl (86 kB)\n",
            "\u001b[K     |████████████████████████████████| 86 kB 3.5 MB/s \n",
            "\u001b[?25hCollecting tokenizers!=0.11.3,<0.13,>=0.11.1\n",
            "  Downloading tokenizers-0.12.1-cp37-cp37m-manylinux_2_12_x86_64.manylinux2010_x86_64.whl (6.6 MB)\n",
            "\u001b[K     |████████████████████████████████| 6.6 MB 36.1 MB/s \n",
            "\u001b[?25hBuilding wheels for collected packages: transformers-tf-finetune\n",
            "  Building wheel for transformers-tf-finetune (PEP 517) ... \u001b[?25l\u001b[?25hdone\n",
            "  Created wheel for transformers-tf-finetune: filename=transformers_tf_finetune-0.0.1-py3-none-any.whl size=9872 sha256=5b00b4baca0f1966720b361e516bad62bf4d53644c8c944e4f097d88c55d1c81\n",
            "  Stored in directory: /tmp/pip-ephem-wheel-cache-ycqhu5dm/wheels/e7/14/73/cef52a563cab492086ce8fa8efe2fbbc45fc28aff262163bd1\n",
            "Successfully built transformers-tf-finetune\n",
            "Installing collected packages: pyyaml, tokenizers, huggingface-hub, transformers, tensorflow-addons, transformers-tf-finetune\n",
            "  Attempting uninstall: pyyaml\n",
            "    Found existing installation: PyYAML 3.13\n",
            "    Uninstalling PyYAML-3.13:\n",
            "      Successfully uninstalled PyYAML-3.13\n",
            "Successfully installed huggingface-hub-0.7.0 pyyaml-6.0 tensorflow-addons-0.17.0 tokenizers-0.12.1 transformers-4.19.2 transformers-tf-finetune-0.0.1\n"
          ]
        }
      ],
      "metadata": {
        "id": "Ih731fUio05R",
        "outputId": "cef43e64-3fa0-4b2c-80e5-dfdb4b77d118",
        "colab": {
          "base_uri": "https://localhost:8080/"
        }
      }
    },
    {
      "cell_type": "code",
      "execution_count": 2,
      "source": [
        "import csv\n",
        "import random\n",
        "import urllib.request\n",
        "\n",
        "import tensorflow as tf\n",
        "from transformers import AutoTokenizer, TFAutoModelForSeq2SeqLM\n",
        "\n",
        "from transformers_tf_finetune.losses import SparseCategoricalCrossentropy\n",
        "from transformers_tf_finetune.metrics import SparseCategoricalAccuracy\n",
        "from transformers_tf_finetune.models import GenerationSearchWrapper\n",
        "from transformers_tf_finetune.utils import LRScheduler, get_device_strategy, path_join, set_random_seed"
      ],
      "outputs": [],
      "metadata": {
        "id": "vrvYJ8reqBFV"
      }
    },
    {
      "cell_type": "markdown",
      "source": [
        "# Config"
      ],
      "metadata": {
        "id": "xjkDo06wuRAW"
      }
    },
    {
      "cell_type": "code",
      "execution_count": 3,
      "source": [
        "#: transformers pretrained path\n",
        "pretrained_model = \"cosmoquester/bart-ko-small\"\n",
        "#: pretrained tokenizer fast pretrained path\n",
        "pretrained_tokenizer = \"cosmoquester/bart-ko-small\"\n",
        "#: load from pytorch weight\n",
        "from_pytorch = False\n",
        "#: use huggingface credential for private model\n",
        "use_auth_token = \"\"\n",
        "\n",
        "dataset_path = \"https://raw.githubusercontent.com/songys/Chatbot_data/master/ChatbotData.csv\"\n",
        "#: output directory to save log and model checkpoints, should be GCS path with TPU\n",
        "output_path = None\n",
        "\n",
        "max_sequence_length = 128\n",
        "#: \"beam size, use greedy search if this is zero\"\n",
        "beam_size = 0\n",
        "\n",
        "#: training params\n",
        "epochs = 2\n",
        "learning_rate = 1e-4\n",
        "min_learning_rate = 1e-5\n",
        "warmup_rate = 0.06\n",
        "warmup_steps = None\n",
        "batch_size = 16\n",
        "dev_batch_size = 256\n",
        "num_dev_dataset = 128 # should be multipes of 8 with TPU\n",
        "tensorboard_update_freq = 1\n",
        "\n",
        "#: device to use (TPU or GPU or CPU)\n",
        "device = \"TPU\"\n",
        "#: Use mixed precision FP16\n",
        "mixed_precision = False\n",
        "#: Set random seed\n",
        "seed = None"
      ],
      "outputs": [],
      "metadata": {
        "id": "1S1L2-t7qRxD"
      }
    },
    {
      "cell_type": "code",
      "execution_count": 4,
      "source": [
        "if output_path is not None and output_path.startswith(\"gs://\"):\n",
        "  from google.colab import auth\n",
        "  auth.authenticate_user()"
      ],
      "outputs": [],
      "metadata": {
        "id": "wqP3q8KZvTXg"
      }
    },
    {
      "cell_type": "code",
      "execution_count": 5,
      "source": [
        "def load_dataset(dataset_path: str, tokenizer: AutoTokenizer, shuffle: bool = False) -> tf.data.Dataset:\n",
        "    \"\"\"\n",
        "    Load Chatbot Conversation dataset from local file or web\n",
        "\n",
        "    :param dataset_path: local file path or file uri\n",
        "    :param tokenizer: PreTrainedTokenizer for tokenizing\n",
        "    :param shuffle: whether shuffling lines or not\n",
        "    :returns: conversation dataset\n",
        "    \"\"\"\n",
        "    if dataset_path.startswith(\"https://\"):\n",
        "        with urllib.request.urlopen(dataset_path) as response:\n",
        "            data = response.read().decode(\"utf-8\")\n",
        "    else:\n",
        "        with open(dataset_path) as f:\n",
        "            data = f.read()\n",
        "    lines = data.splitlines()[1:]\n",
        "    if shuffle:\n",
        "        random.shuffle(lines)\n",
        "\n",
        "    bos = tokenizer.bos_token\n",
        "    eos = tokenizer.eos_token\n",
        "\n",
        "    questions = []\n",
        "    answers = []\n",
        "    for question, answer, _ in csv.reader(lines):\n",
        "        questions.append(bos + question + eos)\n",
        "        answers.append(bos + answer + eos)\n",
        "\n",
        "    max_length = max(len(text) for text in questions + answers)\n",
        "    inputs = tokenizer(\n",
        "        questions,\n",
        "        padding=\"max_length\",\n",
        "        max_length=max_length,\n",
        "        return_tensors=\"tf\",\n",
        "        return_token_type_ids=False,\n",
        "        return_attention_mask=True,\n",
        "    )\n",
        "\n",
        "    target_tokens = tokenizer(\n",
        "        answers,\n",
        "        padding=\"max_length\",\n",
        "        max_length=max_length,\n",
        "        return_tensors=\"tf\",\n",
        "        return_token_type_ids=False,\n",
        "        return_attention_mask=False,\n",
        "    )[\"input_ids\"]\n",
        "\n",
        "    dataset = tf.data.Dataset.from_tensor_slices(\n",
        "        ({**inputs, \"decoder_input_ids\": target_tokens[:, :-1]}, target_tokens[:, 1:])\n",
        "    )\n",
        "    return dataset"
      ],
      "outputs": [],
      "metadata": {
        "id": "NZ6nno7nrgQH"
      }
    },
    {
      "cell_type": "code",
      "execution_count": 6,
      "source": [
        "if seed:\n",
        "    set_random_seed(seed)"
      ],
      "outputs": [],
      "metadata": {
        "id": "BTej5sm8r5Jj"
      }
    },
    {
      "cell_type": "code",
      "execution_count": 7,
      "source": [
        "strategy = get_device_strategy(device)"
      ],
      "outputs": [
        {
          "output_type": "stream",
          "name": "stdout",
          "text": [
            "INFO:tensorflow:Deallocate tpu buffers before initializing tpu system.\n"
          ]
        },
        {
          "output_type": "stream",
          "name": "stderr",
          "text": [
            "INFO:tensorflow:Deallocate tpu buffers before initializing tpu system.\n"
          ]
        },
        {
          "output_type": "stream",
          "name": "stdout",
          "text": [
            "INFO:tensorflow:Initializing the TPU system: grpc://10.106.38.2:8470\n"
          ]
        },
        {
          "output_type": "stream",
          "name": "stderr",
          "text": [
            "INFO:tensorflow:Initializing the TPU system: grpc://10.106.38.2:8470\n"
          ]
        },
        {
          "output_type": "stream",
          "name": "stdout",
          "text": [
            "INFO:tensorflow:Finished initializing TPU system.\n"
          ]
        },
        {
          "output_type": "stream",
          "name": "stderr",
          "text": [
            "INFO:tensorflow:Finished initializing TPU system.\n"
          ]
        },
        {
          "output_type": "stream",
          "name": "stdout",
          "text": [
            "INFO:tensorflow:Found TPU system:\n"
          ]
        },
        {
          "output_type": "stream",
          "name": "stderr",
          "text": [
            "INFO:tensorflow:Found TPU system:\n"
          ]
        },
        {
          "output_type": "stream",
          "name": "stdout",
          "text": [
            "INFO:tensorflow:*** Num TPU Cores: 8\n"
          ]
        },
        {
          "output_type": "stream",
          "name": "stderr",
          "text": [
            "INFO:tensorflow:*** Num TPU Cores: 8\n"
          ]
        },
        {
          "output_type": "stream",
          "name": "stdout",
          "text": [
            "INFO:tensorflow:*** Num TPU Workers: 1\n"
          ]
        },
        {
          "output_type": "stream",
          "name": "stderr",
          "text": [
            "INFO:tensorflow:*** Num TPU Workers: 1\n"
          ]
        },
        {
          "output_type": "stream",
          "name": "stdout",
          "text": [
            "INFO:tensorflow:*** Num TPU Cores Per Worker: 8\n"
          ]
        },
        {
          "output_type": "stream",
          "name": "stderr",
          "text": [
            "INFO:tensorflow:*** Num TPU Cores Per Worker: 8\n"
          ]
        },
        {
          "output_type": "stream",
          "name": "stdout",
          "text": [
            "INFO:tensorflow:*** Available Device: _DeviceAttributes(/job:localhost/replica:0/task:0/device:CPU:0, CPU, 0, 0)\n"
          ]
        },
        {
          "output_type": "stream",
          "name": "stderr",
          "text": [
            "INFO:tensorflow:*** Available Device: _DeviceAttributes(/job:localhost/replica:0/task:0/device:CPU:0, CPU, 0, 0)\n"
          ]
        },
        {
          "output_type": "stream",
          "name": "stdout",
          "text": [
            "INFO:tensorflow:*** Available Device: _DeviceAttributes(/job:worker/replica:0/task:0/device:CPU:0, CPU, 0, 0)\n"
          ]
        },
        {
          "output_type": "stream",
          "name": "stderr",
          "text": [
            "INFO:tensorflow:*** Available Device: _DeviceAttributes(/job:worker/replica:0/task:0/device:CPU:0, CPU, 0, 0)\n"
          ]
        },
        {
          "output_type": "stream",
          "name": "stdout",
          "text": [
            "INFO:tensorflow:*** Available Device: _DeviceAttributes(/job:worker/replica:0/task:0/device:TPU:0, TPU, 0, 0)\n"
          ]
        },
        {
          "output_type": "stream",
          "name": "stderr",
          "text": [
            "INFO:tensorflow:*** Available Device: _DeviceAttributes(/job:worker/replica:0/task:0/device:TPU:0, TPU, 0, 0)\n"
          ]
        },
        {
          "output_type": "stream",
          "name": "stdout",
          "text": [
            "INFO:tensorflow:*** Available Device: _DeviceAttributes(/job:worker/replica:0/task:0/device:TPU:1, TPU, 0, 0)\n"
          ]
        },
        {
          "output_type": "stream",
          "name": "stderr",
          "text": [
            "INFO:tensorflow:*** Available Device: _DeviceAttributes(/job:worker/replica:0/task:0/device:TPU:1, TPU, 0, 0)\n"
          ]
        },
        {
          "output_type": "stream",
          "name": "stdout",
          "text": [
            "INFO:tensorflow:*** Available Device: _DeviceAttributes(/job:worker/replica:0/task:0/device:TPU:2, TPU, 0, 0)\n"
          ]
        },
        {
          "output_type": "stream",
          "name": "stderr",
          "text": [
            "INFO:tensorflow:*** Available Device: _DeviceAttributes(/job:worker/replica:0/task:0/device:TPU:2, TPU, 0, 0)\n"
          ]
        },
        {
          "output_type": "stream",
          "name": "stdout",
          "text": [
            "INFO:tensorflow:*** Available Device: _DeviceAttributes(/job:worker/replica:0/task:0/device:TPU:3, TPU, 0, 0)\n"
          ]
        },
        {
          "output_type": "stream",
          "name": "stderr",
          "text": [
            "INFO:tensorflow:*** Available Device: _DeviceAttributes(/job:worker/replica:0/task:0/device:TPU:3, TPU, 0, 0)\n"
          ]
        },
        {
          "output_type": "stream",
          "name": "stdout",
          "text": [
            "INFO:tensorflow:*** Available Device: _DeviceAttributes(/job:worker/replica:0/task:0/device:TPU:4, TPU, 0, 0)\n"
          ]
        },
        {
          "output_type": "stream",
          "name": "stderr",
          "text": [
            "INFO:tensorflow:*** Available Device: _DeviceAttributes(/job:worker/replica:0/task:0/device:TPU:4, TPU, 0, 0)\n"
          ]
        },
        {
          "output_type": "stream",
          "name": "stdout",
          "text": [
            "INFO:tensorflow:*** Available Device: _DeviceAttributes(/job:worker/replica:0/task:0/device:TPU:5, TPU, 0, 0)\n"
          ]
        },
        {
          "output_type": "stream",
          "name": "stderr",
          "text": [
            "INFO:tensorflow:*** Available Device: _DeviceAttributes(/job:worker/replica:0/task:0/device:TPU:5, TPU, 0, 0)\n"
          ]
        },
        {
          "output_type": "stream",
          "name": "stdout",
          "text": [
            "INFO:tensorflow:*** Available Device: _DeviceAttributes(/job:worker/replica:0/task:0/device:TPU:6, TPU, 0, 0)\n"
          ]
        },
        {
          "output_type": "stream",
          "name": "stderr",
          "text": [
            "INFO:tensorflow:*** Available Device: _DeviceAttributes(/job:worker/replica:0/task:0/device:TPU:6, TPU, 0, 0)\n"
          ]
        },
        {
          "output_type": "stream",
          "name": "stdout",
          "text": [
            "INFO:tensorflow:*** Available Device: _DeviceAttributes(/job:worker/replica:0/task:0/device:TPU:7, TPU, 0, 0)\n"
          ]
        },
        {
          "output_type": "stream",
          "name": "stderr",
          "text": [
            "INFO:tensorflow:*** Available Device: _DeviceAttributes(/job:worker/replica:0/task:0/device:TPU:7, TPU, 0, 0)\n"
          ]
        },
        {
          "output_type": "stream",
          "name": "stdout",
          "text": [
            "INFO:tensorflow:*** Available Device: _DeviceAttributes(/job:worker/replica:0/task:0/device:TPU_SYSTEM:0, TPU_SYSTEM, 0, 0)\n"
          ]
        },
        {
          "output_type": "stream",
          "name": "stderr",
          "text": [
            "INFO:tensorflow:*** Available Device: _DeviceAttributes(/job:worker/replica:0/task:0/device:TPU_SYSTEM:0, TPU_SYSTEM, 0, 0)\n"
          ]
        },
        {
          "output_type": "stream",
          "name": "stdout",
          "text": [
            "INFO:tensorflow:*** Available Device: _DeviceAttributes(/job:worker/replica:0/task:0/device:XLA_CPU:0, XLA_CPU, 0, 0)\n"
          ]
        },
        {
          "output_type": "stream",
          "name": "stderr",
          "text": [
            "INFO:tensorflow:*** Available Device: _DeviceAttributes(/job:worker/replica:0/task:0/device:XLA_CPU:0, XLA_CPU, 0, 0)\n"
          ]
        }
      ],
      "metadata": {
        "id": "ka-cxaFGsMqr",
        "outputId": "1bfd336e-6f89-4683-a0af-db8a7346f1e1",
        "colab": {
          "base_uri": "https://localhost:8080/"
        }
      }
    },
    {
      "cell_type": "markdown",
      "source": [
        "# Mixed Precision"
      ],
      "metadata": {
        "id": "p4xdNRu2tiZq"
      }
    },
    {
      "cell_type": "code",
      "execution_count": 8,
      "source": [
        "with strategy.scope():\n",
        "    if mixed_precision:\n",
        "        mixed_type = \"mixed_bfloat16\" if device == \"TPU\" else \"mixed_float16\"\n",
        "        policy = tf.keras.mixed_precision.experimental.Policy(mixed_type)\n",
        "        tf.keras.mixed_precision.experimental.set_policy(policy)"
      ],
      "outputs": [],
      "metadata": {
        "id": "A0UhTl2BtIIQ"
      }
    },
    {
      "cell_type": "markdown",
      "source": [
        "# Load Dataset"
      ],
      "metadata": {
        "id": "VWVZH3-VuWHh"
      }
    },
    {
      "cell_type": "code",
      "execution_count": 9,
      "source": [
        "with strategy.scope():\n",
        "    tokenizer = AutoTokenizer.from_pretrained(pretrained_tokenizer, use_auth_token=use_auth_token)\n",
        "\n",
        "    dataset = load_dataset(dataset_path, tokenizer, True)\n",
        "    train_dataset = dataset.skip(num_dev_dataset).batch(batch_size)\n",
        "    dev_dataset = dataset.take(num_dev_dataset).batch(dev_batch_size)"
      ],
      "outputs": [
        {
          "output_type": "display_data",
          "data": {
            "text/plain": [
              "Downloading:   0%|          | 0.00/134 [00:00<?, ?B/s]"
            ],
            "application/vnd.jupyter.widget-view+json": {
              "version_major": 2,
              "version_minor": 0,
              "model_id": "036c9fab45bc438fa6d9c24cd3e60265"
            }
          },
          "metadata": {}
        },
        {
          "output_type": "display_data",
          "data": {
            "text/plain": [
              "Downloading:   0%|          | 0.00/1.00k [00:00<?, ?B/s]"
            ],
            "application/vnd.jupyter.widget-view+json": {
              "version_major": 2,
              "version_minor": 0,
              "model_id": "3e8a41efc9814c5ea7447f6ca4ae702a"
            }
          },
          "metadata": {}
        },
        {
          "output_type": "display_data",
          "data": {
            "text/plain": [
              "Downloading:   0%|          | 0.00/1.32M [00:00<?, ?B/s]"
            ],
            "application/vnd.jupyter.widget-view+json": {
              "version_major": 2,
              "version_minor": 0,
              "model_id": "7e92295591a64ea8bc1ae1cfa62af97a"
            }
          },
          "metadata": {}
        },
        {
          "output_type": "display_data",
          "data": {
            "text/plain": [
              "Downloading:   0%|          | 0.00/134 [00:00<?, ?B/s]"
            ],
            "application/vnd.jupyter.widget-view+json": {
              "version_major": 2,
              "version_minor": 0,
              "model_id": "f2d42abbb51b44569fe97c30179b0a61"
            }
          },
          "metadata": {}
        },
        {
          "output_type": "stream",
          "name": "stderr",
          "text": [
            "Special tokens have been added in the vocabulary, make sure the associated word embeddings are fine-tuned or trained.\n"
          ]
        }
      ],
      "metadata": {
        "id": "a73NxJD5tk8s",
        "outputId": "c6acc547-7ec2-4afc-92f2-5d9607826e90",
        "colab": {
          "base_uri": "https://localhost:8080/",
          "height": 184,
          "referenced_widgets": [
            "036c9fab45bc438fa6d9c24cd3e60265",
            "4eb8651d6eaa4629b6b4a9ab9dfc41e5",
            "4bc49e01d5474c219b8b7383c8a0bc6c",
            "c90ceacc08bf4ae3a9539a454920f5e8",
            "6cfca77efdb74802847489b1bbed8dfd",
            "9d1c41433dbb4304b9966f5010e08542",
            "fdd58cad46104fe18a32e7adc61e24d8",
            "99513bce33224f5b9f895874d805574b",
            "e73843a7d07e42fd88cf18be138d7f47",
            "6ea6cbb6712d48a2b896db61fa9a73df",
            "374083404f03437d9e2d4989cd37e585",
            "3e8a41efc9814c5ea7447f6ca4ae702a",
            "55cd00c5a5f54145a6642d94ca792fd2",
            "5626aeb0fbc64de1843fb17bc0aceb5f",
            "c352de5cafb740429f702505035eae21",
            "067ddac3b9c04af5b561ad6c77e16712",
            "564ef0fd1421427689f4c4bcef243609",
            "1d46cfd8e2ae447889403f8fcaf5a1cc",
            "03742eace5e94de59cfdb40ef9469144",
            "0a329160e57e420e8958b32f99d77d2c",
            "6cf4863394284231b237ec98c11f2f1d",
            "2ad1fcd066174b8bb6e58bebff4db9ed",
            "7e92295591a64ea8bc1ae1cfa62af97a",
            "15a095decb6d4fe0b126d29fdeef0913",
            "a2eea18144ec42d0a762d0c9745dd5d1",
            "1cf1108ed67b4981a7a96dcdc7172d6b",
            "84457ebac4074c6a95b868b8135453c2",
            "c6b7aa64e1af41d698b39ab53b89a727",
            "a531cf5899094834be7f18e6abeb1008",
            "ad64c763fcf54b6b9f2fbb0e5da9fc31",
            "4686888684154c0e9e6f43a8543be313",
            "0ea9566e66524e1f80de26c6cb531e33",
            "438b757c9f6841d89d2da2faf3405d60",
            "f2d42abbb51b44569fe97c30179b0a61",
            "ef20821f9c8c4ff8a7406fe4b1927bf7",
            "599f6d9168434d4e89fc2c8508f2640d",
            "fed5f349dede4b30864953a78020f983",
            "6e0d80677fed4127b7ef73f29f77c7bb",
            "82ca9c9622084db28982914b660986ff",
            "3874cbdc1d514df3af819e03282f0ebb",
            "6ba92340a6184702ab58cd63a5f9f632",
            "76d35e118ec94618831145ff1b168cbd",
            "53441a683768410bb78ccb8cad003e22",
            "c3b0ee2f956141e8ab4b97900ab9e9fc"
          ]
        }
      }
    },
    {
      "cell_type": "markdown",
      "source": [
        "# Load Model"
      ],
      "metadata": {
        "id": "dYL-lnWOuZgm"
      }
    },
    {
      "cell_type": "code",
      "execution_count": 10,
      "source": [
        "with strategy.scope():\n",
        "    model = TFAutoModelForSeq2SeqLM.from_pretrained(\n",
        "        pretrained_model, use_auth_token=use_auth_token, from_pt=from_pytorch, use_cache=False\n",
        "    )"
      ],
      "outputs": [
        {
          "output_type": "display_data",
          "data": {
            "text/plain": [
              "Downloading:   0%|          | 0.00/155M [00:00<?, ?B/s]"
            ],
            "application/vnd.jupyter.widget-view+json": {
              "version_major": 2,
              "version_minor": 0,
              "model_id": "3f67a08c83c747f9a87af81ad1c86c89"
            }
          },
          "metadata": {}
        },
        {
          "output_type": "stream",
          "name": "stderr",
          "text": [
            "All model checkpoint layers were used when initializing TFBartForConditionalGeneration.\n",
            "\n",
            "All the layers of TFBartForConditionalGeneration were initialized from the model checkpoint at cosmoquester/bart-ko-small.\n",
            "If your task is similar to the task the model of the checkpoint was trained on, you can already use TFBartForConditionalGeneration for predictions without further training.\n"
          ]
        }
      ],
      "metadata": {
        "id": "LLPZGWhdttFm",
        "outputId": "fb674a1f-9249-4582-c197-f4c3f2e40634",
        "colab": {
          "base_uri": "https://localhost:8080/",
          "height": 144,
          "referenced_widgets": [
            "3f67a08c83c747f9a87af81ad1c86c89",
            "aaa117a2baea4fe7bee96f2447861099",
            "dbe2e36cdb17448988ce9bc11d517559",
            "2935d663039f4ec899d9a7327d35f601",
            "c13956799f444402af6b91d6a3b7f6fe",
            "fe5b76de7e6347e48e111d21d1d977ce",
            "18444aa49ae542a5b8d51e45580757f7",
            "cad2ebfc537445069b343551357392a2",
            "afd64477bfa048628b58d319326ef1a7",
            "bede611a46d148578dbd41053e1b4202",
            "f1394d88184e451da4cc506cd3b1417f"
          ]
        }
      }
    },
    {
      "cell_type": "markdown",
      "source": [
        "# Model Compile"
      ],
      "metadata": {
        "id": "7s_B01rauc7S"
      }
    },
    {
      "cell_type": "code",
      "execution_count": 11,
      "source": [
        "with strategy.scope():\n",
        "    model.compile(\n",
        "        optimizer=tf.optimizers.Adam(\n",
        "            LRScheduler(\n",
        "                len(train_dataset) * epochs,\n",
        "                learning_rate,\n",
        "                min_learning_rate,\n",
        "                warmup_rate,\n",
        "                warmup_steps,\n",
        "            )\n",
        "        ),\n",
        "        loss={\n",
        "            \"logits\": SparseCategoricalCrossentropy(from_logits=True, ignore_index=tokenizer.pad_token_id),\n",
        "            \"encoder_last_hidden_state\": None,\n",
        "        },\n",
        "        metrics={\"logits\": SparseCategoricalAccuracy(ignore_index=tokenizer.pad_token_id, name=\"accuracy\")},\n",
        "    )"
      ],
      "outputs": [],
      "metadata": {
        "id": "cdIgKdMVtw0q"
      }
    },
    {
      "cell_type": "markdown",
      "source": [
        "# Model Training"
      ],
      "metadata": {
        "id": "Kp5JeBv-ueUN"
      }
    },
    {
      "cell_type": "code",
      "execution_count": 12,
      "source": [
        "with strategy.scope():\n",
        "    model.fit(\n",
        "        train_dataset,\n",
        "        validation_data=dev_dataset,\n",
        "        epochs=epochs,\n",
        "        callbacks=[\n",
        "            tf.keras.callbacks.ModelCheckpoint(\n",
        "                path_join(output_path, \"best_model.ckpt\"),\n",
        "                save_weights_only=True,\n",
        "                save_best_only=True,\n",
        "                monitor=\"val_logits_accuracy\",\n",
        "                mode=\"max\",\n",
        "                verbose=1,\n",
        "            ),\n",
        "            tf.keras.callbacks.TensorBoard(\n",
        "                path_join(output_path, \"logs\"), update_freq=tensorboard_update_freq\n",
        "            ),\n",
        "        ] if output_path is not None else None,\n",
        "    )"
      ],
      "outputs": [
        {
          "output_type": "stream",
          "name": "stdout",
          "text": [
            "Epoch 1/2\n",
            "731/731 [==============================] - 103s 58ms/step - loss: 2.8215 - logits_loss: 2.8215 - logits_accuracy: 0.4623 - val_loss: 2.3883 - val_logits_loss: 2.3883 - val_logits_accuracy: 0.5123\n",
            "Epoch 2/2\n",
            "731/731 [==============================] - 31s 43ms/step - loss: 2.2419 - logits_loss: 2.2419 - logits_accuracy: 0.5224 - val_loss: 2.2942 - val_logits_loss: 2.2942 - val_logits_accuracy: 0.5325\n"
          ]
        }
      ],
      "metadata": {
        "id": "a34uOyuQtz71",
        "outputId": "9010995b-6687-466a-d7bb-1df911faf563",
        "colab": {
          "base_uri": "https://localhost:8080/"
        }
      }
    },
    {
      "cell_type": "markdown",
      "source": [
        "# Model Evaluate"
      ],
      "metadata": {
        "id": "DGFUZNarugBN"
      }
    },
    {
      "cell_type": "code",
      "execution_count": 13,
      "source": [
        "with strategy.scope():\n",
        "    loss, _, accuracy = model.evaluate(dev_dataset)"
      ],
      "outputs": [
        {
          "output_type": "stream",
          "name": "stdout",
          "text": [
            "1/1 [==============================] - 1s 1s/step - loss: 2.2942 - logits_loss: 2.2942 - logits_accuracy: 0.5325\n"
          ]
        }
      ],
      "metadata": {
        "id": "64m9DkPzt7XJ",
        "outputId": "7c2a2dc7-1358-4460-92eb-311f40cdcc79",
        "colab": {
          "base_uri": "https://localhost:8080/"
        }
      }
    },
    {
      "cell_type": "markdown",
      "source": [
        "# Prediction"
      ],
      "metadata": {
        "id": "ytifNJOp7nVn"
      }
    },
    {
      "cell_type": "code",
      "execution_count": 14,
      "source": [
        "with strategy.scope():\n",
        "    input_tokens = []\n",
        "    predict_tokens = []\n",
        "    ppls = []\n",
        "    searcher = GenerationSearchWrapper(\n",
        "        model,\n",
        "        max_sequence_length,\n",
        "        tokenizer.convert_tokens_to_ids(tokenizer.bos_token),\n",
        "        tokenizer.convert_tokens_to_ids(tokenizer.eos_token),\n",
        "        tokenizer.convert_tokens_to_ids(tokenizer.pad_token),\n",
        "        beam_size=beam_size,\n",
        "    )\n",
        "    for batch, _ in strategy.experimental_distribute_dataset(dev_dataset):\n",
        "        if beam_size > 0:\n",
        "            output, ppl = strategy.run(searcher.beam_search, args=(batch[\"input_ids\"], batch[\"attention_mask\"]))\n",
        "            output = strategy.gather(output, axis=0)[:, 0, :]\n",
        "            ppl = strategy.gather(ppl, axis=0)[:, 0]\n",
        "        else:\n",
        "            output, ppl = strategy.run(searcher.greedy_search, args=(batch[\"input_ids\"], batch[\"attention_mask\"]))\n",
        "            output = strategy.gather(output, axis=0)\n",
        "            ppl = strategy.gather(ppl, axis=0)\n",
        "        input_tokens.extend(strategy.gather(batch[\"input_ids\"], axis=0).numpy())\n",
        "        predict_tokens.extend(output.numpy())\n",
        "        ppls.extend(ppl.numpy())\n",
        "\n",
        "    input_sentences = tokenizer.batch_decode(input_tokens, skip_special_tokens=True)\n",
        "    predict_sentences = tokenizer.batch_decode(predict_tokens, skip_special_tokens=True)\n",
        "    for question, answer, ppl in zip(input_sentences, predict_sentences, ppls):\n",
        "        print(f\"Q: {question} A: {answer} PPL:{ppl:.2f}\")"
      ],
      "outputs": [
        {
          "output_type": "stream",
          "name": "stdout",
          "text": [
            "Q: 쉬는 날이라고 했는데 만나자는 말이 없어. A: 그럴 때가 있어요. PPL:1.06\n",
            "Q: 술 마시고 싶다 A: 술 마시면서 기분 전환 해보세요. PPL:1.07\n",
            "Q: 짝남이랑 저도 모르게 사이가 어색해졌어요. A: 마음이 복잡하겠어요. PPL:1.06\n",
            "Q: 다른 사람들도 이런 재회 바라나? A: 많이 힘들었겠어요. PPL:1.06\n",
            "Q: 뭐할까? A: 저도요. PPL:1.04\n",
            "Q: 제사를 너무 많이 해 A: 제가 잘해 드릴게요. PPL:1.07\n",
            "Q: 그녀 생일 A: 그녀 생일 축하해요. PPL:1.04\n",
            "Q: 어제 꿈에나온너. A: 꿈은 현실이에요. PPL:1.04\n",
            "Q: 전공 못 살릴듯 A: 전공을 살릴 수 있을 거예요. PPL:1.05\n",
            "Q: 약 먹었더니 졸려 A: 약 먹고 잠이 솔솔 오네요. PPL:1.07\n",
            "Q: 조카 입학 선물 뭐 사냐 A: 좋은 선물이네요. PPL:1.03\n",
            "Q: 왼손잡이가 잘못이야? A: 손잡이가 잘못이에요. PPL:1.04\n",
            "Q: 친구랑 비교 돼 A: 친구랑 비교해보세요. PPL:1.02\n",
            "Q: 그녀는 이별했지만 전 아직 슬픈진행중 A: 사랑은 언제나 사랑이죠. PPL:1.09\n",
            "Q: 좋은꿈 꿨다 생각해 A: 꿈은 현실이에요. PPL:1.04\n",
            "Q: 서류에서 떨어졌어. A: 서류를 사보세요. PPL:1.07\n",
            "Q: 시간 갖는 거 A: 시간은 좀 더 많이 흘러갈 거예요. PPL:1.11\n",
            "Q: 봄 오니까 나도 썸 타고 싶어. A: 썸이 좋을 거 같아요. PPL:1.08\n",
            "Q: 멍청한게 탈이지 A: 멍청한게 아니라 탈이에요. PPL:1.09\n",
            "Q: 나만 제자리인듯 A: 잘하고 있어요. PPL:1.05\n",
            "Q: 2년의 연애에 이별이란 종착역!! A: 이별은 언제나 끝이에요. PPL:1.09\n",
            "Q: 스키 첨 타 봤어. A: 스키 타보세요. PPL:1.06\n",
            "Q: 이 정도면 잘생겼지? A: 잘생겼어요. PPL:1.02\n",
            "Q: 짝녀가 우리 과에서 인기가 너무 많아. A: 짝사랑은 인기가 많아요. PPL:1.08\n",
            "Q: 이별6일차. 정신병자 같네. A: 이별은 정말 힘들죠. PPL:1.08\n",
            "Q: 짝녀가 나한테 먼저 연락올 일은 없겠지? A: 그럴 수도 있어요. PPL:1.05\n",
            "Q: 남자친구가 적극적이지가 않아. A: 친구가 적극적이지 않아요. PPL:1.06\n",
            "Q: 헤어진지 1년이면 재회는 힘들겠죠 A: 힘든 시간이었을텐데 힘들겠어요. PPL:1.10\n",
            "Q: 자꾸 짝녀 얼굴 생각나네. A: 마음이 허전하겠어요. PPL:1.05\n",
            "Q: 단 하루도 널 사랑하지 않은 날이 없었어 A: 사랑은 언제나 사랑이죠. PPL:1.08\n",
            "Q: 올해 이상해 A: 잘 지내고 있어요. PPL:1.05\n",
            "Q: 크리스마스에 뭐 하나 A: 저도요. PPL:1.04\n",
            "Q: 운동화가 나을까? 구두가 나을까? A: 신경쓰이는 구두가 좋죠. PPL:1.07\n",
            "Q: 친구인데 썸 타는 것 같아. A: 친구가 썸 타는 것 같아요. PPL:1.06\n",
            "Q: 여자들은 바람피고 후회할까? A: 그럴 때가 있어요. PPL:1.06\n",
            "Q: 미련스럽다 A: 마음이 복잡하겠어요. PPL:1.06\n",
            "Q: 코 세워 볼까 A: 잘 찾아보세요. PPL:1.04\n",
            "Q: 친구들이랑 가기 좋은 곳 A: 친구들과 가보세요. PPL:1.04\n",
            "Q: 이제 헤어진지 1주일됐어 A: 이제 헤어진지 1주일이 지났네요. PPL:1.07\n",
            "Q: 돌겠다 A: 잘할 수 있을 거예요. PPL:1.05\n",
            "Q: 사랑만 보고 하는 결혼? 사랑 없는 결혼? A: 사랑은 사랑이 아니라 사랑이죠. PPL:1.08\n",
            "Q: 아기 키울 수 있을까 A: 아기 키우는 것도 좋을 거예요. PPL:1.08\n",
            "Q: 짝녀 기분이 안좋아 보여서 신경 쓰임. A: 짝사랑은 신경쓰지 마세요. PPL:1.06\n",
            "Q: 사랑해서 너무 행복해 A: 사랑은 사랑이 아니에요. PPL:1.06\n",
            "Q: 어둠에서 나와야 할 듯 A: 어둠에서 나오는 것도 좋을 거예요. PPL:1.11\n",
            "Q: 남자친구 말고 다른 남자도 궁금해. A: 그 사람이 궁금해요. PPL:1.05\n",
            "Q: 물가가 왜 이렇게 비쌈 A: 물가가 왜 이렇게 많이 올랐는지 생각해보세요. PPL:1.08\n",
            "Q: 이불밖은 위험해 A: 이불은 위험하죠. PPL:1.05\n",
            "Q: 좋아하는 남자애가 게임을 좋아하는데 이야기 오래가는 소재 좀 알려줘. A: 좋아하는 이야기를 많이 하는게 좋겠어요. PPL:1.12\n",
            "Q: 오늘 너무 힘들다 A: 힘내세요. PPL:1.03\n",
            "Q: 이어주려고 해서 더 어색해졌어 A: 이제는 어색해지지 않아요. PPL:1.09\n",
            "Q: 농구해야지 A: 좋은 생각이에요. PPL:1.05\n",
            "Q: 내 생각을 하고는 있을까? A: 생각을 정리하는 것도 중요해요. PPL:1.08\n",
            "Q: 썸남 목소리 듣고 싶어. A: 저도 듣고 싶어요. PPL:1.04\n",
            "Q: 혼술 중 A: 술은 술이 아니에요. PPL:1.07\n",
            "Q: 썸 타는 사람이 셀카 보내는 건 뭐야? A: 기분전환을 해보세요. PPL:1.05\n",
            "Q: 여자예요? 남자예요? A: 여자예요. PPL:1.03\n",
            "Q: 무릎 안 좋으면 스쿼트 하면 안되겠지? A: 무릎이 아프면 피하세요. PPL:1.09\n",
            "Q: 영화 보러 왔어 A: 영화 보러 오세요. PPL:1.02\n",
            "Q: 원래 이별하면 이런건가? A: 사랑은 이별이 아니라 이별이죠. PPL:1.10\n",
            "Q: 밤마다 미치겠어 A: 그럴 수 있어요. PPL:1.04\n",
            "Q: 언제가 제이야기 한번 들어줄 날이오겠죠? A: 제가 들어줄 날이 올 거예요. PPL:1.05\n",
            "Q: 주워담지 못할 말을 했어 A: 잘했어요. PPL:1.04\n",
            "Q: 맞는 선택일까 A: 맞는 선택일 수도 있어요. PPL:1.03\n",
            "Q: 엄마가 언니랑 차별해 A: 엄마가 언니랑 차별하지 마세요. PPL:1.08\n",
            "Q: 우연히 길거리에 만나면 인사를 해야 하나? A: 직접 물어보는 게 좋을 것 같아요. PPL:1.07\n",
            "Q: 진짜 무력하다 A: 이제는 무력하죠. PPL:1.09\n",
            "Q: 어제 만났어 A: 많이 만났나봐요. PPL:1.04\n",
            "Q: 나 사랑하는 사람 생겼어 A: 사랑하는 사람이 생겼네요. PPL:1.06\n",
            "Q: 3년이란 오랜기간 연애를 하다보니 권태기가 찾아오네 A: 이별이 찾아오기도 하죠. PPL:1.10\n",
            "Q: 기 빨렸어 A: 기분전환을 해보세요. PPL:1.05\n",
            "Q: 힘드네. A: 힘들겠어요. PPL:1.02\n",
            "Q: 짝사랑 하는 남자애가 이사 간대. A: 사랑은 언제나 사랑이죠. PPL:1.10\n",
            "Q: 오늘도출근해~ A: 오늘도 힘내세요. PPL:1.03\n",
            "Q: 보내지 못하는 전할 수 없는 메시지 A: 그게 아니라 전하는 것이죠. PPL:1.11\n",
            "Q: 잠이 너무 와 A: 잠을 깨보세요. PPL:1.05\n",
            "Q: 희망이 안보여 A: 저도 몰라요. PPL:1.05\n",
            "Q: 남자친구하고 커플티를 하고싶은데 어디거를 할까? A: 좋은 곳으로 가보세요. PPL:1.05\n",
            "Q: 냉장고에 먹을 게 하나도 없네 A: 맛있게 드세요. PPL:1.02\n",
            "Q: 사랑받는 방법 A: 사랑받는 방법을 찾아보세요. PPL:1.04\n",
            "Q: 이제 내 짝남 못봐. 군대 가거든. A: 마음이 복잡한가봐요. PPL:1.05\n",
            "Q: 오늘처럼 사랑하기 A: 사랑은 언제나 사랑이죠. PPL:1.07\n",
            "Q: 운동 좀 해야겠다. A: 운동을 해보세요. PPL:1.03\n",
            "Q: 남자가 여자를 좋아하는데 약속을 까먹을 수 있나요? A: 연락을 하면서 약속을 지키는게 좋을 것 같아요. PPL:1.13\n",
            "Q: 그리움. A: 그럴 수 있어요. PPL:1.04\n",
            "Q: 썸남한테 뭐라고 카톡하지 A: 그게 중요하지 않아요. PPL:1.08\n",
            "Q: 이별 후 어떻게 될까 A: 이별은 끝이 없어요. PPL:1.06\n",
            "Q: 여드름 났어 A: 여드름이 더 나았나봐요. PPL:1.10\n",
            "Q: 부자친구 스트레스 A: 저도 스트레스 받고 있어요. PPL:1.05\n",
            "Q: 놀러 와라 A: 놀러 오세요. PPL:1.02\n",
            "Q: 여자친구가 커피를 못 마셔서 카페 대신에 갈만한 곳? A: 커피 한잔 하세요. PPL:1.05\n",
            "Q: 항상 선택할 때 힘들어 A: 이제는 선택하는 게 힘들어요. PPL:1.10\n",
            "Q: 오늘 일도 안 했는데 엄청 피곤해 A: 오늘도 피곤하겠어요. PPL:1.05\n",
            "Q: 교회 오빠한테 눈이 가 A: 눈이 오면 눈이 오는 거예요. PPL:1.11\n",
            "Q: 좋아하는 감정을 억제하는 방법은 뭐지. A: 그게 감정의 원인이죠. PPL:1.08\n",
            "Q: 좋아하고 있는 애가 친구를 소개 시켜줬어. A: 친구를 소개해주세요. PPL:1.05\n",
            "Q: 소개팅 해주고 욕먹음 A: 잘하고 있어요. PPL:1.04\n",
            "Q: 7일차 A: 오늘은 쉬어야죠. PPL:1.08\n",
            "Q: 또오늘부터 한달이 시작되었네. A: 마음이 복잡하겠어요. PPL:1.05\n",
            "Q: 다시 한번 더 붙잡고 싶어 ᅲᅲ A: 마음이 복잡하겠어요. PPL:1.06\n",
            "Q: 내일이면 헤어진지 2주 되네. A: 마음이 복잡하겠어요. PPL:1.05\n",
            "Q: 나 정신차리게 말해줘 A: 잘 생각해주세요. PPL:1.05\n",
            "Q: 대놓고 질린대 A: 당신은 질린대요. PPL:1.08\n",
            "Q: 내가 이상한가? A: 그럴 수 있어요. PPL:1.04\n",
            "Q: 친구들이랑 어디 놀러가지 A: 친구들과 놀러가세요. PPL:1.04\n",
            "Q: 위안이 됩니다 A: 안 돼요. PPL:1.04\n",
            "Q: 인관관계 맺는 게 피곤해 A: 인관관계가 중요하죠. PPL:1.06\n",
            "Q: 훔쳐보는 것도 눈치 보임. A: 마음이 복잡하겠어요. PPL:1.07\n",
            "Q: 잊기가 힘듭니다. A: 잊기 힘들겠어요. PPL:1.04\n",
            "Q: 나 바뀌고 싶어 A: 나를 변화시켜보세요. PPL:1.07\n",
            "Q: 나랑 있는게 힘들었나봐 A: 그럴 수 있어요. PPL:1.04\n",
            "Q: 부모님이 이혼하려는 거 같은데 나는 어떻게 하지? A: 부모님이 이혼하려는 건 아닌지 생각해보세요. PPL:1.11\n",
            "Q: 내 남자로 만들기 A: 내 남자로 만들어보세요. PPL:1.05\n",
            "Q: 혼자 좋아하는 이야기. A: 혼자만의 이야기가 아니에요. PPL:1.06\n",
            "Q: 방학 끝나서 좋아 A: 좋은 생각이에요. PPL:1.04\n",
            "Q: 그냥 만남과 헤어짐의 연속 A: 그럴 수 있어요. PPL:1.04\n",
            "Q: 밥 먹어야지 A: 밥 먹고 오세요. PPL:1.04\n",
            "Q: 아픈 첫사랑 A: 아픈 사랑이었나봐요. PPL:1.07\n",
            "Q: 썸남이 둔한듯 A: 썸남이 아니라 썸남이죠. PPL:1.10\n",
            "Q: 너는 내 인생에서 죽었다. A: 그 사람은 당신의 인생을 살아요. PPL:1.12\n",
            "Q: 지금 생각하고 있는건 망상 일뿐입니다 A: 그것도 망상이에요. PPL:1.07\n",
            "Q: 머리 깎고 올게 A: 머리 깎고 오세요. PPL:1.04\n",
            "Q: 괜찮아 지지가 않아 A: 사랑은 언제나 사랑이죠. PPL:1.09\n",
            "Q: 저만 힘든 것 같아요 A: 저도 힘든 것 같아요. PPL:1.04\n",
            "Q: 혼자가 되면 견디기 힘듭니다. A: 힘들겠지만 잘 이겨낼 수 있을 거예요. PPL:1.06\n",
            "Q: 이런 상황 어떻게 해석해야 할까? A: 이런 상황을 어떻게 해석할지 고민이 깊겠어요. PPL:1.13\n",
            "Q: 취직 원츄 A: 직원들과 함께하는 시간이 필요해요. PPL:1.13\n",
            "Q: 너무 힘드네여 A: 힘들겠어요. PPL:1.03\n"
          ]
        }
      ],
      "metadata": {
        "id": "w7D-oTpp7oGL",
        "outputId": "0fdc2fa8-cd8e-4cbf-8218-861eabf6a9c1",
        "colab": {
          "base_uri": "https://localhost:8080/"
        }
      }
    },
    {
      "cell_type": "code",
      "execution_count": null,
      "source": [
        ""
      ],
      "outputs": [],
      "metadata": {
        "id": "M20-PJ-QHQHK"
      }
    }
  ]
}