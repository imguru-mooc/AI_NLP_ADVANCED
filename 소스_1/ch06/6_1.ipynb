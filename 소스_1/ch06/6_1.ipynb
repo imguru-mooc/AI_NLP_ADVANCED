{
 "cells": [
  {
   "cell_type": "markdown",
   "metadata": {},
   "source": [
    "### 기울기 소실과 기울기 폭발의 원인"
   ]
  },
  {
   "cell_type": "code",
   "execution_count": 33,
   "metadata": {},
   "outputs": [
    {
     "data": {
      "image/png": "[encoded data removed]",
      "text/plain": [
       "<Figure size 432x288 with 1 Axes>"
      ]
     },
     "metadata": {
      "needs_background": "light"
     },
     "output_type": "display_data"
    }
   ],
   "source": [
    "import numpy as np\n",
    "import matplotlib.pyplot as plt\n",
    "plt.rc('font', family='Malgun Gothic')\n",
    "\n",
    "N = 2   # 미니배치 크기\n",
    "H = 3   # 은닉 상태 벡터의 차원 수\n",
    "T = 20  # 시계열 데이터의 길이\n",
    "\n",
    "dh = np.ones((N, H))\n",
    "# norm = np.sqrt(np.sum(dh**2)) / N\n",
    "# print(norm)\n",
    "\n",
    "np.random.seed(3) # 재현할 수 있도록 난수의 시드 고정\n",
    "\n",
    "# Wh = np.random.randn(H, H)  # 평균:0, 표준편차:1\n",
    "# print(Wh.T)\n",
    "# dh = np.dot(dh, Wh.T)\n",
    "# print(dh)\n",
    "# norm = np.sqrt(np.sum(dh**2)) / N\n",
    "# print(norm)\n",
    "# Wh = np.random.randn(H, H) * 0.5\n",
    "Wh = np.random.randn(H, H) * 0.7967\n",
    "\n",
    "norm_list = []\n",
    "for t in range(T):\n",
    "    dh = np.dot(dh, Wh.T)\n",
    "    norm = np.sqrt(np.sum(dh**2)) / N\n",
    "    norm_list.append(norm)\n",
    "\n",
    "# print(norm_list)\n",
    "\n",
    "# # 그래프 그리기\n",
    "plt.plot(np.arange(len(norm_list)), norm_list)\n",
    "plt.xticks([0, 4, 9, 14, 19], [1, 5, 10, 15, 20])\n",
    "plt.xlabel('시간 크기(time step)')\n",
    "plt.ylabel('노름(norm)')\n",
    "plt.show()"
   ]
  },
  {
   "cell_type": "markdown",
   "metadata": {},
   "source": [
    "### 기울기 폭발 대책"
   ]
  },
  {
   "cell_type": "code",
   "execution_count": 34,
   "metadata": {},
   "outputs": [
    {
     "name": "stdout",
     "output_type": "stream",
     "text": [
      "before: [2. 2. 2. 3. 3. 3. 4. 4. 4.]\n",
      "9.327379053088816\n",
      "0.5360562099476393\n",
      "4.99999946394379\n",
      "after: [1.07211242 1.07211242 1.07211242 1.60816863 1.60816863 1.60816863\n",
      " 2.14422484 2.14422484 2.14422484]\n"
     ]
    }
   ],
   "source": [
    "import numpy as np\n",
    "\n",
    "np.random.seed(3)\n",
    "# dW = np.random.rand(3, 3) * 5\n",
    "dW = np.array([[2.,2.,2.],\n",
    "               [3.,3.,3.],\n",
    "               [4.,4.,4.]])\n",
    "max_norm = 5.0\n",
    "\n",
    "def clip_grads(grads, max_norm):\n",
    "    total_norm = 0\n",
    "    total_norm += np.sum(grads ** 2)\n",
    "    total_norm = np.sqrt(total_norm)\n",
    "\n",
    "    print(total_norm)\n",
    "    rate = max_norm / (total_norm + 1e-6)\n",
    "    print(rate)\n",
    "    if rate < 1:\n",
    "        grads *= rate\n",
    "        \n",
    "    total_norm = 0\n",
    "    total_norm += np.sum(grads ** 2)\n",
    "    total_norm = np.sqrt(total_norm)\n",
    "    print(total_norm)\n",
    "\n",
    "print('before:', dW.flatten())\n",
    "clip_grads(dW, max_norm)\n",
    "print('after:', dW.flatten())"
   ]
  },
  {
   "cell_type": "code",
   "execution_count": 35,
   "metadata": {},
   "outputs": [
    {
     "name": "stdout",
     "output_type": "stream",
     "text": [
      "before: [5.50797903 7.08147823 2.90904739 5.10827605 8.92946954 8.96293089\n",
      " 1.2558531  2.07242878 0.51467203]\n",
      "21.987874026202668\n",
      "0.22739805433865545\n",
      "4.999999772601945\n",
      "after: [1.25250371 1.61031437 0.66151172 1.16161204 2.030544   2.03815305\n",
      " 0.28557855 0.47126627 0.11703542]\n"
     ]
    }
   ],
   "source": [
    "import numpy as np\n",
    "\n",
    "dW1 = np.random.rand(3, 3) * 10\n",
    "dW2 = np.random.rand(3, 3) * 10\n",
    "grads = [dW1, dW2]\n",
    "max_norm = 5.0\n",
    "\n",
    "\n",
    "def clip_grads(grads, max_norm):\n",
    "    total_norm = 0\n",
    "    for grad in grads:\n",
    "        total_norm += np.sum(grad ** 2)\n",
    "    total_norm = np.sqrt(total_norm)\n",
    "\n",
    "    print(total_norm)\n",
    "    rate = max_norm / (total_norm + 1e-6)\n",
    "    print(rate)\n",
    "    if rate < 1:\n",
    "        for grad in grads:\n",
    "            grad *= rate\n",
    "            \n",
    "    total_norm = 0\n",
    "    for grad in grads:\n",
    "        total_norm += np.sum(grad ** 2)\n",
    "    total_norm = np.sqrt(total_norm)\n",
    "\n",
    "    print(total_norm)\n",
    "\n",
    "\n",
    "print('before:', dW1.flatten())\n",
    "clip_grads(grads, max_norm)\n",
    "print('after:', dW1.flatten())"
   ]
  },
  {
   "cell_type": "code",
   "execution_count": null,
   "metadata": {},
   "outputs": [],
   "source": []
  }
 ],
 "metadata": {
  "kernelspec": {
   "display_name": "Python 3 (ipykernel)",
   "language": "python",
   "name": "python3"
  },
  "language_info": {
   "codemirror_mode": {
    "name": "ipython",
    "version": 3
   },
   "file_extension": ".py",
   "mimetype": "text/x-python",
   "name": "python",
   "nbconvert_exporter": "python",
   "pygments_lexer": "ipython3",
   "version": "3.9.7"
  }
 },
 "nbformat": 4,
 "nbformat_minor": 4
}
